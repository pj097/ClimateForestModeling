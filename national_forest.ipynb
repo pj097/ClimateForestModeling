{
 "cells": [
  {
   "cell_type": "code",
   "execution_count": null,
   "id": "bde2d162-6679-47fd-8640-96898c1bd707",
   "metadata": {},
   "outputs": [],
   "source": [
    "import pandas as pd\n",
    "import geopandas as gpd\n",
    "from pathlib import Path\n",
    "import plotly.express as px\n",
    "import matplotlib.pyplot as plt"
   ]
  },
  {
   "cell_type": "code",
   "execution_count": null,
   "id": "b778a426-afd4-4be4-ba77-45b34ebc5f65",
   "metadata": {},
   "outputs": [],
   "source": [
    "gdf = gpd.read_file(Path('data').joinpath('National_Forest_Inventory_Woodland_GB_2021.geojson'))"
   ]
  },
  {
   "cell_type": "code",
   "execution_count": null,
   "id": "f0a1e268-c87f-4410-bcce-985af0c84e5e",
   "metadata": {},
   "outputs": [],
   "source": [
    "gdf.columns"
   ]
  },
  {
   "cell_type": "code",
   "execution_count": null,
   "id": "4c021d8b-421a-490d-9146-5eb69f4f91a3",
   "metadata": {},
   "outputs": [],
   "source": [
    "gdf['CATEGORY'].unique()"
   ]
  },
  {
   "cell_type": "code",
   "execution_count": null,
   "id": "88da8d0c-b381-4b56-84fa-e45574ddb513",
   "metadata": {},
   "outputs": [],
   "source": [
    "gdf['IFT_IOA'].unique()"
   ]
  },
  {
   "cell_type": "code",
   "execution_count": null,
   "id": "9f06b4b6-bede-4680-9c5f-43627e353480",
   "metadata": {},
   "outputs": [],
   "source": [
    "gdf.plot()"
   ]
  },
  {
   "cell_type": "code",
   "execution_count": null,
   "id": "dec898b9-18db-40c6-87e8-5608cf5938fa",
   "metadata": {},
   "outputs": [],
   "source": [
    "woodlands = gdf[gdf['CATEGORY'] == 'Woodland']"
   ]
  },
  {
   "cell_type": "code",
   "execution_count": null,
   "id": "b00abc04-67f4-4522-b580-f85ca2a1e52c",
   "metadata": {},
   "outputs": [],
   "source": [
    "woodlands['IFT_IOA'].unique()"
   ]
  },
  {
   "cell_type": "code",
   "execution_count": null,
   "id": "06869321-4ac3-48da-abcf-752ae8c6df07",
   "metadata": {},
   "outputs": [],
   "source": [
    "fig = px.histogram(woodlands, x=woodlands['IFT_IOA'], text_auto=True)\n",
    "fig.update_xaxes(categoryorder=\"total descending\")\n",
    "fig.update_layout(xaxis_title=\"Category\", yaxis_title=\"Occurrences\")"
   ]
  },
  {
   "cell_type": "code",
   "execution_count": null,
   "id": "c142e0ce-c40f-441e-9148-767bab655c2c",
   "metadata": {},
   "outputs": [],
   "source": [
    "area_sum_km2 = woodlands.groupby('IFT_IOA')['Area_ha'].sum()/100\n",
    "fig = px.histogram(x=area_sum_km2.index, y=area_sum_km2.values.round(), text_auto=True)\n",
    "fig.update_xaxes(categoryorder=\"total descending\")\n",
    "fig.update_layout(xaxis_title=\"Category\", yaxis_title=f\"Area in km\\N{SUPERSCRIPT TWO}\")"
   ]
  },
  {
   "cell_type": "code",
   "execution_count": null,
   "id": "752bfc6a-5a1c-4970-8c69-d716ba8e48a8",
   "metadata": {},
   "outputs": [],
   "source": [
    "area_sum_60by60m = woodlands.groupby('IFT_IOA')['Area_ha'].sum()/100/(0.06*0.06)\n",
    "fig = px.histogram(x=area_sum_60by60m.index, y=area_sum_60by60m.values.round(), text_auto=True)\n",
    "fig.update_xaxes(categoryorder=\"total descending\")\n",
    "fig.update_layout(xaxis_title=\"Category\", yaxis_title='Area in arbitrary units', title=f\"Area in units of 60 m by 60 m\")"
   ]
  },
  {
   "cell_type": "code",
   "execution_count": null,
   "id": "0c4760f3-b767-4e81-a9d6-ee875d2c71d1",
   "metadata": {},
   "outputs": [],
   "source": [
    "binary_woodlands = woodlands[woodlands['IFT_IOA'].isin(['Broadleaved', 'Conifer'])]\n",
    "\n",
    "# fig, ax = plt.subplots()\n",
    "# binary_woodlands.plot(column='IFT_IOA', legend=True, cmap='jet', ax=ax)"
   ]
  },
  {
   "cell_type": "code",
   "execution_count": null,
   "id": "0e568b3b-a7a8-4ad9-91f2-f5766206f76b",
   "metadata": {},
   "outputs": [],
   "source": [
    "import datashader as ds\n",
    "from matplotlib.cm import hot\n",
    "import datashader.transfer_functions as tf\n",
    "import seaborn\n",
    "\n",
    "def plot_large_gpd(df, target='IFT_IOA'):\n",
    "    canvas = ds.Canvas(plot_width=1000, plot_height=1000)\n",
    "    reduced_data = canvas.polygons(df, geometry='geometry', agg=ds.count_cat(target))\n",
    "    \n",
    "    coords_lat, coords_lon = reduced_data.coords['y'].values, reduced_data.coords['x'].values\n",
    "    coordinates = [\n",
    "        [coords_lon[0], coords_lat[0]],\n",
    "        [coords_lon[-1], coords_lat[0]],\n",
    "        [coords_lon[-1], coords_lat[-1]],\n",
    "        [coords_lon[0], coords_lat[-1]]]\n",
    "    \n",
    "    n_colors = seaborn.color_palette(\"dark:#5A9_r\", df[target].nunique()).as_hex()\n",
    "    color_key = dict(zip(df[target].unique(), n_colors))\n",
    "    \n",
    "    img = tf.shade(reduced_data, color_key=color_key)[::-1].to_pil()\n",
    "\n",
    "    \n",
    "    fig = px.scatter_mapbox(\n",
    "                            lat=reduced_data.coords['y'].values, \n",
    "                            lon=reduced_data.coords['x'].values, \n",
    "                            zoom=4,width=1000, height=1000)\n",
    "    \n",
    "    fig.update_layout(\n",
    "        mapbox_style=\"carto-darkmatter\",\n",
    "        mapbox_layers = [\n",
    "            {\n",
    "            \"sourcetype\": \"image\",\n",
    "            \"source\": img,\n",
    "            \"coordinates\": coordinates\n",
    "            }]\n",
    "    )\n",
    "    return fig\n",
    "\n",
    "df = binary_woodlands.copy()#.to_crs(crs='EPSG:3857')\n",
    "df['IFT_IOA'] = df['IFT_IOA'].astype('category')\n",
    "# fig = plot_large_gpd(df)"
   ]
  },
  {
   "cell_type": "code",
   "execution_count": null,
   "id": "fca7b38d-3235-41fa-adb0-535c203af5b7",
   "metadata": {},
   "outputs": [],
   "source": [
    "fig"
   ]
  },
  {
   "cell_type": "code",
   "execution_count": null,
   "id": "29a451b0-ccac-4e58-a6eb-fca59e904d15",
   "metadata": {},
   "outputs": [],
   "source": [
    "canvas = ds.Canvas(plot_width=1000, plot_height=1000)\n",
    "reduced_data = canvas.polygons(df, geometry='geometry', agg=ds.count_cat('IFT_IOA'))\n",
    "color_key = dict(zip(df['IFT_IOA'].unique(), seaborn.color_palette(\"dark:#5A9_r\", df['IFT_IOA'].nunique()).as_hex()))\n",
    "img = tf.shade(reduced_data, color_key=color_key)[::-1].to_pil()\n",
    "px.imshow(img, origin='lower', width=1000, height=1000)"
   ]
  },
  {
   "cell_type": "code",
   "execution_count": null,
   "id": "0e2801b0-9202-4f5f-b9b3-fabc27d83003",
   "metadata": {},
   "outputs": [],
   "source": [
    "import os, colorcet, param as pm, holoviews as hv, panel as pn, datashader as ds\n",
    "import intake\n",
    "from holoviews.element import tiles as hvts\n",
    "from holoviews.operation.datashader import rasterize, shade, spread\n",
    "\n",
    "import holoviews.operation.datashader as hd\n",
    "\n",
    "from collections import OrderedDict as odict\n",
    "\n",
    "hv.extension('bokeh', logo=False)"
   ]
  },
  {
   "cell_type": "code",
   "execution_count": null,
   "id": "ad6fb08c-eff8-47a6-9c48-696f87158770",
   "metadata": {},
   "outputs": [],
   "source": []
  },
  {
   "cell_type": "code",
   "execution_count": null,
   "id": "818dec56-9a0d-4269-be62-6fe4bea2b638",
   "metadata": {},
   "outputs": [],
   "source": []
  },
  {
   "cell_type": "code",
   "execution_count": null,
   "id": "5680253d-f0d7-40d6-8e34-eed7ce96505b",
   "metadata": {},
   "outputs": [],
   "source": [
    "df.hvplot.scatter(x='longitude', y='latitude', rasterize=True, cnorm='eq_hist', dynspread=True)"
   ]
  },
  {
   "cell_type": "code",
   "execution_count": null,
   "id": "307fe80e-482d-4344-92d8-71a9da9be604",
   "metadata": {},
   "outputs": [],
   "source": []
  }
 ],
 "metadata": {
  "kernelspec": {
   "display_name": "Python 3 (ipykernel)",
   "language": "python",
   "name": "python3"
  },
  "language_info": {
   "codemirror_mode": {
    "name": "ipython",
    "version": 3
   },
   "file_extension": ".py",
   "mimetype": "text/x-python",
   "name": "python",
   "nbconvert_exporter": "python",
   "pygments_lexer": "ipython3",
   "version": "3.10.13"
  }
 },
 "nbformat": 4,
 "nbformat_minor": 5
}
