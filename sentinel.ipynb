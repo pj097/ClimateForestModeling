{
 "cells": [
  {
   "cell_type": "code",
   "execution_count": null,
   "metadata": {},
   "outputs": [],
   "source": [
    "import ee\n",
    "# from geemap import geemap\n",
    "import pandas as pd\n",
    "import geemap.plotlymap as geemap"
   ]
  },
  {
   "cell_type": "code",
   "execution_count": null,
   "metadata": {},
   "outputs": [],
   "source": [
    "ee.Authenticate()\n",
    "ee.Initialize(project='sentinel-treeclassification')\n",
    "\n",
    "london_trees_df = pd.read_csv(\"data/Borough_tree_list_2021July.csv\")"
   ]
  },
  {
   "cell_type": "code",
   "execution_count": null,
   "metadata": {},
   "outputs": [],
   "source": [
    "def mask_s2_clouds(image):\n",
    "  # Quality assessment with resolution in meters\n",
    "  qa = image.select('QA60')\n",
    "\n",
    "  # Bits 10 and 11 are clouds and cirrus, respectively.\n",
    "  cloud_bit_mask = 1 << 10\n",
    "  cirrus_bit_mask = 1 << 11\n",
    "\n",
    "  # Both flags should be set to zero, indicating clear conditions.\n",
    "  mask = (\n",
    "      qa.bitwiseAnd(cloud_bit_mask)\n",
    "      .eq(0)\n",
    "      .And(qa.bitwiseAnd(cirrus_bit_mask).eq(0))\n",
    "  )\n",
    "\n",
    "  return image.updateMask(mask)\n",
    "\n",
    "\n",
    "dataset = (\n",
    "    ee.ImageCollection('COPERNICUS/S2_SR_HARMONIZED')\n",
    "    .filterDate('2020-01-01', '2020-01-30')\n",
    "    # Pre-filter to get less cloudy granules.\n",
    "    .filter(ee.Filter.lt('CLOUDY_PIXEL_PERCENTAGE', 20))\n",
    "    .map(mask_s2_clouds)\n",
    ")\n",
    "\n",
    "# tci_bands = ['TCI_R', 'TCI_G', 'TCI_B']\n",
    "# tci_max = 0.02550000138580799\n",
    "rgb_max = 3000\n",
    "rgb_bands = ['B4', 'B3', 'B2']\n",
    "visualization = {\n",
    "    'min': 0.0,\n",
    "    'max': rgb_max,\n",
    "    'bands': rgb_bands,\n",
    "}\n",
    "\n",
    "m = geemap.Map()\n",
    "m.set_center(51.5, 0.1, 12)\n",
    "m.addLayer(dataset.mean(), visualization, 'RGB')"
   ]
  },
  {
   "cell_type": "code",
   "execution_count": null,
   "metadata": {},
   "outputs": [],
   "source": [
    "# m = m.add_scattergeo(lat=london_trees_df['latitude'], lon=london_trees_df['longitude'])"
   ]
  },
  {
   "cell_type": "code",
   "execution_count": null,
   "metadata": {},
   "outputs": [],
   "source": [
    "# import plotly.io as pio\n",
    "# pio.renderers.default = \"vscode\"\n",
    "# m.show()\n",
    "m"
   ]
  },
  {
   "cell_type": "code",
   "execution_count": null,
   "metadata": {},
   "outputs": [],
   "source": [
    "poi = ee.Geometry.Point([83.277, 17.7009])\n",
    "dataset.select(\"B2\").max().reduceRegion(ee.Reducer.first(), poi, 30)"
   ]
  },
  {
   "cell_type": "code",
   "execution_count": null,
   "metadata": {},
   "outputs": [],
   "source": [
    "pixel_side = 1000\n",
    "buffer_meters = 10*pixel_side/2 - 10\n",
    "region = poi.buffer(buffer_meters).bounds()\n",
    "m.layer_to_image('RGB', output=f'sample_{pixel_side}_pixelside.png', region=region, scale=10)\n"
   ]
  },
  {
   "cell_type": "code",
   "execution_count": null,
   "metadata": {},
   "outputs": [],
   "source": [
    "clipped_image = dataset.mean().clip(region)\n",
    "m = geemap.Map()\n",
    "m.set_center(83.277, 17.7009, 12)\n",
    "m.add_layer(clipped_image, visualization, 'RGB')\n",
    "m"
   ]
  },
  {
   "cell_type": "code",
   "execution_count": null,
   "metadata": {},
   "outputs": [],
   "source": [
    "clipped_image.select('B2') "
   ]
  },
  {
   "cell_type": "code",
   "execution_count": null,
   "metadata": {},
   "outputs": [],
   "source": [
    "# A Sentinel-2 surface reflectance image, reflectance bands selected,\n",
    "# serves as the source for training and prediction in this contrived example.\n",
    "img = ee.Image(\n",
    "    'COPERNICUS/S2_SR/20210109T185751_20210109T185931_T10SEG'\n",
    ").select('B.*')\n",
    "\n",
    "# ESA WorldCover land cover map, used as label source in classifier training.\n",
    "lc = ee.Image('ESA/WorldCover/v100/2020')\n",
    "\n",
    "# Remap the land cover class values to a 0-based sequential series.\n",
    "class_values = [10, 20, 30, 40, 50, 60, 70, 80, 90, 95, 100]\n",
    "remap_values = ee.List.sequence(0, 10)\n",
    "label = 'lc'\n",
    "lc = lc.remap(class_values, remap_values).rename(label).toByte()\n",
    "\n",
    "# Add land cover as a band of the reflectance image and sample 100 pixels at\n",
    "# 10 m scale from each land cover class within a region of interest.\n",
    "roi = ee.Geometry.Rectangle(-122.347, 37.743, -122.024, 37.838)\n",
    "sample = img.addBands(lc).stratifiedSample(\n",
    "    numPoints=100, classBand=label, region=roi, scale=10, geometries=True\n",
    ")\n",
    "\n",
    "# Add a random value field to the sample and use it to approximately split 80%\n",
    "# of the features into a training set and 20% into a validation set.\n",
    "sample = sample.randomColumn()\n",
    "training_sample = sample.filter('random <= 0.8')\n",
    "validation_sample = sample.filter('random > 0.8')\n",
    "\n",
    "# Train a 10-tree random forest classifier from the training sample.\n",
    "trained_classifier = ee.Classifier.smileRandomForest(10).train(\n",
    "    features=training_sample,\n",
    "    classProperty=label,\n",
    "    inputProperties=img.bandNames(),\n",
    ")\n",
    "\n",
    "# Get information about the trained classifier.\n",
    "display('Results of trained classifier', trained_classifier.explain())\n",
    "\n",
    "# Get a confusion matrix and overall accuracy for the training sample.\n",
    "train_accuracy = trained_classifier.confusionMatrix()\n",
    "display('Training error matrix', train_accuracy)\n",
    "display('Training overall accuracy', train_accuracy.accuracy())\n",
    "\n",
    "# Get a confusion matrix and overall accuracy for the validation sample.\n",
    "validation_sample = validation_sample.classify(trained_classifier)\n",
    "validation_accuracy = validation_sample.errorMatrix(label, 'classification')\n",
    "display('Validation error matrix', validation_accuracy)\n",
    "display('Validation accuracy', validation_accuracy.accuracy())\n",
    "\n",
    "# Classify the reflectance image from the trained classifier.\n",
    "img_classified = img.classify(trained_classifier)\n",
    "\n",
    "# Add the layers to the map.\n",
    "class_vis = {\n",
    "    'min': 0,\n",
    "    'max': 10,\n",
    "    'palette': [\n",
    "        '006400',\n",
    "        'ffbb22',\n",
    "        'ffff4c',\n",
    "        'f096ff',\n",
    "        'fa0000',\n",
    "        'b4b4b4',\n",
    "        'f0f0f0',\n",
    "        '0064c8',\n",
    "        '0096a0',\n",
    "        '00cf75',\n",
    "        'fae6a0',\n",
    "    ],\n",
    "}\n",
    "m = geemap.Map()\n",
    "m.set_center(-122.184, 37.796, 12)\n",
    "m.add_layer(\n",
    "    img, {'bands': ['B11', 'B8', 'B3'], 'min': 100, 'max': 3500}, 'img'\n",
    ")\n",
    "m.add_layer(lc, class_vis, 'lc')\n",
    "m.add_layer(img_classified, class_vis, 'Classified')\n",
    "m.add_layer(roi, {'color': 'white'}, 'ROI', False, 0.5)\n",
    "m.add_layer(training_sample, {'color': 'black'}, 'Training sample', False)\n",
    "m.add_layer(\n",
    "    validation_sample, {'color': 'white'}, 'Validation sample', False\n",
    ")\n",
    "m"
   ]
  },
  {
   "cell_type": "code",
   "execution_count": null,
   "metadata": {},
   "outputs": [],
   "source": [
    "sample"
   ]
  },
  {
   "cell_type": "code",
   "execution_count": null,
   "metadata": {},
   "outputs": [],
   "source": []
  },
  {
   "cell_type": "code",
   "execution_count": null,
   "metadata": {},
   "outputs": [],
   "source": []
  },
  {
   "cell_type": "code",
   "execution_count": null,
   "metadata": {},
   "outputs": [],
   "source": []
  }
 ],
 "metadata": {
  "kernelspec": {
   "display_name": "Python 3 (ipykernel)",
   "language": "python",
   "name": "python3"
  },
  "language_info": {
   "codemirror_mode": {
    "name": "ipython",
    "version": 3
   },
   "file_extension": ".py",
   "mimetype": "text/x-python",
   "name": "python",
   "nbconvert_exporter": "python",
   "pygments_lexer": "ipython3",
   "version": "3.10.13"
  }
 },
 "nbformat": 4,
 "nbformat_minor": 4
}
