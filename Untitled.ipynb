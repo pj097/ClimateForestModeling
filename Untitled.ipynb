{
 "cells": [
  {
   "cell_type": "code",
   "execution_count": 3,
   "id": "97cc6596-7304-43ee-8d26-a60e152a7b86",
   "metadata": {},
   "outputs": [],
   "source": [
    "import numpy as np\n",
    "\n",
    "\n",
    "data = np.load('treesatai/data/treesat_012019.npy')"
   ]
  },
  {
   "cell_type": "code",
   "execution_count": 11,
   "id": "9d089dbf-6bad-4b5d-8caa-876b964acde6",
   "metadata": {},
   "outputs": [
    {
     "data": {
      "text/plain": [
       "array([(347.33333333, 399.        , 562.        , 877.66666667, 1238.        , 1451.        , 1879.        , 1907.33333333, 1375.        , 911.33333333, 57.66666667, 41.66666667, 35.66666667),\n",
       "       (323.66666667, 380.        , 545.        , 877.66666667, 1238.        , 1451.        , 1834.66666667, 1907.33333333, 1375.        , 911.33333333, 56.66666667, 38.66666667, 32.33333333),\n",
       "       (305.        , 366.        , 523.33333333, 867.        , 1242.66666667, 1446.33333333, 1793.33333333, 1853.66666667, 1338.33333333, 891.        , 53.33333333, 38.        , 31.33333333),\n",
       "       (317.66666667, 393.33333333, 549.        , 847.        , 1201.66666667, 1424.        , 1830.66666667, 1835.        , 1296.66666667, 868.66666667, 56.33333333, 41.        , 32.66666667),\n",
       "       (305.        , 382.33333333, 517.33333333, 847.        , 1201.66666667, 1424.        , 1740.66666667, 1835.        , 1296.66666667, 868.66666667, 53.        , 39.        , 32.33333333),\n",
       "       (332.        , 391.66666667, 538.33333333, 833.66666667, 1219.        , 1448.33333333, 1832.        , 1909.        , 1342.        , 868.66666667, 54.66666667, 40.33333333, 34.        )],\n",
       "      dtype=[('B2', '<f8'), ('B3', '<f8'), ('B4', '<f8'), ('B5', '<f8'), ('B6', '<f8'), ('B7', '<f8'), ('B8', '<f8'), ('B8A', '<f8'), ('B11', '<f8'), ('B12', '<f8'), ('TCI_R', '<f8'), ('TCI_G', '<f8'), ('TCI_B', '<f8')])"
      ]
     },
     "execution_count": 11,
     "metadata": {},
     "output_type": "execute_result"
    }
   ],
   "source": [
    "data[0][0]"
   ]
  },
  {
   "cell_type": "code",
   "execution_count": null,
   "id": "0a5043ec-5f19-480f-816e-4e718dcb1493",
   "metadata": {},
   "outputs": [],
   "source": []
  }
 ],
 "metadata": {
  "kernelspec": {
   "display_name": "Python 3 (ipykernel)",
   "language": "python",
   "name": "python3"
  },
  "language_info": {
   "codemirror_mode": {
    "name": "ipython",
    "version": 3
   },
   "file_extension": ".py",
   "mimetype": "text/x-python",
   "name": "python",
   "nbconvert_exporter": "python",
   "pygments_lexer": "ipython3",
   "version": "3.12.1"
  }
 },
 "nbformat": 4,
 "nbformat_minor": 5
}
