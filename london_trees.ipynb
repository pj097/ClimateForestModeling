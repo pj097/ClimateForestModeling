{
 "cells": [
  {
   "cell_type": "code",
   "execution_count": null,
   "id": "b4dd1e06-839f-4dc9-82b2-ffbd2f5462b8",
   "metadata": {},
   "outputs": [],
   "source": [
    "import pandas as pd\n",
    "import geopandas as gpd\n",
    "import shapely\n",
    "import numpy as np\n",
    "import plotly.express as px\n",
    "import plotly.offline as py_offline\n",
    "import matplotlib.pyplot as plt\n",
    "import json\n",
    "import pickle\n",
    "from tqdm import tqdm\n",
    "import rasterio\n",
    "import rasterio.mask\n",
    "from pathlib import Path"
   ]
  },
  {
   "cell_type": "code",
   "execution_count": null,
   "id": "fb85f8ae-7f7c-49b7-afbf-601d83398df8",
   "metadata": {},
   "outputs": [],
   "source": [
    "from sklearn.model_selection import train_test_split\n",
    "from sklearn.cluster import AgglomerativeClustering"
   ]
  },
  {
   "cell_type": "code",
   "execution_count": null,
   "id": "0bfd43ff-ef41-4cb0-b5fa-6fe7ae0809de",
   "metadata": {},
   "outputs": [],
   "source": [
    "import ee\n",
    "import geemap.plotlymap as geemap"
   ]
  },
  {
   "cell_type": "code",
   "execution_count": null,
   "id": "86ca1910-33a4-424b-bb66-128c375f5629",
   "metadata": {},
   "outputs": [],
   "source": [
    "ee.Authenticate()\n",
    "ee.Initialize(project='sentinel-treeclassification')"
   ]
  },
  {
   "cell_type": "code",
   "execution_count": null,
   "id": "10f38313-fb36-4258-9b3f-b233bf90e36b",
   "metadata": {},
   "outputs": [],
   "source": [
    "target_column = 'tree_name'\n",
    "usecols = ['latitude', 'longitude'] + [target_column, 'load_date']\n",
    "trees_df = pd.read_csv(\"data/Borough_tree_list_2021July.csv\", usecols=usecols, parse_dates=['load_date'])\n",
    "trees_df.info()"
   ]
  },
  {
   "cell_type": "code",
   "execution_count": null,
   "id": "ecb78fa8-da4d-4c7b-9012-807b4ccadc16",
   "metadata": {},
   "outputs": [],
   "source": [
    "trees_df[target_column].unique()"
   ]
  },
  {
   "cell_type": "code",
   "execution_count": null,
   "id": "50f5ae2e-e1e0-4206-b626-50cc26a0dca5",
   "metadata": {},
   "outputs": [],
   "source": [
    "trees_df[target_column].isna().sum()"
   ]
  },
  {
   "cell_type": "code",
   "execution_count": null,
   "id": "99619605-45da-4d6b-9014-a954be50f852",
   "metadata": {},
   "outputs": [],
   "source": [
    "trees_df = trees_df.dropna(subset=target_column)\n",
    "trees_df.isna().sum()"
   ]
  },
  {
   "cell_type": "code",
   "execution_count": null,
   "id": "81e08cfb-1ed0-422b-8254-b870e3522cbf",
   "metadata": {},
   "outputs": [],
   "source": [
    "london_trees_mapbox = px.scatter_mapbox(trees_df.sample(n=10000), lat=\"latitude\", lon=\"longitude\", color=target_column,\n",
    "                        zoom=10, mapbox_style=\"carto-darkmatter\", height=800)\n",
    "london_trees_mapbox"
   ]
  },
  {
   "cell_type": "code",
   "execution_count": null,
   "id": "3b300120-ff11-49e5-9d7e-f6a55510e3a5",
   "metadata": {},
   "outputs": [],
   "source": [
    "trees_df['load_date'].value_counts()"
   ]
  },
  {
   "cell_type": "code",
   "execution_count": null,
   "id": "d4bf6b36-bc9e-40a1-8c26-e2a262e4ee90",
   "metadata": {},
   "outputs": [],
   "source": [
    "date_indices = trees_df['load_date'].value_counts().index"
   ]
  },
  {
   "cell_type": "code",
   "execution_count": null,
   "id": "72c89c31-83d2-4af9-988b-9ce052b8f18e",
   "metadata": {},
   "outputs": [],
   "source": [
    "trees_df['load_date'][trees_df['load_date'] == date_indices[2]] = date_indices[1]\n",
    "trees_df['load_date'].value_counts()"
   ]
  },
  {
   "cell_type": "code",
   "execution_count": null,
   "id": "7d3477a6-e1ad-413c-9208-bccaa5bdd71d",
   "metadata": {},
   "outputs": [],
   "source": [
    "px.histogram(trees_df, x=target_column, text_auto=True).update_xaxes(categoryorder=\"total descending\")"
   ]
  },
  {
   "cell_type": "code",
   "execution_count": null,
   "id": "57b9ec20-1445-4986-8b71-4c9a9a451cb2",
   "metadata": {},
   "outputs": [],
   "source": [
    "trees_gdf = gpd.GeoDataFrame(\n",
    "    trees_df, geometry=gpd.points_from_xy(x=trees_df['longitude'], y=trees_df['latitude'], crs=4326)\n",
    ")\n",
    "# trees_gdf = trees_gdf.drop(['longitude', 'latitude'], axis=1)\n",
    "trees_gdf.head(1)\n",
    "trees_gdf['tree_name'].isna().sum()"
   ]
  },
  {
   "cell_type": "code",
   "execution_count": null,
   "id": "b74c8170-77f3-459e-8866-ecac8ef1d51d",
   "metadata": {},
   "outputs": [],
   "source": [
    "total_bounds = trees_gdf.to_crs(epsg=6933).buffer(100, cap_style=3).to_crs(epsg=4326).geometry.total_bounds\n",
    "london_trees_bbox = ee.Geometry.BBox(*total_bounds)"
   ]
  },
  {
   "cell_type": "code",
   "execution_count": null,
   "id": "5863b7e8-8513-49f7-9050-397255525bfa",
   "metadata": {},
   "outputs": [],
   "source": [
    "london_trees_centroid = trees_gdf.dissolve().to_crs(epsg=6933).centroid.to_crs(epsg=4326)[0]"
   ]
  },
  {
   "cell_type": "code",
   "execution_count": null,
   "id": "e74830db-6846-4693-b568-e21f7a50ee15",
   "metadata": {},
   "outputs": [],
   "source": [
    "class SentinelGetter:\n",
    "    def mask_s2_clouds(self, image):\n",
    "      # Quality assessment with resolution in meters\n",
    "      qa = image.select('QA60')\n",
    "      # Bits 10 and 11 are clouds and cirrus, respectively.\n",
    "      cloud_bit_mask = 1 << 10\n",
    "      cirrus_bit_mask = 1 << 11\n",
    "      # Both flags should be set to zero, indicating clear conditions.\n",
    "      mask = (\n",
    "          qa.bitwiseAnd(cloud_bit_mask)\n",
    "          .eq(0)\n",
    "          .And(qa.bitwiseAnd(cirrus_bit_mask).eq(0))\n",
    "      )\n",
    "      return image.updateMask(mask)\n",
    "\n",
    "    def get_image(self, center_date, bbox):\n",
    "        modified_data = center_date.replace(month=9, year=center_date.year-1)\n",
    "        month = pd.DateOffset(months=2)\n",
    "        image = (\n",
    "            ee.ImageCollection('COPERNICUS/S2_SR_HARMONIZED')\n",
    "            .filterDate(modified_data - month, modified_data + month)\n",
    "            # Pre-filter to get less cloudy granules.\n",
    "            .filter(ee.Filter.lt('CLOUDY_PIXEL_PERCENTAGE', 20))\n",
    "            .map(self.mask_s2_clouds)\n",
    "            .mean()\n",
    "            .clip(bbox)\n",
    "        )\n",
    "        return image"
   ]
  },
  {
   "cell_type": "code",
   "execution_count": null,
   "id": "2155749c-eaed-4d4d-a267-1edce0db845d",
   "metadata": {},
   "outputs": [],
   "source": [
    "sentinel_image_2020 = SentinelGetter().get_image(date_indices[1], london_trees_bbox)\n",
    "sentinel_image_2018 = SentinelGetter().get_image(date_indices[0], london_trees_bbox)\n",
    "def visualise_ee_image(center_to_coords, sentinel_image, zoom=10):\n",
    "    rgb_max = 3000\n",
    "    rgb_bands = ['B4', 'B3', 'B2']\n",
    "    visualization = {\n",
    "        'min': 0.0,\n",
    "        'max': rgb_max,\n",
    "        'bands': rgb_bands,\n",
    "        'layer': \"below\",\n",
    "    }\n",
    "\n",
    "    map = geemap.Map(center=center_to_coords, zoom=zoom)\n",
    "    map.addLayer(sentinel_image, visualization, 'RGB')\n",
    "    py_offline.iplot(map)\n",
    "\n",
    "visualise_ee_image((london_trees_centroid.y, london_trees_centroid.x), sentinel_image_2018)"
   ]
  },
  {
   "cell_type": "code",
   "execution_count": null,
   "id": "3d979502-f723-402c-9236-bf04c7888f02",
   "metadata": {},
   "outputs": [],
   "source": [
    "min_freq = 0.01\n",
    "value_counts = trees_gdf[target_column].value_counts()\n",
    "mask = (value_counts/value_counts.sum()).lt(min_freq)\n",
    "\n",
    "grouped_minors = pd.Series(np.where(trees_gdf[target_column].isin(value_counts[mask].index), 'Other_minor', trees_gdf[target_column]))\n",
    "trees_gdf[target_column] = grouped_minors.values\n",
    "\n",
    "trees_gdf[target_column] = trees_gdf[target_column].astype('category')\n",
    "px.histogram(trees_gdf, x=target_column, text_auto=True).update_xaxes(categoryorder=\"total descending\")\n"
   ]
  },
  {
   "cell_type": "code",
   "execution_count": null,
   "id": "ce856094-6ab3-44ba-b13d-ea22cf45807d",
   "metadata": {},
   "outputs": [],
   "source": [
    "trees_gdf = trees_gdf.sort_values(by='load_date')\n",
    "trees_gdf.geometry = trees_gdf.to_crs(epsg=6933).buffer(30, cap_style=3).to_crs(epsg=4326)"
   ]
  },
  {
   "cell_type": "code",
   "execution_count": null,
   "id": "ae2fdcb1-ca13-4ad0-90a5-e6d00b886c00",
   "metadata": {},
   "outputs": [],
   "source": [
    "trees_gdf.plot()"
   ]
  },
  {
   "cell_type": "code",
   "execution_count": null,
   "id": "70a5f3ff-9152-4619-b402-a58f061c221b",
   "metadata": {},
   "outputs": [],
   "source": [
    "%%time\n",
    "# trees_regions_gdf = gpd.GeoDataFrame(geometry=trees_regions)\n",
    "date_mask_2018 = (trees_gdf['load_date'] == date_indices[0])\n",
    "date_mask_2020 = (trees_gdf['load_date'] == date_indices[1])"
   ]
  },
  {
   "cell_type": "code",
   "execution_count": null,
   "id": "1b3abc97-3f25-40b7-be32-46e0f287f13c",
   "metadata": {},
   "outputs": [],
   "source": [
    "trees_gdf['code'] = trees_gdf[target_column].cat.codes"
   ]
  },
  {
   "cell_type": "code",
   "execution_count": null,
   "id": "3515aaef-ed5b-49a0-9325-a14384af6cba",
   "metadata": {},
   "outputs": [],
   "source": [
    "%%time\n",
    "selected_regions = trees_gdf[date_mask_2018]\n",
    "selected_image = sentinel_image_2018.select('B[2-8]', 'B8A', 'B11', 'B12', 'TCI_R', 'TCI_G', 'TCI_B')\n",
    "\n",
    "# task = ee.batch.Export.image.toDrive(\n",
    "#     image=selected_image,\n",
    "#     fileNamePrefix='london_trees',\n",
    "#     description='london_trees',\n",
    "#     folder='london_trees',\n",
    "#     scale=10,\n",
    "# )\n",
    "# task.start()"
   ]
  },
  {
   "cell_type": "code",
   "execution_count": null,
   "id": "af7784a0-35ac-4df3-9009-deb2c053ef92",
   "metadata": {},
   "outputs": [],
   "source": [
    "%%time\n",
    "def crop_center(img, cropx=6, cropy=6):\n",
    "    bands, y, x = img.shape\n",
    "    startx = x//2 - (cropx//2)\n",
    "    starty = y//2 - (cropy//2)    \n",
    "    return img[:, starty:starty+cropy, startx:startx+cropx]\n",
    "\n",
    "tif_paths = Path('data').glob('london_trees*.tif')\n",
    "save_path = Path('data').joinpath('london_trees.npy')\n",
    "\n",
    "processed_labels = []\n",
    "processed_images = []\n",
    "\n",
    "bad_geos = []\n",
    "\n",
    "if not save_path.is_file():\n",
    "    for tif_name in tif_paths:\n",
    "        with rasterio.open(tif_name) as src:\n",
    "            for i, row in tqdm(selected_regions.iterrows(), total=selected_regions.shape[0]):\n",
    "                try:\n",
    "                    out_image, out_transform = rasterio.mask.mask(src, [row.geometry], crop=True)\n",
    "                    out_image = crop_center(out_image)\n",
    "\n",
    "                    # Due to the image being split, trees near\n",
    "                    # the split don't generate proper sub-images\n",
    "                    if out_image.shape != (13, 6, 6):\n",
    "                        bad_geos.append(row.geometry)\n",
    "                        continue\n",
    "                    \n",
    "                    processed_images.append(out_image)\n",
    "                    processed_labels.append(row[target_column])\n",
    "                    # prefix = f'{row[target_column]}_{row[\"code\"]}_{row[\"load_date\"].year}_{i}'         \n",
    "                except ValueError as e:\n",
    "                    pass\n",
    "    data_list = list(zip(processed_labels, processed_images))\n",
    "    with open(save_path, 'wb') as f:\n",
    "        pickle.dump(data_list, f)"
   ]
  },
  {
   "cell_type": "code",
   "execution_count": null,
   "id": "75d0c7b1-8714-4ccc-80bf-6e90a6917288",
   "metadata": {},
   "outputs": [],
   "source": [
    "# gpd.GeoDataFrame(geometry=bad_geos).plot()"
   ]
  },
  {
   "cell_type": "code",
   "execution_count": null,
   "id": "8dcc15e8-c523-4fa5-8124-9fa147c57cb4",
   "metadata": {},
   "outputs": [],
   "source": [
    "save_path = Path('data').joinpath('london_trees.npy')\n",
    "with open(save_path, 'rb') as f:\n",
    "    processed_data = pickle.load(f)\n",
    "\n",
    "labels = [label for label, features in processed_data]\n",
    "features = [features for label, features in processed_data]"
   ]
  },
  {
   "cell_type": "code",
   "execution_count": null,
   "id": "9b273f33-f5d3-417e-b7cf-c84a5bb541ab",
   "metadata": {},
   "outputs": [],
   "source": [
    "y = labels\n",
    "classes = np.unique(labels)\n",
    "\n",
    "X = np.array(features)\n",
    "X = X.reshape(len(y), -1)\n",
    "\n",
    "X_train, X_test, y_train, y_test = train_test_split(X, y, test_size=0.1, random_state=42)"
   ]
  },
  {
   "cell_type": "code",
   "execution_count": null,
   "id": "dc6bbba9-996c-4bba-bcb4-46e396038e8b",
   "metadata": {},
   "outputs": [],
   "source": [
    "from sklearn.multiclass import OneVsRestClassifier\n",
    "from sklearn.metrics import multilabel_confusion_matrix\n",
    "\n",
    "from sklearn.metrics import f1_score, precision_score, recall_score, accuracy_score, average_precision_score\n",
    "from sklearn.metrics import classification_report, confusion_matrix, ConfusionMatrixDisplay\n",
    "\n",
    "from flaml import AutoML\n",
    "\n",
    "def train_and_eval(X_train, X_test, y_train, y_test, classes, save_path):\n",
    "    if not save_path.is_file():\n",
    "        automl = AutoML(\n",
    "            # time_budget=60*60,\n",
    "            estimator_list=['lgbm'],\n",
    "            n_jobs=1\n",
    "        )\n",
    "        clf = OneVsRestClassifier(automl, n_jobs=2)\n",
    "        clf.fit(X_train, y_train)\n",
    "\n",
    "        with save_path.open(mode='wb') as f:\n",
    "            pickle.dump(clf, f)\n",
    "    else:\n",
    "        with save_path.open(mode='rb') as f:\n",
    "            clf = pickle.load(f)\n",
    "        \n",
    "    y_pred = clf.predict(X_test)\n",
    "    y_score = clf.predict_proba(X_test)\n",
    "\n",
    "    accuracy = accuracy_score(y_pred, y_test)\n",
    "\n",
    "    cr = classification_report(y_test, y_pred, target_names=classes, zero_division=0, output_dict=True)\n",
    "    \n",
    "    return y_pred, cr"
   ]
  },
  {
   "cell_type": "code",
   "execution_count": null,
   "id": "52f05328-aaad-42e4-8cdc-806ec1f93eb9",
   "metadata": {},
   "outputs": [],
   "source": [
    "%%time\n",
    "save_path = Path('models').joinpath('londontrees_lgbm_10split.pkl')\n",
    "y_pred, cr = train_and_eval(X_train, X_test, y_train, y_test, classes, save_path)\n",
    "\n",
    "\n",
    "    \n",
    "df = pd.DataFrame(cr).transpose()\n",
    "\n",
    "df.insert(3, 'mAP', list(average_precision_score(y_test, y_score, average=None)) + [\n",
    "    average_precision_score(y_test, y_score, average=n) for n in ['micro', 'macro', 'weighted', 'samples']\n",
    "])\n",
    "\n",
    "display(df.iloc[:-4].sort_index())\n",
    "display(df.iloc[-4:])\n"
   ]
  },
  {
   "cell_type": "code",
   "execution_count": null,
   "id": "4fde2d94-5570-4bb9-8654-5eb9063b61a1",
   "metadata": {},
   "outputs": [],
   "source": [
    "# rgb_data = tif_data[1][[3,2,1],:,:]\n",
    "# rasterio.plot.show(rgb_data/3000)"
   ]
  },
  {
   "cell_type": "code",
   "execution_count": null,
   "id": "6792ec81-72af-41b0-88d5-48721965049b",
   "metadata": {},
   "outputs": [],
   "source": [
    "# download_image = sentinel_image_2018.select('B[2-8]', 'B8A', 'B11', 'B12', 'TCI_R', 'TCI_G', 'TCI_B')\n",
    "# band_names = download_image.bandNames().getInfo()\n",
    "\n",
    "# task = ee.batch.Export.image.toDrive(\n",
    "#     image=download_image,\n",
    "#     description='london_trees',\n",
    "#     folder='london_trees',\n",
    "#     # region=region,\n",
    "#     scale=10,\n",
    "#     # crs='EPSG:5070',\n",
    "#     # maxPixels=1e13\n",
    "# )\n",
    "# task.start()"
   ]
  },
  {
   "cell_type": "code",
   "execution_count": null,
   "id": "70473003-df5d-48bf-94dc-80b98a4c2e95",
   "metadata": {},
   "outputs": [],
   "source": [
    "# trees_regions_2018_ee = geemap.geopandas_to_ee(selected_regions)\n",
    "# for chunk in tqdm(np.array_split(selected_regions, 10)):\n",
    "#     for i, row in tqdm(chunk.iterrows(), total=chunk.shape[0]):\n",
    "#         region = np.asarray(row.geometry.exterior.coords).flatten()\n",
    "#         ee_region = ee.Geometry.Polygon(*region)\n",
    "    \n",
    "#         prefix = f'{row[target_column]}_{row[\"code\"]}_{row[\"load_date\"].year}_{i}'\n",
    "#         download_image(ee_region, prefix)\n",
    "\n",
    "# trees_regions_2018_ee.iterate(download_image)\n",
    "# clip = selected_bands.clipToBoundsAndScale(trees_regions_2018_ee)\n",
    "# clip = selected_bands.clipToCollection(trees_regions_2018_ee)\n",
    "# coords = selected.geometry.iloc[0].exterior.coords[0]\n",
    "# visualise_ee_image(coords[::-1], selected_bands, zoom=16)"
   ]
  },
  {
   "cell_type": "code",
   "execution_count": null,
   "id": "5de22cc9-64ab-4697-85fa-7946681c9fa4",
   "metadata": {},
   "outputs": [],
   "source": [
    "# task = ee.batch.Export.image.toCloudStorage(\n",
    "#     image=selected_bands,\n",
    "#     description='london_trees_task',\n",
    "#     bucket='gs://gcp-public-data-sentinel-2',\n",
    "#     fileNamePrefix='london_trees_task',\n",
    "#     # region=region,\n",
    "#     # crsTransform=[30, 0, -2493045, 0, -30, 3310005],\n",
    "#     # crs='EPSG:5070'\n",
    "# )\n",
    "\n",
    "# task.start()"
   ]
  },
  {
   "cell_type": "code",
   "execution_count": null,
   "id": "861af7d8-6ea6-4eac-bc6f-78c1fb87d78c",
   "metadata": {},
   "outputs": [],
   "source": [
    "# from google.cloud import storage\n",
    "\n",
    "# storage_client = storage.Client(project='sentinel-treeclassificatio')\n",
    "# bucket = storage_client.get_bucket('gcp-public-data-sentinel-2')\n",
    "# blob = bucket.get_blob('london_trees_task')\n",
    "# print(blob.size)"
   ]
  },
  {
   "cell_type": "code",
   "execution_count": null,
   "id": "178afa5c-d91c-437e-a0ea-6f1af909f38c",
   "metadata": {},
   "outputs": [],
   "source": [
    "# train_y, test_y = train_test_split(trees_gdf, train_size=0.7)\n",
    "# # Train a 10-tree random forest classifier from the training sample.\n",
    "# trained_classifier = ee.Classifier.smileRandomForest(10).train(\n",
    "#     features=training_sample,\n",
    "#     classProperty=label,\n",
    "#     inputProperties=img.bandNames(),\n",
    "# )"
   ]
  },
  {
   "cell_type": "code",
   "execution_count": null,
   "id": "2fb85e75-b737-439a-a1cd-386ee76e6deb",
   "metadata": {},
   "outputs": [],
   "source": [
    "# points_in_m = trees_gdf.to_crs(epsg=6933)\n",
    "# xy = list(map(list, zip(points_in_m.geometry.x, points_in_m.geometry.y)))\n",
    "# cluster = AgglomerativeClustering(\n",
    "#     n_clusters=None, \n",
    "#     linkage='single',\n",
    "#     metric='euclidean',\n",
    "#     distance_threshold=50)\n",
    "    \n",
    "# cluster.fit(xy)\n",
    "# trees_squares['group'] = cluster.labels_\n",
    "# counts = trees_squares.value_counts('group')\n",
    "# counts.shape, trees_squares.shape"
   ]
  }
 ],
 "metadata": {
  "kernelspec": {
   "display_name": "Python 3 (ipykernel)",
   "language": "python",
   "name": "python3"
  },
  "language_info": {
   "codemirror_mode": {
    "name": "ipython",
    "version": 3
   },
   "file_extension": ".py",
   "mimetype": "text/x-python",
   "name": "python",
   "nbconvert_exporter": "python",
   "pygments_lexer": "ipython3",
   "version": "3.12.1"
  }
 },
 "nbformat": 4,
 "nbformat_minor": 5
}
