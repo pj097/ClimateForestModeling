{
 "cells": [
  {
   "cell_type": "code",
   "execution_count": null,
   "id": "b4dd1e06-839f-4dc9-82b2-ffbd2f5462b8",
   "metadata": {},
   "outputs": [],
   "source": [
    "import pandas as pd\n",
    "import geopandas as gpd\n",
    "import numpy as np\n",
    "import plotly.express as px\n",
    "import plotly.offline as py_offline\n",
    "import json"
   ]
  },
  {
   "cell_type": "code",
   "execution_count": null,
   "id": "fb85f8ae-7f7c-49b7-afbf-601d83398df8",
   "metadata": {},
   "outputs": [],
   "source": [
    "from sklearn.model_selection import train_test_split\n",
    "from sklearn.cluster import AgglomerativeClustering"
   ]
  },
  {
   "cell_type": "code",
   "execution_count": null,
   "id": "0bfd43ff-ef41-4cb0-b5fa-6fe7ae0809de",
   "metadata": {},
   "outputs": [],
   "source": [
    "import ee\n",
    "import geemap.plotlymap as geemap"
   ]
  },
  {
   "cell_type": "code",
   "execution_count": null,
   "id": "86ca1910-33a4-424b-bb66-128c375f5629",
   "metadata": {},
   "outputs": [],
   "source": [
    "ee.Authenticate()\n",
    "ee.Initialize(project='sentinel-treeclassification')"
   ]
  },
  {
   "cell_type": "code",
   "execution_count": null,
   "id": "10f38313-fb36-4258-9b3f-b233bf90e36b",
   "metadata": {},
   "outputs": [],
   "source": [
    "target_column = 'tree_name'\n",
    "usecols = ['latitude', 'longitude'] + [target_column, 'load_date']\n",
    "trees_df = pd.read_csv(\"data/Borough_tree_list_2021July.csv\", usecols=usecols, parse_dates=['load_date'])\n",
    "trees_df.info()"
   ]
  },
  {
   "cell_type": "code",
   "execution_count": null,
   "id": "ecb78fa8-da4d-4c7b-9012-807b4ccadc16",
   "metadata": {},
   "outputs": [],
   "source": [
    "trees_df[target_column].unique()"
   ]
  },
  {
   "cell_type": "code",
   "execution_count": null,
   "id": "50f5ae2e-e1e0-4206-b626-50cc26a0dca5",
   "metadata": {},
   "outputs": [],
   "source": [
    "trees_df[target_column].isna().sum()"
   ]
  },
  {
   "cell_type": "code",
   "execution_count": null,
   "id": "99619605-45da-4d6b-9014-a954be50f852",
   "metadata": {},
   "outputs": [],
   "source": [
    "trees_df = trees_df.dropna(subset=target_column)\n",
    "trees_df.isna().sum()"
   ]
  },
  {
   "cell_type": "code",
   "execution_count": null,
   "id": "81e08cfb-1ed0-422b-8254-b870e3522cbf",
   "metadata": {},
   "outputs": [],
   "source": [
    "london_trees_mapbox = px.scatter_mapbox(trees_df.sample(n=10000), lat=\"latitude\", lon=\"longitude\", color=target_column,\n",
    "                        zoom=10, mapbox_style=\"carto-darkmatter\", height=800)\n",
    "london_trees_mapbox"
   ]
  },
  {
   "cell_type": "code",
   "execution_count": null,
   "id": "3b300120-ff11-49e5-9d7e-f6a55510e3a5",
   "metadata": {},
   "outputs": [],
   "source": [
    "trees_df['load_date'].value_counts()"
   ]
  },
  {
   "cell_type": "code",
   "execution_count": null,
   "id": "d4bf6b36-bc9e-40a1-8c26-e2a262e4ee90",
   "metadata": {},
   "outputs": [],
   "source": [
    "date_indices = trees_df['load_date'].value_counts().index"
   ]
  },
  {
   "cell_type": "code",
   "execution_count": null,
   "id": "72c89c31-83d2-4af9-988b-9ce052b8f18e",
   "metadata": {},
   "outputs": [],
   "source": [
    "trees_df['load_date'][trees_df['load_date'] == date_indices[2]] = date_indices[1]\n",
    "trees_df['load_date'].value_counts()"
   ]
  },
  {
   "cell_type": "code",
   "execution_count": null,
   "id": "7d3477a6-e1ad-413c-9208-bccaa5bdd71d",
   "metadata": {},
   "outputs": [],
   "source": [
    "px.histogram(trees_df, x=target_column, text_auto=True).update_xaxes(categoryorder=\"total descending\")"
   ]
  },
  {
   "cell_type": "code",
   "execution_count": null,
   "id": "57b9ec20-1445-4986-8b71-4c9a9a451cb2",
   "metadata": {},
   "outputs": [],
   "source": [
    "trees_gdf = gpd.GeoDataFrame(\n",
    "    trees_df, geometry=gpd.points_from_xy(x=trees_df['longitude'], y=trees_df['latitude'], crs=4326)\n",
    ")\n",
    "# trees_gdf = trees_gdf.drop(['longitude', 'latitude'], axis=1)\n",
    "trees_gdf.head(1)"
   ]
  },
  {
   "cell_type": "code",
   "execution_count": null,
   "id": "b74c8170-77f3-459e-8866-ecac8ef1d51d",
   "metadata": {},
   "outputs": [],
   "source": [
    "london_trees_bbox = ee.Geometry.BBox(*trees_gdf.geometry.total_bounds)\n",
    "london_trees_centroid = trees_gdf.dissolve().to_crs(epsg=6933).centroid.to_crs(epsg=4326)[0]"
   ]
  },
  {
   "cell_type": "code",
   "execution_count": null,
   "id": "e74830db-6846-4693-b568-e21f7a50ee15",
   "metadata": {},
   "outputs": [],
   "source": [
    "class SentinelGetter:\n",
    "    def mask_s2_clouds(self, image):\n",
    "      # Quality assessment with resolution in meters\n",
    "      qa = image.select('QA60')\n",
    "      # Bits 10 and 11 are clouds and cirrus, respectively.\n",
    "      cloud_bit_mask = 1 << 10\n",
    "      cirrus_bit_mask = 1 << 11\n",
    "      # Both flags should be set to zero, indicating clear conditions.\n",
    "      mask = (\n",
    "          qa.bitwiseAnd(cloud_bit_mask)\n",
    "          .eq(0)\n",
    "          .And(qa.bitwiseAnd(cirrus_bit_mask).eq(0))\n",
    "      )\n",
    "      return image.updateMask(mask)\n",
    "\n",
    "    def get_image(self, center_date, bbox):\n",
    "        month = pd.DateOffset(months=1)\n",
    "        image = (\n",
    "            ee.ImageCollection('COPERNICUS/S2_SR_HARMONIZED')\n",
    "            .filterDate(center_date - month, center_date + month)\n",
    "            # Pre-filter to get less cloudy granules.\n",
    "            .filter(ee.Filter.lt('CLOUDY_PIXEL_PERCENTAGE', 20))\n",
    "            .map(self.mask_s2_clouds)\n",
    "            .mean()\n",
    "            .clip(bbox)\n",
    "        )\n",
    "        return image"
   ]
  },
  {
   "cell_type": "code",
   "execution_count": null,
   "id": "2155749c-eaed-4d4d-a267-1edce0db845d",
   "metadata": {},
   "outputs": [],
   "source": [
    "sentinel_image_2020 = SentinelGetter().get_image(date_indices[1], london_trees_bbox)\n",
    "sentinel_image_2018 = SentinelGetter().get_image(date_indices[0], london_trees_bbox)\n",
    "rgb_max = 3000\n",
    "rgb_bands = ['B4', 'B3', 'B2']\n",
    "visualization = {\n",
    "    'min': 0.0,\n",
    "    'max': rgb_max,\n",
    "    'bands': rgb_bands,\n",
    "    'layer': \"below\",\n",
    "}\n",
    "\n",
    "london_2018map = geemap.Map(center=(london_trees_centroid.y, london_trees_centroid.x), zoom=10)\n",
    "london_2018map.addLayer(sentinel_image_2018, visualization, 'RGB')\n",
    "py_offline.iplot(london_2018map)"
   ]
  },
  {
   "cell_type": "code",
   "execution_count": null,
   "id": "3d979502-f723-402c-9236-bf04c7888f02",
   "metadata": {},
   "outputs": [],
   "source": [
    "min_freq = 0.01\n",
    "value_counts = trees_gdf[target_column].value_counts()\n",
    "mask = (value_counts/value_counts.sum()).lt(min_freq)\n",
    "trees_gdf[target_column] = pd.Series(np.where(trees_gdf[target_column].isin(value_counts[mask].index), 'Other_minor', trees_gdf[target_column]))\n",
    "\n",
    "trees_gdf[target_column] = trees_gdf[target_column].astype('category')\n",
    "px.histogram(trees_gdf, x=target_column, text_auto=True).update_xaxes(categoryorder=\"total descending\")"
   ]
  },
  {
   "cell_type": "code",
   "execution_count": null,
   "id": "ce856094-6ab3-44ba-b13d-ea22cf45807d",
   "metadata": {},
   "outputs": [],
   "source": [
    "trees_gdf = trees_gdf.sort_values(by='load_date')\n",
    "trees_regions = trees_gdf.to_crs(epsg=6933).buffer(10, cap_style=3).to_crs(epsg=4326)"
   ]
  },
  {
   "cell_type": "code",
   "execution_count": null,
   "id": "ae2fdcb1-ca13-4ad0-90a5-e6d00b886c00",
   "metadata": {},
   "outputs": [],
   "source": [
    "trees_regions.plot()"
   ]
  },
  {
   "cell_type": "code",
   "execution_count": null,
   "id": "70a5f3ff-9152-4619-b402-a58f061c221b",
   "metadata": {},
   "outputs": [],
   "source": [
    "%%time\n",
    "trees_regions_gdf = gpd.GeoDataFrame(geometry=trees_regions)\n",
    "date_mask_2018 = (trees_gdf['load_date'] == date_indices[0])\n",
    "date_mask_2020 = (trees_gdf['load_date'] == date_indices[1])"
   ]
  },
  {
   "cell_type": "code",
   "execution_count": null,
   "id": "3515aaef-ed5b-49a0-9325-a14384af6cba",
   "metadata": {},
   "outputs": [],
   "source": [
    "trees_regions_2018_ee = geemap.geopandas_to_ee(trees_regions_gdf[date_mask_2018].head(1000))\n",
    "sentinel_image_2018.sampleRegions(trees_regions_2018_ee)"
   ]
  },
  {
   "cell_type": "code",
   "execution_count": null,
   "id": "178afa5c-d91c-437e-a0ea-6f1af909f38c",
   "metadata": {},
   "outputs": [],
   "source": [
    "# train_y, test_y = train_test_split(trees_gdf, train_size=0.7)\n",
    "# # Train a 10-tree random forest classifier from the training sample.\n",
    "# trained_classifier = ee.Classifier.smileRandomForest(10).train(\n",
    "#     features=training_sample,\n",
    "#     classProperty=label,\n",
    "#     inputProperties=img.bandNames(),\n",
    "# )"
   ]
  },
  {
   "cell_type": "code",
   "execution_count": null,
   "id": "2fb85e75-b737-439a-a1cd-386ee76e6deb",
   "metadata": {},
   "outputs": [],
   "source": [
    "# points_in_m = trees_gdf.to_crs(epsg=6933)\n",
    "# xy = list(map(list, zip(points_in_m.geometry.x, points_in_m.geometry.y)))\n",
    "# cluster = AgglomerativeClustering(\n",
    "#     n_clusters=None, \n",
    "#     linkage='single',\n",
    "#     metric='euclidean',\n",
    "#     distance_threshold=50)\n",
    "    \n",
    "# cluster.fit(xy)\n",
    "# trees_squares['group'] = cluster.labels_\n",
    "# counts = trees_squares.value_counts('group')\n",
    "# counts.shape, trees_squares.shape"
   ]
  }
 ],
 "metadata": {
  "kernelspec": {
   "display_name": "Python 3 (ipykernel)",
   "language": "python",
   "name": "python3"
  },
  "language_info": {
   "codemirror_mode": {
    "name": "ipython",
    "version": 3
   },
   "file_extension": ".py",
   "mimetype": "text/x-python",
   "name": "python",
   "nbconvert_exporter": "python",
   "pygments_lexer": "ipython3",
   "version": "3.10.13"
  }
 },
 "nbformat": 4,
 "nbformat_minor": 5
}
