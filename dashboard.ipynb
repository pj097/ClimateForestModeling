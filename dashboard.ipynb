{
 "cells": [
  {
   "cell_type": "code",
   "execution_count": null,
   "id": "0bf02119-5719-4eaa-9c11-b321b28f2baa",
   "metadata": {},
   "outputs": [],
   "source": [
    "from collections import OrderedDict as odict\n",
    "from pathlib import Path\n",
    "import geopandas as gpd\n",
    "import pandas as pd\n",
    "\n",
    "import colorcet\n",
    "import param\n",
    "import panel\n",
    "import datashader as ds\n",
    "import intake\n",
    "import dask.dataframe\n",
    "\n",
    "import hvplot.pandas\n",
    "\n",
    "import holoviews\n",
    "from holoviews.element import tiles\n",
    "from holoviews.operation.datashader import rasterize, shade, spread\n",
    "# from holoviews.element.tiles import EsriStreet\n",
    "\n",
    "import seaborn\n",
    "import datashader.transfer_functions as tf\n",
    "\n",
    "import cartopy.crs as ccrs\n",
    "\n",
    "# This will become default in pandas 3.0\n",
    "pd.options.mode.copy_on_write = True\n",
    "\n",
    "holoviews.extension('bokeh', logo=False)"
   ]
  },
  {
   "cell_type": "code",
   "execution_count": null,
   "id": "e2a31565-520a-493a-ab11-ac97cc10b745",
   "metadata": {},
   "outputs": [],
   "source": [
    "class Explorer(param.Parameterized):\n",
    "    cmap_list = ['fire', 'bgy', 'bgyw', 'bmy', 'gray', 'kbc']\n",
    "    cmaps = odict([(n, colorcet.palette[n]) for n in cmap_list])\n",
    "    cmap = param.Selector(cmaps)\n",
    "\n",
    "    maps = ['OSM', 'CartoDark', 'CartoLight', 'OpenTopoMap']\n",
    "    bases = odict([(name, getattr(tiles, name)().relabel(name)) for name in maps])\n",
    "    basemap = param.Selector(bases)\n",
    "    \n",
    "    spreading = param.Integer(0, bounds=(0, 5))\n",
    "    data_opacity = param.Magnitude(1.00)\n",
    "    map_opacity = param.Magnitude(0.75)\n",
    "    show_labels = param.Boolean(False)\n",
    "    \n",
    "    norms  = odict(Histogram_Equalization='eq_hist', Linear='linear', Log='log', Cube_root='cbrt')\n",
    "    normalisation = param.Selector(norms)\n",
    "    \n",
    "    gopts = holoviews.opts.Tiles(responsive=True, xaxis='bottom', yaxis='left', show_grid=True)\n",
    "\n",
    "    catalog = intake.open_catalog(Path('catalog.yml'))\n",
    "    datasets = list(catalog.keys())\n",
    "    dataset = param.Selector(datasets)\n",
    "\n",
    "    @param.depends('dataset')\n",
    "    def get_polygons(self):\n",
    "        source = getattr(self.catalog, self.dataset)\n",
    "        gdf = source.read()[source.metadata['usecols']]\n",
    "        \n",
    "        # WEB MERCATOR (EPSG: 3857) to match basemaps\n",
    "        gdf = gdf.to_crs(\"epsg:3857\")\n",
    "        target = source.metadata['categories']['general']\n",
    "        gdf['target_categories'] = gdf[target].astype('category').cat.codes\n",
    "\n",
    "        return holoviews.Polygons(gdf, vdims=['target_categories', 'geometry'])\n",
    "        \n",
    "    @param.depends('map_opacity', 'basemap')\n",
    "    def set_tiles(self):\n",
    "        return self.basemap.opts(self.gopts).opts(alpha=self.map_opacity)\n",
    "\n",
    "    @param.depends('show_labels')\n",
    "    def set_labels(self):\n",
    "        return tiles.StamenLabels().options(level='annotation', alpha=1 if self.show_labels else 0)\n",
    "        \n",
    "    def viewable(self,**kwargs):\n",
    "        polygons = holoviews.DynamicMap(self.get_polygons)\n",
    "        rasterized = rasterize(polygons, aggregator='count_cat')\n",
    "        shaded = shade(rasterized, color_key=self.param.cmap, cnorm=self.param.normalisation)\n",
    "        spreaded = spread(shaded, px=self.param.spreading, how=\"add\")\n",
    "        dataplot = spreaded.apply.opts(alpha=self.param.data_opacity, show_legend=True)\n",
    "\n",
    "        return holoviews.DynamicMap(self.set_tiles) * holoviews.DynamicMap(self.set_labels) * dataplot"
   ]
  },
  {
   "cell_type": "code",
   "execution_count": null,
   "id": "66c0e23b-691e-409a-b600-2e6fc7b0c9bf",
   "metadata": {},
   "outputs": [],
   "source": [
    "%%time\n",
    "explorer = Explorer(name=\"\")\n",
    "\n",
    "dash = panel.Row(panel.Column(panel.Param(explorer.param, expand_button=False)), explorer.viewable())\n",
    "dash.servable(\"Datashader Dashboard\")"
   ]
  },
  {
   "cell_type": "code",
   "execution_count": null,
   "id": "ccd427a4-ab85-4c28-8070-9368e0233e79",
   "metadata": {},
   "outputs": [],
   "source": []
  },
  {
   "cell_type": "code",
   "execution_count": null,
   "id": "d2c06c47-fc25-469c-a9b4-a8adbe3c60ef",
   "metadata": {},
   "outputs": [],
   "source": [
    "catalog = intake.open_catalog(Path('catalog.yml'))\n",
    "source = getattr(catalog, 'sample_gb_forestry')\n",
    "gdf = source.read()[source.metadata['usecols']]\n",
    "gdf = gdf.to_crs(\"epsg:3857\")"
   ]
  },
  {
   "cell_type": "code",
   "execution_count": null,
   "id": "f281d783-f2c9-4c74-adee-ef12a95fa952",
   "metadata": {},
   "outputs": [],
   "source": [
    "%%time\n",
    "# https://hvplot.holoviz.org/user_guide/Customization.html\n",
    "gdf.hvplot(\n",
    "    # aggregator=ds.count_cat(source.metadata['categories']['general']),\n",
    "    groupby=source.metadata['categories']['general'], \n",
    "    datashade=False, rasterize=False, height=600, width=800, tiles='OSM'#, cmap='hot'\n",
    ")"
   ]
  },
  {
   "cell_type": "code",
   "execution_count": null,
   "id": "2b7aa1e6-9290-4b34-b748-dd9ab913ec9c",
   "metadata": {},
   "outputs": [],
   "source": [
    "# dash = panel.Row(hv)\n",
    "# dash.servable(\"Datashader Dashboard\")"
   ]
  },
  {
   "cell_type": "code",
   "execution_count": null,
   "id": "d00b34a3-62bd-4903-97f9-0e469c2b7f92",
   "metadata": {},
   "outputs": [],
   "source": []
  }
 ],
 "metadata": {
  "kernelspec": {
   "display_name": "Python 3 (ipykernel)",
   "language": "python",
   "name": "python3"
  },
  "language_info": {
   "codemirror_mode": {
    "name": "ipython",
    "version": 3
   },
   "file_extension": ".py",
   "mimetype": "text/x-python",
   "name": "python",
   "nbconvert_exporter": "python",
   "pygments_lexer": "ipython3",
   "version": "3.10.13"
  }
 },
 "nbformat": 4,
 "nbformat_minor": 5
}
