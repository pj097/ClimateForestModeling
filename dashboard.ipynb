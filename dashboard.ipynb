{
 "cells": [
  {
   "cell_type": "code",
   "execution_count": null,
   "id": "0bf02119-5719-4eaa-9c11-b321b28f2baa",
   "metadata": {},
   "outputs": [],
   "source": [
    "from collections import OrderedDict as odict\n",
    "from pathlib import Path\n",
    "import geopandas as gpd\n",
    "\n",
    "import colorcet\n",
    "import param\n",
    "import panel\n",
    "import datashader as ds\n",
    "import intake\n",
    "import dask.dataframe\n",
    "\n",
    "import spatialpandas\n",
    "import cartopy\n",
    "\n",
    "import holoviews\n",
    "import geoviews\n",
    "from holoviews.element import tiles\n",
    "from holoviews.operation.datashader import rasterize, shade, spread\n",
    "from holoviews.element.tiles import EsriStreet\n",
    "\n",
    "import seaborn\n",
    "import datashader.transfer_functions as tf\n",
    "\n",
    "holoviews.extension('bokeh', logo=False)"
   ]
  },
  {
   "cell_type": "code",
   "execution_count": null,
   "id": "74847da7-96c7-423e-a452-aeb7e4a5960f",
   "metadata": {},
   "outputs": [],
   "source": [
    "%%time\n",
    "gdf = gpd.read_file(Path('data').joinpath('National_Forest_Inventory_Woodland_GB_2021_10ksample.geojson'))"
   ]
  },
  {
   "cell_type": "code",
   "execution_count": null,
   "id": "5089cd24-3944-4551-8284-e1a6eaafa1d6",
   "metadata": {},
   "outputs": [],
   "source": [
    "%%time\n",
    "target = 'IFT_IOA'\n",
    "gdf['categories'] = gdf[target].astype('category').cat.codes\n",
    "gdf = gdf.to_crs(\"epsg:3395\")"
   ]
  },
  {
   "cell_type": "code",
   "execution_count": null,
   "id": "e2a31565-520a-493a-ab11-ac97cc10b745",
   "metadata": {},
   "outputs": [],
   "source": [
    "fields = gdf[target].unique().tolist()\n",
    "\n",
    "cmaps = odict([(n, colorcet.palette[n]) for n in ['fire', 'bgy', 'bgyw', 'bmy', 'gray', 'kbc']])\n",
    "\n",
    "maps = ['OSM', 'CartoDark', 'OpenTopoMap']\n",
    "\n",
    "bases = odict([(name, getattr(tiles, name)().relabel(name)) for name in maps])\n",
    "\n",
    "gopts = holoviews.opts.Tiles(responsive=True, xaxis=None, yaxis=None, show_grid=True)\n",
    "\n",
    "class Explorer(param.Parameterized):\n",
    "\n",
    "    field = param.Selector(fields)\n",
    "    \n",
    "    cmap = param.Selector(cmaps)\n",
    "    \n",
    "    spreading = param.Integer(0, bounds=(0, 5))\n",
    "    \n",
    "    basemap = param.Selector(bases)\n",
    "    \n",
    "    data_opacity = param.Magnitude(1.00)\n",
    "    \n",
    "    map_opacity = param.Magnitude(0.75)\n",
    "    \n",
    "    show_labels = param.Boolean(True)\n",
    "\n",
    "    @param.depends('map_opacity', 'basemap')\n",
    "    def tiles(self):\n",
    "        return self.basemap.opts(gopts).opts(alpha=self.map_opacity)\n",
    "\n",
    "    @param.depends('show_labels')\n",
    "    def labels(self):\n",
    "        return tiles.StamenLabels().options(level='annotation', alpha=1 if self.show_labels else 0)\n",
    "\n",
    "    def viewable(self,**kwargs):\n",
    "        polygons = holoviews.Polygons(gdf, vdims=['categories', target, 'Area_ha']).opts(width=600, height=600, colorbar=True)\n",
    "     \n",
    "        rasterized = rasterize(polygons)\n",
    "        \n",
    "        shaded = shade(rasterized, cmap=self.param.cmap)\n",
    "        \n",
    "        spreaded = spread(shaded, px=self.param.spreading, how=\"add\")\n",
    "        \n",
    "        dataplot = spreaded.apply.opts(alpha=self.param.data_opacity, show_legend=False)\n",
    "        \n",
    "        return holoviews.DynamicMap(self.tiles) * dataplot * holoviews.DynamicMap(self.labels)"
   ]
  },
  {
   "cell_type": "code",
   "execution_count": null,
   "id": "66c0e23b-691e-409a-b600-2e6fc7b0c9bf",
   "metadata": {},
   "outputs": [],
   "source": [
    "%%time\n",
    "explorer = Explorer(name=\"\")\n",
    "\n",
    "dash = panel.Row(panel.Column(panel.Param(explorer.param, expand_button=False)), explorer.viewable())\n",
    "dash.servable(\"Datashader Dashboard\")\n",
    "\n",
    "# logo = \"https://raw.githubusercontent.com/pyviz/datashader/main/doc/_static/logo_horizontal_s.png\"\n",
    "# dash = panel.Row(panel.Column(logo, panel.Param(explorer.param, expand_button=False)), explorer.viewable())"
   ]
  },
  {
   "cell_type": "code",
   "execution_count": null,
   "id": "2fac0656-e1f2-4be8-8f91-a3de29ae63c5",
   "metadata": {},
   "outputs": [],
   "source": []
  },
  {
   "cell_type": "code",
   "execution_count": null,
   "id": "ccd427a4-ab85-4c28-8070-9368e0233e79",
   "metadata": {},
   "outputs": [],
   "source": []
  }
 ],
 "metadata": {
  "kernelspec": {
   "display_name": "Python 3 (ipykernel)",
   "language": "python",
   "name": "python3"
  },
  "language_info": {
   "codemirror_mode": {
    "name": "ipython",
    "version": 3
   },
   "file_extension": ".py",
   "mimetype": "text/x-python",
   "name": "python",
   "nbconvert_exporter": "python",
   "pygments_lexer": "ipython3",
   "version": "3.10.13"
  }
 },
 "nbformat": 4,
 "nbformat_minor": 5
}
