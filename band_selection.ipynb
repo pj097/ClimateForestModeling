{
 "cells": [
  {
   "cell_type": "code",
   "execution_count": 1,
   "id": "45a09dcb-b90b-45d7-b5a2-54996a34ada0",
   "metadata": {},
   "outputs": [
    {
     "name": "stdout",
     "output_type": "stream",
     "text": [
      "env: TF_CPP_MIN_LOG_LEVEL=3\n"
     ]
    }
   ],
   "source": [
    "%env TF_CPP_MIN_LOG_LEVEL=3\n",
    "\n",
    "import numpy as np\n",
    "import pandas as pd\n",
    "\n",
    "import plotly.express as px\n",
    "import plotly.graph_objects as go\n",
    "from plotly.subplots import make_subplots\n",
    "\n",
    "from tqdm.notebook import tqdm\n",
    "from pathlib import Path\n",
    "import itertools\n",
    "\n",
    "from sklearn.model_selection import train_test_split\n",
    "from sklearn.metrics import classification_report, confusion_matrix, ConfusionMatrixDisplay, multilabel_confusion_matrix\n",
    "from sklearn.utils import shuffle\n",
    "\n",
    "import tensorflow as tf\n",
    "\n",
    "from importlib import reload\n",
    "import sentinel_utils\n",
    "import keras_model_creator\n",
    "from data_generator import DataGenerator\n",
    "\n",
    "pd.options.mode.copy_on_write = True"
   ]
  },
  {
   "cell_type": "code",
   "execution_count": 2,
   "id": "0749fbd3-b6ee-443c-b12c-741c2ee1f1bb",
   "metadata": {},
   "outputs": [],
   "source": [
    "sentinel_bands = [f'B{x}' for x in range(2, 9)] + ['B8A', 'B11', 'B12']"
   ]
  },
  {
   "cell_type": "code",
   "execution_count": 3,
   "id": "20193ece-bc6f-4569-8d56-219fab09ae0b",
   "metadata": {},
   "outputs": [],
   "source": [
    "reload(sentinel_utils)\n",
    "\n",
    "seasons = ['06']\n",
    "\n",
    "loss = 'binary_crossentropy'\n",
    "batch_size = 64\n",
    "base_filters = 32\n",
    "shards_dir = Path.home().joinpath('sentinel_data', 'shards')\n",
    "\n",
    "utils = sentinel_utils.SentinelUtils(min_occurrences=20000)\n",
    "selected_classes = utils.get_processed_labels()\n",
    "data_summary = utils.get_data_summary(\n",
    "    shards_dir, seasons, selected_classes\n",
    ")\n",
    "\n",
    "fixed_params = dict(\n",
    "    seasons=seasons,\n",
    "    data_summary=data_summary,\n",
    "    shards_dir=shards_dir,\n",
    "    loss=loss,\n",
    "    batch_size=batch_size,\n",
    "    base_filters=base_filters,\n",
    "    dropout=0.2,\n",
    "    epochs=10,\n",
    "    overwrite=False,\n",
    "    verbose=1,\n",
    "    print_log=0\n",
    ")"
   ]
  },
  {
   "cell_type": "code",
   "execution_count": null,
   "id": "d5926fbe-15c2-4fa6-8977-99eafdcb5ca3",
   "metadata": {},
   "outputs": [
    {
     "data": {
      "application/vnd.jupyter.widget-view+json": {
       "model_id": "dcda9a9bed43449f9a339c2b94a0296e",
       "version_major": 2,
       "version_minor": 0
      },
      "text/plain": [
       "  0%|          | 0/3 [00:00<?, ?it/s]"
      ]
     },
     "metadata": {},
     "output_type": "display_data"
    },
    {
     "data": {
      "application/vnd.jupyter.widget-view+json": {
       "model_id": "e01a3d55606745a29625cf077accbbaa",
       "version_major": 2,
       "version_minor": 0
      },
      "text/plain": [
       "  0%|          | 0/15 [00:00<?, ?it/s]"
      ]
     },
     "metadata": {},
     "output_type": "display_data"
    },
    {
     "name": "stdout",
     "output_type": "stream",
     "text": [
      "Epoch 9/10\n"
     ]
    },
    {
     "name": "stderr",
     "output_type": "stream",
     "text": [
      "WARNING: All log messages before absl::InitializeLog() is called are written to STDERR\n",
      "I0000 00:00:1722196774.169384     289 service.cc:145] XLA service 0xb94fb80 initialized for platform CUDA (this does not guarantee that XLA will be used). Devices:\n",
      "I0000 00:00:1722196774.169421     289 service.cc:153]   StreamExecutor device (0): NVIDIA GeForce RTX 4070 Ti, Compute Capability 8.9\n",
      "I0000 00:00:1722196789.568237     289 device_compiler.h:188] Compiled cluster using XLA!  This line is logged at most once for the lifetime of the process.\n"
     ]
    },
    {
     "name": "stdout",
     "output_type": "stream",
     "text": [
      "\u001b[1m3550/3550\u001b[0m \u001b[32m━━━━━━━━━━━━━━━━━━━━\u001b[0m\u001b[37m\u001b[0m \u001b[1m0s\u001b[0m 146ms/step - accuracy: 0.5121 - auc: 0.9203 - loss: 0.2980 - macrof1score: 0.5357 - microf1score: 0.6995 - prc: 0.7964 - precision: 0.7666 - recall: 0.6431 - weightedf1score: 0.6713"
     ]
    },
    {
     "name": "stderr",
     "output_type": "stream",
     "text": [
      "WARNING: All log messages before absl::InitializeLog() is called are written to STDERR\n",
      "I0000 00:00:1722197309.909273     505 asm_compiler.cc:369] ptxas warning : Registers are spilled to local memory in function 'triton_gemm_dot_1287', 192 bytes spill stores, 192 bytes spill loads\n",
      "\n",
      "I0000 00:00:1722197310.282774     496 asm_compiler.cc:369] ptxas warning : Registers are spilled to local memory in function 'triton_gemm_dot_1287', 308 bytes spill stores, 308 bytes spill loads\n",
      "\n"
     ]
    },
    {
     "name": "stdout",
     "output_type": "stream",
     "text": [
      "\n",
      "Epoch 9: val_recall improved from 0.50000 to 0.61785, saving model to models/band_selection/binary_crossentropy-237212-7-1-06-64-32-B3/model.keras\n",
      "\u001b[1m3550/3550\u001b[0m \u001b[32m━━━━━━━━━━━━━━━━━━━━\u001b[0m\u001b[37m\u001b[0m \u001b[1m551s\u001b[0m 150ms/step - accuracy: 0.5121 - auc: 0.9203 - loss: 0.2980 - macrof1score: 0.5357 - microf1score: 0.6995 - prc: 0.7964 - precision: 0.7666 - recall: 0.6431 - weightedf1score: 0.6713 - val_accuracy: 0.4972 - val_auc: 0.9099 - val_loss: 0.3170 - val_macrof1score: 0.5260 - val_microf1score: 0.6811 - val_prc: 0.7758 - val_precision: 0.7588 - val_recall: 0.6178 - val_weightedf1score: 0.6557 - learning_rate: 5.0000e-05\n",
      "Epoch 10/10\n",
      "\u001b[1m3550/3550\u001b[0m \u001b[32m━━━━━━━━━━━━━━━━━━━━\u001b[0m\u001b[37m\u001b[0m \u001b[1m0s\u001b[0m 156ms/step - accuracy: 0.5158 - auc: 0.9239 - loss: 0.2917 - macrof1score: 0.5487 - microf1score: 0.7071 - prc: 0.8051 - precision: 0.7699 - recall: 0.6537 - weightedf1score: 0.6808\n",
      "Epoch 10: val_recall did not improve from 0.61785\n",
      "\u001b[1m3550/3550\u001b[0m \u001b[32m━━━━━━━━━━━━━━━━━━━━\u001b[0m\u001b[37m\u001b[0m \u001b[1m564s\u001b[0m 159ms/step - accuracy: 0.5158 - auc: 0.9239 - loss: 0.2917 - macrof1score: 0.5487 - microf1score: 0.7071 - prc: 0.8051 - precision: 0.7699 - recall: 0.6537 - weightedf1score: 0.6808 - val_accuracy: 0.4984 - val_auc: 0.9060 - val_loss: 0.3233 - val_macrof1score: 0.5233 - val_microf1score: 0.6748 - val_prc: 0.7663 - val_precision: 0.7480 - val_recall: 0.6147 - val_weightedf1score: 0.6496 - learning_rate: 5.0000e-05\n",
      "Restoring model weights from the end of the best epoch: 9.\n",
      "Epoch 1/10\n",
      "\u001b[1m1150/3550\u001b[0m \u001b[32m━━━━━━\u001b[0m\u001b[37m━━━━━━━━━━━━━━\u001b[0m \u001b[1m5:50\u001b[0m 146ms/step - accuracy: 0.3225 - auc: 0.7808 - loss: 0.4582 - macrof1score: 0.2065 - microf1score: 0.3816 - prc: 0.5111 - precision: 0.5801 - recall: 0.2862 - weightedf1score: 0.3364"
     ]
    }
   ],
   "source": [
    "reload(keras_model_creator)\n",
    "\n",
    "band_groups = [\n",
    "    ['B2', 'B3', 'B4', 'B5'],\n",
    "    ['B6', 'B7', 'B8', 'B8A'],\n",
    "    ['B11', 'B12']\n",
    "]\n",
    "\n",
    "model_parent_dir = Path('models', 'band_selection')\n",
    "\n",
    "for band_group in tqdm(band_groups):\n",
    "    band_combinations = itertools.chain.from_iterable(\n",
    "        itertools.combinations(band_group, r) for r in range(1, len(band_group)+1))\n",
    "    for band_combination in (pbar := tqdm(list(band_combinations), leave=False)):\n",
    "        pbar.set_description('-'.join(band_combination))\n",
    "        band_indices = [sentinel_bands.index(b) for b in band_combination]\n",
    "    \n",
    "        model_dir = model_parent_dir.joinpath(\n",
    "            f'{loss}-{len(selected_classes.index)}'\n",
    "            f'-{selected_classes.shape[1]}-{len(band_combination)}'\n",
    "            f'-{\"_\".join(seasons)}-{batch_size}-{base_filters}'\n",
    "            f'-{\"_\".join(band_combination)}'\n",
    "        )\n",
    "        model_dir.mkdir(parents=True, exist_ok=True)\n",
    "    \n",
    "        changing_params = dict(\n",
    "            selected_classes=selected_classes,\n",
    "            model_dir=model_dir,\n",
    "            band_indices=band_indices,\n",
    "        )\n",
    "        params = fixed_params | changing_params\n",
    "        model, testing_generator = keras_model_creator.KerasModelCreator(**params).run()\n"
   ]
  },
  {
   "cell_type": "markdown",
   "id": "3837c097-514c-49ee-8b9b-df10da53ebfc",
   "metadata": {},
   "source": [
    "Evaluate the model for given years and save the results in the model's directory."
   ]
  },
  {
   "cell_type": "code",
   "execution_count": null,
   "id": "b5189141-5f07-4aac-a68f-00a24ec5d69d",
   "metadata": {},
   "outputs": [],
   "source": [
    "all_bands = np.array(band_groups).flatten()\n",
    "best_metric = 'val_weightedf1score'\n",
    "best_rows = []\n",
    "\n",
    "for band_group in tqdm(band_groups):\n",
    "    band_combinations = itertools.chain.from_iterable(\n",
    "        itertools.combinations(band_group, r) for r in range(1, len(band_group)+1)\n",
    "    )\n",
    "    for band_combination in band_combinations:\n",
    "        model_dirs = list(model_parent_dir.glob(f'*-{\"_\".join(band_combination)}-*'))\n",
    "    \n",
    "        for model_dir in reversed(model_dirs):\n",
    "            df = pd.read_csv(model_dir.joinpath('model.log'))\n",
    "            best = df[df[best_metric] == df[best_metric].max()]\n",
    "            \n",
    "            best[all_bands] = [int(b in band_combination)*2 for b in all_bands]\n",
    "                \n",
    "            best_rows.append(best)\n",
    "            \n",
    "best_df = pd.concat(best_rows).round(2).reset_index(drop=True)"
   ]
  },
  {
   "cell_type": "code",
   "execution_count": null,
   "id": "ea018983-f959-487b-9bda-61c90da0d6d9",
   "metadata": {},
   "outputs": [],
   "source": [
    "import plot_utils\n",
    "reload(plot_utils)\n",
    "plot_utils.PlotUtils().line_heatmap(\n",
    "    best_df, all_bands, [0.5, 0.5]\n",
    ")"
   ]
  },
  {
   "cell_type": "code",
   "execution_count": null,
   "id": "b9c133ed-b865-42ad-9935-fa99da84321c",
   "metadata": {},
   "outputs": [],
   "source": []
  },
  {
   "cell_type": "code",
   "execution_count": null,
   "id": "66ab74e4-7a10-4448-a3ae-4c8b169e5d81",
   "metadata": {},
   "outputs": [],
   "source": []
  },
  {
   "cell_type": "code",
   "execution_count": null,
   "id": "b460e4fc-dc07-4238-bfa4-576718377b57",
   "metadata": {},
   "outputs": [],
   "source": []
  },
  {
   "cell_type": "code",
   "execution_count": null,
   "id": "4a77bb90-895e-499d-9071-d827b97c3881",
   "metadata": {},
   "outputs": [],
   "source": []
  }
 ],
 "metadata": {
  "kernelspec": {
   "display_name": "Python 3 (ipykernel)",
   "language": "python",
   "name": "python3"
  },
  "language_info": {
   "codemirror_mode": {
    "name": "ipython",
    "version": 3
   },
   "file_extension": ".py",
   "mimetype": "text/x-python",
   "name": "python",
   "nbconvert_exporter": "python",
   "pygments_lexer": "ipython3",
   "version": "3.10.14"
  },
  "widgets": {
   "application/vnd.jupyter.widget-state+json": {
    "state": {},
    "version_major": 2,
    "version_minor": 0
   }
  }
 },
 "nbformat": 4,
 "nbformat_minor": 5
}
