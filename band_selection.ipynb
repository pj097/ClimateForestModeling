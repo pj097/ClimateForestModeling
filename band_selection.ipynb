{
 "cells": [
  {
   "cell_type": "code",
   "execution_count": 1,
   "id": "45a09dcb-b90b-45d7-b5a2-54996a34ada0",
   "metadata": {},
   "outputs": [
    {
     "name": "stdout",
     "output_type": "stream",
     "text": [
      "env: TF_CPP_MIN_LOG_LEVEL=3\n"
     ]
    }
   ],
   "source": [
    "%env TF_CPP_MIN_LOG_LEVEL=3\n",
    "\n",
    "import numpy as np\n",
    "import pandas as pd\n",
    "\n",
    "import plotly.express as px\n",
    "import plotly.graph_objects as go\n",
    "from plotly.subplots import make_subplots\n",
    "\n",
    "from tqdm.notebook import tqdm\n",
    "from pathlib import Path\n",
    "import itertools\n",
    "\n",
    "from sklearn.model_selection import train_test_split\n",
    "from sklearn.metrics import classification_report, confusion_matrix, ConfusionMatrixDisplay, multilabel_confusion_matrix\n",
    "from sklearn.utils import shuffle\n",
    "\n",
    "import tensorflow as tf\n",
    "\n",
    "from importlib import reload\n",
    "import sentinel_utils\n",
    "import keras_model_creator\n",
    "from data_generator import DataGenerator\n",
    "\n",
    "pd.options.mode.copy_on_write = True"
   ]
  },
  {
   "cell_type": "code",
   "execution_count": 2,
   "id": "0749fbd3-b6ee-443c-b12c-741c2ee1f1bb",
   "metadata": {},
   "outputs": [],
   "source": [
    "sentinel_bands = [f'B{x}' for x in range(2, 9)] + ['B8A', 'B11', 'B12']"
   ]
  },
  {
   "cell_type": "code",
   "execution_count": 3,
   "id": "20193ece-bc6f-4569-8d56-219fab09ae0b",
   "metadata": {},
   "outputs": [],
   "source": [
    "reload(sentinel_utils)\n",
    "\n",
    "seasons = ['06']\n",
    "\n",
    "loss = 'binary_crossentropy'\n",
    "batch_size = 64\n",
    "base_filters = 32\n",
    "shards_dir = Path.home().joinpath('sentinel_data', 'shards')\n",
    "\n",
    "utils = sentinel_utils.SentinelUtils(min_occurrences=20000)\n",
    "selected_classes = utils.get_processed_labels()\n",
    "data_summary = utils.get_data_summary(\n",
    "    shards_dir, seasons, selected_classes\n",
    ")\n",
    "\n",
    "fixed_params = dict(\n",
    "    seasons=seasons,\n",
    "    data_summary=data_summary,\n",
    "    shards_dir=shards_dir,\n",
    "    loss=loss,\n",
    "    batch_size=batch_size,\n",
    "    base_filters=base_filters,\n",
    "    dropout=0.2,\n",
    "    epochs=10,\n",
    "    overwrite=False,\n",
    "    verbose=1,\n",
    "    print_log=0\n",
    ")"
   ]
  },
  {
   "cell_type": "code",
   "execution_count": null,
   "id": "d5926fbe-15c2-4fa6-8977-99eafdcb5ca3",
   "metadata": {},
   "outputs": [
    {
     "data": {
      "application/vnd.jupyter.widget-view+json": {
       "model_id": "42c4b4b3a694476daa57b371b0cc88cb",
       "version_major": 2,
       "version_minor": 0
      },
      "text/plain": [
       "  0%|          | 0/15 [00:00<?, ?it/s]"
      ]
     },
     "metadata": {},
     "output_type": "display_data"
    },
    {
     "name": "stdout",
     "output_type": "stream",
     "text": [
      "Epoch 1/10\n"
     ]
    },
    {
     "name": "stderr",
     "output_type": "stream",
     "text": [
      "WARNING: All log messages before absl::InitializeLog() is called are written to STDERR\n",
      "I0000 00:00:1722259222.605668   24725 service.cc:145] XLA service 0x7fb9680223f0 initialized for platform CUDA (this does not guarantee that XLA will be used). Devices:\n",
      "I0000 00:00:1722259222.605709   24725 service.cc:153]   StreamExecutor device (0): NVIDIA GeForce RTX 4070 Ti, Compute Capability 8.9\n",
      "I0000 00:00:1722259235.454367   24725 device_compiler.h:188] Compiled cluster using XLA!  This line is logged at most once for the lifetime of the process.\n"
     ]
    },
    {
     "name": "stdout",
     "output_type": "stream",
     "text": [
      "\u001b[1m3550/3550\u001b[0m \u001b[32m━━━━━━━━━━━━━━━━━━━━\u001b[0m\u001b[37m\u001b[0m \u001b[1m0s\u001b[0m 61ms/step - accuracy: 0.3356 - auc: 0.8060 - loss: 0.4391 - macrof1score: 0.2560 - microf1score: 0.4381 - prc: 0.5504 - precision: 0.6126 - recall: 0.3428 - weightedf1score: 0.3943"
     ]
    },
    {
     "name": "stderr",
     "output_type": "stream",
     "text": [
      "WARNING: All log messages before absl::InitializeLog() is called are written to STDERR\n",
      "I0000 00:00:1722259454.678072   25388 asm_compiler.cc:369] ptxas warning : Registers are spilled to local memory in function 'triton_gemm_dot_321', 192 bytes spill stores, 192 bytes spill loads\n",
      "\n",
      "I0000 00:00:1722259454.834184   25393 asm_compiler.cc:369] ptxas warning : Registers are spilled to local memory in function 'triton_gemm_dot_321', 308 bytes spill stores, 308 bytes spill loads\n",
      "\n"
     ]
    },
    {
     "name": "stdout",
     "output_type": "stream",
     "text": [
      "\n",
      "Epoch 1: val_recall did not improve from 0.50000\n",
      "\u001b[1m3550/3550\u001b[0m \u001b[32m━━━━━━━━━━━━━━━━━━━━\u001b[0m\u001b[37m\u001b[0m \u001b[1m242s\u001b[0m 64ms/step - accuracy: 0.3356 - auc: 0.8060 - loss: 0.4391 - macrof1score: 0.2560 - microf1score: 0.4381 - prc: 0.5504 - precision: 0.6126 - recall: 0.3428 - weightedf1score: 0.3943 - val_accuracy: 0.3441 - val_auc: 0.8398 - val_loss: 0.4135 - val_macrof1score: 0.3539 - val_microf1score: 0.5496 - val_prc: 0.6107 - val_precision: 0.6369 - val_recall: 0.4834 - val_weightedf1score: 0.5027 - learning_rate: 1.0000e-04\n",
      "Epoch 2/10\n",
      "\u001b[1m3550/3550\u001b[0m \u001b[32m━━━━━━━━━━━━━━━━━━━━\u001b[0m\u001b[37m\u001b[0m \u001b[1m0s\u001b[0m 61ms/step - accuracy: 0.3873 - auc: 0.8543 - loss: 0.3911 - macrof1score: 0.3685 - microf1score: 0.5537 - prc: 0.6337 - precision: 0.6633 - recall: 0.4751 - weightedf1score: 0.5153\n",
      "Epoch 2: val_recall improved from 0.50000 to 0.53986, saving model to models/band_selection/binary_crossentropy-237212-7-1-06-64-32-B2/model.keras\n",
      "\u001b[1m3550/3550\u001b[0m \u001b[32m━━━━━━━━━━━━━━━━━━━━\u001b[0m\u001b[37m\u001b[0m \u001b[1m225s\u001b[0m 63ms/step - accuracy: 0.3873 - auc: 0.8543 - loss: 0.3911 - macrof1score: 0.3685 - microf1score: 0.5537 - prc: 0.6337 - precision: 0.6633 - recall: 0.4751 - weightedf1score: 0.5153 - val_accuracy: 0.4112 - val_auc: 0.8508 - val_loss: 0.4041 - val_macrof1score: 0.3724 - val_microf1score: 0.5840 - val_prc: 0.6500 - val_precision: 0.6360 - val_recall: 0.5399 - val_weightedf1score: 0.5216 - learning_rate: 1.0000e-04\n",
      "Epoch 3/10\n",
      "\u001b[1m3550/3550\u001b[0m \u001b[32m━━━━━━━━━━━━━━━━━━━━\u001b[0m\u001b[37m\u001b[0m \u001b[1m0s\u001b[0m 61ms/step - accuracy: 0.4047 - auc: 0.8692 - loss: 0.3734 - macrof1score: 0.4053 - microf1score: 0.5862 - prc: 0.6671 - precision: 0.6790 - recall: 0.5157 - weightedf1score: 0.5504\n",
      "Epoch 3: val_recall did not improve from 0.53986\n",
      "\u001b[1m3550/3550\u001b[0m \u001b[32m━━━━━━━━━━━━━━━━━━━━\u001b[0m\u001b[37m\u001b[0m \u001b[1m224s\u001b[0m 63ms/step - accuracy: 0.4047 - auc: 0.8692 - loss: 0.3734 - macrof1score: 0.4053 - microf1score: 0.5862 - prc: 0.6671 - precision: 0.6790 - recall: 0.5157 - weightedf1score: 0.5504 - val_accuracy: 0.4182 - val_auc: 0.8648 - val_loss: 0.3794 - val_macrof1score: 0.3830 - val_microf1score: 0.5503 - val_prc: 0.6716 - val_precision: 0.7024 - val_recall: 0.4524 - val_weightedf1score: 0.5149 - learning_rate: 1.0000e-04\n",
      "Epoch 4/10\n",
      "\u001b[1m3550/3550\u001b[0m \u001b[32m━━━━━━━━━━━━━━━━━━━━\u001b[0m\u001b[37m\u001b[0m \u001b[1m0s\u001b[0m 62ms/step - accuracy: 0.4184 - auc: 0.8769 - loss: 0.3637 - macrof1score: 0.4280 - microf1score: 0.6046 - prc: 0.6873 - precision: 0.6905 - recall: 0.5378 - weightedf1score: 0.5706\n",
      "Epoch 4: val_recall did not improve from 0.53986\n",
      "\u001b[1m3550/3550\u001b[0m \u001b[32m━━━━━━━━━━━━━━━━━━━━\u001b[0m\u001b[37m\u001b[0m \u001b[1m226s\u001b[0m 64ms/step - accuracy: 0.4184 - auc: 0.8769 - loss: 0.3637 - macrof1score: 0.4280 - microf1score: 0.6046 - prc: 0.6873 - precision: 0.6905 - recall: 0.5378 - weightedf1score: 0.5706 - val_accuracy: 0.4105 - val_auc: 0.8779 - val_loss: 0.3628 - val_macrof1score: 0.4354 - val_microf1score: 0.6058 - val_prc: 0.7021 - val_precision: 0.7078 - val_recall: 0.5294 - val_weightedf1score: 0.5743 - learning_rate: 1.0000e-04\n",
      "Epoch 5/10\n",
      "\u001b[1m3550/3550\u001b[0m \u001b[32m━━━━━━━━━━━━━━━━━━━━\u001b[0m\u001b[37m\u001b[0m \u001b[1m0s\u001b[0m 62ms/step - accuracy: 0.4347 - auc: 0.8844 - loss: 0.3533 - macrof1score: 0.4454 - microf1score: 0.6196 - prc: 0.7061 - precision: 0.7037 - recall: 0.5534 - weightedf1score: 0.5866\n",
      "Epoch 5: val_recall improved from 0.53986 to 0.54639, saving model to models/band_selection/binary_crossentropy-237212-7-1-06-64-32-B2/model.keras\n",
      "\u001b[1m3550/3550\u001b[0m \u001b[32m━━━━━━━━━━━━━━━━━━━━\u001b[0m\u001b[37m\u001b[0m \u001b[1m227s\u001b[0m 64ms/step - accuracy: 0.4347 - auc: 0.8844 - loss: 0.3533 - macrof1score: 0.4454 - microf1score: 0.6196 - prc: 0.7061 - precision: 0.7037 - recall: 0.5534 - weightedf1score: 0.5866 - val_accuracy: 0.4358 - val_auc: 0.8846 - val_loss: 0.3535 - val_macrof1score: 0.4466 - val_microf1score: 0.6175 - val_prc: 0.7130 - val_precision: 0.7099 - val_recall: 0.5464 - val_weightedf1score: 0.5834 - learning_rate: 1.0000e-04\n",
      "Epoch 6/10\n",
      "\u001b[1m3550/3550\u001b[0m \u001b[32m━━━━━━━━━━━━━━━━━━━━\u001b[0m\u001b[37m\u001b[0m \u001b[1m0s\u001b[0m 62ms/step - accuracy: 0.4463 - auc: 0.8887 - loss: 0.3472 - macrof1score: 0.4546 - microf1score: 0.6294 - prc: 0.7171 - precision: 0.7096 - recall: 0.5655 - weightedf1score: 0.5964\n",
      "Epoch 6: val_recall improved from 0.54639 to 0.56096, saving model to models/band_selection/binary_crossentropy-237212-7-1-06-64-32-B2/model.keras\n",
      "\u001b[1m3550/3550\u001b[0m \u001b[32m━━━━━━━━━━━━━━━━━━━━\u001b[0m\u001b[37m\u001b[0m \u001b[1m227s\u001b[0m 64ms/step - accuracy: 0.4463 - auc: 0.8887 - loss: 0.3472 - macrof1score: 0.4546 - microf1score: 0.6294 - prc: 0.7171 - precision: 0.7096 - recall: 0.5655 - weightedf1score: 0.5964 - val_accuracy: 0.4518 - val_auc: 0.8900 - val_loss: 0.3475 - val_macrof1score: 0.4691 - val_microf1score: 0.6315 - val_prc: 0.7225 - val_precision: 0.7224 - val_recall: 0.5610 - val_weightedf1score: 0.6014 - learning_rate: 1.0000e-04\n",
      "Epoch 7/10\n",
      "\u001b[1m3550/3550\u001b[0m \u001b[32m━━━━━━━━━━━━━━━━━━━━\u001b[0m\u001b[37m\u001b[0m \u001b[1m0s\u001b[0m 62ms/step - accuracy: 0.4532 - auc: 0.8936 - loss: 0.3406 - macrof1score: 0.4689 - microf1score: 0.6416 - prc: 0.7285 - precision: 0.7172 - recall: 0.5805 - weightedf1score: 0.6093\n",
      "Epoch 7: val_recall did not improve from 0.56096\n",
      "\n",
      "Epoch 7: ReduceLROnPlateau reducing learning rate to 4.999999873689376e-05.\n",
      "\u001b[1m3550/3550\u001b[0m \u001b[32m━━━━━━━━━━━━━━━━━━━━\u001b[0m\u001b[37m\u001b[0m \u001b[1m227s\u001b[0m 64ms/step - accuracy: 0.4532 - auc: 0.8936 - loss: 0.3406 - macrof1score: 0.4689 - microf1score: 0.6416 - prc: 0.7285 - precision: 0.7172 - recall: 0.5805 - weightedf1score: 0.6093 - val_accuracy: 0.4448 - val_auc: 0.8744 - val_loss: 0.3652 - val_macrof1score: 0.4259 - val_microf1score: 0.6071 - val_prc: 0.6983 - val_precision: 0.6888 - val_recall: 0.5427 - val_weightedf1score: 0.5677 - learning_rate: 1.0000e-04\n",
      "Epoch 8/10\n",
      "\u001b[1m3550/3550\u001b[0m \u001b[32m━━━━━━━━━━━━━━━━━━━━\u001b[0m\u001b[37m\u001b[0m \u001b[1m0s\u001b[0m 62ms/step - accuracy: 0.4646 - auc: 0.8974 - loss: 0.3347 - macrof1score: 0.4765 - microf1score: 0.6497 - prc: 0.7385 - precision: 0.7231 - recall: 0.5899 - weightedf1score: 0.6175\n",
      "Epoch 8: val_recall did not improve from 0.56096\n",
      "\u001b[1m3550/3550\u001b[0m \u001b[32m━━━━━━━━━━━━━━━━━━━━\u001b[0m\u001b[37m\u001b[0m \u001b[1m227s\u001b[0m 64ms/step - accuracy: 0.4646 - auc: 0.8974 - loss: 0.3347 - macrof1score: 0.4765 - microf1score: 0.6497 - prc: 0.7385 - precision: 0.7231 - recall: 0.5899 - weightedf1score: 0.6175 - val_accuracy: 0.4416 - val_auc: 0.8699 - val_loss: 0.3726 - val_macrof1score: 0.4391 - val_microf1score: 0.6022 - val_prc: 0.6957 - val_precision: 0.7080 - val_recall: 0.5239 - val_weightedf1score: 0.5692 - learning_rate: 5.0000e-05\n",
      "Epoch 9/10\n",
      "\u001b[1m2448/3550\u001b[0m \u001b[32m━━━━━━━━━━━━━\u001b[0m\u001b[37m━━━━━━━\u001b[0m \u001b[1m1:08\u001b[0m 62ms/step - accuracy: 0.4713 - auc: 0.9025 - loss: 0.3274 - macrof1score: 0.4891 - microf1score: 0.6607 - prc: 0.7511 - precision: 0.7314 - recall: 0.6024 - weightedf1score: 0.6293"
     ]
    }
   ],
   "source": [
    "reload(keras_model_creator)\n",
    "band_groups = [\n",
    "    ['B2', 'B3', 'B4', 'B5'],\n",
    "    ['B6', 'B7', 'B8', 'B8A'],\n",
    "    ['B11', 'B12']\n",
    "]\n",
    "\n",
    "model_parent_dir = Path('models', 'band_selection')\n",
    "\n",
    "for i, band_group in enumerate(band_groups):\n",
    "    band_combinations = itertools.chain.from_iterable(\n",
    "        itertools.combinations(band_group, r) for r in range(1, len(band_group)+1))\n",
    "    for band_combination in (pbar := tqdm(list(band_combinations), leave=False)):\n",
    "        pbar.set_description('-'.join(band_combination))\n",
    "        band_indices = [sentinel_bands.index(b) for b in band_combination]\n",
    "    \n",
    "        model_dir = model_parent_dir.joinpath(\n",
    "            f'{loss}-{len(selected_classes.index)}'\n",
    "            f'-{selected_classes.shape[1]}-{len(band_combination)}'\n",
    "            f'-{\"_\".join(seasons)}-{batch_size}-{base_filters}'\n",
    "            f'-{\"_\".join(band_combination)}'\n",
    "        )\n",
    "        model_dir.mkdir(parents=True, exist_ok=True)\n",
    "    \n",
    "        changing_params = dict(\n",
    "            selected_classes=selected_classes,\n",
    "            model_dir=model_dir,\n",
    "            band_indices=band_indices,\n",
    "        )\n",
    "        params = fixed_params | changing_params\n",
    "        keras_model_creator.KerasModelCreator(**params).run()\n",
    "        tf.keras.backend.clear_session()\n"
   ]
  },
  {
   "cell_type": "code",
   "execution_count": null,
   "id": "b5189141-5f07-4aac-a68f-00a24ec5d69d",
   "metadata": {},
   "outputs": [],
   "source": [
    "all_bands = utils.all_bands[:10]\n",
    "best_metric = 'val_weightedf1score'\n",
    "best_rows = []\n",
    "\n",
    "for band_group in band_groups[:1]:\n",
    "    band_combinations = itertools.chain.from_iterable(\n",
    "        itertools.combinations(band_group, r) for r in range(1, len(band_group)+1)\n",
    "    )\n",
    "    for band_combination in list(band_combinations)[:4]:\n",
    "        model_dirs = list(model_parent_dir.glob(f'*-{\"_\".join(band_combination)}*'))\n",
    "        for model_dir in reversed(model_dirs):\n",
    "            \n",
    "            df = pd.read_csv(model_dir.joinpath('model.log'))\n",
    "            best = df[df[best_metric] == df[best_metric].max()]\n",
    "            \n",
    "            best[all_bands] = [int(b in band_combination)*2 for b in all_bands]\n",
    "                \n",
    "            best_rows.append(best)\n",
    "            \n",
    "best_df = pd.concat(best_rows).round(2).reset_index(drop=True)"
   ]
  },
  {
   "cell_type": "code",
   "execution_count": null,
   "id": "ea018983-f959-487b-9bda-61c90da0d6d9",
   "metadata": {},
   "outputs": [],
   "source": [
    "import plot_utils\n",
    "reload(plot_utils)\n",
    "plot_utils.PlotUtils().line_heatmap(\n",
    "    best_df, all_bands, [0.5, 0.5]\n",
    ")"
   ]
  },
  {
   "cell_type": "code",
   "execution_count": null,
   "id": "b9c133ed-b865-42ad-9935-fa99da84321c",
   "metadata": {},
   "outputs": [],
   "source": []
  },
  {
   "cell_type": "code",
   "execution_count": null,
   "id": "66ab74e4-7a10-4448-a3ae-4c8b169e5d81",
   "metadata": {},
   "outputs": [],
   "source": []
  },
  {
   "cell_type": "code",
   "execution_count": null,
   "id": "b460e4fc-dc07-4238-bfa4-576718377b57",
   "metadata": {},
   "outputs": [],
   "source": []
  },
  {
   "cell_type": "code",
   "execution_count": null,
   "id": "4a77bb90-895e-499d-9071-d827b97c3881",
   "metadata": {},
   "outputs": [],
   "source": []
  }
 ],
 "metadata": {
  "kernelspec": {
   "display_name": "Python 3 (ipykernel)",
   "language": "python",
   "name": "python3"
  },
  "language_info": {
   "codemirror_mode": {
    "name": "ipython",
    "version": 3
   },
   "file_extension": ".py",
   "mimetype": "text/x-python",
   "name": "python",
   "nbconvert_exporter": "python",
   "pygments_lexer": "ipython3",
   "version": "3.10.14"
  },
  "widgets": {
   "application/vnd.jupyter.widget-state+json": {
    "state": {},
    "version_major": 2,
    "version_minor": 0
   }
  }
 },
 "nbformat": 4,
 "nbformat_minor": 5
}
