{
 "cells": [
  {
   "cell_type": "code",
   "execution_count": 2,
   "id": "45a09dcb-b90b-45d7-b5a2-54996a34ada0",
   "metadata": {},
   "outputs": [],
   "source": [
    "from IPython.display import display, HTML\n",
    "import numpy as np\n",
    "import pandas as pd\n",
    "\n",
    "from tqdm.notebook import tqdm\n",
    "\n",
    "from pathlib import Path\n",
    "\n",
    "from time import sleep\n",
    "\n",
    "from sklearn.model_selection import train_test_split\n",
    "from sklearn.metrics import classification_report, confusion_matrix, ConfusionMatrixDisplay, multilabel_confusion_matrix\n",
    "from sklearn.utils import shuffle\n",
    "\n",
    "from importlib import reload\n",
    "import sentinel_utils\n",
    "import keras_model_creator\n",
    "\n",
    "import itertools\n",
    "\n",
    "import tensorflow as tf\n",
    "\n",
    "from data_generator import DataGenerator"
   ]
  },
  {
   "cell_type": "code",
   "execution_count": 3,
   "id": "0749fbd3-b6ee-443c-b12c-741c2ee1f1bb",
   "metadata": {},
   "outputs": [],
   "source": [
    "sentinel_bands = [f'B{x}' for x in range(2, 9)] + ['B8A', 'B11', 'B12']\n",
    "soilgrids_band = ['bdod', 'cec', 'cfvo', 'clay', 'nitrogen', 'ocd',\n",
    "                  'ocs', 'phh2o', 'sand', 'silt', 'soc']\n",
    "all_bands = sentinel_bands + ['Elevation'] + soilgrids_band"
   ]
  },
  {
   "cell_type": "code",
   "execution_count": 6,
   "id": "20193ece-bc6f-4569-8d56-219fab09ae0b",
   "metadata": {},
   "outputs": [],
   "source": [
    "reload(sentinel_utils)\n",
    "\n",
    "seasons = ['06']\n",
    "\n",
    "loss = 'binary_crossentropy'\n",
    "batch_size = 64\n",
    "base_filters = 32\n",
    "shards_dir = Path.home().joinpath('sentinel_data', 'shards')\n",
    "\n",
    "utils = sentinel_utils.SentinelUtils(min_occurrences=20000)\n",
    "selected_classes = utils.get_processed_labels()\n",
    "data_summary = utils.get_data_summary(\n",
    "    shards_dir, seasons, all_bands, selected_classes\n",
    ")\n",
    "\n",
    "fixed_params = dict(\n",
    "    seasons=seasons,\n",
    "    data_summary=data_summary,\n",
    "    shards_dir=shards_dir,\n",
    "    loss=loss,\n",
    "    batch_size=batch_size,\n",
    "    base_filters=base_filters,\n",
    "    dropout=0.2,\n",
    "    epochs=11,\n",
    "    overwrite=False,\n",
    "    verbose=1\n",
    ")"
   ]
  },
  {
   "cell_type": "code",
   "execution_count": 9,
   "id": "d5926fbe-15c2-4fa6-8977-99eafdcb5ca3",
   "metadata": {},
   "outputs": [
    {
     "data": {
      "application/vnd.jupyter.widget-view+json": {
       "model_id": "9d1273a208d44c5f80a7f9206ea80a13",
       "version_major": 2,
       "version_minor": 0
      },
      "text/plain": [
       "  0%|          | 0/3 [00:00<?, ?it/s]"
      ]
     },
     "metadata": {},
     "output_type": "display_data"
    },
    {
     "data": {
      "application/vnd.jupyter.widget-view+json": {
       "model_id": "",
       "version_major": 2,
       "version_minor": 0
      },
      "text/plain": [
       "  0%|          | 0/15 [00:00<?, ?it/s]"
      ]
     },
     "metadata": {},
     "output_type": "display_data"
    },
    {
     "name": "stdout",
     "output_type": "stream",
     "text": [
      "models/binary_crossentropy-237212-7-1-06-64-32-B2\n",
      "models/binary_crossentropy-237212-7-1-06-64-32-B3\n",
      "models/binary_crossentropy-237212-7-1-06-64-32-B4\n",
      "models/binary_crossentropy-237212-7-1-06-64-32-B5\n",
      "models/binary_crossentropy-237212-7-2-06-64-32-B2_B3\n",
      "models/binary_crossentropy-237212-7-2-06-64-32-B2_B4\n",
      "models/binary_crossentropy-237212-7-2-06-64-32-B2_B5\n",
      "models/binary_crossentropy-237212-7-2-06-64-32-B3_B4\n",
      "models/binary_crossentropy-237212-7-2-06-64-32-B3_B5\n",
      "models/binary_crossentropy-237212-7-2-06-64-32-B4_B5\n",
      "models/binary_crossentropy-237212-7-3-06-64-32-B2_B3_B4\n",
      "models/binary_crossentropy-237212-7-3-06-64-32-B2_B3_B5\n",
      "models/binary_crossentropy-237212-7-3-06-64-32-B2_B4_B5\n",
      "models/binary_crossentropy-237212-7-3-06-64-32-B3_B4_B5\n",
      "models/binary_crossentropy-237212-7-4-06-64-32-B2_B3_B4_B5\n"
     ]
    },
    {
     "data": {
      "application/vnd.jupyter.widget-view+json": {
       "model_id": "",
       "version_major": 2,
       "version_minor": 0
      },
      "text/plain": [
       "  0%|          | 0/15 [00:00<?, ?it/s]"
      ]
     },
     "metadata": {},
     "output_type": "display_data"
    },
    {
     "name": "stdout",
     "output_type": "stream",
     "text": [
      "models/binary_crossentropy-237212-7-1-06-64-32-B6\n",
      "models/binary_crossentropy-237212-7-1-06-64-32-B7\n",
      "models/binary_crossentropy-237212-7-1-06-64-32-B8\n",
      "models/binary_crossentropy-237212-7-1-06-64-32-B8A\n",
      "models/binary_crossentropy-237212-7-2-06-64-32-B6_B7\n",
      "models/binary_crossentropy-237212-7-2-06-64-32-B6_B8\n",
      "models/binary_crossentropy-237212-7-2-06-64-32-B6_B8A\n",
      "models/binary_crossentropy-237212-7-2-06-64-32-B7_B8\n",
      "models/binary_crossentropy-237212-7-2-06-64-32-B7_B8A\n",
      "models/binary_crossentropy-237212-7-2-06-64-32-B8_B8A\n",
      "models/binary_crossentropy-237212-7-3-06-64-32-B6_B7_B8\n",
      "models/binary_crossentropy-237212-7-3-06-64-32-B6_B7_B8A\n",
      "models/binary_crossentropy-237212-7-3-06-64-32-B6_B8_B8A\n",
      "models/binary_crossentropy-237212-7-3-06-64-32-B7_B8_B8A\n",
      "models/binary_crossentropy-237212-7-4-06-64-32-B6_B7_B8_B8A\n"
     ]
    },
    {
     "data": {
      "application/vnd.jupyter.widget-view+json": {
       "model_id": "",
       "version_major": 2,
       "version_minor": 0
      },
      "text/plain": [
       "  0%|          | 0/3 [00:00<?, ?it/s]"
      ]
     },
     "metadata": {},
     "output_type": "display_data"
    },
    {
     "name": "stdout",
     "output_type": "stream",
     "text": [
      "models/binary_crossentropy-237212-7-1-06-64-32-B11\n",
      "models/binary_crossentropy-237212-7-1-06-64-32-B12\n",
      "models/binary_crossentropy-237212-7-2-06-64-32-B11_B12\n"
     ]
    }
   ],
   "source": [
    "reload(keras_model_creator)\n",
    "\n",
    "band_groups = [\n",
    "    ['B2', 'B3', 'B4', 'B5'],\n",
    "    ['B6', 'B7', 'B8', 'B8A'],\n",
    "    ['B11', 'B12']\n",
    "]\n",
    "for band_group in tqdm(band_groups):\n",
    "    band_combinations = itertools.chain.from_iterable(\n",
    "        itertools.combinations(band_group, r) for r in range(1, len(band_group)+1))\n",
    "    for band_combination in (pbar := tqdm(list(band_combinations), leave=False)):\n",
    "        pbar.set_description('-'.join(band_combination))\n",
    "        band_indices = [all_bands.index(b) for b in band_combination]\n",
    "    \n",
    "        model_dir = Path('models', 'band_selection',\n",
    "            f'{loss}-{len(selected_classes.index)}'\n",
    "            f'-{selected_classes.shape[1]}-{len(bands)}'\n",
    "            f'-{\"_\".join(seasons)}-{batch_size}-{base_filters}'\n",
    "            f'-{\"_\".join(band_combination)}'\n",
    "        )\n",
    "        model_dir.mkdir(parents=True, exist_ok=True)\n",
    "    \n",
    "        changing_params = dict(\n",
    "            selected_classes=selected_classes,\n",
    "            model_dir=model_dir,\n",
    "            band_indices=band_indices,\n",
    "        )\n",
    "        params = fixed_params | changing_params\n",
    "        model, testing_generator = keras_model_creator.KerasModelCreator(**params).run()\n"
   ]
  },
  {
   "cell_type": "markdown",
   "id": "3837c097-514c-49ee-8b9b-df10da53ebfc",
   "metadata": {},
   "source": [
    "Evaluate the model for given years and save the results in the model's directory."
   ]
  },
  {
   "cell_type": "code",
   "execution_count": null,
   "id": "77a57cfb-f044-4572-80c9-56b44f37a044",
   "metadata": {},
   "outputs": [],
   "source": [
    "# for eval_year in [2017, 2020, 2021, 2022, 2023]:\n",
    "    # eval_generator = DataGenerator(\n",
    "        # utils.selected_classes.index, shuffle=False, year=eval_year, **params)\n",
    "#     preds_path = model_dir.joinpath(f\"preds_{params['year']}.npy\")\n",
    "#     if preds_path.is_file():\n",
    "#         y_pred = np.load(preds_path)\n",
    "#     else:\n",
    "#         y_pred = model.predict(x=eval_generator, verbose=1)\n",
    "#         np.save(preds_path, y_pred)\n",
    "\n",
    "#     y_true = utils.selected_classes.iloc[:y_pred.shape[0]].to_numpy()\n",
    "#     cm = confusion_matrix(y_true.flatten(), (y_pred > 0.5).flatten().astype(int))\n",
    "#     plot = ConfusionMatrixDisplay(confusion_matrix=cm).plot()\n",
    "#     display(plot)"
   ]
  },
  {
   "cell_type": "markdown",
   "id": "ea3e6f12-dd14-4343-9c6d-773fa3a785e2",
   "metadata": {},
   "source": [
    "Visualise the confusion matrix for each class."
   ]
  },
  {
   "cell_type": "code",
   "execution_count": null,
   "id": "4b31e04e-9435-44d6-95d4-a9258e024215",
   "metadata": {},
   "outputs": [],
   "source": [
    "# import matplotlib.pyplot as plt\n",
    "\n",
    "# class_names = utils.selected_classes.columns\n",
    "\n",
    "# f, axes = plt.subplots(4, 2, figsize=(25, 30))\n",
    "# axes = axes.ravel()\n",
    "# for label in range(y_true.shape[1]):\n",
    "#     cm = confusion_matrix(y_true[..., label].astype(int), (y_pred[..., label] > 0.5).astype(int))\n",
    "#     disp = ConfusionMatrixDisplay(cm)\n",
    "#     disp.plot(ax=axes[label], values_format='.4g')\n",
    "#     disp.ax_.set_title(f'{class_names[label]}')\n",
    "#     if label < 25:\n",
    "#         disp.ax_.set_xlabel('')\n",
    "#     if label % 5 != 0:\n",
    "#         disp.ax_.set_ylabel('')\n",
    "#     disp.im_.colorbar.remove()\n",
    "\n",
    "# plt.subplots_adjust(wspace=0.2, hspace=0.001)\n",
    "# f.colorbar(disp.im_, ax=axes)\n",
    "# plt.show()\n"
   ]
  },
  {
   "cell_type": "code",
   "execution_count": null,
   "id": "8ded61bd-6527-4b12-bd22-d3404e4a5040",
   "metadata": {},
   "outputs": [],
   "source": [
    "# import tensorflow\n",
    "# tensorflow.keras.utils.plot_model(model, show_shapes=True)\n",
    "# model.summary()"
   ]
  },
  {
   "cell_type": "markdown",
   "id": "f641a5cd-e57c-4d5f-90cd-85f50929af91",
   "metadata": {},
   "source": [
    "Visualise the model."
   ]
  },
  {
   "cell_type": "code",
   "execution_count": null,
   "id": "bd7dfc9b-afde-43c1-a167-9a8fba6690ab",
   "metadata": {},
   "outputs": [],
   "source": [
    "# import tensorflow\n",
    "# tensorflow.keras.utils.plot_model(\n",
    "#     model, to_file=model_dir.joinpath('model.png'),\n",
    "#     show_shapes=True, show_layer_activations=True,\n",
    "# )"
   ]
  },
  {
   "cell_type": "markdown",
   "id": "70a0cc0b-d45a-4a45-9c4f-beac8233e779",
   "metadata": {},
   "source": [
    "Correlate the model with climate variables (to move?)"
   ]
  },
  {
   "cell_type": "code",
   "execution_count": null,
   "id": "138d220c-0c2d-459a-b995-ec95e3036002",
   "metadata": {},
   "outputs": [],
   "source": [
    "# import plotly.express as px\n",
    "\n",
    "# class_names = utils.selected_classes.columns\n",
    "# indices = utils.selected_classes.index\n",
    "\n",
    "# preds_path = model_dir.joinpath(f'preds_2020.npy')\n",
    "# y_prev = np.load(preds_path)\n",
    "\n",
    "# weather_prev = pd.read_csv(Path('weather_data', 'era5_2020.csv'))\n",
    "# eval_years = [2021, 2022, 2023]\n",
    "# corrs = []\n",
    "\n",
    "# for eval_year in eval_years:\n",
    "#     preds_path = model_dir.joinpath(f'preds_{eval_year}.npy')\n",
    "#     y_pred = np.load(preds_path)\n",
    "#     y_diff = pd.DataFrame(y_pred - y_prev, columns=class_names)\n",
    "    \n",
    "#     weather = pd.read_csv(Path('weather_data', f'era5_{eval_year}.csv'))\n",
    "#     weather_diff = ((weather - weather_prev)\n",
    "#                     .loc[indices]\n",
    "#                     .iloc[:y_pred.shape[0]]\n",
    "#                     .iloc[y_diff.index])\n",
    "    \n",
    "#     corr = y_diff.join(weather_diff).corr(method='pearson').round(2)\n",
    "#     corrs.append(corr)\n",
    "\n",
    "#     y_prev = y_pred\n",
    "#     weather_prev = weather\n",
    "\n",
    "# fig = px.imshow(\n",
    "#     np.array(corrs),\n",
    "#     animation_frame=0,\n",
    "#     labels=dict(color=\"Corr coef\"),\n",
    "#     x=corrs[0].index,\n",
    "#     y=corrs[0].columns,\n",
    "#     title='Annual correlation heatmap',\n",
    "#     text_auto=True, aspect='auto', zmin=0, height=500\n",
    "# )\n",
    "# fig.layout.sliders[0]['currentvalue']['prefix'] = ''\n",
    "# for year, step in zip(eval_years, fig.layout.sliders[0].steps):\n",
    "#     step.label = str(year)\n",
    "\n",
    "# fig"
   ]
  },
  {
   "cell_type": "code",
   "execution_count": null,
   "id": "b5189141-5f07-4aac-a68f-00a24ec5d69d",
   "metadata": {},
   "outputs": [],
   "source": []
  },
  {
   "cell_type": "code",
   "execution_count": null,
   "id": "ea018983-f959-487b-9bda-61c90da0d6d9",
   "metadata": {},
   "outputs": [],
   "source": []
  },
  {
   "cell_type": "code",
   "execution_count": null,
   "id": "b9c133ed-b865-42ad-9935-fa99da84321c",
   "metadata": {},
   "outputs": [],
   "source": []
  },
  {
   "cell_type": "code",
   "execution_count": null,
   "id": "66ab74e4-7a10-4448-a3ae-4c8b169e5d81",
   "metadata": {},
   "outputs": [],
   "source": []
  },
  {
   "cell_type": "code",
   "execution_count": null,
   "id": "b460e4fc-dc07-4238-bfa4-576718377b57",
   "metadata": {},
   "outputs": [],
   "source": []
  },
  {
   "cell_type": "code",
   "execution_count": null,
   "id": "4a77bb90-895e-499d-9071-d827b97c3881",
   "metadata": {},
   "outputs": [],
   "source": []
  }
 ],
 "metadata": {
  "kernelspec": {
   "display_name": "Python 3 (ipykernel)",
   "language": "python",
   "name": "python3"
  },
  "language_info": {
   "codemirror_mode": {
    "name": "ipython",
    "version": 3
   },
   "file_extension": ".py",
   "mimetype": "text/x-python",
   "name": "python",
   "nbconvert_exporter": "python",
   "pygments_lexer": "ipython3",
   "version": "3.10.14"
  },
  "widgets": {
   "application/vnd.jupyter.widget-state+json": {
    "state": {},
    "version_major": 2,
    "version_minor": 0
   }
  }
 },
 "nbformat": 4,
 "nbformat_minor": 5
}
