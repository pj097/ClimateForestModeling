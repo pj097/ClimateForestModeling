{
 "cells": [
  {
   "cell_type": "code",
   "execution_count": 1,
   "id": "ccc611d4-bd39-465c-8ad1-162c494f92e5",
   "metadata": {},
   "outputs": [
    {
     "name": "stdout",
     "output_type": "stream",
     "text": [
      "env: TF_CPP_MIN_LOG_LEVEL=3\n"
     ]
    }
   ],
   "source": [
    "%env TF_CPP_MIN_LOG_LEVEL=3\n",
    "\n",
    "import geopandas as gpd\n",
    "import numpy as np\n",
    "import pandas as pd\n",
    "from sklearn.metrics import confusion_matrix, ConfusionMatrixDisplay\n",
    "\n",
    "import datetime\n",
    "from pathlib import Path\n",
    "\n",
    "import plotly.express as px\n",
    "\n",
    "import tensorflow as tf\n",
    "\n",
    "from tqdm.notebook import tqdm\n",
    "\n",
    "from importlib import reload\n",
    "import keras_model_creator\n",
    "import sentinel_utils\n",
    "import plot_utils\n",
    "from data_generator import DataGenerator"
   ]
  },
  {
   "cell_type": "code",
   "execution_count": 2,
   "id": "578c9f40-25ef-49e9-a4e4-11bde389fed1",
   "metadata": {},
   "outputs": [],
   "source": [
    "# sentinel_bands = [f'B{x}' for x in range(2, 9)] + ['B8A', 'B11', 'B12']\n",
    "# shards_dir = Path.home().joinpath('sentinel_data', 'shards')\n",
    "# indices = [sentinel_bands.index(b) for b in ['B3', 'B8', 'B6', 'B11']]\n",
    "# shards = list(shards_dir.joinpath('features_201706').glob('feature*.npy'))\n",
    "# for shard in tqdm(shards):\n",
    "#     data = np.copy(np.load(shard))\n",
    "#     np.save(\n",
    "#         shards_dir.joinpath('features_2017', shard.stem),\n",
    "#         data[..., indices]\n",
    "#     )"
   ]
  },
  {
   "cell_type": "code",
   "execution_count": 3,
   "id": "21d4be11-8df6-424a-902b-1eb7820d10ed",
   "metadata": {},
   "outputs": [],
   "source": [
    "reload(sentinel_utils)\n",
    "\n",
    "model_dir = Path('models', 'selected_model')\n",
    "shards_dir = Path.home().joinpath('sentinel_data', 'shards')\n",
    "\n",
    "utils = sentinel_utils.SentinelUtils(min_occurrences=20000)\n",
    "\n",
    "selected_classes = utils.get_processed_labels()\n",
    "\n",
    "data_summary = utils.get_data_summary(\n",
    "    shards_dir, selected_classes, overwrite_existing=False\n",
    ")\n",
    "\n",
    "loss = 'binary_crossentropy'\n",
    "batch_size = 64\n",
    "base_filters = 32\n",
    "\n",
    "model_parent_dir = Path('models')\n",
    "model_dir = model_parent_dir.joinpath(\n",
    "    f'{loss}-{len(selected_classes.index)}'\n",
    "    f'-{selected_classes.shape[1]}-{batch_size}-{base_filters}'\n",
    ")\n",
    "model_dir.mkdir(parents=True, exist_ok=True)\n",
    "\n",
    "params = dict(\n",
    "    loss=loss,\n",
    "    base_filters=base_filters,\n",
    "    shards_dir=shards_dir,\n",
    "    selected_classes=selected_classes,\n",
    "    data_summary=data_summary,\n",
    "    batch_size=64,\n",
    "    dropout=0.3,\n",
    "    epochs=10,\n",
    "    overwrite=True,\n",
    "    verbose=1,\n",
    "    print_log=0\n",
    ")"
   ]
  },
  {
   "cell_type": "code",
   "execution_count": null,
   "id": "f5474a85-ef57-407b-a568-6fb6b940958a",
   "metadata": {},
   "outputs": [
    {
     "name": "stdout",
     "output_type": "stream",
     "text": [
      "Epoch 1/10\n"
     ]
    },
    {
     "name": "stderr",
     "output_type": "stream",
     "text": [
      "WARNING: All log messages before absl::InitializeLog() is called are written to STDERR\n",
      "I0000 00:00:1722597184.362828   32421 service.cc:145] XLA service 0x7f823800a780 initialized for platform CUDA (this does not guarantee that XLA will be used). Devices:\n",
      "I0000 00:00:1722597184.362869   32421 service.cc:153]   StreamExecutor device (0): NVIDIA GeForce RTX 4070 Ti, Compute Capability 8.9\n",
      "I0000 00:00:1722597192.312522   32421 device_compiler.h:188] Compiled cluster using XLA!  This line is logged at most once for the lifetime of the process.\n"
     ]
    },
    {
     "name": "stdout",
     "output_type": "stream",
     "text": [
      "\u001b[1m3550/3550\u001b[0m \u001b[32m━━━━━━━━━━━━━━━━━━━━\u001b[0m\u001b[37m\u001b[0m \u001b[1m0s\u001b[0m 36ms/step - accuracy: 0.4059 - auc: 0.7907 - loss: 0.4629 - macrof1score: 0.4145 - microf1score: 0.5332 - prc: 0.5807 - precision: 0.5877 - recall: 0.4885 - weightedf1score: 0.5326\n",
      "Epoch 1: val_recall improved from 0.50000 to 0.54220, saving model to models/binary_crossentropy-237212-7-64-32/model.keras\n",
      "\u001b[1m3550/3550\u001b[0m \u001b[32m━━━━━━━━━━━━━━━━━━━━\u001b[0m\u001b[37m\u001b[0m \u001b[1m146s\u001b[0m 38ms/step - accuracy: 0.4059 - auc: 0.7907 - loss: 0.4629 - macrof1score: 0.4145 - microf1score: 0.5332 - prc: 0.5807 - precision: 0.5878 - recall: 0.4885 - weightedf1score: 0.5326 - val_accuracy: 0.4597 - val_auc: 0.8688 - val_loss: 0.3796 - val_macrof1score: 0.4241 - val_microf1score: 0.6069 - val_prc: 0.6919 - val_precision: 0.6892 - val_recall: 0.5422 - val_weightedf1score: 0.5702 - learning_rate: 1.0000e-04\n",
      "Epoch 2/10\n",
      "\u001b[1m2602/3550\u001b[0m \u001b[32m━━━━━━━━━━━━━━\u001b[0m\u001b[37m━━━━━━\u001b[0m \u001b[1m33s\u001b[0m 36ms/step - accuracy: 0.4725 - auc: 0.8868 - loss: 0.3482 - macrof1score: 0.4438 - microf1score: 0.6386 - prc: 0.7351 - precision: 0.7336 - recall: 0.5653 - weightedf1score: 0.6005"
     ]
    }
   ],
   "source": [
    "opt = tf.keras.optimizers.Adam(\n",
    "    learning_rate=1e-4,\n",
    "    beta_1=0.9,\n",
    "    beta_2=0.999,\n",
    ")\n",
    "params['opt'] = opt\n",
    "params['model_dir'] = model_dir\n",
    "\n",
    "reload(keras_model_creator)\n",
    "model, testing_generator = keras_model_creator.KerasModelCreator(**params).run()"
   ]
  },
  {
   "cell_type": "code",
   "execution_count": null,
   "id": "52a5da23-ab39-4f18-aa6a-b249e4beadb5",
   "metadata": {},
   "outputs": [],
   "source": [
    "model.summary()"
   ]
  },
  {
   "cell_type": "code",
   "execution_count": null,
   "id": "764e4320-e4fe-41f2-95ef-74268cf2479c",
   "metadata": {},
   "outputs": [],
   "source": []
  },
  {
   "cell_type": "code",
   "execution_count": null,
   "id": "b338c2a0-5c4e-4c59-acd4-25f2a07358a7",
   "metadata": {},
   "outputs": [],
   "source": []
  },
  {
   "cell_type": "code",
   "execution_count": null,
   "id": "6f79e0bb-81e2-4f5c-8a37-4d3b30829417",
   "metadata": {},
   "outputs": [],
   "source": []
  }
 ],
 "metadata": {
  "kernelspec": {
   "display_name": "Python 3 (ipykernel)",
   "language": "python",
   "name": "python3"
  },
  "language_info": {
   "codemirror_mode": {
    "name": "ipython",
    "version": 3
   },
   "file_extension": ".py",
   "mimetype": "text/x-python",
   "name": "python",
   "nbconvert_exporter": "python",
   "pygments_lexer": "ipython3",
   "version": "3.10.14"
  }
 },
 "nbformat": 4,
 "nbformat_minor": 5
}
