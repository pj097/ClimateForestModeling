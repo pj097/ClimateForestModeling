{
 "cells": [
  {
   "cell_type": "code",
   "execution_count": 8,
   "id": "ccc611d4-bd39-465c-8ad1-162c494f92e5",
   "metadata": {},
   "outputs": [
    {
     "data": {
      "text/html": [
       "\n",
       "            <style>\n",
       "                .geemap-dark {\n",
       "                    --jp-widgets-color: white;\n",
       "                    --jp-widgets-label-color: white;\n",
       "                    --jp-ui-font-color1: white;\n",
       "                    --jp-layout-color2: #454545;\n",
       "                    background-color: #383838;\n",
       "                }\n",
       "\n",
       "                .geemap-dark .jupyter-button {\n",
       "                    --jp-layout-color3: #383838;\n",
       "                }\n",
       "\n",
       "                .geemap-colab {\n",
       "                    background-color: var(--colab-primary-surface-color, white);\n",
       "                }\n",
       "\n",
       "                .geemap-colab .jupyter-button {\n",
       "                    --jp-layout-color3: var(--colab-primary-surface-color, white);\n",
       "                }\n",
       "            </style>\n",
       "            "
      ],
      "text/plain": [
       "<IPython.core.display.HTML object>"
      ]
     },
     "metadata": {},
     "output_type": "display_data"
    },
    {
     "name": "stdout",
     "output_type": "stream",
     "text": [
      "env: TF_CPP_MIN_LOG_LEVEL=3\n"
     ]
    }
   ],
   "source": [
    "%env TF_CPP_MIN_LOG_LEVEL=3\n",
    "\n",
    "import geopandas as gpd\n",
    "import numpy as np\n",
    "import pandas as pd\n",
    "from sklearn.metrics import confusion_matrix, ConfusionMatrixDisplay\n",
    "\n",
    "import datetime\n",
    "from pathlib import Path\n",
    "\n",
    "import plotly.express as px\n",
    "import plotly.graph_objects as go\n",
    "\n",
    "import tensorflow as tf\n",
    "\n",
    "from tqdm.notebook import tqdm\n",
    "\n",
    "from concurrent.futures import ThreadPoolExecutor\n",
    "\n",
    "from importlib import reload\n",
    "import keras_model_creator\n",
    "import sentinel_utils\n",
    "import plot_utils\n",
    "import ee_downloader\n",
    "from data_generator import DataGenerator"
   ]
  },
  {
   "cell_type": "code",
   "execution_count": 9,
   "id": "21d4be11-8df6-424a-902b-1eb7820d10ed",
   "metadata": {},
   "outputs": [
    {
     "data": {
      "text/html": [
       "\n",
       "            <style>\n",
       "                .geemap-dark {\n",
       "                    --jp-widgets-color: white;\n",
       "                    --jp-widgets-label-color: white;\n",
       "                    --jp-ui-font-color1: white;\n",
       "                    --jp-layout-color2: #454545;\n",
       "                    background-color: #383838;\n",
       "                }\n",
       "\n",
       "                .geemap-dark .jupyter-button {\n",
       "                    --jp-layout-color3: #383838;\n",
       "                }\n",
       "\n",
       "                .geemap-colab {\n",
       "                    background-color: var(--colab-primary-surface-color, white);\n",
       "                }\n",
       "\n",
       "                .geemap-colab .jupyter-button {\n",
       "                    --jp-layout-color3: var(--colab-primary-surface-color, white);\n",
       "                }\n",
       "            </style>\n",
       "            "
      ],
      "text/plain": [
       "<IPython.core.display.HTML object>"
      ]
     },
     "metadata": {},
     "output_type": "display_data"
    },
    {
     "data": {
      "application/vnd.jupyter.widget-view+json": {
       "model_id": "7de499df8e684fab8486fadab7cb4743",
       "version_major": 2,
       "version_minor": 0
      },
      "text/plain": [
       "  0%|          | 0/2 [00:00<?, ?it/s]"
      ]
     },
     "metadata": {},
     "output_type": "display_data"
    },
    {
     "data": {
      "application/vnd.jupyter.widget-view+json": {
       "model_id": "7e9a0171b6e64593a5f5a46d861c8b04",
       "version_major": 2,
       "version_minor": 0
      },
      "text/plain": [
       "  0%|          | 0/2 [00:00<?, ?it/s]"
      ]
     },
     "metadata": {},
     "output_type": "display_data"
    },
    {
     "data": {
      "application/vnd.jupyter.widget-view+json": {
       "model_id": "f89ac4c7fc7145feab647bcf9844c0f2",
       "version_major": 2,
       "version_minor": 0
      },
      "text/plain": [
       "  0%|          | 0/40000 [00:00<?, ?it/s]"
      ]
     },
     "metadata": {},
     "output_type": "display_data"
    },
    {
     "data": {
      "application/vnd.jupyter.widget-view+json": {
       "model_id": "5da657993c4847eea1c151efe71d2288",
       "version_major": 2,
       "version_minor": 0
      },
      "text/plain": [
       "  0%|          | 0/40000 [00:00<?, ?it/s]"
      ]
     },
     "metadata": {},
     "output_type": "display_data"
    },
    {
     "data": {
      "application/vnd.jupyter.widget-view+json": {
       "model_id": "7bf89af8fe0145a3afba9fd8f8eec462",
       "version_major": 2,
       "version_minor": 0
      },
      "text/plain": [
       "  0%|          | 0/2 [00:00<?, ?it/s]"
      ]
     },
     "metadata": {},
     "output_type": "display_data"
    },
    {
     "data": {
      "application/vnd.jupyter.widget-view+json": {
       "model_id": "8562e056d8ed4a8f942615ba6e27aa3f",
       "version_major": 2,
       "version_minor": 0
      },
      "text/plain": [
       "  0%|          | 0/40000 [00:00<?, ?it/s]"
      ]
     },
     "metadata": {},
     "output_type": "display_data"
    },
    {
     "data": {
      "application/vnd.jupyter.widget-view+json": {
       "model_id": "7f55bb851f68428dbd9e37757756b51e",
       "version_major": 2,
       "version_minor": 0
      },
      "text/plain": [
       "  0%|          | 0/40000 [00:00<?, ?it/s]"
      ]
     },
     "metadata": {},
     "output_type": "display_data"
    }
   ],
   "source": [
    "reload(sentinel_utils)\n",
    "\n",
    "model_dir = Path('models', 'selected_model')\n",
    "shards_dir = Path.home().joinpath('sentinel_data', 'shards')\n",
    "\n",
    "utils = sentinel_utils.SentinelUtils(min_occurrences=10000)\n",
    "\n",
    "selected_classes = utils.get_processed_labels()\n",
    "\n",
    "training_years = '2017_2018_2019'\n",
    "data_summary = utils.get_data_summary(\n",
    "    selected_classes, training_years=training_years\n",
    ")\n",
    "\n",
    "batch_size = 64\n",
    "\n",
    "model_parent_dir = Path('models')\n",
    "model_dir = model_parent_dir.joinpath(\n",
    "    f'hypertuned-{len(selected_classes.index)}'\n",
    "    f'-{selected_classes.shape[1]}-{batch_size}'\n",
    ")\n",
    "model_dir.mkdir(parents=True, exist_ok=True)\n",
    "\n",
    "params = dict(\n",
    "    selected_classes=selected_classes,\n",
    "    data_summary=data_summary,\n",
    "    model_dir=model_dir,\n",
    "    batch_size=batch_size,\n",
    "    years=training_years,\n",
    "    epochs=10,\n",
    "    overwrite=True,\n",
    "    verbose=1,\n",
    "    print_log=1,    \n",
    ")"
   ]
  },
  {
   "cell_type": "code",
   "execution_count": 11,
   "id": "77a6b09a-fd0f-40aa-a7c8-6e4b16d5b463",
   "metadata": {},
   "outputs": [
    {
     "data": {
      "text/html": [
       "\n",
       "            <style>\n",
       "                .geemap-dark {\n",
       "                    --jp-widgets-color: white;\n",
       "                    --jp-widgets-label-color: white;\n",
       "                    --jp-ui-font-color1: white;\n",
       "                    --jp-layout-color2: #454545;\n",
       "                    background-color: #383838;\n",
       "                }\n",
       "\n",
       "                .geemap-dark .jupyter-button {\n",
       "                    --jp-layout-color3: #383838;\n",
       "                }\n",
       "\n",
       "                .geemap-colab {\n",
       "                    background-color: var(--colab-primary-surface-color, white);\n",
       "                }\n",
       "\n",
       "                .geemap-colab .jupyter-button {\n",
       "                    --jp-layout-color3: var(--colab-primary-surface-color, white);\n",
       "                }\n",
       "            </style>\n",
       "            "
      ],
      "text/plain": [
       "<IPython.core.display.HTML object>"
      ]
     },
     "metadata": {},
     "output_type": "display_data"
    },
    {
     "data": {
      "text/plain": [
       "(243525, 13)"
      ]
     },
     "execution_count": 11,
     "metadata": {},
     "output_type": "execute_result"
    }
   ],
   "source": [
    "selected_classes.shape"
   ]
  },
  {
   "cell_type": "code",
   "execution_count": 3,
   "id": "f5474a85-ef57-407b-a568-6fb6b940958a",
   "metadata": {},
   "outputs": [
    {
     "data": {
      "text/html": [
       "\n",
       "            <style>\n",
       "                .geemap-dark {\n",
       "                    --jp-widgets-color: white;\n",
       "                    --jp-widgets-label-color: white;\n",
       "                    --jp-ui-font-color1: white;\n",
       "                    --jp-layout-color2: #454545;\n",
       "                    background-color: #383838;\n",
       "                }\n",
       "\n",
       "                .geemap-dark .jupyter-button {\n",
       "                    --jp-layout-color3: #383838;\n",
       "                }\n",
       "\n",
       "                .geemap-colab {\n",
       "                    background-color: var(--colab-primary-surface-color, white);\n",
       "                }\n",
       "\n",
       "                .geemap-colab .jupyter-button {\n",
       "                    --jp-layout-color3: var(--colab-primary-surface-color, white);\n",
       "                }\n",
       "            </style>\n",
       "            "
      ],
      "text/plain": [
       "<IPython.core.display.HTML object>"
      ]
     },
     "metadata": {},
     "output_type": "display_data"
    }
   ],
   "source": [
    "# reload(keras_model_creator)\n",
    "# model, testing_generator = keras_model_creator.KerasModelCreator(**params).run()"
   ]
  },
  {
   "cell_type": "code",
   "execution_count": 4,
   "id": "764e4320-e4fe-41f2-95ef-74268cf2479c",
   "metadata": {},
   "outputs": [
    {
     "data": {
      "text/html": [
       "\n",
       "            <style>\n",
       "                .geemap-dark {\n",
       "                    --jp-widgets-color: white;\n",
       "                    --jp-widgets-label-color: white;\n",
       "                    --jp-ui-font-color1: white;\n",
       "                    --jp-layout-color2: #454545;\n",
       "                    background-color: #383838;\n",
       "                }\n",
       "\n",
       "                .geemap-dark .jupyter-button {\n",
       "                    --jp-layout-color3: #383838;\n",
       "                }\n",
       "\n",
       "                .geemap-colab {\n",
       "                    background-color: var(--colab-primary-surface-color, white);\n",
       "                }\n",
       "\n",
       "                .geemap-colab .jupyter-button {\n",
       "                    --jp-layout-color3: var(--colab-primary-surface-color, white);\n",
       "                }\n",
       "            </style>\n",
       "            "
      ],
      "text/plain": [
       "<IPython.core.display.HTML object>"
      ]
     },
     "metadata": {},
     "output_type": "display_data"
    },
    {
     "data": {
      "application/vnd.jupyter.widget-view+json": {
       "model_id": "572126e8c6844aba91795772a7549e20",
       "version_major": 2,
       "version_minor": 0
      },
      "text/plain": [
       "  0%|          | 0/5 [00:00<?, ?it/s]"
      ]
     },
     "metadata": {},
     "output_type": "display_data"
    }
   ],
   "source": [
    "y_true = selected_classes.to_numpy()\n",
    "\n",
    "weather_median = pd.read_csv(Path('weather_data', 'era5_2017.csv'))\n",
    "weather_median = weather_median.interpolate(method='nearest').ffill().bfill()\n",
    "\n",
    "eval_years = list(range(2020, 2025))\n",
    "corrs = []\n",
    "\n",
    "weather_diffs = []\n",
    "y_diffs = []\n",
    "\n",
    "for eval_year in tqdm(eval_years):\n",
    "    eval_generator = DataGenerator(\n",
    "        selected_classes.index, shuffle=False, year=eval_year, **params\n",
    "    )\n",
    "    preds_path = model_dir.joinpath(f'preds_{eval_year}.npy')\n",
    "    if preds_path.is_file():\n",
    "        y_pred = np.load(preds_path)\n",
    "    else:\n",
    "        y_pred = model.predict(x=eval_generator, verbose=1)\n",
    "        np.save(preds_path, y_pred)\n",
    "\n",
    "    weather = pd.read_csv(Path('weather_data', f'era5_{eval_year}.csv'))\n",
    "    weather = weather.interpolate(method='nearest').ffill().bfill()\n",
    "\n",
    "    y_diff = pd.DataFrame(\n",
    "        y_pred - y_true[:y_pred.shape[0]], \n",
    "        columns=selected_classes.columns\n",
    "    )\n",
    "    weather_diff = (\n",
    "        (weather - weather_median)\n",
    "        .loc[selected_classes.index]\n",
    "        .iloc[:y_pred.shape[0]]\n",
    "    )\n",
    "\n",
    "    weather_diffs.append(weather_diff)\n",
    "    \n",
    "    y_diffs.append(y_diff)\n",
    "    \n",
    "    # corr = y_diff.join(weather_diff).corr(method='pearson').round(2)\n",
    "    corr = pd.concat(\n",
    "        [y_diff, weather_diff], axis=1, keys=['df1', 'df2']\n",
    "    ).corr().loc['df2', 'df1'].round(2)\n",
    "    corrs.append(corr)\n"
   ]
  },
  {
   "cell_type": "code",
   "execution_count": 7,
   "id": "b338c2a0-5c4e-4c59-acd4-25f2a07358a7",
   "metadata": {},
   "outputs": [
    {
     "data": {
      "text/html": [
       "\n",
       "            <style>\n",
       "                .geemap-dark {\n",
       "                    --jp-widgets-color: white;\n",
       "                    --jp-widgets-label-color: white;\n",
       "                    --jp-ui-font-color1: white;\n",
       "                    --jp-layout-color2: #454545;\n",
       "                    background-color: #383838;\n",
       "                }\n",
       "\n",
       "                .geemap-dark .jupyter-button {\n",
       "                    --jp-layout-color3: #383838;\n",
       "                }\n",
       "\n",
       "                .geemap-colab {\n",
       "                    background-color: var(--colab-primary-surface-color, white);\n",
       "                }\n",
       "\n",
       "                .geemap-colab .jupyter-button {\n",
       "                    --jp-layout-color3: var(--colab-primary-surface-color, white);\n",
       "                }\n",
       "            </style>\n",
       "            "
      ],
      "text/plain": [
       "<IPython.core.display.HTML object>"
      ]
     },
     "metadata": {},
     "output_type": "display_data"
    },
    {
     "data": {
      "application/vnd.plotly.v1+json": {
       "config": {
        "plotlyServerURL": "https://plot.ly"
       },
       "data": [
        {
         "coloraxis": "coloraxis",
         "hovertemplate": "x: %{x}<br>y: %{y}<br>Corr coef: %{z}<extra></extra>",
         "name": "0",
         "texttemplate": "%{z}",
         "type": "heatmap",
         "x": [
          "Olea",
          "Frangula",
          "Arbutus",
          "Ilex",
          "Picea",
          "Tilia",
          "Salix",
          "Corylus",
          "Pseudotsuga",
          "Crataegus",
          "Alnus",
          "Ulmus",
          "Larix",
          "Quercus"
         ],
         "xaxis": "x",
         "y": [
          "temperature_2m_max",
          "dewpoint_temperature_2m_max",
          "volumetric_soil_water_layer_3_max",
          "volumetric_soil_water_layer_2_max",
          "temperature_2m_min",
          "volumetric_soil_water_layer_1_min",
          "volumetric_soil_water_layer_2_min",
          "volumetric_soil_water_layer_1_min",
          "dewpoint_temperature_2m_min",
          "volumetric_soil_water_layer_1_max",
          "volumetric_soil_water_layer_3_min",
          "volumetric_soil_water_layer_2_min",
          "temperature_2m_min",
          "volumetric_soil_water_layer_2_min"
         ],
         "yaxis": "y",
         "z": [
          [
           0.14,
           -0.06,
           0.13,
           0.1,
           0.1,
           0.02,
           -0.07,
           0,
           0.01,
           0.09,
           -0.01,
           0.02,
           -0.02,
           -0.07
          ],
          [
           0.26,
           -0.19,
           0.2,
           0.07,
           0.17,
           -0.08,
           -0.14,
           -0.08,
           -0.07,
           0.07,
           -0.09,
           -0.04,
           -0.08,
           -0.1
          ],
          [
           0.21,
           -0.18,
           0.12,
           -0.03,
           0.09,
           -0.13,
           -0.13,
           -0.12,
           -0.08,
           -0.01,
           -0.09,
           -0.09,
           -0.09,
           -0.04
          ],
          [
           0.2,
           -0.17,
           0.1,
           -0.04,
           0.07,
           -0.12,
           -0.12,
           -0.11,
           -0.07,
           -0.02,
           -0.08,
           -0.08,
           -0.09,
           -0.02
          ],
          [
           0.11,
           -0.05,
           0.09,
           0.09,
           0.11,
           0.02,
           -0.05,
           0,
           0.01,
           0.08,
           -0.02,
           0.02,
           0.01,
           -0.05
          ],
          [
           0.14,
           -0.16,
           0.06,
           -0.11,
           0.01,
           -0.16,
           -0.1,
           -0.14,
           -0.1,
           -0.08,
           -0.1,
           -0.12,
           -0.1,
           0.01
          ],
          [
           0.16,
           -0.17,
           0.06,
           -0.11,
           0.01,
           -0.15,
           -0.11,
           -0.14,
           -0.09,
           -0.08,
           -0.1,
           -0.12,
           -0.1,
           0.01
          ],
          [
           0.14,
           -0.16,
           0.06,
           -0.11,
           0.01,
           -0.16,
           -0.1,
           -0.14,
           -0.1,
           -0.08,
           -0.1,
           -0.12,
           -0.1,
           0.01
          ],
          [
           0.16,
           -0.11,
           0.12,
           0.05,
           0.1,
           -0.04,
           -0.09,
           -0.05,
           -0.03,
           0.04,
           -0.05,
           -0.03,
           -0.05,
           -0.05
          ],
          [
           0.11,
           -0.09,
           0.04,
           -0.02,
           0.03,
           -0.06,
           -0.07,
           -0.06,
           -0.03,
           -0.02,
           -0.04,
           -0.04,
           -0.04,
           0.01
          ],
          [
           0.17,
           -0.16,
           0.08,
           -0.05,
           0.06,
           -0.13,
           -0.11,
           -0.12,
           -0.07,
           -0.03,
           -0.08,
           -0.09,
           -0.09,
           -0.02
          ],
          [
           0.16,
           -0.17,
           0.06,
           -0.11,
           0.01,
           -0.15,
           -0.11,
           -0.14,
           -0.09,
           -0.08,
           -0.1,
           -0.12,
           -0.1,
           0.01
          ],
          [
           0.11,
           -0.05,
           0.09,
           0.09,
           0.11,
           0.02,
           -0.05,
           0,
           0.01,
           0.08,
           -0.02,
           0.02,
           0.01,
           -0.05
          ],
          [
           0.16,
           -0.17,
           0.06,
           -0.11,
           0.01,
           -0.15,
           -0.11,
           -0.14,
           -0.09,
           -0.08,
           -0.1,
           -0.12,
           -0.1,
           0.01
          ]
         ]
        }
       ],
       "frames": [
        {
         "data": [
          {
           "coloraxis": "coloraxis",
           "name": "0",
           "texttemplate": "%{z}",
           "type": "heatmap",
           "x": [
            "Olea",
            "Frangula",
            "Arbutus",
            "Ilex",
            "Picea",
            "Tilia",
            "Salix",
            "Corylus",
            "Pseudotsuga",
            "Crataegus",
            "Alnus",
            "Ulmus",
            "Larix",
            "Quercus"
           ],
           "y": [
            "temperature_2m_max",
            "dewpoint_temperature_2m_max",
            "volumetric_soil_water_layer_3_max",
            "volumetric_soil_water_layer_2_max",
            "temperature_2m_min",
            "volumetric_soil_water_layer_1_min",
            "volumetric_soil_water_layer_2_min",
            "volumetric_soil_water_layer_1_min",
            "dewpoint_temperature_2m_min",
            "volumetric_soil_water_layer_1_max",
            "volumetric_soil_water_layer_3_min",
            "volumetric_soil_water_layer_2_min",
            "temperature_2m_min",
            "volumetric_soil_water_layer_2_min"
           ],
           "z": [
            [
             0.14,
             -0.06,
             0.13,
             0.1,
             0.1,
             0.02,
             -0.07,
             0,
             0.01,
             0.09,
             -0.01,
             0.02,
             -0.02,
             -0.07
            ],
            [
             0.26,
             -0.19,
             0.2,
             0.07,
             0.17,
             -0.08,
             -0.14,
             -0.08,
             -0.07,
             0.07,
             -0.09,
             -0.04,
             -0.08,
             -0.1
            ],
            [
             0.21,
             -0.18,
             0.12,
             -0.03,
             0.09,
             -0.13,
             -0.13,
             -0.12,
             -0.08,
             -0.01,
             -0.09,
             -0.09,
             -0.09,
             -0.04
            ],
            [
             0.2,
             -0.17,
             0.1,
             -0.04,
             0.07,
             -0.12,
             -0.12,
             -0.11,
             -0.07,
             -0.02,
             -0.08,
             -0.08,
             -0.09,
             -0.02
            ],
            [
             0.11,
             -0.05,
             0.09,
             0.09,
             0.11,
             0.02,
             -0.05,
             0,
             0.01,
             0.08,
             -0.02,
             0.02,
             0.01,
             -0.05
            ],
            [
             0.14,
             -0.16,
             0.06,
             -0.11,
             0.01,
             -0.16,
             -0.1,
             -0.14,
             -0.1,
             -0.08,
             -0.1,
             -0.12,
             -0.1,
             0.01
            ],
            [
             0.16,
             -0.17,
             0.06,
             -0.11,
             0.01,
             -0.15,
             -0.11,
             -0.14,
             -0.09,
             -0.08,
             -0.1,
             -0.12,
             -0.1,
             0.01
            ],
            [
             0.14,
             -0.16,
             0.06,
             -0.11,
             0.01,
             -0.16,
             -0.1,
             -0.14,
             -0.1,
             -0.08,
             -0.1,
             -0.12,
             -0.1,
             0.01
            ],
            [
             0.16,
             -0.11,
             0.12,
             0.05,
             0.1,
             -0.04,
             -0.09,
             -0.05,
             -0.03,
             0.04,
             -0.05,
             -0.03,
             -0.05,
             -0.05
            ],
            [
             0.11,
             -0.09,
             0.04,
             -0.02,
             0.03,
             -0.06,
             -0.07,
             -0.06,
             -0.03,
             -0.02,
             -0.04,
             -0.04,
             -0.04,
             0.01
            ],
            [
             0.17,
             -0.16,
             0.08,
             -0.05,
             0.06,
             -0.13,
             -0.11,
             -0.12,
             -0.07,
             -0.03,
             -0.08,
             -0.09,
             -0.09,
             -0.02
            ],
            [
             0.16,
             -0.17,
             0.06,
             -0.11,
             0.01,
             -0.15,
             -0.11,
             -0.14,
             -0.09,
             -0.08,
             -0.1,
             -0.12,
             -0.1,
             0.01
            ],
            [
             0.11,
             -0.05,
             0.09,
             0.09,
             0.11,
             0.02,
             -0.05,
             0,
             0.01,
             0.08,
             -0.02,
             0.02,
             0.01,
             -0.05
            ],
            [
             0.16,
             -0.17,
             0.06,
             -0.11,
             0.01,
             -0.15,
             -0.11,
             -0.14,
             -0.09,
             -0.08,
             -0.1,
             -0.12,
             -0.1,
             0.01
            ]
           ]
          }
         ],
         "layout": {
          "coloraxis": {
           "cmax": 0.26,
           "cmin": -0.26,
           "colorbar": {
            "title": {
             "text": "Corr coef"
            }
           },
           "colorscale": [
            [
             0,
             "rgb(5,48,97)"
            ],
            [
             0.1,
             "rgb(33,102,172)"
            ],
            [
             0.2,
             "rgb(67,147,195)"
            ],
            [
             0.3,
             "rgb(146,197,222)"
            ],
            [
             0.4,
             "rgb(209,229,240)"
            ],
            [
             0.5,
             "rgb(247,247,247)"
            ],
            [
             0.6,
             "rgb(253,219,199)"
            ],
            [
             0.7,
             "rgb(244,165,130)"
            ],
            [
             0.8,
             "rgb(214,96,77)"
            ],
            [
             0.9,
             "rgb(178,24,43)"
            ],
            [
             1,
             "rgb(103,0,31)"
            ]
           ]
          },
          "height": 500,
          "title": {
           "text": "Annual correlation heatmap"
          },
          "yaxis": {
           "autorange": "reversed"
          }
         },
         "name": "0"
        },
        {
         "data": [
          {
           "coloraxis": "coloraxis",
           "name": "1",
           "texttemplate": "%{z}",
           "type": "heatmap",
           "x": [
            "Olea",
            "Frangula",
            "Arbutus",
            "Ilex",
            "Picea",
            "Tilia",
            "Salix",
            "Corylus",
            "Pseudotsuga",
            "Crataegus",
            "Alnus",
            "Ulmus",
            "Larix",
            "Quercus"
           ],
           "y": [
            "temperature_2m_max",
            "dewpoint_temperature_2m_max",
            "volumetric_soil_water_layer_3_max",
            "volumetric_soil_water_layer_2_max",
            "temperature_2m_min",
            "volumetric_soil_water_layer_1_min",
            "volumetric_soil_water_layer_2_min",
            "volumetric_soil_water_layer_1_min",
            "dewpoint_temperature_2m_min",
            "volumetric_soil_water_layer_1_max",
            "volumetric_soil_water_layer_3_min",
            "volumetric_soil_water_layer_2_min",
            "temperature_2m_min",
            "volumetric_soil_water_layer_2_min"
           ],
           "z": [
            [
             -0.12,
             0.04,
             -0.09,
             -0.13,
             -0.11,
             -0.02,
             0.05,
             -0.02,
             -0.04,
             -0.09,
             0,
             -0.03,
             -0.01,
             0.03
            ],
            [
             -0.13,
             0.04,
             -0.14,
             -0.16,
             -0.12,
             -0.03,
             0.06,
             -0.03,
             -0.05,
             -0.13,
             -0.01,
             -0.04,
             0.01,
             0.08
            ],
            [
             0.02,
             -0.03,
             -0.03,
             -0.1,
             -0.06,
             -0.07,
             -0.03,
             -0.06,
             -0.04,
             -0.07,
             -0.04,
             -0.06,
             -0.04,
             0.05
            ],
            [
             0.04,
             -0.03,
             -0.01,
             -0.06,
             -0.02,
             -0.05,
             -0.03,
             -0.05,
             -0.03,
             -0.05,
             -0.02,
             -0.04,
             -0.04,
             0.03
            ],
            [
             -0.04,
             -0.02,
             -0.08,
             -0.17,
             -0.09,
             -0.07,
             0,
             -0.08,
             -0.09,
             -0.12,
             -0.06,
             -0.07,
             -0.03,
             0.06
            ],
            [
             -0.03,
             0.05,
             -0.02,
             0.03,
             0.01,
             0.03,
             0.02,
             0.03,
             0.02,
             0.02,
             0.02,
             0.03,
             0.02,
             0.01
            ],
            [
             0.05,
             -0.03,
             0.01,
             -0.03,
             0.01,
             -0.05,
             -0.04,
             -0.04,
             -0.04,
             -0.02,
             -0.03,
             -0.02,
             -0.03,
             0.01
            ],
            [
             -0.03,
             0.05,
             -0.02,
             0.03,
             0.01,
             0.03,
             0.02,
             0.03,
             0.02,
             0.02,
             0.02,
             0.03,
             0.02,
             0.01
            ],
            [
             0,
             -0.05,
             -0.04,
             -0.12,
             -0.04,
             -0.08,
             -0.03,
             -0.08,
             -0.07,
             -0.09,
             -0.07,
             -0.07,
             -0.04,
             0.06
            ],
            [
             -0.02,
             0.01,
             -0.04,
             -0.04,
             -0.03,
             -0.01,
             0,
             -0.01,
             -0.01,
             -0.03,
             0,
             -0.02,
             -0.01,
             0.04
            ],
            [
             0.07,
             -0.05,
             0.02,
             -0.05,
             0.01,
             -0.07,
             -0.05,
             -0.05,
             -0.04,
             -0.02,
             -0.04,
             -0.04,
             -0.05,
             0.01
            ],
            [
             0.05,
             -0.03,
             0.01,
             -0.03,
             0.01,
             -0.05,
             -0.04,
             -0.04,
             -0.04,
             -0.02,
             -0.03,
             -0.02,
             -0.03,
             0.01
            ],
            [
             -0.04,
             -0.02,
             -0.08,
             -0.17,
             -0.09,
             -0.07,
             0,
             -0.08,
             -0.09,
             -0.12,
             -0.06,
             -0.07,
             -0.03,
             0.06
            ],
            [
             0.05,
             -0.03,
             0.01,
             -0.03,
             0.01,
             -0.05,
             -0.04,
             -0.04,
             -0.04,
             -0.02,
             -0.03,
             -0.02,
             -0.03,
             0.01
            ]
           ]
          }
         ],
         "layout": {
          "coloraxis": {
           "cmax": 0.26,
           "cmin": -0.26,
           "colorbar": {
            "title": {
             "text": "Corr coef"
            }
           },
           "colorscale": [
            [
             0,
             "rgb(5,48,97)"
            ],
            [
             0.1,
             "rgb(33,102,172)"
            ],
            [
             0.2,
             "rgb(67,147,195)"
            ],
            [
             0.3,
             "rgb(146,197,222)"
            ],
            [
             0.4,
             "rgb(209,229,240)"
            ],
            [
             0.5,
             "rgb(247,247,247)"
            ],
            [
             0.6,
             "rgb(253,219,199)"
            ],
            [
             0.7,
             "rgb(244,165,130)"
            ],
            [
             0.8,
             "rgb(214,96,77)"
            ],
            [
             0.9,
             "rgb(178,24,43)"
            ],
            [
             1,
             "rgb(103,0,31)"
            ]
           ]
          },
          "height": 500,
          "title": {
           "text": "Annual correlation heatmap"
          },
          "yaxis": {
           "autorange": "reversed"
          }
         },
         "name": "1"
        },
        {
         "data": [
          {
           "coloraxis": "coloraxis",
           "name": "2",
           "texttemplate": "%{z}",
           "type": "heatmap",
           "x": [
            "Olea",
            "Frangula",
            "Arbutus",
            "Ilex",
            "Picea",
            "Tilia",
            "Salix",
            "Corylus",
            "Pseudotsuga",
            "Crataegus",
            "Alnus",
            "Ulmus",
            "Larix",
            "Quercus"
           ],
           "y": [
            "temperature_2m_max",
            "dewpoint_temperature_2m_max",
            "volumetric_soil_water_layer_3_max",
            "volumetric_soil_water_layer_2_max",
            "temperature_2m_min",
            "volumetric_soil_water_layer_1_min",
            "volumetric_soil_water_layer_2_min",
            "volumetric_soil_water_layer_1_min",
            "dewpoint_temperature_2m_min",
            "volumetric_soil_water_layer_1_max",
            "volumetric_soil_water_layer_3_min",
            "volumetric_soil_water_layer_2_min",
            "temperature_2m_min",
            "volumetric_soil_water_layer_2_min"
           ],
           "z": [
            [
             -0.05,
             0.01,
             -0.03,
             -0.04,
             -0.06,
             -0.02,
             0.02,
             -0.01,
             0,
             -0.04,
             0.01,
             -0.02,
             -0.02,
             0
            ],
            [
             0.15,
             -0.14,
             0.08,
             -0.04,
             0.05,
             -0.1,
             -0.08,
             -0.1,
             -0.08,
             -0.04,
             -0.06,
             -0.07,
             -0.08,
             -0.04
            ],
            [
             0.07,
             -0.04,
             0,
             -0.03,
             0.01,
             -0.04,
             -0.04,
             -0.04,
             -0.02,
             -0.03,
             -0.02,
             -0.03,
             -0.02,
             0.03
            ],
            [
             0.06,
             -0.06,
             -0.01,
             -0.07,
             -0.02,
             -0.06,
             -0.04,
             -0.06,
             -0.04,
             -0.06,
             -0.04,
             -0.05,
             -0.04,
             0.04
            ],
            [
             0.16,
             -0.1,
             0.13,
             0.09,
             0.09,
             -0.03,
             -0.09,
             -0.03,
             0.01,
             0.07,
             -0.04,
             -0.02,
             -0.04,
             -0.05
            ],
            [
             0.13,
             -0.11,
             0.08,
             -0.01,
             0.06,
             -0.08,
             -0.07,
             -0.07,
             -0.05,
             -0.01,
             -0.05,
             -0.06,
             -0.07,
             -0.03
            ],
            [
             0.1,
             -0.07,
             0.05,
             -0.02,
             0.03,
             -0.06,
             -0.05,
             -0.05,
             -0.04,
             -0.01,
             -0.03,
             -0.04,
             -0.05,
             -0.01
            ],
            [
             0.13,
             -0.11,
             0.08,
             -0.01,
             0.06,
             -0.08,
             -0.07,
             -0.07,
             -0.05,
             -0.01,
             -0.05,
             -0.06,
             -0.07,
             -0.03
            ],
            [
             0.14,
             -0.09,
             0.12,
             0.09,
             0.09,
             -0.02,
             -0.08,
             -0.02,
             0.01,
             0.07,
             -0.02,
             -0.01,
             -0.03,
             -0.04
            ],
            [
             -0.02,
             0.03,
             -0.06,
             -0.02,
             -0.02,
             0.01,
             0.02,
             0.01,
             0.02,
             -0.02,
             0.02,
             0,
             0.02,
             0.06
            ],
            [
             0.04,
             -0.01,
             0,
             -0.01,
             0,
             -0.01,
             -0.01,
             -0.02,
             0,
             -0.02,
             -0.01,
             -0.01,
             -0.01,
             0.02
            ],
            [
             0.1,
             -0.07,
             0.05,
             -0.02,
             0.03,
             -0.06,
             -0.05,
             -0.05,
             -0.04,
             -0.01,
             -0.03,
             -0.04,
             -0.05,
             -0.01
            ],
            [
             0.16,
             -0.1,
             0.13,
             0.09,
             0.09,
             -0.03,
             -0.09,
             -0.03,
             0.01,
             0.07,
             -0.04,
             -0.02,
             -0.04,
             -0.05
            ],
            [
             0.1,
             -0.07,
             0.05,
             -0.02,
             0.03,
             -0.06,
             -0.05,
             -0.05,
             -0.04,
             -0.01,
             -0.03,
             -0.04,
             -0.05,
             -0.01
            ]
           ]
          }
         ],
         "layout": {
          "coloraxis": {
           "cmax": 0.26,
           "cmin": -0.26,
           "colorbar": {
            "title": {
             "text": "Corr coef"
            }
           },
           "colorscale": [
            [
             0,
             "rgb(5,48,97)"
            ],
            [
             0.1,
             "rgb(33,102,172)"
            ],
            [
             0.2,
             "rgb(67,147,195)"
            ],
            [
             0.3,
             "rgb(146,197,222)"
            ],
            [
             0.4,
             "rgb(209,229,240)"
            ],
            [
             0.5,
             "rgb(247,247,247)"
            ],
            [
             0.6,
             "rgb(253,219,199)"
            ],
            [
             0.7,
             "rgb(244,165,130)"
            ],
            [
             0.8,
             "rgb(214,96,77)"
            ],
            [
             0.9,
             "rgb(178,24,43)"
            ],
            [
             1,
             "rgb(103,0,31)"
            ]
           ]
          },
          "height": 500,
          "title": {
           "text": "Annual correlation heatmap"
          },
          "yaxis": {
           "autorange": "reversed"
          }
         },
         "name": "2"
        },
        {
         "data": [
          {
           "coloraxis": "coloraxis",
           "name": "3",
           "texttemplate": "%{z}",
           "type": "heatmap",
           "x": [
            "Olea",
            "Frangula",
            "Arbutus",
            "Ilex",
            "Picea",
            "Tilia",
            "Salix",
            "Corylus",
            "Pseudotsuga",
            "Crataegus",
            "Alnus",
            "Ulmus",
            "Larix",
            "Quercus"
           ],
           "y": [
            "temperature_2m_max",
            "dewpoint_temperature_2m_max",
            "volumetric_soil_water_layer_3_max",
            "volumetric_soil_water_layer_2_max",
            "temperature_2m_min",
            "volumetric_soil_water_layer_1_min",
            "volumetric_soil_water_layer_2_min",
            "volumetric_soil_water_layer_1_min",
            "dewpoint_temperature_2m_min",
            "volumetric_soil_water_layer_1_max",
            "volumetric_soil_water_layer_3_min",
            "volumetric_soil_water_layer_2_min",
            "temperature_2m_min",
            "volumetric_soil_water_layer_2_min"
           ],
           "z": [
            [
             0.26,
             -0.23,
             0.18,
             -0.03,
             0.1,
             -0.15,
             -0.16,
             -0.15,
             -0.12,
             -0.01,
             -0.12,
             -0.1,
             -0.12,
             -0.08
            ],
            [
             0.01,
             -0.01,
             -0.01,
             -0.01,
             0.01,
             0.01,
             0.01,
             -0.01,
             -0.02,
             -0.02,
             -0.01,
             0,
             0.02,
             0.01
            ],
            [
             -0.11,
             0.13,
             -0.09,
             0.02,
             -0.05,
             0.07,
             0.07,
             0.08,
             0.09,
             0.02,
             0.07,
             0.05,
             0.05,
             0.06
            ],
            [
             -0.16,
             0.16,
             -0.13,
             0.02,
             -0.07,
             0.11,
             0.11,
             0.11,
             0.1,
             0.01,
             0.09,
             0.07,
             0.09,
             0.07
            ],
            [
             0.2,
             -0.14,
             0.18,
             0.11,
             0.16,
             -0.04,
             -0.11,
             -0.04,
             -0.02,
             0.09,
             -0.04,
             -0.01,
             -0.05,
             -0.09
            ],
            [
             -0.18,
             0.2,
             -0.11,
             0.09,
             -0.04,
             0.15,
             0.12,
             0.15,
             0.13,
             0.06,
             0.11,
             0.11,
             0.1,
             0.04
            ],
            [
             -0.16,
             0.18,
             -0.11,
             0.06,
             -0.06,
             0.13,
             0.11,
             0.13,
             0.12,
             0.04,
             0.1,
             0.09,
             0.09,
             0.05
            ],
            [
             -0.18,
             0.2,
             -0.11,
             0.09,
             -0.04,
             0.15,
             0.12,
             0.15,
             0.13,
             0.06,
             0.11,
             0.11,
             0.1,
             0.04
            ],
            [
             0.03,
             0.02,
             0.04,
             0.13,
             0.08,
             0.07,
             0,
             0.07,
             0.07,
             0.1,
             0.05,
             0.06,
             0.04,
             -0.03
            ],
            [
             -0.17,
             0.17,
             -0.12,
             0.05,
             -0.06,
             0.13,
             0.12,
             0.12,
             0.1,
             0.03,
             0.09,
             0.09,
             0.1,
             0.04
            ],
            [
             -0.08,
             0.11,
             -0.06,
             0.02,
             -0.04,
             0.06,
             0.05,
             0.06,
             0.07,
             0.01,
             0.06,
             0.04,
             0.04,
             0.04
            ],
            [
             -0.16,
             0.18,
             -0.11,
             0.06,
             -0.06,
             0.13,
             0.11,
             0.13,
             0.12,
             0.04,
             0.1,
             0.09,
             0.09,
             0.05
            ],
            [
             0.2,
             -0.14,
             0.18,
             0.11,
             0.16,
             -0.04,
             -0.11,
             -0.04,
             -0.02,
             0.09,
             -0.04,
             -0.01,
             -0.05,
             -0.09
            ],
            [
             -0.16,
             0.18,
             -0.11,
             0.06,
             -0.06,
             0.13,
             0.11,
             0.13,
             0.12,
             0.04,
             0.1,
             0.09,
             0.09,
             0.05
            ]
           ]
          }
         ],
         "layout": {
          "coloraxis": {
           "cmax": 0.26,
           "cmin": -0.26,
           "colorbar": {
            "title": {
             "text": "Corr coef"
            }
           },
           "colorscale": [
            [
             0,
             "rgb(5,48,97)"
            ],
            [
             0.1,
             "rgb(33,102,172)"
            ],
            [
             0.2,
             "rgb(67,147,195)"
            ],
            [
             0.3,
             "rgb(146,197,222)"
            ],
            [
             0.4,
             "rgb(209,229,240)"
            ],
            [
             0.5,
             "rgb(247,247,247)"
            ],
            [
             0.6,
             "rgb(253,219,199)"
            ],
            [
             0.7,
             "rgb(244,165,130)"
            ],
            [
             0.8,
             "rgb(214,96,77)"
            ],
            [
             0.9,
             "rgb(178,24,43)"
            ],
            [
             1,
             "rgb(103,0,31)"
            ]
           ]
          },
          "height": 500,
          "title": {
           "text": "Annual correlation heatmap"
          },
          "yaxis": {
           "autorange": "reversed"
          }
         },
         "name": "3"
        },
        {
         "data": [
          {
           "coloraxis": "coloraxis",
           "name": "4",
           "texttemplate": "%{z}",
           "type": "heatmap",
           "x": [
            "Olea",
            "Frangula",
            "Arbutus",
            "Ilex",
            "Picea",
            "Tilia",
            "Salix",
            "Corylus",
            "Pseudotsuga",
            "Crataegus",
            "Alnus",
            "Ulmus",
            "Larix",
            "Quercus"
           ],
           "y": [
            "temperature_2m_max",
            "dewpoint_temperature_2m_max",
            "volumetric_soil_water_layer_3_max",
            "volumetric_soil_water_layer_2_max",
            "temperature_2m_min",
            "volumetric_soil_water_layer_1_min",
            "volumetric_soil_water_layer_2_min",
            "volumetric_soil_water_layer_1_min",
            "dewpoint_temperature_2m_min",
            "volumetric_soil_water_layer_1_max",
            "volumetric_soil_water_layer_3_min",
            "volumetric_soil_water_layer_2_min",
            "temperature_2m_min",
            "volumetric_soil_water_layer_2_min"
           ],
           "z": [
            [
             0.1,
             -0.07,
             0.09,
             0.03,
             0.06,
             -0.02,
             -0.06,
             -0.03,
             -0.02,
             0.04,
             -0.03,
             -0.01,
             -0.04,
             -0.05
            ],
            [
             0.16,
             -0.12,
             0.13,
             0.05,
             0.12,
             -0.04,
             -0.09,
             -0.04,
             -0.04,
             0.06,
             -0.05,
             -0.01,
             -0.04,
             -0.07
            ],
            [
             0.08,
             -0.06,
             0.06,
             0.03,
             0.06,
             -0.03,
             -0.04,
             -0.02,
             -0.02,
             0.02,
             -0.03,
             -0.01,
             -0.02,
             -0.03
            ],
            [
             0.11,
             -0.09,
             0.09,
             0.02,
             0.06,
             -0.05,
             -0.06,
             -0.05,
             -0.04,
             0.02,
             -0.05,
             -0.02,
             -0.04,
             -0.05
            ],
            [
             0.14,
             -0.07,
             0.12,
             0.11,
             0.1,
             0,
             -0.08,
             0,
             0.02,
             0.09,
             -0.01,
             0.01,
             -0.03,
             -0.05
            ],
            [
             0.18,
             -0.13,
             0.16,
             0.1,
             0.15,
             -0.04,
             -0.09,
             -0.04,
             -0.04,
             0.08,
             -0.05,
             0,
             -0.04,
             -0.11
            ],
            [
             0.17,
             -0.12,
             0.15,
             0.08,
             0.13,
             -0.04,
             -0.09,
             -0.04,
             -0.04,
             0.07,
             -0.05,
             0,
             -0.04,
             -0.09
            ],
            [
             0.18,
             -0.13,
             0.16,
             0.1,
             0.15,
             -0.04,
             -0.09,
             -0.04,
             -0.04,
             0.08,
             -0.05,
             0,
             -0.04,
             -0.11
            ],
            [
             0.18,
             -0.1,
             0.15,
             0.1,
             0.11,
             -0.03,
             -0.1,
             -0.02,
             0.01,
             0.09,
             -0.03,
             0,
             -0.05,
             -0.07
            ],
            [
             0.11,
             -0.08,
             0.09,
             0.03,
             0.06,
             -0.03,
             -0.06,
             -0.04,
             -0.04,
             0.03,
             -0.04,
             -0.02,
             -0.04,
             -0.06
            ],
            [
             0.13,
             -0.09,
             0.1,
             0.07,
             0.11,
             -0.02,
             -0.06,
             -0.02,
             -0.02,
             0.06,
             -0.03,
             0.01,
             -0.02,
             -0.06
            ],
            [
             0.17,
             -0.12,
             0.15,
             0.08,
             0.13,
             -0.04,
             -0.09,
             -0.04,
             -0.04,
             0.07,
             -0.05,
             0,
             -0.04,
             -0.09
            ],
            [
             0.14,
             -0.07,
             0.12,
             0.11,
             0.1,
             0,
             -0.08,
             0,
             0.02,
             0.09,
             -0.01,
             0.01,
             -0.03,
             -0.05
            ],
            [
             0.17,
             -0.12,
             0.15,
             0.08,
             0.13,
             -0.04,
             -0.09,
             -0.04,
             -0.04,
             0.07,
             -0.05,
             0,
             -0.04,
             -0.09
            ]
           ]
          }
         ],
         "layout": {
          "coloraxis": {
           "cmax": 0.26,
           "cmin": -0.26,
           "colorbar": {
            "title": {
             "text": "Corr coef"
            }
           },
           "colorscale": [
            [
             0,
             "rgb(5,48,97)"
            ],
            [
             0.1,
             "rgb(33,102,172)"
            ],
            [
             0.2,
             "rgb(67,147,195)"
            ],
            [
             0.3,
             "rgb(146,197,222)"
            ],
            [
             0.4,
             "rgb(209,229,240)"
            ],
            [
             0.5,
             "rgb(247,247,247)"
            ],
            [
             0.6,
             "rgb(253,219,199)"
            ],
            [
             0.7,
             "rgb(244,165,130)"
            ],
            [
             0.8,
             "rgb(214,96,77)"
            ],
            [
             0.9,
             "rgb(178,24,43)"
            ],
            [
             1,
             "rgb(103,0,31)"
            ]
           ]
          },
          "height": 500,
          "title": {
           "text": "Annual correlation heatmap"
          },
          "yaxis": {
           "autorange": "reversed"
          }
         },
         "name": "4"
        }
       ],
       "layout": {
        "autosize": true,
        "coloraxis": {
         "cmax": 0.26,
         "cmin": -0.26,
         "colorbar": {
          "title": {
           "text": "Corr coef"
          }
         },
         "colorscale": [
          [
           0,
           "rgb(5,48,97)"
          ],
          [
           0.1,
           "rgb(33,102,172)"
          ],
          [
           0.2,
           "rgb(67,147,195)"
          ],
          [
           0.3,
           "rgb(146,197,222)"
          ],
          [
           0.4,
           "rgb(209,229,240)"
          ],
          [
           0.5,
           "rgb(247,247,247)"
          ],
          [
           0.6,
           "rgb(253,219,199)"
          ],
          [
           0.7,
           "rgb(244,165,130)"
          ],
          [
           0.8,
           "rgb(214,96,77)"
          ],
          [
           0.9,
           "rgb(178,24,43)"
          ],
          [
           1,
           "rgb(103,0,31)"
          ]
         ]
        },
        "sliders": [
         {
          "active": 0,
          "currentvalue": {
           "prefix": ""
          },
          "len": 0.9,
          "pad": {
           "b": 10,
           "t": 60
          },
          "steps": [
           {
            "args": [
             [
              "0"
             ],
             {
              "frame": {
               "duration": 0,
               "redraw": true
              },
              "fromcurrent": true,
              "mode": "immediate",
              "transition": {
               "duration": 0,
               "easing": "linear"
              }
             }
            ],
            "label": "2020",
            "method": "animate"
           },
           {
            "args": [
             [
              "1"
             ],
             {
              "frame": {
               "duration": 0,
               "redraw": true
              },
              "fromcurrent": true,
              "mode": "immediate",
              "transition": {
               "duration": 0,
               "easing": "linear"
              }
             }
            ],
            "label": "2021",
            "method": "animate"
           },
           {
            "args": [
             [
              "2"
             ],
             {
              "frame": {
               "duration": 0,
               "redraw": true
              },
              "fromcurrent": true,
              "mode": "immediate",
              "transition": {
               "duration": 0,
               "easing": "linear"
              }
             }
            ],
            "label": "2022",
            "method": "animate"
           },
           {
            "args": [
             [
              "3"
             ],
             {
              "frame": {
               "duration": 0,
               "redraw": true
              },
              "fromcurrent": true,
              "mode": "immediate",
              "transition": {
               "duration": 0,
               "easing": "linear"
              }
             }
            ],
            "label": "2023",
            "method": "animate"
           },
           {
            "args": [
             [
              "4"
             ],
             {
              "frame": {
               "duration": 0,
               "redraw": true
              },
              "fromcurrent": true,
              "mode": "immediate",
              "transition": {
               "duration": 0,
               "easing": "linear"
              }
             }
            ],
            "label": "2024",
            "method": "animate"
           }
          ],
          "x": 0.1,
          "xanchor": "left",
          "y": 0,
          "yanchor": "top"
         }
        ],
        "template": {
         "data": {
          "bar": [
           {
            "error_x": {
             "color": "#2a3f5f"
            },
            "error_y": {
             "color": "#2a3f5f"
            },
            "marker": {
             "line": {
              "color": "#E5ECF6",
              "width": 0.5
             },
             "pattern": {
              "fillmode": "overlay",
              "size": 10,
              "solidity": 0.2
             }
            },
            "type": "bar"
           }
          ],
          "barpolar": [
           {
            "marker": {
             "line": {
              "color": "#E5ECF6",
              "width": 0.5
             },
             "pattern": {
              "fillmode": "overlay",
              "size": 10,
              "solidity": 0.2
             }
            },
            "type": "barpolar"
           }
          ],
          "carpet": [
           {
            "aaxis": {
             "endlinecolor": "#2a3f5f",
             "gridcolor": "white",
             "linecolor": "white",
             "minorgridcolor": "white",
             "startlinecolor": "#2a3f5f"
            },
            "baxis": {
             "endlinecolor": "#2a3f5f",
             "gridcolor": "white",
             "linecolor": "white",
             "minorgridcolor": "white",
             "startlinecolor": "#2a3f5f"
            },
            "type": "carpet"
           }
          ],
          "choropleth": [
           {
            "colorbar": {
             "outlinewidth": 0,
             "ticks": ""
            },
            "type": "choropleth"
           }
          ],
          "contour": [
           {
            "colorbar": {
             "outlinewidth": 0,
             "ticks": ""
            },
            "colorscale": [
             [
              0,
              "#0d0887"
             ],
             [
              0.1111111111111111,
              "#46039f"
             ],
             [
              0.2222222222222222,
              "#7201a8"
             ],
             [
              0.3333333333333333,
              "#9c179e"
             ],
             [
              0.4444444444444444,
              "#bd3786"
             ],
             [
              0.5555555555555556,
              "#d8576b"
             ],
             [
              0.6666666666666666,
              "#ed7953"
             ],
             [
              0.7777777777777778,
              "#fb9f3a"
             ],
             [
              0.8888888888888888,
              "#fdca26"
             ],
             [
              1,
              "#f0f921"
             ]
            ],
            "type": "contour"
           }
          ],
          "contourcarpet": [
           {
            "colorbar": {
             "outlinewidth": 0,
             "ticks": ""
            },
            "type": "contourcarpet"
           }
          ],
          "heatmap": [
           {
            "colorbar": {
             "outlinewidth": 0,
             "ticks": ""
            },
            "colorscale": [
             [
              0,
              "#0d0887"
             ],
             [
              0.1111111111111111,
              "#46039f"
             ],
             [
              0.2222222222222222,
              "#7201a8"
             ],
             [
              0.3333333333333333,
              "#9c179e"
             ],
             [
              0.4444444444444444,
              "#bd3786"
             ],
             [
              0.5555555555555556,
              "#d8576b"
             ],
             [
              0.6666666666666666,
              "#ed7953"
             ],
             [
              0.7777777777777778,
              "#fb9f3a"
             ],
             [
              0.8888888888888888,
              "#fdca26"
             ],
             [
              1,
              "#f0f921"
             ]
            ],
            "type": "heatmap"
           }
          ],
          "heatmapgl": [
           {
            "colorbar": {
             "outlinewidth": 0,
             "ticks": ""
            },
            "colorscale": [
             [
              0,
              "#0d0887"
             ],
             [
              0.1111111111111111,
              "#46039f"
             ],
             [
              0.2222222222222222,
              "#7201a8"
             ],
             [
              0.3333333333333333,
              "#9c179e"
             ],
             [
              0.4444444444444444,
              "#bd3786"
             ],
             [
              0.5555555555555556,
              "#d8576b"
             ],
             [
              0.6666666666666666,
              "#ed7953"
             ],
             [
              0.7777777777777778,
              "#fb9f3a"
             ],
             [
              0.8888888888888888,
              "#fdca26"
             ],
             [
              1,
              "#f0f921"
             ]
            ],
            "type": "heatmapgl"
           }
          ],
          "histogram": [
           {
            "marker": {
             "pattern": {
              "fillmode": "overlay",
              "size": 10,
              "solidity": 0.2
             }
            },
            "type": "histogram"
           }
          ],
          "histogram2d": [
           {
            "colorbar": {
             "outlinewidth": 0,
             "ticks": ""
            },
            "colorscale": [
             [
              0,
              "#0d0887"
             ],
             [
              0.1111111111111111,
              "#46039f"
             ],
             [
              0.2222222222222222,
              "#7201a8"
             ],
             [
              0.3333333333333333,
              "#9c179e"
             ],
             [
              0.4444444444444444,
              "#bd3786"
             ],
             [
              0.5555555555555556,
              "#d8576b"
             ],
             [
              0.6666666666666666,
              "#ed7953"
             ],
             [
              0.7777777777777778,
              "#fb9f3a"
             ],
             [
              0.8888888888888888,
              "#fdca26"
             ],
             [
              1,
              "#f0f921"
             ]
            ],
            "type": "histogram2d"
           }
          ],
          "histogram2dcontour": [
           {
            "colorbar": {
             "outlinewidth": 0,
             "ticks": ""
            },
            "colorscale": [
             [
              0,
              "#0d0887"
             ],
             [
              0.1111111111111111,
              "#46039f"
             ],
             [
              0.2222222222222222,
              "#7201a8"
             ],
             [
              0.3333333333333333,
              "#9c179e"
             ],
             [
              0.4444444444444444,
              "#bd3786"
             ],
             [
              0.5555555555555556,
              "#d8576b"
             ],
             [
              0.6666666666666666,
              "#ed7953"
             ],
             [
              0.7777777777777778,
              "#fb9f3a"
             ],
             [
              0.8888888888888888,
              "#fdca26"
             ],
             [
              1,
              "#f0f921"
             ]
            ],
            "type": "histogram2dcontour"
           }
          ],
          "mesh3d": [
           {
            "colorbar": {
             "outlinewidth": 0,
             "ticks": ""
            },
            "type": "mesh3d"
           }
          ],
          "parcoords": [
           {
            "line": {
             "colorbar": {
              "outlinewidth": 0,
              "ticks": ""
             }
            },
            "type": "parcoords"
           }
          ],
          "pie": [
           {
            "automargin": true,
            "type": "pie"
           }
          ],
          "scatter": [
           {
            "fillpattern": {
             "fillmode": "overlay",
             "size": 10,
             "solidity": 0.2
            },
            "type": "scatter"
           }
          ],
          "scatter3d": [
           {
            "line": {
             "colorbar": {
              "outlinewidth": 0,
              "ticks": ""
             }
            },
            "marker": {
             "colorbar": {
              "outlinewidth": 0,
              "ticks": ""
             }
            },
            "type": "scatter3d"
           }
          ],
          "scattercarpet": [
           {
            "marker": {
             "colorbar": {
              "outlinewidth": 0,
              "ticks": ""
             }
            },
            "type": "scattercarpet"
           }
          ],
          "scattergeo": [
           {
            "marker": {
             "colorbar": {
              "outlinewidth": 0,
              "ticks": ""
             }
            },
            "type": "scattergeo"
           }
          ],
          "scattergl": [
           {
            "marker": {
             "colorbar": {
              "outlinewidth": 0,
              "ticks": ""
             }
            },
            "type": "scattergl"
           }
          ],
          "scattermapbox": [
           {
            "marker": {
             "colorbar": {
              "outlinewidth": 0,
              "ticks": ""
             }
            },
            "type": "scattermapbox"
           }
          ],
          "scatterpolar": [
           {
            "marker": {
             "colorbar": {
              "outlinewidth": 0,
              "ticks": ""
             }
            },
            "type": "scatterpolar"
           }
          ],
          "scatterpolargl": [
           {
            "marker": {
             "colorbar": {
              "outlinewidth": 0,
              "ticks": ""
             }
            },
            "type": "scatterpolargl"
           }
          ],
          "scatterternary": [
           {
            "marker": {
             "colorbar": {
              "outlinewidth": 0,
              "ticks": ""
             }
            },
            "type": "scatterternary"
           }
          ],
          "surface": [
           {
            "colorbar": {
             "outlinewidth": 0,
             "ticks": ""
            },
            "colorscale": [
             [
              0,
              "#0d0887"
             ],
             [
              0.1111111111111111,
              "#46039f"
             ],
             [
              0.2222222222222222,
              "#7201a8"
             ],
             [
              0.3333333333333333,
              "#9c179e"
             ],
             [
              0.4444444444444444,
              "#bd3786"
             ],
             [
              0.5555555555555556,
              "#d8576b"
             ],
             [
              0.6666666666666666,
              "#ed7953"
             ],
             [
              0.7777777777777778,
              "#fb9f3a"
             ],
             [
              0.8888888888888888,
              "#fdca26"
             ],
             [
              1,
              "#f0f921"
             ]
            ],
            "type": "surface"
           }
          ],
          "table": [
           {
            "cells": {
             "fill": {
              "color": "#EBF0F8"
             },
             "line": {
              "color": "white"
             }
            },
            "header": {
             "fill": {
              "color": "#C8D4E3"
             },
             "line": {
              "color": "white"
             }
            },
            "type": "table"
           }
          ]
         },
         "layout": {
          "annotationdefaults": {
           "arrowcolor": "#2a3f5f",
           "arrowhead": 0,
           "arrowwidth": 1
          },
          "autotypenumbers": "strict",
          "coloraxis": {
           "colorbar": {
            "outlinewidth": 0,
            "ticks": ""
           }
          },
          "colorscale": {
           "diverging": [
            [
             0,
             "#8e0152"
            ],
            [
             0.1,
             "#c51b7d"
            ],
            [
             0.2,
             "#de77ae"
            ],
            [
             0.3,
             "#f1b6da"
            ],
            [
             0.4,
             "#fde0ef"
            ],
            [
             0.5,
             "#f7f7f7"
            ],
            [
             0.6,
             "#e6f5d0"
            ],
            [
             0.7,
             "#b8e186"
            ],
            [
             0.8,
             "#7fbc41"
            ],
            [
             0.9,
             "#4d9221"
            ],
            [
             1,
             "#276419"
            ]
           ],
           "sequential": [
            [
             0,
             "#0d0887"
            ],
            [
             0.1111111111111111,
             "#46039f"
            ],
            [
             0.2222222222222222,
             "#7201a8"
            ],
            [
             0.3333333333333333,
             "#9c179e"
            ],
            [
             0.4444444444444444,
             "#bd3786"
            ],
            [
             0.5555555555555556,
             "#d8576b"
            ],
            [
             0.6666666666666666,
             "#ed7953"
            ],
            [
             0.7777777777777778,
             "#fb9f3a"
            ],
            [
             0.8888888888888888,
             "#fdca26"
            ],
            [
             1,
             "#f0f921"
            ]
           ],
           "sequentialminus": [
            [
             0,
             "#0d0887"
            ],
            [
             0.1111111111111111,
             "#46039f"
            ],
            [
             0.2222222222222222,
             "#7201a8"
            ],
            [
             0.3333333333333333,
             "#9c179e"
            ],
            [
             0.4444444444444444,
             "#bd3786"
            ],
            [
             0.5555555555555556,
             "#d8576b"
            ],
            [
             0.6666666666666666,
             "#ed7953"
            ],
            [
             0.7777777777777778,
             "#fb9f3a"
            ],
            [
             0.8888888888888888,
             "#fdca26"
            ],
            [
             1,
             "#f0f921"
            ]
           ]
          },
          "colorway": [
           "#636efa",
           "#EF553B",
           "#00cc96",
           "#ab63fa",
           "#FFA15A",
           "#19d3f3",
           "#FF6692",
           "#B6E880",
           "#FF97FF",
           "#FECB52"
          ],
          "font": {
           "color": "#2a3f5f"
          },
          "geo": {
           "bgcolor": "white",
           "lakecolor": "white",
           "landcolor": "#E5ECF6",
           "showlakes": true,
           "showland": true,
           "subunitcolor": "white"
          },
          "hoverlabel": {
           "align": "left"
          },
          "hovermode": "closest",
          "mapbox": {
           "style": "light"
          },
          "paper_bgcolor": "white",
          "plot_bgcolor": "#E5ECF6",
          "polar": {
           "angularaxis": {
            "gridcolor": "white",
            "linecolor": "white",
            "ticks": ""
           },
           "bgcolor": "#E5ECF6",
           "radialaxis": {
            "gridcolor": "white",
            "linecolor": "white",
            "ticks": ""
           }
          },
          "scene": {
           "xaxis": {
            "backgroundcolor": "#E5ECF6",
            "gridcolor": "white",
            "gridwidth": 2,
            "linecolor": "white",
            "showbackground": true,
            "ticks": "",
            "zerolinecolor": "white"
           },
           "yaxis": {
            "backgroundcolor": "#E5ECF6",
            "gridcolor": "white",
            "gridwidth": 2,
            "linecolor": "white",
            "showbackground": true,
            "ticks": "",
            "zerolinecolor": "white"
           },
           "zaxis": {
            "backgroundcolor": "#E5ECF6",
            "gridcolor": "white",
            "gridwidth": 2,
            "linecolor": "white",
            "showbackground": true,
            "ticks": "",
            "zerolinecolor": "white"
           }
          },
          "shapedefaults": {
           "line": {
            "color": "#2a3f5f"
           }
          },
          "ternary": {
           "aaxis": {
            "gridcolor": "white",
            "linecolor": "white",
            "ticks": ""
           },
           "baxis": {
            "gridcolor": "white",
            "linecolor": "white",
            "ticks": ""
           },
           "bgcolor": "#E5ECF6",
           "caxis": {
            "gridcolor": "white",
            "linecolor": "white",
            "ticks": ""
           }
          },
          "title": {
           "x": 0.05
          },
          "xaxis": {
           "automargin": true,
           "gridcolor": "white",
           "linecolor": "white",
           "ticks": "",
           "title": {
            "standoff": 15
           },
           "zerolinecolor": "white",
           "zerolinewidth": 2
          },
          "yaxis": {
           "automargin": true,
           "gridcolor": "white",
           "linecolor": "white",
           "ticks": "",
           "title": {
            "standoff": 15
           },
           "zerolinecolor": "white",
           "zerolinewidth": 2
          }
         }
        },
        "title": {
         "text": "Annual correlation heatmap"
        },
        "updatemenus": [
         {
          "buttons": [
           {
            "args": [
             null,
             {
              "frame": {
               "duration": 500,
               "redraw": true
              },
              "fromcurrent": true,
              "mode": "immediate",
              "transition": {
               "duration": 500,
               "easing": "linear"
              }
             }
            ],
            "label": "&#9654;",
            "method": "animate"
           },
           {
            "args": [
             [
              null
             ],
             {
              "frame": {
               "duration": 0,
               "redraw": true
              },
              "fromcurrent": true,
              "mode": "immediate",
              "transition": {
               "duration": 0,
               "easing": "linear"
              }
             }
            ],
            "label": "&#9724;",
            "method": "animate"
           }
          ],
          "direction": "left",
          "pad": {
           "r": 10,
           "t": 70
          },
          "showactive": false,
          "type": "buttons",
          "x": 0.1,
          "xanchor": "right",
          "y": 0,
          "yanchor": "top"
         }
        ],
        "xaxis": {
         "anchor": "y",
         "autorange": true,
         "domain": [
          0,
          1
         ],
         "range": [
          -0.5,
          13.5
         ],
         "type": "category"
        },
        "yaxis": {
         "anchor": "x",
         "autorange": true,
         "domain": [
          0,
          1
         ],
         "range": [
          9.5,
          -0.5
         ],
         "type": "category"
        }
       }
      },
      "image/png": "[encoded data removed]",
      "text/html": [
       "<div>                            <div id=\"0664f450-5066-46af-9143-cd1736560fdd\" class=\"plotly-graph-div\" style=\"height:500px; width:100%;\"></div>            <script type=\"text/javascript\">                require([\"plotly\"], function(Plotly) {                    window.PLOTLYENV=window.PLOTLYENV || {};                                    if (document.getElementById(\"0664f450-5066-46af-9143-cd1736560fdd\")) {                    Plotly.newPlot(                        \"0664f450-5066-46af-9143-cd1736560fdd\",                        [{\"coloraxis\":\"coloraxis\",\"name\":\"0\",\"texttemplate\":\"%{z}\",\"x\":[\"Olea\",\"Frangula\",\"Arbutus\",\"Ilex\",\"Picea\",\"Tilia\",\"Salix\",\"Corylus\",\"Pseudotsuga\",\"Crataegus\",\"Alnus\",\"Ulmus\",\"Larix\",\"Quercus\"],\"y\":[\"temperature_2m_max\",\"dewpoint_temperature_2m_max\",\"volumetric_soil_water_layer_3_max\",\"volumetric_soil_water_layer_2_max\",\"temperature_2m_min\",\"volumetric_soil_water_layer_1_min\",\"volumetric_soil_water_layer_2_min\",\"volumetric_soil_water_layer_1_min\",\"dewpoint_temperature_2m_min\",\"volumetric_soil_water_layer_1_max\",\"volumetric_soil_water_layer_3_min\",\"volumetric_soil_water_layer_2_min\",\"temperature_2m_min\",\"volumetric_soil_water_layer_2_min\"],\"z\":[[0.14,-0.06,0.13,0.1,0.1,0.02,-0.07,0.0,0.01,0.09,-0.01,0.02,-0.02,-0.07],[0.26,-0.19,0.2,0.07,0.17,-0.08,-0.14,-0.08,-0.07,0.07,-0.09,-0.04,-0.08,-0.1],[0.21,-0.18,0.12,-0.03,0.09,-0.13,-0.13,-0.12,-0.08,-0.01,-0.09,-0.09,-0.09,-0.04],[0.2,-0.17,0.1,-0.04,0.07,-0.12,-0.12,-0.11,-0.07,-0.02,-0.08,-0.08,-0.09,-0.02],[0.11,-0.05,0.09,0.09,0.11,0.02,-0.05,0.0,0.01,0.08,-0.02,0.02,0.01,-0.05],[0.14,-0.16,0.06,-0.11,0.01,-0.16,-0.1,-0.14,-0.1,-0.08,-0.1,-0.12,-0.1,0.01],[0.16,-0.17,0.06,-0.11,0.01,-0.15,-0.11,-0.14,-0.09,-0.08,-0.1,-0.12,-0.1,0.01],[0.14,-0.16,0.06,-0.11,0.01,-0.16,-0.1,-0.14,-0.1,-0.08,-0.1,-0.12,-0.1,0.01],[0.16,-0.11,0.12,0.05,0.1,-0.04,-0.09,-0.05,-0.03,0.04,-0.05,-0.03,-0.05,-0.05],[0.11,-0.09,0.04,-0.02,0.03,-0.06,-0.07,-0.06,-0.03,-0.02,-0.04,-0.04,-0.04,0.01],[0.17,-0.16,0.08,-0.05,0.06,-0.13,-0.11,-0.12,-0.07,-0.03,-0.08,-0.09,-0.09,-0.02],[0.16,-0.17,0.06,-0.11,0.01,-0.15,-0.11,-0.14,-0.09,-0.08,-0.1,-0.12,-0.1,0.01],[0.11,-0.05,0.09,0.09,0.11,0.02,-0.05,0.0,0.01,0.08,-0.02,0.02,0.01,-0.05],[0.16,-0.17,0.06,-0.11,0.01,-0.15,-0.11,-0.14,-0.09,-0.08,-0.1,-0.12,-0.1,0.01]],\"type\":\"heatmap\",\"xaxis\":\"x\",\"yaxis\":\"y\",\"hovertemplate\":\"x: %{x}\\u003cbr\\u003ey: %{y}\\u003cbr\\u003eCorr coef: %{z}\\u003cextra\\u003e\\u003c\\u002fextra\\u003e\"}],                        {\"template\":{\"data\":{\"histogram2dcontour\":[{\"type\":\"histogram2dcontour\",\"colorbar\":{\"outlinewidth\":0,\"ticks\":\"\"},\"colorscale\":[[0.0,\"#0d0887\"],[0.1111111111111111,\"#46039f\"],[0.2222222222222222,\"#7201a8\"],[0.3333333333333333,\"#9c179e\"],[0.4444444444444444,\"#bd3786\"],[0.5555555555555556,\"#d8576b\"],[0.6666666666666666,\"#ed7953\"],[0.7777777777777778,\"#fb9f3a\"],[0.8888888888888888,\"#fdca26\"],[1.0,\"#f0f921\"]]}],\"choropleth\":[{\"type\":\"choropleth\",\"colorbar\":{\"outlinewidth\":0,\"ticks\":\"\"}}],\"histogram2d\":[{\"type\":\"histogram2d\",\"colorbar\":{\"outlinewidth\":0,\"ticks\":\"\"},\"colorscale\":[[0.0,\"#0d0887\"],[0.1111111111111111,\"#46039f\"],[0.2222222222222222,\"#7201a8\"],[0.3333333333333333,\"#9c179e\"],[0.4444444444444444,\"#bd3786\"],[0.5555555555555556,\"#d8576b\"],[0.6666666666666666,\"#ed7953\"],[0.7777777777777778,\"#fb9f3a\"],[0.8888888888888888,\"#fdca26\"],[1.0,\"#f0f921\"]]}],\"heatmap\":[{\"type\":\"heatmap\",\"colorbar\":{\"outlinewidth\":0,\"ticks\":\"\"},\"colorscale\":[[0.0,\"#0d0887\"],[0.1111111111111111,\"#46039f\"],[0.2222222222222222,\"#7201a8\"],[0.3333333333333333,\"#9c179e\"],[0.4444444444444444,\"#bd3786\"],[0.5555555555555556,\"#d8576b\"],[0.6666666666666666,\"#ed7953\"],[0.7777777777777778,\"#fb9f3a\"],[0.8888888888888888,\"#fdca26\"],[1.0,\"#f0f921\"]]}],\"heatmapgl\":[{\"type\":\"heatmapgl\",\"colorbar\":{\"outlinewidth\":0,\"ticks\":\"\"},\"colorscale\":[[0.0,\"#0d0887\"],[0.1111111111111111,\"#46039f\"],[0.2222222222222222,\"#7201a8\"],[0.3333333333333333,\"#9c179e\"],[0.4444444444444444,\"#bd3786\"],[0.5555555555555556,\"#d8576b\"],[0.6666666666666666,\"#ed7953\"],[0.7777777777777778,\"#fb9f3a\"],[0.8888888888888888,\"#fdca26\"],[1.0,\"#f0f921\"]]}],\"contourcarpet\":[{\"type\":\"contourcarpet\",\"colorbar\":{\"outlinewidth\":0,\"ticks\":\"\"}}],\"contour\":[{\"type\":\"contour\",\"colorbar\":{\"outlinewidth\":0,\"ticks\":\"\"},\"colorscale\":[[0.0,\"#0d0887\"],[0.1111111111111111,\"#46039f\"],[0.2222222222222222,\"#7201a8\"],[0.3333333333333333,\"#9c179e\"],[0.4444444444444444,\"#bd3786\"],[0.5555555555555556,\"#d8576b\"],[0.6666666666666666,\"#ed7953\"],[0.7777777777777778,\"#fb9f3a\"],[0.8888888888888888,\"#fdca26\"],[1.0,\"#f0f921\"]]}],\"surface\":[{\"type\":\"surface\",\"colorbar\":{\"outlinewidth\":0,\"ticks\":\"\"},\"colorscale\":[[0.0,\"#0d0887\"],[0.1111111111111111,\"#46039f\"],[0.2222222222222222,\"#7201a8\"],[0.3333333333333333,\"#9c179e\"],[0.4444444444444444,\"#bd3786\"],[0.5555555555555556,\"#d8576b\"],[0.6666666666666666,\"#ed7953\"],[0.7777777777777778,\"#fb9f3a\"],[0.8888888888888888,\"#fdca26\"],[1.0,\"#f0f921\"]]}],\"mesh3d\":[{\"type\":\"mesh3d\",\"colorbar\":{\"outlinewidth\":0,\"ticks\":\"\"}}],\"scatter\":[{\"fillpattern\":{\"fillmode\":\"overlay\",\"size\":10,\"solidity\":0.2},\"type\":\"scatter\"}],\"parcoords\":[{\"type\":\"parcoords\",\"line\":{\"colorbar\":{\"outlinewidth\":0,\"ticks\":\"\"}}}],\"scatterpolargl\":[{\"type\":\"scatterpolargl\",\"marker\":{\"colorbar\":{\"outlinewidth\":0,\"ticks\":\"\"}}}],\"bar\":[{\"error_x\":{\"color\":\"#2a3f5f\"},\"error_y\":{\"color\":\"#2a3f5f\"},\"marker\":{\"line\":{\"color\":\"#E5ECF6\",\"width\":0.5},\"pattern\":{\"fillmode\":\"overlay\",\"size\":10,\"solidity\":0.2}},\"type\":\"bar\"}],\"scattergeo\":[{\"type\":\"scattergeo\",\"marker\":{\"colorbar\":{\"outlinewidth\":0,\"ticks\":\"\"}}}],\"scatterpolar\":[{\"type\":\"scatterpolar\",\"marker\":{\"colorbar\":{\"outlinewidth\":0,\"ticks\":\"\"}}}],\"histogram\":[{\"marker\":{\"pattern\":{\"fillmode\":\"overlay\",\"size\":10,\"solidity\":0.2}},\"type\":\"histogram\"}],\"scattergl\":[{\"type\":\"scattergl\",\"marker\":{\"colorbar\":{\"outlinewidth\":0,\"ticks\":\"\"}}}],\"scatter3d\":[{\"type\":\"scatter3d\",\"line\":{\"colorbar\":{\"outlinewidth\":0,\"ticks\":\"\"}},\"marker\":{\"colorbar\":{\"outlinewidth\":0,\"ticks\":\"\"}}}],\"scattermapbox\":[{\"type\":\"scattermapbox\",\"marker\":{\"colorbar\":{\"outlinewidth\":0,\"ticks\":\"\"}}}],\"scatterternary\":[{\"type\":\"scatterternary\",\"marker\":{\"colorbar\":{\"outlinewidth\":0,\"ticks\":\"\"}}}],\"scattercarpet\":[{\"type\":\"scattercarpet\",\"marker\":{\"colorbar\":{\"outlinewidth\":0,\"ticks\":\"\"}}}],\"carpet\":[{\"aaxis\":{\"endlinecolor\":\"#2a3f5f\",\"gridcolor\":\"white\",\"linecolor\":\"white\",\"minorgridcolor\":\"white\",\"startlinecolor\":\"#2a3f5f\"},\"baxis\":{\"endlinecolor\":\"#2a3f5f\",\"gridcolor\":\"white\",\"linecolor\":\"white\",\"minorgridcolor\":\"white\",\"startlinecolor\":\"#2a3f5f\"},\"type\":\"carpet\"}],\"table\":[{\"cells\":{\"fill\":{\"color\":\"#EBF0F8\"},\"line\":{\"color\":\"white\"}},\"header\":{\"fill\":{\"color\":\"#C8D4E3\"},\"line\":{\"color\":\"white\"}},\"type\":\"table\"}],\"barpolar\":[{\"marker\":{\"line\":{\"color\":\"#E5ECF6\",\"width\":0.5},\"pattern\":{\"fillmode\":\"overlay\",\"size\":10,\"solidity\":0.2}},\"type\":\"barpolar\"}],\"pie\":[{\"automargin\":true,\"type\":\"pie\"}]},\"layout\":{\"autotypenumbers\":\"strict\",\"colorway\":[\"#636efa\",\"#EF553B\",\"#00cc96\",\"#ab63fa\",\"#FFA15A\",\"#19d3f3\",\"#FF6692\",\"#B6E880\",\"#FF97FF\",\"#FECB52\"],\"font\":{\"color\":\"#2a3f5f\"},\"hovermode\":\"closest\",\"hoverlabel\":{\"align\":\"left\"},\"paper_bgcolor\":\"white\",\"plot_bgcolor\":\"#E5ECF6\",\"polar\":{\"bgcolor\":\"#E5ECF6\",\"angularaxis\":{\"gridcolor\":\"white\",\"linecolor\":\"white\",\"ticks\":\"\"},\"radialaxis\":{\"gridcolor\":\"white\",\"linecolor\":\"white\",\"ticks\":\"\"}},\"ternary\":{\"bgcolor\":\"#E5ECF6\",\"aaxis\":{\"gridcolor\":\"white\",\"linecolor\":\"white\",\"ticks\":\"\"},\"baxis\":{\"gridcolor\":\"white\",\"linecolor\":\"white\",\"ticks\":\"\"},\"caxis\":{\"gridcolor\":\"white\",\"linecolor\":\"white\",\"ticks\":\"\"}},\"coloraxis\":{\"colorbar\":{\"outlinewidth\":0,\"ticks\":\"\"}},\"colorscale\":{\"sequential\":[[0.0,\"#0d0887\"],[0.1111111111111111,\"#46039f\"],[0.2222222222222222,\"#7201a8\"],[0.3333333333333333,\"#9c179e\"],[0.4444444444444444,\"#bd3786\"],[0.5555555555555556,\"#d8576b\"],[0.6666666666666666,\"#ed7953\"],[0.7777777777777778,\"#fb9f3a\"],[0.8888888888888888,\"#fdca26\"],[1.0,\"#f0f921\"]],\"sequentialminus\":[[0.0,\"#0d0887\"],[0.1111111111111111,\"#46039f\"],[0.2222222222222222,\"#7201a8\"],[0.3333333333333333,\"#9c179e\"],[0.4444444444444444,\"#bd3786\"],[0.5555555555555556,\"#d8576b\"],[0.6666666666666666,\"#ed7953\"],[0.7777777777777778,\"#fb9f3a\"],[0.8888888888888888,\"#fdca26\"],[1.0,\"#f0f921\"]],\"diverging\":[[0,\"#8e0152\"],[0.1,\"#c51b7d\"],[0.2,\"#de77ae\"],[0.3,\"#f1b6da\"],[0.4,\"#fde0ef\"],[0.5,\"#f7f7f7\"],[0.6,\"#e6f5d0\"],[0.7,\"#b8e186\"],[0.8,\"#7fbc41\"],[0.9,\"#4d9221\"],[1,\"#276419\"]]},\"xaxis\":{\"gridcolor\":\"white\",\"linecolor\":\"white\",\"ticks\":\"\",\"title\":{\"standoff\":15},\"zerolinecolor\":\"white\",\"automargin\":true,\"zerolinewidth\":2},\"yaxis\":{\"gridcolor\":\"white\",\"linecolor\":\"white\",\"ticks\":\"\",\"title\":{\"standoff\":15},\"zerolinecolor\":\"white\",\"automargin\":true,\"zerolinewidth\":2},\"scene\":{\"xaxis\":{\"backgroundcolor\":\"#E5ECF6\",\"gridcolor\":\"white\",\"linecolor\":\"white\",\"showbackground\":true,\"ticks\":\"\",\"zerolinecolor\":\"white\",\"gridwidth\":2},\"yaxis\":{\"backgroundcolor\":\"#E5ECF6\",\"gridcolor\":\"white\",\"linecolor\":\"white\",\"showbackground\":true,\"ticks\":\"\",\"zerolinecolor\":\"white\",\"gridwidth\":2},\"zaxis\":{\"backgroundcolor\":\"#E5ECF6\",\"gridcolor\":\"white\",\"linecolor\":\"white\",\"showbackground\":true,\"ticks\":\"\",\"zerolinecolor\":\"white\",\"gridwidth\":2}},\"shapedefaults\":{\"line\":{\"color\":\"#2a3f5f\"}},\"annotationdefaults\":{\"arrowcolor\":\"#2a3f5f\",\"arrowhead\":0,\"arrowwidth\":1},\"geo\":{\"bgcolor\":\"white\",\"landcolor\":\"#E5ECF6\",\"subunitcolor\":\"white\",\"showland\":true,\"showlakes\":true,\"lakecolor\":\"white\"},\"title\":{\"x\":0.05},\"mapbox\":{\"style\":\"light\"}}},\"xaxis\":{\"anchor\":\"y\",\"domain\":[0.0,1.0]},\"yaxis\":{\"anchor\":\"x\",\"domain\":[0.0,1.0],\"autorange\":\"reversed\"},\"coloraxis\":{\"colorbar\":{\"title\":{\"text\":\"Corr coef\"}},\"colorscale\":[[0.0,\"rgb(5,48,97)\"],[0.1,\"rgb(33,102,172)\"],[0.2,\"rgb(67,147,195)\"],[0.3,\"rgb(146,197,222)\"],[0.4,\"rgb(209,229,240)\"],[0.5,\"rgb(247,247,247)\"],[0.6,\"rgb(253,219,199)\"],[0.7,\"rgb(244,165,130)\"],[0.8,\"rgb(214,96,77)\"],[0.9,\"rgb(178,24,43)\"],[1.0,\"rgb(103,0,31)\"]],\"cmin\":-0.26,\"cmax\":0.26},\"title\":{\"text\":\"Annual correlation heatmap\"},\"height\":500,\"updatemenus\":[{\"buttons\":[{\"args\":[null,{\"frame\":{\"duration\":500,\"redraw\":true},\"mode\":\"immediate\",\"fromcurrent\":true,\"transition\":{\"duration\":500,\"easing\":\"linear\"}}],\"label\":\"&#9654;\",\"method\":\"animate\"},{\"args\":[[null],{\"frame\":{\"duration\":0,\"redraw\":true},\"mode\":\"immediate\",\"fromcurrent\":true,\"transition\":{\"duration\":0,\"easing\":\"linear\"}}],\"label\":\"&#9724;\",\"method\":\"animate\"}],\"direction\":\"left\",\"pad\":{\"r\":10,\"t\":70},\"showactive\":false,\"type\":\"buttons\",\"x\":0.1,\"xanchor\":\"right\",\"y\":0,\"yanchor\":\"top\"}],\"sliders\":[{\"active\":0,\"currentvalue\":{\"prefix\":\"\"},\"len\":0.9,\"pad\":{\"b\":10,\"t\":60},\"steps\":[{\"args\":[[\"0\"],{\"frame\":{\"duration\":0,\"redraw\":true},\"mode\":\"immediate\",\"fromcurrent\":true,\"transition\":{\"duration\":0,\"easing\":\"linear\"}}],\"label\":\"2020\",\"method\":\"animate\"},{\"args\":[[\"1\"],{\"frame\":{\"duration\":0,\"redraw\":true},\"mode\":\"immediate\",\"fromcurrent\":true,\"transition\":{\"duration\":0,\"easing\":\"linear\"}}],\"label\":\"2021\",\"method\":\"animate\"},{\"args\":[[\"2\"],{\"frame\":{\"duration\":0,\"redraw\":true},\"mode\":\"immediate\",\"fromcurrent\":true,\"transition\":{\"duration\":0,\"easing\":\"linear\"}}],\"label\":\"2022\",\"method\":\"animate\"},{\"args\":[[\"3\"],{\"frame\":{\"duration\":0,\"redraw\":true},\"mode\":\"immediate\",\"fromcurrent\":true,\"transition\":{\"duration\":0,\"easing\":\"linear\"}}],\"label\":\"2023\",\"method\":\"animate\"},{\"args\":[[\"4\"],{\"frame\":{\"duration\":0,\"redraw\":true},\"mode\":\"immediate\",\"fromcurrent\":true,\"transition\":{\"duration\":0,\"easing\":\"linear\"}}],\"label\":\"2024\",\"method\":\"animate\"}],\"x\":0.1,\"xanchor\":\"left\",\"y\":0,\"yanchor\":\"top\"}]},                        {\"responsive\": true}                    ).then(function(){\n",
       "                            Plotly.addFrames('0664f450-5066-46af-9143-cd1736560fdd', [{\"data\":[{\"coloraxis\":\"coloraxis\",\"name\":\"0\",\"texttemplate\":\"%{z}\",\"x\":[\"Olea\",\"Frangula\",\"Arbutus\",\"Ilex\",\"Picea\",\"Tilia\",\"Salix\",\"Corylus\",\"Pseudotsuga\",\"Crataegus\",\"Alnus\",\"Ulmus\",\"Larix\",\"Quercus\"],\"y\":[\"temperature_2m_max\",\"dewpoint_temperature_2m_max\",\"volumetric_soil_water_layer_3_max\",\"volumetric_soil_water_layer_2_max\",\"temperature_2m_min\",\"volumetric_soil_water_layer_1_min\",\"volumetric_soil_water_layer_2_min\",\"volumetric_soil_water_layer_1_min\",\"dewpoint_temperature_2m_min\",\"volumetric_soil_water_layer_1_max\",\"volumetric_soil_water_layer_3_min\",\"volumetric_soil_water_layer_2_min\",\"temperature_2m_min\",\"volumetric_soil_water_layer_2_min\"],\"z\":[[0.14,-0.06,0.13,0.1,0.1,0.02,-0.07,0.0,0.01,0.09,-0.01,0.02,-0.02,-0.07],[0.26,-0.19,0.2,0.07,0.17,-0.08,-0.14,-0.08,-0.07,0.07,-0.09,-0.04,-0.08,-0.1],[0.21,-0.18,0.12,-0.03,0.09,-0.13,-0.13,-0.12,-0.08,-0.01,-0.09,-0.09,-0.09,-0.04],[0.2,-0.17,0.1,-0.04,0.07,-0.12,-0.12,-0.11,-0.07,-0.02,-0.08,-0.08,-0.09,-0.02],[0.11,-0.05,0.09,0.09,0.11,0.02,-0.05,0.0,0.01,0.08,-0.02,0.02,0.01,-0.05],[0.14,-0.16,0.06,-0.11,0.01,-0.16,-0.1,-0.14,-0.1,-0.08,-0.1,-0.12,-0.1,0.01],[0.16,-0.17,0.06,-0.11,0.01,-0.15,-0.11,-0.14,-0.09,-0.08,-0.1,-0.12,-0.1,0.01],[0.14,-0.16,0.06,-0.11,0.01,-0.16,-0.1,-0.14,-0.1,-0.08,-0.1,-0.12,-0.1,0.01],[0.16,-0.11,0.12,0.05,0.1,-0.04,-0.09,-0.05,-0.03,0.04,-0.05,-0.03,-0.05,-0.05],[0.11,-0.09,0.04,-0.02,0.03,-0.06,-0.07,-0.06,-0.03,-0.02,-0.04,-0.04,-0.04,0.01],[0.17,-0.16,0.08,-0.05,0.06,-0.13,-0.11,-0.12,-0.07,-0.03,-0.08,-0.09,-0.09,-0.02],[0.16,-0.17,0.06,-0.11,0.01,-0.15,-0.11,-0.14,-0.09,-0.08,-0.1,-0.12,-0.1,0.01],[0.11,-0.05,0.09,0.09,0.11,0.02,-0.05,0.0,0.01,0.08,-0.02,0.02,0.01,-0.05],[0.16,-0.17,0.06,-0.11,0.01,-0.15,-0.11,-0.14,-0.09,-0.08,-0.1,-0.12,-0.1,0.01]],\"type\":\"heatmap\"}],\"layout\":{\"height\":500,\"yaxis\":{\"autorange\":\"reversed\"},\"title\":{\"text\":\"Annual correlation heatmap\"},\"coloraxis\":{\"cmax\":0.26,\"cmin\":-0.26,\"colorbar\":{\"title\":{\"text\":\"Corr coef\"}},\"colorscale\":[[0.0,\"rgb(5,48,97)\"],[0.1,\"rgb(33,102,172)\"],[0.2,\"rgb(67,147,195)\"],[0.3,\"rgb(146,197,222)\"],[0.4,\"rgb(209,229,240)\"],[0.5,\"rgb(247,247,247)\"],[0.6,\"rgb(253,219,199)\"],[0.7,\"rgb(244,165,130)\"],[0.8,\"rgb(214,96,77)\"],[0.9,\"rgb(178,24,43)\"],[1.0,\"rgb(103,0,31)\"]]}},\"name\":\"0\"},{\"data\":[{\"coloraxis\":\"coloraxis\",\"name\":\"1\",\"texttemplate\":\"%{z}\",\"x\":[\"Olea\",\"Frangula\",\"Arbutus\",\"Ilex\",\"Picea\",\"Tilia\",\"Salix\",\"Corylus\",\"Pseudotsuga\",\"Crataegus\",\"Alnus\",\"Ulmus\",\"Larix\",\"Quercus\"],\"y\":[\"temperature_2m_max\",\"dewpoint_temperature_2m_max\",\"volumetric_soil_water_layer_3_max\",\"volumetric_soil_water_layer_2_max\",\"temperature_2m_min\",\"volumetric_soil_water_layer_1_min\",\"volumetric_soil_water_layer_2_min\",\"volumetric_soil_water_layer_1_min\",\"dewpoint_temperature_2m_min\",\"volumetric_soil_water_layer_1_max\",\"volumetric_soil_water_layer_3_min\",\"volumetric_soil_water_layer_2_min\",\"temperature_2m_min\",\"volumetric_soil_water_layer_2_min\"],\"z\":[[-0.12,0.04,-0.09,-0.13,-0.11,-0.02,0.05,-0.02,-0.04,-0.09,0.0,-0.03,-0.01,0.03],[-0.13,0.04,-0.14,-0.16,-0.12,-0.03,0.06,-0.03,-0.05,-0.13,-0.01,-0.04,0.01,0.08],[0.02,-0.03,-0.03,-0.1,-0.06,-0.07,-0.03,-0.06,-0.04,-0.07,-0.04,-0.06,-0.04,0.05],[0.04,-0.03,-0.01,-0.06,-0.02,-0.05,-0.03,-0.05,-0.03,-0.05,-0.02,-0.04,-0.04,0.03],[-0.04,-0.02,-0.08,-0.17,-0.09,-0.07,0.0,-0.08,-0.09,-0.12,-0.06,-0.07,-0.03,0.06],[-0.03,0.05,-0.02,0.03,0.01,0.03,0.02,0.03,0.02,0.02,0.02,0.03,0.02,0.01],[0.05,-0.03,0.01,-0.03,0.01,-0.05,-0.04,-0.04,-0.04,-0.02,-0.03,-0.02,-0.03,0.01],[-0.03,0.05,-0.02,0.03,0.01,0.03,0.02,0.03,0.02,0.02,0.02,0.03,0.02,0.01],[0.0,-0.05,-0.04,-0.12,-0.04,-0.08,-0.03,-0.08,-0.07,-0.09,-0.07,-0.07,-0.04,0.06],[-0.02,0.01,-0.04,-0.04,-0.03,-0.01,0.0,-0.01,-0.01,-0.03,-0.0,-0.02,-0.01,0.04],[0.07,-0.05,0.02,-0.05,0.01,-0.07,-0.05,-0.05,-0.04,-0.02,-0.04,-0.04,-0.05,0.01],[0.05,-0.03,0.01,-0.03,0.01,-0.05,-0.04,-0.04,-0.04,-0.02,-0.03,-0.02,-0.03,0.01],[-0.04,-0.02,-0.08,-0.17,-0.09,-0.07,0.0,-0.08,-0.09,-0.12,-0.06,-0.07,-0.03,0.06],[0.05,-0.03,0.01,-0.03,0.01,-0.05,-0.04,-0.04,-0.04,-0.02,-0.03,-0.02,-0.03,0.01]],\"type\":\"heatmap\"}],\"layout\":{\"height\":500,\"yaxis\":{\"autorange\":\"reversed\"},\"title\":{\"text\":\"Annual correlation heatmap\"},\"coloraxis\":{\"cmax\":0.26,\"cmin\":-0.26,\"colorbar\":{\"title\":{\"text\":\"Corr coef\"}},\"colorscale\":[[0.0,\"rgb(5,48,97)\"],[0.1,\"rgb(33,102,172)\"],[0.2,\"rgb(67,147,195)\"],[0.3,\"rgb(146,197,222)\"],[0.4,\"rgb(209,229,240)\"],[0.5,\"rgb(247,247,247)\"],[0.6,\"rgb(253,219,199)\"],[0.7,\"rgb(244,165,130)\"],[0.8,\"rgb(214,96,77)\"],[0.9,\"rgb(178,24,43)\"],[1.0,\"rgb(103,0,31)\"]]}},\"name\":\"1\"},{\"data\":[{\"coloraxis\":\"coloraxis\",\"name\":\"2\",\"texttemplate\":\"%{z}\",\"x\":[\"Olea\",\"Frangula\",\"Arbutus\",\"Ilex\",\"Picea\",\"Tilia\",\"Salix\",\"Corylus\",\"Pseudotsuga\",\"Crataegus\",\"Alnus\",\"Ulmus\",\"Larix\",\"Quercus\"],\"y\":[\"temperature_2m_max\",\"dewpoint_temperature_2m_max\",\"volumetric_soil_water_layer_3_max\",\"volumetric_soil_water_layer_2_max\",\"temperature_2m_min\",\"volumetric_soil_water_layer_1_min\",\"volumetric_soil_water_layer_2_min\",\"volumetric_soil_water_layer_1_min\",\"dewpoint_temperature_2m_min\",\"volumetric_soil_water_layer_1_max\",\"volumetric_soil_water_layer_3_min\",\"volumetric_soil_water_layer_2_min\",\"temperature_2m_min\",\"volumetric_soil_water_layer_2_min\"],\"z\":[[-0.05,0.01,-0.03,-0.04,-0.06,-0.02,0.02,-0.01,-0.0,-0.04,0.01,-0.02,-0.02,0.0],[0.15,-0.14,0.08,-0.04,0.05,-0.1,-0.08,-0.1,-0.08,-0.04,-0.06,-0.07,-0.08,-0.04],[0.07,-0.04,-0.0,-0.03,0.01,-0.04,-0.04,-0.04,-0.02,-0.03,-0.02,-0.03,-0.02,0.03],[0.06,-0.06,-0.01,-0.07,-0.02,-0.06,-0.04,-0.06,-0.04,-0.06,-0.04,-0.05,-0.04,0.04],[0.16,-0.1,0.13,0.09,0.09,-0.03,-0.09,-0.03,0.01,0.07,-0.04,-0.02,-0.04,-0.05],[0.13,-0.11,0.08,-0.01,0.06,-0.08,-0.07,-0.07,-0.05,-0.01,-0.05,-0.06,-0.07,-0.03],[0.1,-0.07,0.05,-0.02,0.03,-0.06,-0.05,-0.05,-0.04,-0.01,-0.03,-0.04,-0.05,-0.01],[0.13,-0.11,0.08,-0.01,0.06,-0.08,-0.07,-0.07,-0.05,-0.01,-0.05,-0.06,-0.07,-0.03],[0.14,-0.09,0.12,0.09,0.09,-0.02,-0.08,-0.02,0.01,0.07,-0.02,-0.01,-0.03,-0.04],[-0.02,0.03,-0.06,-0.02,-0.02,0.01,0.02,0.01,0.02,-0.02,0.02,0.0,0.02,0.06],[0.04,-0.01,-0.0,-0.01,-0.0,-0.01,-0.01,-0.02,-0.0,-0.02,-0.01,-0.01,-0.01,0.02],[0.1,-0.07,0.05,-0.02,0.03,-0.06,-0.05,-0.05,-0.04,-0.01,-0.03,-0.04,-0.05,-0.01],[0.16,-0.1,0.13,0.09,0.09,-0.03,-0.09,-0.03,0.01,0.07,-0.04,-0.02,-0.04,-0.05],[0.1,-0.07,0.05,-0.02,0.03,-0.06,-0.05,-0.05,-0.04,-0.01,-0.03,-0.04,-0.05,-0.01]],\"type\":\"heatmap\"}],\"layout\":{\"height\":500,\"yaxis\":{\"autorange\":\"reversed\"},\"title\":{\"text\":\"Annual correlation heatmap\"},\"coloraxis\":{\"cmax\":0.26,\"cmin\":-0.26,\"colorbar\":{\"title\":{\"text\":\"Corr coef\"}},\"colorscale\":[[0.0,\"rgb(5,48,97)\"],[0.1,\"rgb(33,102,172)\"],[0.2,\"rgb(67,147,195)\"],[0.3,\"rgb(146,197,222)\"],[0.4,\"rgb(209,229,240)\"],[0.5,\"rgb(247,247,247)\"],[0.6,\"rgb(253,219,199)\"],[0.7,\"rgb(244,165,130)\"],[0.8,\"rgb(214,96,77)\"],[0.9,\"rgb(178,24,43)\"],[1.0,\"rgb(103,0,31)\"]]}},\"name\":\"2\"},{\"data\":[{\"coloraxis\":\"coloraxis\",\"name\":\"3\",\"texttemplate\":\"%{z}\",\"x\":[\"Olea\",\"Frangula\",\"Arbutus\",\"Ilex\",\"Picea\",\"Tilia\",\"Salix\",\"Corylus\",\"Pseudotsuga\",\"Crataegus\",\"Alnus\",\"Ulmus\",\"Larix\",\"Quercus\"],\"y\":[\"temperature_2m_max\",\"dewpoint_temperature_2m_max\",\"volumetric_soil_water_layer_3_max\",\"volumetric_soil_water_layer_2_max\",\"temperature_2m_min\",\"volumetric_soil_water_layer_1_min\",\"volumetric_soil_water_layer_2_min\",\"volumetric_soil_water_layer_1_min\",\"dewpoint_temperature_2m_min\",\"volumetric_soil_water_layer_1_max\",\"volumetric_soil_water_layer_3_min\",\"volumetric_soil_water_layer_2_min\",\"temperature_2m_min\",\"volumetric_soil_water_layer_2_min\"],\"z\":[[0.26,-0.23,0.18,-0.03,0.1,-0.15,-0.16,-0.15,-0.12,-0.01,-0.12,-0.1,-0.12,-0.08],[0.01,-0.01,-0.01,-0.01,0.01,0.01,0.01,-0.01,-0.02,-0.02,-0.01,0.0,0.02,0.01],[-0.11,0.13,-0.09,0.02,-0.05,0.07,0.07,0.08,0.09,0.02,0.07,0.05,0.05,0.06],[-0.16,0.16,-0.13,0.02,-0.07,0.11,0.11,0.11,0.1,0.01,0.09,0.07,0.09,0.07],[0.2,-0.14,0.18,0.11,0.16,-0.04,-0.11,-0.04,-0.02,0.09,-0.04,-0.01,-0.05,-0.09],[-0.18,0.2,-0.11,0.09,-0.04,0.15,0.12,0.15,0.13,0.06,0.11,0.11,0.1,0.04],[-0.16,0.18,-0.11,0.06,-0.06,0.13,0.11,0.13,0.12,0.04,0.1,0.09,0.09,0.05],[-0.18,0.2,-0.11,0.09,-0.04,0.15,0.12,0.15,0.13,0.06,0.11,0.11,0.1,0.04],[0.03,0.02,0.04,0.13,0.08,0.07,0.0,0.07,0.07,0.1,0.05,0.06,0.04,-0.03],[-0.17,0.17,-0.12,0.05,-0.06,0.13,0.12,0.12,0.1,0.03,0.09,0.09,0.1,0.04],[-0.08,0.11,-0.06,0.02,-0.04,0.06,0.05,0.06,0.07,0.01,0.06,0.04,0.04,0.04],[-0.16,0.18,-0.11,0.06,-0.06,0.13,0.11,0.13,0.12,0.04,0.1,0.09,0.09,0.05],[0.2,-0.14,0.18,0.11,0.16,-0.04,-0.11,-0.04,-0.02,0.09,-0.04,-0.01,-0.05,-0.09],[-0.16,0.18,-0.11,0.06,-0.06,0.13,0.11,0.13,0.12,0.04,0.1,0.09,0.09,0.05]],\"type\":\"heatmap\"}],\"layout\":{\"height\":500,\"yaxis\":{\"autorange\":\"reversed\"},\"title\":{\"text\":\"Annual correlation heatmap\"},\"coloraxis\":{\"cmax\":0.26,\"cmin\":-0.26,\"colorbar\":{\"title\":{\"text\":\"Corr coef\"}},\"colorscale\":[[0.0,\"rgb(5,48,97)\"],[0.1,\"rgb(33,102,172)\"],[0.2,\"rgb(67,147,195)\"],[0.3,\"rgb(146,197,222)\"],[0.4,\"rgb(209,229,240)\"],[0.5,\"rgb(247,247,247)\"],[0.6,\"rgb(253,219,199)\"],[0.7,\"rgb(244,165,130)\"],[0.8,\"rgb(214,96,77)\"],[0.9,\"rgb(178,24,43)\"],[1.0,\"rgb(103,0,31)\"]]}},\"name\":\"3\"},{\"data\":[{\"coloraxis\":\"coloraxis\",\"name\":\"4\",\"texttemplate\":\"%{z}\",\"x\":[\"Olea\",\"Frangula\",\"Arbutus\",\"Ilex\",\"Picea\",\"Tilia\",\"Salix\",\"Corylus\",\"Pseudotsuga\",\"Crataegus\",\"Alnus\",\"Ulmus\",\"Larix\",\"Quercus\"],\"y\":[\"temperature_2m_max\",\"dewpoint_temperature_2m_max\",\"volumetric_soil_water_layer_3_max\",\"volumetric_soil_water_layer_2_max\",\"temperature_2m_min\",\"volumetric_soil_water_layer_1_min\",\"volumetric_soil_water_layer_2_min\",\"volumetric_soil_water_layer_1_min\",\"dewpoint_temperature_2m_min\",\"volumetric_soil_water_layer_1_max\",\"volumetric_soil_water_layer_3_min\",\"volumetric_soil_water_layer_2_min\",\"temperature_2m_min\",\"volumetric_soil_water_layer_2_min\"],\"z\":[[0.1,-0.07,0.09,0.03,0.06,-0.02,-0.06,-0.03,-0.02,0.04,-0.03,-0.01,-0.04,-0.05],[0.16,-0.12,0.13,0.05,0.12,-0.04,-0.09,-0.04,-0.04,0.06,-0.05,-0.01,-0.04,-0.07],[0.08,-0.06,0.06,0.03,0.06,-0.03,-0.04,-0.02,-0.02,0.02,-0.03,-0.01,-0.02,-0.03],[0.11,-0.09,0.09,0.02,0.06,-0.05,-0.06,-0.05,-0.04,0.02,-0.05,-0.02,-0.04,-0.05],[0.14,-0.07,0.12,0.11,0.1,-0.0,-0.08,-0.0,0.02,0.09,-0.01,0.01,-0.03,-0.05],[0.18,-0.13,0.16,0.1,0.15,-0.04,-0.09,-0.04,-0.04,0.08,-0.05,-0.0,-0.04,-0.11],[0.17,-0.12,0.15,0.08,0.13,-0.04,-0.09,-0.04,-0.04,0.07,-0.05,-0.0,-0.04,-0.09],[0.18,-0.13,0.16,0.1,0.15,-0.04,-0.09,-0.04,-0.04,0.08,-0.05,-0.0,-0.04,-0.11],[0.18,-0.1,0.15,0.1,0.11,-0.03,-0.1,-0.02,0.01,0.09,-0.03,-0.0,-0.05,-0.07],[0.11,-0.08,0.09,0.03,0.06,-0.03,-0.06,-0.04,-0.04,0.03,-0.04,-0.02,-0.04,-0.06],[0.13,-0.09,0.1,0.07,0.11,-0.02,-0.06,-0.02,-0.02,0.06,-0.03,0.01,-0.02,-0.06],[0.17,-0.12,0.15,0.08,0.13,-0.04,-0.09,-0.04,-0.04,0.07,-0.05,-0.0,-0.04,-0.09],[0.14,-0.07,0.12,0.11,0.1,-0.0,-0.08,-0.0,0.02,0.09,-0.01,0.01,-0.03,-0.05],[0.17,-0.12,0.15,0.08,0.13,-0.04,-0.09,-0.04,-0.04,0.07,-0.05,-0.0,-0.04,-0.09]],\"type\":\"heatmap\"}],\"layout\":{\"height\":500,\"yaxis\":{\"autorange\":\"reversed\"},\"title\":{\"text\":\"Annual correlation heatmap\"},\"coloraxis\":{\"cmax\":0.26,\"cmin\":-0.26,\"colorbar\":{\"title\":{\"text\":\"Corr coef\"}},\"colorscale\":[[0.0,\"rgb(5,48,97)\"],[0.1,\"rgb(33,102,172)\"],[0.2,\"rgb(67,147,195)\"],[0.3,\"rgb(146,197,222)\"],[0.4,\"rgb(209,229,240)\"],[0.5,\"rgb(247,247,247)\"],[0.6,\"rgb(253,219,199)\"],[0.7,\"rgb(244,165,130)\"],[0.8,\"rgb(214,96,77)\"],[0.9,\"rgb(178,24,43)\"],[1.0,\"rgb(103,0,31)\"]]}},\"name\":\"4\"}]);\n",
       "                        }).then(function(){\n",
       "                            \n",
       "var gd = document.getElementById('0664f450-5066-46af-9143-cd1736560fdd');\n",
       "var x = new MutationObserver(function (mutations, observer) {{\n",
       "        var display = window.getComputedStyle(gd).display;\n",
       "        if (!display || display === 'none') {{\n",
       "            console.log([gd, 'removed!']);\n",
       "            Plotly.purge(gd);\n",
       "            observer.disconnect();\n",
       "        }}\n",
       "}});\n",
       "\n",
       "// Listen for the removal of the full notebook cells\n",
       "var notebookContainer = gd.closest('#notebook-container');\n",
       "if (notebookContainer) {{\n",
       "    x.observe(notebookContainer, {childList: true});\n",
       "}}\n",
       "\n",
       "// Listen for the clearing of the current output cell\n",
       "var outputEl = gd.closest('.output');\n",
       "if (outputEl) {{\n",
       "    x.observe(outputEl, {childList: true});\n",
       "}}\n",
       "\n",
       "                        })                };                });            </script>        </div>"
      ]
     },
     "metadata": {},
     "output_type": "display_data"
    }
   ],
   "source": [
    "top_genus = pd.concat(corrs).abs().agg('max').sort_values(ascending=False).index[:14].tolist()\n",
    "top_climate = pd.concat(corrs).T.abs().agg('max').sort_values(ascending=False).index[:14].tolist()\n",
    "\n",
    "zmax = max([corr.abs().max().max() for corr in corrs])\n",
    "fig = px.imshow(\n",
    "    np.array([corr[top_genus].loc[top_climate] for corr in corrs]),\n",
    "    animation_frame=0,\n",
    "    labels=dict(color=\"Corr coef\"),\n",
    "    x=top_genus,\n",
    "    y=top_climate,\n",
    "    title='Annual correlation heatmap',\n",
    "    color_continuous_scale='RdBu_r',\n",
    "    text_auto=True, aspect='auto', \n",
    "    zmin=-zmax, \n",
    "    zmax=zmax, \n",
    "    height=500\n",
    ")\n",
    "fig.layout.sliders[0]['currentvalue']['prefix'] = ''\n",
    "for year, step in zip(eval_years, fig.layout.sliders[0].steps):\n",
    "    step.label = str(year)\n",
    "fig"
   ]
  },
  {
   "cell_type": "code",
   "execution_count": null,
   "id": "c6f13b78-535a-47b3-b65d-cd5b6375efe7",
   "metadata": {},
   "outputs": [],
   "source": []
  },
  {
   "cell_type": "code",
   "execution_count": null,
   "id": "226aeec8-e4f1-4f94-bbf2-6d68664231b3",
   "metadata": {},
   "outputs": [],
   "source": []
  },
  {
   "cell_type": "code",
   "execution_count": 6,
   "id": "6f79e0bb-81e2-4f5c-8a37-4d3b30829417",
   "metadata": {},
   "outputs": [
    {
     "data": {
      "text/html": [
       "\n",
       "            <style>\n",
       "                .geemap-dark {\n",
       "                    --jp-widgets-color: white;\n",
       "                    --jp-widgets-label-color: white;\n",
       "                    --jp-ui-font-color1: white;\n",
       "                    --jp-layout-color2: #454545;\n",
       "                    background-color: #383838;\n",
       "                }\n",
       "\n",
       "                .geemap-dark .jupyter-button {\n",
       "                    --jp-layout-color3: #383838;\n",
       "                }\n",
       "\n",
       "                .geemap-colab {\n",
       "                    background-color: var(--colab-primary-surface-color, white);\n",
       "                }\n",
       "\n",
       "                .geemap-colab .jupyter-button {\n",
       "                    --jp-layout-color3: var(--colab-primary-surface-color, white);\n",
       "                }\n",
       "            </style>\n",
       "            "
      ],
      "text/plain": [
       "<IPython.core.display.HTML object>"
      ]
     },
     "metadata": {},
     "output_type": "display_data"
    },
    {
     "name": "stdout",
     "output_type": "stream",
     "text": [
      "val_r2_score 0.05086209252476692\n",
      "val_r2_score 0.03503693640232086\n",
      "val_r2_score 0.002100642304867506\n",
      "val_r2_score -0.0013321297010406852\n",
      "val_r2_score 0.052994102239608765\n"
     ]
    }
   ],
   "source": [
    "from tensorflow.keras.layers import *\n",
    "from sklearn.preprocessing import StandardScaler\n",
    "\n",
    "x_input = Input((14,))\n",
    "\n",
    "for units in reversed([x**2 for x in range(4, 8)]):\n",
    "    x = Dense(units, activation='relu')(x_input)\n",
    "x = Dropout(0.2)(x)\n",
    "outputs = Dense(y_diffs[0].shape[-1], activation='sigmoid')(x)\n",
    "\n",
    "m = tf.keras.models.Model(inputs=[x_input], outputs=outputs)\n",
    "m.compile(optimizer='adam', loss='huber', metrics=['root_mean_squared_error', 'r2_score'])\n",
    "\n",
    "for weather_diff, y_diff in reversed(list(zip(weather_diffs, y_diffs))):\n",
    "    hist = m.fit(\n",
    "        x=StandardScaler().fit_transform(weather_diff), \n",
    "        y=y_diff,\n",
    "        validation_split=0.1,\n",
    "        epochs=10, verbose=0\n",
    "    )\n",
    "    print('val_r2_score', hist.history['val_r2_score'][-1])\n"
   ]
  },
  {
   "cell_type": "code",
   "execution_count": null,
   "id": "c9b0cb74-e677-4d34-8ea8-34f71f39e48b",
   "metadata": {},
   "outputs": [],
   "source": []
  }
 ],
 "metadata": {
  "kernelspec": {
   "display_name": "Python 3 (ipykernel)",
   "language": "python",
   "name": "python3"
  },
  "language_info": {
   "codemirror_mode": {
    "name": "ipython",
    "version": 3
   },
   "file_extension": ".py",
   "mimetype": "text/x-python",
   "name": "python",
   "nbconvert_exporter": "python",
   "pygments_lexer": "ipython3",
   "version": "3.10.14"
  }
 },
 "nbformat": 4,
 "nbformat_minor": 5
}
