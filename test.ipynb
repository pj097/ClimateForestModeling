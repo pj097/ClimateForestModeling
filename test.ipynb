{
 "cells": [
  {
   "cell_type": "code",
   "execution_count": null,
   "id": "ccc611d4-bd39-465c-8ad1-162c494f92e5",
   "metadata": {},
   "outputs": [],
   "source": [
    "# import geemap\n",
    "# import ee\n",
    "# ee.Authenticate()\n",
    "# ee.Initialize(project='sentinel-treeclassification')"
   ]
  },
  {
   "cell_type": "code",
   "execution_count": 7,
   "id": "69ff7c3c-be20-4bb7-bb9a-97a71ee73e91",
   "metadata": {},
   "outputs": [
    {
     "name": "stdout",
     "output_type": "stream",
     "text": [
      "[0.0876 0.1914]\n",
      "[0.0857 0.1958]\n"
     ]
    }
   ],
   "source": [
    "import numpy as np\n",
    "from pathlib import Path\n",
    "shards_dir = Path.home().joinpath('/mnt', 'wsl', 'training_data', 'shards')\n",
    "\n",
    "print(np.load(shards_dir.joinpath('features_B3_B8_2019', 'feature_1.npy'))[0][0])\n",
    "\n",
    "print(np.load(shards_dir.joinpath('features_B3_B8_2018', 'feature_1.npy'))[0][0])"
   ]
  },
  {
   "cell_type": "code",
   "execution_count": null,
   "id": "0485fe8c-84d6-4d02-b215-7f2ba2747bdb",
   "metadata": {},
   "outputs": [],
   "source": []
  },
  {
   "cell_type": "code",
   "execution_count": 5,
   "id": "fea00079-575f-4e9f-a0f3-b085b584a253",
   "metadata": {},
   "outputs": [],
   "source": [
    "import geopandas as gpd\n",
    "gdf = gpd.read_file(Path('labels').joinpath('full_geometries.json'))\n",
    "# gdf_points = gdf\n",
    "# gdf_points.geometry = gdf_points.geometry.centroid"
   ]
  },
  {
   "cell_type": "code",
   "execution_count": null,
   "id": "db3be99c-d165-46bb-8d38-bbe51ed2ec71",
   "metadata": {},
   "outputs": [
    {
     "data": {
      "text/html": [
       "\n",
       "            <style>\n",
       "                .geemap-dark {\n",
       "                    --jp-widgets-color: white;\n",
       "                    --jp-widgets-label-color: white;\n",
       "                    --jp-ui-font-color1: white;\n",
       "                    --jp-layout-color2: #454545;\n",
       "                    background-color: #383838;\n",
       "                }\n",
       "\n",
       "                .geemap-dark .jupyter-button {\n",
       "                    --jp-layout-color3: #383838;\n",
       "                }\n",
       "\n",
       "                .geemap-colab {\n",
       "                    background-color: var(--colab-primary-surface-color, white);\n",
       "                }\n",
       "\n",
       "                .geemap-colab .jupyter-button {\n",
       "                    --jp-layout-color3: var(--colab-primary-surface-color, white);\n",
       "                }\n",
       "            </style>\n",
       "            "
      ],
      "text/plain": [
       "<IPython.core.display.HTML object>"
      ]
     },
     "metadata": {},
     "output_type": "display_data"
    },
    {
     "name": "stderr",
     "output_type": "stream",
     "text": [
      "/home/pj/sentinel/ee_downloader.py:130: UserWarning: Geometry is in a geographic CRS. Results from 'centroid' are likely incorrect. Use 'GeoSeries.to_crs()' to re-project geometries to a projected CRS before this operation.\n",
      "\n",
      "  gdf_points = gpd.GeoDataFrame(geometry=gdf.geometry.centroid)\n"
     ]
    }
   ],
   "source": [
    "import datetime\n",
    "import importlib\n",
    "import ee_downloader\n",
    "importlib.reload(ee_downloader)\n",
    "\n",
    "start_date = datetime.datetime(2020, 3, 1)\n",
    "end_date = datetime.datetime(2024, 3, 1)\n",
    "ee_downloader.EEDownloader().download_era5(\n",
    "    gdf, start_date, end_date, Path('weather_data'))"
   ]
  },
  {
   "cell_type": "code",
   "execution_count": null,
   "id": "c704b917-1ddc-40ac-aeae-24a8b2906a15",
   "metadata": {},
   "outputs": [],
   "source": [
    "# df = pd.read_csv(Path('weather_data', 'era5_2020.csv'))\n",
    "# df.interpolate(method='nearest')"
   ]
  },
  {
   "cell_type": "code",
   "execution_count": null,
   "id": "22909394-5970-4673-826d-0da97e92362b",
   "metadata": {},
   "outputs": [],
   "source": [
    "# for eval_year in [2017, 2020, 2021, 2022, 2023]:\n",
    "    # eval_generator = DataGenerator(\n",
    "        # utils.selected_classes.index, shuffle=False, year=eval_year, **params)\n",
    "#     preds_path = model_dir.joinpath(f\"preds_{params['year']}.npy\")\n",
    "#     if preds_path.is_file():\n",
    "#         y_pred = np.load(preds_path)\n",
    "#     else:\n",
    "#         y_pred = model.predict(x=eval_generator, verbose=1)\n",
    "#         np.save(preds_path, y_pred)\n",
    "\n",
    "#     y_true = utils.selected_classes.iloc[:y_pred.shape[0]].to_numpy()\n",
    "#     cm = confusion_matrix(y_true.flatten(), (y_pred > 0.5).flatten().astype(int))\n",
    "#     plot = ConfusionMatrixDisplay(confusion_matrix=cm).plot()\n",
    "#     display(plot)"
   ]
  },
  {
   "cell_type": "code",
   "execution_count": 1,
   "id": "9d99791c-8e24-40d5-9b11-3f6b946ecd31",
   "metadata": {},
   "outputs": [
    {
     "ename": "NameError",
     "evalue": "name 'utils' is not defined",
     "output_type": "error",
     "traceback": [
      "\u001b[0;31m---------------------------------------------------------------------------\u001b[0m",
      "\u001b[0;31mNameError\u001b[0m                                 Traceback (most recent call last)",
      "Cell \u001b[0;32mIn[1], line 3\u001b[0m\n\u001b[1;32m      1\u001b[0m \u001b[38;5;28;01mimport\u001b[39;00m \u001b[38;5;21;01mplotly\u001b[39;00m\u001b[38;5;21;01m.\u001b[39;00m\u001b[38;5;21;01mexpress\u001b[39;00m \u001b[38;5;28;01mas\u001b[39;00m \u001b[38;5;21;01mpx\u001b[39;00m\n\u001b[0;32m----> 3\u001b[0m class_names \u001b[38;5;241m=\u001b[39m \u001b[43mutils\u001b[49m\u001b[38;5;241m.\u001b[39mselected_classes\u001b[38;5;241m.\u001b[39mcolumns\n\u001b[1;32m      4\u001b[0m indices \u001b[38;5;241m=\u001b[39m utils\u001b[38;5;241m.\u001b[39mselected_classes\u001b[38;5;241m.\u001b[39mindex\n\u001b[1;32m      6\u001b[0m preds_path \u001b[38;5;241m=\u001b[39m model_dir\u001b[38;5;241m.\u001b[39mjoinpath(\u001b[38;5;124mf\u001b[39m\u001b[38;5;124m'\u001b[39m\u001b[38;5;124mpreds_2020.npy\u001b[39m\u001b[38;5;124m'\u001b[39m)\n",
      "\u001b[0;31mNameError\u001b[0m: name 'utils' is not defined"
     ]
    }
   ],
   "source": [
    "import plotly.express as px\n",
    "\n",
    "class_names = utils.selected_classes.columns\n",
    "indices = utils.selected_classes.index\n",
    "\n",
    "preds_path = model_dir.joinpath(f'preds_2020.npy')\n",
    "y_prev = np.load(preds_path)\n",
    "\n",
    "weather_prev = pd.read_csv(Path('weather_data', 'era5_2020.csv'))\n",
    "eval_years = [2021, 2022, 2023]\n",
    "corrs = []\n",
    "\n",
    "for eval_year in eval_years:\n",
    "    preds_path = model_dir.joinpath(f'preds_{eval_year}.npy')\n",
    "    y_pred = np.load(preds_path)\n",
    "    y_diff = pd.DataFrame(y_pred - y_prev, columns=class_names)\n",
    "    \n",
    "    weather = pd.read_csv(Path('weather_data', f'era5_{eval_year}.csv'))\n",
    "    weather_diff = ((weather - weather_prev)\n",
    "                    .loc[indices]\n",
    "                    .iloc[:y_pred.shape[0]]\n",
    "                    .iloc[y_diff.index])\n",
    "    \n",
    "    corr = y_diff.join(weather_diff).corr(method='pearson').round(2)\n",
    "    corrs.append(corr)\n",
    "\n",
    "    y_prev = y_pred\n",
    "    weather_prev = weather\n",
    "\n",
    "fig = px.imshow(\n",
    "    np.array(corrs),\n",
    "    animation_frame=0,\n",
    "    labels=dict(color=\"Corr coef\"),\n",
    "    x=corrs[0].index,\n",
    "    y=corrs[0].columns,\n",
    "    title='Annual correlation heatmap',\n",
    "    text_auto=True, aspect='auto', zmin=0, height=500\n",
    ")\n",
    "fig.layout.sliders[0]['currentvalue']['prefix'] = ''\n",
    "for year, step in zip(eval_years, fig.layout.sliders[0].steps):\n",
    "    step.label = str(year)\n",
    "\n",
    "fig"
   ]
  },
  {
   "cell_type": "code",
   "execution_count": null,
   "id": "144a6dba-9683-4db7-8d1f-c1d85aeb52fe",
   "metadata": {},
   "outputs": [],
   "source": []
  },
  {
   "cell_type": "code",
   "execution_count": null,
   "id": "f5474a85-ef57-407b-a568-6fb6b940958a",
   "metadata": {},
   "outputs": [],
   "source": []
  },
  {
   "cell_type": "code",
   "execution_count": null,
   "id": "dd676606-d290-49fc-aa64-a75ad0bb6b10",
   "metadata": {},
   "outputs": [],
   "source": [
    "from glob import glob\n",
    "from json import load\n",
    "from pathlib import Path\n",
    "\n",
    "summation = 0\n",
    "\n",
    "for f in Path('.').glob('*.ipynb'):\n",
    "    if 'test' in str(f):\n",
    "        continue\n",
    "    cells = load(open(f))[\"cells\"]\n",
    "    summation += sum(len(c[\"source\"]) for c in cells)\n",
    "    \n",
    "for f in Path('.').glob('*.py'):\n",
    "    summation += sum(1 for _ in open(f))\n",
    "    \n",
    "print(summation)"
   ]
  },
  {
   "cell_type": "code",
   "execution_count": null,
   "id": "28cfc1ad-2eb9-480a-ab54-d2809caa92e3",
   "metadata": {},
   "outputs": [],
   "source": [
    "physical_devices = tf.config.list_physical_devices('GPU')\n",
    "try:\n",
    "  tf.config.experimental.set_memory_growth(physical_devices[0], True)\n",
    "except:\n",
    "  # Invalid device or cannot modify virtual devices once initialized.\n",
    "  pass"
   ]
  },
  {
   "cell_type": "code",
   "execution_count": null,
   "id": "52a5da23-ab39-4f18-aa6a-b249e4beadb5",
   "metadata": {},
   "outputs": [],
   "source": []
  },
  {
   "cell_type": "code",
   "execution_count": null,
   "id": "764e4320-e4fe-41f2-95ef-74268cf2479c",
   "metadata": {},
   "outputs": [],
   "source": []
  },
  {
   "cell_type": "code",
   "execution_count": null,
   "id": "b338c2a0-5c4e-4c59-acd4-25f2a07358a7",
   "metadata": {},
   "outputs": [],
   "source": []
  },
  {
   "cell_type": "code",
   "execution_count": null,
   "id": "6f79e0bb-81e2-4f5c-8a37-4d3b30829417",
   "metadata": {},
   "outputs": [],
   "source": []
  }
 ],
 "metadata": {
  "kernelspec": {
   "display_name": "Python 3 (ipykernel)",
   "language": "python",
   "name": "python3"
  },
  "language_info": {
   "codemirror_mode": {
    "name": "ipython",
    "version": 3
   },
   "file_extension": ".py",
   "mimetype": "text/x-python",
   "name": "python",
   "nbconvert_exporter": "python",
   "pygments_lexer": "ipython3",
   "version": "3.10.14"
  }
 },
 "nbformat": 4,
 "nbformat_minor": 5
}
