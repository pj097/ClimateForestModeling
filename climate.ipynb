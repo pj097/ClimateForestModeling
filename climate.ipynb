{
 "cells": [
  {
   "cell_type": "code",
   "execution_count": 1,
   "id": "ccc611d4-bd39-465c-8ad1-162c494f92e5",
   "metadata": {},
   "outputs": [],
   "source": [
    "import logging, os\n",
    "logging.disable(logging.WARNING)\n",
    "os.environ['TF_CPP_MIN_LOG_LEVEL'] = '3'\n",
    "os.environ['TF_FORCE_GPU_ALLOW_GROWTH'] = 'true'\n",
    "\n",
    "import geopandas as gpd\n",
    "import numpy as np\n",
    "import pandas as pd\n",
    "from sklearn.utils import shuffle\n",
    "\n",
    "import datetime\n",
    "from pathlib import Path\n",
    "\n",
    "import plotly.express as px\n",
    "import plotly.graph_objects as go\n",
    "from plotly.subplots import make_subplots\n",
    "\n",
    "import tensorflow as tf\n",
    "\n",
    "from tqdm.notebook import tqdm\n",
    "\n",
    "from concurrent.futures import ThreadPoolExecutor\n",
    "\n",
    "from importlib import reload\n",
    "import keras_model_creator\n",
    "import sentinel_utils\n",
    "import plot_utils\n",
    "import ee_downloader\n",
    "from data_generator import DataGenerator"
   ]
  },
  {
   "cell_type": "code",
   "execution_count": 2,
   "id": "6f8bc066-83b7-4438-a3ce-83354d9b56d3",
   "metadata": {},
   "outputs": [
    {
     "data": {
      "text/html": [
       "\n",
       "            <style>\n",
       "                .geemap-dark {\n",
       "                    --jp-widgets-color: white;\n",
       "                    --jp-widgets-label-color: white;\n",
       "                    --jp-ui-font-color1: white;\n",
       "                    --jp-layout-color2: #454545;\n",
       "                    background-color: #383838;\n",
       "                }\n",
       "\n",
       "                .geemap-dark .jupyter-button {\n",
       "                    --jp-layout-color3: #383838;\n",
       "                }\n",
       "\n",
       "                .geemap-colab {\n",
       "                    background-color: var(--colab-primary-surface-color, white);\n",
       "                }\n",
       "\n",
       "                .geemap-colab .jupyter-button {\n",
       "                    --jp-layout-color3: var(--colab-primary-surface-color, white);\n",
       "                }\n",
       "            </style>\n",
       "            "
      ],
      "text/plain": [
       "<IPython.core.display.HTML object>"
      ]
     },
     "metadata": {},
     "output_type": "display_data"
    }
   ],
   "source": [
    "figures_dir = Path('report', 'figures', 'figures_climate')"
   ]
  },
  {
   "cell_type": "code",
   "execution_count": 3,
   "id": "21d4be11-8df6-424a-902b-1eb7820d10ed",
   "metadata": {},
   "outputs": [
    {
     "data": {
      "text/html": [
       "\n",
       "            <style>\n",
       "                .geemap-dark {\n",
       "                    --jp-widgets-color: white;\n",
       "                    --jp-widgets-label-color: white;\n",
       "                    --jp-ui-font-color1: white;\n",
       "                    --jp-layout-color2: #454545;\n",
       "                    background-color: #383838;\n",
       "                }\n",
       "\n",
       "                .geemap-dark .jupyter-button {\n",
       "                    --jp-layout-color3: #383838;\n",
       "                }\n",
       "\n",
       "                .geemap-colab {\n",
       "                    background-color: var(--colab-primary-surface-color, white);\n",
       "                }\n",
       "\n",
       "                .geemap-colab .jupyter-button {\n",
       "                    --jp-layout-color3: var(--colab-primary-surface-color, white);\n",
       "                }\n",
       "            </style>\n",
       "            "
      ],
      "text/plain": [
       "<IPython.core.display.HTML object>"
      ]
     },
     "metadata": {},
     "output_type": "display_data"
    },
    {
     "data": {
      "text/plain": [
       "PosixPath('models/hypertuned-237212-7-64-2017_2018_2019')"
      ]
     },
     "execution_count": 3,
     "metadata": {},
     "output_type": "execute_result"
    }
   ],
   "source": [
    "reload(sentinel_utils)\n",
    "\n",
    "model_dir = Path('models', 'selected_model')\n",
    "shards_dir = Path('/mnt', 'wsl', 'training_data', 'shards', 'old')\n",
    "\n",
    "min_occurrences = 20000\n",
    "utils = sentinel_utils.SentinelUtils(\n",
    "    min_occurrences=min_occurrences,\n",
    "    shards_dir=shards_dir\n",
    ")\n",
    "\n",
    "selected_classes = utils.get_processed_labels()\n",
    "\n",
    "training_years = '2017_2018_2019'\n",
    "data_summary = utils.get_data_summary(\n",
    "    selected_classes, training_years=training_years,\n",
    "    overwrite_existing=False\n",
    ")\n",
    "\n",
    "batch_size = 64\n",
    "\n",
    "model_parent_dir = Path('models')\n",
    "model_dir = model_parent_dir.joinpath(\n",
    "    f'hypertuned-{len(selected_classes.index)}'\n",
    "    f'-{selected_classes.shape[1]}-{batch_size}'\n",
    "    f'-{training_years}'\n",
    ")\n",
    "model_dir.mkdir(parents=True, exist_ok=True)\n",
    "\n",
    "params = dict(\n",
    "    selected_classes=selected_classes,\n",
    "    data_summary=data_summary,\n",
    "    model_dir=model_dir,\n",
    "    batch_size=batch_size,\n",
    "    years=training_years,\n",
    "    epochs=20,\n",
    "    overwrite=False,\n",
    "    verbose=1,\n",
    "    shards_dir=shards_dir,\n",
    "    print_log=0,    \n",
    ")\n",
    "model_dir"
   ]
  },
  {
   "cell_type": "code",
   "execution_count": 4,
   "id": "f5474a85-ef57-407b-a568-6fb6b940958a",
   "metadata": {},
   "outputs": [
    {
     "data": {
      "text/html": [
       "\n",
       "            <style>\n",
       "                .geemap-dark {\n",
       "                    --jp-widgets-color: white;\n",
       "                    --jp-widgets-label-color: white;\n",
       "                    --jp-ui-font-color1: white;\n",
       "                    --jp-layout-color2: #454545;\n",
       "                    background-color: #383838;\n",
       "                }\n",
       "\n",
       "                .geemap-dark .jupyter-button {\n",
       "                    --jp-layout-color3: #383838;\n",
       "                }\n",
       "\n",
       "                .geemap-colab {\n",
       "                    background-color: var(--colab-primary-surface-color, white);\n",
       "                }\n",
       "\n",
       "                .geemap-colab .jupyter-button {\n",
       "                    --jp-layout-color3: var(--colab-primary-surface-color, white);\n",
       "                }\n",
       "            </style>\n",
       "            "
      ],
      "text/plain": [
       "<IPython.core.display.HTML object>"
      ]
     },
     "metadata": {},
     "output_type": "display_data"
    }
   ],
   "source": [
    "reload(keras_model_creator)\n",
    "model, testing_generator = keras_model_creator.KerasModelCreator(**params).run()"
   ]
  },
  {
   "cell_type": "code",
   "execution_count": 4,
   "id": "826e0dca-6cba-4595-b8a4-4237e97c8ae3",
   "metadata": {},
   "outputs": [
    {
     "data": {
      "text/html": [
       "\n",
       "            <style>\n",
       "                .geemap-dark {\n",
       "                    --jp-widgets-color: white;\n",
       "                    --jp-widgets-label-color: white;\n",
       "                    --jp-ui-font-color1: white;\n",
       "                    --jp-layout-color2: #454545;\n",
       "                    background-color: #383838;\n",
       "                }\n",
       "\n",
       "                .geemap-dark .jupyter-button {\n",
       "                    --jp-layout-color3: #383838;\n",
       "                }\n",
       "\n",
       "                .geemap-colab {\n",
       "                    background-color: var(--colab-primary-surface-color, white);\n",
       "                }\n",
       "\n",
       "                .geemap-colab .jupyter-button {\n",
       "                    --jp-layout-color3: var(--colab-primary-surface-color, white);\n",
       "                }\n",
       "            </style>\n",
       "            "
      ],
      "text/plain": [
       "<IPython.core.display.HTML object>"
      ]
     },
     "metadata": {},
     "output_type": "display_data"
    }
   ],
   "source": [
    "weather_median = pd.read_csv(Path('weather_data', 'era5_2017.csv'))\n",
    "weather_median = weather_median.interpolate(method='nearest').ffill().bfill()"
   ]
  },
  {
   "cell_type": "code",
   "execution_count": 6,
   "id": "8736fa78-8bc6-4946-b945-b06757f3e76b",
   "metadata": {},
   "outputs": [
    {
     "data": {
      "text/html": [
       "\n",
       "            <style>\n",
       "                .geemap-dark {\n",
       "                    --jp-widgets-color: white;\n",
       "                    --jp-widgets-label-color: white;\n",
       "                    --jp-ui-font-color1: white;\n",
       "                    --jp-layout-color2: #454545;\n",
       "                    background-color: #383838;\n",
       "                }\n",
       "\n",
       "                .geemap-dark .jupyter-button {\n",
       "                    --jp-layout-color3: #383838;\n",
       "                }\n",
       "\n",
       "                .geemap-colab {\n",
       "                    background-color: var(--colab-primary-surface-color, white);\n",
       "                }\n",
       "\n",
       "                .geemap-colab .jupyter-button {\n",
       "                    --jp-layout-color3: var(--colab-primary-surface-color, white);\n",
       "                }\n",
       "            </style>\n",
       "            "
      ],
      "text/plain": [
       "<IPython.core.display.HTML object>"
      ]
     },
     "metadata": {},
     "output_type": "display_data"
    },
    {
     "data": {
      "application/vnd.plotly.v1+json": {
       "config": {
        "plotlyServerURL": "https://plot.ly"
       },
       "data": [
        {
         "coloraxis": "coloraxis",
         "hovertemplate": "x: %{x}<br>y: %{y}<br>color: %{z}<extra></extra>",
         "name": "0",
         "texttemplate": "%{z}",
         "type": "heatmap",
         "x": [
          "temperature_2m_min",
          "total_precipitation_min",
          "dewpoint_temperature_2m_min",
          "volumetric_soil_water_layer_1_min",
          "volumetric_soil_water_layer_2_min",
          "volumetric_soil_water_layer_3_min",
          "volumetric_soil_water_layer_4_min",
          "temperature_2m_max",
          "total_precipitation_max",
          "dewpoint_temperature_2m_max",
          "volumetric_soil_water_layer_1_max",
          "volumetric_soil_water_layer_2_max",
          "volumetric_soil_water_layer_3_max",
          "volumetric_soil_water_layer_4_max"
         ],
         "xaxis": "x",
         "y": [
          "temperature_2m_min",
          "total_precipitation_min",
          "dewpoint_temperature_2m_min",
          "volumetric_soil_water_layer_1_min",
          "volumetric_soil_water_layer_2_min",
          "volumetric_soil_water_layer_3_min",
          "volumetric_soil_water_layer_4_min",
          "temperature_2m_max",
          "total_precipitation_max",
          "dewpoint_temperature_2m_max",
          "volumetric_soil_water_layer_1_max",
          "volumetric_soil_water_layer_2_max",
          "volumetric_soil_water_layer_3_max",
          "volumetric_soil_water_layer_4_max"
         ],
         "yaxis": "y",
         "z": [
          [
           1,
           -0.6,
           0.9,
           -0.49,
           -0.4,
           -0.35,
           -0.4,
           0.82,
           0.33,
           0.9,
           -0.2,
           -0.29,
           -0.35,
           -0.4
          ],
          [
           -0.6,
           1,
           -0.44,
           0.5,
           0.43,
           0.38,
           0.42,
           -0.79,
           -0.23,
           -0.65,
           0.19,
           0.33,
           0.4,
           0.42
          ],
          [
           0.9,
           -0.44,
           1,
           -0.26,
           -0.19,
           -0.12,
           -0.17,
           0.7,
           0.43,
           0.91,
           -0.04,
           -0.06,
           -0.11,
           -0.16
          ],
          [
           -0.49,
           0.5,
           -0.26,
           1,
           0.98,
           0.97,
           0.95,
           -0.54,
           0.01,
           -0.35,
           0.85,
           0.94,
           0.96,
           0.95
          ],
          [
           -0.4,
           0.43,
           -0.19,
           0.98,
           1,
           0.99,
           0.97,
           -0.45,
           0.07,
           -0.27,
           0.9,
           0.97,
           0.98,
           0.96
          ],
          [
           -0.35,
           0.38,
           -0.12,
           0.97,
           0.99,
           1,
           0.97,
           -0.41,
           0.12,
           -0.21,
           0.91,
           0.98,
           0.99,
           0.97
          ],
          [
           -0.4,
           0.42,
           -0.17,
           0.95,
           0.97,
           0.97,
           1,
           -0.44,
           0.16,
           -0.26,
           0.91,
           0.98,
           0.98,
           1
          ],
          [
           0.82,
           -0.79,
           0.7,
           -0.54,
           -0.45,
           -0.41,
           -0.44,
           1,
           0.4,
           0.87,
           -0.19,
           -0.33,
           -0.41,
           -0.45
          ],
          [
           0.33,
           -0.23,
           0.43,
           0.01,
           0.07,
           0.12,
           0.16,
           0.4,
           1,
           0.47,
           0.19,
           0.24,
           0.19,
           0.18
          ],
          [
           0.9,
           -0.65,
           0.91,
           -0.35,
           -0.27,
           -0.21,
           -0.26,
           0.87,
           0.47,
           1,
           -0.08,
           -0.14,
           -0.2,
           -0.25
          ],
          [
           -0.2,
           0.19,
           -0.04,
           0.85,
           0.9,
           0.91,
           0.91,
           -0.19,
           0.19,
           -0.08,
           1,
           0.95,
           0.91,
           0.9
          ],
          [
           -0.29,
           0.33,
           -0.06,
           0.94,
           0.97,
           0.98,
           0.98,
           -0.33,
           0.24,
           -0.14,
           0.95,
           1,
           0.99,
           0.98
          ],
          [
           -0.35,
           0.4,
           -0.11,
           0.96,
           0.98,
           0.99,
           0.98,
           -0.41,
           0.19,
           -0.2,
           0.91,
           0.99,
           1,
           0.98
          ],
          [
           -0.4,
           0.42,
           -0.16,
           0.95,
           0.96,
           0.97,
           1,
           -0.45,
           0.18,
           -0.25,
           0.9,
           0.98,
           0.98,
           1
          ]
         ]
        }
       ],
       "layout": {
        "autosize": true,
        "coloraxis": {
         "cmax": 1,
         "cmin": -1,
         "colorscale": [
          [
           0,
           "rgb(5,48,97)"
          ],
          [
           0.1,
           "rgb(33,102,172)"
          ],
          [
           0.2,
           "rgb(67,147,195)"
          ],
          [
           0.3,
           "rgb(146,197,222)"
          ],
          [
           0.4,
           "rgb(209,229,240)"
          ],
          [
           0.5,
           "rgb(247,247,247)"
          ],
          [
           0.6,
           "rgb(253,219,199)"
          ],
          [
           0.7,
           "rgb(244,165,130)"
          ],
          [
           0.8,
           "rgb(214,96,77)"
          ],
          [
           0.9,
           "rgb(178,24,43)"
          ],
          [
           1,
           "rgb(103,0,31)"
          ]
         ]
        },
        "margin": {
         "t": 60
        },
        "template": {
         "data": {
          "bar": [
           {
            "error_x": {
             "color": "#2a3f5f"
            },
            "error_y": {
             "color": "#2a3f5f"
            },
            "marker": {
             "line": {
              "color": "#E5ECF6",
              "width": 0.5
             },
             "pattern": {
              "fillmode": "overlay",
              "size": 10,
              "solidity": 0.2
             }
            },
            "type": "bar"
           }
          ],
          "barpolar": [
           {
            "marker": {
             "line": {
              "color": "#E5ECF6",
              "width": 0.5
             },
             "pattern": {
              "fillmode": "overlay",
              "size": 10,
              "solidity": 0.2
             }
            },
            "type": "barpolar"
           }
          ],
          "carpet": [
           {
            "aaxis": {
             "endlinecolor": "#2a3f5f",
             "gridcolor": "white",
             "linecolor": "white",
             "minorgridcolor": "white",
             "startlinecolor": "#2a3f5f"
            },
            "baxis": {
             "endlinecolor": "#2a3f5f",
             "gridcolor": "white",
             "linecolor": "white",
             "minorgridcolor": "white",
             "startlinecolor": "#2a3f5f"
            },
            "type": "carpet"
           }
          ],
          "choropleth": [
           {
            "colorbar": {
             "outlinewidth": 0,
             "ticks": ""
            },
            "type": "choropleth"
           }
          ],
          "contour": [
           {
            "colorbar": {
             "outlinewidth": 0,
             "ticks": ""
            },
            "colorscale": [
             [
              0,
              "#0d0887"
             ],
             [
              0.1111111111111111,
              "#46039f"
             ],
             [
              0.2222222222222222,
              "#7201a8"
             ],
             [
              0.3333333333333333,
              "#9c179e"
             ],
             [
              0.4444444444444444,
              "#bd3786"
             ],
             [
              0.5555555555555556,
              "#d8576b"
             ],
             [
              0.6666666666666666,
              "#ed7953"
             ],
             [
              0.7777777777777778,
              "#fb9f3a"
             ],
             [
              0.8888888888888888,
              "#fdca26"
             ],
             [
              1,
              "#f0f921"
             ]
            ],
            "type": "contour"
           }
          ],
          "contourcarpet": [
           {
            "colorbar": {
             "outlinewidth": 0,
             "ticks": ""
            },
            "type": "contourcarpet"
           }
          ],
          "heatmap": [
           {
            "colorbar": {
             "outlinewidth": 0,
             "ticks": ""
            },
            "colorscale": [
             [
              0,
              "#0d0887"
             ],
             [
              0.1111111111111111,
              "#46039f"
             ],
             [
              0.2222222222222222,
              "#7201a8"
             ],
             [
              0.3333333333333333,
              "#9c179e"
             ],
             [
              0.4444444444444444,
              "#bd3786"
             ],
             [
              0.5555555555555556,
              "#d8576b"
             ],
             [
              0.6666666666666666,
              "#ed7953"
             ],
             [
              0.7777777777777778,
              "#fb9f3a"
             ],
             [
              0.8888888888888888,
              "#fdca26"
             ],
             [
              1,
              "#f0f921"
             ]
            ],
            "type": "heatmap"
           }
          ],
          "heatmapgl": [
           {
            "colorbar": {
             "outlinewidth": 0,
             "ticks": ""
            },
            "colorscale": [
             [
              0,
              "#0d0887"
             ],
             [
              0.1111111111111111,
              "#46039f"
             ],
             [
              0.2222222222222222,
              "#7201a8"
             ],
             [
              0.3333333333333333,
              "#9c179e"
             ],
             [
              0.4444444444444444,
              "#bd3786"
             ],
             [
              0.5555555555555556,
              "#d8576b"
             ],
             [
              0.6666666666666666,
              "#ed7953"
             ],
             [
              0.7777777777777778,
              "#fb9f3a"
             ],
             [
              0.8888888888888888,
              "#fdca26"
             ],
             [
              1,
              "#f0f921"
             ]
            ],
            "type": "heatmapgl"
           }
          ],
          "histogram": [
           {
            "marker": {
             "pattern": {
              "fillmode": "overlay",
              "size": 10,
              "solidity": 0.2
             }
            },
            "type": "histogram"
           }
          ],
          "histogram2d": [
           {
            "colorbar": {
             "outlinewidth": 0,
             "ticks": ""
            },
            "colorscale": [
             [
              0,
              "#0d0887"
             ],
             [
              0.1111111111111111,
              "#46039f"
             ],
             [
              0.2222222222222222,
              "#7201a8"
             ],
             [
              0.3333333333333333,
              "#9c179e"
             ],
             [
              0.4444444444444444,
              "#bd3786"
             ],
             [
              0.5555555555555556,
              "#d8576b"
             ],
             [
              0.6666666666666666,
              "#ed7953"
             ],
             [
              0.7777777777777778,
              "#fb9f3a"
             ],
             [
              0.8888888888888888,
              "#fdca26"
             ],
             [
              1,
              "#f0f921"
             ]
            ],
            "type": "histogram2d"
           }
          ],
          "histogram2dcontour": [
           {
            "colorbar": {
             "outlinewidth": 0,
             "ticks": ""
            },
            "colorscale": [
             [
              0,
              "#0d0887"
             ],
             [
              0.1111111111111111,
              "#46039f"
             ],
             [
              0.2222222222222222,
              "#7201a8"
             ],
             [
              0.3333333333333333,
              "#9c179e"
             ],
             [
              0.4444444444444444,
              "#bd3786"
             ],
             [
              0.5555555555555556,
              "#d8576b"
             ],
             [
              0.6666666666666666,
              "#ed7953"
             ],
             [
              0.7777777777777778,
              "#fb9f3a"
             ],
             [
              0.8888888888888888,
              "#fdca26"
             ],
             [
              1,
              "#f0f921"
             ]
            ],
            "type": "histogram2dcontour"
           }
          ],
          "mesh3d": [
           {
            "colorbar": {
             "outlinewidth": 0,
             "ticks": ""
            },
            "type": "mesh3d"
           }
          ],
          "parcoords": [
           {
            "line": {
             "colorbar": {
              "outlinewidth": 0,
              "ticks": ""
             }
            },
            "type": "parcoords"
           }
          ],
          "pie": [
           {
            "automargin": true,
            "type": "pie"
           }
          ],
          "scatter": [
           {
            "fillpattern": {
             "fillmode": "overlay",
             "size": 10,
             "solidity": 0.2
            },
            "type": "scatter"
           }
          ],
          "scatter3d": [
           {
            "line": {
             "colorbar": {
              "outlinewidth": 0,
              "ticks": ""
             }
            },
            "marker": {
             "colorbar": {
              "outlinewidth": 0,
              "ticks": ""
             }
            },
            "type": "scatter3d"
           }
          ],
          "scattercarpet": [
           {
            "marker": {
             "colorbar": {
              "outlinewidth": 0,
              "ticks": ""
             }
            },
            "type": "scattercarpet"
           }
          ],
          "scattergeo": [
           {
            "marker": {
             "colorbar": {
              "outlinewidth": 0,
              "ticks": ""
             }
            },
            "type": "scattergeo"
           }
          ],
          "scattergl": [
           {
            "marker": {
             "colorbar": {
              "outlinewidth": 0,
              "ticks": ""
             }
            },
            "type": "scattergl"
           }
          ],
          "scattermapbox": [
           {
            "marker": {
             "colorbar": {
              "outlinewidth": 0,
              "ticks": ""
             }
            },
            "type": "scattermapbox"
           }
          ],
          "scatterpolar": [
           {
            "marker": {
             "colorbar": {
              "outlinewidth": 0,
              "ticks": ""
             }
            },
            "type": "scatterpolar"
           }
          ],
          "scatterpolargl": [
           {
            "marker": {
             "colorbar": {
              "outlinewidth": 0,
              "ticks": ""
             }
            },
            "type": "scatterpolargl"
           }
          ],
          "scatterternary": [
           {
            "marker": {
             "colorbar": {
              "outlinewidth": 0,
              "ticks": ""
             }
            },
            "type": "scatterternary"
           }
          ],
          "surface": [
           {
            "colorbar": {
             "outlinewidth": 0,
             "ticks": ""
            },
            "colorscale": [
             [
              0,
              "#0d0887"
             ],
             [
              0.1111111111111111,
              "#46039f"
             ],
             [
              0.2222222222222222,
              "#7201a8"
             ],
             [
              0.3333333333333333,
              "#9c179e"
             ],
             [
              0.4444444444444444,
              "#bd3786"
             ],
             [
              0.5555555555555556,
              "#d8576b"
             ],
             [
              0.6666666666666666,
              "#ed7953"
             ],
             [
              0.7777777777777778,
              "#fb9f3a"
             ],
             [
              0.8888888888888888,
              "#fdca26"
             ],
             [
              1,
              "#f0f921"
             ]
            ],
            "type": "surface"
           }
          ],
          "table": [
           {
            "cells": {
             "fill": {
              "color": "#EBF0F8"
             },
             "line": {
              "color": "white"
             }
            },
            "header": {
             "fill": {
              "color": "#C8D4E3"
             },
             "line": {
              "color": "white"
             }
            },
            "type": "table"
           }
          ]
         },
         "layout": {
          "annotationdefaults": {
           "arrowcolor": "#2a3f5f",
           "arrowhead": 0,
           "arrowwidth": 1
          },
          "autotypenumbers": "strict",
          "coloraxis": {
           "colorbar": {
            "outlinewidth": 0,
            "ticks": ""
           }
          },
          "colorscale": {
           "diverging": [
            [
             0,
             "#8e0152"
            ],
            [
             0.1,
             "#c51b7d"
            ],
            [
             0.2,
             "#de77ae"
            ],
            [
             0.3,
             "#f1b6da"
            ],
            [
             0.4,
             "#fde0ef"
            ],
            [
             0.5,
             "#f7f7f7"
            ],
            [
             0.6,
             "#e6f5d0"
            ],
            [
             0.7,
             "#b8e186"
            ],
            [
             0.8,
             "#7fbc41"
            ],
            [
             0.9,
             "#4d9221"
            ],
            [
             1,
             "#276419"
            ]
           ],
           "sequential": [
            [
             0,
             "#0d0887"
            ],
            [
             0.1111111111111111,
             "#46039f"
            ],
            [
             0.2222222222222222,
             "#7201a8"
            ],
            [
             0.3333333333333333,
             "#9c179e"
            ],
            [
             0.4444444444444444,
             "#bd3786"
            ],
            [
             0.5555555555555556,
             "#d8576b"
            ],
            [
             0.6666666666666666,
             "#ed7953"
            ],
            [
             0.7777777777777778,
             "#fb9f3a"
            ],
            [
             0.8888888888888888,
             "#fdca26"
            ],
            [
             1,
             "#f0f921"
            ]
           ],
           "sequentialminus": [
            [
             0,
             "#0d0887"
            ],
            [
             0.1111111111111111,
             "#46039f"
            ],
            [
             0.2222222222222222,
             "#7201a8"
            ],
            [
             0.3333333333333333,
             "#9c179e"
            ],
            [
             0.4444444444444444,
             "#bd3786"
            ],
            [
             0.5555555555555556,
             "#d8576b"
            ],
            [
             0.6666666666666666,
             "#ed7953"
            ],
            [
             0.7777777777777778,
             "#fb9f3a"
            ],
            [
             0.8888888888888888,
             "#fdca26"
            ],
            [
             1,
             "#f0f921"
            ]
           ]
          },
          "colorway": [
           "#636efa",
           "#EF553B",
           "#00cc96",
           "#ab63fa",
           "#FFA15A",
           "#19d3f3",
           "#FF6692",
           "#B6E880",
           "#FF97FF",
           "#FECB52"
          ],
          "font": {
           "color": "#2a3f5f"
          },
          "geo": {
           "bgcolor": "white",
           "lakecolor": "white",
           "landcolor": "#E5ECF6",
           "showlakes": true,
           "showland": true,
           "subunitcolor": "white"
          },
          "hoverlabel": {
           "align": "left"
          },
          "hovermode": "closest",
          "mapbox": {
           "style": "light"
          },
          "paper_bgcolor": "white",
          "plot_bgcolor": "#E5ECF6",
          "polar": {
           "angularaxis": {
            "gridcolor": "white",
            "linecolor": "white",
            "ticks": ""
           },
           "bgcolor": "#E5ECF6",
           "radialaxis": {
            "gridcolor": "white",
            "linecolor": "white",
            "ticks": ""
           }
          },
          "scene": {
           "xaxis": {
            "backgroundcolor": "#E5ECF6",
            "gridcolor": "white",
            "gridwidth": 2,
            "linecolor": "white",
            "showbackground": true,
            "ticks": "",
            "zerolinecolor": "white"
           },
           "yaxis": {
            "backgroundcolor": "#E5ECF6",
            "gridcolor": "white",
            "gridwidth": 2,
            "linecolor": "white",
            "showbackground": true,
            "ticks": "",
            "zerolinecolor": "white"
           },
           "zaxis": {
            "backgroundcolor": "#E5ECF6",
            "gridcolor": "white",
            "gridwidth": 2,
            "linecolor": "white",
            "showbackground": true,
            "ticks": "",
            "zerolinecolor": "white"
           }
          },
          "shapedefaults": {
           "line": {
            "color": "#2a3f5f"
           }
          },
          "ternary": {
           "aaxis": {
            "gridcolor": "white",
            "linecolor": "white",
            "ticks": ""
           },
           "baxis": {
            "gridcolor": "white",
            "linecolor": "white",
            "ticks": ""
           },
           "bgcolor": "#E5ECF6",
           "caxis": {
            "gridcolor": "white",
            "linecolor": "white",
            "ticks": ""
           }
          },
          "title": {
           "x": 0.05
          },
          "xaxis": {
           "automargin": true,
           "gridcolor": "white",
           "linecolor": "white",
           "ticks": "",
           "title": {
            "standoff": 15
           },
           "zerolinecolor": "white",
           "zerolinewidth": 2
          },
          "yaxis": {
           "automargin": true,
           "gridcolor": "white",
           "linecolor": "white",
           "ticks": "",
           "title": {
            "standoff": 15
           },
           "zerolinecolor": "white",
           "zerolinewidth": 2
          }
         }
        },
        "xaxis": {
         "anchor": "y",
         "autorange": true,
         "domain": [
          0,
          1
         ],
         "range": [
          -0.5,
          13.5
         ],
         "type": "category"
        },
        "yaxis": {
         "anchor": "x",
         "autorange": true,
         "domain": [
          0,
          1
         ],
         "range": [
          13.5,
          -0.5
         ],
         "type": "category"
        }
       }
      },
      "image/png": "[encoded data removed]",
      "text/html": [
       "<div>                            <div id=\"2c73adc9-0a53-43b9-a7f4-1e5277e87710\" class=\"plotly-graph-div\" style=\"height:600px; width:100%;\"></div>            <script type=\"text/javascript\">                require([\"plotly\"], function(Plotly) {                    window.PLOTLYENV=window.PLOTLYENV || {};                                    if (document.getElementById(\"2c73adc9-0a53-43b9-a7f4-1e5277e87710\")) {                    Plotly.newPlot(                        \"2c73adc9-0a53-43b9-a7f4-1e5277e87710\",                        [{\"coloraxis\":\"coloraxis\",\"name\":\"0\",\"texttemplate\":\"%{z}\",\"x\":[\"temperature_2m_min\",\"total_precipitation_min\",\"dewpoint_temperature_2m_min\",\"volumetric_soil_water_layer_1_min\",\"volumetric_soil_water_layer_2_min\",\"volumetric_soil_water_layer_3_min\",\"volumetric_soil_water_layer_4_min\",\"temperature_2m_max\",\"total_precipitation_max\",\"dewpoint_temperature_2m_max\",\"volumetric_soil_water_layer_1_max\",\"volumetric_soil_water_layer_2_max\",\"volumetric_soil_water_layer_3_max\",\"volumetric_soil_water_layer_4_max\"],\"y\":[\"temperature_2m_min\",\"total_precipitation_min\",\"dewpoint_temperature_2m_min\",\"volumetric_soil_water_layer_1_min\",\"volumetric_soil_water_layer_2_min\",\"volumetric_soil_water_layer_3_min\",\"volumetric_soil_water_layer_4_min\",\"temperature_2m_max\",\"total_precipitation_max\",\"dewpoint_temperature_2m_max\",\"volumetric_soil_water_layer_1_max\",\"volumetric_soil_water_layer_2_max\",\"volumetric_soil_water_layer_3_max\",\"volumetric_soil_water_layer_4_max\"],\"z\":[[1.0,-0.6,0.9,-0.49,-0.4,-0.35,-0.4,0.82,0.33,0.9,-0.2,-0.29,-0.35,-0.4],[-0.6,1.0,-0.44,0.5,0.43,0.38,0.42,-0.79,-0.23,-0.65,0.19,0.33,0.4,0.42],[0.9,-0.44,1.0,-0.26,-0.19,-0.12,-0.17,0.7,0.43,0.91,-0.04,-0.06,-0.11,-0.16],[-0.49,0.5,-0.26,1.0,0.98,0.97,0.95,-0.54,0.01,-0.35,0.85,0.94,0.96,0.95],[-0.4,0.43,-0.19,0.98,1.0,0.99,0.97,-0.45,0.07,-0.27,0.9,0.97,0.98,0.96],[-0.35,0.38,-0.12,0.97,0.99,1.0,0.97,-0.41,0.12,-0.21,0.91,0.98,0.99,0.97],[-0.4,0.42,-0.17,0.95,0.97,0.97,1.0,-0.44,0.16,-0.26,0.91,0.98,0.98,1.0],[0.82,-0.79,0.7,-0.54,-0.45,-0.41,-0.44,1.0,0.4,0.87,-0.19,-0.33,-0.41,-0.45],[0.33,-0.23,0.43,0.01,0.07,0.12,0.16,0.4,1.0,0.47,0.19,0.24,0.19,0.18],[0.9,-0.65,0.91,-0.35,-0.27,-0.21,-0.26,0.87,0.47,1.0,-0.08,-0.14,-0.2,-0.25],[-0.2,0.19,-0.04,0.85,0.9,0.91,0.91,-0.19,0.19,-0.08,1.0,0.95,0.91,0.9],[-0.29,0.33,-0.06,0.94,0.97,0.98,0.98,-0.33,0.24,-0.14,0.95,1.0,0.99,0.98],[-0.35,0.4,-0.11,0.96,0.98,0.99,0.98,-0.41,0.19,-0.2,0.91,0.99,1.0,0.98],[-0.4,0.42,-0.16,0.95,0.96,0.97,1.0,-0.45,0.18,-0.25,0.9,0.98,0.98,1.0]],\"type\":\"heatmap\",\"xaxis\":\"x\",\"yaxis\":\"y\",\"hovertemplate\":\"x: %{x}\\u003cbr\\u003ey: %{y}\\u003cbr\\u003ecolor: %{z}\\u003cextra\\u003e\\u003c\\u002fextra\\u003e\"}],                        {\"template\":{\"data\":{\"histogram2dcontour\":[{\"type\":\"histogram2dcontour\",\"colorbar\":{\"outlinewidth\":0,\"ticks\":\"\"},\"colorscale\":[[0.0,\"#0d0887\"],[0.1111111111111111,\"#46039f\"],[0.2222222222222222,\"#7201a8\"],[0.3333333333333333,\"#9c179e\"],[0.4444444444444444,\"#bd3786\"],[0.5555555555555556,\"#d8576b\"],[0.6666666666666666,\"#ed7953\"],[0.7777777777777778,\"#fb9f3a\"],[0.8888888888888888,\"#fdca26\"],[1.0,\"#f0f921\"]]}],\"choropleth\":[{\"type\":\"choropleth\",\"colorbar\":{\"outlinewidth\":0,\"ticks\":\"\"}}],\"histogram2d\":[{\"type\":\"histogram2d\",\"colorbar\":{\"outlinewidth\":0,\"ticks\":\"\"},\"colorscale\":[[0.0,\"#0d0887\"],[0.1111111111111111,\"#46039f\"],[0.2222222222222222,\"#7201a8\"],[0.3333333333333333,\"#9c179e\"],[0.4444444444444444,\"#bd3786\"],[0.5555555555555556,\"#d8576b\"],[0.6666666666666666,\"#ed7953\"],[0.7777777777777778,\"#fb9f3a\"],[0.8888888888888888,\"#fdca26\"],[1.0,\"#f0f921\"]]}],\"heatmap\":[{\"type\":\"heatmap\",\"colorbar\":{\"outlinewidth\":0,\"ticks\":\"\"},\"colorscale\":[[0.0,\"#0d0887\"],[0.1111111111111111,\"#46039f\"],[0.2222222222222222,\"#7201a8\"],[0.3333333333333333,\"#9c179e\"],[0.4444444444444444,\"#bd3786\"],[0.5555555555555556,\"#d8576b\"],[0.6666666666666666,\"#ed7953\"],[0.7777777777777778,\"#fb9f3a\"],[0.8888888888888888,\"#fdca26\"],[1.0,\"#f0f921\"]]}],\"heatmapgl\":[{\"type\":\"heatmapgl\",\"colorbar\":{\"outlinewidth\":0,\"ticks\":\"\"},\"colorscale\":[[0.0,\"#0d0887\"],[0.1111111111111111,\"#46039f\"],[0.2222222222222222,\"#7201a8\"],[0.3333333333333333,\"#9c179e\"],[0.4444444444444444,\"#bd3786\"],[0.5555555555555556,\"#d8576b\"],[0.6666666666666666,\"#ed7953\"],[0.7777777777777778,\"#fb9f3a\"],[0.8888888888888888,\"#fdca26\"],[1.0,\"#f0f921\"]]}],\"contourcarpet\":[{\"type\":\"contourcarpet\",\"colorbar\":{\"outlinewidth\":0,\"ticks\":\"\"}}],\"contour\":[{\"type\":\"contour\",\"colorbar\":{\"outlinewidth\":0,\"ticks\":\"\"},\"colorscale\":[[0.0,\"#0d0887\"],[0.1111111111111111,\"#46039f\"],[0.2222222222222222,\"#7201a8\"],[0.3333333333333333,\"#9c179e\"],[0.4444444444444444,\"#bd3786\"],[0.5555555555555556,\"#d8576b\"],[0.6666666666666666,\"#ed7953\"],[0.7777777777777778,\"#fb9f3a\"],[0.8888888888888888,\"#fdca26\"],[1.0,\"#f0f921\"]]}],\"surface\":[{\"type\":\"surface\",\"colorbar\":{\"outlinewidth\":0,\"ticks\":\"\"},\"colorscale\":[[0.0,\"#0d0887\"],[0.1111111111111111,\"#46039f\"],[0.2222222222222222,\"#7201a8\"],[0.3333333333333333,\"#9c179e\"],[0.4444444444444444,\"#bd3786\"],[0.5555555555555556,\"#d8576b\"],[0.6666666666666666,\"#ed7953\"],[0.7777777777777778,\"#fb9f3a\"],[0.8888888888888888,\"#fdca26\"],[1.0,\"#f0f921\"]]}],\"mesh3d\":[{\"type\":\"mesh3d\",\"colorbar\":{\"outlinewidth\":0,\"ticks\":\"\"}}],\"scatter\":[{\"fillpattern\":{\"fillmode\":\"overlay\",\"size\":10,\"solidity\":0.2},\"type\":\"scatter\"}],\"parcoords\":[{\"type\":\"parcoords\",\"line\":{\"colorbar\":{\"outlinewidth\":0,\"ticks\":\"\"}}}],\"scatterpolargl\":[{\"type\":\"scatterpolargl\",\"marker\":{\"colorbar\":{\"outlinewidth\":0,\"ticks\":\"\"}}}],\"bar\":[{\"error_x\":{\"color\":\"#2a3f5f\"},\"error_y\":{\"color\":\"#2a3f5f\"},\"marker\":{\"line\":{\"color\":\"#E5ECF6\",\"width\":0.5},\"pattern\":{\"fillmode\":\"overlay\",\"size\":10,\"solidity\":0.2}},\"type\":\"bar\"}],\"scattergeo\":[{\"type\":\"scattergeo\",\"marker\":{\"colorbar\":{\"outlinewidth\":0,\"ticks\":\"\"}}}],\"scatterpolar\":[{\"type\":\"scatterpolar\",\"marker\":{\"colorbar\":{\"outlinewidth\":0,\"ticks\":\"\"}}}],\"histogram\":[{\"marker\":{\"pattern\":{\"fillmode\":\"overlay\",\"size\":10,\"solidity\":0.2}},\"type\":\"histogram\"}],\"scattergl\":[{\"type\":\"scattergl\",\"marker\":{\"colorbar\":{\"outlinewidth\":0,\"ticks\":\"\"}}}],\"scatter3d\":[{\"type\":\"scatter3d\",\"line\":{\"colorbar\":{\"outlinewidth\":0,\"ticks\":\"\"}},\"marker\":{\"colorbar\":{\"outlinewidth\":0,\"ticks\":\"\"}}}],\"scattermapbox\":[{\"type\":\"scattermapbox\",\"marker\":{\"colorbar\":{\"outlinewidth\":0,\"ticks\":\"\"}}}],\"scatterternary\":[{\"type\":\"scatterternary\",\"marker\":{\"colorbar\":{\"outlinewidth\":0,\"ticks\":\"\"}}}],\"scattercarpet\":[{\"type\":\"scattercarpet\",\"marker\":{\"colorbar\":{\"outlinewidth\":0,\"ticks\":\"\"}}}],\"carpet\":[{\"aaxis\":{\"endlinecolor\":\"#2a3f5f\",\"gridcolor\":\"white\",\"linecolor\":\"white\",\"minorgridcolor\":\"white\",\"startlinecolor\":\"#2a3f5f\"},\"baxis\":{\"endlinecolor\":\"#2a3f5f\",\"gridcolor\":\"white\",\"linecolor\":\"white\",\"minorgridcolor\":\"white\",\"startlinecolor\":\"#2a3f5f\"},\"type\":\"carpet\"}],\"table\":[{\"cells\":{\"fill\":{\"color\":\"#EBF0F8\"},\"line\":{\"color\":\"white\"}},\"header\":{\"fill\":{\"color\":\"#C8D4E3\"},\"line\":{\"color\":\"white\"}},\"type\":\"table\"}],\"barpolar\":[{\"marker\":{\"line\":{\"color\":\"#E5ECF6\",\"width\":0.5},\"pattern\":{\"fillmode\":\"overlay\",\"size\":10,\"solidity\":0.2}},\"type\":\"barpolar\"}],\"pie\":[{\"automargin\":true,\"type\":\"pie\"}]},\"layout\":{\"autotypenumbers\":\"strict\",\"colorway\":[\"#636efa\",\"#EF553B\",\"#00cc96\",\"#ab63fa\",\"#FFA15A\",\"#19d3f3\",\"#FF6692\",\"#B6E880\",\"#FF97FF\",\"#FECB52\"],\"font\":{\"color\":\"#2a3f5f\"},\"hovermode\":\"closest\",\"hoverlabel\":{\"align\":\"left\"},\"paper_bgcolor\":\"white\",\"plot_bgcolor\":\"#E5ECF6\",\"polar\":{\"bgcolor\":\"#E5ECF6\",\"angularaxis\":{\"gridcolor\":\"white\",\"linecolor\":\"white\",\"ticks\":\"\"},\"radialaxis\":{\"gridcolor\":\"white\",\"linecolor\":\"white\",\"ticks\":\"\"}},\"ternary\":{\"bgcolor\":\"#E5ECF6\",\"aaxis\":{\"gridcolor\":\"white\",\"linecolor\":\"white\",\"ticks\":\"\"},\"baxis\":{\"gridcolor\":\"white\",\"linecolor\":\"white\",\"ticks\":\"\"},\"caxis\":{\"gridcolor\":\"white\",\"linecolor\":\"white\",\"ticks\":\"\"}},\"coloraxis\":{\"colorbar\":{\"outlinewidth\":0,\"ticks\":\"\"}},\"colorscale\":{\"sequential\":[[0.0,\"#0d0887\"],[0.1111111111111111,\"#46039f\"],[0.2222222222222222,\"#7201a8\"],[0.3333333333333333,\"#9c179e\"],[0.4444444444444444,\"#bd3786\"],[0.5555555555555556,\"#d8576b\"],[0.6666666666666666,\"#ed7953\"],[0.7777777777777778,\"#fb9f3a\"],[0.8888888888888888,\"#fdca26\"],[1.0,\"#f0f921\"]],\"sequentialminus\":[[0.0,\"#0d0887\"],[0.1111111111111111,\"#46039f\"],[0.2222222222222222,\"#7201a8\"],[0.3333333333333333,\"#9c179e\"],[0.4444444444444444,\"#bd3786\"],[0.5555555555555556,\"#d8576b\"],[0.6666666666666666,\"#ed7953\"],[0.7777777777777778,\"#fb9f3a\"],[0.8888888888888888,\"#fdca26\"],[1.0,\"#f0f921\"]],\"diverging\":[[0,\"#8e0152\"],[0.1,\"#c51b7d\"],[0.2,\"#de77ae\"],[0.3,\"#f1b6da\"],[0.4,\"#fde0ef\"],[0.5,\"#f7f7f7\"],[0.6,\"#e6f5d0\"],[0.7,\"#b8e186\"],[0.8,\"#7fbc41\"],[0.9,\"#4d9221\"],[1,\"#276419\"]]},\"xaxis\":{\"gridcolor\":\"white\",\"linecolor\":\"white\",\"ticks\":\"\",\"title\":{\"standoff\":15},\"zerolinecolor\":\"white\",\"automargin\":true,\"zerolinewidth\":2},\"yaxis\":{\"gridcolor\":\"white\",\"linecolor\":\"white\",\"ticks\":\"\",\"title\":{\"standoff\":15},\"zerolinecolor\":\"white\",\"automargin\":true,\"zerolinewidth\":2},\"scene\":{\"xaxis\":{\"backgroundcolor\":\"#E5ECF6\",\"gridcolor\":\"white\",\"linecolor\":\"white\",\"showbackground\":true,\"ticks\":\"\",\"zerolinecolor\":\"white\",\"gridwidth\":2},\"yaxis\":{\"backgroundcolor\":\"#E5ECF6\",\"gridcolor\":\"white\",\"linecolor\":\"white\",\"showbackground\":true,\"ticks\":\"\",\"zerolinecolor\":\"white\",\"gridwidth\":2},\"zaxis\":{\"backgroundcolor\":\"#E5ECF6\",\"gridcolor\":\"white\",\"linecolor\":\"white\",\"showbackground\":true,\"ticks\":\"\",\"zerolinecolor\":\"white\",\"gridwidth\":2}},\"shapedefaults\":{\"line\":{\"color\":\"#2a3f5f\"}},\"annotationdefaults\":{\"arrowcolor\":\"#2a3f5f\",\"arrowhead\":0,\"arrowwidth\":1},\"geo\":{\"bgcolor\":\"white\",\"landcolor\":\"#E5ECF6\",\"subunitcolor\":\"white\",\"showland\":true,\"showlakes\":true,\"lakecolor\":\"white\"},\"title\":{\"x\":0.05},\"mapbox\":{\"style\":\"light\"}}},\"xaxis\":{\"anchor\":\"y\",\"domain\":[0.0,1.0]},\"yaxis\":{\"anchor\":\"x\",\"domain\":[0.0,1.0],\"autorange\":\"reversed\"},\"coloraxis\":{\"colorscale\":[[0.0,\"rgb(5,48,97)\"],[0.1,\"rgb(33,102,172)\"],[0.2,\"rgb(67,147,195)\"],[0.3,\"rgb(146,197,222)\"],[0.4,\"rgb(209,229,240)\"],[0.5,\"rgb(247,247,247)\"],[0.6,\"rgb(253,219,199)\"],[0.7,\"rgb(244,165,130)\"],[0.8,\"rgb(214,96,77)\"],[0.9,\"rgb(178,24,43)\"],[1.0,\"rgb(103,0,31)\"]],\"cmin\":-1,\"cmax\":1},\"margin\":{\"t\":60},\"height\":600},                        {\"responsive\": true}                    ).then(function(){\n",
       "                            \n",
       "var gd = document.getElementById('2c73adc9-0a53-43b9-a7f4-1e5277e87710');\n",
       "var x = new MutationObserver(function (mutations, observer) {{\n",
       "        var display = window.getComputedStyle(gd).display;\n",
       "        if (!display || display === 'none') {{\n",
       "            console.log([gd, 'removed!']);\n",
       "            Plotly.purge(gd);\n",
       "            observer.disconnect();\n",
       "        }}\n",
       "}});\n",
       "\n",
       "// Listen for the removal of the full notebook cells\n",
       "var notebookContainer = gd.closest('#notebook-container');\n",
       "if (notebookContainer) {{\n",
       "    x.observe(notebookContainer, {childList: true});\n",
       "}}\n",
       "\n",
       "// Listen for the clearing of the current output cell\n",
       "var outputEl = gd.closest('.output');\n",
       "if (outputEl) {{\n",
       "    x.observe(outputEl, {childList: true});\n",
       "}}\n",
       "\n",
       "                        })                };                });            </script>        </div>"
      ]
     },
     "metadata": {},
     "output_type": "display_data"
    }
   ],
   "source": [
    "fig = px.imshow(\n",
    "    weather_median.corr().round(2),\n",
    "    text_auto=True, aspect='auto', zmin=-1, zmax=1,\n",
    "    color_continuous_scale='RdBu_r',\n",
    "    height=600,\n",
    ")\n",
    "fig.write_image(figures_dir.joinpath('weather_correlations.pdf'))\n",
    "fig"
   ]
  },
  {
   "cell_type": "code",
   "execution_count": 7,
   "id": "10859169-1119-4414-8538-8fb0a8aef628",
   "metadata": {},
   "outputs": [
    {
     "data": {
      "text/html": [
       "\n",
       "            <style>\n",
       "                .geemap-dark {\n",
       "                    --jp-widgets-color: white;\n",
       "                    --jp-widgets-label-color: white;\n",
       "                    --jp-ui-font-color1: white;\n",
       "                    --jp-layout-color2: #454545;\n",
       "                    background-color: #383838;\n",
       "                }\n",
       "\n",
       "                .geemap-dark .jupyter-button {\n",
       "                    --jp-layout-color3: #383838;\n",
       "                }\n",
       "\n",
       "                .geemap-colab {\n",
       "                    background-color: var(--colab-primary-surface-color, white);\n",
       "                }\n",
       "\n",
       "                .geemap-colab .jupyter-button {\n",
       "                    --jp-layout-color3: var(--colab-primary-surface-color, white);\n",
       "                }\n",
       "            </style>\n",
       "            "
      ],
      "text/plain": [
       "<IPython.core.display.HTML object>"
      ]
     },
     "metadata": {},
     "output_type": "display_data"
    }
   ],
   "source": [
    "select_variables = [\n",
    "    'temperature_2m', 'total_precipitation', 'dewpoint_temperature_2m',\n",
    "    'volumetric_soil_water_layer_2'\n",
    "]"
   ]
  },
  {
   "cell_type": "code",
   "execution_count": 8,
   "id": "764e4320-e4fe-41f2-95ef-74268cf2479c",
   "metadata": {},
   "outputs": [
    {
     "data": {
      "text/html": [
       "\n",
       "            <style>\n",
       "                .geemap-dark {\n",
       "                    --jp-widgets-color: white;\n",
       "                    --jp-widgets-label-color: white;\n",
       "                    --jp-ui-font-color1: white;\n",
       "                    --jp-layout-color2: #454545;\n",
       "                    background-color: #383838;\n",
       "                }\n",
       "\n",
       "                .geemap-dark .jupyter-button {\n",
       "                    --jp-layout-color3: #383838;\n",
       "                }\n",
       "\n",
       "                .geemap-colab {\n",
       "                    background-color: var(--colab-primary-surface-color, white);\n",
       "                }\n",
       "\n",
       "                .geemap-colab .jupyter-button {\n",
       "                    --jp-layout-color3: var(--colab-primary-surface-color, white);\n",
       "                }\n",
       "            </style>\n",
       "            "
      ],
      "text/plain": [
       "<IPython.core.display.HTML object>"
      ]
     },
     "metadata": {},
     "output_type": "display_data"
    },
    {
     "data": {
      "application/vnd.jupyter.widget-view+json": {
       "model_id": "274b2e07590945e08219bd2f53e3b703",
       "version_major": 2,
       "version_minor": 0
      },
      "text/plain": [
       "  0%|          | 0/5 [00:00<?, ?it/s]"
      ]
     },
     "metadata": {},
     "output_type": "display_data"
    }
   ],
   "source": [
    "y_true = selected_classes.to_numpy()\n",
    "\n",
    "eval_years = list(range(2020, 2025))\n",
    "corrs = []\n",
    "\n",
    "weathers = []\n",
    "weather_diffs = []\n",
    "y_diffs = []\n",
    "\n",
    "for eval_year in tqdm(eval_years):\n",
    "    params['years'] = str(eval_year)\n",
    "    params['shards_dir'] = shards_dir = Path('/mnt', 'wsl', 'training_data', 'shards')\n",
    "    eval_generator = DataGenerator(\n",
    "        selected_classes.index, shuffle=False, **params\n",
    "    )\n",
    "    preds_path = model_dir.joinpath(f'preds_{eval_year}.npy')\n",
    "    if preds_path.is_file():\n",
    "        y_pred = np.load(preds_path)\n",
    "    else:\n",
    "        y_pred = model.predict(x=eval_generator, verbose=1)\n",
    "        np.save(preds_path, y_pred)\n",
    "\n",
    "    use_weather_cols = [s + m for s in select_variables for m in ['_max', '_min']]\n",
    "\n",
    "    weather = pd.read_csv(Path('weather_data', f'era5_{eval_year}.csv'))\n",
    "    weather = weather[use_weather_cols]\n",
    "    \n",
    "    weather = weather.interpolate(method='nearest').ffill().bfill()\n",
    "\n",
    "    y_diff = pd.DataFrame(\n",
    "        y_pred - y_true[:y_pred.shape[0]], \n",
    "        columns=selected_classes.columns\n",
    "    )\n",
    "    weather_diff = (\n",
    "        (weather - weather_median[use_weather_cols])\n",
    "        .loc[selected_classes.index]\n",
    "        .iloc[:y_pred.shape[0]]\n",
    "    )\n",
    "\n",
    "    weather_diffs.append(weather_diff)\n",
    "    \n",
    "    corr = pd.concat(\n",
    "        [y_diff, weather_diff], axis=1, keys=['df1', 'df2']\n",
    "    ).corr().loc['df2', 'df1'].round(2)\n",
    "\n",
    "    y_diff['year'] = eval_year\n",
    "    y_diffs.append(y_diff)\n",
    "    \n",
    "    corr['year'] = eval_year\n",
    "    corrs.append(corr)\n",
    "\n",
    "    weather['year'] = eval_year\n",
    "    weathers.append(weather)"
   ]
  },
  {
   "cell_type": "code",
   "execution_count": 9,
   "id": "2d857eb9-8da3-4ae3-8204-0a5ce98e5cc6",
   "metadata": {},
   "outputs": [
    {
     "data": {
      "text/html": [
       "\n",
       "            <style>\n",
       "                .geemap-dark {\n",
       "                    --jp-widgets-color: white;\n",
       "                    --jp-widgets-label-color: white;\n",
       "                    --jp-ui-font-color1: white;\n",
       "                    --jp-layout-color2: #454545;\n",
       "                    background-color: #383838;\n",
       "                }\n",
       "\n",
       "                .geemap-dark .jupyter-button {\n",
       "                    --jp-layout-color3: #383838;\n",
       "                }\n",
       "\n",
       "                .geemap-colab {\n",
       "                    background-color: var(--colab-primary-surface-color, white);\n",
       "                }\n",
       "\n",
       "                .geemap-colab .jupyter-button {\n",
       "                    --jp-layout-color3: var(--colab-primary-surface-color, white);\n",
       "                }\n",
       "            </style>\n",
       "            "
      ],
      "text/plain": [
       "<IPython.core.display.HTML object>"
      ]
     },
     "metadata": {},
     "output_type": "display_data"
    },
    {
     "data": {
      "application/vnd.plotly.v1+json": {
       "config": {
        "plotlyServerURL": "https://plot.ly"
       },
       "data": [
        {
         "legendgroup": "max",
         "legendgrouptitle": {
          "text": "max"
         },
         "line": {
          "color": "red"
         },
         "mode": "lines",
         "name": "median",
         "showlegend": true,
         "type": "scatter",
         "x": [
          2020,
          2021,
          2022,
          2023,
          2024
         ],
         "xaxis": "x",
         "y": [
          294.2619845867157,
          293.700131893158,
          293.0801877975464,
          293.5686911344528,
          293.9602327346802
         ],
         "yaxis": "y"
        },
        {
         "fill": "toself",
         "fillcolor": "red",
         "hoverinfo": "skip",
         "legendgroup": "max",
         "line": {
          "color": "rgba(255,255,255,0)"
         },
         "name": "0.75 quantile",
         "opacity": 0.3500000000000001,
         "showlegend": true,
         "type": "scatter",
         "x": [
          2020,
          2021,
          2022,
          2023,
          2024,
          2024,
          2023,
          2022,
          2021,
          2020
         ],
         "xaxis": "x",
         "y": [
          296.82230513294934,
          295.5125335454941,
          295.79146881103514,
          298.5389372110367,
          296.33659040927887,
          286.91355080626994,
          288.472909139431,
          288.2988338470459,
          288.95243895053864,
          288.59797874437385
         ],
         "yaxis": "y"
        },
        {
         "fill": "toself",
         "fillcolor": "red",
         "hoverinfo": "skip",
         "legendgroup": "max",
         "line": {
          "color": "rgba(255,255,255,0)"
         },
         "name": "0.95 quantile",
         "opacity": 0.15000000000000013,
         "showlegend": true,
         "type": "scatter",
         "x": [
          2020,
          2021,
          2022,
          2023,
          2024,
          2024,
          2023,
          2022,
          2021,
          2020
         ],
         "xaxis": "x",
         "y": [
          301.50635182857513,
          300.73751878738403,
          299.8549036979676,
          303.7077212333679,
          300.1857080459595,
          279.39011335372925,
          283.16848710027534,
          284.3978242874145,
          283.52023017406464,
          281.08723187446594
         ],
         "yaxis": "y"
        },
        {
         "fill": "toself",
         "fillcolor": "red",
         "hoverinfo": "skip",
         "legendgroup": "max",
         "line": {
          "color": "rgba(255,255,255,0)"
         },
         "name": "1.0 quantile",
         "opacity": 0.10000000000000009,
         "showlegend": true,
         "type": "scatter",
         "x": [
          2020,
          2021,
          2022,
          2023,
          2024,
          2024,
          2023,
          2022,
          2021,
          2020
         ],
         "xaxis": "x",
         "y": [
          307.2529550790787,
          308.78435611724854,
          307.6254550218582,
          308.7557970285416,
          308.23793959617615,
          274.1192237138748,
          277.01866495609283,
          278.05928659439087,
          278.225749373436,
          274.4126019997552
         ],
         "yaxis": "y"
        },
        {
         "legendgroup": "min",
         "legendgrouptitle": {
          "text": "min"
         },
         "line": {
          "color": "blue"
         },
         "mode": "lines",
         "name": "median",
         "showlegend": true,
         "type": "scatter",
         "x": [
          2020,
          2021,
          2022,
          2023,
          2024
         ],
         "xaxis": "x",
         "y": [
          273.57771730422974,
          272.98951411247253,
          273.01506879062015,
          274.84600150585175,
          272.759708404541
         ],
         "yaxis": "y"
        },
        {
         "fill": "toself",
         "fillcolor": "blue",
         "hoverinfo": "skip",
         "legendgroup": "min",
         "line": {
          "color": "rgba(255,255,255,0)"
         },
         "name": "0.75 quantile",
         "opacity": 0.3500000000000001,
         "showlegend": true,
         "type": "scatter",
         "x": [
          2020,
          2021,
          2022,
          2023,
          2024,
          2024,
          2023,
          2022,
          2021,
          2020
         ],
         "xaxis": "x",
         "y": [
          276.25365698337555,
          275.1647653579712,
          275.7949650287628,
          277.3417172383942,
          274.66436326503754,
          269.64051425457,
          271.4661657810211,
          270.5202502012253,
          271.33035027980804,
          270.7219808101654
         ],
         "yaxis": "y"
        },
        {
         "fill": "toself",
         "fillcolor": "blue",
         "hoverinfo": "skip",
         "legendgroup": "min",
         "line": {
          "color": "rgba(255,255,255,0)"
         },
         "name": "0.95 quantile",
         "opacity": 0.15000000000000013,
         "showlegend": true,
         "type": "scatter",
         "x": [
          2020,
          2021,
          2022,
          2023,
          2024,
          2024,
          2023,
          2022,
          2021,
          2020
         ],
         "xaxis": "x",
         "y": [
          280.1335827636461,
          279.7530517298553,
          279.80516839027405,
          281.91064405441284,
          278.3077014358672,
          259.92602610588074,
          265.53763341903687,
          263.1862425804138,
          265.0597097873688,
          263.964955329895
         ],
         "yaxis": "y"
        },
        {
         "fill": "toself",
         "fillcolor": "blue",
         "hoverinfo": "skip",
         "legendgroup": "min",
         "line": {
          "color": "rgba(255,255,255,0)"
         },
         "name": "1.0 quantile",
         "opacity": 0.10000000000000009,
         "showlegend": true,
         "type": "scatter",
         "x": [
          2020,
          2021,
          2022,
          2023,
          2024,
          2024,
          2023,
          2022,
          2021,
          2020
         ],
         "xaxis": "x",
         "y": [
          289.2981541951498,
          288.3800277709961,
          288.3150405883789,
          289.2997589111328,
          289.03235626220703,
          253.3418633937836,
          259.1567132472992,
          257.96736335754395,
          259.7838741540909,
          256.42542111873627
         ],
         "yaxis": "y"
        },
        {
         "legendgroup": "max",
         "legendgrouptitle": {
          "text": "max"
         },
         "line": {
          "color": "red"
         },
         "mode": "lines",
         "name": "median",
         "showlegend": false,
         "type": "scatter",
         "x": [
          2020,
          2021,
          2022,
          2023,
          2024
         ],
         "xaxis": "x2",
         "y": [
          0.0028518835781152,
          0.0027047365123316,
          0.0026556442608125,
          0.0026576008196537,
          0.0030058001478513
         ],
         "yaxis": "y2"
        },
        {
         "fill": "toself",
         "fillcolor": "red",
         "hoverinfo": "skip",
         "legendgroup": "max",
         "line": {
          "color": "rgba(255,255,255,0)"
         },
         "name": "0.75 quantile",
         "opacity": 0.3500000000000001,
         "showlegend": false,
         "type": "scatter",
         "x": [
          2020,
          2021,
          2022,
          2023,
          2024,
          2024,
          2023,
          2022,
          2021,
          2020
         ],
         "xaxis": "x2",
         "y": [
          0.0034693095803959,
          0.0031544376482085,
          0.0032210443910956,
          0.003321872603178,
          0.0035043785392904,
          0.002274238562666,
          0.0020163111686982,
          0.0021915079967911,
          0.0023334179804002,
          0.0023838146311367
         ],
         "yaxis": "y2"
        },
        {
         "fill": "toself",
         "fillcolor": "red",
         "hoverinfo": "skip",
         "legendgroup": "max",
         "line": {
          "color": "rgba(255,255,255,0)"
         },
         "name": "0.95 quantile",
         "opacity": 0.15000000000000013,
         "showlegend": false,
         "type": "scatter",
         "x": [
          2020,
          2021,
          2022,
          2023,
          2024,
          2024,
          2023,
          2022,
          2021,
          2020
         ],
         "xaxis": "x2",
         "y": [
          0.0043638027533298,
          0.0037745878822187,
          0.0039267647580872,
          0.0040076204284569,
          0.0044169525095055,
          0.0016290034400299,
          0.001607918479193,
          0.0016123089784604,
          0.0019333961507072,
          0.001798332680476
         ],
         "yaxis": "y2"
        },
        {
         "fill": "toself",
         "fillcolor": "red",
         "hoverinfo": "skip",
         "legendgroup": "max",
         "line": {
          "color": "rgba(255,255,255,0)"
         },
         "name": "1.0 quantile",
         "opacity": 0.10000000000000009,
         "showlegend": false,
         "type": "scatter",
         "x": [
          2020,
          2021,
          2022,
          2023,
          2024,
          2024,
          2023,
          2022,
          2021,
          2020
         ],
         "xaxis": "x2",
         "y": [
          0.0051998619339466,
          0.0053950815695712,
          0.0055638906225793,
          0.0052403685161202,
          0.0060095722496047,
          0.0001405715593136,
          0.000149351573782,
          0.0002314928453426,
          0.0001517411292311,
          0.0001065380143372
         ],
         "yaxis": "y2"
        },
        {
         "legendgroup": "min",
         "legendgrouptitle": {
          "text": "min"
         },
         "line": {
          "color": "blue"
         },
         "mode": "lines",
         "name": "median",
         "showlegend": false,
         "type": "scatter",
         "x": [
          2020,
          2021,
          2022,
          2023,
          2024
         ],
         "xaxis": "x2",
         "y": [
          -1.670288675482673e-08,
          -1.6434160060585512e-08,
          -1.5810709966651908e-08,
          -1.8599926931983652e-08,
          -1.5772769756949856e-08
         ],
         "yaxis": "y2"
        },
        {
         "fill": "toself",
         "fillcolor": "blue",
         "hoverinfo": "skip",
         "legendgroup": "min",
         "line": {
          "color": "rgba(255,255,255,0)"
         },
         "name": "0.75 quantile",
         "opacity": 0.3500000000000001,
         "showlegend": false,
         "type": "scatter",
         "x": [
          2020,
          2021,
          2022,
          2023,
          2024,
          2024,
          2023,
          2022,
          2021,
          2020
         ],
         "xaxis": "x2",
         "y": [
          -1.5862904089761157e-08,
          -1.5732952975498977e-08,
          -1.5075917847440223e-08,
          -1.732033938495192e-08,
          -1.4943245751908307e-08,
          -1.6541289366012183e-08,
          -1.9706804632591002e-08,
          -1.6303992822486183e-08,
          -1.749799283246034e-08,
          -1.7520215445099296e-08
         ],
         "yaxis": "y2"
        },
        {
         "fill": "toself",
         "fillcolor": "blue",
         "hoverinfo": "skip",
         "legendgroup": "min",
         "line": {
          "color": "rgba(255,255,255,0)"
         },
         "name": "0.95 quantile",
         "opacity": 0.15000000000000013,
         "showlegend": false,
         "type": "scatter",
         "x": [
          2020,
          2021,
          2022,
          2023,
          2024,
          2024,
          2023,
          2022,
          2021,
          2020
         ],
         "xaxis": "x2",
         "y": [
          -1.4489547509894353e-08,
          -1.4413489068942908e-08,
          -1.3630074402470882e-08,
          -1.5178712814423182e-08,
          -1.3852299751704322e-08,
          -1.7782442157665557e-08,
          -2.0606264250488948e-08,
          -1.7011825281798565e-08,
          -1.8785835803614148e-08,
          -1.8656657108095945e-08
         ],
         "yaxis": "y2"
        },
        {
         "fill": "toself",
         "fillcolor": "blue",
         "hoverinfo": "skip",
         "legendgroup": "min",
         "line": {
          "color": "rgba(255,255,255,0)"
         },
         "name": "1.0 quantile",
         "opacity": 0.10000000000000009,
         "showlegend": false,
         "type": "scatter",
         "x": [
          2020,
          2021,
          2022,
          2023,
          2024,
          2024,
          2023,
          2022,
          2021,
          2020
         ],
         "xaxis": "x2",
         "y": [
          -6.8399187152380575e-09,
          -5.63141799858613e-09,
          -9.201585271512158e-09,
          -1.0374426206993805e-08,
          -7.338838176051965e-09,
          -1.9990984867490624e-08,
          -2.3633376144971407e-08,
          -1.8363394360676463e-08,
          -2.1878705069866555e-08,
          -2.1033687236382548e-08
         ],
         "yaxis": "y2"
        },
        {
         "legendgroup": "max",
         "legendgrouptitle": {
          "text": "max"
         },
         "line": {
          "color": "red"
         },
         "mode": "lines",
         "name": "median",
         "showlegend": false,
         "type": "scatter",
         "x": [
          2020,
          2021,
          2022,
          2023,
          2024
         ],
         "xaxis": "x3",
         "y": [
          286.3350522518158,
          286.0478849411011,
          285.9305391311645,
          286.1703437566757,
          285.80139923095703
         ],
         "yaxis": "y3"
        },
        {
         "fill": "toself",
         "fillcolor": "red",
         "hoverinfo": "skip",
         "legendgroup": "max",
         "line": {
          "color": "rgba(255,255,255,0)"
         },
         "name": "0.75 quantile",
         "opacity": 0.3500000000000001,
         "showlegend": false,
         "type": "scatter",
         "x": [
          2020,
          2021,
          2022,
          2023,
          2024,
          2024,
          2023,
          2022,
          2021,
          2020
         ],
         "xaxis": "x3",
         "y": [
          287.9288855791092,
          287.46037542819977,
          287.33388245105743,
          287.8738342523575,
          287.0864899882587,
          283.3780781030655,
          284.4173812866211,
          283.6134892954421,
          284.7801847457886,
          283.18338549137115
         ],
         "yaxis": "y3"
        },
        {
         "fill": "toself",
         "fillcolor": "red",
         "hoverinfo": "skip",
         "legendgroup": "max",
         "line": {
          "color": "rgba(255,255,255,0)"
         },
         "name": "0.95 quantile",
         "opacity": 0.15000000000000013,
         "showlegend": false,
         "type": "scatter",
         "x": [
          2020,
          2021,
          2022,
          2023,
          2024,
          2024,
          2023,
          2022,
          2021,
          2020
         ],
         "xaxis": "x3",
         "y": [
          290.17832922935486,
          289.2455071668594,
          290.0264625112899,
          289.908705618922,
          289.1126855611801,
          275.88943910598755,
          280.2771989107132,
          279.862398147583,
          281.00051283836365,
          277.9800897836685
         ],
         "yaxis": "y3"
        },
        {
         "fill": "toself",
         "fillcolor": "red",
         "hoverinfo": "skip",
         "legendgroup": "max",
         "line": {
          "color": "rgba(255,255,255,0)"
         },
         "name": "1.0 quantile",
         "opacity": 0.10000000000000009,
         "showlegend": false,
         "type": "scatter",
         "x": [
          2020,
          2021,
          2022,
          2023,
          2024,
          2024,
          2023,
          2022,
          2021,
          2020
         ],
         "xaxis": "x3",
         "y": [
          292.5396194458008,
          291.3441619873047,
          292.09962738967926,
          292.97655232747394,
          291.662109375,
          272.7497022151947,
          275.81312131881714,
          274.97528064250946,
          275.1162166595459,
          273.34975278377533
         ],
         "yaxis": "y3"
        },
        {
         "legendgroup": "min",
         "legendgrouptitle": {
          "text": "min"
         },
         "line": {
          "color": "blue"
         },
         "mode": "lines",
         "name": "median",
         "showlegend": false,
         "type": "scatter",
         "x": [
          2020,
          2021,
          2022,
          2023,
          2024
         ],
         "xaxis": "x3",
         "y": [
          270.102388381958,
          269.73387241363525,
          269.7520135641098,
          270.00171712576184,
          269.49945187568665
         ],
         "yaxis": "y3"
        },
        {
         "fill": "toself",
         "fillcolor": "blue",
         "hoverinfo": "skip",
         "legendgroup": "min",
         "line": {
          "color": "rgba(255,255,255,0)"
         },
         "name": "0.75 quantile",
         "opacity": 0.3500000000000001,
         "showlegend": false,
         "type": "scatter",
         "x": [
          2020,
          2021,
          2022,
          2023,
          2024,
          2024,
          2023,
          2022,
          2021,
          2020
         ],
         "xaxis": "x3",
         "y": [
          272.12894797325134,
          271.5739368200302,
          271.9600967168808,
          273.3913601807152,
          271.34923112901754,
          265.4862577915192,
          266.2472839355469,
          266.3958468437195,
          267.6497836112976,
          267.3557143211365
         ],
         "yaxis": "y3"
        },
        {
         "fill": "toself",
         "fillcolor": "blue",
         "hoverinfo": "skip",
         "legendgroup": "min",
         "line": {
          "color": "rgba(255,255,255,0)"
         },
         "name": "0.95 quantile",
         "opacity": 0.15000000000000013,
         "showlegend": false,
         "type": "scatter",
         "x": [
          2020,
          2021,
          2022,
          2023,
          2024,
          2024,
          2023,
          2022,
          2021,
          2020
         ],
         "xaxis": "x3",
         "y": [
          275.73529929009726,
          274.2103308439255,
          275.0981267343336,
          275.59338533878326,
          274.1005966668532,
          256.9050452709198,
          262.4679868221283,
          260.45647621154785,
          262.2264041900635,
          260.8155641555786
         ],
         "yaxis": "y3"
        },
        {
         "fill": "toself",
         "fillcolor": "blue",
         "hoverinfo": "skip",
         "legendgroup": "min",
         "line": {
          "color": "rgba(255,255,255,0)"
         },
         "name": "1.0 quantile",
         "opacity": 0.10000000000000009,
         "showlegend": false,
         "type": "scatter",
         "x": [
          2020,
          2021,
          2022,
          2023,
          2024,
          2024,
          2023,
          2022,
          2021,
          2020
         ],
         "xaxis": "x3",
         "y": [
          281.42604064941406,
          282.2530339558919,
          282.5514246622721,
          283.6837793986003,
          282.4129765828451,
          250.6757698059082,
          256.3046809434891,
          255.58998894691467,
          255.99949967861176,
          254.49768722057345
         ],
         "yaxis": "y3"
        },
        {
         "legendgroup": "max",
         "legendgrouptitle": {
          "text": "max"
         },
         "line": {
          "color": "red"
         },
         "mode": "lines",
         "name": "median",
         "showlegend": false,
         "type": "scatter",
         "x": [
          2020,
          2021,
          2022,
          2023,
          2024
         ],
         "xaxis": "x4",
         "y": [
          0.3891597986221313,
          0.3961641788482666,
          0.3797526343746511,
          0.3882910821735525,
          0.4091737270355224
         ],
         "yaxis": "y4"
        },
        {
         "fill": "toself",
         "fillcolor": "red",
         "hoverinfo": "skip",
         "legendgroup": "max",
         "line": {
          "color": "rgba(255,255,255,0)"
         },
         "name": "0.75 quantile",
         "opacity": 0.3500000000000001,
         "showlegend": false,
         "type": "scatter",
         "x": [
          2020,
          2021,
          2022,
          2023,
          2024,
          2024,
          2023,
          2022,
          2021,
          2020
         ],
         "xaxis": "x4",
         "y": [
          0.4207072257995605,
          0.4223420619964599,
          0.4082173109054565,
          0.4199467897415161,
          0.4320472478866577,
          0.3592984951254517,
          0.3066195249557495,
          0.3270587921142578,
          0.3349728584289551,
          0.3525724866920878
         ],
         "yaxis": "y4"
        },
        {
         "fill": "toself",
         "fillcolor": "red",
         "hoverinfo": "skip",
         "legendgroup": "max",
         "line": {
          "color": "rgba(255,255,255,0)"
         },
         "name": "0.95 quantile",
         "opacity": 0.15000000000000013,
         "showlegend": false,
         "type": "scatter",
         "x": [
          2020,
          2021,
          2022,
          2023,
          2024,
          2024,
          2023,
          2022,
          2021,
          2020
         ],
         "xaxis": "x4",
         "y": [
          0.5030364990234375,
          0.5131884813308716,
          0.51161789894104,
          0.5001610517501831,
          0.5028825998306274,
          0.2407331466674804,
          0.230259895324707,
          0.2725268602371216,
          0.2715253829956054,
          0.2826842069625854
         ],
         "yaxis": "y4"
        },
        {
         "fill": "toself",
         "fillcolor": "red",
         "hoverinfo": "skip",
         "legendgroup": "max",
         "line": {
          "color": "rgba(255,255,255,0)"
         },
         "name": "1.0 quantile",
         "opacity": 0.10000000000000009,
         "showlegend": false,
         "type": "scatter",
         "x": [
          2020,
          2021,
          2022,
          2023,
          2024,
          2024,
          2023,
          2022,
          2021,
          2020
         ],
         "xaxis": "x4",
         "y": [
          0.7137213945388794,
          0.7004417934328866,
          0.6986441593641803,
          0.6937694768095654,
          0.699395343599414,
          0.0185322761535644,
          0.0347650051116943,
          0.0442746877670288,
          0.0602508783340454,
          0.0779476165771484
         ],
         "yaxis": "y4"
        },
        {
         "legendgroup": "min",
         "legendgrouptitle": {
          "text": "min"
         },
         "line": {
          "color": "blue"
         },
         "mode": "lines",
         "name": "median",
         "showlegend": false,
         "type": "scatter",
         "x": [
          2020,
          2021,
          2022,
          2023,
          2024
         ],
         "xaxis": "x4",
         "y": [
          0.2827396627942347,
          0.304628849029541,
          0.2925260066986084,
          0.2965430021286011,
          0.3260109424591064
         ],
         "yaxis": "y4"
        },
        {
         "fill": "toself",
         "fillcolor": "blue",
         "hoverinfo": "skip",
         "legendgroup": "min",
         "line": {
          "color": "rgba(255,255,255,0)"
         },
         "name": "0.75 quantile",
         "opacity": 0.3500000000000001,
         "showlegend": false,
         "type": "scatter",
         "x": [
          2020,
          2021,
          2022,
          2023,
          2024,
          2024,
          2023,
          2022,
          2021,
          2020
         ],
         "xaxis": "x4",
         "y": [
          0.3228842939278085,
          0.3359807729721069,
          0.3242839727956853,
          0.3373006582260132,
          0.3561210632324219,
          0.2654968500137329,
          0.2187124490737915,
          0.2257912421422896,
          0.2405908107757568,
          0.2405972319813195
         ],
         "yaxis": "y4"
        },
        {
         "fill": "toself",
         "fillcolor": "blue",
         "hoverinfo": "skip",
         "legendgroup": "min",
         "line": {
          "color": "rgba(255,255,255,0)"
         },
         "name": "0.95 quantile",
         "opacity": 0.15000000000000013,
         "showlegend": false,
         "type": "scatter",
         "x": [
          2020,
          2021,
          2022,
          2023,
          2024,
          2024,
          2023,
          2022,
          2021,
          2020
         ],
         "xaxis": "x4",
         "y": [
          0.4398893117904663,
          0.4342536926269531,
          0.426715612411499,
          0.4343708753585815,
          0.4265878200531006,
          0.1974799633026123,
          0.1698173284530639,
          0.1958448886871338,
          0.1876296997070312,
          0.2014950513839721
         ],
         "yaxis": "y4"
        },
        {
         "fill": "toself",
         "fillcolor": "blue",
         "hoverinfo": "skip",
         "legendgroup": "min",
         "line": {
          "color": "rgba(255,255,255,0)"
         },
         "name": "1.0 quantile",
         "opacity": 0.10000000000000009,
         "showlegend": false,
         "type": "scatter",
         "x": [
          2020,
          2021,
          2022,
          2023,
          2024,
          2024,
          2023,
          2022,
          2021,
          2020
         ],
         "xaxis": "x4",
         "y": [
          0.6452986001968384,
          0.6351132392883301,
          0.6129360198974609,
          0.6234936714172363,
          0.6252748391716108,
          0.017966866493225,
          0.0339243412017822,
          0.0433831214904785,
          0.0596439838409423,
          0.0762571096420288
         ],
         "yaxis": "y4"
        }
       ],
       "layout": {
        "autosize": true,
        "template": {
         "data": {
          "bar": [
           {
            "error_x": {
             "color": "#2a3f5f"
            },
            "error_y": {
             "color": "#2a3f5f"
            },
            "marker": {
             "line": {
              "color": "#E5ECF6",
              "width": 0.5
             },
             "pattern": {
              "fillmode": "overlay",
              "size": 10,
              "solidity": 0.2
             }
            },
            "type": "bar"
           }
          ],
          "barpolar": [
           {
            "marker": {
             "line": {
              "color": "#E5ECF6",
              "width": 0.5
             },
             "pattern": {
              "fillmode": "overlay",
              "size": 10,
              "solidity": 0.2
             }
            },
            "type": "barpolar"
           }
          ],
          "carpet": [
           {
            "aaxis": {
             "endlinecolor": "#2a3f5f",
             "gridcolor": "white",
             "linecolor": "white",
             "minorgridcolor": "white",
             "startlinecolor": "#2a3f5f"
            },
            "baxis": {
             "endlinecolor": "#2a3f5f",
             "gridcolor": "white",
             "linecolor": "white",
             "minorgridcolor": "white",
             "startlinecolor": "#2a3f5f"
            },
            "type": "carpet"
           }
          ],
          "choropleth": [
           {
            "colorbar": {
             "outlinewidth": 0,
             "ticks": ""
            },
            "type": "choropleth"
           }
          ],
          "contour": [
           {
            "colorbar": {
             "outlinewidth": 0,
             "ticks": ""
            },
            "colorscale": [
             [
              0,
              "#0d0887"
             ],
             [
              0.1111111111111111,
              "#46039f"
             ],
             [
              0.2222222222222222,
              "#7201a8"
             ],
             [
              0.3333333333333333,
              "#9c179e"
             ],
             [
              0.4444444444444444,
              "#bd3786"
             ],
             [
              0.5555555555555556,
              "#d8576b"
             ],
             [
              0.6666666666666666,
              "#ed7953"
             ],
             [
              0.7777777777777778,
              "#fb9f3a"
             ],
             [
              0.8888888888888888,
              "#fdca26"
             ],
             [
              1,
              "#f0f921"
             ]
            ],
            "type": "contour"
           }
          ],
          "contourcarpet": [
           {
            "colorbar": {
             "outlinewidth": 0,
             "ticks": ""
            },
            "type": "contourcarpet"
           }
          ],
          "heatmap": [
           {
            "colorbar": {
             "outlinewidth": 0,
             "ticks": ""
            },
            "colorscale": [
             [
              0,
              "#0d0887"
             ],
             [
              0.1111111111111111,
              "#46039f"
             ],
             [
              0.2222222222222222,
              "#7201a8"
             ],
             [
              0.3333333333333333,
              "#9c179e"
             ],
             [
              0.4444444444444444,
              "#bd3786"
             ],
             [
              0.5555555555555556,
              "#d8576b"
             ],
             [
              0.6666666666666666,
              "#ed7953"
             ],
             [
              0.7777777777777778,
              "#fb9f3a"
             ],
             [
              0.8888888888888888,
              "#fdca26"
             ],
             [
              1,
              "#f0f921"
             ]
            ],
            "type": "heatmap"
           }
          ],
          "heatmapgl": [
           {
            "colorbar": {
             "outlinewidth": 0,
             "ticks": ""
            },
            "colorscale": [
             [
              0,
              "#0d0887"
             ],
             [
              0.1111111111111111,
              "#46039f"
             ],
             [
              0.2222222222222222,
              "#7201a8"
             ],
             [
              0.3333333333333333,
              "#9c179e"
             ],
             [
              0.4444444444444444,
              "#bd3786"
             ],
             [
              0.5555555555555556,
              "#d8576b"
             ],
             [
              0.6666666666666666,
              "#ed7953"
             ],
             [
              0.7777777777777778,
              "#fb9f3a"
             ],
             [
              0.8888888888888888,
              "#fdca26"
             ],
             [
              1,
              "#f0f921"
             ]
            ],
            "type": "heatmapgl"
           }
          ],
          "histogram": [
           {
            "marker": {
             "pattern": {
              "fillmode": "overlay",
              "size": 10,
              "solidity": 0.2
             }
            },
            "type": "histogram"
           }
          ],
          "histogram2d": [
           {
            "colorbar": {
             "outlinewidth": 0,
             "ticks": ""
            },
            "colorscale": [
             [
              0,
              "#0d0887"
             ],
             [
              0.1111111111111111,
              "#46039f"
             ],
             [
              0.2222222222222222,
              "#7201a8"
             ],
             [
              0.3333333333333333,
              "#9c179e"
             ],
             [
              0.4444444444444444,
              "#bd3786"
             ],
             [
              0.5555555555555556,
              "#d8576b"
             ],
             [
              0.6666666666666666,
              "#ed7953"
             ],
             [
              0.7777777777777778,
              "#fb9f3a"
             ],
             [
              0.8888888888888888,
              "#fdca26"
             ],
             [
              1,
              "#f0f921"
             ]
            ],
            "type": "histogram2d"
           }
          ],
          "histogram2dcontour": [
           {
            "colorbar": {
             "outlinewidth": 0,
             "ticks": ""
            },
            "colorscale": [
             [
              0,
              "#0d0887"
             ],
             [
              0.1111111111111111,
              "#46039f"
             ],
             [
              0.2222222222222222,
              "#7201a8"
             ],
             [
              0.3333333333333333,
              "#9c179e"
             ],
             [
              0.4444444444444444,
              "#bd3786"
             ],
             [
              0.5555555555555556,
              "#d8576b"
             ],
             [
              0.6666666666666666,
              "#ed7953"
             ],
             [
              0.7777777777777778,
              "#fb9f3a"
             ],
             [
              0.8888888888888888,
              "#fdca26"
             ],
             [
              1,
              "#f0f921"
             ]
            ],
            "type": "histogram2dcontour"
           }
          ],
          "mesh3d": [
           {
            "colorbar": {
             "outlinewidth": 0,
             "ticks": ""
            },
            "type": "mesh3d"
           }
          ],
          "parcoords": [
           {
            "line": {
             "colorbar": {
              "outlinewidth": 0,
              "ticks": ""
             }
            },
            "type": "parcoords"
           }
          ],
          "pie": [
           {
            "automargin": true,
            "type": "pie"
           }
          ],
          "scatter": [
           {
            "fillpattern": {
             "fillmode": "overlay",
             "size": 10,
             "solidity": 0.2
            },
            "type": "scatter"
           }
          ],
          "scatter3d": [
           {
            "line": {
             "colorbar": {
              "outlinewidth": 0,
              "ticks": ""
             }
            },
            "marker": {
             "colorbar": {
              "outlinewidth": 0,
              "ticks": ""
             }
            },
            "type": "scatter3d"
           }
          ],
          "scattercarpet": [
           {
            "marker": {
             "colorbar": {
              "outlinewidth": 0,
              "ticks": ""
             }
            },
            "type": "scattercarpet"
           }
          ],
          "scattergeo": [
           {
            "marker": {
             "colorbar": {
              "outlinewidth": 0,
              "ticks": ""
             }
            },
            "type": "scattergeo"
           }
          ],
          "scattergl": [
           {
            "marker": {
             "colorbar": {
              "outlinewidth": 0,
              "ticks": ""
             }
            },
            "type": "scattergl"
           }
          ],
          "scattermapbox": [
           {
            "marker": {
             "colorbar": {
              "outlinewidth": 0,
              "ticks": ""
             }
            },
            "type": "scattermapbox"
           }
          ],
          "scatterpolar": [
           {
            "marker": {
             "colorbar": {
              "outlinewidth": 0,
              "ticks": ""
             }
            },
            "type": "scatterpolar"
           }
          ],
          "scatterpolargl": [
           {
            "marker": {
             "colorbar": {
              "outlinewidth": 0,
              "ticks": ""
             }
            },
            "type": "scatterpolargl"
           }
          ],
          "scatterternary": [
           {
            "marker": {
             "colorbar": {
              "outlinewidth": 0,
              "ticks": ""
             }
            },
            "type": "scatterternary"
           }
          ],
          "surface": [
           {
            "colorbar": {
             "outlinewidth": 0,
             "ticks": ""
            },
            "colorscale": [
             [
              0,
              "#0d0887"
             ],
             [
              0.1111111111111111,
              "#46039f"
             ],
             [
              0.2222222222222222,
              "#7201a8"
             ],
             [
              0.3333333333333333,
              "#9c179e"
             ],
             [
              0.4444444444444444,
              "#bd3786"
             ],
             [
              0.5555555555555556,
              "#d8576b"
             ],
             [
              0.6666666666666666,
              "#ed7953"
             ],
             [
              0.7777777777777778,
              "#fb9f3a"
             ],
             [
              0.8888888888888888,
              "#fdca26"
             ],
             [
              1,
              "#f0f921"
             ]
            ],
            "type": "surface"
           }
          ],
          "table": [
           {
            "cells": {
             "fill": {
              "color": "#EBF0F8"
             },
             "line": {
              "color": "white"
             }
            },
            "header": {
             "fill": {
              "color": "#C8D4E3"
             },
             "line": {
              "color": "white"
             }
            },
            "type": "table"
           }
          ]
         },
         "layout": {
          "annotationdefaults": {
           "arrowcolor": "#2a3f5f",
           "arrowhead": 0,
           "arrowwidth": 1
          },
          "autotypenumbers": "strict",
          "coloraxis": {
           "colorbar": {
            "outlinewidth": 0,
            "ticks": ""
           }
          },
          "colorscale": {
           "diverging": [
            [
             0,
             "#8e0152"
            ],
            [
             0.1,
             "#c51b7d"
            ],
            [
             0.2,
             "#de77ae"
            ],
            [
             0.3,
             "#f1b6da"
            ],
            [
             0.4,
             "#fde0ef"
            ],
            [
             0.5,
             "#f7f7f7"
            ],
            [
             0.6,
             "#e6f5d0"
            ],
            [
             0.7,
             "#b8e186"
            ],
            [
             0.8,
             "#7fbc41"
            ],
            [
             0.9,
             "#4d9221"
            ],
            [
             1,
             "#276419"
            ]
           ],
           "sequential": [
            [
             0,
             "#0d0887"
            ],
            [
             0.1111111111111111,
             "#46039f"
            ],
            [
             0.2222222222222222,
             "#7201a8"
            ],
            [
             0.3333333333333333,
             "#9c179e"
            ],
            [
             0.4444444444444444,
             "#bd3786"
            ],
            [
             0.5555555555555556,
             "#d8576b"
            ],
            [
             0.6666666666666666,
             "#ed7953"
            ],
            [
             0.7777777777777778,
             "#fb9f3a"
            ],
            [
             0.8888888888888888,
             "#fdca26"
            ],
            [
             1,
             "#f0f921"
            ]
           ],
           "sequentialminus": [
            [
             0,
             "#0d0887"
            ],
            [
             0.1111111111111111,
             "#46039f"
            ],
            [
             0.2222222222222222,
             "#7201a8"
            ],
            [
             0.3333333333333333,
             "#9c179e"
            ],
            [
             0.4444444444444444,
             "#bd3786"
            ],
            [
             0.5555555555555556,
             "#d8576b"
            ],
            [
             0.6666666666666666,
             "#ed7953"
            ],
            [
             0.7777777777777778,
             "#fb9f3a"
            ],
            [
             0.8888888888888888,
             "#fdca26"
            ],
            [
             1,
             "#f0f921"
            ]
           ]
          },
          "colorway": [
           "#636efa",
           "#EF553B",
           "#00cc96",
           "#ab63fa",
           "#FFA15A",
           "#19d3f3",
           "#FF6692",
           "#B6E880",
           "#FF97FF",
           "#FECB52"
          ],
          "font": {
           "color": "#2a3f5f"
          },
          "geo": {
           "bgcolor": "white",
           "lakecolor": "white",
           "landcolor": "#E5ECF6",
           "showlakes": true,
           "showland": true,
           "subunitcolor": "white"
          },
          "hoverlabel": {
           "align": "left"
          },
          "hovermode": "closest",
          "mapbox": {
           "style": "light"
          },
          "paper_bgcolor": "white",
          "plot_bgcolor": "#E5ECF6",
          "polar": {
           "angularaxis": {
            "gridcolor": "white",
            "linecolor": "white",
            "ticks": ""
           },
           "bgcolor": "#E5ECF6",
           "radialaxis": {
            "gridcolor": "white",
            "linecolor": "white",
            "ticks": ""
           }
          },
          "scene": {
           "xaxis": {
            "backgroundcolor": "#E5ECF6",
            "gridcolor": "white",
            "gridwidth": 2,
            "linecolor": "white",
            "showbackground": true,
            "ticks": "",
            "zerolinecolor": "white"
           },
           "yaxis": {
            "backgroundcolor": "#E5ECF6",
            "gridcolor": "white",
            "gridwidth": 2,
            "linecolor": "white",
            "showbackground": true,
            "ticks": "",
            "zerolinecolor": "white"
           },
           "zaxis": {
            "backgroundcolor": "#E5ECF6",
            "gridcolor": "white",
            "gridwidth": 2,
            "linecolor": "white",
            "showbackground": true,
            "ticks": "",
            "zerolinecolor": "white"
           }
          },
          "shapedefaults": {
           "line": {
            "color": "#2a3f5f"
           }
          },
          "ternary": {
           "aaxis": {
            "gridcolor": "white",
            "linecolor": "white",
            "ticks": ""
           },
           "baxis": {
            "gridcolor": "white",
            "linecolor": "white",
            "ticks": ""
           },
           "bgcolor": "#E5ECF6",
           "caxis": {
            "gridcolor": "white",
            "linecolor": "white",
            "ticks": ""
           }
          },
          "title": {
           "x": 0.05
          },
          "xaxis": {
           "automargin": true,
           "gridcolor": "white",
           "linecolor": "white",
           "ticks": "",
           "title": {
            "standoff": 15
           },
           "zerolinecolor": "white",
           "zerolinewidth": 2
          },
          "yaxis": {
           "automargin": true,
           "gridcolor": "white",
           "linecolor": "white",
           "ticks": "",
           "title": {
            "standoff": 15
           },
           "zerolinecolor": "white",
           "zerolinewidth": 2
          }
         }
        },
        "xaxis": {
         "anchor": "y",
         "autorange": true,
         "domain": [
          0,
          0.425
         ],
         "matches": "x3",
         "range": [
          2019.681673369949,
          2024.318326630051
         ],
         "showticklabels": false,
         "title": {},
         "type": "linear"
        },
        "xaxis2": {
         "anchor": "y2",
         "autorange": true,
         "domain": [
          0.575,
          1
         ],
         "matches": "x3",
         "range": [
          2019.681673369949,
          2024.318326630051
         ],
         "showticklabels": false,
         "title": {},
         "type": "linear"
        },
        "xaxis3": {
         "anchor": "y3",
         "autorange": true,
         "domain": [
          0,
          0.425
         ],
         "range": [
          2019.681673369949,
          2024.318326630051
         ],
         "title": {
          "text": "year"
         },
         "type": "linear"
        },
        "xaxis4": {
         "anchor": "y4",
         "autorange": true,
         "domain": [
          0.575,
          1
         ],
         "matches": "x3",
         "range": [
          2019.681673369949,
          2024.318326630051
         ],
         "title": {
          "text": "year"
         },
         "type": "linear"
        },
        "yaxis": {
         "anchor": "x",
         "autorange": true,
         "domain": [
          0.525,
          1
         ],
         "range": [
          248.91903158541652,
          313.20718792561564
         ],
         "title": {
          "text": "temperature_2m"
         },
         "type": "linear"
        },
        "yaxis2": {
         "anchor": "x2",
         "autorange": true,
         "domain": [
          0.525,
          1
         ],
         "range": [
          -0.0004794290590890895,
          0.006488977675317645
         ],
         "title": {
          "text": "total_precipitation"
         },
         "type": "linear"
        },
        "yaxis3": {
         "anchor": "x3",
         "autorange": true,
         "domain": [
          0,
          0.475
         ],
         "range": [
          247.3012958732811,
          296.35102626010104
         ],
         "title": {
          "text": "dewpoint_temperature_2m"
         },
         "type": "linear"
        },
        "yaxis4": {
         "anchor": "x4",
         "autorange": true,
         "domain": [
          0,
          0.475
         ],
         "range": [
          -0.037535783302919186,
          0.7692240443350236
         ],
         "title": {
          "text": "volumetric_soil_water_layer_2"
         },
         "type": "linear"
        }
       }
      },
      "text/html": [
       "<div>                            <div id=\"5ca4abad-ebc5-4efa-ba88-e48451a00f25\" class=\"plotly-graph-div\" style=\"height:600px; width:100%;\"></div>            <script type=\"text/javascript\">                require([\"plotly\"], function(Plotly) {                    window.PLOTLYENV=window.PLOTLYENV || {};                                    if (document.getElementById(\"5ca4abad-ebc5-4efa-ba88-e48451a00f25\")) {                    Plotly.newPlot(                        \"5ca4abad-ebc5-4efa-ba88-e48451a00f25\",                        [{\"legendgroup\":\"max\",\"legendgrouptitle\":{\"text\":\"max\"},\"line\":{\"color\":\"red\"},\"mode\":\"lines\",\"name\":\"median\",\"showlegend\":true,\"x\":[2020,2021,2022,2023,2024],\"y\":[294.2619845867157,293.700131893158,293.0801877975464,293.5686911344528,293.9602327346802],\"type\":\"scatter\",\"xaxis\":\"x\",\"yaxis\":\"y\"},{\"fill\":\"toself\",\"fillcolor\":\"red\",\"hoverinfo\":\"skip\",\"legendgroup\":\"max\",\"line\":{\"color\":\"rgba(255,255,255,0)\"},\"name\":\"0.75 quantile\",\"opacity\":0.3500000000000001,\"showlegend\":true,\"x\":[2020,2021,2022,2023,2024,2024,2023,2022,2021,2020],\"y\":[296.82230513294934,295.5125335454941,295.79146881103514,298.5389372110367,296.33659040927887,286.91355080626994,288.472909139431,288.2988338470459,288.95243895053864,288.59797874437385],\"type\":\"scatter\",\"xaxis\":\"x\",\"yaxis\":\"y\"},{\"fill\":\"toself\",\"fillcolor\":\"red\",\"hoverinfo\":\"skip\",\"legendgroup\":\"max\",\"line\":{\"color\":\"rgba(255,255,255,0)\"},\"name\":\"0.95 quantile\",\"opacity\":0.15000000000000013,\"showlegend\":true,\"x\":[2020,2021,2022,2023,2024,2024,2023,2022,2021,2020],\"y\":[301.50635182857513,300.73751878738403,299.8549036979676,303.7077212333679,300.1857080459595,279.39011335372925,283.16848710027534,284.3978242874145,283.52023017406464,281.08723187446594],\"type\":\"scatter\",\"xaxis\":\"x\",\"yaxis\":\"y\"},{\"fill\":\"toself\",\"fillcolor\":\"red\",\"hoverinfo\":\"skip\",\"legendgroup\":\"max\",\"line\":{\"color\":\"rgba(255,255,255,0)\"},\"name\":\"1.0 quantile\",\"opacity\":0.10000000000000009,\"showlegend\":true,\"x\":[2020,2021,2022,2023,2024,2024,2023,2022,2021,2020],\"y\":[307.2529550790787,308.78435611724854,307.6254550218582,308.7557970285416,308.23793959617615,274.1192237138748,277.01866495609283,278.05928659439087,278.225749373436,274.4126019997552],\"type\":\"scatter\",\"xaxis\":\"x\",\"yaxis\":\"y\"},{\"legendgroup\":\"min\",\"legendgrouptitle\":{\"text\":\"min\"},\"line\":{\"color\":\"blue\"},\"mode\":\"lines\",\"name\":\"median\",\"showlegend\":true,\"x\":[2020,2021,2022,2023,2024],\"y\":[273.57771730422974,272.98951411247253,273.01506879062015,274.84600150585175,272.759708404541],\"type\":\"scatter\",\"xaxis\":\"x\",\"yaxis\":\"y\"},{\"fill\":\"toself\",\"fillcolor\":\"blue\",\"hoverinfo\":\"skip\",\"legendgroup\":\"min\",\"line\":{\"color\":\"rgba(255,255,255,0)\"},\"name\":\"0.75 quantile\",\"opacity\":0.3500000000000001,\"showlegend\":true,\"x\":[2020,2021,2022,2023,2024,2024,2023,2022,2021,2020],\"y\":[276.25365698337555,275.1647653579712,275.7949650287628,277.3417172383942,274.66436326503754,269.64051425457,271.4661657810211,270.5202502012253,271.33035027980804,270.7219808101654],\"type\":\"scatter\",\"xaxis\":\"x\",\"yaxis\":\"y\"},{\"fill\":\"toself\",\"fillcolor\":\"blue\",\"hoverinfo\":\"skip\",\"legendgroup\":\"min\",\"line\":{\"color\":\"rgba(255,255,255,0)\"},\"name\":\"0.95 quantile\",\"opacity\":0.15000000000000013,\"showlegend\":true,\"x\":[2020,2021,2022,2023,2024,2024,2023,2022,2021,2020],\"y\":[280.1335827636461,279.7530517298553,279.80516839027405,281.91064405441284,278.3077014358672,259.92602610588074,265.53763341903687,263.1862425804138,265.0597097873688,263.964955329895],\"type\":\"scatter\",\"xaxis\":\"x\",\"yaxis\":\"y\"},{\"fill\":\"toself\",\"fillcolor\":\"blue\",\"hoverinfo\":\"skip\",\"legendgroup\":\"min\",\"line\":{\"color\":\"rgba(255,255,255,0)\"},\"name\":\"1.0 quantile\",\"opacity\":0.10000000000000009,\"showlegend\":true,\"x\":[2020,2021,2022,2023,2024,2024,2023,2022,2021,2020],\"y\":[289.2981541951498,288.3800277709961,288.3150405883789,289.2997589111328,289.03235626220703,253.3418633937836,259.1567132472992,257.96736335754395,259.7838741540909,256.42542111873627],\"type\":\"scatter\",\"xaxis\":\"x\",\"yaxis\":\"y\"},{\"legendgroup\":\"max\",\"legendgrouptitle\":{\"text\":\"max\"},\"line\":{\"color\":\"red\"},\"mode\":\"lines\",\"name\":\"median\",\"showlegend\":false,\"x\":[2020,2021,2022,2023,2024],\"y\":[0.0028518835781152,0.0027047365123316,0.0026556442608125,0.0026576008196537,0.0030058001478513],\"type\":\"scatter\",\"xaxis\":\"x2\",\"yaxis\":\"y2\"},{\"fill\":\"toself\",\"fillcolor\":\"red\",\"hoverinfo\":\"skip\",\"legendgroup\":\"max\",\"line\":{\"color\":\"rgba(255,255,255,0)\"},\"name\":\"0.75 quantile\",\"opacity\":0.3500000000000001,\"showlegend\":false,\"x\":[2020,2021,2022,2023,2024,2024,2023,2022,2021,2020],\"y\":[0.0034693095803959,0.0031544376482085,0.0032210443910956,0.003321872603178,0.0035043785392904,0.002274238562666,0.0020163111686982,0.0021915079967911,0.0023334179804002,0.0023838146311367],\"type\":\"scatter\",\"xaxis\":\"x2\",\"yaxis\":\"y2\"},{\"fill\":\"toself\",\"fillcolor\":\"red\",\"hoverinfo\":\"skip\",\"legendgroup\":\"max\",\"line\":{\"color\":\"rgba(255,255,255,0)\"},\"name\":\"0.95 quantile\",\"opacity\":0.15000000000000013,\"showlegend\":false,\"x\":[2020,2021,2022,2023,2024,2024,2023,2022,2021,2020],\"y\":[0.0043638027533298,0.0037745878822187,0.0039267647580872,0.0040076204284569,0.0044169525095055,0.0016290034400299,0.001607918479193,0.0016123089784604,0.0019333961507072,0.001798332680476],\"type\":\"scatter\",\"xaxis\":\"x2\",\"yaxis\":\"y2\"},{\"fill\":\"toself\",\"fillcolor\":\"red\",\"hoverinfo\":\"skip\",\"legendgroup\":\"max\",\"line\":{\"color\":\"rgba(255,255,255,0)\"},\"name\":\"1.0 quantile\",\"opacity\":0.10000000000000009,\"showlegend\":false,\"x\":[2020,2021,2022,2023,2024,2024,2023,2022,2021,2020],\"y\":[0.0051998619339466,0.0053950815695712,0.0055638906225793,0.0052403685161202,0.0060095722496047,0.0001405715593136,0.000149351573782,0.0002314928453426,0.0001517411292311,0.0001065380143372],\"type\":\"scatter\",\"xaxis\":\"x2\",\"yaxis\":\"y2\"},{\"legendgroup\":\"min\",\"legendgrouptitle\":{\"text\":\"min\"},\"line\":{\"color\":\"blue\"},\"mode\":\"lines\",\"name\":\"median\",\"showlegend\":false,\"x\":[2020,2021,2022,2023,2024],\"y\":[-1.670288675482673e-08,-1.6434160060585512e-08,-1.5810709966651908e-08,-1.8599926931983652e-08,-1.5772769756949856e-08],\"type\":\"scatter\",\"xaxis\":\"x2\",\"yaxis\":\"y2\"},{\"fill\":\"toself\",\"fillcolor\":\"blue\",\"hoverinfo\":\"skip\",\"legendgroup\":\"min\",\"line\":{\"color\":\"rgba(255,255,255,0)\"},\"name\":\"0.75 quantile\",\"opacity\":0.3500000000000001,\"showlegend\":false,\"x\":[2020,2021,2022,2023,2024,2024,2023,2022,2021,2020],\"y\":[-1.5862904089761157e-08,-1.5732952975498977e-08,-1.5075917847440223e-08,-1.732033938495192e-08,-1.4943245751908307e-08,-1.6541289366012183e-08,-1.9706804632591002e-08,-1.6303992822486183e-08,-1.749799283246034e-08,-1.7520215445099296e-08],\"type\":\"scatter\",\"xaxis\":\"x2\",\"yaxis\":\"y2\"},{\"fill\":\"toself\",\"fillcolor\":\"blue\",\"hoverinfo\":\"skip\",\"legendgroup\":\"min\",\"line\":{\"color\":\"rgba(255,255,255,0)\"},\"name\":\"0.95 quantile\",\"opacity\":0.15000000000000013,\"showlegend\":false,\"x\":[2020,2021,2022,2023,2024,2024,2023,2022,2021,2020],\"y\":[-1.4489547509894353e-08,-1.4413489068942908e-08,-1.3630074402470882e-08,-1.5178712814423182e-08,-1.3852299751704322e-08,-1.7782442157665557e-08,-2.0606264250488948e-08,-1.7011825281798565e-08,-1.8785835803614148e-08,-1.8656657108095945e-08],\"type\":\"scatter\",\"xaxis\":\"x2\",\"yaxis\":\"y2\"},{\"fill\":\"toself\",\"fillcolor\":\"blue\",\"hoverinfo\":\"skip\",\"legendgroup\":\"min\",\"line\":{\"color\":\"rgba(255,255,255,0)\"},\"name\":\"1.0 quantile\",\"opacity\":0.10000000000000009,\"showlegend\":false,\"x\":[2020,2021,2022,2023,2024,2024,2023,2022,2021,2020],\"y\":[-6.8399187152380575e-09,-5.63141799858613e-09,-9.201585271512158e-09,-1.0374426206993805e-08,-7.338838176051965e-09,-1.9990984867490624e-08,-2.3633376144971407e-08,-1.8363394360676463e-08,-2.1878705069866555e-08,-2.1033687236382548e-08],\"type\":\"scatter\",\"xaxis\":\"x2\",\"yaxis\":\"y2\"},{\"legendgroup\":\"max\",\"legendgrouptitle\":{\"text\":\"max\"},\"line\":{\"color\":\"red\"},\"mode\":\"lines\",\"name\":\"median\",\"showlegend\":false,\"x\":[2020,2021,2022,2023,2024],\"y\":[286.3350522518158,286.0478849411011,285.9305391311645,286.1703437566757,285.80139923095703],\"type\":\"scatter\",\"xaxis\":\"x3\",\"yaxis\":\"y3\"},{\"fill\":\"toself\",\"fillcolor\":\"red\",\"hoverinfo\":\"skip\",\"legendgroup\":\"max\",\"line\":{\"color\":\"rgba(255,255,255,0)\"},\"name\":\"0.75 quantile\",\"opacity\":0.3500000000000001,\"showlegend\":false,\"x\":[2020,2021,2022,2023,2024,2024,2023,2022,2021,2020],\"y\":[287.9288855791092,287.46037542819977,287.33388245105743,287.8738342523575,287.0864899882587,283.3780781030655,284.4173812866211,283.6134892954421,284.7801847457886,283.18338549137115],\"type\":\"scatter\",\"xaxis\":\"x3\",\"yaxis\":\"y3\"},{\"fill\":\"toself\",\"fillcolor\":\"red\",\"hoverinfo\":\"skip\",\"legendgroup\":\"max\",\"line\":{\"color\":\"rgba(255,255,255,0)\"},\"name\":\"0.95 quantile\",\"opacity\":0.15000000000000013,\"showlegend\":false,\"x\":[2020,2021,2022,2023,2024,2024,2023,2022,2021,2020],\"y\":[290.17832922935486,289.2455071668594,290.0264625112899,289.908705618922,289.1126855611801,275.88943910598755,280.2771989107132,279.862398147583,281.00051283836365,277.9800897836685],\"type\":\"scatter\",\"xaxis\":\"x3\",\"yaxis\":\"y3\"},{\"fill\":\"toself\",\"fillcolor\":\"red\",\"hoverinfo\":\"skip\",\"legendgroup\":\"max\",\"line\":{\"color\":\"rgba(255,255,255,0)\"},\"name\":\"1.0 quantile\",\"opacity\":0.10000000000000009,\"showlegend\":false,\"x\":[2020,2021,2022,2023,2024,2024,2023,2022,2021,2020],\"y\":[292.5396194458008,291.3441619873047,292.09962738967926,292.97655232747394,291.662109375,272.7497022151947,275.81312131881714,274.97528064250946,275.1162166595459,273.34975278377533],\"type\":\"scatter\",\"xaxis\":\"x3\",\"yaxis\":\"y3\"},{\"legendgroup\":\"min\",\"legendgrouptitle\":{\"text\":\"min\"},\"line\":{\"color\":\"blue\"},\"mode\":\"lines\",\"name\":\"median\",\"showlegend\":false,\"x\":[2020,2021,2022,2023,2024],\"y\":[270.102388381958,269.73387241363525,269.7520135641098,270.00171712576184,269.49945187568665],\"type\":\"scatter\",\"xaxis\":\"x3\",\"yaxis\":\"y3\"},{\"fill\":\"toself\",\"fillcolor\":\"blue\",\"hoverinfo\":\"skip\",\"legendgroup\":\"min\",\"line\":{\"color\":\"rgba(255,255,255,0)\"},\"name\":\"0.75 quantile\",\"opacity\":0.3500000000000001,\"showlegend\":false,\"x\":[2020,2021,2022,2023,2024,2024,2023,2022,2021,2020],\"y\":[272.12894797325134,271.5739368200302,271.9600967168808,273.3913601807152,271.34923112901754,265.4862577915192,266.2472839355469,266.3958468437195,267.6497836112976,267.3557143211365],\"type\":\"scatter\",\"xaxis\":\"x3\",\"yaxis\":\"y3\"},{\"fill\":\"toself\",\"fillcolor\":\"blue\",\"hoverinfo\":\"skip\",\"legendgroup\":\"min\",\"line\":{\"color\":\"rgba(255,255,255,0)\"},\"name\":\"0.95 quantile\",\"opacity\":0.15000000000000013,\"showlegend\":false,\"x\":[2020,2021,2022,2023,2024,2024,2023,2022,2021,2020],\"y\":[275.73529929009726,274.2103308439255,275.0981267343336,275.59338533878326,274.1005966668532,256.9050452709198,262.4679868221283,260.45647621154785,262.2264041900635,260.8155641555786],\"type\":\"scatter\",\"xaxis\":\"x3\",\"yaxis\":\"y3\"},{\"fill\":\"toself\",\"fillcolor\":\"blue\",\"hoverinfo\":\"skip\",\"legendgroup\":\"min\",\"line\":{\"color\":\"rgba(255,255,255,0)\"},\"name\":\"1.0 quantile\",\"opacity\":0.10000000000000009,\"showlegend\":false,\"x\":[2020,2021,2022,2023,2024,2024,2023,2022,2021,2020],\"y\":[281.42604064941406,282.2530339558919,282.5514246622721,283.6837793986003,282.4129765828451,250.6757698059082,256.3046809434891,255.58998894691467,255.99949967861176,254.49768722057345],\"type\":\"scatter\",\"xaxis\":\"x3\",\"yaxis\":\"y3\"},{\"legendgroup\":\"max\",\"legendgrouptitle\":{\"text\":\"max\"},\"line\":{\"color\":\"red\"},\"mode\":\"lines\",\"name\":\"median\",\"showlegend\":false,\"x\":[2020,2021,2022,2023,2024],\"y\":[0.3891597986221313,0.3961641788482666,0.3797526343746511,0.3882910821735525,0.4091737270355224],\"type\":\"scatter\",\"xaxis\":\"x4\",\"yaxis\":\"y4\"},{\"fill\":\"toself\",\"fillcolor\":\"red\",\"hoverinfo\":\"skip\",\"legendgroup\":\"max\",\"line\":{\"color\":\"rgba(255,255,255,0)\"},\"name\":\"0.75 quantile\",\"opacity\":0.3500000000000001,\"showlegend\":false,\"x\":[2020,2021,2022,2023,2024,2024,2023,2022,2021,2020],\"y\":[0.4207072257995605,0.4223420619964599,0.4082173109054565,0.4199467897415161,0.4320472478866577,0.3592984951254517,0.3066195249557495,0.3270587921142578,0.3349728584289551,0.3525724866920878],\"type\":\"scatter\",\"xaxis\":\"x4\",\"yaxis\":\"y4\"},{\"fill\":\"toself\",\"fillcolor\":\"red\",\"hoverinfo\":\"skip\",\"legendgroup\":\"max\",\"line\":{\"color\":\"rgba(255,255,255,0)\"},\"name\":\"0.95 quantile\",\"opacity\":0.15000000000000013,\"showlegend\":false,\"x\":[2020,2021,2022,2023,2024,2024,2023,2022,2021,2020],\"y\":[0.5030364990234375,0.5131884813308716,0.51161789894104,0.5001610517501831,0.5028825998306274,0.2407331466674804,0.230259895324707,0.2725268602371216,0.2715253829956054,0.2826842069625854],\"type\":\"scatter\",\"xaxis\":\"x4\",\"yaxis\":\"y4\"},{\"fill\":\"toself\",\"fillcolor\":\"red\",\"hoverinfo\":\"skip\",\"legendgroup\":\"max\",\"line\":{\"color\":\"rgba(255,255,255,0)\"},\"name\":\"1.0 quantile\",\"opacity\":0.10000000000000009,\"showlegend\":false,\"x\":[2020,2021,2022,2023,2024,2024,2023,2022,2021,2020],\"y\":[0.7137213945388794,0.7004417934328866,0.6986441593641803,0.6937694768095654,0.699395343599414,0.0185322761535644,0.0347650051116943,0.0442746877670288,0.0602508783340454,0.0779476165771484],\"type\":\"scatter\",\"xaxis\":\"x4\",\"yaxis\":\"y4\"},{\"legendgroup\":\"min\",\"legendgrouptitle\":{\"text\":\"min\"},\"line\":{\"color\":\"blue\"},\"mode\":\"lines\",\"name\":\"median\",\"showlegend\":false,\"x\":[2020,2021,2022,2023,2024],\"y\":[0.2827396627942347,0.304628849029541,0.2925260066986084,0.2965430021286011,0.3260109424591064],\"type\":\"scatter\",\"xaxis\":\"x4\",\"yaxis\":\"y4\"},{\"fill\":\"toself\",\"fillcolor\":\"blue\",\"hoverinfo\":\"skip\",\"legendgroup\":\"min\",\"line\":{\"color\":\"rgba(255,255,255,0)\"},\"name\":\"0.75 quantile\",\"opacity\":0.3500000000000001,\"showlegend\":false,\"x\":[2020,2021,2022,2023,2024,2024,2023,2022,2021,2020],\"y\":[0.3228842939278085,0.3359807729721069,0.3242839727956853,0.3373006582260132,0.3561210632324219,0.2654968500137329,0.2187124490737915,0.2257912421422896,0.2405908107757568,0.2405972319813195],\"type\":\"scatter\",\"xaxis\":\"x4\",\"yaxis\":\"y4\"},{\"fill\":\"toself\",\"fillcolor\":\"blue\",\"hoverinfo\":\"skip\",\"legendgroup\":\"min\",\"line\":{\"color\":\"rgba(255,255,255,0)\"},\"name\":\"0.95 quantile\",\"opacity\":0.15000000000000013,\"showlegend\":false,\"x\":[2020,2021,2022,2023,2024,2024,2023,2022,2021,2020],\"y\":[0.4398893117904663,0.4342536926269531,0.426715612411499,0.4343708753585815,0.4265878200531006,0.1974799633026123,0.1698173284530639,0.1958448886871338,0.1876296997070312,0.2014950513839721],\"type\":\"scatter\",\"xaxis\":\"x4\",\"yaxis\":\"y4\"},{\"fill\":\"toself\",\"fillcolor\":\"blue\",\"hoverinfo\":\"skip\",\"legendgroup\":\"min\",\"line\":{\"color\":\"rgba(255,255,255,0)\"},\"name\":\"1.0 quantile\",\"opacity\":0.10000000000000009,\"showlegend\":false,\"x\":[2020,2021,2022,2023,2024,2024,2023,2022,2021,2020],\"y\":[0.6452986001968384,0.6351132392883301,0.6129360198974609,0.6234936714172363,0.6252748391716108,0.017966866493225,0.0339243412017822,0.0433831214904785,0.0596439838409423,0.0762571096420288],\"type\":\"scatter\",\"xaxis\":\"x4\",\"yaxis\":\"y4\"}],                        {\"template\":{\"data\":{\"histogram2dcontour\":[{\"type\":\"histogram2dcontour\",\"colorbar\":{\"outlinewidth\":0,\"ticks\":\"\"},\"colorscale\":[[0.0,\"#0d0887\"],[0.1111111111111111,\"#46039f\"],[0.2222222222222222,\"#7201a8\"],[0.3333333333333333,\"#9c179e\"],[0.4444444444444444,\"#bd3786\"],[0.5555555555555556,\"#d8576b\"],[0.6666666666666666,\"#ed7953\"],[0.7777777777777778,\"#fb9f3a\"],[0.8888888888888888,\"#fdca26\"],[1.0,\"#f0f921\"]]}],\"choropleth\":[{\"type\":\"choropleth\",\"colorbar\":{\"outlinewidth\":0,\"ticks\":\"\"}}],\"histogram2d\":[{\"type\":\"histogram2d\",\"colorbar\":{\"outlinewidth\":0,\"ticks\":\"\"},\"colorscale\":[[0.0,\"#0d0887\"],[0.1111111111111111,\"#46039f\"],[0.2222222222222222,\"#7201a8\"],[0.3333333333333333,\"#9c179e\"],[0.4444444444444444,\"#bd3786\"],[0.5555555555555556,\"#d8576b\"],[0.6666666666666666,\"#ed7953\"],[0.7777777777777778,\"#fb9f3a\"],[0.8888888888888888,\"#fdca26\"],[1.0,\"#f0f921\"]]}],\"heatmap\":[{\"type\":\"heatmap\",\"colorbar\":{\"outlinewidth\":0,\"ticks\":\"\"},\"colorscale\":[[0.0,\"#0d0887\"],[0.1111111111111111,\"#46039f\"],[0.2222222222222222,\"#7201a8\"],[0.3333333333333333,\"#9c179e\"],[0.4444444444444444,\"#bd3786\"],[0.5555555555555556,\"#d8576b\"],[0.6666666666666666,\"#ed7953\"],[0.7777777777777778,\"#fb9f3a\"],[0.8888888888888888,\"#fdca26\"],[1.0,\"#f0f921\"]]}],\"heatmapgl\":[{\"type\":\"heatmapgl\",\"colorbar\":{\"outlinewidth\":0,\"ticks\":\"\"},\"colorscale\":[[0.0,\"#0d0887\"],[0.1111111111111111,\"#46039f\"],[0.2222222222222222,\"#7201a8\"],[0.3333333333333333,\"#9c179e\"],[0.4444444444444444,\"#bd3786\"],[0.5555555555555556,\"#d8576b\"],[0.6666666666666666,\"#ed7953\"],[0.7777777777777778,\"#fb9f3a\"],[0.8888888888888888,\"#fdca26\"],[1.0,\"#f0f921\"]]}],\"contourcarpet\":[{\"type\":\"contourcarpet\",\"colorbar\":{\"outlinewidth\":0,\"ticks\":\"\"}}],\"contour\":[{\"type\":\"contour\",\"colorbar\":{\"outlinewidth\":0,\"ticks\":\"\"},\"colorscale\":[[0.0,\"#0d0887\"],[0.1111111111111111,\"#46039f\"],[0.2222222222222222,\"#7201a8\"],[0.3333333333333333,\"#9c179e\"],[0.4444444444444444,\"#bd3786\"],[0.5555555555555556,\"#d8576b\"],[0.6666666666666666,\"#ed7953\"],[0.7777777777777778,\"#fb9f3a\"],[0.8888888888888888,\"#fdca26\"],[1.0,\"#f0f921\"]]}],\"surface\":[{\"type\":\"surface\",\"colorbar\":{\"outlinewidth\":0,\"ticks\":\"\"},\"colorscale\":[[0.0,\"#0d0887\"],[0.1111111111111111,\"#46039f\"],[0.2222222222222222,\"#7201a8\"],[0.3333333333333333,\"#9c179e\"],[0.4444444444444444,\"#bd3786\"],[0.5555555555555556,\"#d8576b\"],[0.6666666666666666,\"#ed7953\"],[0.7777777777777778,\"#fb9f3a\"],[0.8888888888888888,\"#fdca26\"],[1.0,\"#f0f921\"]]}],\"mesh3d\":[{\"type\":\"mesh3d\",\"colorbar\":{\"outlinewidth\":0,\"ticks\":\"\"}}],\"scatter\":[{\"fillpattern\":{\"fillmode\":\"overlay\",\"size\":10,\"solidity\":0.2},\"type\":\"scatter\"}],\"parcoords\":[{\"type\":\"parcoords\",\"line\":{\"colorbar\":{\"outlinewidth\":0,\"ticks\":\"\"}}}],\"scatterpolargl\":[{\"type\":\"scatterpolargl\",\"marker\":{\"colorbar\":{\"outlinewidth\":0,\"ticks\":\"\"}}}],\"bar\":[{\"error_x\":{\"color\":\"#2a3f5f\"},\"error_y\":{\"color\":\"#2a3f5f\"},\"marker\":{\"line\":{\"color\":\"#E5ECF6\",\"width\":0.5},\"pattern\":{\"fillmode\":\"overlay\",\"size\":10,\"solidity\":0.2}},\"type\":\"bar\"}],\"scattergeo\":[{\"type\":\"scattergeo\",\"marker\":{\"colorbar\":{\"outlinewidth\":0,\"ticks\":\"\"}}}],\"scatterpolar\":[{\"type\":\"scatterpolar\",\"marker\":{\"colorbar\":{\"outlinewidth\":0,\"ticks\":\"\"}}}],\"histogram\":[{\"marker\":{\"pattern\":{\"fillmode\":\"overlay\",\"size\":10,\"solidity\":0.2}},\"type\":\"histogram\"}],\"scattergl\":[{\"type\":\"scattergl\",\"marker\":{\"colorbar\":{\"outlinewidth\":0,\"ticks\":\"\"}}}],\"scatter3d\":[{\"type\":\"scatter3d\",\"line\":{\"colorbar\":{\"outlinewidth\":0,\"ticks\":\"\"}},\"marker\":{\"colorbar\":{\"outlinewidth\":0,\"ticks\":\"\"}}}],\"scattermapbox\":[{\"type\":\"scattermapbox\",\"marker\":{\"colorbar\":{\"outlinewidth\":0,\"ticks\":\"\"}}}],\"scatterternary\":[{\"type\":\"scatterternary\",\"marker\":{\"colorbar\":{\"outlinewidth\":0,\"ticks\":\"\"}}}],\"scattercarpet\":[{\"type\":\"scattercarpet\",\"marker\":{\"colorbar\":{\"outlinewidth\":0,\"ticks\":\"\"}}}],\"carpet\":[{\"aaxis\":{\"endlinecolor\":\"#2a3f5f\",\"gridcolor\":\"white\",\"linecolor\":\"white\",\"minorgridcolor\":\"white\",\"startlinecolor\":\"#2a3f5f\"},\"baxis\":{\"endlinecolor\":\"#2a3f5f\",\"gridcolor\":\"white\",\"linecolor\":\"white\",\"minorgridcolor\":\"white\",\"startlinecolor\":\"#2a3f5f\"},\"type\":\"carpet\"}],\"table\":[{\"cells\":{\"fill\":{\"color\":\"#EBF0F8\"},\"line\":{\"color\":\"white\"}},\"header\":{\"fill\":{\"color\":\"#C8D4E3\"},\"line\":{\"color\":\"white\"}},\"type\":\"table\"}],\"barpolar\":[{\"marker\":{\"line\":{\"color\":\"#E5ECF6\",\"width\":0.5},\"pattern\":{\"fillmode\":\"overlay\",\"size\":10,\"solidity\":0.2}},\"type\":\"barpolar\"}],\"pie\":[{\"automargin\":true,\"type\":\"pie\"}]},\"layout\":{\"autotypenumbers\":\"strict\",\"colorway\":[\"#636efa\",\"#EF553B\",\"#00cc96\",\"#ab63fa\",\"#FFA15A\",\"#19d3f3\",\"#FF6692\",\"#B6E880\",\"#FF97FF\",\"#FECB52\"],\"font\":{\"color\":\"#2a3f5f\"},\"hovermode\":\"closest\",\"hoverlabel\":{\"align\":\"left\"},\"paper_bgcolor\":\"white\",\"plot_bgcolor\":\"#E5ECF6\",\"polar\":{\"bgcolor\":\"#E5ECF6\",\"angularaxis\":{\"gridcolor\":\"white\",\"linecolor\":\"white\",\"ticks\":\"\"},\"radialaxis\":{\"gridcolor\":\"white\",\"linecolor\":\"white\",\"ticks\":\"\"}},\"ternary\":{\"bgcolor\":\"#E5ECF6\",\"aaxis\":{\"gridcolor\":\"white\",\"linecolor\":\"white\",\"ticks\":\"\"},\"baxis\":{\"gridcolor\":\"white\",\"linecolor\":\"white\",\"ticks\":\"\"},\"caxis\":{\"gridcolor\":\"white\",\"linecolor\":\"white\",\"ticks\":\"\"}},\"coloraxis\":{\"colorbar\":{\"outlinewidth\":0,\"ticks\":\"\"}},\"colorscale\":{\"sequential\":[[0.0,\"#0d0887\"],[0.1111111111111111,\"#46039f\"],[0.2222222222222222,\"#7201a8\"],[0.3333333333333333,\"#9c179e\"],[0.4444444444444444,\"#bd3786\"],[0.5555555555555556,\"#d8576b\"],[0.6666666666666666,\"#ed7953\"],[0.7777777777777778,\"#fb9f3a\"],[0.8888888888888888,\"#fdca26\"],[1.0,\"#f0f921\"]],\"sequentialminus\":[[0.0,\"#0d0887\"],[0.1111111111111111,\"#46039f\"],[0.2222222222222222,\"#7201a8\"],[0.3333333333333333,\"#9c179e\"],[0.4444444444444444,\"#bd3786\"],[0.5555555555555556,\"#d8576b\"],[0.6666666666666666,\"#ed7953\"],[0.7777777777777778,\"#fb9f3a\"],[0.8888888888888888,\"#fdca26\"],[1.0,\"#f0f921\"]],\"diverging\":[[0,\"#8e0152\"],[0.1,\"#c51b7d\"],[0.2,\"#de77ae\"],[0.3,\"#f1b6da\"],[0.4,\"#fde0ef\"],[0.5,\"#f7f7f7\"],[0.6,\"#e6f5d0\"],[0.7,\"#b8e186\"],[0.8,\"#7fbc41\"],[0.9,\"#4d9221\"],[1,\"#276419\"]]},\"xaxis\":{\"gridcolor\":\"white\",\"linecolor\":\"white\",\"ticks\":\"\",\"title\":{\"standoff\":15},\"zerolinecolor\":\"white\",\"automargin\":true,\"zerolinewidth\":2},\"yaxis\":{\"gridcolor\":\"white\",\"linecolor\":\"white\",\"ticks\":\"\",\"title\":{\"standoff\":15},\"zerolinecolor\":\"white\",\"automargin\":true,\"zerolinewidth\":2},\"scene\":{\"xaxis\":{\"backgroundcolor\":\"#E5ECF6\",\"gridcolor\":\"white\",\"linecolor\":\"white\",\"showbackground\":true,\"ticks\":\"\",\"zerolinecolor\":\"white\",\"gridwidth\":2},\"yaxis\":{\"backgroundcolor\":\"#E5ECF6\",\"gridcolor\":\"white\",\"linecolor\":\"white\",\"showbackground\":true,\"ticks\":\"\",\"zerolinecolor\":\"white\",\"gridwidth\":2},\"zaxis\":{\"backgroundcolor\":\"#E5ECF6\",\"gridcolor\":\"white\",\"linecolor\":\"white\",\"showbackground\":true,\"ticks\":\"\",\"zerolinecolor\":\"white\",\"gridwidth\":2}},\"shapedefaults\":{\"line\":{\"color\":\"#2a3f5f\"}},\"annotationdefaults\":{\"arrowcolor\":\"#2a3f5f\",\"arrowhead\":0,\"arrowwidth\":1},\"geo\":{\"bgcolor\":\"white\",\"landcolor\":\"#E5ECF6\",\"subunitcolor\":\"white\",\"showland\":true,\"showlakes\":true,\"lakecolor\":\"white\"},\"title\":{\"x\":0.05},\"mapbox\":{\"style\":\"light\"}}},\"xaxis\":{\"anchor\":\"y\",\"domain\":[0.0,0.425],\"matches\":\"x3\",\"showticklabels\":false,\"title\":{}},\"yaxis\":{\"anchor\":\"x\",\"domain\":[0.525,1.0],\"title\":{\"text\":\"temperature_2m\"}},\"xaxis2\":{\"anchor\":\"y2\",\"domain\":[0.575,1.0],\"matches\":\"x3\",\"showticklabels\":false,\"title\":{}},\"yaxis2\":{\"anchor\":\"x2\",\"domain\":[0.525,1.0],\"title\":{\"text\":\"total_precipitation\"}},\"xaxis3\":{\"anchor\":\"y3\",\"domain\":[0.0,0.425],\"title\":{\"text\":\"year\"}},\"yaxis3\":{\"anchor\":\"x3\",\"domain\":[0.0,0.475],\"title\":{\"text\":\"dewpoint_temperature_2m\"}},\"xaxis4\":{\"anchor\":\"y4\",\"domain\":[0.575,1.0],\"matches\":\"x3\",\"title\":{\"text\":\"year\"}},\"yaxis4\":{\"anchor\":\"x4\",\"domain\":[0.0,0.475],\"title\":{\"text\":\"volumetric_soil_water_layer_2\"}},\"height\":600},                        {\"responsive\": true}                    ).then(function(){\n",
       "                            \n",
       "var gd = document.getElementById('5ca4abad-ebc5-4efa-ba88-e48451a00f25');\n",
       "var x = new MutationObserver(function (mutations, observer) {{\n",
       "        var display = window.getComputedStyle(gd).display;\n",
       "        if (!display || display === 'none') {{\n",
       "            console.log([gd, 'removed!']);\n",
       "            Plotly.purge(gd);\n",
       "            observer.disconnect();\n",
       "        }}\n",
       "}});\n",
       "\n",
       "// Listen for the removal of the full notebook cells\n",
       "var notebookContainer = gd.closest('#notebook-container');\n",
       "if (notebookContainer) {{\n",
       "    x.observe(notebookContainer, {childList: true});\n",
       "}}\n",
       "\n",
       "// Listen for the clearing of the current output cell\n",
       "var outputEl = gd.closest('.output');\n",
       "if (outputEl) {{\n",
       "    x.observe(outputEl, {childList: true});\n",
       "}}\n",
       "\n",
       "                        })                };                });            </script>        </div>"
      ]
     },
     "metadata": {},
     "output_type": "display_data"
    }
   ],
   "source": [
    "weathers_df = pd.concat(weathers)\n",
    "nrows, ncols = 2, 2\n",
    "fig = make_subplots(\n",
    "    rows=nrows, cols=ncols,\n",
    "    shared_xaxes='all',\n",
    "    vertical_spacing=0.05,\n",
    "    horizontal_spacing=0.15\n",
    ")\n",
    "\n",
    "yearly_weather = weathers_df.groupby('year')\n",
    "x = weathers_df['year'].unique().tolist()\n",
    "\n",
    "for i, variable in enumerate(select_variables):\n",
    "    position = dict(row=(i//ncols)+1, col=(i%ncols)+1)\n",
    "    for color, minmax in zip(['red', 'blue'], ['max', 'min']):\n",
    "        median = yearly_weather[f'{variable}_{minmax}'].agg('median')\n",
    "        fig.add_trace(go.Scatter(\n",
    "            x=x,\n",
    "            y=median,\n",
    "            line_color=color,\n",
    "            mode='lines',\n",
    "            legendgroup=minmax,\n",
    "            legendgrouptitle_text=minmax,\n",
    "            name='median',\n",
    "            showlegend=True if i == 0 else False\n",
    "        ), **position)\n",
    "        for quantile in [0.75, 0.95, 1.0]:\n",
    "            upper_quantile = yearly_weather[f'{variable}_{minmax}'].quantile(quantile)\n",
    "            lower_quantile = yearly_weather[f'{variable}_{minmax}'].quantile(1-quantile)\n",
    "            fig.add_trace(go.Scatter(\n",
    "                x=x+x[::-1],\n",
    "                y=pd.concat([upper_quantile, lower_quantile[::-1]]),\n",
    "                fill='toself',\n",
    "                fillcolor=color,\n",
    "                opacity=1.1-quantile,\n",
    "                line_color='rgba(255,255,255,0)',\n",
    "                hoverinfo='skip',\n",
    "                legendgroup=minmax,\n",
    "                name=f'{quantile} quantile',\n",
    "                showlegend=True if i == 0 else False\n",
    "            ), **position)\n",
    "    fig.update_yaxes(title=variable, **position)\n",
    "    fig.update_xaxes(title='year' if i > 1 else None, **position)\n",
    "\n",
    "fig.update_layout(\n",
    "    height=600\n",
    ")\n",
    "fig.write_image(figures_dir.joinpath('selected_variables_stats.pdf'))\n",
    "fig"
   ]
  },
  {
   "cell_type": "code",
   "execution_count": 10,
   "id": "b338c2a0-5c4e-4c59-acd4-25f2a07358a7",
   "metadata": {},
   "outputs": [
    {
     "data": {
      "text/html": [
       "\n",
       "            <style>\n",
       "                .geemap-dark {\n",
       "                    --jp-widgets-color: white;\n",
       "                    --jp-widgets-label-color: white;\n",
       "                    --jp-ui-font-color1: white;\n",
       "                    --jp-layout-color2: #454545;\n",
       "                    background-color: #383838;\n",
       "                }\n",
       "\n",
       "                .geemap-dark .jupyter-button {\n",
       "                    --jp-layout-color3: #383838;\n",
       "                }\n",
       "\n",
       "                .geemap-colab {\n",
       "                    background-color: var(--colab-primary-surface-color, white);\n",
       "                }\n",
       "\n",
       "                .geemap-colab .jupyter-button {\n",
       "                    --jp-layout-color3: var(--colab-primary-surface-color, white);\n",
       "                }\n",
       "            </style>\n",
       "            "
      ],
      "text/plain": [
       "<IPython.core.display.HTML object>"
      ]
     },
     "metadata": {},
     "output_type": "display_data"
    },
    {
     "data": {
      "application/vnd.plotly.v1+json": {
       "config": {
        "plotlyServerURL": "https://plot.ly"
       },
       "data": [
        {
         "coloraxis": "coloraxis",
         "hovertemplate": "x: %{x}<br>y: %{y}<br>Pearson<br>coef.: %{z}<extra></extra>",
         "name": "0",
         "texttemplate": "%{z}",
         "type": "heatmap",
         "x": [
          "Acer",
          "Betula",
          "Fagus",
          "Fraxinus",
          "Picea",
          "Pinus",
          "Quercus"
         ],
         "xaxis": "x",
         "y": [
          "temperature_2m_max",
          "temperature_2m_min",
          "total_precipitation_max",
          "total_precipitation_min",
          "dewpoint_temperature_2m_max",
          "dewpoint_temperature_2m_min",
          "volumetric_soil_water_layer_2_max",
          "volumetric_soil_water_layer_2_min"
         ],
         "yaxis": "y",
         "z": [
          [
           0.01,
           0.04,
           -0.04,
           0,
           0.06,
           0.07,
           -0.05
          ],
          [
           0.02,
           0.06,
           -0.02,
           0,
           0.08,
           0.06,
           -0.04
          ],
          [
           0.02,
           0.01,
           -0.01,
           0,
           0.03,
           0,
           -0.01
          ],
          [
           0,
           0.03,
           0,
           -0.02,
           0.07,
           0.02,
           -0.05
          ],
          [
           0,
           0.04,
           -0.03,
           0,
           0.13,
           0.06,
           -0.08
          ],
          [
           0.01,
           0.04,
           -0.02,
           0,
           0.08,
           0.04,
           -0.05
          ],
          [
           -0.01,
           0.01,
           0,
           -0.02,
           0.08,
           -0.02,
           -0.03
          ],
          [
           -0.01,
           -0.02,
           0.02,
           -0.01,
           0.03,
           -0.05,
           -0.01
          ]
         ]
        }
       ],
       "frames": [
        {
         "data": [
          {
           "coloraxis": "coloraxis",
           "name": "0",
           "texttemplate": "%{z}",
           "type": "heatmap",
           "x": [
            "Acer",
            "Betula",
            "Fagus",
            "Fraxinus",
            "Picea",
            "Pinus",
            "Quercus"
           ],
           "y": [
            "temperature_2m_max",
            "temperature_2m_min",
            "total_precipitation_max",
            "total_precipitation_min",
            "dewpoint_temperature_2m_max",
            "dewpoint_temperature_2m_min",
            "volumetric_soil_water_layer_2_max",
            "volumetric_soil_water_layer_2_min"
           ],
           "z": [
            [
             0.01,
             0.04,
             -0.04,
             0,
             0.06,
             0.07,
             -0.05
            ],
            [
             0.02,
             0.06,
             -0.02,
             0,
             0.08,
             0.06,
             -0.04
            ],
            [
             0.02,
             0.01,
             -0.01,
             0,
             0.03,
             0,
             -0.01
            ],
            [
             0,
             0.03,
             0,
             -0.02,
             0.07,
             0.02,
             -0.05
            ],
            [
             0,
             0.04,
             -0.03,
             0,
             0.13,
             0.06,
             -0.08
            ],
            [
             0.01,
             0.04,
             -0.02,
             0,
             0.08,
             0.04,
             -0.05
            ],
            [
             -0.01,
             0.01,
             0,
             -0.02,
             0.08,
             -0.02,
             -0.03
            ],
            [
             -0.01,
             -0.02,
             0.02,
             -0.01,
             0.03,
             -0.05,
             -0.01
            ]
           ]
          }
         ],
         "layout": {
          "coloraxis": {
           "cmax": 0.13,
           "cmin": -0.13,
           "colorbar": {
            "title": {
             "text": "Pearson<br>coef."
            }
           },
           "colorscale": [
            [
             0,
             "rgb(5,48,97)"
            ],
            [
             0.1,
             "rgb(33,102,172)"
            ],
            [
             0.2,
             "rgb(67,147,195)"
            ],
            [
             0.3,
             "rgb(146,197,222)"
            ],
            [
             0.4,
             "rgb(209,229,240)"
            ],
            [
             0.5,
             "rgb(247,247,247)"
            ],
            [
             0.6,
             "rgb(253,219,199)"
            ],
            [
             0.7,
             "rgb(244,165,130)"
            ],
            [
             0.8,
             "rgb(214,96,77)"
            ],
            [
             0.9,
             "rgb(178,24,43)"
            ],
            [
             1,
             "rgb(103,0,31)"
            ]
           ]
          },
          "height": 500,
          "title": {
           "text": "Annual correlation heatmap"
          },
          "yaxis": {
           "autorange": "reversed"
          }
         },
         "name": "0"
        },
        {
         "data": [
          {
           "coloraxis": "coloraxis",
           "name": "1",
           "texttemplate": "%{z}",
           "type": "heatmap",
           "x": [
            "Acer",
            "Betula",
            "Fagus",
            "Fraxinus",
            "Picea",
            "Pinus",
            "Quercus"
           ],
           "y": [
            "temperature_2m_max",
            "temperature_2m_min",
            "total_precipitation_max",
            "total_precipitation_min",
            "dewpoint_temperature_2m_max",
            "dewpoint_temperature_2m_min",
            "volumetric_soil_water_layer_2_max",
            "volumetric_soil_water_layer_2_min"
           ],
           "z": [
            [
             -0.03,
             -0.09,
             0.03,
             -0.01,
             -0.1,
             -0.06,
             0.05
            ],
            [
             -0.02,
             -0.07,
             0.02,
             -0.01,
             -0.09,
             -0.06,
             0.08
            ],
            [
             -0.02,
             -0.03,
             0.02,
             -0.02,
             -0.03,
             -0.05,
             0.05
            ],
            [
             -0.01,
             0.01,
             0.02,
             -0.01,
             -0.01,
             0,
             -0.03
            ],
            [
             -0.02,
             -0.08,
             0.05,
             -0.02,
             -0.1,
             -0.09,
             0.09
            ],
            [
             -0.02,
             -0.02,
             0.02,
             -0.01,
             -0.02,
             -0.05,
             0.05
            ],
            [
             -0.02,
             -0.01,
             0,
             -0.02,
             -0.02,
             -0.04,
             0.05
            ],
            [
             -0.01,
             0,
             -0.02,
             0,
             0,
             -0.01,
             0.03
            ]
           ]
          }
         ],
         "layout": {
          "coloraxis": {
           "cmax": 0.13,
           "cmin": -0.13,
           "colorbar": {
            "title": {
             "text": "Pearson<br>coef."
            }
           },
           "colorscale": [
            [
             0,
             "rgb(5,48,97)"
            ],
            [
             0.1,
             "rgb(33,102,172)"
            ],
            [
             0.2,
             "rgb(67,147,195)"
            ],
            [
             0.3,
             "rgb(146,197,222)"
            ],
            [
             0.4,
             "rgb(209,229,240)"
            ],
            [
             0.5,
             "rgb(247,247,247)"
            ],
            [
             0.6,
             "rgb(253,219,199)"
            ],
            [
             0.7,
             "rgb(244,165,130)"
            ],
            [
             0.8,
             "rgb(214,96,77)"
            ],
            [
             0.9,
             "rgb(178,24,43)"
            ],
            [
             1,
             "rgb(103,0,31)"
            ]
           ]
          },
          "height": 500,
          "title": {
           "text": "Annual correlation heatmap"
          },
          "yaxis": {
           "autorange": "reversed"
          }
         },
         "name": "1"
        },
        {
         "data": [
          {
           "coloraxis": "coloraxis",
           "name": "2",
           "texttemplate": "%{z}",
           "type": "heatmap",
           "x": [
            "Acer",
            "Betula",
            "Fagus",
            "Fraxinus",
            "Picea",
            "Pinus",
            "Quercus"
           ],
           "y": [
            "temperature_2m_max",
            "temperature_2m_min",
            "total_precipitation_max",
            "total_precipitation_min",
            "dewpoint_temperature_2m_max",
            "dewpoint_temperature_2m_min",
            "volumetric_soil_water_layer_2_max",
            "volumetric_soil_water_layer_2_min"
           ],
           "z": [
            [
             -0.01,
             -0.04,
             0.03,
             0,
             -0.03,
             -0.04,
             0
            ],
            [
             -0.01,
             0.07,
             -0.02,
             -0.03,
             0.06,
             0.07,
             -0.05
            ],
            [
             0.02,
             0.04,
             0,
             0.01,
             -0.02,
             0.01,
             0.02
            ],
            [
             -0.01,
             -0.04,
             0.03,
             0.01,
             -0.01,
             -0.04,
             0
            ],
            [
             -0.03,
             -0.01,
             -0.01,
             -0.02,
             0.05,
             0,
             -0.03
            ],
            [
             0,
             0.07,
             -0.03,
             -0.03,
             0.06,
             0.05,
             -0.03
            ],
            [
             -0.01,
             0.01,
             0,
             -0.01,
             0,
             -0.04,
             0.02
            ],
            [
             -0.01,
             0,
             0,
             -0.01,
             0.03,
             0,
             -0.02
            ]
           ]
          }
         ],
         "layout": {
          "coloraxis": {
           "cmax": 0.13,
           "cmin": -0.13,
           "colorbar": {
            "title": {
             "text": "Pearson<br>coef."
            }
           },
           "colorscale": [
            [
             0,
             "rgb(5,48,97)"
            ],
            [
             0.1,
             "rgb(33,102,172)"
            ],
            [
             0.2,
             "rgb(67,147,195)"
            ],
            [
             0.3,
             "rgb(146,197,222)"
            ],
            [
             0.4,
             "rgb(209,229,240)"
            ],
            [
             0.5,
             "rgb(247,247,247)"
            ],
            [
             0.6,
             "rgb(253,219,199)"
            ],
            [
             0.7,
             "rgb(244,165,130)"
            ],
            [
             0.8,
             "rgb(214,96,77)"
            ],
            [
             0.9,
             "rgb(178,24,43)"
            ],
            [
             1,
             "rgb(103,0,31)"
            ]
           ]
          },
          "height": 500,
          "title": {
           "text": "Annual correlation heatmap"
          },
          "yaxis": {
           "autorange": "reversed"
          }
         },
         "name": "2"
        },
        {
         "data": [
          {
           "coloraxis": "coloraxis",
           "name": "3",
           "texttemplate": "%{z}",
           "type": "heatmap",
           "x": [
            "Acer",
            "Betula",
            "Fagus",
            "Fraxinus",
            "Picea",
            "Pinus",
            "Quercus"
           ],
           "y": [
            "temperature_2m_max",
            "temperature_2m_min",
            "total_precipitation_max",
            "total_precipitation_min",
            "dewpoint_temperature_2m_max",
            "dewpoint_temperature_2m_min",
            "volumetric_soil_water_layer_2_max",
            "volumetric_soil_water_layer_2_min"
           ],
           "z": [
            [
             -0.03,
             0.01,
             -0.02,
             -0.03,
             0.1,
             0.03,
             -0.07
            ],
            [
             -0.01,
             0.07,
             -0.03,
             -0.01,
             0.12,
             0.07,
             -0.09
            ],
            [
             0.02,
             0.03,
             0,
             0.01,
             -0.01,
             0.02,
             -0.01
            ],
            [
             -0.01,
             -0.02,
             0.01,
             -0.01,
             -0.07,
             -0.02,
             0.04
            ],
            [
             0,
             0.01,
             -0.01,
             0,
             0.01,
             0.01,
             0.01
            ],
            [
             0.02,
             0.07,
             -0.02,
             0.01,
             0.04,
             0.05,
             -0.03
            ],
            [
             0.02,
             -0.01,
             0.01,
             0.01,
             -0.07,
             -0.03,
             0.06
            ],
            [
             0.03,
             0.02,
             0.01,
             0.02,
             -0.06,
             -0.02,
             0.04
            ]
           ]
          }
         ],
         "layout": {
          "coloraxis": {
           "cmax": 0.13,
           "cmin": -0.13,
           "colorbar": {
            "title": {
             "text": "Pearson<br>coef."
            }
           },
           "colorscale": [
            [
             0,
             "rgb(5,48,97)"
            ],
            [
             0.1,
             "rgb(33,102,172)"
            ],
            [
             0.2,
             "rgb(67,147,195)"
            ],
            [
             0.3,
             "rgb(146,197,222)"
            ],
            [
             0.4,
             "rgb(209,229,240)"
            ],
            [
             0.5,
             "rgb(247,247,247)"
            ],
            [
             0.6,
             "rgb(253,219,199)"
            ],
            [
             0.7,
             "rgb(244,165,130)"
            ],
            [
             0.8,
             "rgb(214,96,77)"
            ],
            [
             0.9,
             "rgb(178,24,43)"
            ],
            [
             1,
             "rgb(103,0,31)"
            ]
           ]
          },
          "height": 500,
          "title": {
           "text": "Annual correlation heatmap"
          },
          "yaxis": {
           "autorange": "reversed"
          }
         },
         "name": "3"
        },
        {
         "data": [
          {
           "coloraxis": "coloraxis",
           "name": "4",
           "texttemplate": "%{z}",
           "type": "heatmap",
           "x": [
            "Acer",
            "Betula",
            "Fagus",
            "Fraxinus",
            "Picea",
            "Pinus",
            "Quercus"
           ],
           "y": [
            "temperature_2m_max",
            "temperature_2m_min",
            "total_precipitation_max",
            "total_precipitation_min",
            "dewpoint_temperature_2m_max",
            "dewpoint_temperature_2m_min",
            "volumetric_soil_water_layer_2_max",
            "volumetric_soil_water_layer_2_min"
           ],
           "z": [
            [
             0,
             0.02,
             0,
             0,
             0.07,
             0.03,
             -0.05
            ],
            [
             0.01,
             0.08,
             -0.04,
             -0.01,
             0.09,
             0.06,
             -0.07
            ],
            [
             -0.02,
             0,
             -0.03,
             -0.01,
             0.06,
             0.02,
             -0.03
            ],
            [
             -0.02,
             -0.04,
             -0.01,
             -0.02,
             -0.01,
             -0.03,
             0.02
            ],
            [
             0,
             0.05,
             -0.03,
             0,
             0.12,
             0.05,
             -0.06
            ],
            [
             0,
             0.08,
             -0.04,
             -0.01,
             0.09,
             0.06,
             -0.07
            ],
            [
             -0.02,
             0,
             -0.02,
             -0.01,
             0.05,
             0.02,
             -0.02
            ],
            [
             -0.01,
             0.03,
             -0.03,
             0,
             0.12,
             0.05,
             -0.07
            ]
           ]
          }
         ],
         "layout": {
          "coloraxis": {
           "cmax": 0.13,
           "cmin": -0.13,
           "colorbar": {
            "title": {
             "text": "Pearson<br>coef."
            }
           },
           "colorscale": [
            [
             0,
             "rgb(5,48,97)"
            ],
            [
             0.1,
             "rgb(33,102,172)"
            ],
            [
             0.2,
             "rgb(67,147,195)"
            ],
            [
             0.3,
             "rgb(146,197,222)"
            ],
            [
             0.4,
             "rgb(209,229,240)"
            ],
            [
             0.5,
             "rgb(247,247,247)"
            ],
            [
             0.6,
             "rgb(253,219,199)"
            ],
            [
             0.7,
             "rgb(244,165,130)"
            ],
            [
             0.8,
             "rgb(214,96,77)"
            ],
            [
             0.9,
             "rgb(178,24,43)"
            ],
            [
             1,
             "rgb(103,0,31)"
            ]
           ]
          },
          "height": 500,
          "title": {
           "text": "Annual correlation heatmap"
          },
          "yaxis": {
           "autorange": "reversed"
          }
         },
         "name": "4"
        }
       ],
       "layout": {
        "autosize": true,
        "coloraxis": {
         "cmax": 0.13,
         "cmin": -0.13,
         "colorbar": {
          "title": {
           "text": "Pearson<br>coef."
          }
         },
         "colorscale": [
          [
           0,
           "rgb(5,48,97)"
          ],
          [
           0.1,
           "rgb(33,102,172)"
          ],
          [
           0.2,
           "rgb(67,147,195)"
          ],
          [
           0.3,
           "rgb(146,197,222)"
          ],
          [
           0.4,
           "rgb(209,229,240)"
          ],
          [
           0.5,
           "rgb(247,247,247)"
          ],
          [
           0.6,
           "rgb(253,219,199)"
          ],
          [
           0.7,
           "rgb(244,165,130)"
          ],
          [
           0.8,
           "rgb(214,96,77)"
          ],
          [
           0.9,
           "rgb(178,24,43)"
          ],
          [
           1,
           "rgb(103,0,31)"
          ]
         ]
        },
        "sliders": [
         {
          "active": 0,
          "currentvalue": {
           "prefix": ""
          },
          "len": 0.9,
          "pad": {
           "b": 10,
           "t": 60
          },
          "steps": [
           {
            "args": [
             [
              "0"
             ],
             {
              "frame": {
               "duration": 0,
               "redraw": true
              },
              "fromcurrent": true,
              "mode": "immediate",
              "transition": {
               "duration": 0,
               "easing": "linear"
              }
             }
            ],
            "label": "2020",
            "method": "animate"
           },
           {
            "args": [
             [
              "1"
             ],
             {
              "frame": {
               "duration": 0,
               "redraw": true
              },
              "fromcurrent": true,
              "mode": "immediate",
              "transition": {
               "duration": 0,
               "easing": "linear"
              }
             }
            ],
            "label": "2021",
            "method": "animate"
           },
           {
            "args": [
             [
              "2"
             ],
             {
              "frame": {
               "duration": 0,
               "redraw": true
              },
              "fromcurrent": true,
              "mode": "immediate",
              "transition": {
               "duration": 0,
               "easing": "linear"
              }
             }
            ],
            "label": "2022",
            "method": "animate"
           },
           {
            "args": [
             [
              "3"
             ],
             {
              "frame": {
               "duration": 0,
               "redraw": true
              },
              "fromcurrent": true,
              "mode": "immediate",
              "transition": {
               "duration": 0,
               "easing": "linear"
              }
             }
            ],
            "label": "2023",
            "method": "animate"
           },
           {
            "args": [
             [
              "4"
             ],
             {
              "frame": {
               "duration": 0,
               "redraw": true
              },
              "fromcurrent": true,
              "mode": "immediate",
              "transition": {
               "duration": 0,
               "easing": "linear"
              }
             }
            ],
            "label": "2024",
            "method": "animate"
           }
          ],
          "x": 0.1,
          "xanchor": "left",
          "y": 0,
          "yanchor": "top"
         }
        ],
        "template": {
         "data": {
          "bar": [
           {
            "error_x": {
             "color": "#2a3f5f"
            },
            "error_y": {
             "color": "#2a3f5f"
            },
            "marker": {
             "line": {
              "color": "#E5ECF6",
              "width": 0.5
             },
             "pattern": {
              "fillmode": "overlay",
              "size": 10,
              "solidity": 0.2
             }
            },
            "type": "bar"
           }
          ],
          "barpolar": [
           {
            "marker": {
             "line": {
              "color": "#E5ECF6",
              "width": 0.5
             },
             "pattern": {
              "fillmode": "overlay",
              "size": 10,
              "solidity": 0.2
             }
            },
            "type": "barpolar"
           }
          ],
          "carpet": [
           {
            "aaxis": {
             "endlinecolor": "#2a3f5f",
             "gridcolor": "white",
             "linecolor": "white",
             "minorgridcolor": "white",
             "startlinecolor": "#2a3f5f"
            },
            "baxis": {
             "endlinecolor": "#2a3f5f",
             "gridcolor": "white",
             "linecolor": "white",
             "minorgridcolor": "white",
             "startlinecolor": "#2a3f5f"
            },
            "type": "carpet"
           }
          ],
          "choropleth": [
           {
            "colorbar": {
             "outlinewidth": 0,
             "ticks": ""
            },
            "type": "choropleth"
           }
          ],
          "contour": [
           {
            "colorbar": {
             "outlinewidth": 0,
             "ticks": ""
            },
            "colorscale": [
             [
              0,
              "#0d0887"
             ],
             [
              0.1111111111111111,
              "#46039f"
             ],
             [
              0.2222222222222222,
              "#7201a8"
             ],
             [
              0.3333333333333333,
              "#9c179e"
             ],
             [
              0.4444444444444444,
              "#bd3786"
             ],
             [
              0.5555555555555556,
              "#d8576b"
             ],
             [
              0.6666666666666666,
              "#ed7953"
             ],
             [
              0.7777777777777778,
              "#fb9f3a"
             ],
             [
              0.8888888888888888,
              "#fdca26"
             ],
             [
              1,
              "#f0f921"
             ]
            ],
            "type": "contour"
           }
          ],
          "contourcarpet": [
           {
            "colorbar": {
             "outlinewidth": 0,
             "ticks": ""
            },
            "type": "contourcarpet"
           }
          ],
          "heatmap": [
           {
            "colorbar": {
             "outlinewidth": 0,
             "ticks": ""
            },
            "colorscale": [
             [
              0,
              "#0d0887"
             ],
             [
              0.1111111111111111,
              "#46039f"
             ],
             [
              0.2222222222222222,
              "#7201a8"
             ],
             [
              0.3333333333333333,
              "#9c179e"
             ],
             [
              0.4444444444444444,
              "#bd3786"
             ],
             [
              0.5555555555555556,
              "#d8576b"
             ],
             [
              0.6666666666666666,
              "#ed7953"
             ],
             [
              0.7777777777777778,
              "#fb9f3a"
             ],
             [
              0.8888888888888888,
              "#fdca26"
             ],
             [
              1,
              "#f0f921"
             ]
            ],
            "type": "heatmap"
           }
          ],
          "heatmapgl": [
           {
            "colorbar": {
             "outlinewidth": 0,
             "ticks": ""
            },
            "colorscale": [
             [
              0,
              "#0d0887"
             ],
             [
              0.1111111111111111,
              "#46039f"
             ],
             [
              0.2222222222222222,
              "#7201a8"
             ],
             [
              0.3333333333333333,
              "#9c179e"
             ],
             [
              0.4444444444444444,
              "#bd3786"
             ],
             [
              0.5555555555555556,
              "#d8576b"
             ],
             [
              0.6666666666666666,
              "#ed7953"
             ],
             [
              0.7777777777777778,
              "#fb9f3a"
             ],
             [
              0.8888888888888888,
              "#fdca26"
             ],
             [
              1,
              "#f0f921"
             ]
            ],
            "type": "heatmapgl"
           }
          ],
          "histogram": [
           {
            "marker": {
             "pattern": {
              "fillmode": "overlay",
              "size": 10,
              "solidity": 0.2
             }
            },
            "type": "histogram"
           }
          ],
          "histogram2d": [
           {
            "colorbar": {
             "outlinewidth": 0,
             "ticks": ""
            },
            "colorscale": [
             [
              0,
              "#0d0887"
             ],
             [
              0.1111111111111111,
              "#46039f"
             ],
             [
              0.2222222222222222,
              "#7201a8"
             ],
             [
              0.3333333333333333,
              "#9c179e"
             ],
             [
              0.4444444444444444,
              "#bd3786"
             ],
             [
              0.5555555555555556,
              "#d8576b"
             ],
             [
              0.6666666666666666,
              "#ed7953"
             ],
             [
              0.7777777777777778,
              "#fb9f3a"
             ],
             [
              0.8888888888888888,
              "#fdca26"
             ],
             [
              1,
              "#f0f921"
             ]
            ],
            "type": "histogram2d"
           }
          ],
          "histogram2dcontour": [
           {
            "colorbar": {
             "outlinewidth": 0,
             "ticks": ""
            },
            "colorscale": [
             [
              0,
              "#0d0887"
             ],
             [
              0.1111111111111111,
              "#46039f"
             ],
             [
              0.2222222222222222,
              "#7201a8"
             ],
             [
              0.3333333333333333,
              "#9c179e"
             ],
             [
              0.4444444444444444,
              "#bd3786"
             ],
             [
              0.5555555555555556,
              "#d8576b"
             ],
             [
              0.6666666666666666,
              "#ed7953"
             ],
             [
              0.7777777777777778,
              "#fb9f3a"
             ],
             [
              0.8888888888888888,
              "#fdca26"
             ],
             [
              1,
              "#f0f921"
             ]
            ],
            "type": "histogram2dcontour"
           }
          ],
          "mesh3d": [
           {
            "colorbar": {
             "outlinewidth": 0,
             "ticks": ""
            },
            "type": "mesh3d"
           }
          ],
          "parcoords": [
           {
            "line": {
             "colorbar": {
              "outlinewidth": 0,
              "ticks": ""
             }
            },
            "type": "parcoords"
           }
          ],
          "pie": [
           {
            "automargin": true,
            "type": "pie"
           }
          ],
          "scatter": [
           {
            "fillpattern": {
             "fillmode": "overlay",
             "size": 10,
             "solidity": 0.2
            },
            "type": "scatter"
           }
          ],
          "scatter3d": [
           {
            "line": {
             "colorbar": {
              "outlinewidth": 0,
              "ticks": ""
             }
            },
            "marker": {
             "colorbar": {
              "outlinewidth": 0,
              "ticks": ""
             }
            },
            "type": "scatter3d"
           }
          ],
          "scattercarpet": [
           {
            "marker": {
             "colorbar": {
              "outlinewidth": 0,
              "ticks": ""
             }
            },
            "type": "scattercarpet"
           }
          ],
          "scattergeo": [
           {
            "marker": {
             "colorbar": {
              "outlinewidth": 0,
              "ticks": ""
             }
            },
            "type": "scattergeo"
           }
          ],
          "scattergl": [
           {
            "marker": {
             "colorbar": {
              "outlinewidth": 0,
              "ticks": ""
             }
            },
            "type": "scattergl"
           }
          ],
          "scattermapbox": [
           {
            "marker": {
             "colorbar": {
              "outlinewidth": 0,
              "ticks": ""
             }
            },
            "type": "scattermapbox"
           }
          ],
          "scatterpolar": [
           {
            "marker": {
             "colorbar": {
              "outlinewidth": 0,
              "ticks": ""
             }
            },
            "type": "scatterpolar"
           }
          ],
          "scatterpolargl": [
           {
            "marker": {
             "colorbar": {
              "outlinewidth": 0,
              "ticks": ""
             }
            },
            "type": "scatterpolargl"
           }
          ],
          "scatterternary": [
           {
            "marker": {
             "colorbar": {
              "outlinewidth": 0,
              "ticks": ""
             }
            },
            "type": "scatterternary"
           }
          ],
          "surface": [
           {
            "colorbar": {
             "outlinewidth": 0,
             "ticks": ""
            },
            "colorscale": [
             [
              0,
              "#0d0887"
             ],
             [
              0.1111111111111111,
              "#46039f"
             ],
             [
              0.2222222222222222,
              "#7201a8"
             ],
             [
              0.3333333333333333,
              "#9c179e"
             ],
             [
              0.4444444444444444,
              "#bd3786"
             ],
             [
              0.5555555555555556,
              "#d8576b"
             ],
             [
              0.6666666666666666,
              "#ed7953"
             ],
             [
              0.7777777777777778,
              "#fb9f3a"
             ],
             [
              0.8888888888888888,
              "#fdca26"
             ],
             [
              1,
              "#f0f921"
             ]
            ],
            "type": "surface"
           }
          ],
          "table": [
           {
            "cells": {
             "fill": {
              "color": "#EBF0F8"
             },
             "line": {
              "color": "white"
             }
            },
            "header": {
             "fill": {
              "color": "#C8D4E3"
             },
             "line": {
              "color": "white"
             }
            },
            "type": "table"
           }
          ]
         },
         "layout": {
          "annotationdefaults": {
           "arrowcolor": "#2a3f5f",
           "arrowhead": 0,
           "arrowwidth": 1
          },
          "autotypenumbers": "strict",
          "coloraxis": {
           "colorbar": {
            "outlinewidth": 0,
            "ticks": ""
           }
          },
          "colorscale": {
           "diverging": [
            [
             0,
             "#8e0152"
            ],
            [
             0.1,
             "#c51b7d"
            ],
            [
             0.2,
             "#de77ae"
            ],
            [
             0.3,
             "#f1b6da"
            ],
            [
             0.4,
             "#fde0ef"
            ],
            [
             0.5,
             "#f7f7f7"
            ],
            [
             0.6,
             "#e6f5d0"
            ],
            [
             0.7,
             "#b8e186"
            ],
            [
             0.8,
             "#7fbc41"
            ],
            [
             0.9,
             "#4d9221"
            ],
            [
             1,
             "#276419"
            ]
           ],
           "sequential": [
            [
             0,
             "#0d0887"
            ],
            [
             0.1111111111111111,
             "#46039f"
            ],
            [
             0.2222222222222222,
             "#7201a8"
            ],
            [
             0.3333333333333333,
             "#9c179e"
            ],
            [
             0.4444444444444444,
             "#bd3786"
            ],
            [
             0.5555555555555556,
             "#d8576b"
            ],
            [
             0.6666666666666666,
             "#ed7953"
            ],
            [
             0.7777777777777778,
             "#fb9f3a"
            ],
            [
             0.8888888888888888,
             "#fdca26"
            ],
            [
             1,
             "#f0f921"
            ]
           ],
           "sequentialminus": [
            [
             0,
             "#0d0887"
            ],
            [
             0.1111111111111111,
             "#46039f"
            ],
            [
             0.2222222222222222,
             "#7201a8"
            ],
            [
             0.3333333333333333,
             "#9c179e"
            ],
            [
             0.4444444444444444,
             "#bd3786"
            ],
            [
             0.5555555555555556,
             "#d8576b"
            ],
            [
             0.6666666666666666,
             "#ed7953"
            ],
            [
             0.7777777777777778,
             "#fb9f3a"
            ],
            [
             0.8888888888888888,
             "#fdca26"
            ],
            [
             1,
             "#f0f921"
            ]
           ]
          },
          "colorway": [
           "#636efa",
           "#EF553B",
           "#00cc96",
           "#ab63fa",
           "#FFA15A",
           "#19d3f3",
           "#FF6692",
           "#B6E880",
           "#FF97FF",
           "#FECB52"
          ],
          "font": {
           "color": "#2a3f5f"
          },
          "geo": {
           "bgcolor": "white",
           "lakecolor": "white",
           "landcolor": "#E5ECF6",
           "showlakes": true,
           "showland": true,
           "subunitcolor": "white"
          },
          "hoverlabel": {
           "align": "left"
          },
          "hovermode": "closest",
          "mapbox": {
           "style": "light"
          },
          "paper_bgcolor": "white",
          "plot_bgcolor": "#E5ECF6",
          "polar": {
           "angularaxis": {
            "gridcolor": "white",
            "linecolor": "white",
            "ticks": ""
           },
           "bgcolor": "#E5ECF6",
           "radialaxis": {
            "gridcolor": "white",
            "linecolor": "white",
            "ticks": ""
           }
          },
          "scene": {
           "xaxis": {
            "backgroundcolor": "#E5ECF6",
            "gridcolor": "white",
            "gridwidth": 2,
            "linecolor": "white",
            "showbackground": true,
            "ticks": "",
            "zerolinecolor": "white"
           },
           "yaxis": {
            "backgroundcolor": "#E5ECF6",
            "gridcolor": "white",
            "gridwidth": 2,
            "linecolor": "white",
            "showbackground": true,
            "ticks": "",
            "zerolinecolor": "white"
           },
           "zaxis": {
            "backgroundcolor": "#E5ECF6",
            "gridcolor": "white",
            "gridwidth": 2,
            "linecolor": "white",
            "showbackground": true,
            "ticks": "",
            "zerolinecolor": "white"
           }
          },
          "shapedefaults": {
           "line": {
            "color": "#2a3f5f"
           }
          },
          "ternary": {
           "aaxis": {
            "gridcolor": "white",
            "linecolor": "white",
            "ticks": ""
           },
           "baxis": {
            "gridcolor": "white",
            "linecolor": "white",
            "ticks": ""
           },
           "bgcolor": "#E5ECF6",
           "caxis": {
            "gridcolor": "white",
            "linecolor": "white",
            "ticks": ""
           }
          },
          "title": {
           "x": 0.05
          },
          "xaxis": {
           "automargin": true,
           "gridcolor": "white",
           "linecolor": "white",
           "ticks": "",
           "title": {
            "standoff": 15
           },
           "zerolinecolor": "white",
           "zerolinewidth": 2
          },
          "yaxis": {
           "automargin": true,
           "gridcolor": "white",
           "linecolor": "white",
           "ticks": "",
           "title": {
            "standoff": 15
           },
           "zerolinecolor": "white",
           "zerolinewidth": 2
          }
         }
        },
        "title": {
         "text": "Annual correlation heatmap"
        },
        "updatemenus": [
         {
          "buttons": [
           {
            "args": [
             null,
             {
              "frame": {
               "duration": 500,
               "redraw": true
              },
              "fromcurrent": true,
              "mode": "immediate",
              "transition": {
               "duration": 500,
               "easing": "linear"
              }
             }
            ],
            "label": "&#9654;",
            "method": "animate"
           },
           {
            "args": [
             [
              null
             ],
             {
              "frame": {
               "duration": 0,
               "redraw": true
              },
              "fromcurrent": true,
              "mode": "immediate",
              "transition": {
               "duration": 0,
               "easing": "linear"
              }
             }
            ],
            "label": "&#9724;",
            "method": "animate"
           }
          ],
          "direction": "left",
          "pad": {
           "r": 10,
           "t": 70
          },
          "showactive": false,
          "type": "buttons",
          "x": 0.1,
          "xanchor": "right",
          "y": 0,
          "yanchor": "top"
         }
        ],
        "xaxis": {
         "anchor": "y",
         "autorange": true,
         "domain": [
          0,
          1
         ],
         "range": [
          -0.5,
          6.5
         ],
         "type": "category"
        },
        "yaxis": {
         "anchor": "x",
         "autorange": true,
         "domain": [
          0,
          1
         ],
         "range": [
          7.5,
          -0.5
         ],
         "type": "category"
        }
       }
      },
      "text/html": [
       "<div>                            <div id=\"3e29c576-cb1a-45df-9754-f15bfe7464d5\" class=\"plotly-graph-div\" style=\"height:500px; width:100%;\"></div>            <script type=\"text/javascript\">                require([\"plotly\"], function(Plotly) {                    window.PLOTLYENV=window.PLOTLYENV || {};                                    if (document.getElementById(\"3e29c576-cb1a-45df-9754-f15bfe7464d5\")) {                    Plotly.newPlot(                        \"3e29c576-cb1a-45df-9754-f15bfe7464d5\",                        [{\"coloraxis\":\"coloraxis\",\"name\":\"0\",\"texttemplate\":\"%{z}\",\"x\":[\"Acer\",\"Betula\",\"Fagus\",\"Fraxinus\",\"Picea\",\"Pinus\",\"Quercus\"],\"y\":[\"temperature_2m_max\",\"temperature_2m_min\",\"total_precipitation_max\",\"total_precipitation_min\",\"dewpoint_temperature_2m_max\",\"dewpoint_temperature_2m_min\",\"volumetric_soil_water_layer_2_max\",\"volumetric_soil_water_layer_2_min\"],\"z\":[[0.01,0.04,-0.04,-0.0,0.06,0.07,-0.05],[0.02,0.06,-0.02,0.0,0.08,0.06,-0.04],[0.02,0.01,-0.01,0.0,0.03,-0.0,-0.01],[-0.0,0.03,0.0,-0.02,0.07,0.02,-0.05],[-0.0,0.04,-0.03,-0.0,0.13,0.06,-0.08],[0.01,0.04,-0.02,0.0,0.08,0.04,-0.05],[-0.01,0.01,0.0,-0.02,0.08,-0.02,-0.03],[-0.01,-0.02,0.02,-0.01,0.03,-0.05,-0.01]],\"type\":\"heatmap\",\"xaxis\":\"x\",\"yaxis\":\"y\",\"hovertemplate\":\"x: %{x}\\u003cbr\\u003ey: %{y}\\u003cbr\\u003ePearson\\u003cbr\\u003ecoef.: %{z}\\u003cextra\\u003e\\u003c\\u002fextra\\u003e\"}],                        {\"template\":{\"data\":{\"histogram2dcontour\":[{\"type\":\"histogram2dcontour\",\"colorbar\":{\"outlinewidth\":0,\"ticks\":\"\"},\"colorscale\":[[0.0,\"#0d0887\"],[0.1111111111111111,\"#46039f\"],[0.2222222222222222,\"#7201a8\"],[0.3333333333333333,\"#9c179e\"],[0.4444444444444444,\"#bd3786\"],[0.5555555555555556,\"#d8576b\"],[0.6666666666666666,\"#ed7953\"],[0.7777777777777778,\"#fb9f3a\"],[0.8888888888888888,\"#fdca26\"],[1.0,\"#f0f921\"]]}],\"choropleth\":[{\"type\":\"choropleth\",\"colorbar\":{\"outlinewidth\":0,\"ticks\":\"\"}}],\"histogram2d\":[{\"type\":\"histogram2d\",\"colorbar\":{\"outlinewidth\":0,\"ticks\":\"\"},\"colorscale\":[[0.0,\"#0d0887\"],[0.1111111111111111,\"#46039f\"],[0.2222222222222222,\"#7201a8\"],[0.3333333333333333,\"#9c179e\"],[0.4444444444444444,\"#bd3786\"],[0.5555555555555556,\"#d8576b\"],[0.6666666666666666,\"#ed7953\"],[0.7777777777777778,\"#fb9f3a\"],[0.8888888888888888,\"#fdca26\"],[1.0,\"#f0f921\"]]}],\"heatmap\":[{\"type\":\"heatmap\",\"colorbar\":{\"outlinewidth\":0,\"ticks\":\"\"},\"colorscale\":[[0.0,\"#0d0887\"],[0.1111111111111111,\"#46039f\"],[0.2222222222222222,\"#7201a8\"],[0.3333333333333333,\"#9c179e\"],[0.4444444444444444,\"#bd3786\"],[0.5555555555555556,\"#d8576b\"],[0.6666666666666666,\"#ed7953\"],[0.7777777777777778,\"#fb9f3a\"],[0.8888888888888888,\"#fdca26\"],[1.0,\"#f0f921\"]]}],\"heatmapgl\":[{\"type\":\"heatmapgl\",\"colorbar\":{\"outlinewidth\":0,\"ticks\":\"\"},\"colorscale\":[[0.0,\"#0d0887\"],[0.1111111111111111,\"#46039f\"],[0.2222222222222222,\"#7201a8\"],[0.3333333333333333,\"#9c179e\"],[0.4444444444444444,\"#bd3786\"],[0.5555555555555556,\"#d8576b\"],[0.6666666666666666,\"#ed7953\"],[0.7777777777777778,\"#fb9f3a\"],[0.8888888888888888,\"#fdca26\"],[1.0,\"#f0f921\"]]}],\"contourcarpet\":[{\"type\":\"contourcarpet\",\"colorbar\":{\"outlinewidth\":0,\"ticks\":\"\"}}],\"contour\":[{\"type\":\"contour\",\"colorbar\":{\"outlinewidth\":0,\"ticks\":\"\"},\"colorscale\":[[0.0,\"#0d0887\"],[0.1111111111111111,\"#46039f\"],[0.2222222222222222,\"#7201a8\"],[0.3333333333333333,\"#9c179e\"],[0.4444444444444444,\"#bd3786\"],[0.5555555555555556,\"#d8576b\"],[0.6666666666666666,\"#ed7953\"],[0.7777777777777778,\"#fb9f3a\"],[0.8888888888888888,\"#fdca26\"],[1.0,\"#f0f921\"]]}],\"surface\":[{\"type\":\"surface\",\"colorbar\":{\"outlinewidth\":0,\"ticks\":\"\"},\"colorscale\":[[0.0,\"#0d0887\"],[0.1111111111111111,\"#46039f\"],[0.2222222222222222,\"#7201a8\"],[0.3333333333333333,\"#9c179e\"],[0.4444444444444444,\"#bd3786\"],[0.5555555555555556,\"#d8576b\"],[0.6666666666666666,\"#ed7953\"],[0.7777777777777778,\"#fb9f3a\"],[0.8888888888888888,\"#fdca26\"],[1.0,\"#f0f921\"]]}],\"mesh3d\":[{\"type\":\"mesh3d\",\"colorbar\":{\"outlinewidth\":0,\"ticks\":\"\"}}],\"scatter\":[{\"fillpattern\":{\"fillmode\":\"overlay\",\"size\":10,\"solidity\":0.2},\"type\":\"scatter\"}],\"parcoords\":[{\"type\":\"parcoords\",\"line\":{\"colorbar\":{\"outlinewidth\":0,\"ticks\":\"\"}}}],\"scatterpolargl\":[{\"type\":\"scatterpolargl\",\"marker\":{\"colorbar\":{\"outlinewidth\":0,\"ticks\":\"\"}}}],\"bar\":[{\"error_x\":{\"color\":\"#2a3f5f\"},\"error_y\":{\"color\":\"#2a3f5f\"},\"marker\":{\"line\":{\"color\":\"#E5ECF6\",\"width\":0.5},\"pattern\":{\"fillmode\":\"overlay\",\"size\":10,\"solidity\":0.2}},\"type\":\"bar\"}],\"scattergeo\":[{\"type\":\"scattergeo\",\"marker\":{\"colorbar\":{\"outlinewidth\":0,\"ticks\":\"\"}}}],\"scatterpolar\":[{\"type\":\"scatterpolar\",\"marker\":{\"colorbar\":{\"outlinewidth\":0,\"ticks\":\"\"}}}],\"histogram\":[{\"marker\":{\"pattern\":{\"fillmode\":\"overlay\",\"size\":10,\"solidity\":0.2}},\"type\":\"histogram\"}],\"scattergl\":[{\"type\":\"scattergl\",\"marker\":{\"colorbar\":{\"outlinewidth\":0,\"ticks\":\"\"}}}],\"scatter3d\":[{\"type\":\"scatter3d\",\"line\":{\"colorbar\":{\"outlinewidth\":0,\"ticks\":\"\"}},\"marker\":{\"colorbar\":{\"outlinewidth\":0,\"ticks\":\"\"}}}],\"scattermapbox\":[{\"type\":\"scattermapbox\",\"marker\":{\"colorbar\":{\"outlinewidth\":0,\"ticks\":\"\"}}}],\"scatterternary\":[{\"type\":\"scatterternary\",\"marker\":{\"colorbar\":{\"outlinewidth\":0,\"ticks\":\"\"}}}],\"scattercarpet\":[{\"type\":\"scattercarpet\",\"marker\":{\"colorbar\":{\"outlinewidth\":0,\"ticks\":\"\"}}}],\"carpet\":[{\"aaxis\":{\"endlinecolor\":\"#2a3f5f\",\"gridcolor\":\"white\",\"linecolor\":\"white\",\"minorgridcolor\":\"white\",\"startlinecolor\":\"#2a3f5f\"},\"baxis\":{\"endlinecolor\":\"#2a3f5f\",\"gridcolor\":\"white\",\"linecolor\":\"white\",\"minorgridcolor\":\"white\",\"startlinecolor\":\"#2a3f5f\"},\"type\":\"carpet\"}],\"table\":[{\"cells\":{\"fill\":{\"color\":\"#EBF0F8\"},\"line\":{\"color\":\"white\"}},\"header\":{\"fill\":{\"color\":\"#C8D4E3\"},\"line\":{\"color\":\"white\"}},\"type\":\"table\"}],\"barpolar\":[{\"marker\":{\"line\":{\"color\":\"#E5ECF6\",\"width\":0.5},\"pattern\":{\"fillmode\":\"overlay\",\"size\":10,\"solidity\":0.2}},\"type\":\"barpolar\"}],\"pie\":[{\"automargin\":true,\"type\":\"pie\"}]},\"layout\":{\"autotypenumbers\":\"strict\",\"colorway\":[\"#636efa\",\"#EF553B\",\"#00cc96\",\"#ab63fa\",\"#FFA15A\",\"#19d3f3\",\"#FF6692\",\"#B6E880\",\"#FF97FF\",\"#FECB52\"],\"font\":{\"color\":\"#2a3f5f\"},\"hovermode\":\"closest\",\"hoverlabel\":{\"align\":\"left\"},\"paper_bgcolor\":\"white\",\"plot_bgcolor\":\"#E5ECF6\",\"polar\":{\"bgcolor\":\"#E5ECF6\",\"angularaxis\":{\"gridcolor\":\"white\",\"linecolor\":\"white\",\"ticks\":\"\"},\"radialaxis\":{\"gridcolor\":\"white\",\"linecolor\":\"white\",\"ticks\":\"\"}},\"ternary\":{\"bgcolor\":\"#E5ECF6\",\"aaxis\":{\"gridcolor\":\"white\",\"linecolor\":\"white\",\"ticks\":\"\"},\"baxis\":{\"gridcolor\":\"white\",\"linecolor\":\"white\",\"ticks\":\"\"},\"caxis\":{\"gridcolor\":\"white\",\"linecolor\":\"white\",\"ticks\":\"\"}},\"coloraxis\":{\"colorbar\":{\"outlinewidth\":0,\"ticks\":\"\"}},\"colorscale\":{\"sequential\":[[0.0,\"#0d0887\"],[0.1111111111111111,\"#46039f\"],[0.2222222222222222,\"#7201a8\"],[0.3333333333333333,\"#9c179e\"],[0.4444444444444444,\"#bd3786\"],[0.5555555555555556,\"#d8576b\"],[0.6666666666666666,\"#ed7953\"],[0.7777777777777778,\"#fb9f3a\"],[0.8888888888888888,\"#fdca26\"],[1.0,\"#f0f921\"]],\"sequentialminus\":[[0.0,\"#0d0887\"],[0.1111111111111111,\"#46039f\"],[0.2222222222222222,\"#7201a8\"],[0.3333333333333333,\"#9c179e\"],[0.4444444444444444,\"#bd3786\"],[0.5555555555555556,\"#d8576b\"],[0.6666666666666666,\"#ed7953\"],[0.7777777777777778,\"#fb9f3a\"],[0.8888888888888888,\"#fdca26\"],[1.0,\"#f0f921\"]],\"diverging\":[[0,\"#8e0152\"],[0.1,\"#c51b7d\"],[0.2,\"#de77ae\"],[0.3,\"#f1b6da\"],[0.4,\"#fde0ef\"],[0.5,\"#f7f7f7\"],[0.6,\"#e6f5d0\"],[0.7,\"#b8e186\"],[0.8,\"#7fbc41\"],[0.9,\"#4d9221\"],[1,\"#276419\"]]},\"xaxis\":{\"gridcolor\":\"white\",\"linecolor\":\"white\",\"ticks\":\"\",\"title\":{\"standoff\":15},\"zerolinecolor\":\"white\",\"automargin\":true,\"zerolinewidth\":2},\"yaxis\":{\"gridcolor\":\"white\",\"linecolor\":\"white\",\"ticks\":\"\",\"title\":{\"standoff\":15},\"zerolinecolor\":\"white\",\"automargin\":true,\"zerolinewidth\":2},\"scene\":{\"xaxis\":{\"backgroundcolor\":\"#E5ECF6\",\"gridcolor\":\"white\",\"linecolor\":\"white\",\"showbackground\":true,\"ticks\":\"\",\"zerolinecolor\":\"white\",\"gridwidth\":2},\"yaxis\":{\"backgroundcolor\":\"#E5ECF6\",\"gridcolor\":\"white\",\"linecolor\":\"white\",\"showbackground\":true,\"ticks\":\"\",\"zerolinecolor\":\"white\",\"gridwidth\":2},\"zaxis\":{\"backgroundcolor\":\"#E5ECF6\",\"gridcolor\":\"white\",\"linecolor\":\"white\",\"showbackground\":true,\"ticks\":\"\",\"zerolinecolor\":\"white\",\"gridwidth\":2}},\"shapedefaults\":{\"line\":{\"color\":\"#2a3f5f\"}},\"annotationdefaults\":{\"arrowcolor\":\"#2a3f5f\",\"arrowhead\":0,\"arrowwidth\":1},\"geo\":{\"bgcolor\":\"white\",\"landcolor\":\"#E5ECF6\",\"subunitcolor\":\"white\",\"showland\":true,\"showlakes\":true,\"lakecolor\":\"white\"},\"title\":{\"x\":0.05},\"mapbox\":{\"style\":\"light\"}}},\"xaxis\":{\"anchor\":\"y\",\"domain\":[0.0,1.0]},\"yaxis\":{\"anchor\":\"x\",\"domain\":[0.0,1.0],\"autorange\":\"reversed\"},\"coloraxis\":{\"colorbar\":{\"title\":{\"text\":\"Pearson\\u003cbr\\u003ecoef.\"}},\"colorscale\":[[0.0,\"rgb(5,48,97)\"],[0.1,\"rgb(33,102,172)\"],[0.2,\"rgb(67,147,195)\"],[0.3,\"rgb(146,197,222)\"],[0.4,\"rgb(209,229,240)\"],[0.5,\"rgb(247,247,247)\"],[0.6,\"rgb(253,219,199)\"],[0.7,\"rgb(244,165,130)\"],[0.8,\"rgb(214,96,77)\"],[0.9,\"rgb(178,24,43)\"],[1.0,\"rgb(103,0,31)\"]],\"cmin\":-0.13,\"cmax\":0.13},\"title\":{\"text\":\"Annual correlation heatmap\"},\"height\":500,\"updatemenus\":[{\"buttons\":[{\"args\":[null,{\"frame\":{\"duration\":500,\"redraw\":true},\"mode\":\"immediate\",\"fromcurrent\":true,\"transition\":{\"duration\":500,\"easing\":\"linear\"}}],\"label\":\"&#9654;\",\"method\":\"animate\"},{\"args\":[[null],{\"frame\":{\"duration\":0,\"redraw\":true},\"mode\":\"immediate\",\"fromcurrent\":true,\"transition\":{\"duration\":0,\"easing\":\"linear\"}}],\"label\":\"&#9724;\",\"method\":\"animate\"}],\"direction\":\"left\",\"pad\":{\"r\":10,\"t\":70},\"showactive\":false,\"type\":\"buttons\",\"x\":0.1,\"xanchor\":\"right\",\"y\":0,\"yanchor\":\"top\"}],\"sliders\":[{\"active\":0,\"currentvalue\":{\"prefix\":\"\"},\"len\":0.9,\"pad\":{\"b\":10,\"t\":60},\"steps\":[{\"args\":[[\"0\"],{\"frame\":{\"duration\":0,\"redraw\":true},\"mode\":\"immediate\",\"fromcurrent\":true,\"transition\":{\"duration\":0,\"easing\":\"linear\"}}],\"label\":\"2020\",\"method\":\"animate\"},{\"args\":[[\"1\"],{\"frame\":{\"duration\":0,\"redraw\":true},\"mode\":\"immediate\",\"fromcurrent\":true,\"transition\":{\"duration\":0,\"easing\":\"linear\"}}],\"label\":\"2021\",\"method\":\"animate\"},{\"args\":[[\"2\"],{\"frame\":{\"duration\":0,\"redraw\":true},\"mode\":\"immediate\",\"fromcurrent\":true,\"transition\":{\"duration\":0,\"easing\":\"linear\"}}],\"label\":\"2022\",\"method\":\"animate\"},{\"args\":[[\"3\"],{\"frame\":{\"duration\":0,\"redraw\":true},\"mode\":\"immediate\",\"fromcurrent\":true,\"transition\":{\"duration\":0,\"easing\":\"linear\"}}],\"label\":\"2023\",\"method\":\"animate\"},{\"args\":[[\"4\"],{\"frame\":{\"duration\":0,\"redraw\":true},\"mode\":\"immediate\",\"fromcurrent\":true,\"transition\":{\"duration\":0,\"easing\":\"linear\"}}],\"label\":\"2024\",\"method\":\"animate\"}],\"x\":0.1,\"xanchor\":\"left\",\"y\":0,\"yanchor\":\"top\"}]},                        {\"responsive\": true}                    ).then(function(){\n",
       "                            Plotly.addFrames('3e29c576-cb1a-45df-9754-f15bfe7464d5', [{\"data\":[{\"coloraxis\":\"coloraxis\",\"name\":\"0\",\"texttemplate\":\"%{z}\",\"x\":[\"Acer\",\"Betula\",\"Fagus\",\"Fraxinus\",\"Picea\",\"Pinus\",\"Quercus\"],\"y\":[\"temperature_2m_max\",\"temperature_2m_min\",\"total_precipitation_max\",\"total_precipitation_min\",\"dewpoint_temperature_2m_max\",\"dewpoint_temperature_2m_min\",\"volumetric_soil_water_layer_2_max\",\"volumetric_soil_water_layer_2_min\"],\"z\":[[0.01,0.04,-0.04,-0.0,0.06,0.07,-0.05],[0.02,0.06,-0.02,0.0,0.08,0.06,-0.04],[0.02,0.01,-0.01,0.0,0.03,-0.0,-0.01],[-0.0,0.03,0.0,-0.02,0.07,0.02,-0.05],[-0.0,0.04,-0.03,-0.0,0.13,0.06,-0.08],[0.01,0.04,-0.02,0.0,0.08,0.04,-0.05],[-0.01,0.01,0.0,-0.02,0.08,-0.02,-0.03],[-0.01,-0.02,0.02,-0.01,0.03,-0.05,-0.01]],\"type\":\"heatmap\"}],\"layout\":{\"height\":500,\"yaxis\":{\"autorange\":\"reversed\"},\"title\":{\"text\":\"Annual correlation heatmap\"},\"coloraxis\":{\"cmax\":0.13,\"cmin\":-0.13,\"colorbar\":{\"title\":{\"text\":\"Pearson\\u003cbr\\u003ecoef.\"}},\"colorscale\":[[0.0,\"rgb(5,48,97)\"],[0.1,\"rgb(33,102,172)\"],[0.2,\"rgb(67,147,195)\"],[0.3,\"rgb(146,197,222)\"],[0.4,\"rgb(209,229,240)\"],[0.5,\"rgb(247,247,247)\"],[0.6,\"rgb(253,219,199)\"],[0.7,\"rgb(244,165,130)\"],[0.8,\"rgb(214,96,77)\"],[0.9,\"rgb(178,24,43)\"],[1.0,\"rgb(103,0,31)\"]]}},\"name\":\"0\"},{\"data\":[{\"coloraxis\":\"coloraxis\",\"name\":\"1\",\"texttemplate\":\"%{z}\",\"x\":[\"Acer\",\"Betula\",\"Fagus\",\"Fraxinus\",\"Picea\",\"Pinus\",\"Quercus\"],\"y\":[\"temperature_2m_max\",\"temperature_2m_min\",\"total_precipitation_max\",\"total_precipitation_min\",\"dewpoint_temperature_2m_max\",\"dewpoint_temperature_2m_min\",\"volumetric_soil_water_layer_2_max\",\"volumetric_soil_water_layer_2_min\"],\"z\":[[-0.03,-0.09,0.03,-0.01,-0.1,-0.06,0.05],[-0.02,-0.07,0.02,-0.01,-0.09,-0.06,0.08],[-0.02,-0.03,0.02,-0.02,-0.03,-0.05,0.05],[-0.01,0.01,0.02,-0.01,-0.01,0.0,-0.03],[-0.02,-0.08,0.05,-0.02,-0.1,-0.09,0.09],[-0.02,-0.02,0.02,-0.01,-0.02,-0.05,0.05],[-0.02,-0.01,0.0,-0.02,-0.02,-0.04,0.05],[-0.01,-0.0,-0.02,0.0,0.0,-0.01,0.03]],\"type\":\"heatmap\"}],\"layout\":{\"height\":500,\"yaxis\":{\"autorange\":\"reversed\"},\"title\":{\"text\":\"Annual correlation heatmap\"},\"coloraxis\":{\"cmax\":0.13,\"cmin\":-0.13,\"colorbar\":{\"title\":{\"text\":\"Pearson\\u003cbr\\u003ecoef.\"}},\"colorscale\":[[0.0,\"rgb(5,48,97)\"],[0.1,\"rgb(33,102,172)\"],[0.2,\"rgb(67,147,195)\"],[0.3,\"rgb(146,197,222)\"],[0.4,\"rgb(209,229,240)\"],[0.5,\"rgb(247,247,247)\"],[0.6,\"rgb(253,219,199)\"],[0.7,\"rgb(244,165,130)\"],[0.8,\"rgb(214,96,77)\"],[0.9,\"rgb(178,24,43)\"],[1.0,\"rgb(103,0,31)\"]]}},\"name\":\"1\"},{\"data\":[{\"coloraxis\":\"coloraxis\",\"name\":\"2\",\"texttemplate\":\"%{z}\",\"x\":[\"Acer\",\"Betula\",\"Fagus\",\"Fraxinus\",\"Picea\",\"Pinus\",\"Quercus\"],\"y\":[\"temperature_2m_max\",\"temperature_2m_min\",\"total_precipitation_max\",\"total_precipitation_min\",\"dewpoint_temperature_2m_max\",\"dewpoint_temperature_2m_min\",\"volumetric_soil_water_layer_2_max\",\"volumetric_soil_water_layer_2_min\"],\"z\":[[-0.01,-0.04,0.03,-0.0,-0.03,-0.04,0.0],[-0.01,0.07,-0.02,-0.03,0.06,0.07,-0.05],[0.02,0.04,0.0,0.01,-0.02,0.01,0.02],[-0.01,-0.04,0.03,0.01,-0.01,-0.04,-0.0],[-0.03,-0.01,-0.01,-0.02,0.05,0.0,-0.03],[-0.0,0.07,-0.03,-0.03,0.06,0.05,-0.03],[-0.01,0.01,0.0,-0.01,0.0,-0.04,0.02],[-0.01,0.0,0.0,-0.01,0.03,-0.0,-0.02]],\"type\":\"heatmap\"}],\"layout\":{\"height\":500,\"yaxis\":{\"autorange\":\"reversed\"},\"title\":{\"text\":\"Annual correlation heatmap\"},\"coloraxis\":{\"cmax\":0.13,\"cmin\":-0.13,\"colorbar\":{\"title\":{\"text\":\"Pearson\\u003cbr\\u003ecoef.\"}},\"colorscale\":[[0.0,\"rgb(5,48,97)\"],[0.1,\"rgb(33,102,172)\"],[0.2,\"rgb(67,147,195)\"],[0.3,\"rgb(146,197,222)\"],[0.4,\"rgb(209,229,240)\"],[0.5,\"rgb(247,247,247)\"],[0.6,\"rgb(253,219,199)\"],[0.7,\"rgb(244,165,130)\"],[0.8,\"rgb(214,96,77)\"],[0.9,\"rgb(178,24,43)\"],[1.0,\"rgb(103,0,31)\"]]}},\"name\":\"2\"},{\"data\":[{\"coloraxis\":\"coloraxis\",\"name\":\"3\",\"texttemplate\":\"%{z}\",\"x\":[\"Acer\",\"Betula\",\"Fagus\",\"Fraxinus\",\"Picea\",\"Pinus\",\"Quercus\"],\"y\":[\"temperature_2m_max\",\"temperature_2m_min\",\"total_precipitation_max\",\"total_precipitation_min\",\"dewpoint_temperature_2m_max\",\"dewpoint_temperature_2m_min\",\"volumetric_soil_water_layer_2_max\",\"volumetric_soil_water_layer_2_min\"],\"z\":[[-0.03,0.01,-0.02,-0.03,0.1,0.03,-0.07],[-0.01,0.07,-0.03,-0.01,0.12,0.07,-0.09],[0.02,0.03,0.0,0.01,-0.01,0.02,-0.01],[-0.01,-0.02,0.01,-0.01,-0.07,-0.02,0.04],[-0.0,0.01,-0.01,0.0,0.01,0.01,0.01],[0.02,0.07,-0.02,0.01,0.04,0.05,-0.03],[0.02,-0.01,0.01,0.01,-0.07,-0.03,0.06],[0.03,0.02,0.01,0.02,-0.06,-0.02,0.04]],\"type\":\"heatmap\"}],\"layout\":{\"height\":500,\"yaxis\":{\"autorange\":\"reversed\"},\"title\":{\"text\":\"Annual correlation heatmap\"},\"coloraxis\":{\"cmax\":0.13,\"cmin\":-0.13,\"colorbar\":{\"title\":{\"text\":\"Pearson\\u003cbr\\u003ecoef.\"}},\"colorscale\":[[0.0,\"rgb(5,48,97)\"],[0.1,\"rgb(33,102,172)\"],[0.2,\"rgb(67,147,195)\"],[0.3,\"rgb(146,197,222)\"],[0.4,\"rgb(209,229,240)\"],[0.5,\"rgb(247,247,247)\"],[0.6,\"rgb(253,219,199)\"],[0.7,\"rgb(244,165,130)\"],[0.8,\"rgb(214,96,77)\"],[0.9,\"rgb(178,24,43)\"],[1.0,\"rgb(103,0,31)\"]]}},\"name\":\"3\"},{\"data\":[{\"coloraxis\":\"coloraxis\",\"name\":\"4\",\"texttemplate\":\"%{z}\",\"x\":[\"Acer\",\"Betula\",\"Fagus\",\"Fraxinus\",\"Picea\",\"Pinus\",\"Quercus\"],\"y\":[\"temperature_2m_max\",\"temperature_2m_min\",\"total_precipitation_max\",\"total_precipitation_min\",\"dewpoint_temperature_2m_max\",\"dewpoint_temperature_2m_min\",\"volumetric_soil_water_layer_2_max\",\"volumetric_soil_water_layer_2_min\"],\"z\":[[0.0,0.02,-0.0,0.0,0.07,0.03,-0.05],[0.01,0.08,-0.04,-0.01,0.09,0.06,-0.07],[-0.02,0.0,-0.03,-0.01,0.06,0.02,-0.03],[-0.02,-0.04,-0.01,-0.02,-0.01,-0.03,0.02],[-0.0,0.05,-0.03,0.0,0.12,0.05,-0.06],[-0.0,0.08,-0.04,-0.01,0.09,0.06,-0.07],[-0.02,-0.0,-0.02,-0.01,0.05,0.02,-0.02],[-0.01,0.03,-0.03,-0.0,0.12,0.05,-0.07]],\"type\":\"heatmap\"}],\"layout\":{\"height\":500,\"yaxis\":{\"autorange\":\"reversed\"},\"title\":{\"text\":\"Annual correlation heatmap\"},\"coloraxis\":{\"cmax\":0.13,\"cmin\":-0.13,\"colorbar\":{\"title\":{\"text\":\"Pearson\\u003cbr\\u003ecoef.\"}},\"colorscale\":[[0.0,\"rgb(5,48,97)\"],[0.1,\"rgb(33,102,172)\"],[0.2,\"rgb(67,147,195)\"],[0.3,\"rgb(146,197,222)\"],[0.4,\"rgb(209,229,240)\"],[0.5,\"rgb(247,247,247)\"],[0.6,\"rgb(253,219,199)\"],[0.7,\"rgb(244,165,130)\"],[0.8,\"rgb(214,96,77)\"],[0.9,\"rgb(178,24,43)\"],[1.0,\"rgb(103,0,31)\"]]}},\"name\":\"4\"}]);\n",
       "                        }).then(function(){\n",
       "                            \n",
       "var gd = document.getElementById('3e29c576-cb1a-45df-9754-f15bfe7464d5');\n",
       "var x = new MutationObserver(function (mutations, observer) {{\n",
       "        var display = window.getComputedStyle(gd).display;\n",
       "        if (!display || display === 'none') {{\n",
       "            console.log([gd, 'removed!']);\n",
       "            Plotly.purge(gd);\n",
       "            observer.disconnect();\n",
       "        }}\n",
       "}});\n",
       "\n",
       "// Listen for the removal of the full notebook cells\n",
       "var notebookContainer = gd.closest('#notebook-container');\n",
       "if (notebookContainer) {{\n",
       "    x.observe(notebookContainer, {childList: true});\n",
       "}}\n",
       "\n",
       "// Listen for the clearing of the current output cell\n",
       "var outputEl = gd.closest('.output');\n",
       "if (outputEl) {{\n",
       "    x.observe(outputEl, {childList: true});\n",
       "}}\n",
       "\n",
       "                        })                };                });            </script>        </div>"
      ]
     },
     "metadata": {},
     "output_type": "display_data"
    }
   ],
   "source": [
    "zmax = max([c.drop('year', axis=1).abs().max().max() for c in corrs])\n",
    "fig = px.imshow(\n",
    "    np.array([c.drop('year', axis=1) for c in corrs]),\n",
    "    animation_frame=0,\n",
    "    labels=dict(color='Pearson<br>coef.'),\n",
    "    x=corrs[0].drop('year', axis=1).columns,\n",
    "    y=corrs[0].drop('year', axis=1).index,\n",
    "    title='Annual correlation heatmap',\n",
    "    color_continuous_scale='RdBu_r',\n",
    "    text_auto=True, aspect='auto', \n",
    "    zmin=-zmax, \n",
    "    zmax=zmax, \n",
    "    height=500\n",
    ")\n",
    "fig.layout.sliders[0]['currentvalue']['prefix'] = ''\n",
    "for year, step in zip(eval_years, fig.layout.sliders[0].steps):\n",
    "    step.label = str(year)\n",
    "\n",
    "# fig.write_image(figures_dir.joinpath('climate_genus_corr.pdf'))\n",
    "fig"
   ]
  },
  {
   "cell_type": "code",
   "execution_count": 11,
   "id": "8bd536c3-6fbb-4b83-a14b-d13680ce9af1",
   "metadata": {},
   "outputs": [
    {
     "data": {
      "text/html": [
       "\n",
       "            <style>\n",
       "                .geemap-dark {\n",
       "                    --jp-widgets-color: white;\n",
       "                    --jp-widgets-label-color: white;\n",
       "                    --jp-ui-font-color1: white;\n",
       "                    --jp-layout-color2: #454545;\n",
       "                    background-color: #383838;\n",
       "                }\n",
       "\n",
       "                .geemap-dark .jupyter-button {\n",
       "                    --jp-layout-color3: #383838;\n",
       "                }\n",
       "\n",
       "                .geemap-colab {\n",
       "                    background-color: var(--colab-primary-surface-color, white);\n",
       "                }\n",
       "\n",
       "                .geemap-colab .jupyter-button {\n",
       "                    --jp-layout-color3: var(--colab-primary-surface-color, white);\n",
       "                }\n",
       "            </style>\n",
       "            "
      ],
      "text/plain": [
       "<IPython.core.display.HTML object>"
      ]
     },
     "metadata": {},
     "output_type": "display_data"
    },
    {
     "data": {
      "application/vnd.plotly.v1+json": {
       "config": {
        "plotlyServerURL": "https://plot.ly"
       },
       "data": [
        {
         "line": {
          "color": "rgb(68, 1, 84)"
         },
         "mode": "lines",
         "name": "Acer",
         "opacity": 0.6,
         "showlegend": true,
         "type": "scatter",
         "x": [
          2020,
          2021,
          2022,
          2023,
          2024
         ],
         "y": [
          0.005,
          -0.02,
          -0.01,
          0.01,
          -0.005
         ]
        },
        {
         "fill": "toself",
         "fillcolor": "rgb(68, 1, 84)",
         "hoverinfo": "skip",
         "line": {
          "color": "rgba(255,255,255,0)"
         },
         "opacity": 0.44999999999999996,
         "showlegend": false,
         "type": "scatter",
         "x": [
          2020,
          2021,
          2022,
          2023,
          2024,
          2024,
          2023,
          2022,
          2021,
          2020
         ],
         "y": [
          0.0125,
          -0.0175,
          -0.0075,
          0.02,
          0,
          -0.02,
          -0.01,
          -0.01,
          -0.02,
          -0.0025000000000000005
         ]
        },
        {
         "fill": "toself",
         "fillcolor": "rgb(68, 1, 84)",
         "hoverinfo": "skip",
         "line": {
          "color": "rgba(255,255,255,0)"
         },
         "opacity": 0.19999999999999996,
         "showlegend": false,
         "type": "scatter",
         "x": [
          2020,
          2021,
          2022,
          2023,
          2024,
          2024,
          2023,
          2022,
          2021,
          2020
         ],
         "y": [
          0.02,
          -0.01,
          0.02,
          0.03,
          0.01,
          -0.02,
          -0.03,
          -0.03,
          -0.03,
          -0.01
         ]
        },
        {
         "line": {
          "color": "rgb(67, 56, 128)"
         },
         "mode": "lines",
         "name": "Betula",
         "opacity": 0.6,
         "showlegend": true,
         "type": "scatter",
         "x": [
          2020,
          2021,
          2022,
          2023,
          2024
         ],
         "y": [
          0.035,
          -0.025,
          0.005,
          0.015,
          0.025
         ]
        },
        {
         "fill": "toself",
         "fillcolor": "rgb(67, 56, 128)",
         "hoverinfo": "skip",
         "line": {
          "color": "rgba(255,255,255,0)"
         },
         "opacity": 0.44999999999999996,
         "showlegend": false,
         "type": "scatter",
         "x": [
          2020,
          2021,
          2022,
          2023,
          2024,
          2024,
          2023,
          2022,
          2021,
          2020
         ],
         "y": [
          0.04,
          -0.0075,
          0.0475,
          0.04,
          0.0575,
          0,
          0.004999999999999999,
          -0.0175,
          -0.07250000000000001,
          0.01
         ]
        },
        {
         "fill": "toself",
         "fillcolor": "rgb(67, 56, 128)",
         "hoverinfo": "skip",
         "line": {
          "color": "rgba(255,255,255,0)"
         },
         "opacity": 0.19999999999999996,
         "showlegend": false,
         "type": "scatter",
         "x": [
          2020,
          2021,
          2022,
          2023,
          2024,
          2024,
          2023,
          2022,
          2021,
          2020
         ],
         "y": [
          0.06,
          0.01,
          0.07,
          0.07,
          0.08,
          -0.04,
          -0.02,
          -0.04,
          -0.09,
          -0.02
         ]
        },
        {
         "line": {
          "color": "rgb(49, 104, 142)"
         },
         "mode": "lines",
         "name": "Fagus",
         "opacity": 0.6,
         "showlegend": true,
         "type": "scatter",
         "x": [
          2020,
          2021,
          2022,
          2023,
          2024
         ],
         "y": [
          -0.015,
          0.02,
          0,
          -0.005,
          -0.03
         ]
        },
        {
         "fill": "toself",
         "fillcolor": "rgb(49, 104, 142)",
         "hoverinfo": "skip",
         "line": {
          "color": "rgba(255,255,255,0)"
         },
         "opacity": 0.44999999999999996,
         "showlegend": false,
         "type": "scatter",
         "x": [
          2020,
          2021,
          2022,
          2023,
          2024,
          2024,
          2023,
          2022,
          2021,
          2020
         ],
         "y": [
          0,
          0.0225,
          0.0075,
          0.01,
          -0.0175,
          -0.0325,
          -0.02,
          -0.0125,
          0.015,
          -0.0225
         ]
        },
        {
         "fill": "toself",
         "fillcolor": "rgb(49, 104, 142)",
         "hoverinfo": "skip",
         "line": {
          "color": "rgba(255,255,255,0)"
         },
         "opacity": 0.19999999999999996,
         "showlegend": false,
         "type": "scatter",
         "x": [
          2020,
          2021,
          2022,
          2023,
          2024,
          2024,
          2023,
          2022,
          2021,
          2020
         ],
         "y": [
          0.02,
          0.05,
          0.03,
          0.01,
          0,
          -0.04,
          -0.03,
          -0.03,
          -0.02,
          -0.04
         ]
        },
        {
         "line": {
          "color": "rgb(34, 144, 140)"
         },
         "mode": "lines",
         "name": "Fraxinus",
         "opacity": 0.6,
         "showlegend": true,
         "type": "scatter",
         "x": [
          2020,
          2021,
          2022,
          2023,
          2024
         ],
         "y": [
          0,
          -0.01,
          -0.01,
          0.005,
          -0.01
         ]
        },
        {
         "fill": "toself",
         "fillcolor": "rgb(34, 144, 140)",
         "hoverinfo": "skip",
         "line": {
          "color": "rgba(255,255,255,0)"
         },
         "opacity": 0.44999999999999996,
         "showlegend": false,
         "type": "scatter",
         "x": [
          2020,
          2021,
          2022,
          2023,
          2024,
          2024,
          2023,
          2022,
          2021,
          2020
         ],
         "y": [
          0,
          -0.01,
          0.0025,
          0.01,
          0,
          -0.01,
          -0.01,
          -0.0225,
          -0.02,
          -0.0125
         ]
        },
        {
         "fill": "toself",
         "fillcolor": "rgb(34, 144, 140)",
         "hoverinfo": "skip",
         "line": {
          "color": "rgba(255,255,255,0)"
         },
         "opacity": 0.19999999999999996,
         "showlegend": false,
         "type": "scatter",
         "x": [
          2020,
          2021,
          2022,
          2023,
          2024,
          2024,
          2023,
          2022,
          2021,
          2020
         ],
         "y": [
          0,
          0,
          0.01,
          0.02,
          0,
          -0.02,
          -0.03,
          -0.03,
          -0.02,
          -0.02
         ]
        },
        {
         "line": {
          "color": "rgb(53, 183, 121)"
         },
         "mode": "lines",
         "name": "Picea",
         "opacity": 0.6,
         "showlegend": true,
         "type": "scatter",
         "x": [
          2020,
          2021,
          2022,
          2023,
          2024
         ],
         "y": [
          0.07500000000000001,
          -0.025,
          0.015,
          0,
          0.08
         ]
        },
        {
         "fill": "toself",
         "fillcolor": "rgb(53, 183, 121)",
         "hoverinfo": "skip",
         "line": {
          "color": "rgba(255,255,255,0)"
         },
         "opacity": 0.44999999999999996,
         "showlegend": false,
         "type": "scatter",
         "x": [
          2020,
          2021,
          2022,
          2023,
          2024,
          2024,
          2023,
          2022,
          2021,
          2020
         ],
         "y": [
          0.08,
          -0.0175,
          0.052500000000000005,
          0.055,
          0.0975,
          0.057499999999999996,
          -0.0625,
          -0.0125,
          -0.0925,
          0.0525
         ]
        },
        {
         "fill": "toself",
         "fillcolor": "rgb(53, 183, 121)",
         "hoverinfo": "skip",
         "line": {
          "color": "rgba(255,255,255,0)"
         },
         "opacity": 0.19999999999999996,
         "showlegend": false,
         "type": "scatter",
         "x": [
          2020,
          2021,
          2022,
          2023,
          2024,
          2024,
          2023,
          2022,
          2021,
          2020
         ],
         "y": [
          0.13,
          0,
          0.06,
          0.12,
          0.12,
          -0.01,
          -0.07,
          -0.03,
          -0.1,
          0.03
         ]
        },
        {
         "line": {
          "color": "rgb(146, 214, 65)"
         },
         "mode": "lines",
         "name": "Pinus",
         "opacity": 0.6,
         "showlegend": true,
         "type": "scatter",
         "x": [
          2020,
          2021,
          2022,
          2023,
          2024
         ],
         "y": [
          0.03,
          -0.05,
          0,
          0.015,
          0.04
         ]
        },
        {
         "fill": "toself",
         "fillcolor": "rgb(146, 214, 65)",
         "hoverinfo": "skip",
         "line": {
          "color": "rgba(255,255,255,0)"
         },
         "opacity": 0.44999999999999996,
         "showlegend": false,
         "type": "scatter",
         "x": [
          2020,
          2021,
          2022,
          2023,
          2024,
          2024,
          2023,
          2022,
          2021,
          2020
         ],
         "y": [
          0.06,
          -0.0325,
          0.02,
          0.035,
          0.052500000000000005,
          0.02,
          -0.02,
          -0.04,
          -0.06,
          -0.005000000000000001
         ]
        },
        {
         "fill": "toself",
         "fillcolor": "rgb(146, 214, 65)",
         "hoverinfo": "skip",
         "line": {
          "color": "rgba(255,255,255,0)"
         },
         "opacity": 0.19999999999999996,
         "showlegend": false,
         "type": "scatter",
         "x": [
          2020,
          2021,
          2022,
          2023,
          2024,
          2024,
          2023,
          2022,
          2021,
          2020
         ],
         "y": [
          0.07,
          0,
          0.07,
          0.07,
          0.06,
          -0.03,
          -0.03,
          -0.04,
          -0.09,
          -0.05
         ]
        },
        {
         "line": {
          "color": "rgb(253, 231, 37)"
         },
         "mode": "lines",
         "name": "Quercus",
         "opacity": 0.6,
         "showlegend": true,
         "type": "scatter",
         "x": [
          2020,
          2021,
          2022,
          2023,
          2024
         ],
         "y": [
          -0.045,
          0.05,
          -0.01,
          0,
          -0.055
         ]
        },
        {
         "fill": "toself",
         "fillcolor": "rgb(253, 231, 37)",
         "hoverinfo": "skip",
         "line": {
          "color": "rgba(255,255,255,0)"
         },
         "opacity": 0.44999999999999996,
         "showlegend": false,
         "type": "scatter",
         "x": [
          2020,
          2021,
          2022,
          2023,
          2024,
          2024,
          2023,
          2022,
          2021,
          2020
         ],
         "y": [
          -0.025,
          0.0575,
          0.005,
          0.04,
          -0.0275,
          -0.07,
          -0.04,
          -0.03,
          0.045,
          -0.05
         ]
        },
        {
         "fill": "toself",
         "fillcolor": "rgb(253, 231, 37)",
         "hoverinfo": "skip",
         "line": {
          "color": "rgba(255,255,255,0)"
         },
         "opacity": 0.19999999999999996,
         "showlegend": false,
         "type": "scatter",
         "x": [
          2020,
          2021,
          2022,
          2023,
          2024,
          2024,
          2023,
          2022,
          2021,
          2020
         ],
         "y": [
          -0.01,
          0.09,
          0.02,
          0.06,
          0.02,
          -0.07,
          -0.09,
          -0.05,
          -0.03,
          -0.08
         ]
        }
       ],
       "layout": {
        "autosize": true,
        "template": {
         "data": {
          "bar": [
           {
            "error_x": {
             "color": "#2a3f5f"
            },
            "error_y": {
             "color": "#2a3f5f"
            },
            "marker": {
             "line": {
              "color": "#E5ECF6",
              "width": 0.5
             },
             "pattern": {
              "fillmode": "overlay",
              "size": 10,
              "solidity": 0.2
             }
            },
            "type": "bar"
           }
          ],
          "barpolar": [
           {
            "marker": {
             "line": {
              "color": "#E5ECF6",
              "width": 0.5
             },
             "pattern": {
              "fillmode": "overlay",
              "size": 10,
              "solidity": 0.2
             }
            },
            "type": "barpolar"
           }
          ],
          "carpet": [
           {
            "aaxis": {
             "endlinecolor": "#2a3f5f",
             "gridcolor": "white",
             "linecolor": "white",
             "minorgridcolor": "white",
             "startlinecolor": "#2a3f5f"
            },
            "baxis": {
             "endlinecolor": "#2a3f5f",
             "gridcolor": "white",
             "linecolor": "white",
             "minorgridcolor": "white",
             "startlinecolor": "#2a3f5f"
            },
            "type": "carpet"
           }
          ],
          "choropleth": [
           {
            "colorbar": {
             "outlinewidth": 0,
             "ticks": ""
            },
            "type": "choropleth"
           }
          ],
          "contour": [
           {
            "colorbar": {
             "outlinewidth": 0,
             "ticks": ""
            },
            "colorscale": [
             [
              0,
              "#0d0887"
             ],
             [
              0.1111111111111111,
              "#46039f"
             ],
             [
              0.2222222222222222,
              "#7201a8"
             ],
             [
              0.3333333333333333,
              "#9c179e"
             ],
             [
              0.4444444444444444,
              "#bd3786"
             ],
             [
              0.5555555555555556,
              "#d8576b"
             ],
             [
              0.6666666666666666,
              "#ed7953"
             ],
             [
              0.7777777777777778,
              "#fb9f3a"
             ],
             [
              0.8888888888888888,
              "#fdca26"
             ],
             [
              1,
              "#f0f921"
             ]
            ],
            "type": "contour"
           }
          ],
          "contourcarpet": [
           {
            "colorbar": {
             "outlinewidth": 0,
             "ticks": ""
            },
            "type": "contourcarpet"
           }
          ],
          "heatmap": [
           {
            "colorbar": {
             "outlinewidth": 0,
             "ticks": ""
            },
            "colorscale": [
             [
              0,
              "#0d0887"
             ],
             [
              0.1111111111111111,
              "#46039f"
             ],
             [
              0.2222222222222222,
              "#7201a8"
             ],
             [
              0.3333333333333333,
              "#9c179e"
             ],
             [
              0.4444444444444444,
              "#bd3786"
             ],
             [
              0.5555555555555556,
              "#d8576b"
             ],
             [
              0.6666666666666666,
              "#ed7953"
             ],
             [
              0.7777777777777778,
              "#fb9f3a"
             ],
             [
              0.8888888888888888,
              "#fdca26"
             ],
             [
              1,
              "#f0f921"
             ]
            ],
            "type": "heatmap"
           }
          ],
          "heatmapgl": [
           {
            "colorbar": {
             "outlinewidth": 0,
             "ticks": ""
            },
            "colorscale": [
             [
              0,
              "#0d0887"
             ],
             [
              0.1111111111111111,
              "#46039f"
             ],
             [
              0.2222222222222222,
              "#7201a8"
             ],
             [
              0.3333333333333333,
              "#9c179e"
             ],
             [
              0.4444444444444444,
              "#bd3786"
             ],
             [
              0.5555555555555556,
              "#d8576b"
             ],
             [
              0.6666666666666666,
              "#ed7953"
             ],
             [
              0.7777777777777778,
              "#fb9f3a"
             ],
             [
              0.8888888888888888,
              "#fdca26"
             ],
             [
              1,
              "#f0f921"
             ]
            ],
            "type": "heatmapgl"
           }
          ],
          "histogram": [
           {
            "marker": {
             "pattern": {
              "fillmode": "overlay",
              "size": 10,
              "solidity": 0.2
             }
            },
            "type": "histogram"
           }
          ],
          "histogram2d": [
           {
            "colorbar": {
             "outlinewidth": 0,
             "ticks": ""
            },
            "colorscale": [
             [
              0,
              "#0d0887"
             ],
             [
              0.1111111111111111,
              "#46039f"
             ],
             [
              0.2222222222222222,
              "#7201a8"
             ],
             [
              0.3333333333333333,
              "#9c179e"
             ],
             [
              0.4444444444444444,
              "#bd3786"
             ],
             [
              0.5555555555555556,
              "#d8576b"
             ],
             [
              0.6666666666666666,
              "#ed7953"
             ],
             [
              0.7777777777777778,
              "#fb9f3a"
             ],
             [
              0.8888888888888888,
              "#fdca26"
             ],
             [
              1,
              "#f0f921"
             ]
            ],
            "type": "histogram2d"
           }
          ],
          "histogram2dcontour": [
           {
            "colorbar": {
             "outlinewidth": 0,
             "ticks": ""
            },
            "colorscale": [
             [
              0,
              "#0d0887"
             ],
             [
              0.1111111111111111,
              "#46039f"
             ],
             [
              0.2222222222222222,
              "#7201a8"
             ],
             [
              0.3333333333333333,
              "#9c179e"
             ],
             [
              0.4444444444444444,
              "#bd3786"
             ],
             [
              0.5555555555555556,
              "#d8576b"
             ],
             [
              0.6666666666666666,
              "#ed7953"
             ],
             [
              0.7777777777777778,
              "#fb9f3a"
             ],
             [
              0.8888888888888888,
              "#fdca26"
             ],
             [
              1,
              "#f0f921"
             ]
            ],
            "type": "histogram2dcontour"
           }
          ],
          "mesh3d": [
           {
            "colorbar": {
             "outlinewidth": 0,
             "ticks": ""
            },
            "type": "mesh3d"
           }
          ],
          "parcoords": [
           {
            "line": {
             "colorbar": {
              "outlinewidth": 0,
              "ticks": ""
             }
            },
            "type": "parcoords"
           }
          ],
          "pie": [
           {
            "automargin": true,
            "type": "pie"
           }
          ],
          "scatter": [
           {
            "fillpattern": {
             "fillmode": "overlay",
             "size": 10,
             "solidity": 0.2
            },
            "type": "scatter"
           }
          ],
          "scatter3d": [
           {
            "line": {
             "colorbar": {
              "outlinewidth": 0,
              "ticks": ""
             }
            },
            "marker": {
             "colorbar": {
              "outlinewidth": 0,
              "ticks": ""
             }
            },
            "type": "scatter3d"
           }
          ],
          "scattercarpet": [
           {
            "marker": {
             "colorbar": {
              "outlinewidth": 0,
              "ticks": ""
             }
            },
            "type": "scattercarpet"
           }
          ],
          "scattergeo": [
           {
            "marker": {
             "colorbar": {
              "outlinewidth": 0,
              "ticks": ""
             }
            },
            "type": "scattergeo"
           }
          ],
          "scattergl": [
           {
            "marker": {
             "colorbar": {
              "outlinewidth": 0,
              "ticks": ""
             }
            },
            "type": "scattergl"
           }
          ],
          "scattermapbox": [
           {
            "marker": {
             "colorbar": {
              "outlinewidth": 0,
              "ticks": ""
             }
            },
            "type": "scattermapbox"
           }
          ],
          "scatterpolar": [
           {
            "marker": {
             "colorbar": {
              "outlinewidth": 0,
              "ticks": ""
             }
            },
            "type": "scatterpolar"
           }
          ],
          "scatterpolargl": [
           {
            "marker": {
             "colorbar": {
              "outlinewidth": 0,
              "ticks": ""
             }
            },
            "type": "scatterpolargl"
           }
          ],
          "scatterternary": [
           {
            "marker": {
             "colorbar": {
              "outlinewidth": 0,
              "ticks": ""
             }
            },
            "type": "scatterternary"
           }
          ],
          "surface": [
           {
            "colorbar": {
             "outlinewidth": 0,
             "ticks": ""
            },
            "colorscale": [
             [
              0,
              "#0d0887"
             ],
             [
              0.1111111111111111,
              "#46039f"
             ],
             [
              0.2222222222222222,
              "#7201a8"
             ],
             [
              0.3333333333333333,
              "#9c179e"
             ],
             [
              0.4444444444444444,
              "#bd3786"
             ],
             [
              0.5555555555555556,
              "#d8576b"
             ],
             [
              0.6666666666666666,
              "#ed7953"
             ],
             [
              0.7777777777777778,
              "#fb9f3a"
             ],
             [
              0.8888888888888888,
              "#fdca26"
             ],
             [
              1,
              "#f0f921"
             ]
            ],
            "type": "surface"
           }
          ],
          "table": [
           {
            "cells": {
             "fill": {
              "color": "#EBF0F8"
             },
             "line": {
              "color": "white"
             }
            },
            "header": {
             "fill": {
              "color": "#C8D4E3"
             },
             "line": {
              "color": "white"
             }
            },
            "type": "table"
           }
          ]
         },
         "layout": {
          "annotationdefaults": {
           "arrowcolor": "#2a3f5f",
           "arrowhead": 0,
           "arrowwidth": 1
          },
          "autotypenumbers": "strict",
          "coloraxis": {
           "colorbar": {
            "outlinewidth": 0,
            "ticks": ""
           }
          },
          "colorscale": {
           "diverging": [
            [
             0,
             "#8e0152"
            ],
            [
             0.1,
             "#c51b7d"
            ],
            [
             0.2,
             "#de77ae"
            ],
            [
             0.3,
             "#f1b6da"
            ],
            [
             0.4,
             "#fde0ef"
            ],
            [
             0.5,
             "#f7f7f7"
            ],
            [
             0.6,
             "#e6f5d0"
            ],
            [
             0.7,
             "#b8e186"
            ],
            [
             0.8,
             "#7fbc41"
            ],
            [
             0.9,
             "#4d9221"
            ],
            [
             1,
             "#276419"
            ]
           ],
           "sequential": [
            [
             0,
             "#0d0887"
            ],
            [
             0.1111111111111111,
             "#46039f"
            ],
            [
             0.2222222222222222,
             "#7201a8"
            ],
            [
             0.3333333333333333,
             "#9c179e"
            ],
            [
             0.4444444444444444,
             "#bd3786"
            ],
            [
             0.5555555555555556,
             "#d8576b"
            ],
            [
             0.6666666666666666,
             "#ed7953"
            ],
            [
             0.7777777777777778,
             "#fb9f3a"
            ],
            [
             0.8888888888888888,
             "#fdca26"
            ],
            [
             1,
             "#f0f921"
            ]
           ],
           "sequentialminus": [
            [
             0,
             "#0d0887"
            ],
            [
             0.1111111111111111,
             "#46039f"
            ],
            [
             0.2222222222222222,
             "#7201a8"
            ],
            [
             0.3333333333333333,
             "#9c179e"
            ],
            [
             0.4444444444444444,
             "#bd3786"
            ],
            [
             0.5555555555555556,
             "#d8576b"
            ],
            [
             0.6666666666666666,
             "#ed7953"
            ],
            [
             0.7777777777777778,
             "#fb9f3a"
            ],
            [
             0.8888888888888888,
             "#fdca26"
            ],
            [
             1,
             "#f0f921"
            ]
           ]
          },
          "colorway": [
           "#636efa",
           "#EF553B",
           "#00cc96",
           "#ab63fa",
           "#FFA15A",
           "#19d3f3",
           "#FF6692",
           "#B6E880",
           "#FF97FF",
           "#FECB52"
          ],
          "font": {
           "color": "#2a3f5f"
          },
          "geo": {
           "bgcolor": "white",
           "lakecolor": "white",
           "landcolor": "#E5ECF6",
           "showlakes": true,
           "showland": true,
           "subunitcolor": "white"
          },
          "hoverlabel": {
           "align": "left"
          },
          "hovermode": "closest",
          "mapbox": {
           "style": "light"
          },
          "paper_bgcolor": "white",
          "plot_bgcolor": "#E5ECF6",
          "polar": {
           "angularaxis": {
            "gridcolor": "white",
            "linecolor": "white",
            "ticks": ""
           },
           "bgcolor": "#E5ECF6",
           "radialaxis": {
            "gridcolor": "white",
            "linecolor": "white",
            "ticks": ""
           }
          },
          "scene": {
           "xaxis": {
            "backgroundcolor": "#E5ECF6",
            "gridcolor": "white",
            "gridwidth": 2,
            "linecolor": "white",
            "showbackground": true,
            "ticks": "",
            "zerolinecolor": "white"
           },
           "yaxis": {
            "backgroundcolor": "#E5ECF6",
            "gridcolor": "white",
            "gridwidth": 2,
            "linecolor": "white",
            "showbackground": true,
            "ticks": "",
            "zerolinecolor": "white"
           },
           "zaxis": {
            "backgroundcolor": "#E5ECF6",
            "gridcolor": "white",
            "gridwidth": 2,
            "linecolor": "white",
            "showbackground": true,
            "ticks": "",
            "zerolinecolor": "white"
           }
          },
          "shapedefaults": {
           "line": {
            "color": "#2a3f5f"
           }
          },
          "ternary": {
           "aaxis": {
            "gridcolor": "white",
            "linecolor": "white",
            "ticks": ""
           },
           "baxis": {
            "gridcolor": "white",
            "linecolor": "white",
            "ticks": ""
           },
           "bgcolor": "#E5ECF6",
           "caxis": {
            "gridcolor": "white",
            "linecolor": "white",
            "ticks": ""
           }
          },
          "title": {
           "x": 0.05
          },
          "xaxis": {
           "automargin": true,
           "gridcolor": "white",
           "linecolor": "white",
           "ticks": "",
           "title": {
            "standoff": 15
           },
           "zerolinecolor": "white",
           "zerolinewidth": 2
          },
          "yaxis": {
           "automargin": true,
           "gridcolor": "white",
           "linecolor": "white",
           "ticks": "",
           "title": {
            "standoff": 15
           },
           "zerolinecolor": "white",
           "zerolinewidth": 2
          }
         }
        },
        "xaxis": {
         "autorange": true,
         "range": [
          2019.7401894451962,
          2024.2598105548038
         ],
         "title": {
          "text": "year"
         },
         "type": "linear"
        },
        "yaxis": {
         "autorange": true,
         "range": [
          -0.11898058252427185,
          0.14898058252427185
         ],
         "title": {
          "text": "Pearson coef."
         },
         "type": "linear"
        }
       }
      },
      "text/html": [
       "<div>                            <div id=\"d4e0d9f3-9633-4389-9e95-f4cdc105b2f7\" class=\"plotly-graph-div\" style=\"height:525px; width:100%;\"></div>            <script type=\"text/javascript\">                require([\"plotly\"], function(Plotly) {                    window.PLOTLYENV=window.PLOTLYENV || {};                                    if (document.getElementById(\"d4e0d9f3-9633-4389-9e95-f4cdc105b2f7\")) {                    Plotly.newPlot(                        \"d4e0d9f3-9633-4389-9e95-f4cdc105b2f7\",                        [{\"line\":{\"color\":\"rgb(68, 1, 84)\"},\"mode\":\"lines\",\"name\":\"Acer\",\"opacity\":0.6,\"showlegend\":true,\"x\":[2020,2021,2022,2023,2024],\"y\":[0.005,-0.02,-0.01,0.01,-0.005],\"type\":\"scatter\"},{\"fill\":\"toself\",\"fillcolor\":\"rgb(68, 1, 84)\",\"hoverinfo\":\"skip\",\"line\":{\"color\":\"rgba(255,255,255,0)\"},\"opacity\":0.44999999999999996,\"showlegend\":false,\"x\":[2020,2021,2022,2023,2024,2024,2023,2022,2021,2020],\"y\":[0.0125,-0.0175,-0.0075,0.02,0.0,-0.02,-0.01,-0.01,-0.02,-0.0025000000000000005],\"type\":\"scatter\"},{\"fill\":\"toself\",\"fillcolor\":\"rgb(68, 1, 84)\",\"hoverinfo\":\"skip\",\"line\":{\"color\":\"rgba(255,255,255,0)\"},\"opacity\":0.19999999999999996,\"showlegend\":false,\"x\":[2020,2021,2022,2023,2024,2024,2023,2022,2021,2020],\"y\":[0.02,-0.01,0.02,0.03,0.01,-0.02,-0.03,-0.03,-0.03,-0.01],\"type\":\"scatter\"},{\"line\":{\"color\":\"rgb(67, 56, 128)\"},\"mode\":\"lines\",\"name\":\"Betula\",\"opacity\":0.6,\"showlegend\":true,\"x\":[2020,2021,2022,2023,2024],\"y\":[0.035,-0.025,0.005,0.015,0.025],\"type\":\"scatter\"},{\"fill\":\"toself\",\"fillcolor\":\"rgb(67, 56, 128)\",\"hoverinfo\":\"skip\",\"line\":{\"color\":\"rgba(255,255,255,0)\"},\"opacity\":0.44999999999999996,\"showlegend\":false,\"x\":[2020,2021,2022,2023,2024,2024,2023,2022,2021,2020],\"y\":[0.04,-0.0075,0.0475,0.04,0.0575,0.0,0.004999999999999999,-0.0175,-0.07250000000000001,0.01],\"type\":\"scatter\"},{\"fill\":\"toself\",\"fillcolor\":\"rgb(67, 56, 128)\",\"hoverinfo\":\"skip\",\"line\":{\"color\":\"rgba(255,255,255,0)\"},\"opacity\":0.19999999999999996,\"showlegend\":false,\"x\":[2020,2021,2022,2023,2024,2024,2023,2022,2021,2020],\"y\":[0.06,0.01,0.07,0.07,0.08,-0.04,-0.02,-0.04,-0.09,-0.02],\"type\":\"scatter\"},{\"line\":{\"color\":\"rgb(49, 104, 142)\"},\"mode\":\"lines\",\"name\":\"Fagus\",\"opacity\":0.6,\"showlegend\":true,\"x\":[2020,2021,2022,2023,2024],\"y\":[-0.015,0.02,0.0,-0.005,-0.03],\"type\":\"scatter\"},{\"fill\":\"toself\",\"fillcolor\":\"rgb(49, 104, 142)\",\"hoverinfo\":\"skip\",\"line\":{\"color\":\"rgba(255,255,255,0)\"},\"opacity\":0.44999999999999996,\"showlegend\":false,\"x\":[2020,2021,2022,2023,2024,2024,2023,2022,2021,2020],\"y\":[0.0,0.0225,0.0075,0.01,-0.0175,-0.0325,-0.02,-0.0125,0.015,-0.0225],\"type\":\"scatter\"},{\"fill\":\"toself\",\"fillcolor\":\"rgb(49, 104, 142)\",\"hoverinfo\":\"skip\",\"line\":{\"color\":\"rgba(255,255,255,0)\"},\"opacity\":0.19999999999999996,\"showlegend\":false,\"x\":[2020,2021,2022,2023,2024,2024,2023,2022,2021,2020],\"y\":[0.02,0.05,0.03,0.01,-0.0,-0.04,-0.03,-0.03,-0.02,-0.04],\"type\":\"scatter\"},{\"line\":{\"color\":\"rgb(34, 144, 140)\"},\"mode\":\"lines\",\"name\":\"Fraxinus\",\"opacity\":0.6,\"showlegend\":true,\"x\":[2020,2021,2022,2023,2024],\"y\":[0.0,-0.01,-0.01,0.005,-0.01],\"type\":\"scatter\"},{\"fill\":\"toself\",\"fillcolor\":\"rgb(34, 144, 140)\",\"hoverinfo\":\"skip\",\"line\":{\"color\":\"rgba(255,255,255,0)\"},\"opacity\":0.44999999999999996,\"showlegend\":false,\"x\":[2020,2021,2022,2023,2024,2024,2023,2022,2021,2020],\"y\":[0.0,-0.01,0.0025,0.01,0.0,-0.01,-0.01,-0.0225,-0.02,-0.0125],\"type\":\"scatter\"},{\"fill\":\"toself\",\"fillcolor\":\"rgb(34, 144, 140)\",\"hoverinfo\":\"skip\",\"line\":{\"color\":\"rgba(255,255,255,0)\"},\"opacity\":0.19999999999999996,\"showlegend\":false,\"x\":[2020,2021,2022,2023,2024,2024,2023,2022,2021,2020],\"y\":[-0.0,0.0,0.01,0.02,-0.0,-0.02,-0.03,-0.03,-0.02,-0.02],\"type\":\"scatter\"},{\"line\":{\"color\":\"rgb(53, 183, 121)\"},\"mode\":\"lines\",\"name\":\"Picea\",\"opacity\":0.6,\"showlegend\":true,\"x\":[2020,2021,2022,2023,2024],\"y\":[0.07500000000000001,-0.025,0.015,0.0,0.08],\"type\":\"scatter\"},{\"fill\":\"toself\",\"fillcolor\":\"rgb(53, 183, 121)\",\"hoverinfo\":\"skip\",\"line\":{\"color\":\"rgba(255,255,255,0)\"},\"opacity\":0.44999999999999996,\"showlegend\":false,\"x\":[2020,2021,2022,2023,2024,2024,2023,2022,2021,2020],\"y\":[0.08,-0.0175,0.052500000000000005,0.055,0.0975,0.057499999999999996,-0.0625,-0.0125,-0.0925,0.0525],\"type\":\"scatter\"},{\"fill\":\"toself\",\"fillcolor\":\"rgb(53, 183, 121)\",\"hoverinfo\":\"skip\",\"line\":{\"color\":\"rgba(255,255,255,0)\"},\"opacity\":0.19999999999999996,\"showlegend\":false,\"x\":[2020,2021,2022,2023,2024,2024,2023,2022,2021,2020],\"y\":[0.13,0.0,0.06,0.12,0.12,-0.01,-0.07,-0.03,-0.1,0.03],\"type\":\"scatter\"},{\"line\":{\"color\":\"rgb(146, 214, 65)\"},\"mode\":\"lines\",\"name\":\"Pinus\",\"opacity\":0.6,\"showlegend\":true,\"x\":[2020,2021,2022,2023,2024],\"y\":[0.03,-0.05,0.0,0.015,0.04],\"type\":\"scatter\"},{\"fill\":\"toself\",\"fillcolor\":\"rgb(146, 214, 65)\",\"hoverinfo\":\"skip\",\"line\":{\"color\":\"rgba(255,255,255,0)\"},\"opacity\":0.44999999999999996,\"showlegend\":false,\"x\":[2020,2021,2022,2023,2024,2024,2023,2022,2021,2020],\"y\":[0.06,-0.0325,0.02,0.035,0.052500000000000005,0.02,-0.02,-0.04,-0.06,-0.005000000000000001],\"type\":\"scatter\"},{\"fill\":\"toself\",\"fillcolor\":\"rgb(146, 214, 65)\",\"hoverinfo\":\"skip\",\"line\":{\"color\":\"rgba(255,255,255,0)\"},\"opacity\":0.19999999999999996,\"showlegend\":false,\"x\":[2020,2021,2022,2023,2024,2024,2023,2022,2021,2020],\"y\":[0.07,0.0,0.07,0.07,0.06,-0.03,-0.03,-0.04,-0.09,-0.05],\"type\":\"scatter\"},{\"line\":{\"color\":\"rgb(253, 231, 37)\"},\"mode\":\"lines\",\"name\":\"Quercus\",\"opacity\":0.6,\"showlegend\":true,\"x\":[2020,2021,2022,2023,2024],\"y\":[-0.045,0.05,-0.01,0.0,-0.055],\"type\":\"scatter\"},{\"fill\":\"toself\",\"fillcolor\":\"rgb(253, 231, 37)\",\"hoverinfo\":\"skip\",\"line\":{\"color\":\"rgba(255,255,255,0)\"},\"opacity\":0.44999999999999996,\"showlegend\":false,\"x\":[2020,2021,2022,2023,2024,2024,2023,2022,2021,2020],\"y\":[-0.025,0.0575,0.005,0.04,-0.0275,-0.07,-0.04,-0.03,0.045,-0.05],\"type\":\"scatter\"},{\"fill\":\"toself\",\"fillcolor\":\"rgb(253, 231, 37)\",\"hoverinfo\":\"skip\",\"line\":{\"color\":\"rgba(255,255,255,0)\"},\"opacity\":0.19999999999999996,\"showlegend\":false,\"x\":[2020,2021,2022,2023,2024,2024,2023,2022,2021,2020],\"y\":[-0.01,0.09,0.02,0.06,0.02,-0.07,-0.09,-0.05,-0.03,-0.08],\"type\":\"scatter\"}],                        {\"template\":{\"data\":{\"histogram2dcontour\":[{\"type\":\"histogram2dcontour\",\"colorbar\":{\"outlinewidth\":0,\"ticks\":\"\"},\"colorscale\":[[0.0,\"#0d0887\"],[0.1111111111111111,\"#46039f\"],[0.2222222222222222,\"#7201a8\"],[0.3333333333333333,\"#9c179e\"],[0.4444444444444444,\"#bd3786\"],[0.5555555555555556,\"#d8576b\"],[0.6666666666666666,\"#ed7953\"],[0.7777777777777778,\"#fb9f3a\"],[0.8888888888888888,\"#fdca26\"],[1.0,\"#f0f921\"]]}],\"choropleth\":[{\"type\":\"choropleth\",\"colorbar\":{\"outlinewidth\":0,\"ticks\":\"\"}}],\"histogram2d\":[{\"type\":\"histogram2d\",\"colorbar\":{\"outlinewidth\":0,\"ticks\":\"\"},\"colorscale\":[[0.0,\"#0d0887\"],[0.1111111111111111,\"#46039f\"],[0.2222222222222222,\"#7201a8\"],[0.3333333333333333,\"#9c179e\"],[0.4444444444444444,\"#bd3786\"],[0.5555555555555556,\"#d8576b\"],[0.6666666666666666,\"#ed7953\"],[0.7777777777777778,\"#fb9f3a\"],[0.8888888888888888,\"#fdca26\"],[1.0,\"#f0f921\"]]}],\"heatmap\":[{\"type\":\"heatmap\",\"colorbar\":{\"outlinewidth\":0,\"ticks\":\"\"},\"colorscale\":[[0.0,\"#0d0887\"],[0.1111111111111111,\"#46039f\"],[0.2222222222222222,\"#7201a8\"],[0.3333333333333333,\"#9c179e\"],[0.4444444444444444,\"#bd3786\"],[0.5555555555555556,\"#d8576b\"],[0.6666666666666666,\"#ed7953\"],[0.7777777777777778,\"#fb9f3a\"],[0.8888888888888888,\"#fdca26\"],[1.0,\"#f0f921\"]]}],\"heatmapgl\":[{\"type\":\"heatmapgl\",\"colorbar\":{\"outlinewidth\":0,\"ticks\":\"\"},\"colorscale\":[[0.0,\"#0d0887\"],[0.1111111111111111,\"#46039f\"],[0.2222222222222222,\"#7201a8\"],[0.3333333333333333,\"#9c179e\"],[0.4444444444444444,\"#bd3786\"],[0.5555555555555556,\"#d8576b\"],[0.6666666666666666,\"#ed7953\"],[0.7777777777777778,\"#fb9f3a\"],[0.8888888888888888,\"#fdca26\"],[1.0,\"#f0f921\"]]}],\"contourcarpet\":[{\"type\":\"contourcarpet\",\"colorbar\":{\"outlinewidth\":0,\"ticks\":\"\"}}],\"contour\":[{\"type\":\"contour\",\"colorbar\":{\"outlinewidth\":0,\"ticks\":\"\"},\"colorscale\":[[0.0,\"#0d0887\"],[0.1111111111111111,\"#46039f\"],[0.2222222222222222,\"#7201a8\"],[0.3333333333333333,\"#9c179e\"],[0.4444444444444444,\"#bd3786\"],[0.5555555555555556,\"#d8576b\"],[0.6666666666666666,\"#ed7953\"],[0.7777777777777778,\"#fb9f3a\"],[0.8888888888888888,\"#fdca26\"],[1.0,\"#f0f921\"]]}],\"surface\":[{\"type\":\"surface\",\"colorbar\":{\"outlinewidth\":0,\"ticks\":\"\"},\"colorscale\":[[0.0,\"#0d0887\"],[0.1111111111111111,\"#46039f\"],[0.2222222222222222,\"#7201a8\"],[0.3333333333333333,\"#9c179e\"],[0.4444444444444444,\"#bd3786\"],[0.5555555555555556,\"#d8576b\"],[0.6666666666666666,\"#ed7953\"],[0.7777777777777778,\"#fb9f3a\"],[0.8888888888888888,\"#fdca26\"],[1.0,\"#f0f921\"]]}],\"mesh3d\":[{\"type\":\"mesh3d\",\"colorbar\":{\"outlinewidth\":0,\"ticks\":\"\"}}],\"scatter\":[{\"fillpattern\":{\"fillmode\":\"overlay\",\"size\":10,\"solidity\":0.2},\"type\":\"scatter\"}],\"parcoords\":[{\"type\":\"parcoords\",\"line\":{\"colorbar\":{\"outlinewidth\":0,\"ticks\":\"\"}}}],\"scatterpolargl\":[{\"type\":\"scatterpolargl\",\"marker\":{\"colorbar\":{\"outlinewidth\":0,\"ticks\":\"\"}}}],\"bar\":[{\"error_x\":{\"color\":\"#2a3f5f\"},\"error_y\":{\"color\":\"#2a3f5f\"},\"marker\":{\"line\":{\"color\":\"#E5ECF6\",\"width\":0.5},\"pattern\":{\"fillmode\":\"overlay\",\"size\":10,\"solidity\":0.2}},\"type\":\"bar\"}],\"scattergeo\":[{\"type\":\"scattergeo\",\"marker\":{\"colorbar\":{\"outlinewidth\":0,\"ticks\":\"\"}}}],\"scatterpolar\":[{\"type\":\"scatterpolar\",\"marker\":{\"colorbar\":{\"outlinewidth\":0,\"ticks\":\"\"}}}],\"histogram\":[{\"marker\":{\"pattern\":{\"fillmode\":\"overlay\",\"size\":10,\"solidity\":0.2}},\"type\":\"histogram\"}],\"scattergl\":[{\"type\":\"scattergl\",\"marker\":{\"colorbar\":{\"outlinewidth\":0,\"ticks\":\"\"}}}],\"scatter3d\":[{\"type\":\"scatter3d\",\"line\":{\"colorbar\":{\"outlinewidth\":0,\"ticks\":\"\"}},\"marker\":{\"colorbar\":{\"outlinewidth\":0,\"ticks\":\"\"}}}],\"scattermapbox\":[{\"type\":\"scattermapbox\",\"marker\":{\"colorbar\":{\"outlinewidth\":0,\"ticks\":\"\"}}}],\"scatterternary\":[{\"type\":\"scatterternary\",\"marker\":{\"colorbar\":{\"outlinewidth\":0,\"ticks\":\"\"}}}],\"scattercarpet\":[{\"type\":\"scattercarpet\",\"marker\":{\"colorbar\":{\"outlinewidth\":0,\"ticks\":\"\"}}}],\"carpet\":[{\"aaxis\":{\"endlinecolor\":\"#2a3f5f\",\"gridcolor\":\"white\",\"linecolor\":\"white\",\"minorgridcolor\":\"white\",\"startlinecolor\":\"#2a3f5f\"},\"baxis\":{\"endlinecolor\":\"#2a3f5f\",\"gridcolor\":\"white\",\"linecolor\":\"white\",\"minorgridcolor\":\"white\",\"startlinecolor\":\"#2a3f5f\"},\"type\":\"carpet\"}],\"table\":[{\"cells\":{\"fill\":{\"color\":\"#EBF0F8\"},\"line\":{\"color\":\"white\"}},\"header\":{\"fill\":{\"color\":\"#C8D4E3\"},\"line\":{\"color\":\"white\"}},\"type\":\"table\"}],\"barpolar\":[{\"marker\":{\"line\":{\"color\":\"#E5ECF6\",\"width\":0.5},\"pattern\":{\"fillmode\":\"overlay\",\"size\":10,\"solidity\":0.2}},\"type\":\"barpolar\"}],\"pie\":[{\"automargin\":true,\"type\":\"pie\"}]},\"layout\":{\"autotypenumbers\":\"strict\",\"colorway\":[\"#636efa\",\"#EF553B\",\"#00cc96\",\"#ab63fa\",\"#FFA15A\",\"#19d3f3\",\"#FF6692\",\"#B6E880\",\"#FF97FF\",\"#FECB52\"],\"font\":{\"color\":\"#2a3f5f\"},\"hovermode\":\"closest\",\"hoverlabel\":{\"align\":\"left\"},\"paper_bgcolor\":\"white\",\"plot_bgcolor\":\"#E5ECF6\",\"polar\":{\"bgcolor\":\"#E5ECF6\",\"angularaxis\":{\"gridcolor\":\"white\",\"linecolor\":\"white\",\"ticks\":\"\"},\"radialaxis\":{\"gridcolor\":\"white\",\"linecolor\":\"white\",\"ticks\":\"\"}},\"ternary\":{\"bgcolor\":\"#E5ECF6\",\"aaxis\":{\"gridcolor\":\"white\",\"linecolor\":\"white\",\"ticks\":\"\"},\"baxis\":{\"gridcolor\":\"white\",\"linecolor\":\"white\",\"ticks\":\"\"},\"caxis\":{\"gridcolor\":\"white\",\"linecolor\":\"white\",\"ticks\":\"\"}},\"coloraxis\":{\"colorbar\":{\"outlinewidth\":0,\"ticks\":\"\"}},\"colorscale\":{\"sequential\":[[0.0,\"#0d0887\"],[0.1111111111111111,\"#46039f\"],[0.2222222222222222,\"#7201a8\"],[0.3333333333333333,\"#9c179e\"],[0.4444444444444444,\"#bd3786\"],[0.5555555555555556,\"#d8576b\"],[0.6666666666666666,\"#ed7953\"],[0.7777777777777778,\"#fb9f3a\"],[0.8888888888888888,\"#fdca26\"],[1.0,\"#f0f921\"]],\"sequentialminus\":[[0.0,\"#0d0887\"],[0.1111111111111111,\"#46039f\"],[0.2222222222222222,\"#7201a8\"],[0.3333333333333333,\"#9c179e\"],[0.4444444444444444,\"#bd3786\"],[0.5555555555555556,\"#d8576b\"],[0.6666666666666666,\"#ed7953\"],[0.7777777777777778,\"#fb9f3a\"],[0.8888888888888888,\"#fdca26\"],[1.0,\"#f0f921\"]],\"diverging\":[[0,\"#8e0152\"],[0.1,\"#c51b7d\"],[0.2,\"#de77ae\"],[0.3,\"#f1b6da\"],[0.4,\"#fde0ef\"],[0.5,\"#f7f7f7\"],[0.6,\"#e6f5d0\"],[0.7,\"#b8e186\"],[0.8,\"#7fbc41\"],[0.9,\"#4d9221\"],[1,\"#276419\"]]},\"xaxis\":{\"gridcolor\":\"white\",\"linecolor\":\"white\",\"ticks\":\"\",\"title\":{\"standoff\":15},\"zerolinecolor\":\"white\",\"automargin\":true,\"zerolinewidth\":2},\"yaxis\":{\"gridcolor\":\"white\",\"linecolor\":\"white\",\"ticks\":\"\",\"title\":{\"standoff\":15},\"zerolinecolor\":\"white\",\"automargin\":true,\"zerolinewidth\":2},\"scene\":{\"xaxis\":{\"backgroundcolor\":\"#E5ECF6\",\"gridcolor\":\"white\",\"linecolor\":\"white\",\"showbackground\":true,\"ticks\":\"\",\"zerolinecolor\":\"white\",\"gridwidth\":2},\"yaxis\":{\"backgroundcolor\":\"#E5ECF6\",\"gridcolor\":\"white\",\"linecolor\":\"white\",\"showbackground\":true,\"ticks\":\"\",\"zerolinecolor\":\"white\",\"gridwidth\":2},\"zaxis\":{\"backgroundcolor\":\"#E5ECF6\",\"gridcolor\":\"white\",\"linecolor\":\"white\",\"showbackground\":true,\"ticks\":\"\",\"zerolinecolor\":\"white\",\"gridwidth\":2}},\"shapedefaults\":{\"line\":{\"color\":\"#2a3f5f\"}},\"annotationdefaults\":{\"arrowcolor\":\"#2a3f5f\",\"arrowhead\":0,\"arrowwidth\":1},\"geo\":{\"bgcolor\":\"white\",\"landcolor\":\"#E5ECF6\",\"subunitcolor\":\"white\",\"showland\":true,\"showlakes\":true,\"lakecolor\":\"white\"},\"title\":{\"x\":0.05},\"mapbox\":{\"style\":\"light\"}}},\"xaxis\":{\"title\":{\"text\":\"year\"}},\"yaxis\":{\"title\":{\"text\":\"Pearson coef.\"}}},                        {\"responsive\": true}                    ).then(function(){\n",
       "                            \n",
       "var gd = document.getElementById('d4e0d9f3-9633-4389-9e95-f4cdc105b2f7');\n",
       "var x = new MutationObserver(function (mutations, observer) {{\n",
       "        var display = window.getComputedStyle(gd).display;\n",
       "        if (!display || display === 'none') {{\n",
       "            console.log([gd, 'removed!']);\n",
       "            Plotly.purge(gd);\n",
       "            observer.disconnect();\n",
       "        }}\n",
       "}});\n",
       "\n",
       "// Listen for the removal of the full notebook cells\n",
       "var notebookContainer = gd.closest('#notebook-container');\n",
       "if (notebookContainer) {{\n",
       "    x.observe(notebookContainer, {childList: true});\n",
       "}}\n",
       "\n",
       "// Listen for the clearing of the current output cell\n",
       "var outputEl = gd.closest('.output');\n",
       "if (outputEl) {{\n",
       "    x.observe(outputEl, {childList: true});\n",
       "}}\n",
       "\n",
       "                        })                };                });            </script>        </div>"
      ]
     },
     "metadata": {},
     "output_type": "display_data"
    }
   ],
   "source": [
    "x = weathers_df['year'].unique().tolist()\n",
    "yearly_corrs = pd.concat(corrs).groupby('year')\n",
    "\n",
    "n_colors = corrs[0].drop('year', axis=1).columns.shape[0]\n",
    "color_scale = px.colors.sample_colorscale('viridis', [n/(n_colors -1) for n in range(n_colors)])\n",
    "\n",
    "fig = go.Figure()\n",
    "for i, genus in enumerate(corrs[0].drop('year', axis=1).columns):\n",
    "    fig.add_trace(go.Scatter(\n",
    "        x=x,\n",
    "        y=yearly_corrs[genus].agg('median'),\n",
    "        line_color=color_scale[i],\n",
    "        mode='lines',\n",
    "        opacity=0.6,\n",
    "        name=genus,\n",
    "        showlegend=True\n",
    "    ))\n",
    "    for quantile in [0.75, 1.0]:\n",
    "        upper_quantile = yearly_corrs[genus].quantile(quantile)\n",
    "        lower_quantile = yearly_corrs[genus].quantile(1-quantile)\n",
    "        fig.add_trace(go.Scatter(\n",
    "            x=x+x[::-1],\n",
    "            y=pd.concat([upper_quantile, lower_quantile[::-1]]),\n",
    "            fill='toself',\n",
    "            fillcolor=color_scale[i],\n",
    "            opacity=1.2-quantile,\n",
    "            line_color='rgba(255,255,255,0)',\n",
    "            hoverinfo='skip',\n",
    "            showlegend=False\n",
    "        ))\n",
    "fig.update_layout(\n",
    "    xaxis_title='year', yaxis_title='Pearson coef.'\n",
    ")\n",
    "fig.write_image(figures_dir.joinpath('genus_corr.pdf'))\n",
    "fig"
   ]
  },
  {
   "cell_type": "code",
   "execution_count": 22,
   "id": "6f79e0bb-81e2-4f5c-8a37-4d3b30829417",
   "metadata": {},
   "outputs": [
    {
     "data": {
      "text/html": [
       "\n",
       "            <style>\n",
       "                .geemap-dark {\n",
       "                    --jp-widgets-color: white;\n",
       "                    --jp-widgets-label-color: white;\n",
       "                    --jp-ui-font-color1: white;\n",
       "                    --jp-layout-color2: #454545;\n",
       "                    background-color: #383838;\n",
       "                }\n",
       "\n",
       "                .geemap-dark .jupyter-button {\n",
       "                    --jp-layout-color3: #383838;\n",
       "                }\n",
       "\n",
       "                .geemap-colab {\n",
       "                    background-color: var(--colab-primary-surface-color, white);\n",
       "                }\n",
       "\n",
       "                .geemap-colab .jupyter-button {\n",
       "                    --jp-layout-color3: var(--colab-primary-surface-color, white);\n",
       "                }\n",
       "            </style>\n",
       "            "
      ],
      "text/plain": [
       "<IPython.core.display.HTML object>"
      ]
     },
     "metadata": {},
     "output_type": "display_data"
    }
   ],
   "source": [
    "from tensorflow.keras.layers import *\n",
    "from sklearn.preprocessing import StandardScaler\n",
    "\n",
    "scores_path = Path('tmp', f'scores_{min_occurrences}_{training_years}.npy')\n",
    "predictions_path = Path('tmp', f'predictions_{min_occurrences}_{training_years}.npy')\n",
    "\n",
    "if scores_path.is_file() and predictions_path.is_file():\n",
    "    scores_array = np.load(scores_path)\n",
    "    predictions_array = np.load(predictions_path)\n",
    "else:\n",
    "    x_input = Input((weather_diff.shape[-1],))\n",
    "    \n",
    "    for units in [512, 256, 128]:\n",
    "        x = Dense(units, activation='leaky_relu')(x_input)\n",
    "        x = Dropout(0.2)(x)\n",
    "    \n",
    "    outputs = Dense(1, activation='leaky_relu')(x)\n",
    "    \n",
    "    all_scores = []\n",
    "    all_predictions = []\n",
    "    for weather_diff, y_diff in tqdm(list(zip(weather_diffs, y_diffs))):\n",
    "        scores = []\n",
    "        predictions = []\n",
    "        for genus in tqdm(y_diff.drop('year', axis=1).columns, leave=False):\n",
    "            m = tf.keras.models.Model(\n",
    "                inputs=[x_input], outputs=outputs\n",
    "            )\n",
    "            m.compile(\n",
    "                optimizer='adam', loss='huber', \n",
    "                metrics=[\n",
    "                    'mean_absolute_error', \n",
    "                    'mean_absolute_percentage_error', \n",
    "                    'r2_score'\n",
    "                ]\n",
    "            )\n",
    "            hist = m.fit(\n",
    "                x=StandardScaler().fit_transform(weather_diff), \n",
    "                y=y_diff[[genus]],\n",
    "                validation_split=0.1,\n",
    "                epochs=10, verbose=0\n",
    "            )\n",
    "            scores.append([\n",
    "                hist.history['val_r2_score'][-1],\n",
    "                hist.history['val_mean_absolute_error'][-1],\n",
    "                hist.history['val_mean_absolute_percentage_error'][-1],\n",
    "                hist.history['val_loss'][-1]\n",
    "            ])\n",
    "\n",
    "            prediction = m.predict(\n",
    "                x=StandardScaler().fit_transform(weather_diff)\n",
    "            )\n",
    "            predictions.append(prediction)\n",
    "        all_scores.append(scores)\n",
    "        all_predictions.append(predictions)\n",
    "        \n",
    "    scores_array = np.array(all_scores)\n",
    "    np.save(scores_path, scores_array)\n",
    "\n",
    "    predictions_array = np.transpose(np.array(all_predictions)[..., 0])\n",
    "    np.save(predictions_path, predictions_array)"
   ]
  },
  {
   "cell_type": "code",
   "execution_count": 23,
   "id": "5f01330a-8400-41ba-92e7-4fde84058858",
   "metadata": {},
   "outputs": [
    {
     "data": {
      "text/html": [
       "\n",
       "            <style>\n",
       "                .geemap-dark {\n",
       "                    --jp-widgets-color: white;\n",
       "                    --jp-widgets-label-color: white;\n",
       "                    --jp-ui-font-color1: white;\n",
       "                    --jp-layout-color2: #454545;\n",
       "                    background-color: #383838;\n",
       "                }\n",
       "\n",
       "                .geemap-dark .jupyter-button {\n",
       "                    --jp-layout-color3: #383838;\n",
       "                }\n",
       "\n",
       "                .geemap-colab {\n",
       "                    background-color: var(--colab-primary-surface-color, white);\n",
       "                }\n",
       "\n",
       "                .geemap-colab .jupyter-button {\n",
       "                    --jp-layout-color3: var(--colab-primary-surface-color, white);\n",
       "                }\n",
       "            </style>\n",
       "            "
      ],
      "text/plain": [
       "<IPython.core.display.HTML object>"
      ]
     },
     "metadata": {},
     "output_type": "display_data"
    }
   ],
   "source": [
    "residuals = []\n",
    "for i, y_diff in enumerate(y_diffs):\n",
    "    res = y_diff.drop('year', axis=1) - predictions_array[:, :, i]\n",
    "    residuals.append(res)\n",
    "\n",
    "residuals = np.stack(residuals, axis=-1)"
   ]
  },
  {
   "cell_type": "code",
   "execution_count": 24,
   "id": "70c420e4-3bda-4c5a-b448-83d154a1b0f1",
   "metadata": {},
   "outputs": [
    {
     "data": {
      "text/html": [
       "\n",
       "            <style>\n",
       "                .geemap-dark {\n",
       "                    --jp-widgets-color: white;\n",
       "                    --jp-widgets-label-color: white;\n",
       "                    --jp-ui-font-color1: white;\n",
       "                    --jp-layout-color2: #454545;\n",
       "                    background-color: #383838;\n",
       "                }\n",
       "\n",
       "                .geemap-dark .jupyter-button {\n",
       "                    --jp-layout-color3: #383838;\n",
       "                }\n",
       "\n",
       "                .geemap-colab {\n",
       "                    background-color: var(--colab-primary-surface-color, white);\n",
       "                }\n",
       "\n",
       "                .geemap-colab .jupyter-button {\n",
       "                    --jp-layout-color3: var(--colab-primary-surface-color, white);\n",
       "                }\n",
       "            </style>\n",
       "            "
      ],
      "text/plain": [
       "<IPython.core.display.HTML object>"
      ]
     },
     "metadata": {},
     "output_type": "display_data"
    }
   ],
   "source": [
    "high_r2 = scores_array\n",
    "# high_r2 = high_r2.T[(r2_scores.mean() > 0.2).values].T\n",
    "fig = make_subplots(\n",
    "    rows=2, cols=2,\n",
    "    specs=[[{}, {}],\n",
    "           [{\"colspan\": 2}, None]],\n",
    "    horizontal_spacing=0.15,\n",
    ")\n",
    "dashes = ['solid', 'dot', 'dash', 'longdash', 'dashdot', 'longdashdot']*20\n",
    "\n",
    "residuals_n = 50000\n",
    "for i, col in enumerate(y_diff.drop('year', axis=1).columns.tolist()):\n",
    "    for ii, metric in enumerate(['R<sup>2</sup>', 'MAE']):\n",
    "        fig.add_trace(go.Scatter(\n",
    "            x=eval_years,\n",
    "            y=high_r2[:, i, ii],\n",
    "            line_color=color_scale[i],\n",
    "            name=col,\n",
    "            mode='lines',\n",
    "            showlegend=True if ii == 0 else False,\n",
    "            line_dash=dashes[i],\n",
    "        ), row=1, col=ii+1)\n",
    "\n",
    "    fig.add_trace(go.Scatter(\n",
    "        x=shuffle(predictions_array[:, i, -1], random_state=42, n_samples=residuals_n),\n",
    "        y=shuffle(residuals[:, i, -1], random_state=42, n_samples=residuals_n),\n",
    "        showlegend=False,\n",
    "        marker_color=color_scale[i],\n",
    "        mode='markers',\n",
    "        opacity=0.5,\n",
    "        marker_size=1,\n",
    "    ), row=2, col=1)\n",
    "    \n",
    "fig.update_layout(\n",
    "    yaxis3_title='expected - predicted',\n",
    "    yaxis2_title='MAE',\n",
    "    yaxis1_title='R<sup>2</sup>',\n",
    "    xaxis2_title='year',\n",
    "    xaxis1_title='year',\n",
    "    xaxis3_title='predicted',\n",
    "    yaxis_title_standoff=1,\n",
    "    legend=dict(\n",
    "        orientation='h',\n",
    "        yanchor='bottom',\n",
    "        y=1.02,\n",
    "        xanchor='right',\n",
    "        x=1\n",
    "    ),\n",
    "    hovermode=False,\n",
    "    height=600\n",
    ")\n",
    "fig.write_image(figures_dir.joinpath('regression_results.png'))\n",
    "# fig"
   ]
  },
  {
   "cell_type": "code",
   "execution_count": null,
   "id": "45298128-f55e-48d2-ba83-1acf733ca823",
   "metadata": {},
   "outputs": [],
   "source": []
  },
  {
   "cell_type": "code",
   "execution_count": null,
   "id": "2a8ae582-dba4-4fa5-997b-9e481cd87ee2",
   "metadata": {},
   "outputs": [],
   "source": []
  },
  {
   "cell_type": "code",
   "execution_count": null,
   "id": "4048e4f4-a6c1-4c21-8737-1da8dbbaeb01",
   "metadata": {},
   "outputs": [],
   "source": []
  },
  {
   "cell_type": "code",
   "execution_count": null,
   "id": "a16ec6e4-5cb9-41ab-a104-602864dfd45e",
   "metadata": {},
   "outputs": [],
   "source": []
  },
  {
   "cell_type": "code",
   "execution_count": null,
   "id": "a074e7d5-1884-45ae-b2ec-1392cec144e4",
   "metadata": {},
   "outputs": [],
   "source": []
  }
 ],
 "metadata": {
  "kernelspec": {
   "display_name": "Python 3 (ipykernel)",
   "language": "python",
   "name": "python3"
  },
  "language_info": {
   "codemirror_mode": {
    "name": "ipython",
    "version": 3
   },
   "file_extension": ".py",
   "mimetype": "text/x-python",
   "name": "python",
   "nbconvert_exporter": "python",
   "pygments_lexer": "ipython3",
   "version": "3.10.14"
  }
 },
 "nbformat": 4,
 "nbformat_minor": 5
}
