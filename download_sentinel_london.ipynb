{
 "cells": [
  {
   "cell_type": "markdown",
   "id": "5d54256a-a478-4ed2-90ba-7852da63e979",
   "metadata": {},
   "source": [
    "##### **Download Sentinel-2 data**"
   ]
  },
  {
   "cell_type": "code",
   "execution_count": 1,
   "id": "45a09dcb-b90b-45d7-b5a2-54996a34ada0",
   "metadata": {},
   "outputs": [],
   "source": [
    "from tqdm.notebook import tqdm\n",
    "\n",
    "from multiprocessing import Pool\n",
    "from time import sleep\n",
    "\n",
    "import numpy as np\n",
    "\n",
    "import datetime\n",
    "from pathlib import Path\n",
    "\n",
    "import pandas as pd\n",
    "import geopandas as gpd\n",
    "\n",
    "import io\n",
    "\n",
    "import ee"
   ]
  },
  {
   "cell_type": "markdown",
   "id": "9cab9d5b-ed74-4624-9725-887b12ee6ae5",
   "metadata": {},
   "source": [
    "Authentication must be done firsthand. Replace with own project name.\n",
    "\n",
    "For further details on ee, see https://developers.google.com/earth-engine/guides/auth and https://developers.google.com/earth-engine/apidocs/ee-image"
   ]
  },
  {
   "cell_type": "code",
   "execution_count": 5,
   "id": "d35fae04-993f-40bb-964d-6ec19b7d8da6",
   "metadata": {},
   "outputs": [],
   "source": [
    "ee.Authenticate()\n",
    "ee.Initialize(project='sentinel-treeclassification')"
   ]
  },
  {
   "cell_type": "markdown",
   "id": "0553fe17-fa69-49b3-8668-38f305d8126e",
   "metadata": {},
   "source": [
    "Mask clouds in a Sentinel-2 image using the QA band and perform other pre-processing operations such as band selection, date filter, and collection median."
   ]
  },
  {
   "cell_type": "code",
   "execution_count": 3,
   "id": "d4ae79b0-fef2-46f4-9e67-6f12c15c1594",
   "metadata": {},
   "outputs": [],
   "source": [
    "class SentinelGetter:\n",
    "    def mask_s2_clouds(self, image):\n",
    "      # Quality assessment with resolution in meters\n",
    "      qa = image.select('QA60')\n",
    "      # Bits 10 and 11 are clouds and cirrus, respectively.\n",
    "      cloud_bit_mask = 1 << 10\n",
    "      cirrus_bit_mask = 1 << 11\n",
    "      # Both flags should be set to zero, indicating clear conditions.\n",
    "      mask = (\n",
    "          qa.bitwiseAnd(cloud_bit_mask)\n",
    "          .eq(0)\n",
    "          .And(qa.bitwiseAnd(cirrus_bit_mask).eq(0))\n",
    "      )\n",
    "      return image.updateMask(mask)\n",
    "\n",
    "    def get_image(self, bbox, start_date, end_date):\n",
    "        selected_bands = [f'B{x}' for x in range(2, 9)] + ['B8A', 'B11', 'B12', 'TCI_R', 'TCI_G', 'TCI_B']\n",
    "        image = (\n",
    "            ee.ImageCollection('COPERNICUS/S2_SR_HARMONIZED')\n",
    "            .filterDate(start_date, end_date)\n",
    "            # Pre-filter to get less cloudy granules.\n",
    "            .map(self.mask_s2_clouds)\n",
    "            .select(selected_bands)\n",
    "            .median()\n",
    "            .clip(bbox)\n",
    "        )\n",
    "        return image"
   ]
  },
  {
   "cell_type": "markdown",
   "id": "37164bfc-8e35-46ea-a89c-70ce11d8def4",
   "metadata": {},
   "source": [
    "Read in data and perform some operations. Alternatively, use Geopandas directly."
   ]
  },
  {
   "cell_type": "code",
   "execution_count": 3,
   "id": "17759222-56d5-4a21-ba7d-c508b05ea21c",
   "metadata": {},
   "outputs": [],
   "source": [
    "target = 'tree_name'\n",
    "usecols = ['latitude', 'longitude'] + [target, 'load_date']\n",
    "df = pd.read_csv(\"data/Borough_tree_list_2021July.csv\", usecols=usecols, parse_dates=['load_date'])\n",
    "df = df.dropna(subset=target)"
   ]
  },
  {
   "cell_type": "code",
   "execution_count": 6,
   "id": "626019d0-f07b-4e8f-92c4-0d4d2d4c42e4",
   "metadata": {},
   "outputs": [],
   "source": [
    "gdf = gpd.GeoDataFrame(\n",
    "    df, geometry=gpd.points_from_xy(x=df['longitude'], y=df['latitude'], crs=4326)\n",
    ")\n",
    "gdf[target] = gdf[target].astype('category')\n",
    "\n",
    "gdf[target] = gdf[target].cat.codes\n",
    "\n",
    "gdf.geometry = gdf.to_crs(epsg=6933).buffer(30, cap_style=3).to_crs(epsg=4326)\n",
    "\n",
    "bbox = ee.Geometry.BBox(*(gdf.geometry.total_bounds + 0.01))"
   ]
  },
  {
   "cell_type": "code",
   "execution_count": 8,
   "id": "bdbf207c-b914-4be7-af73-7bf62c461c33",
   "metadata": {},
   "outputs": [],
   "source": [
    "# gdf.to_file('buffered_london_trees.geojson')"
   ]
  },
  {
   "cell_type": "code",
   "execution_count": 6,
   "id": "9c3776df-044d-45cf-8e31-cab0fc63222f",
   "metadata": {},
   "outputs": [],
   "source": [
    "def download_npy(bbox, start_date, end_date, gdf, i):\n",
    "    # Sleep time helps with parallel processing,\n",
    "    # if you're brave enough to try it\n",
    "    sleep_time = i*2\n",
    "    sleep(sleep_time)\n",
    "\n",
    "    # Cloud masked, band selected, mean image of the bbox area. \n",
    "    sentinel_image = SentinelGetter().get_image(bbox, start_date, end_date)\n",
    "        \n",
    "    # For further options, see\n",
    "    # https://developers.google.com/earth-engine/apidocs/ee-data-computepixels\n",
    "    params = {'fileFormat': 'NPY'}\n",
    "\n",
    "    save_path = Path('london').joinpath(f\"london_trees_{start_date.strftime('%Y%m')}_{i}.npy\")\n",
    "    print(f'Downloading {start_date}')\n",
    "    # Continue from a previous run, else start new.\n",
    "    if save_path.is_file():\n",
    "        with open(save_path, 'rb') as f:\n",
    "            # Convert outer array to list for appending, avoid ndarray.tolist()\n",
    "            # as that converts nested arrays to list as well.\n",
    "            all_data = list(np.load(save_path))\n",
    "    else:\n",
    "        all_data = []\n",
    "\n",
    "    # Continue from previous iteration, or start new.\n",
    "    continue_gdf = gdf.iloc[len(all_data):]\n",
    "    \n",
    "    # Progress bar, tracks continuations\n",
    "    for i, row in tqdm(\n",
    "        continue_gdf.iterrows(), total=gdf.shape[0], initial=len(all_data)):\n",
    "        # Not ideal but a lot of connection errors can occur here.\n",
    "        # They are (so far) not program ending, simply retry.\n",
    "        retry = True\n",
    "        while retry:\n",
    "            try:\n",
    "                this_bbox = ee.Geometry.BBox(*row.geometry.bounds)\n",
    "                params['expression'] = sentinel_image.clipToBoundsAndScale(\n",
    "                    this_bbox, width=6, height=6)\n",
    "\n",
    "                # There can be a delay before the URL becomes available,\n",
    "                # in which case the loop simply retries (seems rare so far).\n",
    "                pixels = ee.data.computePixels(params)\n",
    "                data = np.load(io.BytesIO(pixels))\n",
    "\n",
    "                # Numpy ndarray being appended to a list of ndarrays.\n",
    "                # Ensure all_data uses python's list instead of ndarray.tolist().\n",
    "                all_data.append(data)\n",
    "                retry = False\n",
    "\n",
    "            except Exception as e:\n",
    "                # Sleep for 1 second if error, Google claims to be\n",
    "                # fine with 100/s requests.\n",
    "                sleep(sleep_time)\n",
    "                retry = True\n",
    "                \n",
    "        # Save every 1000th run but not the first  \n",
    "        if (i % 1000 == 0) and (i > 0):\n",
    "            # Convert to array first in case of errors,\n",
    "            # as that would erase the file.\n",
    "            save_data = np.array(all_data)\n",
    "            with open(save_path, 'wb') as f:\n",
    "                np.save(f, save_data)\n",
    "\n",
    "    # Save the remainder\n",
    "    save_data = np.array(all_data)\n",
    "    with open(save_path, 'wb') as f:\n",
    "        np.save(f, save_data)\n",
    "                \n",
    "    return np.array(all_data)"
   ]
  },
  {
   "cell_type": "markdown",
   "id": "d0a909b6-094e-42be-bdfb-07e4b5e6fb95",
   "metadata": {},
   "source": [
    "Download samples at roughly 2 images per second in each process."
   ]
  },
  {
   "cell_type": "code",
   "execution_count": 7,
   "id": "0104b1e3-1555-41b6-8004-0a399d1ddf80",
   "metadata": {},
   "outputs": [],
   "source": [
    "n_chunks = 50000\n",
    "chunks = [gdf[i: i + n_chunks] for i in range(0, gdf.shape[0], n_chunks)]"
   ]
  },
  {
   "cell_type": "code",
   "execution_count": 8,
   "id": "f698cd1b-62e9-4cc4-8d07-50893e782795",
   "metadata": {},
   "outputs": [
    {
     "name": "stdout",
     "output_type": "stream",
     "text": [
      "Downloading 2019-04-01 00:00:00\n"
     ]
    },
    {
     "data": {
      "application/vnd.jupyter.widget-view+json": {
       "model_id": "1469ffab704c43da8a2fb3b6b513248f",
       "version_major": 2,
       "version_minor": 0
      },
      "text/plain": [
       "100%|##########| 50000/50000 [00:00<?, ?it/s]"
      ]
     },
     "metadata": {},
     "output_type": "display_data"
    },
    {
     "name": "stdout",
     "output_type": "stream",
     "text": [
      "Downloading 2019-04-01 00:00:00\n"
     ]
    },
    {
     "data": {
      "application/vnd.jupyter.widget-view+json": {
       "model_id": "6275ae61899d406182cd9c8969ef0ab8",
       "version_major": 2,
       "version_minor": 0
      },
      "text/plain": [
       "100%|##########| 50000/50000 [00:00<?, ?it/s]"
      ]
     },
     "metadata": {},
     "output_type": "display_data"
    },
    {
     "name": "stdout",
     "output_type": "stream",
     "text": [
      "Downloading 2019-04-01 00:00:00\n"
     ]
    },
    {
     "data": {
      "application/vnd.jupyter.widget-view+json": {
       "model_id": "1f3ca79c47b1446b8b6f8fe29a51031f",
       "version_major": 2,
       "version_minor": 0
      },
      "text/plain": [
       "100%|##########| 50000/50000 [00:00<?, ?it/s]"
      ]
     },
     "metadata": {},
     "output_type": "display_data"
    },
    {
     "name": "stdout",
     "output_type": "stream",
     "text": [
      "Downloading 2019-04-01 00:00:00\n"
     ]
    },
    {
     "data": {
      "application/vnd.jupyter.widget-view+json": {
       "model_id": "5d48d12dced04a24856d719d6299f69f",
       "version_major": 2,
       "version_minor": 0
      },
      "text/plain": [
       "100%|##########| 50000/50000 [00:00<?, ?it/s]"
      ]
     },
     "metadata": {},
     "output_type": "display_data"
    },
    {
     "name": "stdout",
     "output_type": "stream",
     "text": [
      "Downloading 2019-04-01 00:00:00\n"
     ]
    },
    {
     "data": {
      "application/vnd.jupyter.widget-view+json": {
       "model_id": "e67d0a9ba57c4ecc975a136595157204",
       "version_major": 2,
       "version_minor": 0
      },
      "text/plain": [
       "100%|##########| 50000/50000 [00:00<?, ?it/s]"
      ]
     },
     "metadata": {},
     "output_type": "display_data"
    },
    {
     "name": "stdout",
     "output_type": "stream",
     "text": [
      "Downloading 2019-04-01 00:00:00\n"
     ]
    },
    {
     "data": {
      "application/vnd.jupyter.widget-view+json": {
       "model_id": "8d5152b4c2cd4e25a444e967f1f8dc15",
       "version_major": 2,
       "version_minor": 0
      },
      "text/plain": [
       "100%|##########| 50000/50000 [00:00<?, ?it/s]"
      ]
     },
     "metadata": {},
     "output_type": "display_data"
    },
    {
     "name": "stdout",
     "output_type": "stream",
     "text": [
      "Downloading 2019-04-01 00:00:00\n"
     ]
    },
    {
     "data": {
      "application/vnd.jupyter.widget-view+json": {
       "model_id": "7f44cacee7a5454aa3d8f7b671d28720",
       "version_major": 2,
       "version_minor": 0
      },
      "text/plain": [
       "100%|##########| 50000/50000 [00:00<?, ?it/s]"
      ]
     },
     "metadata": {},
     "output_type": "display_data"
    },
    {
     "name": "stdout",
     "output_type": "stream",
     "text": [
      "Downloading 2019-04-01 00:00:00\n"
     ]
    },
    {
     "data": {
      "application/vnd.jupyter.widget-view+json": {
       "model_id": "3b05de717fa14b079f6b27e5cbb485f7",
       "version_major": 2,
       "version_minor": 0
      },
      "text/plain": [
       "100%|##########| 50000/50000 [00:00<?, ?it/s]"
      ]
     },
     "metadata": {},
     "output_type": "display_data"
    },
    {
     "name": "stdout",
     "output_type": "stream",
     "text": [
      "Downloading 2019-04-01 00:00:00\n"
     ]
    },
    {
     "data": {
      "application/vnd.jupyter.widget-view+json": {
       "model_id": "bc0c8e0ccc75461cb8d49b7ada78b51d",
       "version_major": 2,
       "version_minor": 0
      },
      "text/plain": [
       "100%|##########| 50000/50000 [00:00<?, ?it/s]"
      ]
     },
     "metadata": {},
     "output_type": "display_data"
    },
    {
     "name": "stdout",
     "output_type": "stream",
     "text": [
      "Downloading 2019-04-01 00:00:00\n"
     ]
    },
    {
     "data": {
      "application/vnd.jupyter.widget-view+json": {
       "model_id": "02c7bcc1b94641da84aa88e6d1508583",
       "version_major": 2,
       "version_minor": 0
      },
      "text/plain": [
       "100%|##########| 50000/50000 [00:00<?, ?it/s]"
      ]
     },
     "metadata": {},
     "output_type": "display_data"
    },
    {
     "name": "stdout",
     "output_type": "stream",
     "text": [
      "Downloading 2019-04-01 00:00:00\n"
     ]
    },
    {
     "data": {
      "application/vnd.jupyter.widget-view+json": {
       "model_id": "b88a1dd668cf47edbf1e6da9982f0dd4",
       "version_major": 2,
       "version_minor": 0
      },
      "text/plain": [
       " 96%|#########5| 47767/50000 [00:00<?, ?it/s]"
      ]
     },
     "metadata": {},
     "output_type": "display_data"
    },
    {
     "name": "stdout",
     "output_type": "stream",
     "text": [
      "Downloading 2019-04-01 00:00:00\n"
     ]
    },
    {
     "data": {
      "application/vnd.jupyter.widget-view+json": {
       "model_id": "52001b470d5f4f19a9d9b3e1fdc26000",
       "version_major": 2,
       "version_minor": 0
      },
      "text/plain": [
       "100%|##########| 50000/50000 [00:00<?, ?it/s]"
      ]
     },
     "metadata": {},
     "output_type": "display_data"
    },
    {
     "name": "stdout",
     "output_type": "stream",
     "text": [
      "Downloading 2019-04-01 00:00:00\n"
     ]
    },
    {
     "data": {
      "application/vnd.jupyter.widget-view+json": {
       "model_id": "e0266c62364a4005ba56ddcdb2c9720d",
       "version_major": 2,
       "version_minor": 0
      },
      "text/plain": [
       "100%|##########| 50000/50000 [00:00<?, ?it/s]"
      ]
     },
     "metadata": {},
     "output_type": "display_data"
    },
    {
     "name": "stdout",
     "output_type": "stream",
     "text": [
      "Downloading 2019-04-01 00:00:00\n"
     ]
    },
    {
     "data": {
      "application/vnd.jupyter.widget-view+json": {
       "model_id": "8159d8a367244de3bbd83b136f790060",
       "version_major": 2,
       "version_minor": 0
      },
      "text/plain": [
       "100%|##########| 50000/50000 [00:00<?, ?it/s]"
      ]
     },
     "metadata": {},
     "output_type": "display_data"
    },
    {
     "name": "stdout",
     "output_type": "stream",
     "text": [
      "Downloading 2019-04-01 00:00:00\n"
     ]
    },
    {
     "data": {
      "application/vnd.jupyter.widget-view+json": {
       "model_id": "9998e869d4ad4697b5dbed6f2f324fc6",
       "version_major": 2,
       "version_minor": 0
      },
      "text/plain": [
       "100%|##########| 50000/50000 [00:00<?, ?it/s]"
      ]
     },
     "metadata": {},
     "output_type": "display_data"
    },
    {
     "name": "stdout",
     "output_type": "stream",
     "text": [
      "Downloading 2019-04-01 00:00:00\n"
     ]
    },
    {
     "data": {
      "application/vnd.jupyter.widget-view+json": {
       "model_id": "cb479d76a6b1419ca97442e15ccaf073",
       "version_major": 2,
       "version_minor": 0
      },
      "text/plain": [
       "100%|##########| 50000/50000 [00:00<?, ?it/s]"
      ]
     },
     "metadata": {},
     "output_type": "display_data"
    },
    {
     "name": "stdout",
     "output_type": "stream",
     "text": [
      "Downloading 2019-04-01 00:00:00\n"
     ]
    },
    {
     "data": {
      "application/vnd.jupyter.widget-view+json": {
       "model_id": "e4643d99224e4e96b90575e322d59e77",
       "version_major": 2,
       "version_minor": 0
      },
      "text/plain": [
       "100%|##########| 15916/15916 [00:00<?, ?it/s]"
      ]
     },
     "metadata": {},
     "output_type": "display_data"
    }
   ],
   "source": [
    "pool = Pool(processes=len(chunks))\n",
    "map_inputs = []\n",
    "\n",
    "date = datetime.datetime(2019, 1, 1)\n",
    "for i, chunk in enumerate(chunks):\n",
    "    start_date = date.replace(month=4)\n",
    "    end_date = start_date.replace(month=8)\n",
    "    map_inputs.append((bbox, start_date, end_date, chunk, i))\n",
    "\n",
    "pool.starmap(download_npy, map_inputs)\n",
    "pool.close()\n",
    "pool.join()"
   ]
  },
  {
   "cell_type": "code",
   "execution_count": 10,
   "id": "33929f27-524e-41a0-a058-2f47233f28f1",
   "metadata": {},
   "outputs": [
    {
     "data": {
      "text/plain": [
       "CompletedProcess(args=['shutdown.exe', '/a'], returncode=0)"
      ]
     },
     "execution_count": 10,
     "metadata": {},
     "output_type": "execute_result"
    }
   ],
   "source": [
    "# Optional shut down pc once downloads complete.\n",
    "# Tested on Windows Subsystem for Linux.\n",
    "import subprocess\n",
    "# subprocess.run([\"shutdown.exe\", \"/s\"])\n",
    "subprocess.run([\"shutdown.exe\", \"/a\"])"
   ]
  },
  {
   "cell_type": "code",
   "execution_count": null,
   "id": "b3378d43-42ae-4f34-9df2-6e74e58f1822",
   "metadata": {},
   "outputs": [],
   "source": []
  },
  {
   "cell_type": "code",
   "execution_count": null,
   "id": "ce505fe0-3ea0-4d43-abc8-13a1260ea159",
   "metadata": {},
   "outputs": [],
   "source": []
  },
  {
   "cell_type": "code",
   "execution_count": null,
   "id": "f1f9b95b-6ea3-4aa2-af93-452920d24de4",
   "metadata": {},
   "outputs": [],
   "source": []
  },
  {
   "cell_type": "code",
   "execution_count": null,
   "id": "6a325458-573e-49dc-b47a-1b49e284e992",
   "metadata": {},
   "outputs": [],
   "source": []
  },
  {
   "cell_type": "code",
   "execution_count": null,
   "id": "a5d709a1-a4c8-40ca-9152-cb1426d4a795",
   "metadata": {},
   "outputs": [],
   "source": []
  }
 ],
 "metadata": {
  "kernelspec": {
   "display_name": "Python 3 (ipykernel)",
   "language": "python",
   "name": "python3"
  },
  "language_info": {
   "codemirror_mode": {
    "name": "ipython",
    "version": 3
   },
   "file_extension": ".py",
   "mimetype": "text/x-python",
   "name": "python",
   "nbconvert_exporter": "python",
   "pygments_lexer": "ipython3",
   "version": "3.10.14"
  }
 },
 "nbformat": 4,
 "nbformat_minor": 5
}
