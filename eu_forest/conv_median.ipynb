{
 "cells": [
  {
   "cell_type": "code",
   "execution_count": 12,
   "id": "45a09dcb-b90b-45d7-b5a2-54996a34ada0",
   "metadata": {},
   "outputs": [
    {
     "name": "stderr",
     "output_type": "stream",
     "text": [
      "/tmp/ipykernel_2377/2782426929.py:1: DeprecationWarning: Importing display from IPython.core.display is deprecated since IPython 7.14, please import from IPython display\n",
      "  from IPython.core.display import display, HTML\n"
     ]
    }
   ],
   "source": [
    "from IPython.core.display import display, HTML\n",
    "\n",
    "import numpy as np\n",
    "import pandas as pd\n",
    "\n",
    "from pathlib import Path\n",
    "\n",
    "from time import sleep\n",
    "\n",
    "from sklearn.model_selection import train_test_split\n",
    "from sklearn.metrics import classification_report\n",
    "from sklearn.utils import shuffle\n",
    "\n",
    "import tensorflow as tf\n",
    "from tensorflow.keras import backend as K\n",
    "from tensorflow.keras.layers import *\n",
    "from tensorflow.keras.optimizers import Adam, RMSprop, Nadam, SGD, AdamW"
   ]
  },
  {
   "cell_type": "code",
   "execution_count": 2,
   "id": "0749fbd3-b6ee-443c-b12c-741c2ee1f1bb",
   "metadata": {},
   "outputs": [],
   "source": [
    "selected_bands = [f'B{x}' for x in range(2, 9)] + ['B8A', 'B11', 'B12', 'TCI_R', 'TCI_G', 'TCI_B']"
   ]
  },
  {
   "cell_type": "code",
   "execution_count": 3,
   "id": "d5926fbe-15c2-4fa6-8977-99eafdcb5ca3",
   "metadata": {},
   "outputs": [],
   "source": [
    "model_dir = Path('models')\n",
    "model_dir.mkdir(parents=True, exist_ok=True)\n",
    "\n",
    "shards_dir = Path('/sentinel_data').joinpath('shards')\n",
    "\n",
    "sort_key = lambda x: int(x.stem.split('_')[-1])\n",
    "feature_filepaths = sorted(list(shards_dir.glob('feature_*.npy')), key=sort_key)"
   ]
  },
  {
   "cell_type": "markdown",
   "id": "7a20ef66-8fee-41ab-9e7c-9269f0967b97",
   "metadata": {},
   "source": [
    "Adapted from https://stanford.edu/~shervine/blog/keras-how-to-generate-data-on-the-fly"
   ]
  },
  {
   "cell_type": "code",
   "execution_count": 4,
   "id": "90c59975-e2bf-4311-a011-b7284efda661",
   "metadata": {
    "tags": []
   },
   "outputs": [],
   "source": [
    "class DataGenerator(tf.keras.utils.Sequence):\n",
    "    'Generates data for Keras'\n",
    "    def __init__(self, list_IDs, data_dir, batch_size=32, dim=(100,100), n_channels=13,\n",
    "                 n_classes=242, shuffle=True, **kwargs):\n",
    "        super().__init__(**kwargs)\n",
    "        self.dim = dim\n",
    "        self.batch_size = batch_size\n",
    "        self.data_dir = data_dir\n",
    "        self.list_IDs = list_IDs\n",
    "        self.n_channels = n_channels\n",
    "        self.n_classes = n_classes\n",
    "        self.shuffle = shuffle\n",
    "        self.use_multiprocessing = True\n",
    "        self.workers = 8\n",
    "        self.on_epoch_end()\n",
    "\n",
    "    def __len__(self):\n",
    "        'Denotes the number of batches per epoch'\n",
    "        return int(np.floor(len(self.list_IDs) / self.batch_size))\n",
    "\n",
    "    def __getitem__(self, index):\n",
    "        'Generate one batch of data'\n",
    "        # Generate indexes of the batch\n",
    "        indexes = self.indexes[index*self.batch_size:(index+1)*self.batch_size]\n",
    "\n",
    "        # Find list of IDs\n",
    "        list_IDs_temp = [self.list_IDs[k] for k in indexes]\n",
    "\n",
    "        # Generate data\n",
    "        X, y = self.__data_generation(list_IDs_temp)\n",
    "\n",
    "        return X, y\n",
    "\n",
    "    def on_epoch_end(self):\n",
    "        'Updates indexes after each epoch'\n",
    "        self.indexes = np.arange(len(self.list_IDs))\n",
    "        if self.shuffle == True:\n",
    "            np.random.shuffle(self.indexes)\n",
    "\n",
    "    def __data_generation(self, list_IDs_temp):\n",
    "        'Generates data containing batch_size samples'\n",
    "        # Initialization\n",
    "        X = np.empty((self.batch_size, *self.dim, self.n_channels))\n",
    "        y = np.empty((self.batch_size, self.n_classes))\n",
    "\n",
    "        # Generate data\n",
    "        for i, ID in enumerate(list_IDs_temp):\n",
    "            # Store sample\n",
    "            X[i,] = np.load(self.data_dir.joinpath(f'feature_{ID}.npy'))\n",
    "            # Store class\n",
    "            y[i] = np.load(self.data_dir.joinpath(f'label_{ID}.npy'))\n",
    "        \n",
    "        return X, y"
   ]
  },
  {
   "cell_type": "code",
   "execution_count": 5,
   "id": "21e639cb-6892-4ee0-a029-1598ae2c4455",
   "metadata": {},
   "outputs": [],
   "source": [
    "class SleepCallback(tf.keras.callbacks.Callback):\n",
    "    def on_epoch_end(self, epoch, logs=None):\n",
    "        sleep(300)\n",
    "    def on_epoch_begin(self, epoch, logs=None):\n",
    "        if epoch > 1:\n",
    "            sleep(300)  "
   ]
  },
  {
   "cell_type": "code",
   "execution_count": 6,
   "id": "7a5fb97e-b021-4620-9b31-468323822101",
   "metadata": {},
   "outputs": [],
   "source": [
    "class KerasModelCreator:\n",
    "    def display_logger(self, log_file, metrics):\n",
    "        metric_names = [m if isinstance(m, str) else m.name for m in metrics]\n",
    "        if log_file.is_file():\n",
    "            val_metrics = ['val_loss'] + ['val_' + x for x in metric_names]\n",
    "            df = pd.read_csv(log_file)[['epoch', 'loss'] + metric_names + val_metrics]\n",
    "            df['epoch'] += 1\n",
    "            print('Previous training:')\n",
    "            display(HTML(df.to_html(index=False)))\n",
    "    \n",
    "    def define_callbacks_and_logger(self, model_path, model_savepoint, log_file, metrics):\n",
    "        metric_names = [m if isinstance(m, str) else m.name for m in metrics]\n",
    "\n",
    "        callbacks = [\n",
    "            tf.keras.callbacks.BackupAndRestore(\n",
    "                model_savepoint, save_freq='epoch', delete_checkpoint=False\n",
    "            ),\n",
    "            tf.keras.callbacks.CSVLogger(log_file, append=True),\n",
    "            tf.keras.callbacks.ModelCheckpoint(\n",
    "                model_path, monitor='val_prc', save_best_only=True, \n",
    "                save_freq='epoch', initial_value_threshold=0.4,\n",
    "                verbose=1,\n",
    "            ),\n",
    "            tf.keras.callbacks.ReduceLROnPlateau(\n",
    "                monitor='val_prc', factor=0.6, patience=2, min_lr=3e-6,\n",
    "                verbose=1,\n",
    "            ),\n",
    "            tf.keras.callbacks.EarlyStopping(\n",
    "                monitor='val_prc', \n",
    "                verbose=1,\n",
    "                patience=10,\n",
    "                mode='max',\n",
    "                restore_best_weights=True\n",
    "            ),\n",
    "            SleepCallback()\n",
    "        ]\n",
    "        return callbacks\n",
    "    \n",
    "    def get_initial_bias(self, shards_dir, IDs):\n",
    "        all_labels = []\n",
    "        for ID in IDs:\n",
    "            f = shards_dir.joinpath(f'label_{ID}.npy')\n",
    "            all_labels.append(np.load(f))\n",
    "        all_labels = np.vstack(all_labels)\n",
    "        neg, pos = np.bincount(all_labels.astype(int).flatten())\n",
    "        return np.log([pos/neg])\n",
    "        \n",
    "    def build_model(self, output_shape, input_shape, metrics, output_bias=None):\n",
    "        if output_bias is not None:\n",
    "            output_bias = tf.keras.initializers.Constant(output_bias)\n",
    "            \n",
    "        initial_units = 16\n",
    "            \n",
    "        m = tf.keras.Sequential()\n",
    "        m.add(Input(input_shape))\n",
    "        \n",
    "        for filters in [initial_units, initial_units*2]:\n",
    "            for _ in range(2):\n",
    "                m.add(Conv2D(\n",
    "                    filters=filters, kernel_size=3, padding='same', activation='relu',\n",
    "                ))\n",
    "            m.add(MaxPooling2D(pool_size=2,strides=2))\n",
    "            m.add(BatchNormalization())\n",
    "\n",
    "        for filters in [initial_units*4, initial_units*8]:\n",
    "            for _ in range(3):\n",
    "                m.add(Conv2D(\n",
    "                    filters=filters, kernel_size=3, padding='same', activation='relu',\n",
    "                ))\n",
    "            m.add(MaxPooling2D(pool_size=2,strides=2))\n",
    "            m.add(BatchNormalization())\n",
    "\n",
    "        m.add(Flatten())\n",
    "\n",
    "        for n_layers in range(2):\n",
    "            m.add(Dense(initial_units*64, activation='relu'))\n",
    "            m.add(Dropout(0.5))\n",
    "        \n",
    "        m.add(Dense(output_shape, activation='sigmoid'))\n",
    "\n",
    "        m.compile(optimizer='adam', loss='binary_crossentropy', metrics=metrics)\n",
    "        \n",
    "        return m\n",
    "    \n",
    "    def run(self, shards_dir, IDs, model_path, batch_size=10, epochs=10, overwrite=False):\n",
    "        ''' \n",
    "        If not overwrite and there's an existing model, the model will \n",
    "        continue trainingw if the given epoch is bigger than the previous,\n",
    "        else just evaluate.\n",
    "        Ensure train splits are the same across continuations / evaluations\n",
    "        by not modifying the random_state in split_and_normalise.\n",
    "        '''\n",
    "        model_savepoint = model_path.parent.joinpath(model_path.stem)\n",
    "        log_file = model_path.with_suffix('.log')\n",
    "        \n",
    "        prc = tf.keras.metrics.AUC(name='prc', curve='PR')\n",
    "        metrics = [\n",
    "            'accuracy', 'recall', 'precision',\n",
    "            'mse', 'r2_score', 'auc', prc\n",
    "        ]       \n",
    "\n",
    "        if overwrite:\n",
    "            for f in [model_path, log_file] + list(model_savepoint.glob('*')):\n",
    "                f.unlink(missing_ok=True)\n",
    "                \n",
    "        self.display_logger(log_file, metrics)\n",
    "        \n",
    "        callbacks = self.define_callbacks_and_logger(\n",
    "            model_path, model_savepoint, log_file, metrics)\n",
    "        \n",
    "        params = {\n",
    "            'dim': (100, 100),\n",
    "            'batch_size': batch_size,\n",
    "            'n_classes': 242,\n",
    "            'n_channels': 13,\n",
    "            'shuffle': True\n",
    "        }\n",
    "        \n",
    "        training_ids, test_ids = train_test_split(IDs, test_size=0.1, random_state=42)\n",
    "        validation_ids, test_ids = train_test_split(test_ids, test_size=0.9, random_state=42)\n",
    "        \n",
    "        training_generator = DataGenerator(training_ids, shards_dir, **params)\n",
    "        validation_generator = DataGenerator(validation_ids, shards_dir, **params)\n",
    "        \n",
    "        print('Loading model...')\n",
    "        if model_path.is_file():\n",
    "            model = tf.keras.models.load_model(model_path)\n",
    "        else:\n",
    "            initial_bias = self.get_initial_bias(shards_dir, IDs[:2000])\n",
    "            model = self.build_model(\n",
    "                params['n_classes'], (*params['dim'], params['n_channels']), metrics,\n",
    "                output_bias=initial_bias,\n",
    "            )\n",
    "        print('Fitting...')\n",
    "        model.fit(\n",
    "            x=training_generator,\n",
    "            validation_data=validation_generator,\n",
    "            epochs=epochs,\n",
    "            callbacks=callbacks\n",
    "        )\n",
    "        \n",
    "        return model"
   ]
  },
  {
   "cell_type": "code",
   "execution_count": 7,
   "id": "d105fc9d-03a1-418a-8deb-0d1b1975d7bc",
   "metadata": {},
   "outputs": [
    {
     "name": "stdout",
     "output_type": "stream",
     "text": [
      "models/conv_parts_0_to_111999.keras\n"
     ]
    }
   ],
   "source": [
    "parts = [f.stem.split('_')[-1] for f in feature_filepaths]\n",
    "model_name = f'conv_parts_{parts[0]}_to_{parts[-1]}.keras'\n",
    "model_path = model_dir.joinpath(model_name)\n",
    "print(model_path)\n",
    "\n",
    "IDs = [int(f.stem.split('_')[-1]) for f in feature_filepaths]\n",
    "IDs = shuffle(IDs, random_state=42)"
   ]
  },
  {
   "cell_type": "code",
   "execution_count": 13,
   "id": "f29e1273-d2c4-4722-9616-a17bf0a422d4",
   "metadata": {},
   "outputs": [
    {
     "name": "stdout",
     "output_type": "stream",
     "text": [
      "Previous training:\n"
     ]
    },
    {
     "data": {
      "text/html": [
       "<table border=\"1\" class=\"dataframe\">\n",
       "  <thead>\n",
       "    <tr style=\"text-align: right;\">\n",
       "      <th>epoch</th>\n",
       "      <th>loss</th>\n",
       "      <th>accuracy</th>\n",
       "      <th>recall</th>\n",
       "      <th>precision</th>\n",
       "      <th>mse</th>\n",
       "      <th>r2_score</th>\n",
       "      <th>auc</th>\n",
       "      <th>prc</th>\n",
       "      <th>val_loss</th>\n",
       "      <th>val_accuracy</th>\n",
       "      <th>val_recall</th>\n",
       "      <th>val_precision</th>\n",
       "      <th>val_mse</th>\n",
       "      <th>val_r2_score</th>\n",
       "      <th>val_auc</th>\n",
       "      <th>val_prc</th>\n",
       "    </tr>\n",
       "  </thead>\n",
       "  <tbody>\n",
       "    <tr>\n",
       "      <td>1</td>\n",
       "      <td>0.003693</td>\n",
       "      <td>0.743482</td>\n",
       "      <td>0.951721</td>\n",
       "      <td>0.870834</td>\n",
       "      <td>0.001016</td>\n",
       "      <td>0.18577</td>\n",
       "      <td>0.996507</td>\n",
       "      <td>0.977162</td>\n",
       "      <td>8.235919e-08</td>\n",
       "      <td>0.866364</td>\n",
       "      <td>1.0</td>\n",
       "      <td>1.0</td>\n",
       "      <td>1.323611e-11</td>\n",
       "      <td>0.206612</td>\n",
       "      <td>1.0</td>\n",
       "      <td>1.0</td>\n",
       "    </tr>\n",
       "  </tbody>\n",
       "</table>"
      ],
      "text/plain": [
       "<IPython.core.display.HTML object>"
      ]
     },
     "metadata": {},
     "output_type": "display_data"
    },
    {
     "name": "stdout",
     "output_type": "stream",
     "text": [
      "Loading model...\n",
      "Fitting...\n",
      "Epoch 2/5\n"
     ]
    },
    {
     "name": "stderr",
     "output_type": "stream",
     "text": [
      "/home/potato/miniconda3/envs/keras/lib/python3.10/site-packages/keras/src/saving/saving_lib.py:418: UserWarning: Skipping variable loading for optimizer 'adam', because it has 2 variables whereas the saved optimizer has 70 variables. \n",
      "  trackable.load_own_variables(weights_store.get(inner_path))\n",
      "2024-06-11 18:02:18.669758: I tensorflow/core/kernels/data/shuffle_dataset_op.cc:450] ShuffleDatasetV3:13: Filling up shuffle buffer (this may take a while): 3 of 8\n",
      "2024-06-11 18:02:37.470363: I tensorflow/core/kernels/data/shuffle_dataset_op.cc:450] ShuffleDatasetV3:13: Filling up shuffle buffer (this may take a while): 7 of 8\n",
      "2024-06-11 18:02:41.893396: I tensorflow/core/kernels/data/shuffle_dataset_op.cc:480] Shuffle buffer filled.\n"
     ]
    },
    {
     "name": "stdout",
     "output_type": "stream",
     "text": [
      "\u001b[1m1008/1008\u001b[0m \u001b[32m━━━━━━━━━━━━━━━━━━━━\u001b[0m\u001b[37m\u001b[0m \u001b[1m0s\u001b[0m 4s/step - accuracy: 0.8345 - auc: 0.9995 - loss: 3.0170e-04 - mse: 6.6617e-05 - prc: 0.9984 - precision: 0.9953 - r2_score: 0.2049 - recall: 0.9934\n",
      "Epoch 2: val_prc did not improve from 0.40000\n",
      "\u001b[1m1008/1008\u001b[0m \u001b[32m━━━━━━━━━━━━━━━━━━━━\u001b[0m\u001b[37m\u001b[0m \u001b[1m4870s\u001b[0m 5s/step - accuracy: 0.8345 - auc: 0.9995 - loss: 3.0156e-04 - mse: 6.6586e-05 - prc: 0.9984 - precision: 0.9953 - r2_score: 0.2049 - recall: 0.9934 - val_accuracy: 0.9900 - val_auc: 1.0000 - val_loss: 8.9853e-08 - val_mse: 1.2535e-10 - val_prc: 1.0000 - val_precision: 1.0000 - val_r2_score: 0.2066 - val_recall: 1.0000 - learning_rate: 0.0010\n",
      "Epoch 3/5\n"
     ]
    },
    {
     "name": "stderr",
     "output_type": "stream",
     "text": [
      "2024-06-11 19:28:25.514774: I tensorflow/core/kernels/data/shuffle_dataset_op.cc:450] ShuffleDatasetV3:13: Filling up shuffle buffer (this may take a while): 3 of 8\n",
      "2024-06-11 19:28:43.968832: I tensorflow/core/kernels/data/shuffle_dataset_op.cc:450] ShuffleDatasetV3:13: Filling up shuffle buffer (this may take a while): 7 of 8\n",
      "2024-06-11 19:28:48.771932: I tensorflow/core/kernels/data/shuffle_dataset_op.cc:480] Shuffle buffer filled.\n"
     ]
    },
    {
     "name": "stdout",
     "output_type": "stream",
     "text": [
      "\u001b[1m1008/1008\u001b[0m \u001b[32m━━━━━━━━━━━━━━━━━━━━\u001b[0m\u001b[37m\u001b[0m \u001b[1m0s\u001b[0m 5s/step - accuracy: 0.9465 - auc: 0.9996 - loss: 2.1272e-04 - mse: 3.6859e-05 - prc: 0.9986 - precision: 0.9971 - r2_score: 0.2054 - recall: 0.9968\n",
      "Epoch 3: val_prc did not improve from 0.40000\n",
      "\u001b[1m1008/1008\u001b[0m \u001b[32m━━━━━━━━━━━━━━━━━━━━\u001b[0m\u001b[37m\u001b[0m \u001b[1m4984s\u001b[0m 5s/step - accuracy: 0.9465 - auc: 0.9996 - loss: 2.1270e-04 - mse: 3.6854e-05 - prc: 0.9986 - precision: 0.9971 - r2_score: 0.2054 - recall: 0.9968 - val_accuracy: 0.9936 - val_auc: 1.0000 - val_loss: 1.2751e-09 - val_mse: 3.9243e-15 - val_prc: 1.0000 - val_precision: 1.0000 - val_r2_score: 0.2066 - val_recall: 1.0000 - learning_rate: 0.0010\n",
      "Epoch 4/5\n"
     ]
    },
    {
     "name": "stderr",
     "output_type": "stream",
     "text": [
      "2024-06-11 20:56:29.703626: I tensorflow/core/kernels/data/shuffle_dataset_op.cc:450] ShuffleDatasetV3:13: Filling up shuffle buffer (this may take a while): 3 of 8\n",
      "2024-06-11 20:56:47.779886: I tensorflow/core/kernels/data/shuffle_dataset_op.cc:450] ShuffleDatasetV3:13: Filling up shuffle buffer (this may take a while): 7 of 8\n",
      "2024-06-11 20:56:52.574747: I tensorflow/core/kernels/data/shuffle_dataset_op.cc:480] Shuffle buffer filled.\n"
     ]
    },
    {
     "name": "stdout",
     "output_type": "stream",
     "text": [
      "\u001b[1m1008/1008\u001b[0m \u001b[32m━━━━━━━━━━━━━━━━━━━━\u001b[0m\u001b[37m\u001b[0m \u001b[1m0s\u001b[0m 4s/step - accuracy: 0.9862 - auc: 0.9998 - loss: 1.0244e-04 - mse: 1.4390e-05 - prc: 0.9993 - precision: 0.9988 - r2_score: 0.2062 - recall: 0.9989\n",
      "Epoch 4: val_prc did not improve from 0.40000\n",
      "\u001b[1m1008/1008\u001b[0m \u001b[32m━━━━━━━━━━━━━━━━━━━━\u001b[0m\u001b[37m\u001b[0m \u001b[1m4893s\u001b[0m 5s/step - accuracy: 0.9862 - auc: 0.9998 - loss: 1.0245e-04 - mse: 1.4392e-05 - prc: 0.9993 - precision: 0.9988 - r2_score: 0.2062 - recall: 0.9989 - val_accuracy: 0.9336 - val_auc: 0.9944 - val_loss: 0.0058 - val_mse: 5.2993e-04 - val_prc: 0.9585 - val_precision: 0.9467 - val_r2_score: 0.1984 - val_recall: 0.9634 - learning_rate: 0.0010\n",
      "Epoch 5/5\n"
     ]
    },
    {
     "name": "stderr",
     "output_type": "stream",
     "text": [
      "2024-06-11 22:23:02.642590: I tensorflow/core/kernels/data/shuffle_dataset_op.cc:450] ShuffleDatasetV3:13: Filling up shuffle buffer (this may take a while): 3 of 8\n",
      "2024-06-11 22:23:20.277602: I tensorflow/core/kernels/data/shuffle_dataset_op.cc:450] ShuffleDatasetV3:13: Filling up shuffle buffer (this may take a while): 7 of 8\n",
      "2024-06-11 22:23:24.898573: I tensorflow/core/kernels/data/shuffle_dataset_op.cc:480] Shuffle buffer filled.\n"
     ]
    },
    {
     "name": "stdout",
     "output_type": "stream",
     "text": [
      "\u001b[1m1008/1008\u001b[0m \u001b[32m━━━━━━━━━━━━━━━━━━━━\u001b[0m\u001b[37m\u001b[0m \u001b[1m0s\u001b[0m 4s/step - accuracy: 0.9910 - auc: 0.9997 - loss: 1.2980e-04 - mse: 1.7773e-05 - prc: 0.9990 - precision: 0.9986 - r2_score: 0.2061 - recall: 0.9986\n",
      "Epoch 5: val_prc did not improve from 0.40000\n",
      "\u001b[1m1008/1008\u001b[0m \u001b[32m━━━━━━━━━━━━━━━━━━━━\u001b[0m\u001b[37m\u001b[0m \u001b[1m4818s\u001b[0m 5s/step - accuracy: 0.9910 - auc: 0.9997 - loss: 1.2976e-04 - mse: 1.7767e-05 - prc: 0.9990 - precision: 0.9986 - r2_score: 0.2061 - recall: 0.9986 - val_accuracy: 1.0000 - val_auc: 1.0000 - val_loss: 2.2048e-07 - val_mse: 5.0616e-11 - val_prc: 1.0000 - val_precision: 1.0000 - val_r2_score: 0.2066 - val_recall: 1.0000 - learning_rate: 0.0010\n",
      "Restoring model weights from the end of the best epoch: 2.\n"
     ]
    },
    {
     "data": {
      "text/plain": [
       "<Sequential name=sequential_1, built=True>"
      ]
     },
     "execution_count": 13,
     "metadata": {},
     "output_type": "execute_result"
    }
   ],
   "source": [
    "KerasModelCreator().run(\n",
    "    shards_dir,\n",
    "    IDs, \n",
    "    model_path, \n",
    "    batch_size=100, \n",
    "    epochs=6,\n",
    "    overwrite=False\n",
    ")"
   ]
  },
  {
   "cell_type": "code",
   "execution_count": null,
   "id": "8ded61bd-6527-4b12-bd22-d3404e4a5040",
   "metadata": {},
   "outputs": [],
   "source": []
  },
  {
   "cell_type": "code",
   "execution_count": null,
   "id": "bb61ad19-349f-4c6b-ad12-fdc6a46117fc",
   "metadata": {},
   "outputs": [],
   "source": []
  },
  {
   "cell_type": "code",
   "execution_count": null,
   "id": "138d220c-0c2d-459a-b995-ec95e3036002",
   "metadata": {},
   "outputs": [],
   "source": []
  },
  {
   "cell_type": "code",
   "execution_count": null,
   "id": "45e3e05a-a6f4-4957-9d4d-9523a113b06e",
   "metadata": {},
   "outputs": [],
   "source": []
  },
  {
   "cell_type": "code",
   "execution_count": null,
   "id": "7244709f-4d2b-411e-9644-86ddcad03468",
   "metadata": {},
   "outputs": [],
   "source": []
  },
  {
   "cell_type": "code",
   "execution_count": 9,
   "id": "c1a88adb-eca0-44ba-9b83-49adb7994137",
   "metadata": {},
   "outputs": [],
   "source": [
    "# tf.keras.models.load_model(model_path).summary()"
   ]
  },
  {
   "cell_type": "code",
   "execution_count": null,
   "id": "8302c085-023a-41e8-b074-abfee088b461",
   "metadata": {},
   "outputs": [],
   "source": []
  },
  {
   "cell_type": "code",
   "execution_count": null,
   "id": "4e476eaf-992b-4bb6-a973-de32c88805c4",
   "metadata": {},
   "outputs": [],
   "source": []
  },
  {
   "cell_type": "code",
   "execution_count": null,
   "id": "b5ab704e-6c77-4671-9812-8af5b407bae4",
   "metadata": {},
   "outputs": [],
   "source": []
  },
  {
   "cell_type": "code",
   "execution_count": 10,
   "id": "b5189141-5f07-4aac-a68f-00a24ec5d69d",
   "metadata": {},
   "outputs": [],
   "source": [
    "# import subprocess\n",
    "# subprocess.run(['sudo', 'shutdown', 'now'])"
   ]
  },
  {
   "cell_type": "code",
   "execution_count": null,
   "id": "ea018983-f959-487b-9bda-61c90da0d6d9",
   "metadata": {},
   "outputs": [],
   "source": []
  },
  {
   "cell_type": "code",
   "execution_count": null,
   "id": "858b81a8-f8a7-4da4-8614-ba08abd93a0a",
   "metadata": {},
   "outputs": [],
   "source": []
  }
 ],
 "metadata": {
  "kernelspec": {
   "display_name": "Python 3 (ipykernel)",
   "language": "python",
   "name": "python3"
  },
  "language_info": {
   "codemirror_mode": {
    "name": "ipython",
    "version": 3
   },
   "file_extension": ".py",
   "mimetype": "text/x-python",
   "name": "python",
   "nbconvert_exporter": "python",
   "pygments_lexer": "ipython3",
   "version": "3.10.14"
  },
  "widgets": {
   "application/vnd.jupyter.widget-state+json": {
    "state": {},
    "version_major": 2,
    "version_minor": 0
   }
  }
 },
 "nbformat": 4,
 "nbformat_minor": 5
}
