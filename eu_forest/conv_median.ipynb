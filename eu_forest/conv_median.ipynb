{
 "cells": [
  {
   "cell_type": "code",
   "execution_count": 1,
   "id": "45a09dcb-b90b-45d7-b5a2-54996a34ada0",
   "metadata": {},
   "outputs": [
    {
     "name": "stderr",
     "output_type": "stream",
     "text": [
      "2024-06-17 22:22:19.814055: I external/local_tsl/tsl/cuda/cudart_stub.cc:32] Could not find cuda drivers on your machine, GPU will not be used.\n",
      "2024-06-17 22:22:19.837398: I external/local_tsl/tsl/cuda/cudart_stub.cc:32] Could not find cuda drivers on your machine, GPU will not be used.\n",
      "2024-06-17 22:22:19.900428: I tensorflow/core/platform/cpu_feature_guard.cc:210] This TensorFlow binary is optimized to use available CPU instructions in performance-critical operations.\n",
      "To enable the following instructions: AVX2 FMA, in other operations, rebuild TensorFlow with the appropriate compiler flags.\n",
      "2024-06-17 22:22:21.310270: W tensorflow/compiler/tf2tensorrt/utils/py_utils.cc:38] TF-TRT Warning: Could not find TensorRT\n"
     ]
    }
   ],
   "source": [
    "from IPython.display import display, HTML\n",
    "\n",
    "import numpy as np\n",
    "import pandas as pd\n",
    "\n",
    "from tqdm.notebook import tqdm\n",
    "\n",
    "from pathlib import Path\n",
    "\n",
    "from time import sleep\n",
    "\n",
    "from sklearn.model_selection import train_test_split\n",
    "from sklearn.metrics import classification_report, confusion_matrix, ConfusionMatrixDisplay, multilabel_confusion_matrix\n",
    "from sklearn.utils import shuffle\n",
    "\n",
    "import tensorflow as tf\n",
    "from tensorflow.keras import backend as K\n",
    "from tensorflow.keras.layers import *\n",
    "from tensorflow.keras.optimizers import Adam, RMSprop, Nadam, SGD, AdamW\n",
    "from tensorflow.keras.models import load_model, Model\n",
    "from tensorflow.keras.initializers import glorot_uniform"
   ]
  },
  {
   "cell_type": "code",
   "execution_count": 2,
   "id": "0749fbd3-b6ee-443c-b12c-741c2ee1f1bb",
   "metadata": {},
   "outputs": [],
   "source": [
    "selected_bands = [f'B{x}' for x in range(2, 9)] + ['B8A', 'B11', 'B12', 'TCI_R', 'TCI_G', 'TCI_B']"
   ]
  },
  {
   "cell_type": "code",
   "execution_count": 3,
   "id": "d5926fbe-15c2-4fa6-8977-99eafdcb5ca3",
   "metadata": {},
   "outputs": [],
   "source": [
    "model_dir = Path('models')\n",
    "model_dir.mkdir(parents=True, exist_ok=True)\n",
    "\n",
    "shards_dir = Path.home().joinpath('sentinel_data').joinpath('shards')\n",
    "\n",
    "sort_key = lambda x: int(x.stem.split('_')[-1])\n",
    "feature_filepaths = sorted(list(shards_dir.glob('feature_*.npy')), key=sort_key)"
   ]
  },
  {
   "cell_type": "markdown",
   "id": "7a20ef66-8fee-41ab-9e7c-9269f0967b97",
   "metadata": {},
   "source": [
    "Adapted from https://stanford.edu/~shervine/blog/keras-how-to-generate-data-on-the-fly"
   ]
  },
  {
   "cell_type": "code",
   "execution_count": 4,
   "id": "90c59975-e2bf-4311-a011-b7284efda661",
   "metadata": {
    "tags": []
   },
   "outputs": [],
   "source": [
    "class DataGenerator(tf.keras.utils.PyDataset):\n",
    "    'Generates data for Keras'\n",
    "    def __init__(self, list_IDs, data_dir, shuffle, batch_size=32, dim=(100,100), n_channels=13,\n",
    "                 n_classes=242, **kwargs):\n",
    "        super().__init__(**kwargs)\n",
    "        self.dim = dim\n",
    "        self.batch_size = batch_size\n",
    "        self.data_dir = data_dir\n",
    "        self.list_IDs = list_IDs\n",
    "        self.n_channels = n_channels\n",
    "        self.n_classes = n_classes\n",
    "        self.shuffle = shuffle\n",
    "        self.use_multiprocessing = True\n",
    "        self.workers = 4\n",
    "        self.max_queue_size = 10\n",
    "        self.on_epoch_end()\n",
    "\n",
    "    def __len__(self):\n",
    "        'Denotes the number of batches per epoch'\n",
    "        return int(np.floor(len(self.list_IDs) / self.batch_size))\n",
    "\n",
    "    def __getitem__(self, index):\n",
    "        'Generate one batch of data'\n",
    "        # Generate indexes of the batch\n",
    "        indexes = self.indexes[index*self.batch_size:(index+1)*self.batch_size]\n",
    "\n",
    "        # Find list of IDs\n",
    "        list_IDs_temp = [self.list_IDs[k] for k in indexes]\n",
    "\n",
    "        # Generate data\n",
    "        X, y = self.data_generation(list_IDs_temp)\n",
    "\n",
    "        return X, y\n",
    "\n",
    "    def on_epoch_end(self):\n",
    "        'Updates indexes after each epoch'\n",
    "        self.indexes = np.arange(len(self.list_IDs))\n",
    "        if self.shuffle == True:\n",
    "            np.random.shuffle(self.indexes)\n",
    "\n",
    "    def data_generation(self, list_IDs_temp):\n",
    "        'Generates data containing batch_size samples'\n",
    "        # Initialization\n",
    "        X = np.empty((self.batch_size, *self.dim, self.n_channels))\n",
    "        y = np.empty((self.batch_size, self.n_classes))\n",
    "\n",
    "        # Generate data\n",
    "        for i, ID in enumerate(list_IDs_temp):\n",
    "            # Store sample\n",
    "            X[i,...] = np.load(self.data_dir.joinpath(f'feature_{ID}.npy'))\n",
    "            # Store class\n",
    "            y[i] = np.load(self.data_dir.joinpath(f'label_{ID}.npy'))\n",
    "        \n",
    "        return X, y"
   ]
  },
  {
   "cell_type": "code",
   "execution_count": 5,
   "id": "7a5fb97e-b021-4620-9b31-468323822101",
   "metadata": {},
   "outputs": [],
   "source": [
    "class KerasModelCreator:\n",
    "    def display_logger(self, log_file, metrics):\n",
    "        metric_names = [m if isinstance(m, str) else m.name for m in metrics]\n",
    "        if log_file.is_file():\n",
    "            val_metrics = ['val_loss'] + ['val_' + x for x in metric_names]\n",
    "            df = pd.read_csv(log_file)[['epoch', 'loss'] + metric_names + val_metrics]\n",
    "            df['epoch'] += 1\n",
    "            print('Previous training:')\n",
    "            display(HTML(df.to_html(index=False)))\n",
    "    \n",
    "    def define_callbacks_and_logger(self, model_path, model_savepoint, log_file, metrics):\n",
    "        metric_names = [m if isinstance(m, str) else m.name for m in metrics]\n",
    "\n",
    "        callbacks = [\n",
    "            tf.keras.callbacks.BackupAndRestore(\n",
    "                model_savepoint, save_freq='epoch', delete_checkpoint=False\n",
    "            ),\n",
    "            tf.keras.callbacks.CSVLogger(log_file, append=True),\n",
    "            tf.keras.callbacks.ModelCheckpoint(\n",
    "                model_path, monitor='val_prc', save_best_only=True, \n",
    "                save_freq='epoch', initial_value_threshold=0.4,\n",
    "                verbose=1,\n",
    "            ),\n",
    "            tf.keras.callbacks.ReduceLROnPlateau(\n",
    "                monitor='val_prc', factor=0.6, patience=2, min_lr=3e-6,\n",
    "                verbose=1,\n",
    "            ),\n",
    "            tf.keras.callbacks.EarlyStopping(\n",
    "                monitor='val_prc', \n",
    "                verbose=1,\n",
    "                patience=10,\n",
    "                mode='max',\n",
    "                restore_best_weights=True\n",
    "            ),\n",
    "        ]\n",
    "        return callbacks\n",
    "    \n",
    "    def get_initial_bias(self, shards_dir, IDs):\n",
    "        all_labels = []\n",
    "        for ID in IDs:\n",
    "            f = shards_dir.joinpath(f'label_{ID}.npy')\n",
    "            all_labels.append(np.load(f))\n",
    "        all_labels = np.vstack(all_labels)\n",
    "        neg, pos = np.bincount(all_labels.astype(int).flatten())\n",
    "        return np.log([pos/neg])\n",
    "    \n",
    "    def res_block(self, x, filters):\n",
    "        r = BatchNormalization()(x)\n",
    "        r = Activation('relu')(r)\n",
    "        r = Conv2D(\n",
    "            filters=filters, kernel_size=3, strides=2, padding='same', \n",
    "            kernel_initializer=glorot_uniform(seed=42)\n",
    "        )(r)\n",
    "        \n",
    "        r = BatchNormalization()(r)\n",
    "        r = Activation('relu')(r)\n",
    "        \n",
    "        r = Conv2D(\n",
    "            filters=filters, kernel_size=3, strides=1, padding='same', \n",
    "            kernel_initializer=glorot_uniform(seed=42)\n",
    "        )(r)\n",
    "        \n",
    "        r = Conv2D(\n",
    "            filters=1, kernel_size=1, strides=1, padding='valid'\n",
    "        )(r)\n",
    "        \n",
    "        x = Conv2D(\n",
    "            filters=filters, kernel_size=3, strides=2, padding='same', \n",
    "            kernel_initializer=glorot_uniform(seed=42)\n",
    "        )(x)\n",
    "        \n",
    "        return Add()([x, r])\n",
    "    \n",
    "    def build_model(self, output_shape, input_shape, metrics, output_bias=None):\n",
    "        if output_bias is not None:\n",
    "            output_bias = tf.keras.initializers.Constant(output_bias)\n",
    "         \n",
    "        input_layer = Input(input_shape)\n",
    "        \n",
    "        base_units = 16\n",
    "        \n",
    "        x = self.res_block(input_layer, base_units)\n",
    "        x = self.res_block(x, base_units*2)\n",
    "        x = self.res_block(x, base_units*4)\n",
    "        x = self.res_block(x, base_units*8)\n",
    "        \n",
    "        x = Activation('relu')(x)\n",
    "        x = Flatten()(x)\n",
    "\n",
    "        x = Dense(base_units*8, activation='relu')(x)\n",
    "        x = Dense(output_shape, activation='sigmoid', bias_initializer=output_bias)(x)\n",
    "        \n",
    "        m = Model(inputs=input_layer, outputs=x)\n",
    "\n",
    "        m.compile(optimizer='adam', loss='binary_crossentropy', metrics=metrics)\n",
    "        \n",
    "        return m\n",
    "    \n",
    "    def run(self, shards_dir, IDs, model_path, batch_size=10, epochs=10, overwrite=False):\n",
    "        ''' \n",
    "        If not overwrite and there's an existing model, the model will \n",
    "        continue trainingw if the given epoch is bigger than the previous,\n",
    "        else just evaluate.\n",
    "        Ensure train splits are the same across continuations / evaluations\n",
    "        by not modifying the random_state in split_and_normalise.\n",
    "        '''\n",
    "        model_savepoint = model_path.parent.joinpath(model_path.stem)\n",
    "        log_file = model_path.with_suffix('.log')\n",
    "        \n",
    "        prc = tf.keras.metrics.AUC(name='prc', curve='PR')\n",
    "        metrics = [\n",
    "            'accuracy', 'recall', 'precision',\n",
    "            'mse', 'auc', prc\n",
    "        ]       \n",
    "\n",
    "        if overwrite:\n",
    "            for f in [model_path, log_file] + list(model_savepoint.glob('*')):\n",
    "                f.unlink(missing_ok=True)\n",
    "                \n",
    "        self.display_logger(log_file, metrics)\n",
    "        \n",
    "        callbacks = self.define_callbacks_and_logger(\n",
    "            model_path, model_savepoint, log_file, metrics)\n",
    "        \n",
    "        params = {\n",
    "            'dim': (100, 100),\n",
    "            'batch_size': batch_size,\n",
    "            'n_classes': 242,\n",
    "            'n_channels': 13\n",
    "        }\n",
    "        \n",
    "        training_ids, test_ids = train_test_split(IDs, test_size=0.1, random_state=42)\n",
    "        validation_ids, test_ids = train_test_split(test_ids, test_size=0.9, random_state=42)\n",
    "        \n",
    "        training_generator = DataGenerator(training_ids, shards_dir, shuffle=True, **params)\n",
    "        testing_generator = DataGenerator(test_ids, shards_dir, shuffle=False, **params)\n",
    "        validation_generator = DataGenerator(validation_ids, shards_dir, shuffle=False, **params)\n",
    "        \n",
    "        print('Loading model...')\n",
    "        if model_path.is_file():\n",
    "            model = load_model(model_path)\n",
    "        else:\n",
    "            initial_bias = self.get_initial_bias(shards_dir, IDs[:2000])\n",
    "            model = self.build_model(\n",
    "                params['n_classes'], (*params['dim'], params['n_channels']), metrics,\n",
    "                output_bias=initial_bias,\n",
    "            )\n",
    "        print('Fitting...')\n",
    "        model.fit(\n",
    "            x=training_generator,\n",
    "            validation_data=validation_generator,\n",
    "            epochs=epochs,\n",
    "            callbacks=callbacks\n",
    "        )\n",
    "        return model, testing_generator"
   ]
  },
  {
   "cell_type": "code",
   "execution_count": 6,
   "id": "d105fc9d-03a1-418a-8deb-0d1b1975d7bc",
   "metadata": {},
   "outputs": [
    {
     "name": "stdout",
     "output_type": "stream",
     "text": [
      "models/conv_parts_0_to_182999.keras\n"
     ]
    }
   ],
   "source": [
    "parts = [f.stem.split('_')[-1] for f in feature_filepaths]\n",
    "model_name = f'conv_parts_{parts[0]}_to_{parts[-1]}.keras'\n",
    "\n",
    "model_path = model_dir.joinpath(model_name)\n",
    "print(model_path)\n",
    "\n",
    "IDs = [int(f.stem.split('_')[-1]) for f in feature_filepaths]\n",
    "IDs = shuffle(IDs, random_state=42)"
   ]
  },
  {
   "cell_type": "code",
   "execution_count": null,
   "id": "f29e1273-d2c4-4722-9616-a17bf0a422d4",
   "metadata": {},
   "outputs": [
    {
     "name": "stdout",
     "output_type": "stream",
     "text": [
      "Loading model...\n",
      "Fitting...\n",
      "Epoch 1/3\n",
      "\u001b[1m1530/1530\u001b[0m \u001b[32m━━━━━━━━━━━━━━━━━━━━\u001b[0m\u001b[37m\u001b[0m \u001b[1m0s\u001b[0m 941ms/step - accuracy: 0.1654 - auc: 0.9251 - loss: 0.0321 - mse: 0.0077 - prc: 0.2210 - precision: 0.4839 - recall: 0.0481\n",
      "Epoch 1: val_prc improved from 0.40000 to 0.35616, saving model to models/conv_parts_0_to_182999.keras\n",
      "\u001b[1m1530/1530\u001b[0m \u001b[32m━━━━━━━━━━━━━━━━━━━━\u001b[0m\u001b[37m\u001b[0m \u001b[1m1463s\u001b[0m 950ms/step - accuracy: 0.1654 - auc: 0.9251 - loss: 0.0321 - mse: 0.0077 - prc: 0.2210 - precision: 0.4840 - recall: 0.0482 - val_accuracy: 0.2582 - val_auc: 0.9569 - val_loss: 0.0271 - val_mse: 0.0070 - val_prc: 0.3562 - val_precision: 0.6877 - val_recall: 0.1027 - learning_rate: 0.0010\n",
      "Epoch 2/3\n",
      "\u001b[1m  88/1530\u001b[0m \u001b[32m━\u001b[0m\u001b[37m━━━━━━━━━━━━━━━━━━━\u001b[0m \u001b[1m22:00\u001b[0m 916ms/step - accuracy: 0.2543 - auc: 0.9584 - loss: 0.0271 - mse: 0.0070 - prc: 0.3414 - precision: 0.6108 - recall: 0.1203"
     ]
    }
   ],
   "source": [
    "model, testing_generator = KerasModelCreator().run(\n",
    "    shards_dir,\n",
    "    IDs, \n",
    "    model_path, \n",
    "    batch_size=100, \n",
    "    epochs=3,\n",
    "    overwrite=True\n",
    ")"
   ]
  },
  {
   "cell_type": "code",
   "execution_count": null,
   "id": "f19411ca-97b2-45ee-a101-aaf2c87f7587",
   "metadata": {},
   "outputs": [],
   "source": [
    "eval_path = model_path.with_suffix('.eval.csv')\n",
    "if eval_path.is_file():\n",
    "    print(pd.read_csv(eval_path))\n",
    "else:\n",
    "    r = model.evaluate(x=testing_generator, verbose=1, return_dict=True)\n",
    "    df = pd.DataFrame.from_dict(r, orient='index', columns=['score'])\n",
    "    df.to_csv(eval_path)\n",
    "    print(df)"
   ]
  },
  {
   "cell_type": "code",
   "execution_count": null,
   "id": "77a57cfb-f044-4572-80c9-56b44f37a044",
   "metadata": {},
   "outputs": [],
   "source": [
    "preds_path = model_path.with_suffix('.preds.npy')\n",
    "if preds_path.is_file():\n",
    "    y_pred = np.load(preds_path)\n",
    "else:\n",
    "    y_pred = model.predict(x=testing_generator, verbose=1)\n",
    "    np.save(preds_path, y_pred)"
   ]
  },
  {
   "cell_type": "code",
   "execution_count": null,
   "id": "78dc75e3-1c10-4ddd-9c7e-246310b1bd02",
   "metadata": {},
   "outputs": [],
   "source": [
    "labels_path = model_path.with_suffix('.true.npy')\n",
    "total_batches = testing_generator.__len__()\n",
    "if not labels_path.is_file():\n",
    "    y_true = np.load(labels_path)\n",
    "else:\n",
    "    y_true = []\n",
    "    for i, (x, y) in enumerate(tqdm(testing_generator, total=total_batches-1)):\n",
    "        y_true.append(y)\n",
    "        if i > total_batches - 2:\n",
    "            break\n",
    "    y_true = np.vstack(y_true)\n",
    "    np.save(labels_path, y_true)"
   ]
  },
  {
   "cell_type": "code",
   "execution_count": null,
   "id": "baa96622-fc8d-40ef-86c8-e9f3c5990163",
   "metadata": {},
   "outputs": [],
   "source": [
    "y_true.sum(), y_pred.round(0).sum()"
   ]
  },
  {
   "cell_type": "code",
   "execution_count": null,
   "id": "189634b8-0482-4443-a909-6ec323fec15d",
   "metadata": {},
   "outputs": [],
   "source": [
    "cm = confusion_matrix(y_true.flatten().astype(int), y_pred.round(0).flatten().astype(int))\n",
    "ConfusionMatrixDisplay(confusion_matrix=cm).plot()"
   ]
  },
  {
   "cell_type": "code",
   "execution_count": null,
   "id": "875120d1-0f74-4894-98e3-19e2d8adb8cf",
   "metadata": {},
   "outputs": [],
   "source": []
  },
  {
   "cell_type": "code",
   "execution_count": null,
   "id": "8ded61bd-6527-4b12-bd22-d3404e4a5040",
   "metadata": {},
   "outputs": [],
   "source": [
    "# tf.keras.utils.plot_model(model, show_shapes=True)"
   ]
  },
  {
   "cell_type": "code",
   "execution_count": null,
   "id": "bb61ad19-349f-4c6b-ad12-fdc6a46117fc",
   "metadata": {},
   "outputs": [],
   "source": [
    "# model.summary()"
   ]
  },
  {
   "cell_type": "code",
   "execution_count": null,
   "id": "138d220c-0c2d-459a-b995-ec95e3036002",
   "metadata": {},
   "outputs": [],
   "source": []
  },
  {
   "cell_type": "code",
   "execution_count": null,
   "id": "45e3e05a-a6f4-4957-9d4d-9523a113b06e",
   "metadata": {},
   "outputs": [],
   "source": []
  },
  {
   "cell_type": "code",
   "execution_count": null,
   "id": "7244709f-4d2b-411e-9644-86ddcad03468",
   "metadata": {},
   "outputs": [],
   "source": []
  },
  {
   "cell_type": "code",
   "execution_count": null,
   "id": "c1a88adb-eca0-44ba-9b83-49adb7994137",
   "metadata": {},
   "outputs": [],
   "source": [
    "# tf.keras.models.load_model(model_path).summary()"
   ]
  },
  {
   "cell_type": "code",
   "execution_count": null,
   "id": "8302c085-023a-41e8-b074-abfee088b461",
   "metadata": {},
   "outputs": [],
   "source": []
  },
  {
   "cell_type": "code",
   "execution_count": null,
   "id": "4e476eaf-992b-4bb6-a973-de32c88805c4",
   "metadata": {},
   "outputs": [],
   "source": []
  },
  {
   "cell_type": "code",
   "execution_count": null,
   "id": "b5ab704e-6c77-4671-9812-8af5b407bae4",
   "metadata": {},
   "outputs": [],
   "source": []
  },
  {
   "cell_type": "code",
   "execution_count": null,
   "id": "b5189141-5f07-4aac-a68f-00a24ec5d69d",
   "metadata": {},
   "outputs": [],
   "source": [
    "# import subprocess\n",
    "# subprocess.run(['sudo', 'shutdown', 'now'])"
   ]
  },
  {
   "cell_type": "code",
   "execution_count": null,
   "id": "ea018983-f959-487b-9bda-61c90da0d6d9",
   "metadata": {},
   "outputs": [],
   "source": []
  },
  {
   "cell_type": "code",
   "execution_count": null,
   "id": "858b81a8-f8a7-4da4-8614-ba08abd93a0a",
   "metadata": {},
   "outputs": [],
   "source": []
  }
 ],
 "metadata": {
  "kernelspec": {
   "display_name": "Python 3 (ipykernel)",
   "language": "python",
   "name": "python3"
  },
  "language_info": {
   "codemirror_mode": {
    "name": "ipython",
    "version": 3
   },
   "file_extension": ".py",
   "mimetype": "text/x-python",
   "name": "python",
   "nbconvert_exporter": "python",
   "pygments_lexer": "ipython3",
   "version": "3.10.14"
  },
  "widgets": {
   "application/vnd.jupyter.widget-state+json": {
    "state": {},
    "version_major": 2,
    "version_minor": 0
   }
  }
 },
 "nbformat": 4,
 "nbformat_minor": 5
}
