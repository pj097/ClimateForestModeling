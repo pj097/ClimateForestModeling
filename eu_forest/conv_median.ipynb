{
 "cells": [
  {
   "cell_type": "code",
   "execution_count": 1,
   "id": "45a09dcb-b90b-45d7-b5a2-54996a34ada0",
   "metadata": {},
   "outputs": [
    {
     "name": "stderr",
     "output_type": "stream",
     "text": [
      "2024-06-27 15:57:58.799385: I external/local_tsl/tsl/cuda/cudart_stub.cc:32] Could not find cuda drivers on your machine, GPU will not be used.\n",
      "2024-06-27 15:57:58.802834: I external/local_tsl/tsl/cuda/cudart_stub.cc:32] Could not find cuda drivers on your machine, GPU will not be used.\n",
      "2024-06-27 15:57:58.838519: I tensorflow/core/platform/cpu_feature_guard.cc:210] This TensorFlow binary is optimized to use available CPU instructions in performance-critical operations.\n",
      "To enable the following instructions: AVX2 FMA, in other operations, rebuild TensorFlow with the appropriate compiler flags.\n",
      "2024-06-27 15:57:59.801211: W tensorflow/compiler/tf2tensorrt/utils/py_utils.cc:38] TF-TRT Warning: Could not find TensorRT\n"
     ]
    }
   ],
   "source": [
    "import sys\n",
    "sys.dont_write_bytecode = True\n",
    "\n",
    "import numpy as np\n",
    "import pandas as pd\n",
    "\n",
    "from tqdm.notebook import tqdm\n",
    "\n",
    "from pathlib import Path\n",
    "\n",
    "from time import sleep\n",
    "\n",
    "from sklearn.model_selection import train_test_split\n",
    "from sklearn.metrics import classification_report, confusion_matrix, ConfusionMatrixDisplay, multilabel_confusion_matrix\n",
    "from sklearn.utils import shuffle\n",
    "\n",
    "from sentinel_utils import SentinelUtils\n",
    "from keras_model_creator import KerasModelCreator"
   ]
  },
  {
   "cell_type": "code",
   "execution_count": 2,
   "id": "0749fbd3-b6ee-443c-b12c-741c2ee1f1bb",
   "metadata": {},
   "outputs": [],
   "source": [
    "all_bands = [f'B{x}' for x in range(2, 9)] + ['B8A', 'B11', 'B12', 'TCI_R', 'TCI_G', 'TCI_B']\n",
    "selected_bands = all_bands\n",
    "bands = [all_bands.index(b) for b in selected_bands]"
   ]
  },
  {
   "cell_type": "code",
   "execution_count": 3,
   "id": "d5926fbe-15c2-4fa6-8977-99eafdcb5ca3",
   "metadata": {},
   "outputs": [],
   "source": [
    "shards_dir = Path.home().joinpath('sentinel_data').joinpath('shards')\n",
    "\n",
    "sort_key = lambda x: int(x.stem.split('_')[-1])\n",
    "label_shards = sorted(list(shards_dir.joinpath(f'labels_2017').glob('label_*.npy')), key=sort_key)\n",
    "feature_shards = sorted(list(shards_dir.joinpath(f'features_2017').glob('feature_*.npy')), key=sort_key)\n",
    "\n",
    "p = SentinelUtils(\n",
    "    shuffle(feature_shards, random_state=42)[:50000],\n",
    "    label_shards, min_occurrences=5000, \n",
    "    overwrite_summary=False, overwrite_selection=False\n",
    ")\n",
    "\n",
    "data_summary = p.data_summary\n",
    "IDs = p.keep_shards\n",
    "keep_classes = p.keep_classes\n",
    "\n",
    "# IDs = shuffle([int(f.stem.split('_')[-1]) for f in label_shards], random_state=42)"
   ]
  },
  {
   "cell_type": "code",
   "execution_count": 4,
   "id": "aadf50b8-eda2-4527-97d0-e4e81748f2ed",
   "metadata": {},
   "outputs": [
    {
     "data": {
      "text/plain": [
       "PosixPath('models/simple-binary_crossentropy-237797-30-2017')"
      ]
     },
     "execution_count": 4,
     "metadata": {},
     "output_type": "execute_result"
    }
   ],
   "source": [
    "data_tag = '2017'\n",
    "architecture = 'simple'\n",
    "loss = 'binary_crossentropy'\n",
    "dim = (np.load(feature_shards[0]).shape[:2])\n",
    "\n",
    "n_samples = len(IDs)\n",
    "\n",
    "model_dir = Path('models').joinpath(\n",
    "    f'{architecture}-{loss}-{n_samples}-{len(keep_classes)}-{data_tag}'\n",
    ")\n",
    "model_dir.mkdir(parents=True, exist_ok=True)\n",
    "\n",
    "model_dir"
   ]
  },
  {
   "cell_type": "code",
   "execution_count": 11,
   "id": "f29e1273-d2c4-4722-9616-a17bf0a422d4",
   "metadata": {},
   "outputs": [
    {
     "name": "stdout",
     "output_type": "stream",
     "text": [
      "Building model...\n",
      "Fitting...\n"
     ]
    },
    {
     "ename": "IndexError",
     "evalue": "too many indices for array: array is 1-dimensional, but 2 were indexed",
     "output_type": "error",
     "traceback": [
      "\u001b[0;31m---------------------------------------------------------------------------\u001b[0m",
      "\u001b[0;31mIndexError\u001b[0m                                Traceback (most recent call last)",
      "Cell \u001b[0;32mIn[11], line 23\u001b[0m\n\u001b[1;32m      4\u001b[0m \u001b[38;5;28;01mfrom\u001b[39;00m \u001b[38;5;21;01mkeras_model_creator\u001b[39;00m \u001b[38;5;28;01mimport\u001b[39;00m KerasModelCreator\n\u001b[1;32m      6\u001b[0m params \u001b[38;5;241m=\u001b[39m \u001b[38;5;28mdict\u001b[39m(\n\u001b[1;32m      7\u001b[0m     dim\u001b[38;5;241m=\u001b[39mdim,\n\u001b[1;32m      8\u001b[0m     shards_dir\u001b[38;5;241m=\u001b[39mshards_dir,\n\u001b[0;32m   (...)\u001b[0m\n\u001b[1;32m     20\u001b[0m     overwrite\u001b[38;5;241m=\u001b[39m\u001b[38;5;28;01mFalse\u001b[39;00m\n\u001b[1;32m     21\u001b[0m )\n\u001b[0;32m---> 23\u001b[0m model, testing_generator \u001b[38;5;241m=\u001b[39m \u001b[43mKerasModelCreator\u001b[49m\u001b[43m(\u001b[49m\u001b[38;5;241;43m*\u001b[39;49m\u001b[38;5;241;43m*\u001b[39;49m\u001b[43mparams\u001b[49m\u001b[43m)\u001b[49m\u001b[38;5;241;43m.\u001b[39;49m\u001b[43mrun\u001b[49m\u001b[43m(\u001b[49m\u001b[43m)\u001b[49m\n",
      "File \u001b[0;32m~/sentinel/eu_forest/keras_model_creator.py:140\u001b[0m, in \u001b[0;36mKerasModelCreator.run\u001b[0;34m(self)\u001b[0m\n\u001b[1;32m    134\u001b[0m     model \u001b[38;5;241m=\u001b[39m \u001b[38;5;28mself\u001b[39m\u001b[38;5;241m.\u001b[39mbuild_model(\n\u001b[1;32m    135\u001b[0m         \u001b[38;5;28mlen\u001b[39m(\u001b[38;5;28mself\u001b[39m\u001b[38;5;241m.\u001b[39mkeep_classes), (\u001b[38;5;241m*\u001b[39m\u001b[38;5;28mself\u001b[39m\u001b[38;5;241m.\u001b[39mdim, \u001b[38;5;28mlen\u001b[39m(\u001b[38;5;28mself\u001b[39m\u001b[38;5;241m.\u001b[39mbands)), metrics,\n\u001b[1;32m    136\u001b[0m         \u001b[38;5;28mself\u001b[39m\u001b[38;5;241m.\u001b[39marchitecture, \u001b[38;5;28mself\u001b[39m\u001b[38;5;241m.\u001b[39mloss,\n\u001b[1;32m    137\u001b[0m         output_bias\u001b[38;5;241m=\u001b[39minitial_bias,\n\u001b[1;32m    138\u001b[0m     )\n\u001b[1;32m    139\u001b[0m \u001b[38;5;28mprint\u001b[39m(\u001b[38;5;124m'\u001b[39m\u001b[38;5;124mFitting...\u001b[39m\u001b[38;5;124m'\u001b[39m)\n\u001b[0;32m--> 140\u001b[0m \u001b[43mmodel\u001b[49m\u001b[38;5;241;43m.\u001b[39;49m\u001b[43mfit\u001b[49m\u001b[43m(\u001b[49m\n\u001b[1;32m    141\u001b[0m \u001b[43m    \u001b[49m\u001b[43mx\u001b[49m\u001b[38;5;241;43m=\u001b[39;49m\u001b[43mtraining_generator\u001b[49m\u001b[43m,\u001b[49m\n\u001b[1;32m    142\u001b[0m \u001b[43m    \u001b[49m\u001b[43mvalidation_data\u001b[49m\u001b[38;5;241;43m=\u001b[39;49m\u001b[43mvalidation_generator\u001b[49m\u001b[43m,\u001b[49m\n\u001b[1;32m    143\u001b[0m \u001b[43m    \u001b[49m\u001b[43mepochs\u001b[49m\u001b[38;5;241;43m=\u001b[39;49m\u001b[38;5;28;43mself\u001b[39;49m\u001b[38;5;241;43m.\u001b[39;49m\u001b[43mepochs\u001b[49m\u001b[43m,\u001b[49m\n\u001b[1;32m    144\u001b[0m \u001b[43m    \u001b[49m\u001b[43mcallbacks\u001b[49m\u001b[38;5;241;43m=\u001b[39;49m\u001b[43mcallbacks\u001b[49m\u001b[43m,\u001b[49m\n\u001b[1;32m    145\u001b[0m \u001b[43m    \u001b[49m\u001b[43mclass_weight\u001b[49m\u001b[38;5;241;43m=\u001b[39;49m\u001b[43mclass_weights\u001b[49m\n\u001b[1;32m    146\u001b[0m \u001b[43m\u001b[49m\u001b[43m)\u001b[49m\n\u001b[1;32m    147\u001b[0m \u001b[38;5;28;01mreturn\u001b[39;00m model, testing_generator\n",
      "File \u001b[0;32m~/miniconda3/envs/tf/lib/python3.10/site-packages/keras/src/utils/traceback_utils.py:122\u001b[0m, in \u001b[0;36mfilter_traceback.<locals>.error_handler\u001b[0;34m(*args, **kwargs)\u001b[0m\n\u001b[1;32m    119\u001b[0m     filtered_tb \u001b[38;5;241m=\u001b[39m _process_traceback_frames(e\u001b[38;5;241m.\u001b[39m__traceback__)\n\u001b[1;32m    120\u001b[0m     \u001b[38;5;66;03m# To get the full stack trace, call:\u001b[39;00m\n\u001b[1;32m    121\u001b[0m     \u001b[38;5;66;03m# `keras.config.disable_traceback_filtering()`\u001b[39;00m\n\u001b[0;32m--> 122\u001b[0m     \u001b[38;5;28;01mraise\u001b[39;00m e\u001b[38;5;241m.\u001b[39mwith_traceback(filtered_tb) \u001b[38;5;28;01mfrom\u001b[39;00m \u001b[38;5;28;01mNone\u001b[39;00m\n\u001b[1;32m    123\u001b[0m \u001b[38;5;28;01mfinally\u001b[39;00m:\n\u001b[1;32m    124\u001b[0m     \u001b[38;5;28;01mdel\u001b[39;00m filtered_tb\n",
      "File \u001b[0;32m~/sentinel/eu_forest/data_generator.py:25\u001b[0m, in \u001b[0;36mDataGenerator.__getitem__\u001b[0;34m(self, index)\u001b[0m\n\u001b[1;32m     23\u001b[0m indexes \u001b[38;5;241m=\u001b[39m \u001b[38;5;28mself\u001b[39m\u001b[38;5;241m.\u001b[39mindexes[index\u001b[38;5;241m*\u001b[39m\u001b[38;5;28mself\u001b[39m\u001b[38;5;241m.\u001b[39mbatch_size:(index\u001b[38;5;241m+\u001b[39m\u001b[38;5;241m1\u001b[39m)\u001b[38;5;241m*\u001b[39m\u001b[38;5;28mself\u001b[39m\u001b[38;5;241m.\u001b[39mbatch_size]\n\u001b[1;32m     24\u001b[0m list_IDs_temp \u001b[38;5;241m=\u001b[39m [\u001b[38;5;28mself\u001b[39m\u001b[38;5;241m.\u001b[39mlist_IDs[k] \u001b[38;5;28;01mfor\u001b[39;00m k \u001b[38;5;129;01min\u001b[39;00m indexes]\n\u001b[0;32m---> 25\u001b[0m X, y \u001b[38;5;241m=\u001b[39m \u001b[38;5;28;43mself\u001b[39;49m\u001b[38;5;241;43m.\u001b[39;49m\u001b[43mdata_generation\u001b[49m\u001b[43m(\u001b[49m\u001b[43mlist_IDs_temp\u001b[49m\u001b[43m)\u001b[49m\n\u001b[1;32m     26\u001b[0m \u001b[38;5;28;01mreturn\u001b[39;00m X, y\n",
      "File \u001b[0;32m~/sentinel/eu_forest/data_generator.py:42\u001b[0m, in \u001b[0;36mDataGenerator.data_generation\u001b[0;34m(self, list_IDs_temp)\u001b[0m\n\u001b[1;32m     39\u001b[0m \u001b[38;5;28;01mfor\u001b[39;00m i, ID \u001b[38;5;129;01min\u001b[39;00m \u001b[38;5;28menumerate\u001b[39m(list_IDs_temp):\n\u001b[1;32m     40\u001b[0m     X[i,\u001b[38;5;241m.\u001b[39m\u001b[38;5;241m.\u001b[39m\u001b[38;5;241m.\u001b[39m] \u001b[38;5;241m=\u001b[39m np\u001b[38;5;241m.\u001b[39mload(\u001b[38;5;28mself\u001b[39m\u001b[38;5;241m.\u001b[39mshards_dir\u001b[38;5;241m.\u001b[39mjoinpath(\n\u001b[1;32m     41\u001b[0m         \u001b[38;5;124mf\u001b[39m\u001b[38;5;124m'\u001b[39m\u001b[38;5;124mfeatures_\u001b[39m\u001b[38;5;132;01m{\u001b[39;00m\u001b[38;5;28mself\u001b[39m\u001b[38;5;241m.\u001b[39mdata_tag\u001b[38;5;132;01m}\u001b[39;00m\u001b[38;5;124m'\u001b[39m)\u001b[38;5;241m.\u001b[39mjoinpath(\u001b[38;5;124mf\u001b[39m\u001b[38;5;124m'\u001b[39m\u001b[38;5;124mfeature_\u001b[39m\u001b[38;5;132;01m{\u001b[39;00mID\u001b[38;5;132;01m}\u001b[39;00m\u001b[38;5;124m.npy\u001b[39m\u001b[38;5;124m'\u001b[39m))[\u001b[38;5;241m.\u001b[39m\u001b[38;5;241m.\u001b[39m\u001b[38;5;241m.\u001b[39m, \u001b[38;5;28mself\u001b[39m\u001b[38;5;241m.\u001b[39mbands]\n\u001b[0;32m---> 42\u001b[0m     y[i] \u001b[38;5;241m=\u001b[39m \u001b[43mnp\u001b[49m\u001b[38;5;241;43m.\u001b[39;49m\u001b[43mload\u001b[49m\u001b[43m(\u001b[49m\n\u001b[1;32m     43\u001b[0m \u001b[43m        \u001b[49m\u001b[38;5;28;43mself\u001b[39;49m\u001b[38;5;241;43m.\u001b[39;49m\u001b[43mshards_dir\u001b[49m\u001b[38;5;241;43m.\u001b[39;49m\u001b[43mjoinpath\u001b[49m\u001b[43m(\u001b[49m\u001b[38;5;124;43mf\u001b[39;49m\u001b[38;5;124;43m'\u001b[39;49m\u001b[38;5;124;43mlabels_\u001b[39;49m\u001b[38;5;132;43;01m{\u001b[39;49;00m\u001b[38;5;28;43mself\u001b[39;49m\u001b[38;5;241;43m.\u001b[39;49m\u001b[43mdata_tag\u001b[49m\u001b[38;5;132;43;01m}\u001b[39;49;00m\u001b[38;5;124;43m'\u001b[39;49m\u001b[43m)\u001b[49m\u001b[38;5;241;43m.\u001b[39;49m\u001b[43mjoinpath\u001b[49m\u001b[43m(\u001b[49m\u001b[38;5;124;43mf\u001b[39;49m\u001b[38;5;124;43m'\u001b[39;49m\u001b[38;5;124;43mlabel_\u001b[39;49m\u001b[38;5;132;43;01m{\u001b[39;49;00m\u001b[43mID\u001b[49m\u001b[38;5;132;43;01m}\u001b[39;49;00m\u001b[38;5;124;43m.npy\u001b[39;49m\u001b[38;5;124;43m'\u001b[39;49m\u001b[43m)\u001b[49m\n\u001b[1;32m     44\u001b[0m \u001b[43m    \u001b[49m\u001b[43m)\u001b[49m\u001b[43m[\u001b[49m\u001b[43m:\u001b[49m\u001b[43m,\u001b[49m\u001b[43m \u001b[49m\u001b[38;5;28;43mself\u001b[39;49m\u001b[38;5;241;43m.\u001b[39;49m\u001b[43mkeep_classes\u001b[49m\u001b[43m]\u001b[49m\n\u001b[1;32m     46\u001b[0m \u001b[38;5;28;01mreturn\u001b[39;00m X, y\n",
      "\u001b[0;31mIndexError\u001b[0m: too many indices for array: array is 1-dimensional, but 2 were indexed"
     ]
    }
   ],
   "source": [
    "from importlib import reload\n",
    "import keras_model_creator\n",
    "reload(keras_model_creator)\n",
    "from keras_model_creator import KerasModelCreator\n",
    "\n",
    "params = dict(\n",
    "    dim=dim,\n",
    "    shards_dir=shards_dir,\n",
    "    data_tag='2017',\n",
    "    IDs=IDs,\n",
    "    keep_classes=keep_classes,\n",
    "    model_dir=model_dir,\n",
    "    bands=bands,\n",
    "    architecture=architecture,\n",
    "    loss=loss,\n",
    "    batch_size=64,\n",
    "    base_filters=32,\n",
    "    dropout=0.2,\n",
    "    epochs=5,\n",
    "    overwrite=False\n",
    ")\n",
    "\n",
    "model, testing_generator = KerasModelCreator(**params).run()"
   ]
  },
  {
   "cell_type": "code",
   "execution_count": null,
   "id": "f19411ca-97b2-45ee-a101-aaf2c87f7587",
   "metadata": {},
   "outputs": [],
   "source": [
    "eval_path = model_dir.joinpath('eval.csv')\n",
    "if eval_path.is_file():\n",
    "    print(pd.read_csv(eval_path))\n",
    "else:\n",
    "    r = model.evaluate(x=testing_generator, verbose=1, return_dict=True)\n",
    "    df = pd.DataFrame.from_dict(r, orient='index', columns=['score'])\n",
    "    df.to_csv(eval_path)\n",
    "    print(df)"
   ]
  },
  {
   "cell_type": "code",
   "execution_count": null,
   "id": "77a57cfb-f044-4572-80c9-56b44f37a044",
   "metadata": {},
   "outputs": [],
   "source": [
    "preds_path = model_dir.joinpath('preds.npy')\n",
    "if preds_path.is_file():\n",
    "    y_pred = np.load(preds_path)\n",
    "else:\n",
    "    y_pred = model.predict(x=testing_generator, verbose=1)\n",
    "    np.save(preds_path, y_pred)"
   ]
  },
  {
   "cell_type": "code",
   "execution_count": null,
   "id": "78dc75e3-1c10-4ddd-9c7e-246310b1bd02",
   "metadata": {},
   "outputs": [],
   "source": [
    "labels_path = model_dir.joinpath('true.npy')\n",
    "total_batches = testing_generator.__len__()\n",
    "if labels_path.is_file():\n",
    "    y_true = np.load(labels_path)\n",
    "else:\n",
    "    y_true = []\n",
    "    for i, (x, y) in enumerate(tqdm(testing_generator, total=total_batches-1)):\n",
    "        y_true.append(y)\n",
    "        if i > total_batches - 2:\n",
    "            break\n",
    "    y_true = np.vstack(y_true)\n",
    "    np.save(labels_path, y_true)"
   ]
  },
  {
   "cell_type": "code",
   "execution_count": null,
   "id": "189634b8-0482-4443-a909-6ec323fec15d",
   "metadata": {},
   "outputs": [],
   "source": [
    "cm = confusion_matrix(y_true.flatten().astype(int), (y_pred > 0.3).flatten().astype(int))\n",
    "ConfusionMatrixDisplay(confusion_matrix=cm).plot()"
   ]
  },
  {
   "cell_type": "code",
   "execution_count": null,
   "id": "4b31e04e-9435-44d6-95d4-a9258e024215",
   "metadata": {},
   "outputs": [],
   "source": [
    "import matplotlib.pyplot as plt\n",
    "\n",
    "cols = ['Abies alba', 'Acer campestre', 'Acer pseudoplatanus', 'Alnus glutinosa', 'Alnus incana', \n",
    "        'Betula pendula', 'Betula pubescens', 'Carpinus betulus', 'Castanea sativa', \n",
    "        'Fagus sylvatica', 'Fraxinus excelsior', 'Larix decidua', 'Picea abies', \n",
    "        'Picea sitchensis', 'Pinus halepensis', 'Pinus nigra', 'Pinus pinaster', \n",
    "        'Pinus sylvestris', 'Populus tremula', 'Prunus avium', 'Pseudotsuga menziesii', \n",
    "        'Quercus faginea', 'Quercus ilex', 'Quercus petraea', 'Quercus pubescens', 'Quercus pyrenaica', \n",
    "        'Quercus robur', 'Quercus suber', 'Salix caprea', 'Sorbus aucuparia']\n",
    "\n",
    "f, axes = plt.subplots(6, 5, figsize=(25, 30))\n",
    "axes = axes.ravel()\n",
    "for label in range(y_true.shape[1]):\n",
    "    cm = confusion_matrix(y_true[..., label].astype(int), (y_pred[..., label] > 0.5).astype(int))\n",
    "    disp = ConfusionMatrixDisplay(cm)\n",
    "    disp.plot(ax=axes[label], values_format='.4g')\n",
    "    disp.ax_.set_title(f'{cols[label]}')\n",
    "    if label < 25:\n",
    "        disp.ax_.set_xlabel('')\n",
    "    if label % 5 != 0:\n",
    "        disp.ax_.set_ylabel('')\n",
    "    disp.im_.colorbar.remove()\n",
    "\n",
    "plt.subplots_adjust(wspace=0.2, hspace=0.001)\n",
    "f.colorbar(disp.im_, ax=axes)\n",
    "plt.show()\n"
   ]
  },
  {
   "cell_type": "code",
   "execution_count": null,
   "id": "875120d1-0f74-4894-98e3-19e2d8adb8cf",
   "metadata": {},
   "outputs": [],
   "source": []
  },
  {
   "cell_type": "code",
   "execution_count": null,
   "id": "8ded61bd-6527-4b12-bd22-d3404e4a5040",
   "metadata": {},
   "outputs": [],
   "source": [
    "# tf.keras.utils.plot_model(model, show_shapes=True)\n",
    "# model.summary()"
   ]
  },
  {
   "cell_type": "code",
   "execution_count": null,
   "id": "bb61ad19-349f-4c6b-ad12-fdc6a46117fc",
   "metadata": {},
   "outputs": [],
   "source": []
  },
  {
   "cell_type": "code",
   "execution_count": null,
   "id": "138d220c-0c2d-459a-b995-ec95e3036002",
   "metadata": {},
   "outputs": [],
   "source": []
  },
  {
   "cell_type": "code",
   "execution_count": null,
   "id": "b5189141-5f07-4aac-a68f-00a24ec5d69d",
   "metadata": {},
   "outputs": [],
   "source": [
    "# import subprocess\n",
    "# subprocess.run(['sudo', 'shutdown', 'now'])"
   ]
  },
  {
   "cell_type": "code",
   "execution_count": null,
   "id": "ea018983-f959-487b-9bda-61c90da0d6d9",
   "metadata": {},
   "outputs": [],
   "source": []
  },
  {
   "cell_type": "code",
   "execution_count": null,
   "id": "858b81a8-f8a7-4da4-8614-ba08abd93a0a",
   "metadata": {},
   "outputs": [],
   "source": []
  }
 ],
 "metadata": {
  "kernelspec": {
   "display_name": "Python 3 (ipykernel)",
   "language": "python",
   "name": "python3"
  },
  "language_info": {
   "codemirror_mode": {
    "name": "ipython",
    "version": 3
   },
   "file_extension": ".py",
   "mimetype": "text/x-python",
   "name": "python",
   "nbconvert_exporter": "python",
   "pygments_lexer": "ipython3",
   "version": "3.10.14"
  },
  "widgets": {
   "application/vnd.jupyter.widget-state+json": {
    "state": {},
    "version_major": 2,
    "version_minor": 0
   }
  }
 },
 "nbformat": 4,
 "nbformat_minor": 5
}
