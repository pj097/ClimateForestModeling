{
 "cells": [
  {
   "cell_type": "code",
   "execution_count": 1,
   "id": "45a09dcb-b90b-45d7-b5a2-54996a34ada0",
   "metadata": {},
   "outputs": [
    {
     "name": "stderr",
     "output_type": "stream",
     "text": [
      "2024-07-02 22:05:46.535512: I tensorflow/core/util/port.cc:113] oneDNN custom operations are on. You may see slightly different numerical results due to floating-point round-off errors from different computation orders. To turn them off, set the environment variable `TF_ENABLE_ONEDNN_OPTS=0`.\n",
      "2024-07-02 22:05:46.537071: I external/local_tsl/tsl/cuda/cudart_stub.cc:32] Could not find cuda drivers on your machine, GPU will not be used.\n",
      "2024-07-02 22:05:46.616989: I external/local_tsl/tsl/cuda/cudart_stub.cc:32] Could not find cuda drivers on your machine, GPU will not be used.\n",
      "2024-07-02 22:05:46.950029: I tensorflow/core/platform/cpu_feature_guard.cc:210] This TensorFlow binary is optimized to use available CPU instructions in performance-critical operations.\n",
      "To enable the following instructions: AVX2 AVX512F AVX512_VNNI AVX512_BF16 FMA, in other operations, rebuild TensorFlow with the appropriate compiler flags.\n",
      "2024-07-02 22:05:47.858127: W tensorflow/compiler/tf2tensorrt/utils/py_utils.cc:38] TF-TRT Warning: Could not find TensorRT\n"
     ]
    }
   ],
   "source": [
    "import numpy as np\n",
    "import pandas as pd\n",
    "\n",
    "from tqdm.notebook import tqdm\n",
    "\n",
    "from pathlib import Path\n",
    "\n",
    "from time import sleep\n",
    "\n",
    "from sklearn.model_selection import train_test_split\n",
    "from sklearn.metrics import classification_report, confusion_matrix, ConfusionMatrixDisplay, multilabel_confusion_matrix\n",
    "from sklearn.utils import shuffle\n",
    "\n",
    "from importlib import reload\n",
    "import sentinel_utils\n",
    "import keras_model_creator"
   ]
  },
  {
   "cell_type": "code",
   "execution_count": 2,
   "id": "0749fbd3-b6ee-443c-b12c-741c2ee1f1bb",
   "metadata": {},
   "outputs": [
    {
     "data": {
      "text/plain": [
       "[0, 1, 2, 3, 4, 5, 6, 7, 8, 9, 10, 11, 12, 13, 14, 15, 16, 17, 18, 19, 20, 21]"
      ]
     },
     "execution_count": 2,
     "metadata": {},
     "output_type": "execute_result"
    }
   ],
   "source": [
    "sentinel_bands = [f'B{x}' for x in range(2, 9)] + ['B8A', 'B11', 'B12']\n",
    "soilgrids_band = ['bdod', 'cec', 'cfvo', 'clay', 'nitrogen', 'ocd',\n",
    "                  'ocs', 'phh2o', 'sand', 'silt', 'soc']\n",
    "all_bands = sentinel_bands + ['Elevation'] + soilgrids_band\n",
    "selected_bands = all_bands\n",
    "bands = [all_bands.index(b) for b in selected_bands]\n",
    "bands"
   ]
  },
  {
   "cell_type": "code",
   "execution_count": 6,
   "id": "d5926fbe-15c2-4fa6-8977-99eafdcb5ca3",
   "metadata": {},
   "outputs": [
    {
     "name": "stdout",
     "output_type": "stream",
     "text": [
      "Calculating feature statistics...\n"
     ]
    },
    {
     "data": {
      "application/vnd.jupyter.widget-view+json": {
       "model_id": "697e475a53b646f68829cb4199c31cfa",
       "version_major": 2,
       "version_minor": 0
      },
      "text/plain": [
       "  0%|          | 0/22 [00:00<?, ?it/s]"
      ]
     },
     "metadata": {},
     "output_type": "display_data"
    },
    {
     "data": {
      "application/vnd.jupyter.widget-view+json": {
       "model_id": "",
       "version_major": 2,
       "version_minor": 0
      },
      "text/plain": [
       "  0%|          | 0/20000 [00:00<?, ?it/s]"
      ]
     },
     "metadata": {},
     "output_type": "display_data"
    },
    {
     "data": {
      "application/vnd.jupyter.widget-view+json": {
       "model_id": "",
       "version_major": 2,
       "version_minor": 0
      },
      "text/plain": [
       "  0%|          | 0/20000 [00:00<?, ?it/s]"
      ]
     },
     "metadata": {},
     "output_type": "display_data"
    },
    {
     "data": {
      "application/vnd.jupyter.widget-view+json": {
       "model_id": "",
       "version_major": 2,
       "version_minor": 0
      },
      "text/plain": [
       "  0%|          | 0/20000 [00:00<?, ?it/s]"
      ]
     },
     "metadata": {},
     "output_type": "display_data"
    },
    {
     "data": {
      "application/vnd.jupyter.widget-view+json": {
       "model_id": "",
       "version_major": 2,
       "version_minor": 0
      },
      "text/plain": [
       "  0%|          | 0/20000 [00:00<?, ?it/s]"
      ]
     },
     "metadata": {},
     "output_type": "display_data"
    },
    {
     "data": {
      "application/vnd.jupyter.widget-view+json": {
       "model_id": "",
       "version_major": 2,
       "version_minor": 0
      },
      "text/plain": [
       "  0%|          | 0/20000 [00:00<?, ?it/s]"
      ]
     },
     "metadata": {},
     "output_type": "display_data"
    },
    {
     "data": {
      "application/vnd.jupyter.widget-view+json": {
       "model_id": "",
       "version_major": 2,
       "version_minor": 0
      },
      "text/plain": [
       "  0%|          | 0/20000 [00:00<?, ?it/s]"
      ]
     },
     "metadata": {},
     "output_type": "display_data"
    },
    {
     "data": {
      "application/vnd.jupyter.widget-view+json": {
       "model_id": "",
       "version_major": 2,
       "version_minor": 0
      },
      "text/plain": [
       "  0%|          | 0/20000 [00:00<?, ?it/s]"
      ]
     },
     "metadata": {},
     "output_type": "display_data"
    },
    {
     "data": {
      "application/vnd.jupyter.widget-view+json": {
       "model_id": "",
       "version_major": 2,
       "version_minor": 0
      },
      "text/plain": [
       "  0%|          | 0/20000 [00:00<?, ?it/s]"
      ]
     },
     "metadata": {},
     "output_type": "display_data"
    },
    {
     "data": {
      "application/vnd.jupyter.widget-view+json": {
       "model_id": "",
       "version_major": 2,
       "version_minor": 0
      },
      "text/plain": [
       "  0%|          | 0/20000 [00:00<?, ?it/s]"
      ]
     },
     "metadata": {},
     "output_type": "display_data"
    },
    {
     "data": {
      "application/vnd.jupyter.widget-view+json": {
       "model_id": "",
       "version_major": 2,
       "version_minor": 0
      },
      "text/plain": [
       "  0%|          | 0/20000 [00:00<?, ?it/s]"
      ]
     },
     "metadata": {},
     "output_type": "display_data"
    },
    {
     "data": {
      "application/vnd.jupyter.widget-view+json": {
       "model_id": "",
       "version_major": 2,
       "version_minor": 0
      },
      "text/plain": [
       "  0%|          | 0/20000 [00:00<?, ?it/s]"
      ]
     },
     "metadata": {},
     "output_type": "display_data"
    },
    {
     "data": {
      "application/vnd.jupyter.widget-view+json": {
       "model_id": "",
       "version_major": 2,
       "version_minor": 0
      },
      "text/plain": [
       "  0%|          | 0/250569 [00:00<?, ?it/s]"
      ]
     },
     "metadata": {},
     "output_type": "display_data"
    },
    {
     "data": {
      "application/vnd.jupyter.widget-view+json": {
       "model_id": "",
       "version_major": 2,
       "version_minor": 0
      },
      "text/plain": [
       "  0%|          | 0/250569 [00:00<?, ?it/s]"
      ]
     },
     "metadata": {},
     "output_type": "display_data"
    },
    {
     "data": {
      "application/vnd.jupyter.widget-view+json": {
       "model_id": "",
       "version_major": 2,
       "version_minor": 0
      },
      "text/plain": [
       "  0%|          | 0/250569 [00:00<?, ?it/s]"
      ]
     },
     "metadata": {},
     "output_type": "display_data"
    },
    {
     "data": {
      "application/vnd.jupyter.widget-view+json": {
       "model_id": "",
       "version_major": 2,
       "version_minor": 0
      },
      "text/plain": [
       "  0%|          | 0/250569 [00:00<?, ?it/s]"
      ]
     },
     "metadata": {},
     "output_type": "display_data"
    },
    {
     "data": {
      "application/vnd.jupyter.widget-view+json": {
       "model_id": "",
       "version_major": 2,
       "version_minor": 0
      },
      "text/plain": [
       "  0%|          | 0/250569 [00:00<?, ?it/s]"
      ]
     },
     "metadata": {},
     "output_type": "display_data"
    },
    {
     "data": {
      "application/vnd.jupyter.widget-view+json": {
       "model_id": "",
       "version_major": 2,
       "version_minor": 0
      },
      "text/plain": [
       "  0%|          | 0/250569 [00:00<?, ?it/s]"
      ]
     },
     "metadata": {},
     "output_type": "display_data"
    },
    {
     "data": {
      "application/vnd.jupyter.widget-view+json": {
       "model_id": "",
       "version_major": 2,
       "version_minor": 0
      },
      "text/plain": [
       "  0%|          | 0/250569 [00:00<?, ?it/s]"
      ]
     },
     "metadata": {},
     "output_type": "display_data"
    },
    {
     "data": {
      "application/vnd.jupyter.widget-view+json": {
       "model_id": "",
       "version_major": 2,
       "version_minor": 0
      },
      "text/plain": [
       "  0%|          | 0/250569 [00:00<?, ?it/s]"
      ]
     },
     "metadata": {},
     "output_type": "display_data"
    },
    {
     "data": {
      "application/vnd.jupyter.widget-view+json": {
       "model_id": "",
       "version_major": 2,
       "version_minor": 0
      },
      "text/plain": [
       "  0%|          | 0/250569 [00:00<?, ?it/s]"
      ]
     },
     "metadata": {},
     "output_type": "display_data"
    },
    {
     "data": {
      "application/vnd.jupyter.widget-view+json": {
       "model_id": "",
       "version_major": 2,
       "version_minor": 0
      },
      "text/plain": [
       "  0%|          | 0/250569 [00:00<?, ?it/s]"
      ]
     },
     "metadata": {},
     "output_type": "display_data"
    },
    {
     "data": {
      "application/vnd.jupyter.widget-view+json": {
       "model_id": "",
       "version_major": 2,
       "version_minor": 0
      },
      "text/plain": [
       "  0%|          | 0/250569 [00:00<?, ?it/s]"
      ]
     },
     "metadata": {},
     "output_type": "display_data"
    },
    {
     "name": "stdout",
     "output_type": "stream",
     "text": [
      "Dropped 212 columns, 12772 rows\n"
     ]
    }
   ],
   "source": [
    "reload(sentinel_utils)\n",
    "\n",
    "shards_dir = Path.home().joinpath('sentinel_data').joinpath('shards')\n",
    "\n",
    "# sort_key = lambda x: int(x.stem.split('_')[-1])\n",
    "sentinel_shards = []\n",
    "seasons = ['03', '06']\n",
    "year = 2017\n",
    "for s in seasons:\n",
    "    path_list = list(shards_dir.joinpath(f'features_{year}{s}').glob('feature_*.npy'))\n",
    "    sentinel_shards.extend(path_list)\n",
    "\n",
    "all_labels = pd.read_csv(Path('data').joinpath('full_dummies.csv'))\n",
    "sample_shards = 20000\n",
    "utils = sentinel_utils.SentinelUtils(\n",
    "    all_labels, all_bands,\n",
    "    shuffle(sentinel_shards, random_state=42)[:sample_shards],\n",
    "    min_occurrences=5000, overwrite_existing=False\n",
    ")\n",
    "shard_ids = utils.selected_classes.index"
   ]
  },
  {
   "cell_type": "code",
   "execution_count": 7,
   "id": "aadf50b8-eda2-4527-97d0-e4e81748f2ed",
   "metadata": {},
   "outputs": [
    {
     "data": {
      "text/plain": [
       "PosixPath('models/binary_crossentropy-237797-30-22-2017-03_06')"
      ]
     },
     "execution_count": 7,
     "metadata": {},
     "output_type": "execute_result"
    }
   ],
   "source": [
    "loss = 'binary_crossentropy'\n",
    "\n",
    "model_dir = Path('models').joinpath(\n",
    "    f'{loss}-{len(shard_ids)}-{utils.selected_classes.shape[1]}'\n",
    "    f'-{len(bands)}-{year}-{\"_\".join(seasons)}'\n",
    ")\n",
    "model_dir.mkdir(parents=True, exist_ok=True)\n",
    "model_dir"
   ]
  },
  {
   "cell_type": "code",
   "execution_count": null,
   "id": "e44780c9-bda1-4d06-ab31-a2e4ffafff70",
   "metadata": {},
   "outputs": [
    {
     "name": "stdout",
     "output_type": "stream",
     "text": [
      "Building model...\n",
      "Fitting...\n",
      "Epoch 1/10\n",
      "\u001b[1m   9/3559\u001b[0m \u001b[37m━━━━━━━━━━━━━━━━━━━━\u001b[0m \u001b[1m16:51\u001b[0m 285ms/step - accuracy: 0.0414 - auc: 0.4945 - loss: 0.1621 - macrof1score: 0.0053 - microf1score: 0.0068 - prc: 0.0637 - precision: 0.0225 - recall: 0.0040 - weightedf1score: 0.0064        "
     ]
    }
   ],
   "source": [
    "reload(keras_model_creator)\n",
    "\n",
    "params = dict(\n",
    "    utils=utils,\n",
    "    shards_dir=shards_dir,\n",
    "    shard_ids=shard_ids,\n",
    "    model_dir=model_dir,\n",
    "    seasons=seasons,\n",
    "    year=year,\n",
    "    bands=bands,\n",
    "    loss=loss,\n",
    "    batch_size=64,\n",
    "    base_filters=8,\n",
    "    dropout=0.2,\n",
    "    epochs=10,\n",
    "    overwrite=True\n",
    ")\n",
    "\n",
    "model, testing_generator = keras_model_creator.KerasModelCreator(**params).run()"
   ]
  },
  {
   "cell_type": "code",
   "execution_count": null,
   "id": "f19411ca-97b2-45ee-a101-aaf2c87f7587",
   "metadata": {},
   "outputs": [],
   "source": [
    "eval_path = model_dir.joinpath('eval.csv')\n",
    "if eval_path.is_file():\n",
    "    print(pd.read_csv(eval_path))\n",
    "else:\n",
    "    r = model.evaluate(x=testing_generator, verbose=1, return_dict=True)\n",
    "    df = pd.DataFrame.from_dict(r, orient='index', columns=['score'])\n",
    "    df.to_csv(eval_path)\n",
    "    print(df)"
   ]
  },
  {
   "cell_type": "code",
   "execution_count": null,
   "id": "77a57cfb-f044-4572-80c9-56b44f37a044",
   "metadata": {},
   "outputs": [],
   "source": [
    "preds_path = model_dir.joinpath('preds.npy')\n",
    "if preds_path.is_file():\n",
    "    y_pred = np.load(preds_path)\n",
    "else:\n",
    "    y_pred = model.predict(x=testing_generator, verbose=1)\n",
    "    np.save(preds_path, y_pred)"
   ]
  },
  {
   "cell_type": "code",
   "execution_count": null,
   "id": "78dc75e3-1c10-4ddd-9c7e-246310b1bd02",
   "metadata": {},
   "outputs": [],
   "source": [
    "labels_path = model_dir.joinpath('true.npy')\n",
    "total_batches = testing_generator.__len__()\n",
    "if labels_path.is_file():\n",
    "    y_true = np.load(labels_path)\n",
    "else:\n",
    "    y_true = []\n",
    "    for i, (x, y) in enumerate(tqdm(testing_generator, total=total_batches-1)):\n",
    "        y_true.append(y)\n",
    "        if i > total_batches - 2:\n",
    "            break\n",
    "    y_true = np.vstack(y_true)\n",
    "    np.save(labels_path, y_true)"
   ]
  },
  {
   "cell_type": "code",
   "execution_count": null,
   "id": "189634b8-0482-4443-a909-6ec323fec15d",
   "metadata": {},
   "outputs": [],
   "source": [
    "cm = confusion_matrix(y_true.flatten().astype(int), (y_pred > 0.3).flatten().astype(int))\n",
    "ConfusionMatrixDisplay(confusion_matrix=cm).plot()"
   ]
  },
  {
   "cell_type": "code",
   "execution_count": null,
   "id": "4b31e04e-9435-44d6-95d4-a9258e024215",
   "metadata": {},
   "outputs": [],
   "source": [
    "import matplotlib.pyplot as plt\n",
    "\n",
    "class_names = utils.selected_classes.columns\n",
    "\n",
    "f, axes = plt.subplots(6, 5, figsize=(25, 30))\n",
    "axes = axes.ravel()\n",
    "for label in range(y_true.shape[1]):\n",
    "    cm = confusion_matrix(y_true[..., label].astype(int), (y_pred[..., label] > 0.5).astype(int))\n",
    "    disp = ConfusionMatrixDisplay(cm)\n",
    "    disp.plot(ax=axes[label], values_format='.4g')\n",
    "    disp.ax_.set_title(f'{class_names[label]}')\n",
    "    if label < 25:\n",
    "        disp.ax_.set_xlabel('')\n",
    "    if label % 5 != 0:\n",
    "        disp.ax_.set_ylabel('')\n",
    "    disp.im_.colorbar.remove()\n",
    "\n",
    "plt.subplots_adjust(wspace=0.2, hspace=0.001)\n",
    "f.colorbar(disp.im_, ax=axes)\n",
    "plt.show()\n"
   ]
  },
  {
   "cell_type": "code",
   "execution_count": null,
   "id": "875120d1-0f74-4894-98e3-19e2d8adb8cf",
   "metadata": {},
   "outputs": [],
   "source": []
  },
  {
   "cell_type": "code",
   "execution_count": null,
   "id": "8ded61bd-6527-4b12-bd22-d3404e4a5040",
   "metadata": {},
   "outputs": [],
   "source": [
    "# tf.keras.utils.plot_model(model, show_shapes=True)\n",
    "# model.summary()"
   ]
  },
  {
   "cell_type": "code",
   "execution_count": null,
   "id": "bb61ad19-349f-4c6b-ad12-fdc6a46117fc",
   "metadata": {},
   "outputs": [],
   "source": []
  },
  {
   "cell_type": "code",
   "execution_count": null,
   "id": "138d220c-0c2d-459a-b995-ec95e3036002",
   "metadata": {},
   "outputs": [],
   "source": []
  },
  {
   "cell_type": "code",
   "execution_count": null,
   "id": "b5189141-5f07-4aac-a68f-00a24ec5d69d",
   "metadata": {},
   "outputs": [],
   "source": [
    "# import subprocess\n",
    "# subprocess.run(['sudo', 'shutdown', 'now'])"
   ]
  },
  {
   "cell_type": "code",
   "execution_count": null,
   "id": "ea018983-f959-487b-9bda-61c90da0d6d9",
   "metadata": {},
   "outputs": [],
   "source": []
  },
  {
   "cell_type": "code",
   "execution_count": null,
   "id": "b9c133ed-b865-42ad-9935-fa99da84321c",
   "metadata": {},
   "outputs": [],
   "source": []
  },
  {
   "cell_type": "code",
   "execution_count": null,
   "id": "f92f8f22-702f-425c-b08a-6291579203fd",
   "metadata": {},
   "outputs": [],
   "source": []
  },
  {
   "cell_type": "code",
   "execution_count": null,
   "id": "66ab74e4-7a10-4448-a3ae-4c8b169e5d81",
   "metadata": {},
   "outputs": [],
   "source": []
  },
  {
   "cell_type": "code",
   "execution_count": null,
   "id": "b460e4fc-dc07-4238-bfa4-576718377b57",
   "metadata": {},
   "outputs": [],
   "source": []
  }
 ],
 "metadata": {
  "kernelspec": {
   "display_name": "Python 3 (ipykernel)",
   "language": "python",
   "name": "python3"
  },
  "language_info": {
   "codemirror_mode": {
    "name": "ipython",
    "version": 3
   },
   "file_extension": ".py",
   "mimetype": "text/x-python",
   "name": "python",
   "nbconvert_exporter": "python",
   "pygments_lexer": "ipython3",
   "version": "3.10.14"
  },
  "widgets": {
   "application/vnd.jupyter.widget-state+json": {
    "state": {},
    "version_major": 2,
    "version_minor": 0
   }
  }
 },
 "nbformat": 4,
 "nbformat_minor": 5
}
