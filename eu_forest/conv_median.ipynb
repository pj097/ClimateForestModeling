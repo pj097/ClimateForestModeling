{
 "cells": [
  {
   "cell_type": "code",
   "execution_count": 1,
   "id": "45a09dcb-b90b-45d7-b5a2-54996a34ada0",
   "metadata": {},
   "outputs": [
    {
     "name": "stderr",
     "output_type": "stream",
     "text": [
      "2024-06-30 11:04:14.296232: I tensorflow/core/util/port.cc:113] oneDNN custom operations are on. You may see slightly different numerical results due to floating-point round-off errors from different computation orders. To turn them off, set the environment variable `TF_ENABLE_ONEDNN_OPTS=0`.\n",
      "2024-06-30 11:04:14.296704: I external/local_tsl/tsl/cuda/cudart_stub.cc:32] Could not find cuda drivers on your machine, GPU will not be used.\n",
      "2024-06-30 11:04:14.299370: I external/local_tsl/tsl/cuda/cudart_stub.cc:32] Could not find cuda drivers on your machine, GPU will not be used.\n",
      "2024-06-30 11:04:14.325390: I tensorflow/core/platform/cpu_feature_guard.cc:210] This TensorFlow binary is optimized to use available CPU instructions in performance-critical operations.\n",
      "To enable the following instructions: AVX2 AVX512F AVX512_VNNI AVX512_BF16 FMA, in other operations, rebuild TensorFlow with the appropriate compiler flags.\n",
      "2024-06-30 11:04:14.863664: W tensorflow/compiler/tf2tensorrt/utils/py_utils.cc:38] TF-TRT Warning: Could not find TensorRT\n"
     ]
    }
   ],
   "source": [
    "import numpy as np\n",
    "import pandas as pd\n",
    "\n",
    "from tqdm.notebook import tqdm\n",
    "\n",
    "from pathlib import Path\n",
    "\n",
    "from time import sleep\n",
    "\n",
    "from sklearn.model_selection import train_test_split\n",
    "from sklearn.metrics import classification_report, confusion_matrix, ConfusionMatrixDisplay, multilabel_confusion_matrix\n",
    "from sklearn.utils import shuffle\n",
    "\n",
    "from importlib import reload\n",
    "import sentinel_utils\n",
    "import keras_model_creator"
   ]
  },
  {
   "cell_type": "code",
   "execution_count": 2,
   "id": "0749fbd3-b6ee-443c-b12c-741c2ee1f1bb",
   "metadata": {},
   "outputs": [],
   "source": [
    "sentinel_bands = [f'B{x}' for x in range(2, 9)] + ['B8A', 'B11', 'B12']\n",
    "all_bands = sentinel_bands + ['Elevation']\n",
    "selected_bands = all_bands\n",
    "bands = [all_bands.index(b) for b in selected_bands]"
   ]
  },
  {
   "cell_type": "code",
   "execution_count": 3,
   "id": "d5926fbe-15c2-4fa6-8977-99eafdcb5ca3",
   "metadata": {},
   "outputs": [],
   "source": [
    "reload(sentinel_utils)\n",
    "\n",
    "shards_dir = Path.home().joinpath('sentinel_data').joinpath('shards')\n",
    "\n",
    "data_tag = '202003'\n",
    "sort_key = lambda x: int(x.stem.split('_')[-1])\n",
    "feature_shards = sorted(list(shards_dir.joinpath(f'features_{data_tag}').glob('feature_*.npy')), key=sort_key)\n",
    "\n",
    "all_labels = pd.read_csv(Path('data').joinpath('full_dummies.csv'))\n",
    "sample_shards = 50000\n",
    "utils = sentinel_utils.SentinelUtils(\n",
    "    shuffle(feature_shards, random_state=42)[:sample_shards],\n",
    "    all_labels, min_occurrences=5000, \n",
    "    overwrite_existing=False\n",
    ")\n",
    "\n",
    "shard_ids = utils.selected_classes.index"
   ]
  },
  {
   "cell_type": "code",
   "execution_count": 4,
   "id": "aadf50b8-eda2-4527-97d0-e4e81748f2ed",
   "metadata": {},
   "outputs": [
    {
     "data": {
      "text/plain": [
       "PosixPath('models/simple-binary_crossentropy-237797-30-zscore_clip')"
      ]
     },
     "execution_count": 4,
     "metadata": {},
     "output_type": "execute_result"
    }
   ],
   "source": [
    "architecture = 'simple'\n",
    "loss = 'binary_crossentropy'\n",
    "normal_type = 'zscore_clip'\n",
    "dim = (np.load(feature_shards[0]).shape[:2])\n",
    "\n",
    "model_dir = Path('models').joinpath(\n",
    "    f'{architecture}-{loss}-{len(shard_ids)}-{utils.selected_classes.shape[1]}-{normal_type}'\n",
    ")\n",
    "model_dir.mkdir(parents=True, exist_ok=True)\n",
    "model_dir"
   ]
  },
  {
   "cell_type": "code",
   "execution_count": null,
   "id": "f29e1273-d2c4-4722-9616-a17bf0a422d4",
   "metadata": {},
   "outputs": [
    {
     "name": "stdout",
     "output_type": "stream",
     "text": [
      "Building model...\n",
      "Fitting...\n",
      "Epoch 1/5\n",
      "\u001b[1m3559/3559\u001b[0m \u001b[32m━━━━━━━━━━━━━━━━━━━━\u001b[0m\u001b[37m\u001b[0m \u001b[1m965s\u001b[0m 270ms/step - accuracy: 0.2271 - auc: 0.8473 - loss: 0.1925 - macrof1score: 0.1245 - microf1score: 0.3184 - prc: 0.3925 - precision: 0.5926 - recall: 0.2181 - weightedf1score: 0.2661 - val_accuracy: 0.3263 - val_auc: 0.9206 - val_loss: 0.1544 - val_macrof1score: 0.1852 - val_microf1score: 0.4360 - val_prc: 0.5505 - val_precision: 0.6821 - val_recall: 0.3204 - val_weightedf1score: 0.3574 - learning_rate: 0.0010\n",
      "Epoch 2/5\n",
      "\u001b[1m3559/3559\u001b[0m \u001b[32m━━━━━━━━━━━━━━━━━━━━\u001b[0m\u001b[37m\u001b[0m \u001b[1m1198s\u001b[0m 336ms/step - accuracy: 0.3074 - auc: 0.9143 - loss: 0.1578 - macrof1score: 0.1919 - microf1score: 0.4245 - prc: 0.5261 - precision: 0.6806 - recall: 0.3085 - weightedf1score: 0.3550 - val_accuracy: 0.3387 - val_auc: 0.9298 - val_loss: 0.1476 - val_macrof1score: 0.1976 - val_microf1score: 0.4540 - val_prc: 0.5834 - val_precision: 0.7242 - val_recall: 0.3307 - val_weightedf1score: 0.3710 - learning_rate: 0.0010\n",
      "Epoch 3/5\n",
      "\u001b[1m3559/3559\u001b[0m \u001b[32m━━━━━━━━━━━━━━━━━━━━\u001b[0m\u001b[37m\u001b[0m \u001b[1m0s\u001b[0m 193ms/step - accuracy: 0.3264 - auc: 0.9201 - loss: 0.1536 - macrof1score: 0.2125 - microf1score: 0.4454 - prc: 0.5481 - precision: 0.6912 - recall: 0.3286 - weightedf1score: 0.3749\n",
      "Epoch 3: ReduceLROnPlateau reducing learning rate to 0.0009000000427477062.\n",
      "\u001b[1m3559/3559\u001b[0m \u001b[32m━━━━━━━━━━━━━━━━━━━━\u001b[0m\u001b[37m\u001b[0m \u001b[1m699s\u001b[0m 196ms/step - accuracy: 0.3264 - auc: 0.9201 - loss: 0.1536 - macrof1score: 0.2125 - microf1score: 0.4454 - prc: 0.5481 - precision: 0.6912 - recall: 0.3286 - weightedf1score: 0.3749 - val_accuracy: 0.3267 - val_auc: 0.9298 - val_loss: 0.1472 - val_macrof1score: 0.2146 - val_microf1score: 0.4521 - val_prc: 0.5799 - val_precision: 0.7222 - val_recall: 0.3291 - val_weightedf1score: 0.3774 - learning_rate: 0.0010\n",
      "Epoch 4/5\n",
      "\u001b[1m3559/3559\u001b[0m \u001b[32m━━━━━━━━━━━━━━━━━━━━\u001b[0m\u001b[37m\u001b[0m \u001b[1m1582s\u001b[0m 444ms/step - accuracy: 0.3397 - auc: 0.9243 - loss: 0.1501 - macrof1score: 0.2271 - microf1score: 0.4611 - prc: 0.5644 - precision: 0.6997 - recall: 0.3439 - weightedf1score: 0.3909 - val_accuracy: 0.3480 - val_auc: 0.9348 - val_loss: 0.1420 - val_macrof1score: 0.2308 - val_microf1score: 0.4785 - val_prc: 0.6073 - val_precision: 0.7438 - val_recall: 0.3527 - val_weightedf1score: 0.3989 - learning_rate: 9.0000e-04\n",
      "Epoch 5/5\n",
      "\u001b[1m1075/3559\u001b[0m \u001b[32m━━━━━━\u001b[0m\u001b[37m━━━━━━━━━━━━━━\u001b[0m \u001b[1m8:05\u001b[0m 195ms/step - accuracy: 0.3420 - auc: 0.9268 - loss: 0.1480 - macrof1score: 0.2371 - microf1score: 0.4686 - prc: 0.5735 - precision: 0.7026 - recall: 0.3515 - weightedf1score: 0.3994"
     ]
    }
   ],
   "source": [
    "reload(keras_model_creator)\n",
    "\n",
    "params = dict(\n",
    "    normal_type=normal_type,\n",
    "    utils=utils,\n",
    "    dim=dim,\n",
    "    shards_dir=shards_dir,\n",
    "    data_tag=data_tag,\n",
    "    shard_ids=shard_ids,\n",
    "    model_dir=model_dir,\n",
    "    bands=bands,\n",
    "    architecture=architecture,\n",
    "    loss=loss,\n",
    "    batch_size=64,\n",
    "    base_filters=32,\n",
    "    dropout=0.2,\n",
    "    epochs=5,\n",
    "    overwrite=False\n",
    ")\n",
    "\n",
    "model, testing_generator = keras_model_creator.KerasModelCreator(**params).run()"
   ]
  },
  {
   "cell_type": "code",
   "execution_count": null,
   "id": "f19411ca-97b2-45ee-a101-aaf2c87f7587",
   "metadata": {},
   "outputs": [],
   "source": [
    "eval_path = model_dir.joinpath('eval.csv')\n",
    "if eval_path.is_file():\n",
    "    print(pd.read_csv(eval_path))\n",
    "else:\n",
    "    r = model.evaluate(x=testing_generator, verbose=1, return_dict=True)\n",
    "    df = pd.DataFrame.from_dict(r, orient='index', columns=['score'])\n",
    "    df.to_csv(eval_path)\n",
    "    print(df)"
   ]
  },
  {
   "cell_type": "code",
   "execution_count": null,
   "id": "77a57cfb-f044-4572-80c9-56b44f37a044",
   "metadata": {},
   "outputs": [],
   "source": [
    "preds_path = model_dir.joinpath('preds.npy')\n",
    "if preds_path.is_file():\n",
    "    y_pred = np.load(preds_path)\n",
    "else:\n",
    "    y_pred = model.predict(x=testing_generator, verbose=1)\n",
    "    np.save(preds_path, y_pred)"
   ]
  },
  {
   "cell_type": "code",
   "execution_count": null,
   "id": "78dc75e3-1c10-4ddd-9c7e-246310b1bd02",
   "metadata": {},
   "outputs": [],
   "source": [
    "labels_path = model_dir.joinpath('true.npy')\n",
    "total_batches = testing_generator.__len__()\n",
    "if labels_path.is_file():\n",
    "    y_true = np.load(labels_path)\n",
    "else:\n",
    "    y_true = []\n",
    "    for i, (x, y) in enumerate(tqdm(testing_generator, total=total_batches-1)):\n",
    "        y_true.append(y)\n",
    "        if i > total_batches - 2:\n",
    "            break\n",
    "    y_true = np.vstack(y_true)\n",
    "    np.save(labels_path, y_true)"
   ]
  },
  {
   "cell_type": "code",
   "execution_count": null,
   "id": "189634b8-0482-4443-a909-6ec323fec15d",
   "metadata": {},
   "outputs": [],
   "source": [
    "cm = confusion_matrix(y_true.flatten().astype(int), (y_pred > 0.3).flatten().astype(int))\n",
    "ConfusionMatrixDisplay(confusion_matrix=cm).plot()"
   ]
  },
  {
   "cell_type": "code",
   "execution_count": null,
   "id": "4b31e04e-9435-44d6-95d4-a9258e024215",
   "metadata": {},
   "outputs": [],
   "source": [
    "import matplotlib.pyplot as plt\n",
    "\n",
    "class_names = utils.selected_classes.columns\n",
    "\n",
    "f, axes = plt.subplots(6, 5, figsize=(25, 30))\n",
    "axes = axes.ravel()\n",
    "for label in range(y_true.shape[1]):\n",
    "    cm = confusion_matrix(y_true[..., label].astype(int), (y_pred[..., label] > 0.5).astype(int))\n",
    "    disp = ConfusionMatrixDisplay(cm)\n",
    "    disp.plot(ax=axes[label], values_format='.4g')\n",
    "    disp.ax_.set_title(f'{class_names[label]}')\n",
    "    if label < 25:\n",
    "        disp.ax_.set_xlabel('')\n",
    "    if label % 5 != 0:\n",
    "        disp.ax_.set_ylabel('')\n",
    "    disp.im_.colorbar.remove()\n",
    "\n",
    "plt.subplots_adjust(wspace=0.2, hspace=0.001)\n",
    "f.colorbar(disp.im_, ax=axes)\n",
    "plt.show()\n"
   ]
  },
  {
   "cell_type": "code",
   "execution_count": null,
   "id": "875120d1-0f74-4894-98e3-19e2d8adb8cf",
   "metadata": {},
   "outputs": [],
   "source": []
  },
  {
   "cell_type": "code",
   "execution_count": null,
   "id": "8ded61bd-6527-4b12-bd22-d3404e4a5040",
   "metadata": {},
   "outputs": [],
   "source": [
    "# tf.keras.utils.plot_model(model, show_shapes=True)\n",
    "# model.summary()"
   ]
  },
  {
   "cell_type": "code",
   "execution_count": null,
   "id": "bb61ad19-349f-4c6b-ad12-fdc6a46117fc",
   "metadata": {},
   "outputs": [],
   "source": []
  },
  {
   "cell_type": "code",
   "execution_count": null,
   "id": "138d220c-0c2d-459a-b995-ec95e3036002",
   "metadata": {},
   "outputs": [],
   "source": []
  },
  {
   "cell_type": "code",
   "execution_count": null,
   "id": "b5189141-5f07-4aac-a68f-00a24ec5d69d",
   "metadata": {},
   "outputs": [],
   "source": [
    "# import subprocess\n",
    "# subprocess.run(['sudo', 'shutdown', 'now'])"
   ]
  },
  {
   "cell_type": "code",
   "execution_count": null,
   "id": "ea018983-f959-487b-9bda-61c90da0d6d9",
   "metadata": {},
   "outputs": [],
   "source": []
  },
  {
   "cell_type": "code",
   "execution_count": null,
   "id": "b9c133ed-b865-42ad-9935-fa99da84321c",
   "metadata": {},
   "outputs": [],
   "source": []
  }
 ],
 "metadata": {
  "kernelspec": {
   "display_name": "Python 3 (ipykernel)",
   "language": "python",
   "name": "python3"
  },
  "language_info": {
   "codemirror_mode": {
    "name": "ipython",
    "version": 3
   },
   "file_extension": ".py",
   "mimetype": "text/x-python",
   "name": "python",
   "nbconvert_exporter": "python",
   "pygments_lexer": "ipython3",
   "version": "3.10.14"
  },
  "widgets": {
   "application/vnd.jupyter.widget-state+json": {
    "state": {},
    "version_major": 2,
    "version_minor": 0
   }
  }
 },
 "nbformat": 4,
 "nbformat_minor": 5
}
