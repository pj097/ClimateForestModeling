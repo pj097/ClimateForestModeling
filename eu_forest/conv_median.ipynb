{
 "cells": [
  {
   "cell_type": "code",
   "execution_count": 1,
   "id": "45a09dcb-b90b-45d7-b5a2-54996a34ada0",
   "metadata": {},
   "outputs": [],
   "source": [
    "import numpy as np\n",
    "import pandas as pd\n",
    "\n",
    "from tqdm.notebook import tqdm\n",
    "\n",
    "from pathlib import Path\n",
    "\n",
    "from time import sleep\n",
    "\n",
    "from sklearn.model_selection import train_test_split\n",
    "from sklearn.metrics import classification_report, confusion_matrix, ConfusionMatrixDisplay, multilabel_confusion_matrix\n",
    "from sklearn.utils import shuffle\n",
    "\n",
    "from importlib import reload\n",
    "import sentinel_utils\n",
    "import keras_model_creator\n",
    "\n",
    "from data_generator import DataGenerator"
   ]
  },
  {
   "cell_type": "code",
   "execution_count": 2,
   "id": "0749fbd3-b6ee-443c-b12c-741c2ee1f1bb",
   "metadata": {},
   "outputs": [
    {
     "data": {
      "text/plain": [
       "[0, 1, 2, 3, 4, 5, 6, 7, 8, 9, 10, 11, 12, 13, 14, 15, 16, 17, 18, 19, 20, 21]"
      ]
     },
     "execution_count": 2,
     "metadata": {},
     "output_type": "execute_result"
    }
   ],
   "source": [
    "sentinel_bands = [f'B{x}' for x in range(2, 9)] + ['B8A', 'B11', 'B12']\n",
    "soilgrids_band = ['bdod', 'cec', 'cfvo', 'clay', 'nitrogen', 'ocd',\n",
    "                  'ocs', 'phh2o', 'sand', 'silt', 'soc']\n",
    "all_bands = sentinel_bands + ['Elevation'] + soilgrids_band\n",
    "selected_bands = all_bands\n",
    "bands = [all_bands.index(b) for b in selected_bands]\n",
    "bands"
   ]
  },
  {
   "cell_type": "code",
   "execution_count": 3,
   "id": "d5926fbe-15c2-4fa6-8977-99eafdcb5ca3",
   "metadata": {},
   "outputs": [],
   "source": [
    "reload(sentinel_utils)\n",
    "\n",
    "shards_dir = Path.home().joinpath('sentinel_data').joinpath('shards')\n",
    "\n",
    "# sort_key = lambda x: int(x.stem.split('_')[-1])\n",
    "sentinel_shards = []\n",
    "seasons = ['03', '06', '09']\n",
    "year = 2017\n",
    "for s in seasons:\n",
    "    path_list = list(shards_dir.joinpath(f'features_{year}{s}').glob('feature_*.npy'))\n",
    "    sentinel_shards.extend(path_list)\n",
    "\n",
    "all_labels = pd.read_csv(Path('data').joinpath('full_dummies.csv'))\n",
    "sample_shards = 20000\n",
    "utils = sentinel_utils.SentinelUtils(\n",
    "    all_labels, all_bands,\n",
    "    shuffle(sentinel_shards, random_state=42)[:sample_shards],\n",
    "    min_occurrences=5000, overwrite_existing=False\n",
    ")\n",
    "shard_ids = utils.selected_classes.index"
   ]
  },
  {
   "cell_type": "code",
   "execution_count": 4,
   "id": "aadf50b8-eda2-4527-97d0-e4e81748f2ed",
   "metadata": {},
   "outputs": [
    {
     "data": {
      "text/plain": [
       "PosixPath('models/binary_focal_crossentropy-237797-30-22-2017-03_06_09-32-conv3d+lstm')"
      ]
     },
     "execution_count": 4,
     "metadata": {},
     "output_type": "execute_result"
    }
   ],
   "source": [
    "loss = 'binary_focal_crossentropy'\n",
    "batch_size = 32\n",
    "tag = 'conv3d+lstm'\n",
    "\n",
    "model_dir = Path('models').joinpath(\n",
    "    f'{loss}-{len(shard_ids)}-{utils.selected_classes.shape[1]}'\n",
    "    f'-{len(bands)}-{year}-{\"_\".join(seasons)}-{batch_size}-{tag}'\n",
    ")\n",
    "model_dir.mkdir(parents=True, exist_ok=True)\n",
    "model_dir"
   ]
  },
  {
   "cell_type": "code",
   "execution_count": null,
   "id": "e44780c9-bda1-4d06-ab31-a2e4ffafff70",
   "metadata": {},
   "outputs": [
    {
     "name": "stdout",
     "output_type": "stream",
     "text": [
      "Building model...\n",
      "Fitting...\n",
      "Epoch 1/10\n"
     ]
    },
    {
     "name": "stderr",
     "output_type": "stream",
     "text": [
      "WARNING: All log messages before absl::InitializeLog() is called are written to STDERR\n",
      "I0000 00:00:1720444224.899596   12147 service.cc:145] XLA service 0x7f41fc047fb0 initialized for platform CUDA (this does not guarantee that XLA will be used). Devices:\n",
      "I0000 00:00:1720444224.899665   12147 service.cc:153]   StreamExecutor device (0): NVIDIA GeForce RTX 4070 Ti, Compute Capability 8.9\n",
      "I0000 00:00:1720444250.425144   12147 device_compiler.h:188] Compiled cluster using XLA!  This line is logged at most once for the lifetime of the process.\n"
     ]
    },
    {
     "name": "stdout",
     "output_type": "stream",
     "text": [
      "\u001b[1m7118/7118\u001b[0m \u001b[32m━━━━━━━━━━━━━━━━━━━━\u001b[0m\u001b[37m\u001b[0m \u001b[1m2201s\u001b[0m 305ms/step - accuracy: 0.2388 - auc: 0.8509 - loss: 0.0592 - macrof1score: 0.1665 - microf1score: 0.3234 - prc: 0.3622 - precision: 0.5024 - recall: 0.2385 - weightedf1score: 0.2922 - val_accuracy: 0.3520 - val_auc: 0.9382 - val_loss: 0.0380 - val_macrof1score: 0.2217 - val_microf1score: 0.4458 - val_prc: 0.6086 - val_precision: 0.7688 - val_recall: 0.3139 - val_weightedf1score: 0.3779 - learning_rate: 0.0010\n",
      "Epoch 2/10\n",
      "\u001b[1m7118/7118\u001b[0m \u001b[32m━━━━━━━━━━━━━━━━━━━━\u001b[0m\u001b[37m\u001b[0m \u001b[1m2266s\u001b[0m 318ms/step - accuracy: 0.3382 - auc: 0.9258 - loss: 0.0406 - macrof1score: 0.2438 - microf1score: 0.4485 - prc: 0.5530 - precision: 0.6817 - recall: 0.3342 - weightedf1score: 0.3916 - val_accuracy: 0.3648 - val_auc: 0.9447 - val_loss: 0.0359 - val_macrof1score: 0.2653 - val_microf1score: 0.5039 - val_prc: 0.6382 - val_precision: 0.7556 - val_recall: 0.3780 - val_weightedf1score: 0.4206 - learning_rate: 0.0010\n",
      "Epoch 3/10\n",
      "\u001b[1m3537/7118\u001b[0m \u001b[32m━━━━━━━━━\u001b[0m\u001b[37m━━━━━━━━━━━\u001b[0m \u001b[1m39:24\u001b[0m 660ms/step - accuracy: 0.3513 - auc: 0.9325 - loss: 0.0389 - macrof1score: 0.2597 - microf1score: 0.4722 - prc: 0.5813 - precision: 0.7002 - recall: 0.3562 - weightedf1score: 0.4105"
     ]
    }
   ],
   "source": [
    "reload(keras_model_creator)\n",
    "params = dict(\n",
    "    utils=utils,\n",
    "    shards_dir=shards_dir,\n",
    "    shard_ids=shard_ids,\n",
    "    model_dir=model_dir,\n",
    "    seasons=seasons,\n",
    "    year=year,\n",
    "    bands=bands,\n",
    "    loss=loss,\n",
    "    batch_size=batch_size,\n",
    "    base_filters=32,\n",
    "    dropout=0.2,\n",
    "    epochs=10,\n",
    "    overwrite=False\n",
    ")\n",
    "\n",
    "model, testing_generator = keras_model_creator.KerasModelCreator(**params).run()"
   ]
  },
  {
   "cell_type": "code",
   "execution_count": null,
   "id": "f19411ca-97b2-45ee-a101-aaf2c87f7587",
   "metadata": {},
   "outputs": [],
   "source": [
    "# for eval_year in [2020, 2021]:\n",
    "#     params['year'] = eval_year\n",
    "#     eval_generator = DataGenerator(shard_ids, shuffle=False, **params)\n",
    "#     model.evaluate(x=eval_generator, verbose=1, return_dict=True)\n",
    "    \n",
    "#     eval_path = model_dir.joinpath(f'eval_{eval_year}.csv')\n",
    "#     if eval_path.is_file():\n",
    "#         print(pd.read_csv(eval_path))\n",
    "#     else:\n",
    "#         r = model.evaluate(x=testing_generator, verbose=1, return_dict=True)\n",
    "#         df = pd.DataFrame.from_dict(r, orient='index', columns=['score'])\n",
    "#         df.index.name = 'metric'\n",
    "#         df.to_csv(eval_path)\n",
    "#         print(df)"
   ]
  },
  {
   "cell_type": "code",
   "execution_count": null,
   "id": "77a57cfb-f044-4572-80c9-56b44f37a044",
   "metadata": {},
   "outputs": [],
   "source": [
    "# for eval_year in [2020, 2021]:\n",
    "# params['year'] = eval_year\n",
    "eval_generator = DataGenerator(shard_ids, shuffle=False, **params)\n",
    "preds_path = model_dir.joinpath(f\"preds_{params['year']}.npy\")\n",
    "if preds_path.is_file():\n",
    "    y_pred = np.load(preds_path)\n",
    "else:\n",
    "    y_pred = model.predict(x=eval_generator, verbose=1)\n",
    "    np.save(preds_path, y_pred)"
   ]
  },
  {
   "cell_type": "code",
   "execution_count": null,
   "id": "b98c6836-83da-4457-8b48-ed064f52f178",
   "metadata": {},
   "outputs": [],
   "source": [
    "y_true = utils.selected_classes.iloc[:-(utils.selected_classes.shape[0]%batch_size)].to_numpy()\n",
    "cm = confusion_matrix(y_true.flatten(), (y_pred > 0.5).flatten().astype(int))\n",
    "ConfusionMatrixDisplay(confusion_matrix=cm).plot()"
   ]
  },
  {
   "cell_type": "code",
   "execution_count": null,
   "id": "4b31e04e-9435-44d6-95d4-a9258e024215",
   "metadata": {},
   "outputs": [],
   "source": [
    "import matplotlib.pyplot as plt\n",
    "\n",
    "class_names = utils.selected_classes.columns\n",
    "\n",
    "f, axes = plt.subplots(6, 5, figsize=(25, 30))\n",
    "axes = axes.ravel()\n",
    "for label in range(y_true.shape[1]):\n",
    "    cm = confusion_matrix(y_true[..., label].astype(int), (y_pred[..., label] > 0.5).astype(int))\n",
    "    disp = ConfusionMatrixDisplay(cm)\n",
    "    disp.plot(ax=axes[label], values_format='.4g')\n",
    "    disp.ax_.set_title(f'{class_names[label]}')\n",
    "    if label < 25:\n",
    "        disp.ax_.set_xlabel('')\n",
    "    if label % 5 != 0:\n",
    "        disp.ax_.set_ylabel('')\n",
    "    disp.im_.colorbar.remove()\n",
    "\n",
    "plt.subplots_adjust(wspace=0.2, hspace=0.001)\n",
    "f.colorbar(disp.im_, ax=axes)\n",
    "plt.show()\n"
   ]
  },
  {
   "cell_type": "code",
   "execution_count": null,
   "id": "875120d1-0f74-4894-98e3-19e2d8adb8cf",
   "metadata": {},
   "outputs": [],
   "source": [
    "import tensorflow.keras.backend as K\n",
    "K.eval(model.optimizer.learning_rate)"
   ]
  },
  {
   "cell_type": "code",
   "execution_count": null,
   "id": "8ded61bd-6527-4b12-bd22-d3404e4a5040",
   "metadata": {},
   "outputs": [],
   "source": [
    "# tf.keras.utils.plot_model(model, show_shapes=True)\n",
    "# model.summary()"
   ]
  },
  {
   "cell_type": "code",
   "execution_count": null,
   "id": "bb61ad19-349f-4c6b-ad12-fdc6a46117fc",
   "metadata": {},
   "outputs": [],
   "source": []
  },
  {
   "cell_type": "code",
   "execution_count": null,
   "id": "138d220c-0c2d-459a-b995-ec95e3036002",
   "metadata": {},
   "outputs": [],
   "source": []
  },
  {
   "cell_type": "code",
   "execution_count": null,
   "id": "b5189141-5f07-4aac-a68f-00a24ec5d69d",
   "metadata": {},
   "outputs": [],
   "source": [
    "# import subprocess\n",
    "# subprocess.run(['sudo', 'shutdown', 'now'])"
   ]
  },
  {
   "cell_type": "code",
   "execution_count": null,
   "id": "ea018983-f959-487b-9bda-61c90da0d6d9",
   "metadata": {},
   "outputs": [],
   "source": []
  },
  {
   "cell_type": "code",
   "execution_count": null,
   "id": "b9c133ed-b865-42ad-9935-fa99da84321c",
   "metadata": {},
   "outputs": [],
   "source": []
  },
  {
   "cell_type": "code",
   "execution_count": null,
   "id": "f92f8f22-702f-425c-b08a-6291579203fd",
   "metadata": {},
   "outputs": [],
   "source": []
  },
  {
   "cell_type": "code",
   "execution_count": null,
   "id": "66ab74e4-7a10-4448-a3ae-4c8b169e5d81",
   "metadata": {},
   "outputs": [],
   "source": []
  },
  {
   "cell_type": "code",
   "execution_count": null,
   "id": "b460e4fc-dc07-4238-bfa4-576718377b57",
   "metadata": {},
   "outputs": [],
   "source": []
  }
 ],
 "metadata": {
  "kernelspec": {
   "display_name": "Python 3 (ipykernel)",
   "language": "python",
   "name": "python3"
  },
  "language_info": {
   "codemirror_mode": {
    "name": "ipython",
    "version": 3
   },
   "file_extension": ".py",
   "mimetype": "text/x-python",
   "name": "python",
   "nbconvert_exporter": "python",
   "pygments_lexer": "ipython3",
   "version": "3.10.14"
  },
  "widgets": {
   "application/vnd.jupyter.widget-state+json": {
    "state": {},
    "version_major": 2,
    "version_minor": 0
   }
  }
 },
 "nbformat": 4,
 "nbformat_minor": 5
}
