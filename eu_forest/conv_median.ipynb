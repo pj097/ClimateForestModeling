{
 "cells": [
  {
   "cell_type": "code",
   "execution_count": 1,
   "id": "45a09dcb-b90b-45d7-b5a2-54996a34ada0",
   "metadata": {},
   "outputs": [
    {
     "name": "stderr",
     "output_type": "stream",
     "text": [
      "2024-06-11 13:00:28.937175: I tensorflow/core/platform/cpu_feature_guard.cc:210] This TensorFlow binary is optimized to use available CPU instructions in performance-critical operations.\n",
      "To enable the following instructions: AVX2 FMA, in other operations, rebuild TensorFlow with the appropriate compiler flags.\n",
      "2024-06-11 13:00:29.822986: W tensorflow/compiler/tf2tensorrt/utils/py_utils.cc:38] TF-TRT Warning: Could not find TensorRT\n"
     ]
    }
   ],
   "source": [
    "from tqdm.notebook import tqdm\n",
    "from IPython.display import display, HTML\n",
    "\n",
    "import numpy as np\n",
    "import pandas as pd\n",
    "\n",
    "import plotly.graph_objects as go\n",
    "\n",
    "import datetime\n",
    "from pathlib import Path\n",
    "\n",
    "import intake\n",
    "\n",
    "from sklearn.model_selection import train_test_split\n",
    "from sklearn.metrics import classification_report\n",
    "from sklearn.utils import shuffle\n",
    "import itertools\n",
    "\n",
    "from tensorflow.keras.regularizers import l2\n",
    "import tensorflow as tf\n",
    "from tensorflow.keras import backend as K\n",
    "\n",
    "from tensorflow.keras.layers import *\n",
    "from tensorflow.keras.optimizers import Adam, RMSprop, Nadam, SGD, AdamW"
   ]
  },
  {
   "cell_type": "code",
   "execution_count": 2,
   "id": "0749fbd3-b6ee-443c-b12c-741c2ee1f1bb",
   "metadata": {},
   "outputs": [],
   "source": [
    "selected_bands = [f'B{x}' for x in range(2, 9)] + ['B8A', 'B11', 'B12', 'TCI_R', 'TCI_G', 'TCI_B']"
   ]
  },
  {
   "cell_type": "code",
   "execution_count": 3,
   "id": "d5926fbe-15c2-4fa6-8977-99eafdcb5ca3",
   "metadata": {},
   "outputs": [],
   "source": [
    "model_dir = Path('models')\n",
    "model_dir.mkdir(parents=True, exist_ok=True)\n",
    "\n",
    "shards_dir = Path('/sentinel_data').joinpath('shards')\n",
    "\n",
    "sort_key = lambda x: int(x.stem.split('_')[-1])\n",
    "feature_filepaths = sorted(list(shards_dir.glob('feature_*.npy')), key=sort_key)"
   ]
  },
  {
   "cell_type": "markdown",
   "id": "7a20ef66-8fee-41ab-9e7c-9269f0967b97",
   "metadata": {},
   "source": [
    "Adapted from https://stanford.edu/~shervine/blog/keras-how-to-generate-data-on-the-fly"
   ]
  },
  {
   "cell_type": "code",
   "execution_count": 15,
   "id": "90c59975-e2bf-4311-a011-b7284efda661",
   "metadata": {
    "tags": []
   },
   "outputs": [],
   "source": [
    "class DataGenerator(tf.keras.utils.Sequence):\n",
    "    'Generates data for Keras'\n",
    "    def __init__(self, list_IDs, data_dir, batch_size=32, dim=(100,100), n_channels=13,\n",
    "                 n_classes=242, shuffle=True, **kwargs):\n",
    "        super().__init__(**kwargs)\n",
    "        self.dim = dim\n",
    "        self.batch_size = batch_size\n",
    "        self.data_dir = data_dir\n",
    "        self.list_IDs = list_IDs\n",
    "        self.n_channels = n_channels\n",
    "        self.n_classes = n_classes\n",
    "        self.shuffle = shuffle\n",
    "        \n",
    "        self.on_epoch_end()\n",
    "\n",
    "    def __len__(self):\n",
    "        'Denotes the number of batches per epoch'\n",
    "        return int(np.floor(len(self.list_IDs) / self.batch_size))\n",
    "\n",
    "    def __getitem__(self, index):\n",
    "        'Generate one batch of data'\n",
    "        # Generate indexes of the batch\n",
    "        indexes = self.indexes[index*self.batch_size:(index+1)*self.batch_size]\n",
    "\n",
    "        # Find list of IDs\n",
    "        list_IDs_temp = [self.list_IDs[k] for k in indexes]\n",
    "\n",
    "        # Generate data\n",
    "        X, y = self.__data_generation(list_IDs_temp)\n",
    "\n",
    "        return X, y\n",
    "\n",
    "    def on_epoch_end(self):\n",
    "        'Updates indexes after each epoch'\n",
    "        self.indexes = np.arange(len(self.list_IDs))\n",
    "        if self.shuffle == True:\n",
    "            np.random.shuffle(self.indexes)\n",
    "\n",
    "    def __data_generation(self, list_IDs_temp):\n",
    "        'Generates data containing batch_size samples'\n",
    "        # Initialization\n",
    "        X = np.empty((self.batch_size, *self.dim, self.n_channels))\n",
    "        y = np.empty((self.batch_size, self.n_classes))\n",
    "\n",
    "        # Generate data\n",
    "        for i, ID in enumerate(list_IDs_temp):\n",
    "            # Store sample\n",
    "            X[i,] = np.load(self.data_dir.joinpath(f'feature_{ID}.npy'))\n",
    "            # Store class\n",
    "            y[i] = np.load(self.data_dir.joinpath(f'label_{ID}.npy'))\n",
    "        \n",
    "        return X, y"
   ]
  },
  {
   "cell_type": "markdown",
   "id": "333f6796-2ace-4bac-9b22-e50ef66e467f",
   "metadata": {},
   "source": [
    "F1 score adapted from https://medium.com/@matrixB/modified-cross-entropy-loss-for-multi-label-classification-with-class-a8afede21eb9"
   ]
  },
  {
   "cell_type": "code",
   "execution_count": 16,
   "id": "2f1ac513-b290-4593-a2ce-8ad67ef93cc6",
   "metadata": {},
   "outputs": [],
   "source": [
    "tf.keras.utils.get_custom_objects().clear()\n",
    "@tf.keras.utils.register_keras_serializable()\n",
    "def custom_f1_score(y_true, y_pred):\n",
    "    y_true = tf.cast(y_true, dtype='float32')\n",
    "    \n",
    "    true_positives = K.sum(K.round(y_true * y_pred))\n",
    "    \n",
    "    possible_positives = K.sum(K.round(y_true))\n",
    "    \n",
    "    recall = true_positives / (possible_positives + K.epsilon())\n",
    "    \n",
    "    predicted_positives = K.sum(K.round(y_pred))\n",
    "    \n",
    "    precision = true_positives / (predicted_positives + K.epsilon())\n",
    "    \n",
    "    return (2 * precision * recall) / (precision + recall + K.epsilon())"
   ]
  },
  {
   "cell_type": "code",
   "execution_count": 20,
   "id": "7a5fb97e-b021-4620-9b31-468323822101",
   "metadata": {},
   "outputs": [],
   "source": [
    "class KerasModelCreator:\n",
    "    def display_logger(self, log_file, metrics):\n",
    "        metric_names = [m if isinstance(m, str) else m.name for m in metrics]\n",
    "        if log_file.is_file():\n",
    "            val_metrics = ['val_loss'] + ['val_' + x for x in metric_names]\n",
    "            df = pd.read_csv(log_file)[['epoch', 'loss'] + metric_names + val_metrics]\n",
    "            df['epoch'] += 1\n",
    "            print('Previous training:')\n",
    "            display(HTML(df.to_html(index=False)))\n",
    "    \n",
    "    def define_callbacks_and_logger(self, model_path, model_savepoint, log_file, metrics):\n",
    "        metric_names = [m if isinstance(m, str) else m.name for m in metrics]\n",
    "\n",
    "        callbacks = [\n",
    "            tf.keras.callbacks.BackupAndRestore(\n",
    "                model_savepoint, save_freq='epoch', delete_checkpoint=False\n",
    "            ),\n",
    "            tf.keras.callbacks.CSVLogger(log_file, append=True),\n",
    "            tf.keras.callbacks.ModelCheckpoint(\n",
    "                model_path, monitor='val_prc', save_best_only=True, \n",
    "                save_freq='epoch', initial_value_threshold=0.4,\n",
    "                verbose=1,\n",
    "            ),\n",
    "            tf.keras.callbacks.ReduceLROnPlateau(\n",
    "                monitor='val_prc', factor=0.6, patience=2, min_lr=3e-6,\n",
    "                verbose=1,\n",
    "            ),\n",
    "            tf.keras.callbacks.EarlyStopping(\n",
    "                monitor='val_prc', \n",
    "                verbose=1,\n",
    "                patience=10,\n",
    "                mode='max',\n",
    "                restore_best_weights=True\n",
    "            )\n",
    "        ]\n",
    "        return callbacks\n",
    "    \n",
    "    def get_initial_bias(self, shards_dir, IDs):\n",
    "        all_labels = []\n",
    "        for ID in IDs:\n",
    "            f = shards_dir.joinpath(f'label_{ID}.npy')\n",
    "            all_labels.append(np.load(f))\n",
    "        all_labels = np.vstack(all_labels)\n",
    "        neg, pos = np.bincount(all_labels.astype(int).flatten())\n",
    "        return np.log([pos/neg])\n",
    "        \n",
    "    def build_model(self, output_shape, input_shape, metrics, output_bias=None):\n",
    "        if output_bias is not None:\n",
    "            output_bias = tf.keras.initializers.Constant(output_bias)\n",
    "            \n",
    "        m = tf.keras.Sequential()\n",
    "        m.add(Input(input_shape))\n",
    "        \n",
    "        for filters in [32, 64]:\n",
    "            for _ in range(2):\n",
    "                m.add(Conv2D(\n",
    "                    filters=filters, kernel_size=3, padding='same', activation='relu',\n",
    "                ))\n",
    "            m.add(MaxPooling2D(pool_size=2,strides=2))\n",
    "\n",
    "        for filters in [128, 256]:\n",
    "            for _ in range(3):\n",
    "                m.add(Conv2D(\n",
    "                    filters=filters, kernel_size=3, padding='same', activation='relu',\n",
    "                ))\n",
    "            m.add(MaxPooling2D(pool_size=2,strides=2))\n",
    "\n",
    "        m.add(Flatten())\n",
    "\n",
    "        for n_layers in range(2):\n",
    "            m.add(Dense(4096, activation='relu'))\n",
    "            m.add(Dropout(0.5))\n",
    "        \n",
    "        m.add(Dense(output_shape, activation='sigmoid'))\n",
    "\n",
    "        m.compile(optimizer='adam', loss='binary_crossentropy', metrics=metrics)\n",
    "        \n",
    "        return m\n",
    "    \n",
    "    def run(self, shards_dir, IDs, model_path, batch_size=10, epochs=10, overwrite=False):\n",
    "        ''' \n",
    "        If not overwrite and there's an existing model, the model will \n",
    "        continue trainingw if the given epoch is bigger than the previous,\n",
    "        else just evaluate.\n",
    "        Ensure train splits are the same across continuations / evaluations\n",
    "        by not modifying the random_state in split_and_normalise.\n",
    "        '''\n",
    "        model_savepoint = model_path.parent.joinpath(model_path.stem)\n",
    "        log_file = model_path.with_suffix('.log')\n",
    "        \n",
    "        prc = tf.keras.metrics.AUC(name='prc', curve='PR')\n",
    "        metrics = [\n",
    "            'binary_crossentropy', 'accuracy', 'recall',\n",
    "            'precision', 'mse', 'r2_score', 'auc', prc\n",
    "        ]       \n",
    "\n",
    "        if overwrite:\n",
    "            for f in [model_path, log_file] + list(model_savepoint.glob('*')):\n",
    "                f.unlink(missing_ok=True)\n",
    "                \n",
    "        self.display_logger(log_file, metrics)\n",
    "        \n",
    "        callbacks = self.define_callbacks_and_logger(\n",
    "            model_path, model_savepoint, log_file, metrics)\n",
    "        \n",
    "        params = {\n",
    "            'dim': (100, 100),\n",
    "            'batch_size': batch_size,\n",
    "            'n_classes': 242,\n",
    "            'n_channels': 13,\n",
    "            'shuffle': True\n",
    "        }\n",
    "        \n",
    "        training_ids, validation_ids = train_test_split(IDs, train_size=0.9, random_state=42)\n",
    "        \n",
    "        training_generator = DataGenerator(training_ids, shards_dir, **params)\n",
    "        validation_generator = DataGenerator(validation_ids, shards_dir, **params)\n",
    "        \n",
    "        print('Loading model...')\n",
    "        if model_path.is_file():\n",
    "            model = tf.keras.models.load_model(model_path)\n",
    "        else:\n",
    "            initial_bias = self.get_initial_bias(shards_dir, IDs[:2000])\n",
    "            model = self.build_model(\n",
    "                params['n_classes'], (*params['dim'], params['n_channels']), metrics,\n",
    "                output_bias=initial_bias,\n",
    "            )\n",
    "        print('Fitting...')\n",
    "        model.fit(\n",
    "            x=training_generator,\n",
    "            validation_data=validation_generator,\n",
    "            epochs=epochs,\n",
    "            callbacks=callbacks\n",
    "        )\n",
    "        \n",
    "        return model"
   ]
  },
  {
   "cell_type": "code",
   "execution_count": 21,
   "id": "d105fc9d-03a1-418a-8deb-0d1b1975d7bc",
   "metadata": {},
   "outputs": [],
   "source": [
    "parts = [f.stem.split('_')[-1] for f in feature_filepaths]\n",
    "model_name = f'conv_parts_{parts[0]}_to_{parts[-1]}.keras'\n",
    "model_path = model_dir.joinpath(model_name)\n",
    "\n",
    "IDs = [int(f.stem.split('_')[-1]) for f in feature_filepaths]\n",
    "IDs = shuffle(IDs, random_state=42)"
   ]
  },
  {
   "cell_type": "code",
   "execution_count": null,
   "id": "f29e1273-d2c4-4722-9616-a17bf0a422d4",
   "metadata": {},
   "outputs": [
    {
     "name": "stdout",
     "output_type": "stream",
     "text": [
      "Loading model...\n",
      "Fitting...\n",
      "Epoch 1/2\n"
     ]
    },
    {
     "name": "stderr",
     "output_type": "stream",
     "text": [
      "2024-06-11 13:03:16.745414: I tensorflow/core/kernels/data/shuffle_dataset_op.cc:450] ShuffleDatasetV3:7: Filling up shuffle buffer (this may take a while): 3 of 8\n",
      "2024-06-11 13:03:28.458694: I tensorflow/core/kernels/data/shuffle_dataset_op.cc:450] ShuffleDatasetV3:7: Filling up shuffle buffer (this may take a while): 6 of 8\n",
      "2024-06-11 13:03:37.724010: I tensorflow/core/kernels/data/shuffle_dataset_op.cc:480] Shuffle buffer filled.\n"
     ]
    },
    {
     "name": "stdout",
     "output_type": "stream",
     "text": [
      "\u001b[1m  21/1008\u001b[0m \u001b[37m━━━━━━━━━━━━━━━━━━━━\u001b[0m \u001b[1m1:04:34\u001b[0m 4s/step - accuracy: 0.0275 - auc: 0.6461 - binary_crossentropy: 0.3461 - loss: 0.3461 - mse: 0.0691 - prc: 0.0278 - precision: 0.0249 - r2_score: -0.9778 - recall: 0.2390"
     ]
    }
   ],
   "source": [
    "%%time\n",
    "KerasModelCreator().run(\n",
    "    shards_dir,\n",
    "    IDs, \n",
    "    model_path, \n",
    "    batch_size=100, \n",
    "    epochs=2,\n",
    "    overwrite=True\n",
    ")"
   ]
  },
  {
   "cell_type": "code",
   "execution_count": null,
   "id": "8ded61bd-6527-4b12-bd22-d3404e4a5040",
   "metadata": {},
   "outputs": [],
   "source": []
  },
  {
   "cell_type": "code",
   "execution_count": null,
   "id": "bb61ad19-349f-4c6b-ad12-fdc6a46117fc",
   "metadata": {},
   "outputs": [],
   "source": []
  },
  {
   "cell_type": "code",
   "execution_count": null,
   "id": "138d220c-0c2d-459a-b995-ec95e3036002",
   "metadata": {},
   "outputs": [],
   "source": []
  },
  {
   "cell_type": "code",
   "execution_count": 9,
   "id": "45e3e05a-a6f4-4957-9d4d-9523a113b06e",
   "metadata": {},
   "outputs": [],
   "source": [
    "# keep_indices = np.where(y.sum(axis=1) > 0)[0]\n",
    "# y = y[keep_indices]\n",
    "# X = X[keep_indices]"
   ]
  },
  {
   "cell_type": "code",
   "execution_count": null,
   "id": "7244709f-4d2b-411e-9644-86ddcad03468",
   "metadata": {},
   "outputs": [],
   "source": []
  },
  {
   "cell_type": "code",
   "execution_count": 10,
   "id": "c1a88adb-eca0-44ba-9b83-49adb7994137",
   "metadata": {},
   "outputs": [],
   "source": [
    "# tf.keras.models.load_model(model_path).summary()"
   ]
  },
  {
   "cell_type": "code",
   "execution_count": null,
   "id": "8302c085-023a-41e8-b074-abfee088b461",
   "metadata": {},
   "outputs": [],
   "source": []
  },
  {
   "cell_type": "code",
   "execution_count": null,
   "id": "4e476eaf-992b-4bb6-a973-de32c88805c4",
   "metadata": {},
   "outputs": [],
   "source": []
  },
  {
   "cell_type": "code",
   "execution_count": null,
   "id": "b5ab704e-6c77-4671-9812-8af5b407bae4",
   "metadata": {},
   "outputs": [],
   "source": []
  },
  {
   "cell_type": "code",
   "execution_count": 11,
   "id": "b5189141-5f07-4aac-a68f-00a24ec5d69d",
   "metadata": {},
   "outputs": [],
   "source": [
    "# import subprocess\n",
    "# subprocess.run(['sudo', 'shutdown', 'now'])"
   ]
  },
  {
   "cell_type": "code",
   "execution_count": null,
   "id": "ea018983-f959-487b-9bda-61c90da0d6d9",
   "metadata": {},
   "outputs": [],
   "source": []
  },
  {
   "cell_type": "code",
   "execution_count": null,
   "id": "858b81a8-f8a7-4da4-8614-ba08abd93a0a",
   "metadata": {},
   "outputs": [],
   "source": []
  }
 ],
 "metadata": {
  "kernelspec": {
   "display_name": "Python 3 (ipykernel)",
   "language": "python",
   "name": "python3"
  },
  "language_info": {
   "codemirror_mode": {
    "name": "ipython",
    "version": 3
   },
   "file_extension": ".py",
   "mimetype": "text/x-python",
   "name": "python",
   "nbconvert_exporter": "python",
   "pygments_lexer": "ipython3",
   "version": "3.10.14"
  },
  "widgets": {
   "application/vnd.jupyter.widget-state+json": {
    "state": {
     "16427311e9ee45d48206154974eef0e5": {
      "model_module": "@jupyter-widgets/controls",
      "model_module_version": "2.0.0",
      "model_name": "HBoxModel",
      "state": {
       "children": [
        "IPY_MODEL_934a21e493154fb9af6f9e5fb63d03ef",
        "IPY_MODEL_b691ccd38566493a86ebc4cb12ed35f7",
        "IPY_MODEL_a469dc8be76d489f98dda0d6359b4999"
       ],
       "layout": "IPY_MODEL_4ee4f122584f4741b4543a00ca3a953b"
      }
     },
     "1808e87c003c40a0a77cda593a6d2dbf": {
      "model_module": "@jupyter-widgets/controls",
      "model_module_version": "2.0.0",
      "model_name": "HTMLStyleModel",
      "state": {
       "description_width": "",
       "font_size": null,
       "text_color": null
      }
     },
     "20637de0047542099d00e737acb20743": {
      "model_module": "@jupyter-widgets/base",
      "model_module_version": "2.0.0",
      "model_name": "LayoutModel",
      "state": {}
     },
     "25d75ecc7ca6400bbd658e56ff722d0f": {
      "model_module": "@jupyter-widgets/controls",
      "model_module_version": "2.0.0",
      "model_name": "HTMLStyleModel",
      "state": {
       "description_width": "",
       "font_size": null,
       "text_color": null
      }
     },
     "4ee4f122584f4741b4543a00ca3a953b": {
      "model_module": "@jupyter-widgets/base",
      "model_module_version": "2.0.0",
      "model_name": "LayoutModel",
      "state": {}
     },
     "542b93789653406fafe1d46425fdca49": {
      "model_module": "@jupyter-widgets/base",
      "model_module_version": "2.0.0",
      "model_name": "LayoutModel",
      "state": {}
     },
     "7ddeeb689cc24ccc8853955e7e1c9063": {
      "model_module": "@jupyter-widgets/controls",
      "model_module_version": "2.0.0",
      "model_name": "HTMLStyleModel",
      "state": {
       "description_width": "",
       "font_size": null,
       "text_color": null
      }
     },
     "7e3ff69aa79640cf99dae7a44cb1e094": {
      "model_module": "@jupyter-widgets/base",
      "model_module_version": "2.0.0",
      "model_name": "LayoutModel",
      "state": {}
     },
     "926987a8c84446069d27fdaf2dce2e07": {
      "model_module": "@jupyter-widgets/controls",
      "model_module_version": "2.0.0",
      "model_name": "ProgressStyleModel",
      "state": {
       "description_width": ""
      }
     },
     "934a21e493154fb9af6f9e5fb63d03ef": {
      "model_module": "@jupyter-widgets/controls",
      "model_module_version": "2.0.0",
      "model_name": "HTMLModel",
      "state": {
       "layout": "IPY_MODEL_eb42dd2ce4504b55a65fa3486c102c5f",
       "style": "IPY_MODEL_7ddeeb689cc24ccc8853955e7e1c9063",
       "value": "100%"
      }
     },
     "9904ab95e7044f3f90df1e452ad93124": {
      "model_module": "@jupyter-widgets/controls",
      "model_module_version": "2.0.0",
      "model_name": "ProgressStyleModel",
      "state": {
       "description_width": ""
      }
     },
     "a469dc8be76d489f98dda0d6359b4999": {
      "model_module": "@jupyter-widgets/controls",
      "model_module_version": "2.0.0",
      "model_name": "HTMLModel",
      "state": {
       "layout": "IPY_MODEL_20637de0047542099d00e737acb20743",
       "style": "IPY_MODEL_a6892266b52a4e858032e35d6040f79f",
       "value": " 2000/2000 [00:00&lt;00:00, 9824.32it/s]"
      }
     },
     "a6892266b52a4e858032e35d6040f79f": {
      "model_module": "@jupyter-widgets/controls",
      "model_module_version": "2.0.0",
      "model_name": "HTMLStyleModel",
      "state": {
       "description_width": "",
       "font_size": null,
       "text_color": null
      }
     },
     "b3ab61114c1d43f7874d7dafdd060837": {
      "model_module": "@jupyter-widgets/base",
      "model_module_version": "2.0.0",
      "model_name": "LayoutModel",
      "state": {}
     },
     "b691ccd38566493a86ebc4cb12ed35f7": {
      "model_module": "@jupyter-widgets/controls",
      "model_module_version": "2.0.0",
      "model_name": "FloatProgressModel",
      "state": {
       "bar_style": "success",
       "layout": "IPY_MODEL_7e3ff69aa79640cf99dae7a44cb1e094",
       "max": 2000,
       "style": "IPY_MODEL_926987a8c84446069d27fdaf2dce2e07",
       "value": 2000
      }
     },
     "b7fcdc8ad6c74d2d8798de3903c89a58": {
      "model_module": "@jupyter-widgets/controls",
      "model_module_version": "2.0.0",
      "model_name": "FloatProgressModel",
      "state": {
       "bar_style": "success",
       "layout": "IPY_MODEL_542b93789653406fafe1d46425fdca49",
       "max": 2000,
       "style": "IPY_MODEL_9904ab95e7044f3f90df1e452ad93124",
       "value": 2000
      }
     },
     "bd5b2ed250564a9d8441f04c22a11d92": {
      "model_module": "@jupyter-widgets/controls",
      "model_module_version": "2.0.0",
      "model_name": "HTMLModel",
      "state": {
       "layout": "IPY_MODEL_f37d8656236447448489fc8c140ad16d",
       "style": "IPY_MODEL_25d75ecc7ca6400bbd658e56ff722d0f",
       "value": " 2000/2000 [00:00&lt;00:00, 10285.82it/s]"
      }
     },
     "d548b147efbd41e6afb57dc756d8033f": {
      "model_module": "@jupyter-widgets/controls",
      "model_module_version": "2.0.0",
      "model_name": "HTMLModel",
      "state": {
       "layout": "IPY_MODEL_e35eb9b5f3e84eab9de13567a057aab6",
       "style": "IPY_MODEL_1808e87c003c40a0a77cda593a6d2dbf",
       "value": "100%"
      }
     },
     "e35eb9b5f3e84eab9de13567a057aab6": {
      "model_module": "@jupyter-widgets/base",
      "model_module_version": "2.0.0",
      "model_name": "LayoutModel",
      "state": {}
     },
     "eb42dd2ce4504b55a65fa3486c102c5f": {
      "model_module": "@jupyter-widgets/base",
      "model_module_version": "2.0.0",
      "model_name": "LayoutModel",
      "state": {}
     },
     "f37d8656236447448489fc8c140ad16d": {
      "model_module": "@jupyter-widgets/base",
      "model_module_version": "2.0.0",
      "model_name": "LayoutModel",
      "state": {}
     },
     "f4cea64d9a7b482c83c5f86ea51a1407": {
      "model_module": "@jupyter-widgets/controls",
      "model_module_version": "2.0.0",
      "model_name": "HBoxModel",
      "state": {
       "children": [
        "IPY_MODEL_d548b147efbd41e6afb57dc756d8033f",
        "IPY_MODEL_b7fcdc8ad6c74d2d8798de3903c89a58",
        "IPY_MODEL_bd5b2ed250564a9d8441f04c22a11d92"
       ],
       "layout": "IPY_MODEL_b3ab61114c1d43f7874d7dafdd060837"
      }
     }
    },
    "version_major": 2,
    "version_minor": 0
   }
  }
 },
 "nbformat": 4,
 "nbformat_minor": 5
}
