{
 "cells": [
  {
   "cell_type": "code",
   "execution_count": 1,
   "id": "45a09dcb-b90b-45d7-b5a2-54996a34ada0",
   "metadata": {},
   "outputs": [
    {
     "name": "stderr",
     "output_type": "stream",
     "text": [
      "2024-06-27 20:51:10.988567: I external/local_tsl/tsl/cuda/cudart_stub.cc:32] Could not find cuda drivers on your machine, GPU will not be used.\n",
      "2024-06-27 20:51:11.074059: I external/local_tsl/tsl/cuda/cudart_stub.cc:32] Could not find cuda drivers on your machine, GPU will not be used.\n",
      "2024-06-27 20:51:11.371182: I tensorflow/core/platform/cpu_feature_guard.cc:210] This TensorFlow binary is optimized to use available CPU instructions in performance-critical operations.\n",
      "To enable the following instructions: AVX2 FMA, in other operations, rebuild TensorFlow with the appropriate compiler flags.\n",
      "2024-06-27 20:51:12.756380: W tensorflow/compiler/tf2tensorrt/utils/py_utils.cc:38] TF-TRT Warning: Could not find TensorRT\n"
     ]
    }
   ],
   "source": [
    "import numpy as np\n",
    "import pandas as pd\n",
    "\n",
    "from tqdm.notebook import tqdm\n",
    "\n",
    "from pathlib import Path\n",
    "\n",
    "from time import sleep\n",
    "\n",
    "from sklearn.model_selection import train_test_split\n",
    "from sklearn.metrics import classification_report, confusion_matrix, ConfusionMatrixDisplay, multilabel_confusion_matrix\n",
    "from sklearn.utils import shuffle\n",
    "\n",
    "from importlib import reload\n",
    "import sentinel_utils\n",
    "import keras_model_creator"
   ]
  },
  {
   "cell_type": "code",
   "execution_count": 2,
   "id": "0749fbd3-b6ee-443c-b12c-741c2ee1f1bb",
   "metadata": {},
   "outputs": [],
   "source": [
    "all_bands = [f'B{x}' for x in range(2, 9)] + ['B8A', 'B11', 'B12', 'TCI_R', 'TCI_G', 'TCI_B']\n",
    "selected_bands = all_bands\n",
    "bands = [all_bands.index(b) for b in selected_bands]"
   ]
  },
  {
   "cell_type": "code",
   "execution_count": 3,
   "id": "d5926fbe-15c2-4fa6-8977-99eafdcb5ca3",
   "metadata": {},
   "outputs": [],
   "source": [
    "reload(sentinel_utils)\n",
    "\n",
    "shards_dir = Path.home().joinpath('sentinel_data').joinpath('shards')\n",
    "\n",
    "sort_key = lambda x: int(x.stem.split('_')[-1])\n",
    "label_shards = sorted(list(shards_dir.joinpath(f'labels').glob('label_*.npy')), key=sort_key)\n",
    "feature_shards = sorted(list(shards_dir.joinpath(f'features_2017').glob('feature_*.npy')), key=sort_key)\n",
    "\n",
    "sample_shards = 50000\n",
    "utils = sentinel_utils.SentinelUtils(\n",
    "    shuffle(feature_shards, random_state=42)[:sample_shards],\n",
    "    label_shards, min_occurrences=5000, \n",
    "    overwrite_existing=False\n",
    ")\n",
    "\n",
    "IDs = utils.keep_shards"
   ]
  },
  {
   "cell_type": "code",
   "execution_count": 4,
   "id": "aadf50b8-eda2-4527-97d0-e4e81748f2ed",
   "metadata": {},
   "outputs": [
    {
     "data": {
      "text/plain": [
       "PosixPath('models/simple-binary_crossentropy-237797-30-clip-2017')"
      ]
     },
     "execution_count": 4,
     "metadata": {},
     "output_type": "execute_result"
    }
   ],
   "source": [
    "data_tag = '2017'\n",
    "architecture = 'simple'\n",
    "loss = 'binary_crossentropy'\n",
    "normal_type = 'clip'\n",
    "dim = (np.load(feature_shards[0]).shape[:2])\n",
    "\n",
    "model_dir = Path('models').joinpath(\n",
    "    f'{architecture}-{loss}-{len(IDs)}-{len(utils.keep_classes)}-{normal_type}-{data_tag}'\n",
    ")\n",
    "model_dir.mkdir(parents=True, exist_ok=True)\n",
    "\n",
    "model_dir"
   ]
  },
  {
   "cell_type": "code",
   "execution_count": null,
   "id": "f29e1273-d2c4-4722-9616-a17bf0a422d4",
   "metadata": {},
   "outputs": [
    {
     "name": "stdout",
     "output_type": "stream",
     "text": [
      "Building model...\n",
      "Fitting...\n"
     ]
    },
    {
     "name": "stderr",
     "output_type": "stream",
     "text": [
      "2024-06-27 20:51:20.776390: W external/local_tsl/tsl/framework/cpu_allocator_impl.cc:83] Allocation of 66560000 exceeds 10% of free system memory.\n",
      "2024-06-27 20:51:21.292253: W external/local_tsl/tsl/framework/cpu_allocator_impl.cc:83] Allocation of 66560000 exceeds 10% of free system memory.\n",
      "2024-06-27 20:51:21.598702: W external/local_tsl/tsl/framework/cpu_allocator_impl.cc:83] Allocation of 66560000 exceeds 10% of free system memory.\n",
      "2024-06-27 20:51:21.652211: W external/local_tsl/tsl/framework/cpu_allocator_impl.cc:83] Allocation of 66560000 exceeds 10% of free system memory.\n",
      "2024-06-27 20:51:21.944118: W external/local_tsl/tsl/framework/cpu_allocator_impl.cc:83] Allocation of 66560000 exceeds 10% of free system memory.\n"
     ]
    },
    {
     "name": "stdout",
     "output_type": "stream",
     "text": [
      "\u001b[1m 108/3559\u001b[0m \u001b[37m━━━━━━━━━━━━━━━━━━━━\u001b[0m \u001b[1m36:22\u001b[0m 632ms/step - accuracy: 0.1275 - auc: 0.6762 - loss: 0.2831 - macrof1score: 0.0372 - microf1score: 0.0999 - prc: 0.1898 - precision: 0.4585 - recall: 0.0565 - weightedf1score: 0.0916"
     ]
    },
    {
     "name": "stderr",
     "output_type": "stream",
     "text": [
      "Process Keras_worker_ForkPoolWorker-2:\n",
      "Process Keras_worker_ForkPoolWorker-1:\n",
      "Process Keras_worker_ForkPoolWorker-3:\n",
      "Process Keras_worker_ForkPoolWorker-4:\n",
      "Traceback (most recent call last):\n",
      "Traceback (most recent call last):\n",
      "  File \"/home/pj/miniconda3/envs/tf/lib/python3.10/multiprocessing/process.py\", line 314, in _bootstrap\n",
      "    self.run()\n",
      "Traceback (most recent call last):\n",
      "  File \"/home/pj/miniconda3/envs/tf/lib/python3.10/multiprocessing/process.py\", line 314, in _bootstrap\n",
      "    self.run()\n",
      "  File \"/home/pj/miniconda3/envs/tf/lib/python3.10/multiprocessing/process.py\", line 108, in run\n",
      "    self._target(*self._args, **self._kwargs)\n",
      "  File \"/home/pj/miniconda3/envs/tf/lib/python3.10/multiprocessing/process.py\", line 314, in _bootstrap\n",
      "    self.run()\n",
      "  File \"/home/pj/miniconda3/envs/tf/lib/python3.10/multiprocessing/process.py\", line 108, in run\n",
      "    self._target(*self._args, **self._kwargs)\n",
      "  File \"/home/pj/miniconda3/envs/tf/lib/python3.10/multiprocessing/pool.py\", line 131, in worker\n",
      "    put((job, i, result))\n",
      "Traceback (most recent call last):\n",
      "  File \"/home/pj/miniconda3/envs/tf/lib/python3.10/multiprocessing/process.py\", line 108, in run\n",
      "    self._target(*self._args, **self._kwargs)\n",
      "  File \"/home/pj/miniconda3/envs/tf/lib/python3.10/multiprocessing/pool.py\", line 114, in worker\n",
      "    task = get()\n",
      "  File \"/home/pj/miniconda3/envs/tf/lib/python3.10/multiprocessing/process.py\", line 314, in _bootstrap\n",
      "    self.run()\n",
      "  File \"/home/pj/miniconda3/envs/tf/lib/python3.10/multiprocessing/pool.py\", line 125, in worker\n",
      "    result = (True, func(*args, **kwds))\n",
      "  File \"/home/pj/miniconda3/envs/tf/lib/python3.10/multiprocessing/queues.py\", line 377, in put\n",
      "    self._writer.send_bytes(obj)\n",
      "  File \"/home/pj/miniconda3/envs/tf/lib/python3.10/multiprocessing/queues.py\", line 364, in get\n",
      "    with self._rlock:\n",
      "  File \"/home/pj/miniconda3/envs/tf/lib/python3.10/multiprocessing/process.py\", line 108, in run\n",
      "    self._target(*self._args, **self._kwargs)\n",
      "  File \"/home/pj/miniconda3/envs/tf/lib/python3.10/site-packages/keras/src/trainers/data_adapters/py_dataset_adapter.py\", line 364, in get_index\n",
      "    return _SHARED_SEQUENCES[uid][i]\n",
      "  File \"/home/pj/miniconda3/envs/tf/lib/python3.10/multiprocessing/connection.py\", line 200, in send_bytes\n",
      "    self._send_bytes(m[offset:offset + size])\n",
      "  File \"/home/pj/sentinel/eu_forest/data_generator.py\", line 25, in __getitem__\n",
      "    X, y = self.data_generation(list_IDs_temp)\n",
      "  File \"/home/pj/miniconda3/envs/tf/lib/python3.10/multiprocessing/connection.py\", line 405, in _send_bytes\n",
      "    self._send(buf)\n",
      "  File \"/home/pj/sentinel/eu_forest/data_generator.py\", line 46, in data_generation\n",
      "    self.shards_dir.joinpath(f'labels').joinpath(f'label_{ID}.npy')\n",
      "  File \"/home/pj/miniconda3/envs/tf/lib/python3.10/pathlib.py\", line 845, in joinpath\n",
      "    def joinpath(self, *args):\n",
      "  File \"/home/pj/miniconda3/envs/tf/lib/python3.10/multiprocessing/synchronize.py\", line 95, in __enter__\n",
      "    return self._semlock.__enter__()\n",
      "  File \"/home/pj/miniconda3/envs/tf/lib/python3.10/multiprocessing/connection.py\", line 368, in _send\n",
      "    n = write(self._handle, buf)\n",
      "  File \"/home/pj/miniconda3/envs/tf/lib/python3.10/multiprocessing/pool.py\", line 114, in worker\n",
      "    task = get()\n",
      "KeyboardInterrupt\n",
      "KeyboardInterrupt\n",
      "KeyboardInterrupt\n",
      "  File \"/home/pj/miniconda3/envs/tf/lib/python3.10/multiprocessing/queues.py\", line 365, in get\n",
      "    res = self._reader.recv_bytes()\n",
      "  File \"/home/pj/miniconda3/envs/tf/lib/python3.10/multiprocessing/connection.py\", line 216, in recv_bytes\n",
      "    buf = self._recv_bytes(maxlength)\n",
      "  File \"/home/pj/miniconda3/envs/tf/lib/python3.10/multiprocessing/connection.py\", line 414, in _recv_bytes\n",
      "    buf = self._recv(4)\n",
      "  File \"/home/pj/miniconda3/envs/tf/lib/python3.10/multiprocessing/connection.py\", line 379, in _recv\n",
      "    chunk = read(handle, remaining)\n",
      "KeyboardInterrupt\n"
     ]
    }
   ],
   "source": [
    "reload(keras_model_creator)\n",
    "\n",
    "params = dict(\n",
    "    normal_type=normal_type,\n",
    "    utils=utils,\n",
    "    dim=dim,\n",
    "    shards_dir=shards_dir,\n",
    "    data_tag='2017',\n",
    "    IDs=IDs,\n",
    "    model_dir=model_dir,\n",
    "    bands=bands,\n",
    "    architecture=architecture,\n",
    "    loss=loss,\n",
    "    batch_size=64,\n",
    "    base_filters=32,\n",
    "    dropout=0.2,\n",
    "    epochs=1,\n",
    "    overwrite=False\n",
    ")\n",
    "\n",
    "model, testing_generator = keras_model_creator.KerasModelCreator(**params).run()"
   ]
  },
  {
   "cell_type": "code",
   "execution_count": null,
   "id": "f19411ca-97b2-45ee-a101-aaf2c87f7587",
   "metadata": {},
   "outputs": [],
   "source": [
    "eval_path = model_dir.joinpath('eval.csv')\n",
    "if eval_path.is_file():\n",
    "    print(pd.read_csv(eval_path))\n",
    "else:\n",
    "    r = model.evaluate(x=testing_generator, verbose=1, return_dict=True)\n",
    "    df = pd.DataFrame.from_dict(r, orient='index', columns=['score'])\n",
    "    df.to_csv(eval_path)\n",
    "    print(df)"
   ]
  },
  {
   "cell_type": "code",
   "execution_count": null,
   "id": "77a57cfb-f044-4572-80c9-56b44f37a044",
   "metadata": {},
   "outputs": [],
   "source": [
    "preds_path = model_dir.joinpath('preds.npy')\n",
    "if preds_path.is_file():\n",
    "    y_pred = np.load(preds_path)\n",
    "else:\n",
    "    y_pred = model.predict(x=testing_generator, verbose=1)\n",
    "    np.save(preds_path, y_pred)"
   ]
  },
  {
   "cell_type": "code",
   "execution_count": null,
   "id": "78dc75e3-1c10-4ddd-9c7e-246310b1bd02",
   "metadata": {},
   "outputs": [],
   "source": [
    "labels_path = model_dir.joinpath('true.npy')\n",
    "total_batches = testing_generator.__len__()\n",
    "if labels_path.is_file():\n",
    "    y_true = np.load(labels_path)\n",
    "else:\n",
    "    y_true = []\n",
    "    for i, (x, y) in enumerate(tqdm(testing_generator, total=total_batches-1)):\n",
    "        y_true.append(y)\n",
    "        if i > total_batches - 2:\n",
    "            break\n",
    "    y_true = np.vstack(y_true)\n",
    "    np.save(labels_path, y_true)"
   ]
  },
  {
   "cell_type": "code",
   "execution_count": null,
   "id": "189634b8-0482-4443-a909-6ec323fec15d",
   "metadata": {},
   "outputs": [],
   "source": [
    "cm = confusion_matrix(y_true.flatten().astype(int), (y_pred > 0.3).flatten().astype(int))\n",
    "ConfusionMatrixDisplay(confusion_matrix=cm).plot()"
   ]
  },
  {
   "cell_type": "code",
   "execution_count": null,
   "id": "4b31e04e-9435-44d6-95d4-a9258e024215",
   "metadata": {},
   "outputs": [],
   "source": [
    "import matplotlib.pyplot as plt\n",
    "\n",
    "class_names = pd.read_csv('full_dummies.csv').columns.loc[utils.keep_classes]\n",
    "\n",
    "# ['Abies alba', 'Acer campestre', 'Acer pseudoplatanus', 'Alnus glutinosa', 'Alnus incana', \n",
    "#         'Betula pendula', 'Betula pubescens', 'Carpinus betulus', 'Castanea sativa', \n",
    "#         'Fagus sylvatica', 'Fraxinus excelsior', 'Larix decidua', 'Picea abies', \n",
    "#         'Picea sitchensis', 'Pinus halepensis', 'Pinus nigra', 'Pinus pinaster', \n",
    "#         'Pinus sylvestris', 'Populus tremula', 'Prunus avium', 'Pseudotsuga menziesii', \n",
    "#         'Quercus faginea', 'Quercus ilex', 'Quercus petraea', 'Quercus pubescens', 'Quercus pyrenaica', \n",
    "#         'Quercus robur', 'Quercus suber', 'Salix caprea', 'Sorbus aucuparia']\n",
    "\n",
    "f, axes = plt.subplots(6, 5, figsize=(25, 30))\n",
    "axes = axes.ravel()\n",
    "for label in range(y_true.shape[1]):\n",
    "    cm = confusion_matrix(y_true[..., label].astype(int), (y_pred[..., label] > 0.5).astype(int))\n",
    "    disp = ConfusionMatrixDisplay(cm)\n",
    "    disp.plot(ax=axes[label], values_format='.4g')\n",
    "    disp.ax_.set_title(f'{class_names[label]}')\n",
    "    if label < 25:\n",
    "        disp.ax_.set_xlabel('')\n",
    "    if label % 5 != 0:\n",
    "        disp.ax_.set_ylabel('')\n",
    "    disp.im_.colorbar.remove()\n",
    "\n",
    "plt.subplots_adjust(wspace=0.2, hspace=0.001)\n",
    "f.colorbar(disp.im_, ax=axes)\n",
    "plt.show()\n"
   ]
  },
  {
   "cell_type": "code",
   "execution_count": null,
   "id": "875120d1-0f74-4894-98e3-19e2d8adb8cf",
   "metadata": {},
   "outputs": [],
   "source": []
  },
  {
   "cell_type": "code",
   "execution_count": null,
   "id": "8ded61bd-6527-4b12-bd22-d3404e4a5040",
   "metadata": {},
   "outputs": [],
   "source": [
    "# tf.keras.utils.plot_model(model, show_shapes=True)\n",
    "# model.summary()"
   ]
  },
  {
   "cell_type": "code",
   "execution_count": null,
   "id": "bb61ad19-349f-4c6b-ad12-fdc6a46117fc",
   "metadata": {},
   "outputs": [],
   "source": []
  },
  {
   "cell_type": "code",
   "execution_count": null,
   "id": "138d220c-0c2d-459a-b995-ec95e3036002",
   "metadata": {},
   "outputs": [],
   "source": []
  },
  {
   "cell_type": "code",
   "execution_count": null,
   "id": "b5189141-5f07-4aac-a68f-00a24ec5d69d",
   "metadata": {},
   "outputs": [],
   "source": [
    "# import subprocess\n",
    "# subprocess.run(['sudo', 'shutdown', 'now'])"
   ]
  },
  {
   "cell_type": "code",
   "execution_count": null,
   "id": "ea018983-f959-487b-9bda-61c90da0d6d9",
   "metadata": {},
   "outputs": [],
   "source": []
  },
  {
   "cell_type": "code",
   "execution_count": null,
   "id": "858b81a8-f8a7-4da4-8614-ba08abd93a0a",
   "metadata": {},
   "outputs": [],
   "source": []
  }
 ],
 "metadata": {
  "kernelspec": {
   "display_name": "Python 3 (ipykernel)",
   "language": "python",
   "name": "python3"
  },
  "language_info": {
   "codemirror_mode": {
    "name": "ipython",
    "version": 3
   },
   "file_extension": ".py",
   "mimetype": "text/x-python",
   "name": "python",
   "nbconvert_exporter": "python",
   "pygments_lexer": "ipython3",
   "version": "3.10.14"
  },
  "widgets": {
   "application/vnd.jupyter.widget-state+json": {
    "state": {},
    "version_major": 2,
    "version_minor": 0
   }
  }
 },
 "nbformat": 4,
 "nbformat_minor": 5
}
