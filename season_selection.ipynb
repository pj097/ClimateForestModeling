{
 "cells": [
  {
   "cell_type": "code",
   "execution_count": 1,
   "id": "45a09dcb-b90b-45d7-b5a2-54996a34ada0",
   "metadata": {},
   "outputs": [
    {
     "name": "stdout",
     "output_type": "stream",
     "text": [
      "env: TF_CPP_MIN_LOG_LEVEL=3\n"
     ]
    }
   ],
   "source": [
    "%env TF_CPP_MIN_LOG_LEVEL=3\n",
    "\n",
    "import numpy as np\n",
    "import pandas as pd\n",
    "\n",
    "import plotly.express as px\n",
    "import plotly.graph_objects as go\n",
    "from plotly.subplots import make_subplots\n",
    "\n",
    "from tqdm.notebook import tqdm\n",
    "from pathlib import Path\n",
    "import itertools\n",
    "\n",
    "from sklearn.model_selection import train_test_split\n",
    "from sklearn.metrics import classification_report, confusion_matrix, ConfusionMatrixDisplay, multilabel_confusion_matrix\n",
    "from sklearn.utils import shuffle\n",
    "\n",
    "import tensorflow as tf\n",
    "\n",
    "from importlib import reload\n",
    "import sentinel_utils\n",
    "import keras_model_creator\n",
    "import plot_utils\n",
    "\n",
    "from data_generator import DataGenerator\n",
    "\n",
    "pd.options.mode.copy_on_write = True"
   ]
  },
  {
   "cell_type": "code",
   "execution_count": 2,
   "id": "5bbae9e9-0edb-416a-a7cb-505ac85294a5",
   "metadata": {},
   "outputs": [],
   "source": [
    "# %load_ext tensorboard\n",
    "# %tensorboard --logdir=$tensorboard_dir\n",
    "# tensorboard_dir = str(model_dir.joinpath('tensorboard_logs'))"
   ]
  },
  {
   "cell_type": "code",
   "execution_count": 3,
   "id": "0749fbd3-b6ee-443c-b12c-741c2ee1f1bb",
   "metadata": {},
   "outputs": [],
   "source": [
    "sentinel_bands = [f'B{x}' for x in range(2, 9)] + ['B8A', 'B11', 'B12']\n",
    "\n",
    "band_indices = list(range(len(sentinel_bands)))"
   ]
  },
  {
   "cell_type": "code",
   "execution_count": 4,
   "id": "20193ece-bc6f-4569-8d56-219fab09ae0b",
   "metadata": {},
   "outputs": [],
   "source": [
    "loss = 'binary_crossentropy'\n",
    "batch_size = 64\n",
    "base_filters = 32\n",
    "shards_dir = Path.home().joinpath('sentinel_data', 'shards')\n",
    "\n",
    "fixed_params = dict(\n",
    "    shards_dir=shards_dir,\n",
    "    band_indices=band_indices,\n",
    "    loss=loss,\n",
    "    batch_size=batch_size,\n",
    "    base_filters=base_filters,\n",
    "    dropout=0.2,\n",
    "    epochs=11,\n",
    "    overwrite=False,\n",
    "    verbose=1,\n",
    "    print_log=False\n",
    ")"
   ]
  },
  {
   "cell_type": "markdown",
   "id": "e683411a-1a82-436d-a7c7-9a9472ca2f1f",
   "metadata": {},
   "source": [
    "Select the season(s) to use and calculate the mean and standard deviation for each band if required. These are used to normalise the batches.\n",
    "\n",
    "Select the classes to use based on minimum occorrences. This also removes labels that do not have any selected classes."
   ]
  },
  {
   "cell_type": "code",
   "execution_count": null,
   "id": "d5926fbe-15c2-4fa6-8977-99eafdcb5ca3",
   "metadata": {},
   "outputs": [
    {
     "name": "stdout",
     "output_type": "stream",
     "text": [
      "Epoch 1/11\n"
     ]
    },
    {
     "name": "stderr",
     "output_type": "stream",
     "text": [
      "WARNING: All log messages before absl::InitializeLog() is called are written to STDERR\n",
      "I0000 00:00:1722156123.287430   21880 service.cc:145] XLA service 0x7fe800001bf0 initialized for platform CUDA (this does not guarantee that XLA will be used). Devices:\n",
      "I0000 00:00:1722156123.287473   21880 service.cc:153]   StreamExecutor device (0): NVIDIA GeForce RTX 4070 Ti, Compute Capability 8.9\n",
      "WARNING: All log messages before absl::InitializeLog() is called are written to STDERR\n",
      "I0000 00:00:1722156142.341086   21880 asm_compiler.cc:369] ptxas warning : Registers are spilled to local memory in function 'input_slice_fusion_3', 28 bytes spill stores, 4 bytes spill loads\n",
      "\n",
      "I0000 00:00:1722156142.364693   21880 device_compiler.h:188] Compiled cluster using XLA!  This line is logged at most once for the lifetime of the process.\n"
     ]
    },
    {
     "name": "stdout",
     "output_type": "stream",
     "text": [
      "\u001b[1m3550/3550\u001b[0m \u001b[32m━━━━━━━━━━━━━━━━━━━━\u001b[0m\u001b[37m\u001b[0m \u001b[1m0s\u001b[0m 485ms/step - accuracy: 0.4684 - auc: 0.8861 - loss: 0.3481 - macrof1score: 0.4325 - microf1score: 0.6284 - prc: 0.7308 - precision: 0.7381 - recall: 0.5496 - weightedf1score: 0.5903"
     ]
    },
    {
     "name": "stderr",
     "output_type": "stream",
     "text": [
      "I0000 00:00:1722157879.738453   24106 asm_compiler.cc:369] ptxas warning : Registers are spilled to local memory in function 'triton_gemm_dot_1287', 308 bytes spill stores, 308 bytes spill loads\n",
      "\n",
      "I0000 00:00:1722157879.773642   24108 asm_compiler.cc:369] ptxas warning : Registers are spilled to local memory in function 'triton_gemm_dot_1287', 192 bytes spill stores, 192 bytes spill loads\n",
      "\n"
     ]
    },
    {
     "name": "stdout",
     "output_type": "stream",
     "text": [
      "\n",
      "Epoch 1: val_recall improved from 0.50000 to 0.63527, saving model to models/season_selection/binary_crossentropy-237212-7-10-03_06_09_12-64-32-lstm/model.keras\n",
      "\u001b[1m3550/3550\u001b[0m \u001b[32m━━━━━━━━━━━━━━━━━━━━\u001b[0m\u001b[37m\u001b[0m \u001b[1m1841s\u001b[0m 511ms/step - accuracy: 0.4684 - auc: 0.8861 - loss: 0.3481 - macrof1score: 0.4325 - microf1score: 0.6285 - prc: 0.7308 - precision: 0.7381 - recall: 0.5496 - weightedf1score: 0.5903 - val_accuracy: 0.5209 - val_auc: 0.9257 - val_loss: 0.2908 - val_macrof1score: 0.5361 - val_microf1score: 0.7099 - val_prc: 0.8173 - val_precision: 0.8044 - val_recall: 0.6353 - val_weightedf1score: 0.6815 - learning_rate: 1.0000e-04\n",
      "Epoch 2/11\n",
      "\u001b[1m3550/3550\u001b[0m \u001b[32m━━━━━━━━━━━━━━━━━━━━\u001b[0m\u001b[37m\u001b[0m \u001b[1m0s\u001b[0m 586ms/step - accuracy: 0.5281 - auc: 0.9225 - loss: 0.2946 - macrof1score: 0.5412 - microf1score: 0.7103 - prc: 0.8050 - precision: 0.7799 - recall: 0.6522 - weightedf1score: 0.6821\n",
      "Epoch 2: val_recall improved from 0.63527 to 0.65054, saving model to models/season_selection/binary_crossentropy-237212-7-10-03_06_09_12-64-32-lstm/model.keras\n",
      "\u001b[1m3550/3550\u001b[0m \u001b[32m━━━━━━━━━━━━━━━━━━━━\u001b[0m\u001b[37m\u001b[0m \u001b[1m2170s\u001b[0m 609ms/step - accuracy: 0.5281 - auc: 0.9225 - loss: 0.2946 - macrof1score: 0.5412 - microf1score: 0.7103 - prc: 0.8050 - precision: 0.7799 - recall: 0.6522 - weightedf1score: 0.6821 - val_accuracy: 0.5422 - val_auc: 0.9203 - val_loss: 0.2988 - val_macrof1score: 0.5520 - val_microf1score: 0.7032 - val_prc: 0.8020 - val_precision: 0.7651 - val_recall: 0.6505 - val_weightedf1score: 0.6799 - learning_rate: 1.0000e-04\n",
      "Epoch 3/11\n",
      "\u001b[1m3550/3550\u001b[0m \u001b[32m━━━━━━━━━━━━━━━━━━━━\u001b[0m\u001b[37m\u001b[0m \u001b[1m0s\u001b[0m 582ms/step - accuracy: 0.5353 - auc: 0.9286 - loss: 0.2836 - macrof1score: 0.5652 - microf1score: 0.7241 - prc: 0.8184 - precision: 0.7857 - recall: 0.6715 - weightedf1score: 0.6982\n",
      "Epoch 3: val_recall improved from 0.65054 to 0.68516, saving model to models/season_selection/binary_crossentropy-237212-7-10-03_06_09_12-64-32-lstm/model.keras\n",
      "\u001b[1m3550/3550\u001b[0m \u001b[32m━━━━━━━━━━━━━━━━━━━━\u001b[0m\u001b[37m\u001b[0m \u001b[1m2160s\u001b[0m 606ms/step - accuracy: 0.5353 - auc: 0.9286 - loss: 0.2836 - macrof1score: 0.5652 - microf1score: 0.7241 - prc: 0.8184 - precision: 0.7857 - recall: 0.6715 - weightedf1score: 0.6982 - val_accuracy: 0.5094 - val_auc: 0.9344 - val_loss: 0.2745 - val_macrof1score: 0.5707 - val_microf1score: 0.7358 - val_prc: 0.8331 - val_precision: 0.7945 - val_recall: 0.6852 - val_weightedf1score: 0.7071 - learning_rate: 1.0000e-04\n",
      "Epoch 4/11\n",
      "\u001b[1m3550/3550\u001b[0m \u001b[32m━━━━━━━━━━━━━━━━━━━━\u001b[0m\u001b[37m\u001b[0m \u001b[1m0s\u001b[0m 557ms/step - accuracy: 0.5386 - auc: 0.9326 - loss: 0.2766 - macrof1score: 0.5757 - microf1score: 0.7318 - prc: 0.8271 - precision: 0.7891 - recall: 0.6822 - weightedf1score: 0.7070\n",
      "Epoch 4: val_recall improved from 0.68516 to 0.70766, saving model to models/season_selection/binary_crossentropy-237212-7-10-03_06_09_12-64-32-lstm/model.keras\n",
      "\u001b[1m3550/3550\u001b[0m \u001b[32m━━━━━━━━━━━━━━━━━━━━\u001b[0m\u001b[37m\u001b[0m \u001b[1m2067s\u001b[0m 580ms/step - accuracy: 0.5386 - auc: 0.9326 - loss: 0.2766 - macrof1score: 0.5757 - microf1score: 0.7318 - prc: 0.8271 - precision: 0.7891 - recall: 0.6822 - weightedf1score: 0.7070 - val_accuracy: 0.5482 - val_auc: 0.9399 - val_loss: 0.2630 - val_macrof1score: 0.6093 - val_microf1score: 0.7497 - val_prc: 0.8464 - val_precision: 0.7971 - val_recall: 0.7077 - val_weightedf1score: 0.7284 - learning_rate: 1.0000e-04\n",
      "Epoch 5/11\n",
      "\u001b[1m3550/3550\u001b[0m \u001b[32m━━━━━━━━━━━━━━━━━━━━\u001b[0m\u001b[37m\u001b[0m \u001b[1m0s\u001b[0m 606ms/step - accuracy: 0.5413 - auc: 0.9358 - loss: 0.2703 - macrof1score: 0.5914 - microf1score: 0.7397 - prc: 0.8339 - precision: 0.7913 - recall: 0.6945 - weightedf1score: 0.7168\n",
      "Epoch 5: val_recall improved from 0.70766 to 0.70976, saving model to models/season_selection/binary_crossentropy-237212-7-10-03_06_09_12-64-32-lstm/model.keras\n",
      "\n",
      "Epoch 5: ReduceLROnPlateau reducing learning rate to 4.999999873689376e-05.\n",
      "\u001b[1m3550/3550\u001b[0m \u001b[32m━━━━━━━━━━━━━━━━━━━━\u001b[0m\u001b[37m\u001b[0m \u001b[1m2250s\u001b[0m 631ms/step - accuracy: 0.5413 - auc: 0.9358 - loss: 0.2703 - macrof1score: 0.5914 - microf1score: 0.7397 - prc: 0.8339 - precision: 0.7913 - recall: 0.6945 - weightedf1score: 0.7168 - val_accuracy: 0.5325 - val_auc: 0.9415 - val_loss: 0.2592 - val_macrof1score: 0.6145 - val_microf1score: 0.7532 - val_prc: 0.8492 - val_precision: 0.8022 - val_recall: 0.7098 - val_weightedf1score: 0.7332 - learning_rate: 1.0000e-04\n",
      "Epoch 6/11\n",
      "\u001b[1m3550/3550\u001b[0m \u001b[32m━━━━━━━━━━━━━━━━━━━━\u001b[0m\u001b[37m\u001b[0m \u001b[1m0s\u001b[0m 554ms/step - accuracy: 0.5486 - auc: 0.9403 - loss: 0.2612 - macrof1score: 0.6095 - microf1score: 0.7494 - prc: 0.8438 - precision: 0.7952 - recall: 0.7085 - weightedf1score: 0.7288\n",
      "Epoch 6: val_recall did not improve from 0.70976\n",
      "\u001b[1m3550/3550\u001b[0m \u001b[32m━━━━━━━━━━━━━━━━━━━━\u001b[0m\u001b[37m\u001b[0m \u001b[1m2064s\u001b[0m 579ms/step - accuracy: 0.5486 - auc: 0.9403 - loss: 0.2612 - macrof1score: 0.6095 - microf1score: 0.7494 - prc: 0.8438 - precision: 0.7952 - recall: 0.7085 - weightedf1score: 0.7288 - val_accuracy: 0.5346 - val_auc: 0.9438 - val_loss: 0.2549 - val_macrof1score: 0.6195 - val_microf1score: 0.7544 - val_prc: 0.8538 - val_precision: 0.8102 - val_recall: 0.7059 - val_weightedf1score: 0.7357 - learning_rate: 5.0000e-05\n",
      "Epoch 7/11\n",
      "\u001b[1m3550/3550\u001b[0m \u001b[32m━━━━━━━━━━━━━━━━━━━━\u001b[0m\u001b[37m\u001b[0m \u001b[1m0s\u001b[0m 550ms/step - accuracy: 0.5498 - auc: 0.9423 - loss: 0.2575 - macrof1score: 0.6202 - microf1score: 0.7540 - prc: 0.8478 - precision: 0.7955 - recall: 0.7166 - weightedf1score: 0.7353\n",
      "Epoch 7: val_recall did not improve from 0.70976\n",
      "\u001b[1m3550/3550\u001b[0m \u001b[32m━━━━━━━━━━━━━━━━━━━━\u001b[0m\u001b[37m\u001b[0m \u001b[1m2044s\u001b[0m 573ms/step - accuracy: 0.5498 - auc: 0.9423 - loss: 0.2575 - macrof1score: 0.6202 - microf1score: 0.7540 - prc: 0.8478 - precision: 0.7955 - recall: 0.7166 - weightedf1score: 0.7353 - val_accuracy: 0.5481 - val_auc: 0.9432 - val_loss: 0.2556 - val_macrof1score: 0.6326 - val_microf1score: 0.7543 - val_prc: 0.8544 - val_precision: 0.8082 - val_recall: 0.7071 - val_weightedf1score: 0.7395 - learning_rate: 5.0000e-05\n",
      "Epoch 8/11\n",
      "\u001b[1m 268/3550\u001b[0m \u001b[32m━\u001b[0m\u001b[37m━━━━━━━━━━━━━━━━━━━\u001b[0m \u001b[1m32:30\u001b[0m 594ms/step - accuracy: 0.5522 - auc: 0.9443 - loss: 0.2530 - macrof1score: 0.6338 - microf1score: 0.7586 - prc: 0.8522 - precision: 0.8004 - recall: 0.7210 - weightedf1score: 0.7414"
     ]
    }
   ],
   "source": [
    "reload(sentinel_utils)\n",
    "reload(keras_model_creator)\n",
    "utils = sentinel_utils.SentinelUtils(min_occurrences=20000)\n",
    "\n",
    "all_seasons_names = ['spring', 'summer', 'autumn', 'winter']\n",
    "all_seasons = ['03', '06', '09', '12']\n",
    "season_combinations = list(itertools.chain.from_iterable(\n",
    "    itertools.combinations(all_seasons, r) for r in range(1, len(all_seasons)+1)\n",
    "))\n",
    "\n",
    "model_parent_dir = Path('models', 'season_selection')\n",
    "for seasons in [all_seasons]:\n",
    "# for seasons in (pbar := tqdm(season_combinations)):\n",
    "    # pbar.set_description('-'.join(seasons))\n",
    "\n",
    "    selected_classes = utils.get_processed_labels()\n",
    "    data_summary = utils.get_data_summary(\n",
    "        shards_dir, seasons, selected_classes)\n",
    "                   \n",
    "    model_dir = model_parent_dir.joinpath(\n",
    "        f'{loss}-{len(selected_classes.index)}'\n",
    "        f'-{selected_classes.shape[1]}-{len(band_indices)}'\n",
    "        f'-{\"_\".join(seasons)}-{batch_size}-{base_filters}-lstm'\n",
    "    )\n",
    "    model_dir.mkdir(parents=True, exist_ok=True)\n",
    "\n",
    "    changing_params = dict(\n",
    "        selected_classes=selected_classes,\n",
    "        model_dir=model_dir,\n",
    "        seasons=seasons,\n",
    "        data_summary=data_summary\n",
    "    )\n",
    "    params = fixed_params | changing_params\n",
    "    keras_model_creator.KerasModelCreator(**params).run()"
   ]
  },
  {
   "cell_type": "markdown",
   "id": "3837c097-514c-49ee-8b9b-df10da53ebfc",
   "metadata": {},
   "source": [
    "Evaluate the model for given years and save the results in the model's directory."
   ]
  },
  {
   "cell_type": "code",
   "execution_count": null,
   "id": "6b433488-a51d-4b9a-b120-df7be914191f",
   "metadata": {},
   "outputs": [],
   "source": [
    "reload(plot_utils)\n",
    "\n",
    "best_metric = 'val_weightedf1score'\n",
    "best_rows = []\n",
    "\n",
    "for seasons in list(season_combinations):\n",
    "    model_dirs = list(model_parent_dir.glob(f'*-{\"_\".join(seasons)}-*'))\n",
    "    \n",
    "    for model_dir in reversed(model_dirs):\n",
    "        df = pd.read_csv(model_dir.joinpath('model.log'))\n",
    "        best = df[df[best_metric] == df[best_metric].max()]\n",
    "        \n",
    "\n",
    "        if 'lstm' in str(model_dir):\n",
    "            best[all_seasons_names] = [int(s in seasons)*2 for s in all_seasons]\n",
    "        else:\n",
    "            best[all_seasons_names] = [int(s in seasons) for s in all_seasons]\n",
    "            \n",
    "        best_rows.append(best)\n",
    "best_df = pd.concat(best_rows).round(2).reset_index(drop=True)\n",
    "plot_utils.PlotUtils().line_heatmap(\n",
    "    best_df, all_seasons_names, [0.2, 0.8]\n",
    ")"
   ]
  },
  {
   "cell_type": "code",
   "execution_count": null,
   "id": "77a57cfb-f044-4572-80c9-56b44f37a044",
   "metadata": {},
   "outputs": [],
   "source": [
    "# for eval_year in [2017, 2020, 2021, 2022, 2023]:\n",
    "    # eval_generator = DataGenerator(\n",
    "        # utils.selected_classes.index, shuffle=False, year=eval_year, **params)\n",
    "#     preds_path = model_dir.joinpath(f\"preds_{params['year']}.npy\")\n",
    "#     if preds_path.is_file():\n",
    "#         y_pred = np.load(preds_path)\n",
    "#     else:\n",
    "#         y_pred = model.predict(x=eval_generator, verbose=1)\n",
    "#         np.save(preds_path, y_pred)\n",
    "\n",
    "#     y_true = utils.selected_classes.iloc[:y_pred.shape[0]].to_numpy()\n",
    "#     cm = confusion_matrix(y_true.flatten(), (y_pred > 0.5).flatten().astype(int))\n",
    "#     plot = ConfusionMatrixDisplay(confusion_matrix=cm).plot()\n",
    "#     display(plot)"
   ]
  },
  {
   "cell_type": "markdown",
   "id": "ea3e6f12-dd14-4343-9c6d-773fa3a785e2",
   "metadata": {},
   "source": [
    "Visualise the confusion matrix for each class."
   ]
  },
  {
   "cell_type": "code",
   "execution_count": null,
   "id": "4b31e04e-9435-44d6-95d4-a9258e024215",
   "metadata": {},
   "outputs": [],
   "source": [
    "# import matplotlib.pyplot as plt\n",
    "\n",
    "# class_names = utils.selected_classes.columns\n",
    "\n",
    "# f, axes = plt.subplots(4, 2, figsize=(25, 30))\n",
    "# axes = axes.ravel()\n",
    "# for label in range(y_true.shape[1]):\n",
    "#     cm = confusion_matrix(y_true[..., label].astype(int), (y_pred[..., label] > 0.5).astype(int))\n",
    "#     disp = ConfusionMatrixDisplay(cm)\n",
    "#     disp.plot(ax=axes[label], values_format='.4g')\n",
    "#     disp.ax_.set_title(f'{class_names[label]}')\n",
    "#     if label < 25:\n",
    "#         disp.ax_.set_xlabel('')\n",
    "#     if label % 5 != 0:\n",
    "#         disp.ax_.set_ylabel('')\n",
    "#     disp.im_.colorbar.remove()\n",
    "\n",
    "# plt.subplots_adjust(wspace=0.2, hspace=0.001)\n",
    "# f.colorbar(disp.im_, ax=axes)\n",
    "# plt.show()\n"
   ]
  },
  {
   "cell_type": "code",
   "execution_count": null,
   "id": "8ded61bd-6527-4b12-bd22-d3404e4a5040",
   "metadata": {},
   "outputs": [],
   "source": [
    "# import tensorflow\n",
    "# tensorflow.keras.utils.plot_model(model, show_shapes=True)\n",
    "# model.summary()"
   ]
  },
  {
   "cell_type": "markdown",
   "id": "f641a5cd-e57c-4d5f-90cd-85f50929af91",
   "metadata": {},
   "source": [
    "Visualise the model."
   ]
  },
  {
   "cell_type": "code",
   "execution_count": null,
   "id": "bd7dfc9b-afde-43c1-a167-9a8fba6690ab",
   "metadata": {},
   "outputs": [],
   "source": [
    "# import tensorflow\n",
    "# tensorflow.keras.utils.plot_model(\n",
    "#     model, to_file=model_dir.joinpath('model.png'),\n",
    "#     show_shapes=True, show_layer_activations=True,\n",
    "# )"
   ]
  },
  {
   "cell_type": "markdown",
   "id": "70a0cc0b-d45a-4a45-9c4f-beac8233e779",
   "metadata": {},
   "source": [
    "Correlate the model with climate variables (to move?)"
   ]
  },
  {
   "cell_type": "code",
   "execution_count": null,
   "id": "138d220c-0c2d-459a-b995-ec95e3036002",
   "metadata": {},
   "outputs": [],
   "source": [
    "# import plotly.express as px\n",
    "\n",
    "# class_names = utils.selected_classes.columns\n",
    "# indices = utils.selected_classes.index\n",
    "\n",
    "# preds_path = model_dir.joinpath(f'preds_2020.npy')\n",
    "# y_prev = np.load(preds_path)\n",
    "\n",
    "# weather_prev = pd.read_csv(Path('weather_data', 'era5_2020.csv'))\n",
    "# eval_years = [2021, 2022, 2023]\n",
    "# corrs = []\n",
    "\n",
    "# for eval_year in eval_years:\n",
    "#     preds_path = model_dir.joinpath(f'preds_{eval_year}.npy')\n",
    "#     y_pred = np.load(preds_path)\n",
    "#     y_diff = pd.DataFrame(y_pred - y_prev, columns=class_names)\n",
    "    \n",
    "#     weather = pd.read_csv(Path('weather_data', f'era5_{eval_year}.csv'))\n",
    "#     weather_diff = ((weather - weather_prev)\n",
    "#                     .loc[indices]\n",
    "#                     .iloc[:y_pred.shape[0]]\n",
    "#                     .iloc[y_diff.index])\n",
    "    \n",
    "#     corr = y_diff.join(weather_diff).corr(method='pearson').round(2)\n",
    "#     corrs.append(corr)\n",
    "\n",
    "#     y_prev = y_pred\n",
    "#     weather_prev = weather\n",
    "\n",
    "# fig = px.imshow(\n",
    "#     np.array(corrs),\n",
    "#     animation_frame=0,\n",
    "#     labels=dict(color=\"Corr coef\"),\n",
    "#     x=corrs[0].index,\n",
    "#     y=corrs[0].columns,\n",
    "#     title='Annual correlation heatmap',\n",
    "#     text_auto=True, aspect='auto', zmin=0, height=500\n",
    "# )\n",
    "# fig.layout.sliders[0]['currentvalue']['prefix'] = ''\n",
    "# for year, step in zip(eval_years, fig.layout.sliders[0].steps):\n",
    "#     step.label = str(year)\n",
    "\n",
    "# fig"
   ]
  },
  {
   "cell_type": "code",
   "execution_count": null,
   "id": "b5189141-5f07-4aac-a68f-00a24ec5d69d",
   "metadata": {},
   "outputs": [],
   "source": []
  },
  {
   "cell_type": "code",
   "execution_count": null,
   "id": "ea018983-f959-487b-9bda-61c90da0d6d9",
   "metadata": {},
   "outputs": [],
   "source": []
  },
  {
   "cell_type": "code",
   "execution_count": null,
   "id": "b9c133ed-b865-42ad-9935-fa99da84321c",
   "metadata": {},
   "outputs": [],
   "source": []
  },
  {
   "cell_type": "code",
   "execution_count": null,
   "id": "66ab74e4-7a10-4448-a3ae-4c8b169e5d81",
   "metadata": {},
   "outputs": [],
   "source": []
  },
  {
   "cell_type": "code",
   "execution_count": null,
   "id": "b460e4fc-dc07-4238-bfa4-576718377b57",
   "metadata": {},
   "outputs": [],
   "source": []
  },
  {
   "cell_type": "code",
   "execution_count": null,
   "id": "4a77bb90-895e-499d-9071-d827b97c3881",
   "metadata": {},
   "outputs": [],
   "source": []
  }
 ],
 "metadata": {
  "kernelspec": {
   "display_name": "Python 3 (ipykernel)",
   "language": "python",
   "name": "python3"
  },
  "language_info": {
   "codemirror_mode": {
    "name": "ipython",
    "version": 3
   },
   "file_extension": ".py",
   "mimetype": "text/x-python",
   "name": "python",
   "nbconvert_exporter": "python",
   "pygments_lexer": "ipython3",
   "version": "3.10.14"
  },
  "widgets": {
   "application/vnd.jupyter.widget-state+json": {
    "state": {},
    "version_major": 2,
    "version_minor": 0
   }
  }
 },
 "nbformat": 4,
 "nbformat_minor": 5
}
