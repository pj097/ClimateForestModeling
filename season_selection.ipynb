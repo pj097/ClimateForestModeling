{
 "cells": [
  {
   "cell_type": "code",
   "execution_count": 1,
   "id": "45a09dcb-b90b-45d7-b5a2-54996a34ada0",
   "metadata": {},
   "outputs": [
    {
     "name": "stdout",
     "output_type": "stream",
     "text": [
      "env: TF_CPP_MIN_LOG_LEVEL=3\n"
     ]
    }
   ],
   "source": [
    "%env TF_CPP_MIN_LOG_LEVEL=3\n",
    "\n",
    "import numpy as np\n",
    "import pandas as pd\n",
    "\n",
    "import plotly.express as px\n",
    "import plotly.graph_objects as go\n",
    "from plotly.subplots import make_subplots\n",
    "\n",
    "from tqdm.notebook import tqdm\n",
    "from pathlib import Path\n",
    "import itertools\n",
    "\n",
    "from sklearn.model_selection import train_test_split\n",
    "from sklearn.metrics import classification_report, confusion_matrix, ConfusionMatrixDisplay, multilabel_confusion_matrix\n",
    "from sklearn.utils import shuffle\n",
    "\n",
    "import tensorflow as tf\n",
    "\n",
    "from importlib import reload\n",
    "import sentinel_utils\n",
    "import keras_model_creator\n",
    "import plot_utils\n",
    "\n",
    "from data_generator import DataGenerator\n",
    "\n",
    "pd.options.mode.copy_on_write = True"
   ]
  },
  {
   "cell_type": "code",
   "execution_count": 2,
   "id": "5bbae9e9-0edb-416a-a7cb-505ac85294a5",
   "metadata": {},
   "outputs": [],
   "source": [
    "# %load_ext tensorboard\n",
    "# %tensorboard --logdir=$tensorboard_dir\n",
    "# tensorboard_dir = str(model_dir.joinpath('tensorboard_logs'))"
   ]
  },
  {
   "cell_type": "code",
   "execution_count": 3,
   "id": "0749fbd3-b6ee-443c-b12c-741c2ee1f1bb",
   "metadata": {},
   "outputs": [],
   "source": [
    "sentinel_bands = [f'B{x}' for x in range(2, 9)] + ['B8A', 'B11', 'B12']\n",
    "\n",
    "band_indices = list(range(len(sentinel_bands)))"
   ]
  },
  {
   "cell_type": "code",
   "execution_count": 4,
   "id": "20193ece-bc6f-4569-8d56-219fab09ae0b",
   "metadata": {},
   "outputs": [],
   "source": [
    "loss = 'binary_crossentropy'\n",
    "batch_size = 64\n",
    "base_filters = 32\n",
    "shards_dir = Path.home().joinpath('sentinel_data', 'shards')\n",
    "\n",
    "fixed_params = dict(\n",
    "    shards_dir=shards_dir,\n",
    "    band_indices=band_indices,\n",
    "    loss=loss,\n",
    "    batch_size=batch_size,\n",
    "    base_filters=base_filters,\n",
    "    dropout=0.2,\n",
    "    epochs=11,\n",
    "    overwrite=False,\n",
    "    verbose=1,\n",
    "    print_log=False\n",
    ")"
   ]
  },
  {
   "cell_type": "markdown",
   "id": "e683411a-1a82-436d-a7c7-9a9472ca2f1f",
   "metadata": {},
   "source": [
    "Select the season(s) to use and calculate the mean and standard deviation for each band if required. These are used to normalise the batches.\n",
    "\n",
    "Select the classes to use based on minimum occorrences. This also removes labels that do not have any selected classes."
   ]
  },
  {
   "cell_type": "code",
   "execution_count": 5,
   "id": "d5926fbe-15c2-4fa6-8977-99eafdcb5ca3",
   "metadata": {},
   "outputs": [
    {
     "data": {
      "application/vnd.jupyter.widget-view+json": {
       "model_id": "79d5c4f1e2eb437f87dc89eaffedc63b",
       "version_major": 2,
       "version_minor": 0
      },
      "text/plain": [
       "  0%|          | 0/15 [00:00<?, ?it/s]"
      ]
     },
     "metadata": {},
     "output_type": "display_data"
    }
   ],
   "source": [
    "reload(sentinel_utils)\n",
    "reload(keras_model_creator)\n",
    "utils = sentinel_utils.SentinelUtils(min_occurrences=20000)\n",
    "\n",
    "all_seasons_names = ['spring', 'summer', 'autumn', 'winter']\n",
    "all_seasons = ['03', '06', '09', '12']\n",
    "season_combinations = list(itertools.chain.from_iterable(\n",
    "    itertools.combinations(all_seasons, r) for r in range(1, len(all_seasons)+1)\n",
    "))\n",
    "\n",
    "model_parent_dir = Path('models', 'season_selection')\n",
    "for seasons in (pbar := tqdm(season_combinations)):\n",
    "    break\n",
    "    pbar.set_description('-'.join(seasons))\n",
    "\n",
    "    selected_classes = utils.get_processed_labels()\n",
    "    data_summary = utils.get_data_summary(\n",
    "        shards_dir, seasons, selected_classes)\n",
    "                   \n",
    "    model_dir = model_parent_dir.joinpath(\n",
    "        f'{loss}-{len(selected_classes.index)}'\n",
    "        f'-{selected_classes.shape[1]}-{len(band_indices)}'\n",
    "        f'-{\"_\".join(seasons)}-{batch_size}-{base_filters}'\n",
    "    )\n",
    "    model_dir.mkdir(parents=True, exist_ok=True)\n",
    "\n",
    "    changing_params = dict(\n",
    "        selected_classes=selected_classes,\n",
    "        model_dir=model_dir,\n",
    "        seasons=seasons,\n",
    "        data_summary=data_summary\n",
    "    )\n",
    "    params = fixed_params | changing_params\n",
    "    keras_model_creator.KerasModelCreator(**params).run()"
   ]
  },
  {
   "cell_type": "markdown",
   "id": "3837c097-514c-49ee-8b9b-df10da53ebfc",
   "metadata": {},
   "source": [
    "Evaluate the model for given years and save the results in the model's directory."
   ]
  },
  {
   "cell_type": "code",
   "execution_count": 13,
   "id": "6b433488-a51d-4b9a-b120-df7be914191f",
   "metadata": {},
   "outputs": [
    {
     "data": {
      "application/vnd.plotly.v1+json": {
       "config": {
        "plotlyServerURL": "https://plot.ly"
       },
       "data": [
        {
         "hovertemplate": "variable=recall<br>index=%{x}<br>value=%{y}<extra></extra>",
         "legendgroup": "recall",
         "line": {
          "color": "#636efa",
          "dash": "solid"
         },
         "marker": {
          "symbol": "circle"
         },
         "mode": "lines",
         "name": "recall",
         "orientation": "v",
         "showlegend": true,
         "type": "scatter",
         "x": [
          0,
          1,
          2,
          3,
          4,
          5,
          6,
          7,
          8,
          9,
          10,
          11,
          12,
          13,
          14,
          15
         ],
         "xaxis": "x",
         "y": [
          0.69,
          0.7,
          0.71,
          0.7,
          0.71,
          0.74,
          0.73,
          0.73,
          0.72,
          0.73,
          0.73,
          0.75,
          0.75,
          0.76,
          0.72,
          0.73
         ],
         "yaxis": "y"
        },
        {
         "hovertemplate": "variable=precision<br>index=%{x}<br>value=%{y}<extra></extra>",
         "legendgroup": "precision",
         "line": {
          "color": "#EF553B",
          "dash": "dot"
         },
         "marker": {
          "symbol": "circle"
         },
         "mode": "lines",
         "name": "precision",
         "orientation": "v",
         "showlegend": true,
         "type": "scatter",
         "x": [
          0,
          1,
          2,
          3,
          4,
          5,
          6,
          7,
          8,
          9,
          10,
          11,
          12,
          13,
          14,
          15
         ],
         "xaxis": "x",
         "y": [
          0.8,
          0.8,
          0.8,
          0.79,
          0.8,
          0.76,
          0.76,
          0.79,
          0.8,
          0.77,
          0.8,
          0.75,
          0.75,
          0.75,
          0.8,
          0.8
         ],
         "yaxis": "y"
        },
        {
         "hovertemplate": "variable=weightedf1score<br>index=%{x}<br>value=%{y}<extra></extra>",
         "legendgroup": "weightedf1score",
         "line": {
          "color": "#00cc96",
          "dash": "dash"
         },
         "marker": {
          "symbol": "circle"
         },
         "mode": "lines",
         "name": "weightedf1score",
         "orientation": "v",
         "showlegend": true,
         "type": "scatter",
         "x": [
          0,
          1,
          2,
          3,
          4,
          5,
          6,
          7,
          8,
          9,
          10,
          11,
          12,
          13,
          14,
          15
         ],
         "xaxis": "x",
         "y": [
          0.71,
          0.73,
          0.73,
          0.72,
          0.73,
          0.75,
          0.74,
          0.75,
          0.74,
          0.75,
          0.74,
          0.75,
          0.75,
          0.75,
          0.75,
          0.75
         ],
         "yaxis": "y"
        },
        {
         "hovertemplate": "variable=prc<br>index=%{x}<br>value=%{y}<extra></extra>",
         "legendgroup": "prc",
         "line": {
          "color": "#ab63fa",
          "dash": "longdash"
         },
         "marker": {
          "symbol": "circle"
         },
         "mode": "lines",
         "name": "prc",
         "orientation": "v",
         "showlegend": true,
         "type": "scatter",
         "x": [
          0,
          1,
          2,
          3,
          4,
          5,
          6,
          7,
          8,
          9,
          10,
          11,
          12,
          13,
          14,
          15
         ],
         "xaxis": "x",
         "y": [
          0.84,
          0.85,
          0.84,
          0.84,
          0.85,
          0.84,
          0.83,
          0.85,
          0.85,
          0.84,
          0.86,
          0.84,
          0.83,
          0.84,
          0.85,
          0.86
         ],
         "yaxis": "y"
        },
        {
         "hovertemplate": "variable=auc<br>index=%{x}<br>value=%{y}<extra></extra>",
         "legendgroup": "auc",
         "line": {
          "color": "#FFA15A",
          "dash": "dashdot"
         },
         "marker": {
          "symbol": "circle"
         },
         "mode": "lines",
         "name": "auc",
         "orientation": "v",
         "showlegend": true,
         "type": "scatter",
         "x": [
          0,
          1,
          2,
          3,
          4,
          5,
          6,
          7,
          8,
          9,
          10,
          11,
          12,
          13,
          14,
          15
         ],
         "xaxis": "x",
         "y": [
          0.94,
          0.94,
          0.94,
          0.94,
          0.94,
          0.94,
          0.93,
          0.94,
          0.94,
          0.94,
          0.94,
          0.94,
          0.94,
          0.94,
          0.94,
          0.95
         ],
         "yaxis": "y"
        },
        {
         "colorscale": [
          [
           0,
           "lavender"
          ],
          [
           0.5,
           "cornflowerblue"
          ],
          [
           1,
           "tomato"
          ]
         ],
         "showscale": false,
         "type": "heatmap",
         "xaxis": "x2",
         "xgap": 2,
         "y": [
          "spring",
          "summer",
          "autumn",
          "winter"
         ],
         "yaxis": "y2",
         "ygap": 2,
         "z": [
          [
           1,
           0,
           0,
           0,
           1,
           1,
           1,
           0,
           0,
           0,
           1,
           1,
           1,
           0,
           1,
           2
          ],
          [
           0,
           1,
           0,
           0,
           1,
           0,
           0,
           1,
           1,
           0,
           1,
           1,
           0,
           1,
           1,
           2
          ],
          [
           0,
           0,
           1,
           0,
           0,
           1,
           0,
           1,
           0,
           1,
           1,
           0,
           1,
           1,
           1,
           2
          ],
          [
           0,
           0,
           0,
           1,
           0,
           0,
           1,
           0,
           1,
           1,
           0,
           1,
           1,
           1,
           1,
           2
          ]
         ]
        }
       ],
       "layout": {
        "height": 500,
        "legend": {
         "orientation": "h",
         "x": 1,
         "xanchor": "right",
         "y": 1.02,
         "yanchor": "bottom"
        },
        "template": {
         "data": {
          "bar": [
           {
            "error_x": {
             "color": "#2a3f5f"
            },
            "error_y": {
             "color": "#2a3f5f"
            },
            "marker": {
             "line": {
              "color": "#E5ECF6",
              "width": 0.5
             },
             "pattern": {
              "fillmode": "overlay",
              "size": 10,
              "solidity": 0.2
             }
            },
            "type": "bar"
           }
          ],
          "barpolar": [
           {
            "marker": {
             "line": {
              "color": "#E5ECF6",
              "width": 0.5
             },
             "pattern": {
              "fillmode": "overlay",
              "size": 10,
              "solidity": 0.2
             }
            },
            "type": "barpolar"
           }
          ],
          "carpet": [
           {
            "aaxis": {
             "endlinecolor": "#2a3f5f",
             "gridcolor": "white",
             "linecolor": "white",
             "minorgridcolor": "white",
             "startlinecolor": "#2a3f5f"
            },
            "baxis": {
             "endlinecolor": "#2a3f5f",
             "gridcolor": "white",
             "linecolor": "white",
             "minorgridcolor": "white",
             "startlinecolor": "#2a3f5f"
            },
            "type": "carpet"
           }
          ],
          "choropleth": [
           {
            "colorbar": {
             "outlinewidth": 0,
             "ticks": ""
            },
            "type": "choropleth"
           }
          ],
          "contour": [
           {
            "colorbar": {
             "outlinewidth": 0,
             "ticks": ""
            },
            "colorscale": [
             [
              0,
              "#0d0887"
             ],
             [
              0.1111111111111111,
              "#46039f"
             ],
             [
              0.2222222222222222,
              "#7201a8"
             ],
             [
              0.3333333333333333,
              "#9c179e"
             ],
             [
              0.4444444444444444,
              "#bd3786"
             ],
             [
              0.5555555555555556,
              "#d8576b"
             ],
             [
              0.6666666666666666,
              "#ed7953"
             ],
             [
              0.7777777777777778,
              "#fb9f3a"
             ],
             [
              0.8888888888888888,
              "#fdca26"
             ],
             [
              1,
              "#f0f921"
             ]
            ],
            "type": "contour"
           }
          ],
          "contourcarpet": [
           {
            "colorbar": {
             "outlinewidth": 0,
             "ticks": ""
            },
            "type": "contourcarpet"
           }
          ],
          "heatmap": [
           {
            "colorbar": {
             "outlinewidth": 0,
             "ticks": ""
            },
            "colorscale": [
             [
              0,
              "#0d0887"
             ],
             [
              0.1111111111111111,
              "#46039f"
             ],
             [
              0.2222222222222222,
              "#7201a8"
             ],
             [
              0.3333333333333333,
              "#9c179e"
             ],
             [
              0.4444444444444444,
              "#bd3786"
             ],
             [
              0.5555555555555556,
              "#d8576b"
             ],
             [
              0.6666666666666666,
              "#ed7953"
             ],
             [
              0.7777777777777778,
              "#fb9f3a"
             ],
             [
              0.8888888888888888,
              "#fdca26"
             ],
             [
              1,
              "#f0f921"
             ]
            ],
            "type": "heatmap"
           }
          ],
          "heatmapgl": [
           {
            "colorbar": {
             "outlinewidth": 0,
             "ticks": ""
            },
            "colorscale": [
             [
              0,
              "#0d0887"
             ],
             [
              0.1111111111111111,
              "#46039f"
             ],
             [
              0.2222222222222222,
              "#7201a8"
             ],
             [
              0.3333333333333333,
              "#9c179e"
             ],
             [
              0.4444444444444444,
              "#bd3786"
             ],
             [
              0.5555555555555556,
              "#d8576b"
             ],
             [
              0.6666666666666666,
              "#ed7953"
             ],
             [
              0.7777777777777778,
              "#fb9f3a"
             ],
             [
              0.8888888888888888,
              "#fdca26"
             ],
             [
              1,
              "#f0f921"
             ]
            ],
            "type": "heatmapgl"
           }
          ],
          "histogram": [
           {
            "marker": {
             "pattern": {
              "fillmode": "overlay",
              "size": 10,
              "solidity": 0.2
             }
            },
            "type": "histogram"
           }
          ],
          "histogram2d": [
           {
            "colorbar": {
             "outlinewidth": 0,
             "ticks": ""
            },
            "colorscale": [
             [
              0,
              "#0d0887"
             ],
             [
              0.1111111111111111,
              "#46039f"
             ],
             [
              0.2222222222222222,
              "#7201a8"
             ],
             [
              0.3333333333333333,
              "#9c179e"
             ],
             [
              0.4444444444444444,
              "#bd3786"
             ],
             [
              0.5555555555555556,
              "#d8576b"
             ],
             [
              0.6666666666666666,
              "#ed7953"
             ],
             [
              0.7777777777777778,
              "#fb9f3a"
             ],
             [
              0.8888888888888888,
              "#fdca26"
             ],
             [
              1,
              "#f0f921"
             ]
            ],
            "type": "histogram2d"
           }
          ],
          "histogram2dcontour": [
           {
            "colorbar": {
             "outlinewidth": 0,
             "ticks": ""
            },
            "colorscale": [
             [
              0,
              "#0d0887"
             ],
             [
              0.1111111111111111,
              "#46039f"
             ],
             [
              0.2222222222222222,
              "#7201a8"
             ],
             [
              0.3333333333333333,
              "#9c179e"
             ],
             [
              0.4444444444444444,
              "#bd3786"
             ],
             [
              0.5555555555555556,
              "#d8576b"
             ],
             [
              0.6666666666666666,
              "#ed7953"
             ],
             [
              0.7777777777777778,
              "#fb9f3a"
             ],
             [
              0.8888888888888888,
              "#fdca26"
             ],
             [
              1,
              "#f0f921"
             ]
            ],
            "type": "histogram2dcontour"
           }
          ],
          "mesh3d": [
           {
            "colorbar": {
             "outlinewidth": 0,
             "ticks": ""
            },
            "type": "mesh3d"
           }
          ],
          "parcoords": [
           {
            "line": {
             "colorbar": {
              "outlinewidth": 0,
              "ticks": ""
             }
            },
            "type": "parcoords"
           }
          ],
          "pie": [
           {
            "automargin": true,
            "type": "pie"
           }
          ],
          "scatter": [
           {
            "fillpattern": {
             "fillmode": "overlay",
             "size": 10,
             "solidity": 0.2
            },
            "type": "scatter"
           }
          ],
          "scatter3d": [
           {
            "line": {
             "colorbar": {
              "outlinewidth": 0,
              "ticks": ""
             }
            },
            "marker": {
             "colorbar": {
              "outlinewidth": 0,
              "ticks": ""
             }
            },
            "type": "scatter3d"
           }
          ],
          "scattercarpet": [
           {
            "marker": {
             "colorbar": {
              "outlinewidth": 0,
              "ticks": ""
             }
            },
            "type": "scattercarpet"
           }
          ],
          "scattergeo": [
           {
            "marker": {
             "colorbar": {
              "outlinewidth": 0,
              "ticks": ""
             }
            },
            "type": "scattergeo"
           }
          ],
          "scattergl": [
           {
            "marker": {
             "colorbar": {
              "outlinewidth": 0,
              "ticks": ""
             }
            },
            "type": "scattergl"
           }
          ],
          "scattermapbox": [
           {
            "marker": {
             "colorbar": {
              "outlinewidth": 0,
              "ticks": ""
             }
            },
            "type": "scattermapbox"
           }
          ],
          "scatterpolar": [
           {
            "marker": {
             "colorbar": {
              "outlinewidth": 0,
              "ticks": ""
             }
            },
            "type": "scatterpolar"
           }
          ],
          "scatterpolargl": [
           {
            "marker": {
             "colorbar": {
              "outlinewidth": 0,
              "ticks": ""
             }
            },
            "type": "scatterpolargl"
           }
          ],
          "scatterternary": [
           {
            "marker": {
             "colorbar": {
              "outlinewidth": 0,
              "ticks": ""
             }
            },
            "type": "scatterternary"
           }
          ],
          "surface": [
           {
            "colorbar": {
             "outlinewidth": 0,
             "ticks": ""
            },
            "colorscale": [
             [
              0,
              "#0d0887"
             ],
             [
              0.1111111111111111,
              "#46039f"
             ],
             [
              0.2222222222222222,
              "#7201a8"
             ],
             [
              0.3333333333333333,
              "#9c179e"
             ],
             [
              0.4444444444444444,
              "#bd3786"
             ],
             [
              0.5555555555555556,
              "#d8576b"
             ],
             [
              0.6666666666666666,
              "#ed7953"
             ],
             [
              0.7777777777777778,
              "#fb9f3a"
             ],
             [
              0.8888888888888888,
              "#fdca26"
             ],
             [
              1,
              "#f0f921"
             ]
            ],
            "type": "surface"
           }
          ],
          "table": [
           {
            "cells": {
             "fill": {
              "color": "#EBF0F8"
             },
             "line": {
              "color": "white"
             }
            },
            "header": {
             "fill": {
              "color": "#C8D4E3"
             },
             "line": {
              "color": "white"
             }
            },
            "type": "table"
           }
          ]
         },
         "layout": {
          "annotationdefaults": {
           "arrowcolor": "#2a3f5f",
           "arrowhead": 0,
           "arrowwidth": 1
          },
          "autotypenumbers": "strict",
          "coloraxis": {
           "colorbar": {
            "outlinewidth": 0,
            "ticks": ""
           }
          },
          "colorscale": {
           "diverging": [
            [
             0,
             "#8e0152"
            ],
            [
             0.1,
             "#c51b7d"
            ],
            [
             0.2,
             "#de77ae"
            ],
            [
             0.3,
             "#f1b6da"
            ],
            [
             0.4,
             "#fde0ef"
            ],
            [
             0.5,
             "#f7f7f7"
            ],
            [
             0.6,
             "#e6f5d0"
            ],
            [
             0.7,
             "#b8e186"
            ],
            [
             0.8,
             "#7fbc41"
            ],
            [
             0.9,
             "#4d9221"
            ],
            [
             1,
             "#276419"
            ]
           ],
           "sequential": [
            [
             0,
             "#0d0887"
            ],
            [
             0.1111111111111111,
             "#46039f"
            ],
            [
             0.2222222222222222,
             "#7201a8"
            ],
            [
             0.3333333333333333,
             "#9c179e"
            ],
            [
             0.4444444444444444,
             "#bd3786"
            ],
            [
             0.5555555555555556,
             "#d8576b"
            ],
            [
             0.6666666666666666,
             "#ed7953"
            ],
            [
             0.7777777777777778,
             "#fb9f3a"
            ],
            [
             0.8888888888888888,
             "#fdca26"
            ],
            [
             1,
             "#f0f921"
            ]
           ],
           "sequentialminus": [
            [
             0,
             "#0d0887"
            ],
            [
             0.1111111111111111,
             "#46039f"
            ],
            [
             0.2222222222222222,
             "#7201a8"
            ],
            [
             0.3333333333333333,
             "#9c179e"
            ],
            [
             0.4444444444444444,
             "#bd3786"
            ],
            [
             0.5555555555555556,
             "#d8576b"
            ],
            [
             0.6666666666666666,
             "#ed7953"
            ],
            [
             0.7777777777777778,
             "#fb9f3a"
            ],
            [
             0.8888888888888888,
             "#fdca26"
            ],
            [
             1,
             "#f0f921"
            ]
           ]
          },
          "colorway": [
           "#636efa",
           "#EF553B",
           "#00cc96",
           "#ab63fa",
           "#FFA15A",
           "#19d3f3",
           "#FF6692",
           "#B6E880",
           "#FF97FF",
           "#FECB52"
          ],
          "font": {
           "color": "#2a3f5f"
          },
          "geo": {
           "bgcolor": "white",
           "lakecolor": "white",
           "landcolor": "#E5ECF6",
           "showlakes": true,
           "showland": true,
           "subunitcolor": "white"
          },
          "hoverlabel": {
           "align": "left"
          },
          "hovermode": "closest",
          "mapbox": {
           "style": "light"
          },
          "paper_bgcolor": "white",
          "plot_bgcolor": "#E5ECF6",
          "polar": {
           "angularaxis": {
            "gridcolor": "white",
            "linecolor": "white",
            "ticks": ""
           },
           "bgcolor": "#E5ECF6",
           "radialaxis": {
            "gridcolor": "white",
            "linecolor": "white",
            "ticks": ""
           }
          },
          "scene": {
           "xaxis": {
            "backgroundcolor": "#E5ECF6",
            "gridcolor": "white",
            "gridwidth": 2,
            "linecolor": "white",
            "showbackground": true,
            "ticks": "",
            "zerolinecolor": "white"
           },
           "yaxis": {
            "backgroundcolor": "#E5ECF6",
            "gridcolor": "white",
            "gridwidth": 2,
            "linecolor": "white",
            "showbackground": true,
            "ticks": "",
            "zerolinecolor": "white"
           },
           "zaxis": {
            "backgroundcolor": "#E5ECF6",
            "gridcolor": "white",
            "gridwidth": 2,
            "linecolor": "white",
            "showbackground": true,
            "ticks": "",
            "zerolinecolor": "white"
           }
          },
          "shapedefaults": {
           "line": {
            "color": "#2a3f5f"
           }
          },
          "ternary": {
           "aaxis": {
            "gridcolor": "white",
            "linecolor": "white",
            "ticks": ""
           },
           "baxis": {
            "gridcolor": "white",
            "linecolor": "white",
            "ticks": ""
           },
           "bgcolor": "#E5ECF6",
           "caxis": {
            "gridcolor": "white",
            "linecolor": "white",
            "ticks": ""
           }
          },
          "title": {
           "x": 0.05
          },
          "xaxis": {
           "automargin": true,
           "gridcolor": "white",
           "linecolor": "white",
           "ticks": "",
           "title": {
            "standoff": 15
           },
           "zerolinecolor": "white",
           "zerolinewidth": 2
          },
          "yaxis": {
           "automargin": true,
           "gridcolor": "white",
           "linecolor": "white",
           "ticks": "",
           "title": {
            "standoff": 15
           },
           "zerolinecolor": "white",
           "zerolinewidth": 2
          }
         }
        },
        "width": 700,
        "xaxis": {
         "anchor": "y",
         "domain": [
          0,
          1
         ],
         "dtick": 1,
         "range": [
          -0.5,
          15.5
         ],
         "showticklabels": false,
         "tick0": 0.5,
         "tickmode": "linear",
         "title": {},
         "type": "linear",
         "zeroline": false
        },
        "xaxis2": {
         "anchor": "y2",
         "domain": [
          0,
          1
         ],
         "dtick": 1,
         "range": [
          -0.5,
          15.5
         ],
         "showticklabels": false,
         "tick0": 0.5,
         "tickmode": "linear",
         "title": {},
         "zeroline": false
        },
        "yaxis": {
         "anchor": "x",
         "autorange": true,
         "domain": [
          0.2,
          1
         ],
         "range": [
          0.6755555555555555,
          0.9644444444444444
         ],
         "type": "linear"
        },
        "yaxis2": {
         "anchor": "x2",
         "autorange": true,
         "domain": [
          0,
          0.2
         ],
         "range": [
          -0.5,
          3.5
         ],
         "type": "category"
        }
       }
      },
      "image/png": "[encoded data removed]",
      "text/html": [
       "<div>                            <div id=\"57568146-677a-439f-ad39-b9449b7130d4\" class=\"plotly-graph-div\" style=\"height:500px; width:700px;\"></div>            <script type=\"text/javascript\">                require([\"plotly\"], function(Plotly) {                    window.PLOTLYENV=window.PLOTLYENV || {};                                    if (document.getElementById(\"57568146-677a-439f-ad39-b9449b7130d4\")) {                    Plotly.newPlot(                        \"57568146-677a-439f-ad39-b9449b7130d4\",                        [{\"hovertemplate\":\"variable=recall\\u003cbr\\u003eindex=%{x}\\u003cbr\\u003evalue=%{y}\\u003cextra\\u003e\\u003c\\u002fextra\\u003e\",\"legendgroup\":\"recall\",\"line\":{\"color\":\"#636efa\",\"dash\":\"solid\"},\"marker\":{\"symbol\":\"circle\"},\"mode\":\"lines\",\"name\":\"recall\",\"orientation\":\"v\",\"showlegend\":true,\"x\":[0,1,2,3,4,5,6,7,8,9,10,11,12,13,14,15],\"xaxis\":\"x\",\"y\":[0.69,0.7,0.71,0.7,0.71,0.74,0.73,0.73,0.72,0.73,0.73,0.75,0.75,0.76,0.72,0.73],\"yaxis\":\"y\",\"type\":\"scatter\"},{\"hovertemplate\":\"variable=precision\\u003cbr\\u003eindex=%{x}\\u003cbr\\u003evalue=%{y}\\u003cextra\\u003e\\u003c\\u002fextra\\u003e\",\"legendgroup\":\"precision\",\"line\":{\"color\":\"#EF553B\",\"dash\":\"dot\"},\"marker\":{\"symbol\":\"circle\"},\"mode\":\"lines\",\"name\":\"precision\",\"orientation\":\"v\",\"showlegend\":true,\"x\":[0,1,2,3,4,5,6,7,8,9,10,11,12,13,14,15],\"xaxis\":\"x\",\"y\":[0.8,0.8,0.8,0.79,0.8,0.76,0.76,0.79,0.8,0.77,0.8,0.75,0.75,0.75,0.8,0.8],\"yaxis\":\"y\",\"type\":\"scatter\"},{\"hovertemplate\":\"variable=weightedf1score\\u003cbr\\u003eindex=%{x}\\u003cbr\\u003evalue=%{y}\\u003cextra\\u003e\\u003c\\u002fextra\\u003e\",\"legendgroup\":\"weightedf1score\",\"line\":{\"color\":\"#00cc96\",\"dash\":\"dash\"},\"marker\":{\"symbol\":\"circle\"},\"mode\":\"lines\",\"name\":\"weightedf1score\",\"orientation\":\"v\",\"showlegend\":true,\"x\":[0,1,2,3,4,5,6,7,8,9,10,11,12,13,14,15],\"xaxis\":\"x\",\"y\":[0.71,0.73,0.73,0.72,0.73,0.75,0.74,0.75,0.74,0.75,0.74,0.75,0.75,0.75,0.75,0.75],\"yaxis\":\"y\",\"type\":\"scatter\"},{\"hovertemplate\":\"variable=prc\\u003cbr\\u003eindex=%{x}\\u003cbr\\u003evalue=%{y}\\u003cextra\\u003e\\u003c\\u002fextra\\u003e\",\"legendgroup\":\"prc\",\"line\":{\"color\":\"#ab63fa\",\"dash\":\"longdash\"},\"marker\":{\"symbol\":\"circle\"},\"mode\":\"lines\",\"name\":\"prc\",\"orientation\":\"v\",\"showlegend\":true,\"x\":[0,1,2,3,4,5,6,7,8,9,10,11,12,13,14,15],\"xaxis\":\"x\",\"y\":[0.84,0.85,0.84,0.84,0.85,0.84,0.83,0.85,0.85,0.84,0.86,0.84,0.83,0.84,0.85,0.86],\"yaxis\":\"y\",\"type\":\"scatter\"},{\"hovertemplate\":\"variable=auc\\u003cbr\\u003eindex=%{x}\\u003cbr\\u003evalue=%{y}\\u003cextra\\u003e\\u003c\\u002fextra\\u003e\",\"legendgroup\":\"auc\",\"line\":{\"color\":\"#FFA15A\",\"dash\":\"dashdot\"},\"marker\":{\"symbol\":\"circle\"},\"mode\":\"lines\",\"name\":\"auc\",\"orientation\":\"v\",\"showlegend\":true,\"x\":[0,1,2,3,4,5,6,7,8,9,10,11,12,13,14,15],\"xaxis\":\"x\",\"y\":[0.94,0.94,0.94,0.94,0.94,0.94,0.93,0.94,0.94,0.94,0.94,0.94,0.94,0.94,0.94,0.95],\"yaxis\":\"y\",\"type\":\"scatter\"},{\"colorscale\":[[0.0,\"lavender\"],[0.5,\"cornflowerblue\"],[1.0,\"tomato\"]],\"showscale\":false,\"xgap\":2,\"y\":[\"spring\",\"summer\",\"autumn\",\"winter\"],\"ygap\":2,\"z\":[[1,0,0,0,1,1,1,0,0,0,1,1,1,0,1,2],[0,1,0,0,1,0,0,1,1,0,1,1,0,1,1,2],[0,0,1,0,0,1,0,1,0,1,1,0,1,1,1,2],[0,0,0,1,0,0,1,0,1,1,0,1,1,1,1,2]],\"type\":\"heatmap\",\"xaxis\":\"x2\",\"yaxis\":\"y2\"}],                        {\"template\":{\"data\":{\"histogram2dcontour\":[{\"type\":\"histogram2dcontour\",\"colorbar\":{\"outlinewidth\":0,\"ticks\":\"\"},\"colorscale\":[[0.0,\"#0d0887\"],[0.1111111111111111,\"#46039f\"],[0.2222222222222222,\"#7201a8\"],[0.3333333333333333,\"#9c179e\"],[0.4444444444444444,\"#bd3786\"],[0.5555555555555556,\"#d8576b\"],[0.6666666666666666,\"#ed7953\"],[0.7777777777777778,\"#fb9f3a\"],[0.8888888888888888,\"#fdca26\"],[1.0,\"#f0f921\"]]}],\"choropleth\":[{\"type\":\"choropleth\",\"colorbar\":{\"outlinewidth\":0,\"ticks\":\"\"}}],\"histogram2d\":[{\"type\":\"histogram2d\",\"colorbar\":{\"outlinewidth\":0,\"ticks\":\"\"},\"colorscale\":[[0.0,\"#0d0887\"],[0.1111111111111111,\"#46039f\"],[0.2222222222222222,\"#7201a8\"],[0.3333333333333333,\"#9c179e\"],[0.4444444444444444,\"#bd3786\"],[0.5555555555555556,\"#d8576b\"],[0.6666666666666666,\"#ed7953\"],[0.7777777777777778,\"#fb9f3a\"],[0.8888888888888888,\"#fdca26\"],[1.0,\"#f0f921\"]]}],\"heatmap\":[{\"type\":\"heatmap\",\"colorbar\":{\"outlinewidth\":0,\"ticks\":\"\"},\"colorscale\":[[0.0,\"#0d0887\"],[0.1111111111111111,\"#46039f\"],[0.2222222222222222,\"#7201a8\"],[0.3333333333333333,\"#9c179e\"],[0.4444444444444444,\"#bd3786\"],[0.5555555555555556,\"#d8576b\"],[0.6666666666666666,\"#ed7953\"],[0.7777777777777778,\"#fb9f3a\"],[0.8888888888888888,\"#fdca26\"],[1.0,\"#f0f921\"]]}],\"heatmapgl\":[{\"type\":\"heatmapgl\",\"colorbar\":{\"outlinewidth\":0,\"ticks\":\"\"},\"colorscale\":[[0.0,\"#0d0887\"],[0.1111111111111111,\"#46039f\"],[0.2222222222222222,\"#7201a8\"],[0.3333333333333333,\"#9c179e\"],[0.4444444444444444,\"#bd3786\"],[0.5555555555555556,\"#d8576b\"],[0.6666666666666666,\"#ed7953\"],[0.7777777777777778,\"#fb9f3a\"],[0.8888888888888888,\"#fdca26\"],[1.0,\"#f0f921\"]]}],\"contourcarpet\":[{\"type\":\"contourcarpet\",\"colorbar\":{\"outlinewidth\":0,\"ticks\":\"\"}}],\"contour\":[{\"type\":\"contour\",\"colorbar\":{\"outlinewidth\":0,\"ticks\":\"\"},\"colorscale\":[[0.0,\"#0d0887\"],[0.1111111111111111,\"#46039f\"],[0.2222222222222222,\"#7201a8\"],[0.3333333333333333,\"#9c179e\"],[0.4444444444444444,\"#bd3786\"],[0.5555555555555556,\"#d8576b\"],[0.6666666666666666,\"#ed7953\"],[0.7777777777777778,\"#fb9f3a\"],[0.8888888888888888,\"#fdca26\"],[1.0,\"#f0f921\"]]}],\"surface\":[{\"type\":\"surface\",\"colorbar\":{\"outlinewidth\":0,\"ticks\":\"\"},\"colorscale\":[[0.0,\"#0d0887\"],[0.1111111111111111,\"#46039f\"],[0.2222222222222222,\"#7201a8\"],[0.3333333333333333,\"#9c179e\"],[0.4444444444444444,\"#bd3786\"],[0.5555555555555556,\"#d8576b\"],[0.6666666666666666,\"#ed7953\"],[0.7777777777777778,\"#fb9f3a\"],[0.8888888888888888,\"#fdca26\"],[1.0,\"#f0f921\"]]}],\"mesh3d\":[{\"type\":\"mesh3d\",\"colorbar\":{\"outlinewidth\":0,\"ticks\":\"\"}}],\"scatter\":[{\"fillpattern\":{\"fillmode\":\"overlay\",\"size\":10,\"solidity\":0.2},\"type\":\"scatter\"}],\"parcoords\":[{\"type\":\"parcoords\",\"line\":{\"colorbar\":{\"outlinewidth\":0,\"ticks\":\"\"}}}],\"scatterpolargl\":[{\"type\":\"scatterpolargl\",\"marker\":{\"colorbar\":{\"outlinewidth\":0,\"ticks\":\"\"}}}],\"bar\":[{\"error_x\":{\"color\":\"#2a3f5f\"},\"error_y\":{\"color\":\"#2a3f5f\"},\"marker\":{\"line\":{\"color\":\"#E5ECF6\",\"width\":0.5},\"pattern\":{\"fillmode\":\"overlay\",\"size\":10,\"solidity\":0.2}},\"type\":\"bar\"}],\"scattergeo\":[{\"type\":\"scattergeo\",\"marker\":{\"colorbar\":{\"outlinewidth\":0,\"ticks\":\"\"}}}],\"scatterpolar\":[{\"type\":\"scatterpolar\",\"marker\":{\"colorbar\":{\"outlinewidth\":0,\"ticks\":\"\"}}}],\"histogram\":[{\"marker\":{\"pattern\":{\"fillmode\":\"overlay\",\"size\":10,\"solidity\":0.2}},\"type\":\"histogram\"}],\"scattergl\":[{\"type\":\"scattergl\",\"marker\":{\"colorbar\":{\"outlinewidth\":0,\"ticks\":\"\"}}}],\"scatter3d\":[{\"type\":\"scatter3d\",\"line\":{\"colorbar\":{\"outlinewidth\":0,\"ticks\":\"\"}},\"marker\":{\"colorbar\":{\"outlinewidth\":0,\"ticks\":\"\"}}}],\"scattermapbox\":[{\"type\":\"scattermapbox\",\"marker\":{\"colorbar\":{\"outlinewidth\":0,\"ticks\":\"\"}}}],\"scatterternary\":[{\"type\":\"scatterternary\",\"marker\":{\"colorbar\":{\"outlinewidth\":0,\"ticks\":\"\"}}}],\"scattercarpet\":[{\"type\":\"scattercarpet\",\"marker\":{\"colorbar\":{\"outlinewidth\":0,\"ticks\":\"\"}}}],\"carpet\":[{\"aaxis\":{\"endlinecolor\":\"#2a3f5f\",\"gridcolor\":\"white\",\"linecolor\":\"white\",\"minorgridcolor\":\"white\",\"startlinecolor\":\"#2a3f5f\"},\"baxis\":{\"endlinecolor\":\"#2a3f5f\",\"gridcolor\":\"white\",\"linecolor\":\"white\",\"minorgridcolor\":\"white\",\"startlinecolor\":\"#2a3f5f\"},\"type\":\"carpet\"}],\"table\":[{\"cells\":{\"fill\":{\"color\":\"#EBF0F8\"},\"line\":{\"color\":\"white\"}},\"header\":{\"fill\":{\"color\":\"#C8D4E3\"},\"line\":{\"color\":\"white\"}},\"type\":\"table\"}],\"barpolar\":[{\"marker\":{\"line\":{\"color\":\"#E5ECF6\",\"width\":0.5},\"pattern\":{\"fillmode\":\"overlay\",\"size\":10,\"solidity\":0.2}},\"type\":\"barpolar\"}],\"pie\":[{\"automargin\":true,\"type\":\"pie\"}]},\"layout\":{\"autotypenumbers\":\"strict\",\"colorway\":[\"#636efa\",\"#EF553B\",\"#00cc96\",\"#ab63fa\",\"#FFA15A\",\"#19d3f3\",\"#FF6692\",\"#B6E880\",\"#FF97FF\",\"#FECB52\"],\"font\":{\"color\":\"#2a3f5f\"},\"hovermode\":\"closest\",\"hoverlabel\":{\"align\":\"left\"},\"paper_bgcolor\":\"white\",\"plot_bgcolor\":\"#E5ECF6\",\"polar\":{\"bgcolor\":\"#E5ECF6\",\"angularaxis\":{\"gridcolor\":\"white\",\"linecolor\":\"white\",\"ticks\":\"\"},\"radialaxis\":{\"gridcolor\":\"white\",\"linecolor\":\"white\",\"ticks\":\"\"}},\"ternary\":{\"bgcolor\":\"#E5ECF6\",\"aaxis\":{\"gridcolor\":\"white\",\"linecolor\":\"white\",\"ticks\":\"\"},\"baxis\":{\"gridcolor\":\"white\",\"linecolor\":\"white\",\"ticks\":\"\"},\"caxis\":{\"gridcolor\":\"white\",\"linecolor\":\"white\",\"ticks\":\"\"}},\"coloraxis\":{\"colorbar\":{\"outlinewidth\":0,\"ticks\":\"\"}},\"colorscale\":{\"sequential\":[[0.0,\"#0d0887\"],[0.1111111111111111,\"#46039f\"],[0.2222222222222222,\"#7201a8\"],[0.3333333333333333,\"#9c179e\"],[0.4444444444444444,\"#bd3786\"],[0.5555555555555556,\"#d8576b\"],[0.6666666666666666,\"#ed7953\"],[0.7777777777777778,\"#fb9f3a\"],[0.8888888888888888,\"#fdca26\"],[1.0,\"#f0f921\"]],\"sequentialminus\":[[0.0,\"#0d0887\"],[0.1111111111111111,\"#46039f\"],[0.2222222222222222,\"#7201a8\"],[0.3333333333333333,\"#9c179e\"],[0.4444444444444444,\"#bd3786\"],[0.5555555555555556,\"#d8576b\"],[0.6666666666666666,\"#ed7953\"],[0.7777777777777778,\"#fb9f3a\"],[0.8888888888888888,\"#fdca26\"],[1.0,\"#f0f921\"]],\"diverging\":[[0,\"#8e0152\"],[0.1,\"#c51b7d\"],[0.2,\"#de77ae\"],[0.3,\"#f1b6da\"],[0.4,\"#fde0ef\"],[0.5,\"#f7f7f7\"],[0.6,\"#e6f5d0\"],[0.7,\"#b8e186\"],[0.8,\"#7fbc41\"],[0.9,\"#4d9221\"],[1,\"#276419\"]]},\"xaxis\":{\"gridcolor\":\"white\",\"linecolor\":\"white\",\"ticks\":\"\",\"title\":{\"standoff\":15},\"zerolinecolor\":\"white\",\"automargin\":true,\"zerolinewidth\":2},\"yaxis\":{\"gridcolor\":\"white\",\"linecolor\":\"white\",\"ticks\":\"\",\"title\":{\"standoff\":15},\"zerolinecolor\":\"white\",\"automargin\":true,\"zerolinewidth\":2},\"scene\":{\"xaxis\":{\"backgroundcolor\":\"#E5ECF6\",\"gridcolor\":\"white\",\"linecolor\":\"white\",\"showbackground\":true,\"ticks\":\"\",\"zerolinecolor\":\"white\",\"gridwidth\":2},\"yaxis\":{\"backgroundcolor\":\"#E5ECF6\",\"gridcolor\":\"white\",\"linecolor\":\"white\",\"showbackground\":true,\"ticks\":\"\",\"zerolinecolor\":\"white\",\"gridwidth\":2},\"zaxis\":{\"backgroundcolor\":\"#E5ECF6\",\"gridcolor\":\"white\",\"linecolor\":\"white\",\"showbackground\":true,\"ticks\":\"\",\"zerolinecolor\":\"white\",\"gridwidth\":2}},\"shapedefaults\":{\"line\":{\"color\":\"#2a3f5f\"}},\"annotationdefaults\":{\"arrowcolor\":\"#2a3f5f\",\"arrowhead\":0,\"arrowwidth\":1},\"geo\":{\"bgcolor\":\"white\",\"landcolor\":\"#E5ECF6\",\"subunitcolor\":\"white\",\"showland\":true,\"showlakes\":true,\"lakecolor\":\"white\"},\"title\":{\"x\":0.05},\"mapbox\":{\"style\":\"light\"}}},\"xaxis\":{\"anchor\":\"y\",\"domain\":[0.0,1.0],\"range\":[-0.5,15.5],\"tickmode\":\"linear\",\"tick0\":0.5,\"dtick\":1,\"zeroline\":false,\"showticklabels\":false,\"title\":{}},\"yaxis\":{\"anchor\":\"x\",\"domain\":[0.2,1.0]},\"xaxis2\":{\"anchor\":\"y2\",\"domain\":[0.0,1.0],\"range\":[-0.5,15.5],\"tickmode\":\"linear\",\"tick0\":0.5,\"dtick\":1,\"zeroline\":false,\"showticklabels\":false,\"title\":{}},\"yaxis2\":{\"anchor\":\"x2\",\"domain\":[0.0,0.2]},\"legend\":{\"orientation\":\"h\",\"xanchor\":\"right\",\"yanchor\":\"bottom\",\"x\":1,\"y\":1.02},\"height\":500,\"width\":700},                        {\"responsive\": true}                    ).then(function(){\n",
       "                            \n",
       "var gd = document.getElementById('57568146-677a-439f-ad39-b9449b7130d4');\n",
       "var x = new MutationObserver(function (mutations, observer) {{\n",
       "        var display = window.getComputedStyle(gd).display;\n",
       "        if (!display || display === 'none') {{\n",
       "            console.log([gd, 'removed!']);\n",
       "            Plotly.purge(gd);\n",
       "            observer.disconnect();\n",
       "        }}\n",
       "}});\n",
       "\n",
       "// Listen for the removal of the full notebook cells\n",
       "var notebookContainer = gd.closest('#notebook-container');\n",
       "if (notebookContainer) {{\n",
       "    x.observe(notebookContainer, {childList: true});\n",
       "}}\n",
       "\n",
       "// Listen for the clearing of the current output cell\n",
       "var outputEl = gd.closest('.output');\n",
       "if (outputEl) {{\n",
       "    x.observe(outputEl, {childList: true});\n",
       "}}\n",
       "\n",
       "                        })                };                });            </script>        </div>"
      ]
     },
     "metadata": {},
     "output_type": "display_data"
    }
   ],
   "source": [
    "reload(plot_utils)\n",
    "\n",
    "best_metric = 'val_weightedf1score'\n",
    "best_rows = []\n",
    "\n",
    "for seasons in list(season_combinations):\n",
    "    model_dirs = list(model_parent_dir.glob(f'*-{\"_\".join(seasons)}-*'))\n",
    "    \n",
    "    for model_dir in model_dirs:\n",
    "        df = pd.read_csv(model_dir.joinpath('model.log'))\n",
    "        best = df[df[best_metric] == df[best_metric].max()]\n",
    "        \n",
    "\n",
    "        if 'lstm' in str(model_dir):\n",
    "            best[all_seasons_names] = [int(s in seasons)*2 for s in all_seasons]\n",
    "        else:\n",
    "            best[all_seasons_names] = [int(s in seasons) for s in all_seasons]\n",
    "            \n",
    "        best_rows.append(best)\n",
    "best_df = pd.concat(best_rows).round(2).reset_index(drop=True)\n",
    "fig = plot_utils.PlotUtils().line_heatmap(\n",
    "    best_df, all_seasons_names, [0.2, 0.8]\n",
    ")\n",
    "figure_dir = Path('report', 'figures', 'figures_analysis')\n",
    "figure_dir.mkdir(exist_ok=True)\n",
    "fig.write_image(figure_dir.joinpath('seasonal_selection.pdf'))\n",
    "fig"
   ]
  },
  {
   "cell_type": "code",
   "execution_count": 7,
   "id": "77a57cfb-f044-4572-80c9-56b44f37a044",
   "metadata": {},
   "outputs": [],
   "source": [
    "# for eval_year in [2017, 2020, 2021, 2022, 2023]:\n",
    "    # eval_generator = DataGenerator(\n",
    "        # utils.selected_classes.index, shuffle=False, year=eval_year, **params)\n",
    "#     preds_path = model_dir.joinpath(f\"preds_{params['year']}.npy\")\n",
    "#     if preds_path.is_file():\n",
    "#         y_pred = np.load(preds_path)\n",
    "#     else:\n",
    "#         y_pred = model.predict(x=eval_generator, verbose=1)\n",
    "#         np.save(preds_path, y_pred)\n",
    "\n",
    "#     y_true = utils.selected_classes.iloc[:y_pred.shape[0]].to_numpy()\n",
    "#     cm = confusion_matrix(y_true.flatten(), (y_pred > 0.5).flatten().astype(int))\n",
    "#     plot = ConfusionMatrixDisplay(confusion_matrix=cm).plot()\n",
    "#     display(plot)"
   ]
  },
  {
   "cell_type": "markdown",
   "id": "ea3e6f12-dd14-4343-9c6d-773fa3a785e2",
   "metadata": {},
   "source": [
    "Visualise the confusion matrix for each class."
   ]
  },
  {
   "cell_type": "code",
   "execution_count": 8,
   "id": "4b31e04e-9435-44d6-95d4-a9258e024215",
   "metadata": {},
   "outputs": [],
   "source": [
    "# import matplotlib.pyplot as plt\n",
    "\n",
    "# class_names = utils.selected_classes.columns\n",
    "\n",
    "# f, axes = plt.subplots(4, 2, figsize=(25, 30))\n",
    "# axes = axes.ravel()\n",
    "# for label in range(y_true.shape[1]):\n",
    "#     cm = confusion_matrix(y_true[..., label].astype(int), (y_pred[..., label] > 0.5).astype(int))\n",
    "#     disp = ConfusionMatrixDisplay(cm)\n",
    "#     disp.plot(ax=axes[label], values_format='.4g')\n",
    "#     disp.ax_.set_title(f'{class_names[label]}')\n",
    "#     if label < 25:\n",
    "#         disp.ax_.set_xlabel('')\n",
    "#     if label % 5 != 0:\n",
    "#         disp.ax_.set_ylabel('')\n",
    "#     disp.im_.colorbar.remove()\n",
    "\n",
    "# plt.subplots_adjust(wspace=0.2, hspace=0.001)\n",
    "# f.colorbar(disp.im_, ax=axes)\n",
    "# plt.show()\n"
   ]
  },
  {
   "cell_type": "code",
   "execution_count": 9,
   "id": "8ded61bd-6527-4b12-bd22-d3404e4a5040",
   "metadata": {},
   "outputs": [],
   "source": [
    "# import tensorflow\n",
    "# tensorflow.keras.utils.plot_model(model, show_shapes=True)\n",
    "# model.summary()"
   ]
  },
  {
   "cell_type": "markdown",
   "id": "f641a5cd-e57c-4d5f-90cd-85f50929af91",
   "metadata": {},
   "source": [
    "Visualise the model."
   ]
  },
  {
   "cell_type": "code",
   "execution_count": 10,
   "id": "bd7dfc9b-afde-43c1-a167-9a8fba6690ab",
   "metadata": {},
   "outputs": [],
   "source": [
    "# import tensorflow\n",
    "# tensorflow.keras.utils.plot_model(\n",
    "#     model, to_file=model_dir.joinpath('model.png'),\n",
    "#     show_shapes=True, show_layer_activations=True,\n",
    "# )"
   ]
  },
  {
   "cell_type": "markdown",
   "id": "70a0cc0b-d45a-4a45-9c4f-beac8233e779",
   "metadata": {},
   "source": [
    "Correlate the model with climate variables (to move?)"
   ]
  },
  {
   "cell_type": "code",
   "execution_count": 11,
   "id": "138d220c-0c2d-459a-b995-ec95e3036002",
   "metadata": {},
   "outputs": [],
   "source": [
    "# import plotly.express as px\n",
    "\n",
    "# class_names = utils.selected_classes.columns\n",
    "# indices = utils.selected_classes.index\n",
    "\n",
    "# preds_path = model_dir.joinpath(f'preds_2020.npy')\n",
    "# y_prev = np.load(preds_path)\n",
    "\n",
    "# weather_prev = pd.read_csv(Path('weather_data', 'era5_2020.csv'))\n",
    "# eval_years = [2021, 2022, 2023]\n",
    "# corrs = []\n",
    "\n",
    "# for eval_year in eval_years:\n",
    "#     preds_path = model_dir.joinpath(f'preds_{eval_year}.npy')\n",
    "#     y_pred = np.load(preds_path)\n",
    "#     y_diff = pd.DataFrame(y_pred - y_prev, columns=class_names)\n",
    "    \n",
    "#     weather = pd.read_csv(Path('weather_data', f'era5_{eval_year}.csv'))\n",
    "#     weather_diff = ((weather - weather_prev)\n",
    "#                     .loc[indices]\n",
    "#                     .iloc[:y_pred.shape[0]]\n",
    "#                     .iloc[y_diff.index])\n",
    "    \n",
    "#     corr = y_diff.join(weather_diff).corr(method='pearson').round(2)\n",
    "#     corrs.append(corr)\n",
    "\n",
    "#     y_prev = y_pred\n",
    "#     weather_prev = weather\n",
    "\n",
    "# fig = px.imshow(\n",
    "#     np.array(corrs),\n",
    "#     animation_frame=0,\n",
    "#     labels=dict(color=\"Corr coef\"),\n",
    "#     x=corrs[0].index,\n",
    "#     y=corrs[0].columns,\n",
    "#     title='Annual correlation heatmap',\n",
    "#     text_auto=True, aspect='auto', zmin=0, height=500\n",
    "# )\n",
    "# fig.layout.sliders[0]['currentvalue']['prefix'] = ''\n",
    "# for year, step in zip(eval_years, fig.layout.sliders[0].steps):\n",
    "#     step.label = str(year)\n",
    "\n",
    "# fig"
   ]
  },
  {
   "cell_type": "code",
   "execution_count": null,
   "id": "b5189141-5f07-4aac-a68f-00a24ec5d69d",
   "metadata": {},
   "outputs": [],
   "source": []
  },
  {
   "cell_type": "code",
   "execution_count": null,
   "id": "ea018983-f959-487b-9bda-61c90da0d6d9",
   "metadata": {},
   "outputs": [],
   "source": []
  },
  {
   "cell_type": "code",
   "execution_count": null,
   "id": "b9c133ed-b865-42ad-9935-fa99da84321c",
   "metadata": {},
   "outputs": [],
   "source": []
  },
  {
   "cell_type": "code",
   "execution_count": null,
   "id": "66ab74e4-7a10-4448-a3ae-4c8b169e5d81",
   "metadata": {},
   "outputs": [],
   "source": []
  },
  {
   "cell_type": "code",
   "execution_count": null,
   "id": "b460e4fc-dc07-4238-bfa4-576718377b57",
   "metadata": {},
   "outputs": [],
   "source": []
  },
  {
   "cell_type": "code",
   "execution_count": null,
   "id": "4a77bb90-895e-499d-9071-d827b97c3881",
   "metadata": {},
   "outputs": [],
   "source": []
  }
 ],
 "metadata": {
  "kernelspec": {
   "display_name": "Python 3 (ipykernel)",
   "language": "python",
   "name": "python3"
  },
  "language_info": {
   "codemirror_mode": {
    "name": "ipython",
    "version": 3
   },
   "file_extension": ".py",
   "mimetype": "text/x-python",
   "name": "python",
   "nbconvert_exporter": "python",
   "pygments_lexer": "ipython3",
   "version": "3.10.14"
  },
  "widgets": {
   "application/vnd.jupyter.widget-state+json": {
    "state": {},
    "version_major": 2,
    "version_minor": 0
   }
  }
 },
 "nbformat": 4,
 "nbformat_minor": 5
}
