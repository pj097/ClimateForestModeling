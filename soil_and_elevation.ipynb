{
 "cells": [
  {
   "cell_type": "code",
   "execution_count": 2,
   "id": "45a09dcb-b90b-45d7-b5a2-54996a34ada0",
   "metadata": {},
   "outputs": [
    {
     "name": "stdout",
     "output_type": "stream",
     "text": [
      "env: TF_CPP_MIN_LOG_LEVEL=3\n"
     ]
    }
   ],
   "source": [
    "%env TF_CPP_MIN_LOG_LEVEL=3\n",
    "\n",
    "import numpy as np\n",
    "import pandas as pd\n",
    "\n",
    "import plotly.express as px\n",
    "import plotly.graph_objects as go\n",
    "from plotly.subplots import make_subplots\n",
    "\n",
    "from tqdm.notebook import tqdm\n",
    "from pathlib import Path\n",
    "import itertools\n",
    "\n",
    "from sklearn.model_selection import train_test_split\n",
    "from sklearn.metrics import classification_report, confusion_matrix, ConfusionMatrixDisplay, multilabel_confusion_matrix\n",
    "from sklearn.utils import shuffle\n",
    "\n",
    "import tensorflow as tf\n",
    "\n",
    "from importlib import reload\n",
    "import sentinel_utils\n",
    "import keras_model_creator\n",
    "import plot_utils\n",
    "\n",
    "from data_generator import DataGenerator\n",
    "\n",
    "pd.options.mode.copy_on_write = True"
   ]
  },
  {
   "cell_type": "code",
   "execution_count": 3,
   "id": "12bca94d-8656-4cb3-8caf-191d05b80126",
   "metadata": {},
   "outputs": [],
   "source": [
    "reload(sentinel_utils)\n",
    "utils = sentinel_utils.SentinelUtils(min_occurrences=20000)\n",
    "\n",
    "selected_sentinel = ['B3', 'B6', 'B8', 'B11']"
   ]
  },
  {
   "cell_type": "code",
   "execution_count": 4,
   "id": "20193ece-bc6f-4569-8d56-219fab09ae0b",
   "metadata": {},
   "outputs": [],
   "source": [
    "model_parent_dir = Path('models', 'soilgrid_elevation')\n",
    "\n",
    "loss = 'binary_crossentropy'\n",
    "batch_size = 64\n",
    "base_filters = 32\n",
    "shards_dir = Path.home().joinpath('sentinel_data', 'shards')\n",
    "\n",
    "seasons = ['06']\n",
    "selected_classes = utils.get_processed_labels()\n",
    "data_summary = utils.get_data_summary(\n",
    "    shards_dir, seasons, selected_classes)\n",
    "\n",
    "fixed_params = dict(\n",
    "    shards_dir=shards_dir,\n",
    "    seasons=seasons,\n",
    "    selected_classes=selected_classes,\n",
    "    loss=loss,\n",
    "    data_summary=data_summary,\n",
    "    batch_size=batch_size,\n",
    "    base_filters=base_filters,\n",
    "    dropout=0.2,\n",
    "    epochs=10,\n",
    "    overwrite=False,\n",
    "    verbose=1,\n",
    "    print_log=False\n",
    ")"
   ]
  },
  {
   "cell_type": "code",
   "execution_count": null,
   "id": "d5926fbe-15c2-4fa6-8977-99eafdcb5ca3",
   "metadata": {},
   "outputs": [
    {
     "data": {
      "application/vnd.jupyter.widget-view+json": {
       "model_id": "47d654b5a6c44bcba4a1500b9207a27a",
       "version_major": 2,
       "version_minor": 0
      },
      "text/plain": [
       "  0%|          | 0/7 [00:00<?, ?it/s]"
      ]
     },
     "metadata": {},
     "output_type": "display_data"
    },
    {
     "name": "stdout",
     "output_type": "stream",
     "text": [
      "Epoch 1/10\n"
     ]
    },
    {
     "name": "stderr",
     "output_type": "stream",
     "text": [
      "WARNING: All log messages before absl::InitializeLog() is called are written to STDERR\n",
      "I0000 00:00:1722463445.934790   10088 service.cc:145] XLA service 0x7f6558019b50 initialized for platform CUDA (this does not guarantee that XLA will be used). Devices:\n",
      "I0000 00:00:1722463445.934837   10088 service.cc:153]   StreamExecutor device (0): NVIDIA GeForce RTX 4070 Ti, Compute Capability 8.9\n",
      "I0000 00:00:1722463459.654597   10088 device_compiler.h:188] Compiled cluster using XLA!  This line is logged at most once for the lifetime of the process.\n"
     ]
    },
    {
     "name": "stdout",
     "output_type": "stream",
     "text": [
      "\u001b[1m3550/3550\u001b[0m \u001b[32m━━━━━━━━━━━━━━━━━━━━\u001b[0m\u001b[37m\u001b[0m \u001b[1m0s\u001b[0m 62ms/step - accuracy: 0.4456 - auc: 0.8714 - loss: 0.3657 - macrof1score: 0.3923 - microf1score: 0.5966 - prc: 0.7054 - precision: 0.7295 - recall: 0.5074 - weightedf1score: 0.5542"
     ]
    },
    {
     "name": "stderr",
     "output_type": "stream",
     "text": [
      "WARNING: All log messages before absl::InitializeLog() is called are written to STDERR\n",
      "I0000 00:00:1722463685.130331   10313 asm_compiler.cc:369] ptxas warning : Registers are spilled to local memory in function 'triton_gemm_dot_321', 192 bytes spill stores, 192 bytes spill loads\n",
      "\n",
      "I0000 00:00:1722463685.158045   10319 asm_compiler.cc:369] ptxas warning : Registers are spilled to local memory in function 'triton_gemm_dot_321', 308 bytes spill stores, 308 bytes spill loads\n",
      "\n"
     ]
    },
    {
     "name": "stdout",
     "output_type": "stream",
     "text": [
      "\n",
      "Epoch 1: val_recall improved from 0.50000 to 0.56394, saving model to models/soilgrid_elevation/binary_crossentropy-237212-7-4-06-64-32-sentinel/model.keras\n",
      "\u001b[1m3550/3550\u001b[0m \u001b[32m━━━━━━━━━━━━━━━━━━━━\u001b[0m\u001b[37m\u001b[0m \u001b[1m253s\u001b[0m 66ms/step - accuracy: 0.4456 - auc: 0.8714 - loss: 0.3657 - macrof1score: 0.3923 - microf1score: 0.5967 - prc: 0.7054 - precision: 0.7295 - recall: 0.5074 - weightedf1score: 0.5542 - val_accuracy: 0.5218 - val_auc: 0.9072 - val_loss: 0.3211 - val_macrof1score: 0.4754 - val_microf1score: 0.6549 - val_prc: 0.7763 - val_precision: 0.7808 - val_recall: 0.5639 - val_weightedf1score: 0.6159 - learning_rate: 1.0000e-04\n",
      "Epoch 2/10\n",
      "\u001b[1m3550/3550\u001b[0m \u001b[32m━━━━━━━━━━━━━━━━━━━━\u001b[0m\u001b[37m\u001b[0m \u001b[1m0s\u001b[0m 65ms/step - accuracy: 0.5049 - auc: 0.9087 - loss: 0.3168 - macrof1score: 0.4967 - microf1score: 0.6786 - prc: 0.7759 - precision: 0.7622 - recall: 0.6115 - weightedf1score: 0.6456\n",
      "Epoch 2: val_recall improved from 0.56394 to 0.59995, saving model to models/soilgrid_elevation/binary_crossentropy-237212-7-4-06-64-32-sentinel/model.keras\n",
      "\u001b[1m3550/3550\u001b[0m \u001b[32m━━━━━━━━━━━━━━━━━━━━\u001b[0m\u001b[37m\u001b[0m \u001b[1m243s\u001b[0m 68ms/step - accuracy: 0.5049 - auc: 0.9087 - loss: 0.3168 - macrof1score: 0.4967 - microf1score: 0.6786 - prc: 0.7759 - precision: 0.7622 - recall: 0.6115 - weightedf1score: 0.6456 - val_accuracy: 0.5292 - val_auc: 0.9081 - val_loss: 0.3196 - val_macrof1score: 0.5076 - val_microf1score: 0.6687 - val_prc: 0.7748 - val_precision: 0.7552 - val_recall: 0.6000 - val_weightedf1score: 0.6404 - learning_rate: 1.0000e-04\n",
      "Epoch 3/10\n",
      "\u001b[1m3550/3550\u001b[0m \u001b[32m━━━━━━━━━━━━━━━━━━━━\u001b[0m\u001b[37m\u001b[0m \u001b[1m0s\u001b[0m 67ms/step - accuracy: 0.5142 - auc: 0.9159 - loss: 0.3057 - macrof1score: 0.5135 - microf1score: 0.6935 - prc: 0.7907 - precision: 0.7695 - recall: 0.6312 - weightedf1score: 0.6613\n",
      "Epoch 3: val_recall improved from 0.59995 to 0.63859, saving model to models/soilgrid_elevation/binary_crossentropy-237212-7-4-06-64-32-sentinel/model.keras\n",
      "\u001b[1m3550/3550\u001b[0m \u001b[32m━━━━━━━━━━━━━━━━━━━━\u001b[0m\u001b[37m\u001b[0m \u001b[1m250s\u001b[0m 70ms/step - accuracy: 0.5142 - auc: 0.9159 - loss: 0.3057 - macrof1score: 0.5135 - microf1score: 0.6935 - prc: 0.7907 - precision: 0.7695 - recall: 0.6312 - weightedf1score: 0.6613 - val_accuracy: 0.5220 - val_auc: 0.9199 - val_loss: 0.2975 - val_macrof1score: 0.5305 - val_microf1score: 0.7035 - val_prc: 0.8095 - val_precision: 0.7830 - val_recall: 0.6386 - val_weightedf1score: 0.6694 - learning_rate: 1.0000e-04\n",
      "Epoch 4/10\n",
      "\u001b[1m3550/3550\u001b[0m \u001b[32m━━━━━━━━━━━━━━━━━━━━\u001b[0m\u001b[37m\u001b[0m \u001b[1m0s\u001b[0m 68ms/step - accuracy: 0.5207 - auc: 0.9205 - loss: 0.2976 - macrof1score: 0.5290 - microf1score: 0.7047 - prc: 0.7999 - precision: 0.7745 - recall: 0.6465 - weightedf1score: 0.6740\n",
      "Epoch 4: val_recall did not improve from 0.63859\n",
      "\u001b[1m3550/3550\u001b[0m \u001b[32m━━━━━━━━━━━━━━━━━━━━\u001b[0m\u001b[37m\u001b[0m \u001b[1m253s\u001b[0m 71ms/step - accuracy: 0.5207 - auc: 0.9205 - loss: 0.2976 - macrof1score: 0.5290 - microf1score: 0.7047 - prc: 0.7999 - precision: 0.7745 - recall: 0.6465 - weightedf1score: 0.6740 - val_accuracy: 0.5383 - val_auc: 0.9202 - val_loss: 0.2994 - val_macrof1score: 0.5264 - val_microf1score: 0.6924 - val_prc: 0.8011 - val_precision: 0.7775 - val_recall: 0.6241 - val_weightedf1score: 0.6609 - learning_rate: 1.0000e-04\n",
      "Epoch 5/10\n",
      "\u001b[1m3550/3550\u001b[0m \u001b[32m━━━━━━━━━━━━━━━━━━━━\u001b[0m\u001b[37m\u001b[0m \u001b[1m0s\u001b[0m 67ms/step - accuracy: 0.5250 - auc: 0.9235 - loss: 0.2926 - macrof1score: 0.5362 - microf1score: 0.7097 - prc: 0.8064 - precision: 0.7770 - recall: 0.6532 - weightedf1score: 0.6798\n",
      "Epoch 5: val_recall improved from 0.63859 to 0.64734, saving model to models/soilgrid_elevation/binary_crossentropy-237212-7-4-06-64-32-sentinel/model.keras\n",
      "\n",
      "Epoch 5: ReduceLROnPlateau reducing learning rate to 4.999999873689376e-05.\n",
      "\u001b[1m3550/3550\u001b[0m \u001b[32m━━━━━━━━━━━━━━━━━━━━\u001b[0m\u001b[37m\u001b[0m \u001b[1m252s\u001b[0m 71ms/step - accuracy: 0.5250 - auc: 0.9235 - loss: 0.2926 - macrof1score: 0.5362 - microf1score: 0.7097 - prc: 0.8064 - precision: 0.7770 - recall: 0.6532 - weightedf1score: 0.6798 - val_accuracy: 0.5331 - val_auc: 0.9239 - val_loss: 0.2910 - val_macrof1score: 0.5537 - val_microf1score: 0.7119 - val_prc: 0.8150 - val_precision: 0.7908 - val_recall: 0.6473 - val_weightedf1score: 0.6857 - learning_rate: 1.0000e-04\n",
      "Epoch 6/10\n",
      "\u001b[1m3550/3550\u001b[0m \u001b[32m━━━━━━━━━━━━━━━━━━━━\u001b[0m\u001b[37m\u001b[0m \u001b[1m0s\u001b[0m 67ms/step - accuracy: 0.5322 - auc: 0.9280 - loss: 0.2848 - macrof1score: 0.5521 - microf1score: 0.7202 - prc: 0.8163 - precision: 0.7836 - recall: 0.6663 - weightedf1score: 0.6913\n",
      "Epoch 6: val_recall improved from 0.64734 to 0.68912, saving model to models/soilgrid_elevation/binary_crossentropy-237212-7-4-06-64-32-sentinel/model.keras\n",
      "\u001b[1m3550/3550\u001b[0m \u001b[32m━━━━━━━━━━━━━━━━━━━━\u001b[0m\u001b[37m\u001b[0m \u001b[1m253s\u001b[0m 71ms/step - accuracy: 0.5322 - auc: 0.9280 - loss: 0.2848 - macrof1score: 0.5521 - microf1score: 0.7202 - prc: 0.8163 - precision: 0.7836 - recall: 0.6663 - weightedf1score: 0.6913 - val_accuracy: 0.5374 - val_auc: 0.9326 - val_loss: 0.2759 - val_macrof1score: 0.5815 - val_microf1score: 0.7353 - val_prc: 0.8306 - val_precision: 0.7881 - val_recall: 0.6891 - val_weightedf1score: 0.7112 - learning_rate: 5.0000e-05\n",
      "Epoch 7/10\n",
      "\u001b[1m3550/3550\u001b[0m \u001b[32m━━━━━━━━━━━━━━━━━━━━\u001b[0m\u001b[37m\u001b[0m \u001b[1m0s\u001b[0m 67ms/step - accuracy: 0.5339 - auc: 0.9301 - loss: 0.2805 - macrof1score: 0.5579 - microf1score: 0.7256 - prc: 0.8211 - precision: 0.7852 - recall: 0.6744 - weightedf1score: 0.6976\n",
      "Epoch 7: val_recall improved from 0.68912 to 0.69320, saving model to models/soilgrid_elevation/binary_crossentropy-237212-7-4-06-64-32-sentinel/model.keras\n",
      "\u001b[1m3550/3550\u001b[0m \u001b[32m━━━━━━━━━━━━━━━━━━━━\u001b[0m\u001b[37m\u001b[0m \u001b[1m249s\u001b[0m 70ms/step - accuracy: 0.5339 - auc: 0.9301 - loss: 0.2805 - macrof1score: 0.5579 - microf1score: 0.7256 - prc: 0.8211 - precision: 0.7852 - recall: 0.6744 - weightedf1score: 0.6976 - val_accuracy: 0.5466 - val_auc: 0.9330 - val_loss: 0.2750 - val_macrof1score: 0.5907 - val_microf1score: 0.7364 - val_prc: 0.8322 - val_precision: 0.7853 - val_recall: 0.6932 - val_weightedf1score: 0.7152 - learning_rate: 5.0000e-05\n",
      "Epoch 8/10\n",
      "\u001b[1m3550/3550\u001b[0m \u001b[32m━━━━━━━━━━━━━━━━━━━━\u001b[0m\u001b[37m\u001b[0m \u001b[1m0s\u001b[0m 63ms/step - accuracy: 0.5361 - auc: 0.9316 - loss: 0.2782 - macrof1score: 0.5684 - microf1score: 0.7289 - prc: 0.8238 - precision: 0.7865 - recall: 0.6791 - weightedf1score: 0.7025\n",
      "Epoch 8: val_recall improved from 0.69320 to 0.69740, saving model to models/soilgrid_elevation/binary_crossentropy-237212-7-4-06-64-32-sentinel/model.keras\n",
      "\u001b[1m3550/3550\u001b[0m \u001b[32m━━━━━━━━━━━━━━━━━━━━\u001b[0m\u001b[37m\u001b[0m \u001b[1m237s\u001b[0m 67ms/step - accuracy: 0.5361 - auc: 0.9316 - loss: 0.2782 - macrof1score: 0.5684 - microf1score: 0.7289 - prc: 0.8238 - precision: 0.7865 - recall: 0.6791 - weightedf1score: 0.7025 - val_accuracy: 0.5332 - val_auc: 0.9335 - val_loss: 0.2744 - val_macrof1score: 0.5827 - val_microf1score: 0.7375 - val_prc: 0.8320 - val_precision: 0.7824 - val_recall: 0.6974 - val_weightedf1score: 0.7136 - learning_rate: 5.0000e-05\n",
      "Epoch 9/10\n",
      "\u001b[1m3550/3550\u001b[0m \u001b[32m━━━━━━━━━━━━━━━━━━━━\u001b[0m\u001b[37m\u001b[0m \u001b[1m0s\u001b[0m 66ms/step - accuracy: 0.5362 - auc: 0.9326 - loss: 0.2760 - macrof1score: 0.5692 - microf1score: 0.7297 - prc: 0.8265 - precision: 0.7872 - recall: 0.6801 - weightedf1score: 0.7033\n",
      "Epoch 9: val_recall did not improve from 0.69740\n",
      "\n",
      "Epoch 9: ReduceLROnPlateau reducing learning rate to 2.499999936844688e-05.\n",
      "\u001b[1m3550/3550\u001b[0m \u001b[32m━━━━━━━━━━━━━━━━━━━━\u001b[0m\u001b[37m\u001b[0m \u001b[1m247s\u001b[0m 69ms/step - accuracy: 0.5362 - auc: 0.9326 - loss: 0.2760 - macrof1score: 0.5692 - microf1score: 0.7297 - prc: 0.8265 - precision: 0.7872 - recall: 0.6801 - weightedf1score: 0.7033 - val_accuracy: 0.5427 - val_auc: 0.9347 - val_loss: 0.2721 - val_macrof1score: 0.5864 - val_microf1score: 0.7376 - val_prc: 0.8351 - val_precision: 0.7960 - val_recall: 0.6871 - val_weightedf1score: 0.7138 - learning_rate: 5.0000e-05\n",
      "Epoch 10/10\n",
      "\u001b[1m3550/3550\u001b[0m \u001b[32m━━━━━━━━━━━━━━━━━━━━\u001b[0m\u001b[37m\u001b[0m \u001b[1m0s\u001b[0m 66ms/step - accuracy: 0.5397 - auc: 0.9352 - loss: 0.2710 - macrof1score: 0.5803 - microf1score: 0.7360 - prc: 0.8324 - precision: 0.7904 - recall: 0.6887 - weightedf1score: 0.7109\n",
      "Epoch 10: val_recall improved from 0.69740 to 0.70737, saving model to models/soilgrid_elevation/binary_crossentropy-237212-7-4-06-64-32-sentinel/model.keras\n",
      "\u001b[1m3550/3550\u001b[0m \u001b[32m━━━━━━━━━━━━━━━━━━━━\u001b[0m\u001b[37m\u001b[0m \u001b[1m248s\u001b[0m 70ms/step - accuracy: 0.5397 - auc: 0.9352 - loss: 0.2710 - macrof1score: 0.5803 - microf1score: 0.7360 - prc: 0.8324 - precision: 0.7904 - recall: 0.6887 - weightedf1score: 0.7109 - val_accuracy: 0.5402 - val_auc: 0.9359 - val_loss: 0.2700 - val_macrof1score: 0.5963 - val_microf1score: 0.7440 - val_prc: 0.8369 - val_precision: 0.7847 - val_recall: 0.7074 - val_weightedf1score: 0.7212 - learning_rate: 2.5000e-05\n",
      "Restoring model weights from the end of the best epoch: 10.\n",
      "Epoch 1/10\n",
      "\u001b[1m3544/3550\u001b[0m \u001b[32m━━━━━━━━━━━━━━━━━━━\u001b[0m\u001b[37m━\u001b[0m \u001b[1m0s\u001b[0m 8ms/step - accuracy: 0.3240 - auc: 0.8189 - loss: 0.4262 - macrof1score: 0.2905 - microf1score: 0.4641 - prc: 0.5662 - precision: 0.6184 - recall: 0.3766 - weightedf1score: 0.4249\n",
      "Epoch 1: val_recall improved from 0.50000 to 0.56848, saving model to models/soilgrid_elevation/binary_crossentropy-237212-7-11-06-64-32-soilgrids/model.keras\n",
      "\u001b[1m3550/3550\u001b[0m \u001b[32m━━━━━━━━━━━━━━━━━━━━\u001b[0m\u001b[37m\u001b[0m \u001b[1m53s\u001b[0m 9ms/step - accuracy: 0.3241 - auc: 0.8190 - loss: 0.4262 - macrof1score: 0.2906 - microf1score: 0.4643 - prc: 0.5663 - precision: 0.6184 - recall: 0.3767 - weightedf1score: 0.4251 - val_accuracy: 0.4289 - val_auc: 0.8885 - val_loss: 0.3503 - val_macrof1score: 0.4560 - val_microf1score: 0.6318 - val_prc: 0.7115 - val_precision: 0.7111 - val_recall: 0.5685 - val_weightedf1score: 0.5980 - learning_rate: 1.0000e-04\n",
      "Epoch 2/10\n",
      "\u001b[1m3549/3550\u001b[0m \u001b[32m━━━━━━━━━━━━━━━━━━━\u001b[0m\u001b[37m━\u001b[0m \u001b[1m0s\u001b[0m 8ms/step - accuracy: 0.4116 - auc: 0.8720 - loss: 0.3711 - macrof1score: 0.4125 - microf1score: 0.5923 - prc: 0.6648 - precision: 0.6804 - recall: 0.5244 - weightedf1score: 0.5563\n",
      "Epoch 2: val_recall improved from 0.56848 to 0.61149, saving model to models/soilgrid_elevation/binary_crossentropy-237212-7-11-06-64-32-soilgrids/model.keras\n",
      "\u001b[1m3550/3550\u001b[0m \u001b[32m━━━━━━━━━━━━━━━━━━━━\u001b[0m\u001b[37m\u001b[0m \u001b[1m29s\u001b[0m 8ms/step - accuracy: 0.4116 - auc: 0.8720 - loss: 0.3711 - macrof1score: 0.4125 - microf1score: 0.5923 - prc: 0.6648 - precision: 0.6804 - recall: 0.5244 - weightedf1score: 0.5563 - val_accuracy: 0.4446 - val_auc: 0.8955 - val_loss: 0.3393 - val_macrof1score: 0.4891 - val_microf1score: 0.6557 - val_prc: 0.7283 - val_precision: 0.7069 - val_recall: 0.6115 - val_weightedf1score: 0.6244 - learning_rate: 1.0000e-04\n",
      "Epoch 3/10\n",
      "\u001b[1m3544/3550\u001b[0m \u001b[32m━━━━━━━━━━━━━━━━━━━\u001b[0m\u001b[37m━\u001b[0m \u001b[1m0s\u001b[0m 7ms/step - accuracy: 0.4241 - auc: 0.8816 - loss: 0.3583 - macrof1score: 0.4388 - microf1score: 0.6150 - prc: 0.6861 - precision: 0.6902 - recall: 0.5545 - weightedf1score: 0.5810\n",
      "Epoch 3: val_recall did not improve from 0.61149\n",
      "\u001b[1m3550/3550\u001b[0m \u001b[32m━━━━━━━━━━━━━━━━━━━━\u001b[0m\u001b[37m\u001b[0m \u001b[1m28s\u001b[0m 8ms/step - accuracy: 0.4242 - auc: 0.8816 - loss: 0.3583 - macrof1score: 0.4388 - microf1score: 0.6150 - prc: 0.6861 - precision: 0.6902 - recall: 0.5545 - weightedf1score: 0.5810 - val_accuracy: 0.4455 - val_auc: 0.8998 - val_loss: 0.3333 - val_macrof1score: 0.4792 - val_microf1score: 0.6518 - val_prc: 0.7391 - val_precision: 0.7224 - val_recall: 0.5937 - val_weightedf1score: 0.6201 - learning_rate: 1.0000e-04\n",
      "Epoch 4/10\n",
      "\u001b[1m3544/3550\u001b[0m \u001b[32m━━━━━━━━━━━━━━━━━━━\u001b[0m\u001b[37m━\u001b[0m \u001b[1m0s\u001b[0m 8ms/step - accuracy: 0.4337 - auc: 0.8862 - loss: 0.3523 - macrof1score: 0.4527 - microf1score: 0.6253 - prc: 0.6976 - precision: 0.6956 - recall: 0.5680 - weightedf1score: 0.5925\n",
      "Epoch 4: val_recall did not improve from 0.61149\n",
      "\u001b[1m3550/3550\u001b[0m \u001b[32m━━━━━━━━━━━━━━━━━━━━\u001b[0m\u001b[37m\u001b[0m \u001b[1m28s\u001b[0m 8ms/step - accuracy: 0.4337 - auc: 0.8862 - loss: 0.3523 - macrof1score: 0.4527 - microf1score: 0.6253 - prc: 0.6976 - precision: 0.6956 - recall: 0.5680 - weightedf1score: 0.5925 - val_accuracy: 0.4523 - val_auc: 0.9025 - val_loss: 0.3296 - val_macrof1score: 0.5011 - val_microf1score: 0.6618 - val_prc: 0.7444 - val_precision: 0.7223 - val_recall: 0.6107 - val_weightedf1score: 0.6329 - learning_rate: 1.0000e-04\n",
      "Epoch 5/10\n",
      "\u001b[1m3544/3550\u001b[0m \u001b[32m━━━━━━━━━━━━━━━━━━━\u001b[0m\u001b[37m━\u001b[0m \u001b[1m0s\u001b[0m 8ms/step - accuracy: 0.4352 - auc: 0.8892 - loss: 0.3481 - macrof1score: 0.4620 - microf1score: 0.6321 - prc: 0.7053 - precision: 0.6982 - recall: 0.5774 - weightedf1score: 0.6001\n",
      "Epoch 5: val_recall improved from 0.61149 to 0.61744, saving model to models/soilgrid_elevation/binary_crossentropy-237212-7-11-06-64-32-soilgrids/model.keras\n",
      "\n",
      "Epoch 5: ReduceLROnPlateau reducing learning rate to 4.999999873689376e-05.\n",
      "\u001b[1m3550/3550\u001b[0m \u001b[32m━━━━━━━━━━━━━━━━━━━━\u001b[0m\u001b[37m\u001b[0m \u001b[1m28s\u001b[0m 8ms/step - accuracy: 0.4352 - auc: 0.8892 - loss: 0.3481 - macrof1score: 0.4620 - microf1score: 0.6321 - prc: 0.7053 - precision: 0.6982 - recall: 0.5774 - weightedf1score: 0.6001 - val_accuracy: 0.4500 - val_auc: 0.9040 - val_loss: 0.3269 - val_macrof1score: 0.5050 - val_microf1score: 0.6667 - val_prc: 0.7489 - val_precision: 0.7246 - val_recall: 0.6174 - val_weightedf1score: 0.6375 - learning_rate: 1.0000e-04\n",
      "Epoch 6/10\n",
      "\u001b[1m3544/3550\u001b[0m \u001b[32m━━━━━━━━━━━━━━━━━━━\u001b[0m\u001b[37m━\u001b[0m \u001b[1m0s\u001b[0m 8ms/step - accuracy: 0.4415 - auc: 0.8925 - loss: 0.3433 - macrof1score: 0.4694 - microf1score: 0.6405 - prc: 0.7127 - precision: 0.7023 - recall: 0.5887 - weightedf1score: 0.6083\n",
      "Epoch 6: val_recall improved from 0.61744 to 0.63288, saving model to models/soilgrid_elevation/binary_crossentropy-237212-7-11-06-64-32-soilgrids/model.keras\n",
      "\u001b[1m3550/3550\u001b[0m \u001b[32m━━━━━━━━━━━━━━━━━━━━\u001b[0m\u001b[37m\u001b[0m \u001b[1m28s\u001b[0m 8ms/step - accuracy: 0.4415 - auc: 0.8925 - loss: 0.3433 - macrof1score: 0.4694 - microf1score: 0.6405 - prc: 0.7127 - precision: 0.7023 - recall: 0.5887 - weightedf1score: 0.6083 - val_accuracy: 0.4568 - val_auc: 0.9055 - val_loss: 0.3243 - val_macrof1score: 0.5147 - val_microf1score: 0.6739 - val_prc: 0.7516 - val_precision: 0.7206 - val_recall: 0.6329 - val_weightedf1score: 0.6459 - learning_rate: 5.0000e-05\n",
      "Epoch 7/10\n",
      "\u001b[1m3544/3550\u001b[0m \u001b[32m━━━━━━━━━━━━━━━━━━━\u001b[0m\u001b[37m━\u001b[0m \u001b[1m0s\u001b[0m 8ms/step - accuracy: 0.4450 - auc: 0.8937 - loss: 0.3414 - macrof1score: 0.4724 - microf1score: 0.6437 - prc: 0.7168 - precision: 0.7051 - recall: 0.5921 - weightedf1score: 0.6115\n",
      "Epoch 7: val_recall improved from 0.63288 to 0.63603, saving model to models/soilgrid_elevation/binary_crossentropy-237212-7-11-06-64-32-soilgrids/model.keras\n",
      "\u001b[1m3550/3550\u001b[0m \u001b[32m━━━━━━━━━━━━━━━━━━━━\u001b[0m\u001b[37m\u001b[0m \u001b[1m28s\u001b[0m 8ms/step - accuracy: 0.4450 - auc: 0.8937 - loss: 0.3414 - macrof1score: 0.4724 - microf1score: 0.6437 - prc: 0.7168 - precision: 0.7051 - recall: 0.5921 - weightedf1score: 0.6115 - val_accuracy: 0.4570 - val_auc: 0.9063 - val_loss: 0.3231 - val_macrof1score: 0.5106 - val_microf1score: 0.6761 - val_prc: 0.7540 - val_precision: 0.7215 - val_recall: 0.6360 - val_weightedf1score: 0.6459 - learning_rate: 5.0000e-05\n",
      "Epoch 8/10\n",
      "\u001b[1m3548/3550\u001b[0m \u001b[32m━━━━━━━━━━━━━━━━━━━\u001b[0m\u001b[37m━\u001b[0m \u001b[1m0s\u001b[0m 8ms/step - accuracy: 0.4448 - auc: 0.8947 - loss: 0.3399 - macrof1score: 0.4745 - microf1score: 0.6456 - prc: 0.7198 - precision: 0.7055 - recall: 0.5951 - weightedf1score: 0.6134\n",
      "Epoch 8: val_recall did not improve from 0.63603\n",
      "\u001b[1m3550/3550\u001b[0m \u001b[32m━━━━━━━━━━━━━━━━━━━━\u001b[0m\u001b[37m\u001b[0m \u001b[1m28s\u001b[0m 8ms/step - accuracy: 0.4448 - auc: 0.8947 - loss: 0.3399 - macrof1score: 0.4745 - microf1score: 0.6456 - prc: 0.7198 - precision: 0.7055 - recall: 0.5951 - weightedf1score: 0.6134 - val_accuracy: 0.4579 - val_auc: 0.9070 - val_loss: 0.3219 - val_macrof1score: 0.5123 - val_microf1score: 0.6747 - val_prc: 0.7552 - val_precision: 0.7240 - val_recall: 0.6317 - val_weightedf1score: 0.6459 - learning_rate: 5.0000e-05\n",
      "Epoch 9/10\n",
      "\u001b[1m3544/3550\u001b[0m \u001b[32m━━━━━━━━━━━━━━━━━━━\u001b[0m\u001b[37m━\u001b[0m \u001b[1m0s\u001b[0m 8ms/step - accuracy: 0.4419 - auc: 0.8951 - loss: 0.3394 - macrof1score: 0.4791 - microf1score: 0.6479 - prc: 0.7195 - precision: 0.7058 - recall: 0.5988 - weightedf1score: 0.6163\n",
      "Epoch 9: val_recall improved from 0.63603 to 0.63644, saving model to models/soilgrid_elevation/binary_crossentropy-237212-7-11-06-64-32-soilgrids/model.keras\n",
      "\n",
      "Epoch 9: ReduceLROnPlateau reducing learning rate to 2.499999936844688e-05.\n",
      "\u001b[1m3550/3550\u001b[0m \u001b[32m━━━━━━━━━━━━━━━━━━━━\u001b[0m\u001b[37m\u001b[0m \u001b[1m28s\u001b[0m 8ms/step - accuracy: 0.4419 - auc: 0.8951 - loss: 0.3394 - macrof1score: 0.4791 - microf1score: 0.6479 - prc: 0.7195 - precision: 0.7058 - recall: 0.5988 - weightedf1score: 0.6163 - val_accuracy: 0.4598 - val_auc: 0.9077 - val_loss: 0.3207 - val_macrof1score: 0.5141 - val_microf1score: 0.6766 - val_prc: 0.7573 - val_precision: 0.7221 - val_recall: 0.6364 - val_weightedf1score: 0.6480 - learning_rate: 5.0000e-05\n",
      "Epoch 10/10\n",
      "\u001b[1m3544/3550\u001b[0m \u001b[32m━━━━━━━━━━━━━━━━━━━\u001b[0m\u001b[37m━\u001b[0m \u001b[1m0s\u001b[0m 7ms/step - accuracy: 0.4495 - auc: 0.8976 - loss: 0.3356 - macrof1score: 0.4823 - microf1score: 0.6524 - prc: 0.7262 - precision: 0.7086 - recall: 0.6044 - weightedf1score: 0.6211\n",
      "Epoch 10: val_recall did not improve from 0.63644\n",
      "\u001b[1m3550/3550\u001b[0m \u001b[32m━━━━━━━━━━━━━━━━━━━━\u001b[0m\u001b[37m\u001b[0m \u001b[1m28s\u001b[0m 8ms/step - accuracy: 0.4495 - auc: 0.8976 - loss: 0.3356 - macrof1score: 0.4823 - microf1score: 0.6524 - prc: 0.7262 - precision: 0.7086 - recall: 0.6044 - weightedf1score: 0.6211 - val_accuracy: 0.4633 - val_auc: 0.9088 - val_loss: 0.3193 - val_macrof1score: 0.5143 - val_microf1score: 0.6771 - val_prc: 0.7598 - val_precision: 0.7250 - val_recall: 0.6350 - val_weightedf1score: 0.6483 - learning_rate: 2.5000e-05\n",
      "Restoring model weights from the end of the best epoch: 9.\n",
      "Epoch 1/10\n",
      "\u001b[1m3550/3550\u001b[0m \u001b[32m━━━━━━━━━━━━━━━━━━━━\u001b[0m\u001b[37m\u001b[0m \u001b[1m0s\u001b[0m 30ms/step - accuracy: 0.2666 - auc: 0.7290 - loss: 0.4934 - macrof1score: 0.0865 - microf1score: 0.2189 - prc: 0.4344 - precision: 0.5223 - recall: 0.1387 - weightedf1score: 0.1659\n",
      "Epoch 1: val_recall did not improve from 0.50000\n",
      "\u001b[1m3550/3550\u001b[0m \u001b[32m━━━━━━━━━━━━━━━━━━━━\u001b[0m\u001b[37m\u001b[0m \u001b[1m127s\u001b[0m 32ms/step - accuracy: 0.2666 - auc: 0.7290 - loss: 0.4934 - macrof1score: 0.0865 - microf1score: 0.2189 - prc: 0.4344 - precision: 0.5223 - recall: 0.1387 - weightedf1score: 0.1659 - val_accuracy: 0.2736 - val_auc: 0.7378 - val_loss: 0.4896 - val_macrof1score: 0.0643 - val_microf1score: 0.1810 - val_prc: 0.4495 - val_precision: 0.5762 - val_recall: 0.1074 - val_weightedf1score: 0.1308 - learning_rate: 1.0000e-04\n",
      "Epoch 2/10\n",
      "\u001b[1m3550/3550\u001b[0m \u001b[32m━━━━━━━━━━━━━━━━━━━━\u001b[0m\u001b[37m\u001b[0m \u001b[1m0s\u001b[0m 29ms/step - accuracy: 0.2771 - auc: 0.7408 - loss: 0.4861 - macrof1score: 0.0855 - microf1score: 0.2314 - prc: 0.4495 - precision: 0.5457 - recall: 0.1469 - weightedf1score: 0.1681\n",
      "Epoch 2: val_recall did not improve from 0.50000\n",
      "\u001b[1m3550/3550\u001b[0m \u001b[32m━━━━━━━━━━━━━━━━━━━━\u001b[0m\u001b[37m\u001b[0m \u001b[1m106s\u001b[0m 30ms/step - accuracy: 0.2771 - auc: 0.7408 - loss: 0.4861 - macrof1score: 0.0855 - microf1score: 0.2314 - prc: 0.4495 - precision: 0.5457 - recall: 0.1469 - weightedf1score: 0.1681 - val_accuracy: 0.2613 - val_auc: 0.7387 - val_loss: 0.4920 - val_macrof1score: 0.0187 - val_microf1score: 0.0412 - val_prc: 0.4506 - val_precision: 0.5951 - val_recall: 0.0213 - val_weightedf1score: 0.0380 - learning_rate: 1.0000e-04\n",
      "Epoch 3/10\n",
      "\u001b[1m3548/3550\u001b[0m \u001b[32m━━━━━━━━━━━━━━━━━━━\u001b[0m\u001b[37m━\u001b[0m \u001b[1m0s\u001b[0m 29ms/step - accuracy: 0.2750 - auc: 0.7486 - loss: 0.4808 - macrof1score: 0.1038 - microf1score: 0.2534 - prc: 0.4606 - precision: 0.5542 - recall: 0.1643 - weightedf1score: 0.1951\n",
      "Epoch 3: val_recall did not improve from 0.50000\n",
      "\u001b[1m3550/3550\u001b[0m \u001b[32m━━━━━━━━━━━━━━━━━━━━\u001b[0m\u001b[37m\u001b[0m \u001b[1m105s\u001b[0m 29ms/step - accuracy: 0.2750 - auc: 0.7486 - loss: 0.4808 - macrof1score: 0.1038 - microf1score: 0.2534 - prc: 0.4606 - precision: 0.5542 - recall: 0.1643 - weightedf1score: 0.1951 - val_accuracy: 0.2168 - val_auc: 0.6879 - val_loss: 0.5380 - val_macrof1score: 0.1268 - val_microf1score: 0.2975 - val_prc: 0.3850 - val_precision: 0.4516 - val_recall: 0.2218 - val_weightedf1score: 0.2223 - learning_rate: 1.0000e-04\n",
      "Epoch 4/10\n",
      "\u001b[1m3548/3550\u001b[0m \u001b[32m━━━━━━━━━━━━━━━━━━━\u001b[0m\u001b[37m━\u001b[0m \u001b[1m0s\u001b[0m 28ms/step - accuracy: 0.2767 - auc: 0.7559 - loss: 0.4760 - macrof1score: 0.1168 - microf1score: 0.2691 - prc: 0.4711 - precision: 0.5625 - recall: 0.1769 - weightedf1score: 0.2139\n",
      "Epoch 4: val_recall did not improve from 0.50000\n",
      "\u001b[1m3550/3550\u001b[0m \u001b[32m━━━━━━━━━━━━━━━━━━━━\u001b[0m\u001b[37m\u001b[0m \u001b[1m104s\u001b[0m 29ms/step - accuracy: 0.2767 - auc: 0.7559 - loss: 0.4760 - macrof1score: 0.1168 - microf1score: 0.2691 - prc: 0.4711 - precision: 0.5625 - recall: 0.1769 - weightedf1score: 0.2139 - val_accuracy: 0.2320 - val_auc: 0.7264 - val_loss: 0.5016 - val_macrof1score: 0.1332 - val_microf1score: 0.3413 - val_prc: 0.4292 - val_precision: 0.4914 - val_recall: 0.2614 - val_weightedf1score: 0.2449 - learning_rate: 1.0000e-04\n",
      "Epoch 5/10\n",
      "\u001b[1m3549/3550\u001b[0m \u001b[32m━━━━━━━━━━━━━━━━━━━\u001b[0m\u001b[37m━\u001b[0m \u001b[1m0s\u001b[0m 28ms/step - accuracy: 0.2821 - auc: 0.7657 - loss: 0.4693 - macrof1score: 0.1452 - microf1score: 0.3043 - prc: 0.4856 - precision: 0.5725 - recall: 0.2073 - weightedf1score: 0.2541\n",
      "Epoch 5: val_recall did not improve from 0.50000\n",
      "\u001b[1m3550/3550\u001b[0m \u001b[32m━━━━━━━━━━━━━━━━━━━━\u001b[0m\u001b[37m\u001b[0m \u001b[1m105s\u001b[0m 29ms/step - accuracy: 0.2821 - auc: 0.7657 - loss: 0.4693 - macrof1score: 0.1452 - microf1score: 0.3043 - prc: 0.4856 - precision: 0.5725 - recall: 0.2073 - weightedf1score: 0.2541 - val_accuracy: 0.2688 - val_auc: 0.7275 - val_loss: 0.5033 - val_macrof1score: 0.1665 - val_microf1score: 0.3261 - val_prc: 0.4294 - val_precision: 0.4854 - val_recall: 0.2455 - val_weightedf1score: 0.2802 - learning_rate: 1.0000e-04\n",
      "Epoch 6/10\n",
      "\u001b[1m3550/3550\u001b[0m \u001b[32m━━━━━━━━━━━━━━━━━━━━\u001b[0m\u001b[37m\u001b[0m \u001b[1m0s\u001b[0m 29ms/step - accuracy: 0.2889 - auc: 0.7821 - loss: 0.4578 - macrof1score: 0.1851 - microf1score: 0.3537 - prc: 0.5100 - precision: 0.5833 - recall: 0.2538 - weightedf1score: 0.3077\n",
      "Epoch 6: val_recall did not improve from 0.50000\n",
      "\n",
      "Epoch 6: ReduceLROnPlateau reducing learning rate to 4.999999873689376e-05.\n",
      "\u001b[1m3550/3550\u001b[0m \u001b[32m━━━━━━━━━━━━━━━━━━━━\u001b[0m\u001b[37m\u001b[0m \u001b[1m105s\u001b[0m 30ms/step - accuracy: 0.2889 - auc: 0.7821 - loss: 0.4578 - macrof1score: 0.1851 - microf1score: 0.3537 - prc: 0.5100 - precision: 0.5833 - recall: 0.2538 - weightedf1score: 0.3077 - val_accuracy: 0.2088 - val_auc: 0.6986 - val_loss: 2.1374 - val_macrof1score: 0.2569 - val_microf1score: 0.4368 - val_prc: 0.3884 - val_precision: 0.4294 - val_recall: 0.4443 - val_weightedf1score: 0.3857 - learning_rate: 1.0000e-04\n",
      "Epoch 7/10\n",
      "\u001b[1m3550/3550\u001b[0m \u001b[32m━━━━━━━━━━━━━━━━━━━━\u001b[0m\u001b[37m\u001b[0m \u001b[1m0s\u001b[0m 28ms/step - accuracy: 0.3062 - auc: 0.7941 - loss: 0.4483 - macrof1score: 0.2132 - microf1score: 0.3915 - prc: 0.5311 - precision: 0.5983 - recall: 0.2910 - weightedf1score: 0.3446\n",
      "Epoch 7: val_recall did not improve from 0.50000\n",
      "\u001b[1m3550/3550\u001b[0m \u001b[32m━━━━━━━━━━━━━━━━━━━━\u001b[0m\u001b[37m\u001b[0m \u001b[1m104s\u001b[0m 29ms/step - accuracy: 0.3062 - auc: 0.7941 - loss: 0.4483 - macrof1score: 0.2132 - microf1score: 0.3915 - prc: 0.5311 - precision: 0.5983 - recall: 0.2910 - weightedf1score: 0.3446 - val_accuracy: 0.2174 - val_auc: 0.6976 - val_loss: 0.6510 - val_macrof1score: 0.1971 - val_microf1score: 0.3730 - val_prc: 0.3947 - val_precision: 0.4238 - val_recall: 0.3331 - val_weightedf1score: 0.3153 - learning_rate: 5.0000e-05\n",
      "Epoch 8/10\n",
      "\u001b[1m3550/3550\u001b[0m \u001b[32m━━━━━━━━━━━━━━━━━━━━\u001b[0m\u001b[37m\u001b[0m \u001b[1m0s\u001b[0m 29ms/step - accuracy: 0.3107 - auc: 0.7989 - loss: 0.4442 - macrof1score: 0.2276 - microf1score: 0.4082 - prc: 0.5396 - precision: 0.6003 - recall: 0.3093 - weightedf1score: 0.3617\n",
      "Epoch 8: val_recall did not improve from 0.50000\n",
      "\u001b[1m3550/3550\u001b[0m \u001b[32m━━━━━━━━━━━━━━━━━━━━\u001b[0m\u001b[37m\u001b[0m \u001b[1m105s\u001b[0m 30ms/step - accuracy: 0.3107 - auc: 0.7989 - loss: 0.4442 - macrof1score: 0.2276 - microf1score: 0.4082 - prc: 0.5396 - precision: 0.6003 - recall: 0.3093 - weightedf1score: 0.3617 - val_accuracy: 0.2396 - val_auc: 0.7186 - val_loss: 3.4654 - val_macrof1score: 0.2743 - val_microf1score: 0.4652 - val_prc: 0.4134 - val_precision: 0.4608 - val_recall: 0.4696 - val_weightedf1score: 0.4111 - learning_rate: 5.0000e-05\n",
      "Epoch 9/10\n",
      "\u001b[1m3550/3550\u001b[0m \u001b[32m━━━━━━━━━━━━━━━━━━━━\u001b[0m\u001b[37m\u001b[0m \u001b[1m0s\u001b[0m 29ms/step - accuracy: 0.3170 - auc: 0.8044 - loss: 0.4398 - macrof1score: 0.2453 - microf1score: 0.4268 - prc: 0.5491 - precision: 0.6044 - recall: 0.3298 - weightedf1score: 0.3808\n",
      "Epoch 9: val_recall did not improve from 0.50000\n",
      "\u001b[1m3550/3550\u001b[0m \u001b[32m━━━━━━━━━━━━━━━━━━━━\u001b[0m\u001b[37m\u001b[0m \u001b[1m106s\u001b[0m 30ms/step - accuracy: 0.3170 - auc: 0.8044 - loss: 0.4398 - macrof1score: 0.2453 - microf1score: 0.4268 - prc: 0.5491 - precision: 0.6044 - recall: 0.3299 - weightedf1score: 0.3808 - val_accuracy: 0.2117 - val_auc: 0.6627 - val_loss: 0.9845 - val_macrof1score: 0.1776 - val_microf1score: 0.3025 - val_prc: 0.3444 - val_precision: 0.3589 - val_recall: 0.2613 - val_weightedf1score: 0.2829 - learning_rate: 5.0000e-05\n",
      "Epoch 10/10\n",
      "\u001b[1m3550/3550\u001b[0m \u001b[32m━━━━━━━━━━━━━━━━━━━━\u001b[0m\u001b[37m\u001b[0m \u001b[1m0s\u001b[0m 29ms/step - accuracy: 0.3233 - auc: 0.8101 - loss: 0.4347 - macrof1score: 0.2559 - microf1score: 0.4422 - prc: 0.5580 - precision: 0.6107 - recall: 0.3465 - weightedf1score: 0.3950\n",
      "Epoch 10: val_recall did not improve from 0.50000\n",
      "\n",
      "Epoch 10: ReduceLROnPlateau reducing learning rate to 2.499999936844688e-05.\n",
      "\u001b[1m3550/3550\u001b[0m \u001b[32m━━━━━━━━━━━━━━━━━━━━\u001b[0m\u001b[37m\u001b[0m \u001b[1m107s\u001b[0m 30ms/step - accuracy: 0.3233 - auc: 0.8101 - loss: 0.4347 - macrof1score: 0.2559 - microf1score: 0.4422 - prc: 0.5580 - precision: 0.6107 - recall: 0.3465 - weightedf1score: 0.3950 - val_accuracy: 0.2280 - val_auc: 0.6638 - val_loss: 0.8745 - val_macrof1score: 0.1873 - val_microf1score: 0.3328 - val_prc: 0.3691 - val_precision: 0.4306 - val_recall: 0.2712 - val_weightedf1score: 0.2878 - learning_rate: 5.0000e-05\n",
      "Restoring model weights from the end of the best epoch: 8.\n",
      "Epoch 1/10\n",
      "\u001b[1m 235/3550\u001b[0m \u001b[32m━\u001b[0m\u001b[37m━━━━━━━━━━━━━━━━━━━\u001b[0m \u001b[1m3:58\u001b[0m 72ms/step - accuracy: 0.3395 - auc: 0.7853 - loss: 0.4457 - macrof1score: 0.2510 - microf1score: 0.4198 - prc: 0.5613 - precision: 0.6541 - recall: 0.3171 - weightedf1score: 0.3826"
     ]
    }
   ],
   "source": [
    "reload(keras_model_creator)\n",
    "\n",
    "band_groups = dict(\n",
    "    sentinel=selected_sentinel,\n",
    "    soilgrids=utils.soilgrids_bands,\n",
    "    elevation=utils.elevation_band\n",
    ")\n",
    "group_combinations = list(itertools.chain.from_iterable(\n",
    "    itertools.combinations(band_groups.keys(), r) for r in range(1, len(band_groups)+1)\n",
    "))\n",
    "for comb in tqdm(list(group_combinations)):\n",
    "    band_indices = []\n",
    "    for group_name in comb:\n",
    "        band_indices += [utils.all_bands.index(b) for b in band_groups[group_name]]\n",
    "\n",
    "    model_dir = model_parent_dir.joinpath(\n",
    "        f'{loss}-{len(selected_classes.index)}'\n",
    "        f'-{selected_classes.shape[1]}-{len(band_indices)}'\n",
    "        f'-{\"_\".join(seasons)}-{batch_size}-{base_filters}'\n",
    "        f'-{\"_\".join(comb)}'\n",
    "    )\n",
    "\n",
    "    model_dir.mkdir(parents=True, exist_ok=True)\n",
    "    \n",
    "    changing_params = dict(\n",
    "        model_dir=model_dir,\n",
    "        band_indices=band_indices,\n",
    "    )\n",
    "    params = fixed_params | changing_params\n",
    "    keras_model_creator.KerasModelCreator(**params).run()\n"
   ]
  },
  {
   "cell_type": "code",
   "execution_count": 6,
   "id": "6b433488-a51d-4b9a-b120-df7be914191f",
   "metadata": {},
   "outputs": [
    {
     "ename": "NameError",
     "evalue": "name 'names' is not defined",
     "output_type": "error",
     "traceback": [
      "\u001b[0;31m---------------------------------------------------------------------------\u001b[0m",
      "\u001b[0;31mNameError\u001b[0m                                 Traceback (most recent call last)",
      "Cell \u001b[0;32mIn[6], line 6\u001b[0m\n\u001b[1;32m      3\u001b[0m best_metric \u001b[38;5;241m=\u001b[39m \u001b[38;5;124m'\u001b[39m\u001b[38;5;124mval_weightedf1score\u001b[39m\u001b[38;5;124m'\u001b[39m\n\u001b[1;32m      4\u001b[0m best_rows \u001b[38;5;241m=\u001b[39m []\n\u001b[0;32m----> 6\u001b[0m \u001b[38;5;28;01mfor\u001b[39;00m name, band_group \u001b[38;5;129;01min\u001b[39;00m \u001b[38;5;28mzip\u001b[39m(\u001b[43mnames\u001b[49m, band_groups):\n\u001b[1;32m      7\u001b[0m     model_dirs \u001b[38;5;241m=\u001b[39m \u001b[38;5;28mlist\u001b[39m(model_parent_dir\u001b[38;5;241m.\u001b[39mglob(\u001b[38;5;124mf\u001b[39m\u001b[38;5;124m'\u001b[39m\u001b[38;5;124m*\u001b[39m\u001b[38;5;132;01m{\u001b[39;00mname\u001b[38;5;132;01m}\u001b[39;00m\u001b[38;5;124m'\u001b[39m))\n\u001b[1;32m      8\u001b[0m     \u001b[38;5;28;01mfor\u001b[39;00m model_dir \u001b[38;5;129;01min\u001b[39;00m model_dirs:\n",
      "\u001b[0;31mNameError\u001b[0m: name 'names' is not defined"
     ]
    }
   ],
   "source": [
    "reload(plot_utils)\n",
    "\n",
    "best_metric = 'val_weightedf1score'\n",
    "best_rows = []\n",
    "\n",
    "for comb in tqdm(list(group_combinations)):\n",
    "    model_dirs = list(model_parent_dir.glob(f'*{\"_\".join(comb)}'))\n",
    "    for model_dir in model_dirs:\n",
    "        df = pd.read_csv(model_dir.joinpath('model.log'))\n",
    "        best = df[df[best_metric] == df[best_metric].max()]\n",
    "\n",
    "        best[band_groups.keys()] = [int(c in band_groups.keys()) for c in comb]\n",
    "        best_rows.append(best)\n",
    "        \n",
    "best_df = pd.concat(best_rows).round(2).reset_index(drop=True)\n",
    "line_cols = ['recall', 'precision', 'weightedf1score']\n",
    "line_cols += ['prc', 'auc']\n",
    "fig = px.line(best_df, y=line_cols, x=names)\n",
    "\n",
    "figure_dir = Path('report', 'figures', 'figures_analysis')\n",
    "figure_dir.mkdir(exist_ok=True)\n",
    "fig.write_image(figure_dir.joinpath('soil_elevation_analysis.pdf'))\n",
    "fig"
   ]
  },
  {
   "cell_type": "code",
   "execution_count": null,
   "id": "ea161b31-a930-4376-a823-1098ebb68ec8",
   "metadata": {},
   "outputs": [],
   "source": []
  },
  {
   "cell_type": "code",
   "execution_count": null,
   "id": "8ff66acb-8904-4a81-81d1-b539acdf742f",
   "metadata": {},
   "outputs": [],
   "source": []
  },
  {
   "cell_type": "code",
   "execution_count": null,
   "id": "efac47da-bbc0-4033-97a2-4758c77f8160",
   "metadata": {},
   "outputs": [],
   "source": []
  },
  {
   "cell_type": "code",
   "execution_count": null,
   "id": "77a57cfb-f044-4572-80c9-56b44f37a044",
   "metadata": {},
   "outputs": [],
   "source": [
    "# for eval_year in [2017, 2020, 2021, 2022, 2023]:\n",
    "    # eval_generator = DataGenerator(\n",
    "        # utils.selected_classes.index, shuffle=False, year=eval_year, **params)\n",
    "#     preds_path = model_dir.joinpath(f\"preds_{params['year']}.npy\")\n",
    "#     if preds_path.is_file():\n",
    "#         y_pred = np.load(preds_path)\n",
    "#     else:\n",
    "#         y_pred = model.predict(x=eval_generator, verbose=1)\n",
    "#         np.save(preds_path, y_pred)\n",
    "\n",
    "#     y_true = utils.selected_classes.iloc[:y_pred.shape[0]].to_numpy()\n",
    "#     cm = confusion_matrix(y_true.flatten(), (y_pred > 0.5).flatten().astype(int))\n",
    "#     plot = ConfusionMatrixDisplay(confusion_matrix=cm).plot()\n",
    "#     display(plot)"
   ]
  },
  {
   "cell_type": "markdown",
   "id": "ea3e6f12-dd14-4343-9c6d-773fa3a785e2",
   "metadata": {},
   "source": [
    "Visualise the confusion matrix for each class."
   ]
  },
  {
   "cell_type": "code",
   "execution_count": null,
   "id": "4b31e04e-9435-44d6-95d4-a9258e024215",
   "metadata": {},
   "outputs": [],
   "source": [
    "# import matplotlib.pyplot as plt\n",
    "\n",
    "# class_names = utils.selected_classes.columns\n",
    "\n",
    "# f, axes = plt.subplots(4, 2, figsize=(25, 30))\n",
    "# axes = axes.ravel()\n",
    "# for label in range(y_true.shape[1]):\n",
    "#     cm = confusion_matrix(y_true[..., label].astype(int), (y_pred[..., label] > 0.5).astype(int))\n",
    "#     disp = ConfusionMatrixDisplay(cm)\n",
    "#     disp.plot(ax=axes[label], values_format='.4g')\n",
    "#     disp.ax_.set_title(f'{class_names[label]}')\n",
    "#     if label < 25:\n",
    "#         disp.ax_.set_xlabel('')\n",
    "#     if label % 5 != 0:\n",
    "#         disp.ax_.set_ylabel('')\n",
    "#     disp.im_.colorbar.remove()\n",
    "\n",
    "# plt.subplots_adjust(wspace=0.2, hspace=0.001)\n",
    "# f.colorbar(disp.im_, ax=axes)\n",
    "# plt.show()\n"
   ]
  },
  {
   "cell_type": "code",
   "execution_count": null,
   "id": "8ded61bd-6527-4b12-bd22-d3404e4a5040",
   "metadata": {},
   "outputs": [],
   "source": [
    "# import tensorflow\n",
    "# tensorflow.keras.utils.plot_model(model, show_shapes=True)\n",
    "# model.summary()"
   ]
  },
  {
   "cell_type": "markdown",
   "id": "f641a5cd-e57c-4d5f-90cd-85f50929af91",
   "metadata": {},
   "source": [
    "Visualise the model."
   ]
  },
  {
   "cell_type": "code",
   "execution_count": null,
   "id": "bd7dfc9b-afde-43c1-a167-9a8fba6690ab",
   "metadata": {},
   "outputs": [],
   "source": [
    "# import tensorflow\n",
    "# tensorflow.keras.utils.plot_model(\n",
    "#     model, to_file=model_dir.joinpath('model.png'),\n",
    "#     show_shapes=True, show_layer_activations=True,\n",
    "# )"
   ]
  },
  {
   "cell_type": "markdown",
   "id": "70a0cc0b-d45a-4a45-9c4f-beac8233e779",
   "metadata": {},
   "source": [
    "Correlate the model with climate variables (to move?)"
   ]
  },
  {
   "cell_type": "code",
   "execution_count": null,
   "id": "138d220c-0c2d-459a-b995-ec95e3036002",
   "metadata": {},
   "outputs": [],
   "source": [
    "# import plotly.express as px\n",
    "\n",
    "# class_names = utils.selected_classes.columns\n",
    "# indices = utils.selected_classes.index\n",
    "\n",
    "# preds_path = model_dir.joinpath(f'preds_2020.npy')\n",
    "# y_prev = np.load(preds_path)\n",
    "\n",
    "# weather_prev = pd.read_csv(Path('weather_data', 'era5_2020.csv'))\n",
    "# eval_years = [2021, 2022, 2023]\n",
    "# corrs = []\n",
    "\n",
    "# for eval_year in eval_years:\n",
    "#     preds_path = model_dir.joinpath(f'preds_{eval_year}.npy')\n",
    "#     y_pred = np.load(preds_path)\n",
    "#     y_diff = pd.DataFrame(y_pred - y_prev, columns=class_names)\n",
    "    \n",
    "#     weather = pd.read_csv(Path('weather_data', f'era5_{eval_year}.csv'))\n",
    "#     weather_diff = ((weather - weather_prev)\n",
    "#                     .loc[indices]\n",
    "#                     .iloc[:y_pred.shape[0]]\n",
    "#                     .iloc[y_diff.index])\n",
    "    \n",
    "#     corr = y_diff.join(weather_diff).corr(method='pearson').round(2)\n",
    "#     corrs.append(corr)\n",
    "\n",
    "#     y_prev = y_pred\n",
    "#     weather_prev = weather\n",
    "\n",
    "# fig = px.imshow(\n",
    "#     np.array(corrs),\n",
    "#     animation_frame=0,\n",
    "#     labels=dict(color=\"Corr coef\"),\n",
    "#     x=corrs[0].index,\n",
    "#     y=corrs[0].columns,\n",
    "#     title='Annual correlation heatmap',\n",
    "#     text_auto=True, aspect='auto', zmin=0, height=500\n",
    "# )\n",
    "# fig.layout.sliders[0]['currentvalue']['prefix'] = ''\n",
    "# for year, step in zip(eval_years, fig.layout.sliders[0].steps):\n",
    "#     step.label = str(year)\n",
    "\n",
    "# fig"
   ]
  },
  {
   "cell_type": "code",
   "execution_count": null,
   "id": "b5189141-5f07-4aac-a68f-00a24ec5d69d",
   "metadata": {},
   "outputs": [],
   "source": []
  },
  {
   "cell_type": "code",
   "execution_count": null,
   "id": "ea018983-f959-487b-9bda-61c90da0d6d9",
   "metadata": {},
   "outputs": [],
   "source": []
  },
  {
   "cell_type": "code",
   "execution_count": null,
   "id": "b9c133ed-b865-42ad-9935-fa99da84321c",
   "metadata": {},
   "outputs": [],
   "source": []
  },
  {
   "cell_type": "code",
   "execution_count": null,
   "id": "66ab74e4-7a10-4448-a3ae-4c8b169e5d81",
   "metadata": {},
   "outputs": [],
   "source": []
  },
  {
   "cell_type": "code",
   "execution_count": null,
   "id": "b460e4fc-dc07-4238-bfa4-576718377b57",
   "metadata": {},
   "outputs": [],
   "source": []
  },
  {
   "cell_type": "code",
   "execution_count": null,
   "id": "4a77bb90-895e-499d-9071-d827b97c3881",
   "metadata": {},
   "outputs": [],
   "source": []
  }
 ],
 "metadata": {
  "kernelspec": {
   "display_name": "Python 3 (ipykernel)",
   "language": "python",
   "name": "python3"
  },
  "language_info": {
   "codemirror_mode": {
    "name": "ipython",
    "version": 3
   },
   "file_extension": ".py",
   "mimetype": "text/x-python",
   "name": "python",
   "nbconvert_exporter": "python",
   "pygments_lexer": "ipython3",
   "version": "3.10.14"
  },
  "widgets": {
   "application/vnd.jupyter.widget-state+json": {
    "state": {},
    "version_major": 2,
    "version_minor": 0
   }
  }
 },
 "nbformat": 4,
 "nbformat_minor": 5
}
