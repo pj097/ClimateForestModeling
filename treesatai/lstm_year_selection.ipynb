{
 "cells": [
  {
   "cell_type": "code",
   "execution_count": 1,
   "id": "45a09dcb-b90b-45d7-b5a2-54996a34ada0",
   "metadata": {},
   "outputs": [
    {
     "name": "stderr",
     "output_type": "stream",
     "text": [
      "2024-05-28 16:01:20.781231: I tensorflow/core/platform/cpu_feature_guard.cc:210] This TensorFlow binary is optimized to use available CPU instructions in performance-critical operations.\n",
      "To enable the following instructions: AVX2 FMA, in other operations, rebuild TensorFlow with the appropriate compiler flags.\n",
      "2024-05-28 16:01:21.654847: W tensorflow/compiler/tf2tensorrt/utils/py_utils.cc:38] TF-TRT Warning: Could not find TensorRT\n"
     ]
    }
   ],
   "source": [
    "from tqdm.notebook import tqdm\n",
    "from IPython.display import display, HTML\n",
    "\n",
    "import numpy as np\n",
    "import pandas as pd\n",
    "\n",
    "import plotly.graph_objects as go\n",
    "\n",
    "import datetime\n",
    "from pathlib import Path\n",
    "\n",
    "import intake\n",
    "\n",
    "from sklearn.model_selection import train_test_split\n",
    "from sklearn.metrics import classification_report\n",
    "from sklearn.utils import shuffle\n",
    "import itertools\n",
    "\n",
    "from tensorflow.keras.regularizers import l2\n",
    "import tensorflow as tf\n",
    "from tensorflow.keras import backend as K\n",
    "\n",
    "from tensorflow.keras.layers import *"
   ]
  },
  {
   "cell_type": "code",
   "execution_count": 2,
   "id": "17759222-56d5-4a21-ba7d-c508b05ea21c",
   "metadata": {},
   "outputs": [],
   "source": [
    "catalog = intake.open_catalog(Path('../catalog.yml'))\n",
    "source = getattr(catalog, 'treesat_multi')\n",
    "df = source.read()"
   ]
  },
  {
   "cell_type": "code",
   "execution_count": 3,
   "id": "0749fbd3-b6ee-443c-b12c-741c2ee1f1bb",
   "metadata": {},
   "outputs": [],
   "source": [
    "selected_bands = [f'B{x}' for x in range(2, 9)] + ['B8A', 'B11', 'B12', 'TCI_R', 'TCI_G', 'TCI_B']"
   ]
  },
  {
   "cell_type": "code",
   "execution_count": 4,
   "id": "d5926fbe-15c2-4fa6-8977-99eafdcb5ca3",
   "metadata": {},
   "outputs": [],
   "source": [
    "target = source.metadata['categories']['multi'] # multi / trinary\n",
    "labels = df[target].to_numpy()\n",
    "\n",
    "model_dir = Path('models').joinpath('seasons')\n",
    "model_dir.mkdir(parents=True, exist_ok=True)\n",
    "\n",
    "data_dir = Path('seasonal_median')"
   ]
  },
  {
   "cell_type": "code",
   "execution_count": 5,
   "id": "a2f56c9d-ecd0-477f-948b-02aab7c0e25d",
   "metadata": {},
   "outputs": [],
   "source": [
    "label_year = df['YEAR'].astype(int).to_numpy()\n",
    "\n",
    "label_year = np.where(label_year < 2017, 2017, label_year)\n",
    "\n",
    "shuffled_indices = shuffle(np.arange(labels.shape[0]), random_state=42)\n",
    "shuffled_indices = np.arange(labels.shape[0])\n",
    "\n",
    "def get_features(years, seasons, data_dir, shuffled_indices, label_year):\n",
    "    selected_data = np.zeros((label_year.shape[0], len(seasons), 6, 6, 13))\n",
    "    for s, season in enumerate(seasons):\n",
    "        for y, year in enumerate(years):\n",
    "            filepath = data_dir.joinpath(f'processed_treesat_{year}{str(season).zfill(2)}.npy')\n",
    "            with open(filepath, 'rb') as f:\n",
    "                data = np.load(f)\n",
    "\n",
    "            year_indices = np.where(label_year == year)\n",
    "            selected_data[year_indices, s, ...] = data[year_indices]\n",
    "        selected_data[:, s, ...] = selected_data[shuffled_indices, s, ...]\n",
    "    return selected_data"
   ]
  },
  {
   "cell_type": "code",
   "execution_count": 6,
   "id": "7a5fb97e-b021-4620-9b31-468323822101",
   "metadata": {},
   "outputs": [],
   "source": [
    "class KerasModelCreator:\n",
    "    def normalise_X(self, X, p=1):\n",
    "        upper = np.percentile(X, 100-p)\n",
    "        lower = np.percentile(X, p)\n",
    "    \n",
    "        bounded_X = np.where(X > upper, np.median(X), X)\n",
    "        bounded_X = np.where(X < lower, np.median(X), bounded_X)\n",
    "        \n",
    "        scaled_X = (bounded_X - lower)/(upper - lower)\n",
    "        return scaled_X\n",
    "\n",
    "    def run(self, X, y, model_path, epochs=10, batch_size=10, overwrite=False):\n",
    "        ''' \n",
    "        If not overwrite and there's an existing model, the model will \n",
    "        continue trainingw if the given epoch is bigger than the previous,\n",
    "        else just evaluate.\n",
    "        Ensure train splits are the same across continuations / evaluations\n",
    "        by not modifying the random_state in split_and_normalise.\n",
    "        '''\n",
    "        model_savepoint = model_path.parent.joinpath(model_path.stem)\n",
    "        log_file = model_path.with_suffix('.log')\n",
    "\n",
    "        if overwrite:\n",
    "            for f in [model_path, log_file] + list(model_savepoint.glob('*')):\n",
    "                f.unlink(missing_ok=True)\n",
    "                \n",
    "        for i in range(X.shape[-1]):\n",
    "            X[...,i] = self.normalise_X(X[...,i])\n",
    "        \n",
    "        default_metrics = ['accuracy', 'root_mean_squared_error', 'r2_score']\n",
    "        \n",
    "        if model_path.is_file():\n",
    "            model = tf.keras.models.load_model(model_path)\n",
    "        else:\n",
    "            model = self.build_model(y.shape[1], X.shape[1:], default_metrics)\n",
    "\n",
    "        callbacks = [\n",
    "            tf.keras.callbacks.BackupAndRestore(\n",
    "                model_savepoint, save_freq='epoch', delete_checkpoint=False\n",
    "            ),\n",
    "            tf.keras.callbacks.CSVLogger(log_file, append=True),\n",
    "            tf.keras.callbacks.ModelCheckpoint(\n",
    "                model_path, monitor='accuracy', save_best_only=True, \n",
    "                save_freq='epoch', initial_value_threshold=0.4\n",
    "            )\n",
    "        ]\n",
    "        \n",
    "        if log_file.is_file():\n",
    "            val_metrics = ['val_' + x for x in default_metrics]\n",
    "            df = pd.read_csv(log_file)[['epoch', 'loss'] + default_metrics + val_metrics]\n",
    "            df['epoch'] += 1\n",
    "            print('Previous training:')\n",
    "                \n",
    "            display(HTML(df.to_html(index=False)))\n",
    "        \n",
    "        model.fit(\n",
    "            X, y, epochs=epochs, verbose=1, batch_size=batch_size, \n",
    "            callbacks=callbacks, shuffle=False\n",
    "        )\n",
    "        \n",
    "    def build_model(self, output_shape, input_shape, metrics):\n",
    "        m = tf.keras.Sequential()\n",
    "        \n",
    "        m.add(Input(input_shape))\n",
    "\n",
    "        m.add(ConvLSTM2D(\n",
    "            filters=8, kernel_size=3, \n",
    "            padding='same', activation='tanh',\n",
    "            kernel_regularizer=l2(0.001),\n",
    "            return_sequences=False,\n",
    "            unroll=True,\n",
    "        ))\n",
    "        m.add(Flatten())\n",
    "        m.add(Dense(output_shape, activation='softmax'))\n",
    "        m.compile(optimizer='rmsprop', loss='mse', metrics=metrics)\n",
    "        \n",
    "        return m"
   ]
  },
  {
   "cell_type": "code",
   "execution_count": 7,
   "id": "d105fc9d-03a1-418a-8deb-0d1b1975d7bc",
   "metadata": {},
   "outputs": [],
   "source": [
    "train_years = [2017, 2018, 2019]\n",
    "all_seasons = [3, 6, 9, 12]\n",
    "\n",
    "model_name = f'lstm_seasons_{\"_\".join(map(str, all_seasons))}_years_{\"_\".join(map(str, train_years))}.keras'\n",
    "model_path = model_dir.joinpath(model_name)\n",
    "\n",
    "train_features = get_features(train_years, all_seasons, data_dir, shuffled_indices, label_year)"
   ]
  },
  {
   "cell_type": "code",
   "execution_count": 8,
   "id": "ace0a102-03f4-4825-8a3e-43dae2a2c169",
   "metadata": {},
   "outputs": [
    {
     "name": "stdout",
     "output_type": "stream",
     "text": [
      "Epoch 1/5\n",
      "\u001b[1m5039/5039\u001b[0m \u001b[32m━━━━━━━━━━━━━━━━━━━━\u001b[0m\u001b[37m\u001b[0m \u001b[1m18s\u001b[0m 3ms/step - accuracy: 0.7315 - loss: 0.0223 - r2_score: 0.2333 - root_mean_squared_error: 0.1396\n",
      "Epoch 2/5\n",
      "\u001b[1m5039/5039\u001b[0m \u001b[32m━━━━━━━━━━━━━━━━━━━━\u001b[0m\u001b[37m\u001b[0m \u001b[1m18s\u001b[0m 4ms/step - accuracy: 0.7556 - loss: 0.0186 - r2_score: 0.2815 - root_mean_squared_error: 0.1331\n",
      "Epoch 3/5\n",
      "\u001b[1m5039/5039\u001b[0m \u001b[32m━━━━━━━━━━━━━━━━━━━━\u001b[0m\u001b[37m\u001b[0m \u001b[1m19s\u001b[0m 4ms/step - accuracy: 0.7634 - loss: 0.0181 - r2_score: 0.2667 - root_mean_squared_error: 0.1311\n",
      "Epoch 4/5\n",
      "\u001b[1m5039/5039\u001b[0m \u001b[32m━━━━━━━━━━━━━━━━━━━━\u001b[0m\u001b[37m\u001b[0m \u001b[1m20s\u001b[0m 4ms/step - accuracy: 0.7622 - loss: 0.0180 - r2_score: 0.2894 - root_mean_squared_error: 0.1309\n",
      "Epoch 5/5\n",
      "\u001b[1m5039/5039\u001b[0m \u001b[32m━━━━━━━━━━━━━━━━━━━━\u001b[0m\u001b[37m\u001b[0m \u001b[1m20s\u001b[0m 4ms/step - accuracy: 0.7750 - loss: 0.0170 - r2_score: 0.3070 - root_mean_squared_error: 0.1271\n"
     ]
    }
   ],
   "source": [
    "result = KerasModelCreator().run(\n",
    "    train_features,\n",
    "    labels[shuffled_indices],\n",
    "    model_path, epochs=5, batch_size=10, overwrite=True\n",
    ")"
   ]
  },
  {
   "cell_type": "code",
   "execution_count": 9,
   "id": "7aa015a8-2039-43e7-bd6d-a45edde3ba40",
   "metadata": {},
   "outputs": [
    {
     "name": "stdout",
     "output_type": "stream",
     "text": [
      "\u001b[1m1575/1575\u001b[0m \u001b[32m━━━━━━━━━━━━━━━━━━━━\u001b[0m\u001b[37m\u001b[0m \u001b[1m6s\u001b[0m 3ms/step - accuracy: 0.0306 - loss: 0.0592 - r2_score: -23.0126 - root_mean_squared_error: 0.2430\n"
     ]
    },
    {
     "data": {
      "text/plain": [
       "{'accuracy': 0.03507274389266968,\n",
       " 'loss': 0.05818498507142067,\n",
       " 'r2_score': -2.5639801025390625,\n",
       " 'root_mean_squared_error': 0.24083393812179565}"
      ]
     },
     "execution_count": 9,
     "metadata": {},
     "output_type": "execute_result"
    }
   ],
   "source": [
    "test_years = [y + 0 for y in train_years]\n",
    "test_features = get_features(test_years, all_seasons, data_dir, shuffled_indices, label_year)\n",
    "\n",
    "for i in range(test_features.shape[-1]):\n",
    "    test_features[...,i] = KerasModelCreator().normalise_X(test_features[...,i])\n",
    "    \n",
    "model = tf.keras.models.load_model(model_path)\n",
    "\n",
    "model.evaluate(test_features, labels[shuffled_indices], return_dict=True)"
   ]
  },
  {
   "cell_type": "code",
   "execution_count": 13,
   "id": "2c32b084-5b8e-44c3-ae46-6623b95ee929",
   "metadata": {},
   "outputs": [],
   "source": [
    "label_year = df['YEAR'].astype(int).to_numpy()\n",
    "label_year = np.where(label_year == 2020)[0]\n",
    "\n",
    "shuffled_indices = shuffle(np.arange(labels.shape[0]), random_state=42)\n",
    "shuffled_indices = np.arange(labels.shape[0])\n",
    "\n",
    "def get_features(year, seasons, data_dir, shuffled_indices, label_year):\n",
    "    selected_data = np.zeros((label_year.shape[0], len(seasons), 6, 6, 13))\n",
    "    for s, season in enumerate(seasons):\n",
    "        for y, year in enumerate(years):\n",
    "            filepath = data_dir.joinpath(f'processed_treesat_{year}{str(season).zfill(2)}.npy')\n",
    "            with open(filepath, 'rb') as f:\n",
    "                data = np.load(f)\n",
    "\n",
    "            year_indices = np.where(label_year == year)\n",
    "            selected_data[year_indices, s, ...] = data[year_indices]\n",
    "        selected_data[:, s, ...] = selected_data[shuffled_indices, s, ...]\n",
    "    return selected_data\n",
    "\n",
    "test_year = 2020\n",
    "test_features = get_features(test_year, all_seasons, data_dir, shuffled_indices, label_year)\n"
   ]
  },
  {
   "cell_type": "code",
   "execution_count": 10,
   "id": "c1a88adb-eca0-44ba-9b83-49adb7994137",
   "metadata": {},
   "outputs": [
    {
     "data": {
      "text/html": [
       "<pre style=\"white-space:pre;overflow-x:auto;line-height:normal;font-family:Menlo,'DejaVu Sans Mono',consolas,'Courier New',monospace\"><span style=\"font-weight: bold\">Model: \"sequential\"</span>\n",
       "</pre>\n"
      ],
      "text/plain": [
       "\u001b[1mModel: \"sequential\"\u001b[0m\n"
      ]
     },
     "metadata": {},
     "output_type": "display_data"
    },
    {
     "data": {
      "text/html": [
       "<pre style=\"white-space:pre;overflow-x:auto;line-height:normal;font-family:Menlo,'DejaVu Sans Mono',consolas,'Courier New',monospace\">┏━━━━━━━━━━━━━━━━━━━━━━━━━━━━━━━━━┳━━━━━━━━━━━━━━━━━━━━━━━━┳━━━━━━━━━━━━━━━┓\n",
       "┃<span style=\"font-weight: bold\"> Layer (type)                    </span>┃<span style=\"font-weight: bold\"> Output Shape           </span>┃<span style=\"font-weight: bold\">       Param # </span>┃\n",
       "┡━━━━━━━━━━━━━━━━━━━━━━━━━━━━━━━━━╇━━━━━━━━━━━━━━━━━━━━━━━━╇━━━━━━━━━━━━━━━┩\n",
       "│ conv_lstm2d (<span style=\"color: #0087ff; text-decoration-color: #0087ff\">ConvLSTM2D</span>)        │ (<span style=\"color: #00d7ff; text-decoration-color: #00d7ff\">None</span>, <span style=\"color: #00af00; text-decoration-color: #00af00\">6</span>, <span style=\"color: #00af00; text-decoration-color: #00af00\">6</span>, <span style=\"color: #00af00; text-decoration-color: #00af00\">8</span>)        │         <span style=\"color: #00af00; text-decoration-color: #00af00\">6,080</span> │\n",
       "├─────────────────────────────────┼────────────────────────┼───────────────┤\n",
       "│ flatten (<span style=\"color: #0087ff; text-decoration-color: #0087ff\">Flatten</span>)               │ (<span style=\"color: #00d7ff; text-decoration-color: #00d7ff\">None</span>, <span style=\"color: #00af00; text-decoration-color: #00af00\">288</span>)            │             <span style=\"color: #00af00; text-decoration-color: #00af00\">0</span> │\n",
       "├─────────────────────────────────┼────────────────────────┼───────────────┤\n",
       "│ dense (<span style=\"color: #0087ff; text-decoration-color: #0087ff\">Dense</span>)                   │ (<span style=\"color: #00d7ff; text-decoration-color: #00d7ff\">None</span>, <span style=\"color: #00af00; text-decoration-color: #00af00\">15</span>)             │         <span style=\"color: #00af00; text-decoration-color: #00af00\">4,335</span> │\n",
       "└─────────────────────────────────┴────────────────────────┴───────────────┘\n",
       "</pre>\n"
      ],
      "text/plain": [
       "┏━━━━━━━━━━━━━━━━━━━━━━━━━━━━━━━━━┳━━━━━━━━━━━━━━━━━━━━━━━━┳━━━━━━━━━━━━━━━┓\n",
       "┃\u001b[1m \u001b[0m\u001b[1mLayer (type)                   \u001b[0m\u001b[1m \u001b[0m┃\u001b[1m \u001b[0m\u001b[1mOutput Shape          \u001b[0m\u001b[1m \u001b[0m┃\u001b[1m \u001b[0m\u001b[1m      Param #\u001b[0m\u001b[1m \u001b[0m┃\n",
       "┡━━━━━━━━━━━━━━━━━━━━━━━━━━━━━━━━━╇━━━━━━━━━━━━━━━━━━━━━━━━╇━━━━━━━━━━━━━━━┩\n",
       "│ conv_lstm2d (\u001b[38;5;33mConvLSTM2D\u001b[0m)        │ (\u001b[38;5;45mNone\u001b[0m, \u001b[38;5;34m6\u001b[0m, \u001b[38;5;34m6\u001b[0m, \u001b[38;5;34m8\u001b[0m)        │         \u001b[38;5;34m6,080\u001b[0m │\n",
       "├─────────────────────────────────┼────────────────────────┼───────────────┤\n",
       "│ flatten (\u001b[38;5;33mFlatten\u001b[0m)               │ (\u001b[38;5;45mNone\u001b[0m, \u001b[38;5;34m288\u001b[0m)            │             \u001b[38;5;34m0\u001b[0m │\n",
       "├─────────────────────────────────┼────────────────────────┼───────────────┤\n",
       "│ dense (\u001b[38;5;33mDense\u001b[0m)                   │ (\u001b[38;5;45mNone\u001b[0m, \u001b[38;5;34m15\u001b[0m)             │         \u001b[38;5;34m4,335\u001b[0m │\n",
       "└─────────────────────────────────┴────────────────────────┴───────────────┘\n"
      ]
     },
     "metadata": {},
     "output_type": "display_data"
    },
    {
     "data": {
      "text/html": [
       "<pre style=\"white-space:pre;overflow-x:auto;line-height:normal;font-family:Menlo,'DejaVu Sans Mono',consolas,'Courier New',monospace\"><span style=\"font-weight: bold\"> Total params: </span><span style=\"color: #00af00; text-decoration-color: #00af00\">20,832</span> (81.38 KB)\n",
       "</pre>\n"
      ],
      "text/plain": [
       "\u001b[1m Total params: \u001b[0m\u001b[38;5;34m20,832\u001b[0m (81.38 KB)\n"
      ]
     },
     "metadata": {},
     "output_type": "display_data"
    },
    {
     "data": {
      "text/html": [
       "<pre style=\"white-space:pre;overflow-x:auto;line-height:normal;font-family:Menlo,'DejaVu Sans Mono',consolas,'Courier New',monospace\"><span style=\"font-weight: bold\"> Trainable params: </span><span style=\"color: #00af00; text-decoration-color: #00af00\">10,415</span> (40.68 KB)\n",
       "</pre>\n"
      ],
      "text/plain": [
       "\u001b[1m Trainable params: \u001b[0m\u001b[38;5;34m10,415\u001b[0m (40.68 KB)\n"
      ]
     },
     "metadata": {},
     "output_type": "display_data"
    },
    {
     "data": {
      "text/html": [
       "<pre style=\"white-space:pre;overflow-x:auto;line-height:normal;font-family:Menlo,'DejaVu Sans Mono',consolas,'Courier New',monospace\"><span style=\"font-weight: bold\"> Non-trainable params: </span><span style=\"color: #00af00; text-decoration-color: #00af00\">0</span> (0.00 B)\n",
       "</pre>\n"
      ],
      "text/plain": [
       "\u001b[1m Non-trainable params: \u001b[0m\u001b[38;5;34m0\u001b[0m (0.00 B)\n"
      ]
     },
     "metadata": {},
     "output_type": "display_data"
    },
    {
     "data": {
      "text/html": [
       "<pre style=\"white-space:pre;overflow-x:auto;line-height:normal;font-family:Menlo,'DejaVu Sans Mono',consolas,'Courier New',monospace\"><span style=\"font-weight: bold\"> Optimizer params: </span><span style=\"color: #00af00; text-decoration-color: #00af00\">10,417</span> (40.70 KB)\n",
       "</pre>\n"
      ],
      "text/plain": [
       "\u001b[1m Optimizer params: \u001b[0m\u001b[38;5;34m10,417\u001b[0m (40.70 KB)\n"
      ]
     },
     "metadata": {},
     "output_type": "display_data"
    }
   ],
   "source": [
    "tf.keras.models.load_model(model_path).summary()"
   ]
  },
  {
   "cell_type": "code",
   "execution_count": 11,
   "id": "b5189141-5f07-4aac-a68f-00a24ec5d69d",
   "metadata": {},
   "outputs": [],
   "source": [
    "# import subprocess\n",
    "# subprocess.run(['sudo', 'shutdown', 'now'])"
   ]
  },
  {
   "cell_type": "code",
   "execution_count": null,
   "id": "b3d9ac97-f1ca-4de2-b1ff-9c02483c878e",
   "metadata": {},
   "outputs": [],
   "source": []
  },
  {
   "cell_type": "code",
   "execution_count": 12,
   "id": "ea018983-f959-487b-9bda-61c90da0d6d9",
   "metadata": {},
   "outputs": [],
   "source": [
    "# season_combinations = itertools.chain.from_iterable(\n",
    "#     itertools.combinations(all_seasons, r) for r in range(1, len(all_seasons)+1))\n",
    "# season_combinations = list(season_combinations)"
   ]
  }
 ],
 "metadata": {
  "kernelspec": {
   "display_name": "Python 3 (ipykernel)",
   "language": "python",
   "name": "python3"
  },
  "language_info": {
   "codemirror_mode": {
    "name": "ipython",
    "version": 3
   },
   "file_extension": ".py",
   "mimetype": "text/x-python",
   "name": "python",
   "nbconvert_exporter": "python",
   "pygments_lexer": "ipython3",
   "version": "3.10.14"
  },
  "widgets": {
   "application/vnd.jupyter.widget-state+json": {
    "state": {},
    "version_major": 2,
    "version_minor": 0
   }
  }
 },
 "nbformat": 4,
 "nbformat_minor": 5
}
