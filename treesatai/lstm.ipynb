{
 "cells": [
  {
   "cell_type": "code",
   "execution_count": 1,
   "id": "45a09dcb-b90b-45d7-b5a2-54996a34ada0",
   "metadata": {},
   "outputs": [
    {
     "name": "stderr",
     "output_type": "stream",
     "text": [
      "2024-05-21 20:04:16.766971: I tensorflow/core/platform/cpu_feature_guard.cc:210] This TensorFlow binary is optimized to use available CPU instructions in performance-critical operations.\n",
      "To enable the following instructions: AVX2 FMA, in other operations, rebuild TensorFlow with the appropriate compiler flags.\n",
      "2024-05-21 20:04:17.641236: W tensorflow/compiler/tf2tensorrt/utils/py_utils.cc:38] TF-TRT Warning: Could not find TensorRT\n"
     ]
    }
   ],
   "source": [
    "from tqdm.notebook import tqdm\n",
    "from IPython.display import display, HTML\n",
    "\n",
    "import numpy as np\n",
    "import pandas as pd\n",
    "\n",
    "import plotly.graph_objects as go\n",
    "\n",
    "import datetime\n",
    "from pathlib import Path\n",
    "\n",
    "import intake\n",
    "\n",
    "from sklearn.model_selection import train_test_split\n",
    "from sklearn.metrics import classification_report\n",
    "from sklearn.utils import shuffle\n",
    "import itertools\n",
    "\n",
    "from tensorflow.keras.regularizers import l2\n",
    "import tensorflow as tf\n",
    "from tensorflow.keras import backend as K\n",
    "\n",
    "from tensorflow.keras.layers import ConvLSTM2D, Conv2D, Conv3D, Dense, TimeDistributed, MaxPooling2D \n",
    "from tensorflow.keras.layers import Activation, Dropout, Flatten, BatchNormalization, Input\n",
    "from tensorflow.keras.layers import LSTM, GlobalAveragePooling3D, GlobalAveragePooling2D\n",
    "from tensorflow.keras.layers import GlobalAveragePooling1D"
   ]
  },
  {
   "cell_type": "code",
   "execution_count": 2,
   "id": "17759222-56d5-4a21-ba7d-c508b05ea21c",
   "metadata": {},
   "outputs": [],
   "source": [
    "catalog = intake.open_catalog(Path('../catalog.yml'))\n",
    "source = getattr(catalog, 'treesat_multi')\n",
    "df = source.read()"
   ]
  },
  {
   "cell_type": "code",
   "execution_count": 3,
   "id": "0749fbd3-b6ee-443c-b12c-741c2ee1f1bb",
   "metadata": {},
   "outputs": [],
   "source": [
    "selected_bands = [f'B{x}' for x in range(2, 9)] + ['B8A', 'B11', 'B12', 'TCI_R', 'TCI_G', 'TCI_B']"
   ]
  },
  {
   "cell_type": "code",
   "execution_count": 4,
   "id": "d5926fbe-15c2-4fa6-8977-99eafdcb5ca3",
   "metadata": {},
   "outputs": [],
   "source": [
    "target = source.metadata['categories']['multi'] # multi / trinary\n",
    "labels = df[target].to_numpy()\n",
    "\n",
    "indexes = np.arange(labels.shape[0])\n",
    "shuffled_indexes = shuffle(indexes, random_state=42)\n",
    "\n",
    "shuffled_labels = labels[shuffled_indexes]\n",
    "\n",
    "shuffled_years = df['YEAR'].astype(int).to_numpy()[shuffled_indexes]\n",
    "shuffled_years = np.where(shuffled_years < 2017, 2017, shuffled_years)\n",
    "\n",
    "model_dir = Path('models').joinpath('seasons')\n",
    "model_dir.mkdir(parents=True, exist_ok=True)\n",
    "\n",
    "data_dir = Path('seasonal_median')"
   ]
  },
  {
   "cell_type": "code",
   "execution_count": 5,
   "id": "60406a1e-8c7e-45de-84bf-fa08231c27ae",
   "metadata": {},
   "outputs": [],
   "source": [
    "def get_training_features(years, seasons, data_dir, shuffled_years):\n",
    "    selected_data = []\n",
    "    for season in seasons:\n",
    "        year_data = np.zeros((shuffled_years.shape[0], 6, 6, 13))\n",
    "\n",
    "        for year in years:\n",
    "            year_indices = np.where(shuffled_years == year)[0]\n",
    "\n",
    "            filepath = data_dir.joinpath(f'processed_treesat_{year}{str(season).zfill(2)}.npy')\n",
    "            with open(filepath, 'rb') as f:\n",
    "                year_data[year_indices, ...] = np.load(f)[year_indices]\n",
    "        selected_data.append(year_data)\n",
    "        \n",
    "    return np.stack(selected_data, axis=1)"
   ]
  },
  {
   "cell_type": "code",
   "execution_count": 6,
   "id": "7a5fb97e-b021-4620-9b31-468323822101",
   "metadata": {},
   "outputs": [],
   "source": [
    "class KerasModelCreator:\n",
    "    def normalise_X(self, X, p=1):\n",
    "        upper = np.percentile(X, 100-p)\n",
    "        lower = np.percentile(X, p)\n",
    "    \n",
    "        bounded_X = np.where(X > upper, np.median(X), X)\n",
    "        bounded_X = np.where(X < lower, np.median(X), bounded_X)\n",
    "        \n",
    "        scaled_X = (bounded_X - lower)/(upper - lower)\n",
    "        return scaled_X\n",
    "\n",
    "    def run(self, X, y, model_path, epochs=10, overwrite=False):\n",
    "        ''' \n",
    "        If not overwrite and there's an existing model, the model will \n",
    "        continue trainingw if the given epoch is bigger than the previous,\n",
    "        else just evaluate.\n",
    "        Ensure train splits are the same across continuations / evaluations\n",
    "        by not modifying the random_state in split_and_normalise.\n",
    "        '''\n",
    "        model_savepoint = model_path.parent.joinpath(model_path.stem)\n",
    "        log_file = model_path.with_suffix('.log')\n",
    "\n",
    "        if overwrite:\n",
    "            for f in [model_path, log_file] + list(model_savepoint.glob('*')):\n",
    "                f.unlink(missing_ok=True)\n",
    "                \n",
    "        X_train, X_test, y_train, y_test = train_test_split(\n",
    "            X, y, test_size=0.1, random_state=42, shuffle=False)\n",
    "        \n",
    "        for i in range(X_train.shape[-1]):\n",
    "            X_train[...,i] = self.normalise_X(X_train[...,i])\n",
    "            X_test[...,i] = self.normalise_X(X_test[...,i])\n",
    "        \n",
    "        default_metrics = ['accuracy', 'root_mean_squared_error', 'r2_score']\n",
    "        \n",
    "        if model_path.is_file():\n",
    "            model = tf.keras.models.load_model(model_path)\n",
    "        else:\n",
    "            model = self.build_model(y.shape[1], X_train.shape[1:], default_metrics)\n",
    "\n",
    "        callbacks = [\n",
    "            tf.keras.callbacks.BackupAndRestore(\n",
    "                model_savepoint, save_freq='epoch', delete_checkpoint=False\n",
    "            ),\n",
    "            tf.keras.callbacks.CSVLogger(\n",
    "                log_file, append=True\n",
    "            )\n",
    "        ]\n",
    "\n",
    "        if log_file.is_file():\n",
    "            df = pd.read_csv(log_file)[['epoch', 'loss'] + default_metrics]\n",
    "            df['epoch'] += 1\n",
    "            print('Previous training:')\n",
    "                \n",
    "            display(HTML(df.to_html(index=False)))\n",
    "        \n",
    "        model.fit(\n",
    "            X_train, y_train, epochs=epochs, verbose=1, batch_size=10, callbacks=callbacks, \n",
    "            shuffle=False, validation_data=(X_test, y_test)\n",
    "        )\n",
    "\n",
    "        model.save(model_path)\n",
    "\n",
    "        \n",
    "    def build_model(self, output_shape, input_shape, metrics):\n",
    "        m = tf.keras.Sequential()\n",
    "        \n",
    "        m.add(Input(input_shape))\n",
    "\n",
    "        m.add(ConvLSTM2D(\n",
    "            filters=32, kernel_size=2, \n",
    "            padding='same', activation='tanh',\n",
    "            return_sequences=True\n",
    "        ))\n",
    "\n",
    "        m.add(Conv3D(\n",
    "            filters=16, kernel_size=2, \n",
    "            padding='same'\n",
    "        ))\n",
    "\n",
    "        # m.add(GlobalAveragePooling2D())\n",
    "        m.add(Flatten())\n",
    "        \n",
    "        m.add(Dense(\n",
    "            output_shape, \n",
    "            activation='softmax', \n",
    "        ))\n",
    "        m.compile(optimizer='rmsprop', loss='mse', metrics=metrics)\n",
    "        \n",
    "        return m"
   ]
  },
  {
   "cell_type": "code",
   "execution_count": 7,
   "id": "d105fc9d-03a1-418a-8deb-0d1b1975d7bc",
   "metadata": {},
   "outputs": [],
   "source": [
    "train_years = [2017, 2018, 2019, 2020]\n",
    "all_seasons = [3, 6, 9, 12]\n",
    "\n",
    "model_name = f'conv_seasons_{\"_\".join(map(str, all_seasons))}_years_{\"_\".join(map(str, train_years))}.keras'\n",
    "model_path = model_dir.joinpath(model_name)\n",
    "\n",
    "train_features = get_training_features(train_years, all_seasons, data_dir, shuffled_years)"
   ]
  },
  {
   "cell_type": "code",
   "execution_count": 8,
   "id": "779da9f8-a099-4e96-a330-a78c2008a3ac",
   "metadata": {},
   "outputs": [
    {
     "data": {
      "text/plain": [
       "(50381, 4, 6, 6, 13)"
      ]
     },
     "execution_count": 8,
     "metadata": {},
     "output_type": "execute_result"
    }
   ],
   "source": [
    "train_features.shape"
   ]
  },
  {
   "cell_type": "code",
   "execution_count": null,
   "id": "ace0a102-03f4-4825-8a3e-43dae2a2c169",
   "metadata": {},
   "outputs": [
    {
     "name": "stdout",
     "output_type": "stream",
     "text": [
      "Epoch 1/20\n",
      "\u001b[1m4535/4535\u001b[0m \u001b[32m━━━━━━━━━━━━━━━━━━━━\u001b[0m\u001b[37m\u001b[0m \u001b[1m29s\u001b[0m 6ms/step - accuracy: 0.1573 - loss: 0.0488 - r2_score: -0.0145 - root_mean_squared_error: 0.2209 - val_accuracy: 0.1725 - val_loss: 0.0488 - val_r2_score: -0.0010 - val_root_mean_squared_error: 0.2209\n",
      "Epoch 2/20\n",
      "\u001b[1m4535/4535\u001b[0m \u001b[32m━━━━━━━━━━━━━━━━━━━━\u001b[0m\u001b[37m\u001b[0m \u001b[1m29s\u001b[0m 6ms/step - accuracy: 0.1674 - loss: 0.0485 - r2_score: -6.3600e-04 - root_mean_squared_error: 0.2203 - val_accuracy: 0.1683 - val_loss: 0.0488 - val_r2_score: -1.1264e-04 - val_root_mean_squared_error: 0.2208\n",
      "Epoch 3/20\n",
      "\u001b[1m4535/4535\u001b[0m \u001b[32m━━━━━━━━━━━━━━━━━━━━\u001b[0m\u001b[37m\u001b[0m \u001b[1m29s\u001b[0m 6ms/step - accuracy: 0.1704 - loss: 0.0485 - r2_score: 4.4402e-04 - root_mean_squared_error: 0.2202 - val_accuracy: 0.1661 - val_loss: 0.0487 - val_r2_score: 3.0641e-04 - val_root_mean_squared_error: 0.2208\n",
      "Epoch 4/20\n",
      "\u001b[1m4535/4535\u001b[0m \u001b[32m━━━━━━━━━━━━━━━━━━━━\u001b[0m\u001b[37m\u001b[0m \u001b[1m29s\u001b[0m 7ms/step - accuracy: 0.1726 - loss: 0.0484 - r2_score: 0.0011 - root_mean_squared_error: 0.2201 - val_accuracy: 0.1677 - val_loss: 0.0487 - val_r2_score: 6.3957e-04 - val_root_mean_squared_error: 0.2207\n",
      "Epoch 5/20\n",
      "\u001b[1m4535/4535\u001b[0m \u001b[32m━━━━━━━━━━━━━━━━━━━━\u001b[0m\u001b[37m\u001b[0m \u001b[1m29s\u001b[0m 7ms/step - accuracy: 0.1742 - loss: 0.0484 - r2_score: 0.0016 - root_mean_squared_error: 0.2200 - val_accuracy: 0.1697 - val_loss: 0.0487 - val_r2_score: 9.8019e-04 - val_root_mean_squared_error: 0.2206\n",
      "Epoch 6/20\n",
      "\u001b[1m4535/4535\u001b[0m \u001b[32m━━━━━━━━━━━━━━━━━━━━\u001b[0m\u001b[37m\u001b[0m \u001b[1m30s\u001b[0m 7ms/step - accuracy: 0.1762 - loss: 0.0484 - r2_score: 0.0020 - root_mean_squared_error: 0.2200 - val_accuracy: 0.1721 - val_loss: 0.0487 - val_r2_score: 0.0013 - val_root_mean_squared_error: 0.2206\n",
      "Epoch 7/20\n",
      "\u001b[1m4535/4535\u001b[0m \u001b[32m━━━━━━━━━━━━━━━━━━━━\u001b[0m\u001b[37m\u001b[0m \u001b[1m30s\u001b[0m 7ms/step - accuracy: 0.1776 - loss: 0.0484 - r2_score: 0.0024 - root_mean_squared_error: 0.2199 - val_accuracy: 0.1736 - val_loss: 0.0486 - val_r2_score: 0.0015 - val_root_mean_squared_error: 0.2205\n",
      "Epoch 8/20\n",
      "\u001b[1m4535/4535\u001b[0m \u001b[32m━━━━━━━━━━━━━━━━━━━━\u001b[0m\u001b[37m\u001b[0m \u001b[1m30s\u001b[0m 7ms/step - accuracy: 0.1793 - loss: 0.0483 - r2_score: 0.0028 - root_mean_squared_error: 0.2199 - val_accuracy: 0.1742 - val_loss: 0.0486 - val_r2_score: 0.0017 - val_root_mean_squared_error: 0.2205\n",
      "Epoch 9/20\n",
      "\u001b[1m4535/4535\u001b[0m \u001b[32m━━━━━━━━━━━━━━━━━━━━\u001b[0m\u001b[37m\u001b[0m \u001b[1m30s\u001b[0m 7ms/step - accuracy: 0.1808 - loss: 0.0483 - r2_score: 0.0032 - root_mean_squared_error: 0.2198 - val_accuracy: 0.1756 - val_loss: 0.0486 - val_r2_score: 0.0018 - val_root_mean_squared_error: 0.2205\n",
      "Epoch 10/20\n",
      "\u001b[1m4535/4535\u001b[0m \u001b[32m━━━━━━━━━━━━━━━━━━━━\u001b[0m\u001b[37m\u001b[0m \u001b[1m30s\u001b[0m 7ms/step - accuracy: 0.1816 - loss: 0.0483 - r2_score: 0.0036 - root_mean_squared_error: 0.2197 - val_accuracy: 0.1776 - val_loss: 0.0486 - val_r2_score: 0.0019 - val_root_mean_squared_error: 0.2205\n",
      "Epoch 11/20\n",
      "\u001b[1m4535/4535\u001b[0m \u001b[32m━━━━━━━━━━━━━━━━━━━━\u001b[0m\u001b[37m\u001b[0m \u001b[1m30s\u001b[0m 7ms/step - accuracy: 0.1835 - loss: 0.0483 - r2_score: 0.0040 - root_mean_squared_error: 0.2197 - val_accuracy: 0.1790 - val_loss: 0.0486 - val_r2_score: 0.0019 - val_root_mean_squared_error: 0.2205\n",
      "Epoch 12/20\n",
      "\u001b[1m4535/4535\u001b[0m \u001b[32m━━━━━━━━━━━━━━━━━━━━\u001b[0m\u001b[37m\u001b[0m \u001b[1m30s\u001b[0m 7ms/step - accuracy: 0.1851 - loss: 0.0482 - r2_score: 0.0043 - root_mean_squared_error: 0.2196 - val_accuracy: 0.1772 - val_loss: 0.0486 - val_r2_score: 0.0020 - val_root_mean_squared_error: 0.2205\n",
      "Epoch 13/20\n",
      "\u001b[1m4535/4535\u001b[0m \u001b[32m━━━━━━━━━━━━━━━━━━━━\u001b[0m\u001b[37m\u001b[0m \u001b[1m30s\u001b[0m 7ms/step - accuracy: 0.1862 - loss: 0.0482 - r2_score: 0.0047 - root_mean_squared_error: 0.2196 - val_accuracy: 0.1774 - val_loss: 0.0486 - val_r2_score: 0.0019 - val_root_mean_squared_error: 0.2205\n",
      "Epoch 14/20\n",
      "\u001b[1m4535/4535\u001b[0m \u001b[32m━━━━━━━━━━━━━━━━━━━━\u001b[0m\u001b[37m\u001b[0m \u001b[1m30s\u001b[0m 7ms/step - accuracy: 0.1883 - loss: 0.0482 - r2_score: 0.0051 - root_mean_squared_error: 0.2195 - val_accuracy: 0.1762 - val_loss: 0.0486 - val_r2_score: 0.0019 - val_root_mean_squared_error: 0.2205\n",
      "Epoch 15/20\n",
      "\u001b[1m4535/4535\u001b[0m \u001b[32m━━━━━━━━━━━━━━━━━━━━\u001b[0m\u001b[37m\u001b[0m \u001b[1m30s\u001b[0m 7ms/step - accuracy: 0.1895 - loss: 0.0482 - r2_score: 0.0055 - root_mean_squared_error: 0.2195 - val_accuracy: 0.1776 - val_loss: 0.0486 - val_r2_score: 0.0019 - val_root_mean_squared_error: 0.2205\n",
      "Epoch 16/20\n",
      "\u001b[1m4535/4535\u001b[0m \u001b[32m━━━━━━━━━━━━━━━━━━━━\u001b[0m\u001b[37m\u001b[0m \u001b[1m30s\u001b[0m 7ms/step - accuracy: 0.1909 - loss: 0.0481 - r2_score: 0.0059 - root_mean_squared_error: 0.2194 - val_accuracy: 0.1772 - val_loss: 0.0486 - val_r2_score: 0.0019 - val_root_mean_squared_error: 0.2205\n",
      "Epoch 17/20\n",
      "\u001b[1m4535/4535\u001b[0m \u001b[32m━━━━━━━━━━━━━━━━━━━━\u001b[0m\u001b[37m\u001b[0m \u001b[1m30s\u001b[0m 7ms/step - accuracy: 0.1923 - loss: 0.0481 - r2_score: 0.0063 - root_mean_squared_error: 0.2193 - val_accuracy: 0.1758 - val_loss: 0.0486 - val_r2_score: 0.0018 - val_root_mean_squared_error: 0.2205\n",
      "Epoch 18/20\n",
      "\u001b[1m4535/4535\u001b[0m \u001b[32m━━━━━━━━━━━━━━━━━━━━\u001b[0m\u001b[37m\u001b[0m \u001b[1m29s\u001b[0m 6ms/step - accuracy: 0.1936 - loss: 0.0481 - r2_score: 0.0068 - root_mean_squared_error: 0.2193 - val_accuracy: 0.1762 - val_loss: 0.0486 - val_r2_score: 0.0017 - val_root_mean_squared_error: 0.2205\n",
      "Epoch 19/20\n",
      "\u001b[1m4535/4535\u001b[0m \u001b[32m━━━━━━━━━━━━━━━━━━━━\u001b[0m\u001b[37m\u001b[0m \u001b[1m30s\u001b[0m 7ms/step - accuracy: 0.1949 - loss: 0.0480 - r2_score: 0.0073 - root_mean_squared_error: 0.2192 - val_accuracy: 0.1738 - val_loss: 0.0486 - val_r2_score: 0.0016 - val_root_mean_squared_error: 0.2205\n",
      "Epoch 20/20\n",
      "\u001b[1m3326/4535\u001b[0m \u001b[32m━━━━━━━━━━━━━━\u001b[0m\u001b[37m━━━━━━\u001b[0m \u001b[1m7s\u001b[0m 6ms/step - accuracy: 0.1970 - loss: 0.0480 - r2_score: 0.0076 - root_mean_squared_error: 0.2190"
     ]
    }
   ],
   "source": [
    "result = KerasModelCreator().run(\n",
    "    train_features,\n",
    "    shuffled_labels,\n",
    "    model_path, epochs=20, overwrite=True\n",
    ")"
   ]
  },
  {
   "cell_type": "code",
   "execution_count": null,
   "id": "1156bde7-a279-465b-9c62-a9c34ae0f829",
   "metadata": {},
   "outputs": [],
   "source": []
  },
  {
   "cell_type": "code",
   "execution_count": null,
   "id": "7aa015a8-2039-43e7-bd6d-a45edde3ba40",
   "metadata": {},
   "outputs": [],
   "source": []
  },
  {
   "cell_type": "code",
   "execution_count": null,
   "id": "c1a88adb-eca0-44ba-9b83-49adb7994137",
   "metadata": {},
   "outputs": [],
   "source": [
    "tf.keras.models.load_model(model_path).summary()"
   ]
  },
  {
   "cell_type": "code",
   "execution_count": null,
   "id": "b5189141-5f07-4aac-a68f-00a24ec5d69d",
   "metadata": {},
   "outputs": [],
   "source": [
    "# import subprocess\n",
    "# subprocess.run(['sudo', 'shutdown', 'now'])"
   ]
  },
  {
   "cell_type": "code",
   "execution_count": null,
   "id": "72407593-09ed-4c4d-a3de-61118eee207c",
   "metadata": {},
   "outputs": [],
   "source": []
  },
  {
   "cell_type": "code",
   "execution_count": null,
   "id": "b3378d43-42ae-4f34-9df2-6e74e58f1822",
   "metadata": {},
   "outputs": [],
   "source": []
  },
  {
   "cell_type": "code",
   "execution_count": null,
   "id": "b3d9ac97-f1ca-4de2-b1ff-9c02483c878e",
   "metadata": {},
   "outputs": [],
   "source": []
  },
  {
   "cell_type": "code",
   "execution_count": null,
   "id": "ea018983-f959-487b-9bda-61c90da0d6d9",
   "metadata": {},
   "outputs": [],
   "source": [
    "# season_combinations = itertools.chain.from_iterable(\n",
    "#     itertools.combinations(all_seasons, r) for r in range(1, len(all_seasons)+1))\n",
    "# season_combinations = list(season_combinations)"
   ]
  }
 ],
 "metadata": {
  "kernelspec": {
   "display_name": "Python 3 (ipykernel)",
   "language": "python",
   "name": "python3"
  },
  "language_info": {
   "codemirror_mode": {
    "name": "ipython",
    "version": 3
   },
   "file_extension": ".py",
   "mimetype": "text/x-python",
   "name": "python",
   "nbconvert_exporter": "python",
   "pygments_lexer": "ipython3",
   "version": "3.10.14"
  },
  "widgets": {
   "application/vnd.jupyter.widget-state+json": {
    "state": {},
    "version_major": 2,
    "version_minor": 0
   }
  }
 },
 "nbformat": 4,
 "nbformat_minor": 5
}
