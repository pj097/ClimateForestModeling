{
 "cells": [
  {
   "cell_type": "code",
   "execution_count": 1,
   "id": "45a09dcb-b90b-45d7-b5a2-54996a34ada0",
   "metadata": {},
   "outputs": [
    {
     "name": "stderr",
     "output_type": "stream",
     "text": [
      "2024-05-27 17:03:21.287362: I tensorflow/core/platform/cpu_feature_guard.cc:210] This TensorFlow binary is optimized to use available CPU instructions in performance-critical operations.\n",
      "To enable the following instructions: AVX2 FMA, in other operations, rebuild TensorFlow with the appropriate compiler flags.\n",
      "2024-05-27 17:03:22.502282: W tensorflow/compiler/tf2tensorrt/utils/py_utils.cc:38] TF-TRT Warning: Could not find TensorRT\n"
     ]
    }
   ],
   "source": [
    "from tqdm.notebook import tqdm\n",
    "from IPython.display import display, HTML\n",
    "\n",
    "import numpy as np\n",
    "import pandas as pd\n",
    "\n",
    "import plotly.graph_objects as go\n",
    "\n",
    "import datetime\n",
    "from pathlib import Path\n",
    "\n",
    "import intake\n",
    "\n",
    "from sklearn.model_selection import train_test_split\n",
    "from sklearn.metrics import classification_report\n",
    "from sklearn.utils import shuffle\n",
    "import itertools\n",
    "\n",
    "from tensorflow.keras.regularizers import l2\n",
    "import tensorflow as tf\n",
    "from tensorflow.keras import backend as K\n",
    "\n",
    "from tensorflow.keras.layers import *"
   ]
  },
  {
   "cell_type": "code",
   "execution_count": 2,
   "id": "17759222-56d5-4a21-ba7d-c508b05ea21c",
   "metadata": {},
   "outputs": [],
   "source": [
    "catalog = intake.open_catalog(Path('../catalog.yml'))\n",
    "source = getattr(catalog, 'treesat_multi')\n",
    "df = source.read()"
   ]
  },
  {
   "cell_type": "code",
   "execution_count": 3,
   "id": "0749fbd3-b6ee-443c-b12c-741c2ee1f1bb",
   "metadata": {},
   "outputs": [],
   "source": [
    "selected_bands = [f'B{x}' for x in range(2, 9)] + ['B8A', 'B11', 'B12', 'TCI_R', 'TCI_G', 'TCI_B']"
   ]
  },
  {
   "cell_type": "code",
   "execution_count": 4,
   "id": "d5926fbe-15c2-4fa6-8977-99eafdcb5ca3",
   "metadata": {},
   "outputs": [],
   "source": [
    "target = source.metadata['categories']['multi'] # multi / trinary\n",
    "labels = df[target].to_numpy()\n",
    "\n",
    "model_dir = Path('models').joinpath('seasons')\n",
    "model_dir.mkdir(parents=True, exist_ok=True)\n",
    "\n",
    "data_dir = Path('seasonal_median')"
   ]
  },
  {
   "cell_type": "code",
   "execution_count": 5,
   "id": "60406a1e-8c7e-45de-84bf-fa08231c27ae",
   "metadata": {},
   "outputs": [],
   "source": [
    "def get_features(years, seasons, data_dir):\n",
    "    selected_data = []\n",
    "    for year in years:\n",
    "        for season in seasons:\n",
    "            filepath = data_dir.joinpath(\n",
    "                f'processed_treesat_{year}{str(season).zfill(2)}.npy')\n",
    "            with open(filepath, 'rb') as f:\n",
    "                data = np.load(f)\n",
    "            selected_data.append(data)\n",
    "    return np.stack(selected_data, axis=1)"
   ]
  },
  {
   "cell_type": "code",
   "execution_count": 7,
   "id": "7a5fb97e-b021-4620-9b31-468323822101",
   "metadata": {},
   "outputs": [],
   "source": [
    "class KerasModelCreator:\n",
    "    def normalise_X(self, X, p=1):\n",
    "        upper = np.percentile(X, 100-p)\n",
    "        lower = np.percentile(X, p)\n",
    "    \n",
    "        bounded_X = np.where(X > upper, np.median(X), X)\n",
    "        bounded_X = np.where(X < lower, np.median(X), bounded_X)\n",
    "        \n",
    "        scaled_X = (bounded_X - lower)/(upper - lower)\n",
    "        return scaled_X\n",
    "\n",
    "    def run(self, X, y, model_path, epochs, batch_size=10, overwrite=False):\n",
    "        ''' \n",
    "        If not overwrite and there's an existing model, the model will \n",
    "        continue trainingw if the given epoch is bigger than the previous,\n",
    "        else just evaluate.\n",
    "        Ensure train splits are the same across continuations / evaluations\n",
    "        by not modifying the random_state in split_and_normalise.\n",
    "        '''\n",
    "        model_savepoint = model_path.parent.joinpath(model_path.stem)\n",
    "        log_file = model_path.with_suffix('.log')\n",
    "\n",
    "        if overwrite:\n",
    "            for f in [model_path, log_file] + list(model_savepoint.glob('*')):\n",
    "                f.unlink(missing_ok=True)\n",
    "\n",
    "        X_train, X_test, y_train, y_test = train_test_split(\n",
    "            X, y, test_size=0.1, random_state=42)\n",
    "\n",
    "        for i in range(X.shape[-1]):\n",
    "            X_train[...,i] = self.normalise_X(X_train[...,i])\n",
    "            X_test[...,i] = self.normalise_X(X_test[...,i])\n",
    "        \n",
    "        default_metrics = ['accuracy', 'root_mean_squared_error', 'r2_score']\n",
    "        \n",
    "        if model_path.is_file():\n",
    "            model = tf.keras.models.load_model(model_path)\n",
    "        else:\n",
    "            model = self.build_model(y, X.shape, default_metrics)\n",
    "\n",
    "        callbacks = [\n",
    "            tf.keras.callbacks.BackupAndRestore(\n",
    "                model_savepoint, save_freq='epoch', delete_checkpoint=False\n",
    "            ),\n",
    "            tf.keras.callbacks.CSVLogger(log_file, append=True),\n",
    "        ]\n",
    "\n",
    "        if log_file.is_file():\n",
    "            val_metrics = ['val_' + x for x in default_metrics]\n",
    "            df = pd.read_csv(log_file)[['epoch', 'loss'] + default_metrics + val_metrics]\n",
    "            df['epoch'] += 1\n",
    "            print('Previous training:')\n",
    "                \n",
    "            display(HTML(df.to_html(index=False)))\n",
    "        \n",
    "        model.fit(\n",
    "            X_train, y_train, epochs=epochs, verbose=1, batch_size=batch_size, callbacks=callbacks, \n",
    "            shuffle=True, validation_data=(X_test, y_test)\n",
    "        )\n",
    "\n",
    "        model.save(model_path)\n",
    "        \n",
    "    def build_model(self, y_train, input_shape, metrics):\n",
    "        m = tf.keras.Sequential()\n",
    "\n",
    "        m.add(Input(input_shape[1:]))\n",
    "        \n",
    "        m.add(Conv3D(\n",
    "            filters=8, kernel_size=2, strides=1,\n",
    "            padding='same', activation='relu'\n",
    "        ))\n",
    "\n",
    "        # m.add(Flatten())\n",
    "        m.add(GlobalAveragePooling3D())\n",
    "\n",
    "        m.add(Dense(32, activation='relu'))\n",
    "\n",
    "        m.add(Dense(64, activation='relu'))\n",
    "\n",
    "        m.add(Dense(32, activation='relu'))\n",
    "        \n",
    "        m.add(Dense(\n",
    "            y_train.shape[1], \n",
    "            activation='softmax', \n",
    "        ))\n",
    "        m.compile(optimizer='rmsprop', loss='mse', metrics=metrics)\n",
    "        return m"
   ]
  },
  {
   "cell_type": "code",
   "execution_count": 8,
   "id": "4680da83-659c-4f58-a724-415310079ba0",
   "metadata": {},
   "outputs": [],
   "source": [
    "train_years = [2017, 2018, 2019, 2020]\n",
    "all_seasons = [3, 6, 9, 12]"
   ]
  },
  {
   "cell_type": "code",
   "execution_count": 9,
   "id": "d105fc9d-03a1-418a-8deb-0d1b1975d7bc",
   "metadata": {},
   "outputs": [],
   "source": [
    "model_name = f'conv_seasons_{\"_\".join(map(str, all_seasons))}_years_{\"_\".join(map(str, train_years))}.keras'\n",
    "model_path = model_dir.joinpath(model_name)\n",
    "\n",
    "train_features = get_features(train_years, all_seasons, data_dir)"
   ]
  },
  {
   "cell_type": "code",
   "execution_count": 10,
   "id": "ace0a102-03f4-4825-8a3e-43dae2a2c169",
   "metadata": {},
   "outputs": [
    {
     "name": "stdout",
     "output_type": "stream",
     "text": [
      "Epoch 1/10\n"
     ]
    },
    {
     "name": "stderr",
     "output_type": "stream",
     "text": [
      "2024-05-27 17:05:42.534818: W external/local_tsl/tsl/framework/cpu_allocator_impl.cc:83] Allocation of 1358083584 exceeds 10% of free system memory.\n"
     ]
    },
    {
     "name": "stdout",
     "output_type": "stream",
     "text": [
      "\u001b[1m4535/4535\u001b[0m \u001b[32m━━━━━━━━━━━━━━━━━━━━\u001b[0m\u001b[37m\u001b[0m \u001b[1m12s\u001b[0m 2ms/step - accuracy: 0.2582 - loss: 0.0459 - r2_score: -8.5094 - root_mean_squared_error: 0.2142 - val_accuracy: 0.4104 - val_loss: 0.0377 - val_r2_score: 0.1207 - val_root_mean_squared_error: 0.1941\n",
      "Epoch 2/10\n",
      "\u001b[1m4535/4535\u001b[0m \u001b[32m━━━━━━━━━━━━━━━━━━━━\u001b[0m\u001b[37m\u001b[0m \u001b[1m11s\u001b[0m 2ms/step - accuracy: 0.4408 - loss: 0.0363 - r2_score: 0.1456 - root_mean_squared_error: 0.1905 - val_accuracy: 0.4715 - val_loss: 0.0350 - val_r2_score: 0.1735 - val_root_mean_squared_error: 0.1870\n",
      "Epoch 3/10\n",
      "\u001b[1m4535/4535\u001b[0m \u001b[32m━━━━━━━━━━━━━━━━━━━━\u001b[0m\u001b[37m\u001b[0m \u001b[1m12s\u001b[0m 3ms/step - accuracy: 0.4906 - loss: 0.0335 - r2_score: 0.1903 - root_mean_squared_error: 0.1831 - val_accuracy: 0.4920 - val_loss: 0.0333 - val_r2_score: 0.1977 - val_root_mean_squared_error: 0.1826\n",
      "Epoch 4/10\n",
      "\u001b[1m4535/4535\u001b[0m \u001b[32m━━━━━━━━━━━━━━━━━━━━\u001b[0m\u001b[37m\u001b[0m \u001b[1m12s\u001b[0m 3ms/step - accuracy: 0.5034 - loss: 0.0326 - r2_score: 0.2094 - root_mean_squared_error: 0.1806 - val_accuracy: 0.4963 - val_loss: 0.0327 - val_r2_score: 0.2080 - val_root_mean_squared_error: 0.1808\n",
      "Epoch 5/10\n",
      "\u001b[1m4535/4535\u001b[0m \u001b[32m━━━━━━━━━━━━━━━━━━━━\u001b[0m\u001b[37m\u001b[0m \u001b[1m12s\u001b[0m 3ms/step - accuracy: 0.5138 - loss: 0.0318 - r2_score: -13.8356 - root_mean_squared_error: 0.1783 - val_accuracy: 0.5307 - val_loss: 0.0314 - val_r2_score: 0.2277 - val_root_mean_squared_error: 0.1772\n",
      "Epoch 6/10\n",
      "\u001b[1m4535/4535\u001b[0m \u001b[32m━━━━━━━━━━━━━━━━━━━━\u001b[0m\u001b[37m\u001b[0m \u001b[1m13s\u001b[0m 3ms/step - accuracy: 0.5191 - loss: 0.0314 - r2_score: 0.1866 - root_mean_squared_error: 0.1772 - val_accuracy: 0.5053 - val_loss: 0.0326 - val_r2_score: 0.2141 - val_root_mean_squared_error: 0.1807\n",
      "Epoch 7/10\n",
      "\u001b[1m4535/4535\u001b[0m \u001b[32m━━━━━━━━━━━━━━━━━━━━\u001b[0m\u001b[37m\u001b[0m \u001b[1m13s\u001b[0m 3ms/step - accuracy: 0.5340 - loss: 0.0305 - r2_score: 0.2141 - root_mean_squared_error: 0.1747 - val_accuracy: 0.5269 - val_loss: 0.0319 - val_r2_score: 0.2251 - val_root_mean_squared_error: 0.1786\n",
      "Epoch 8/10\n",
      "\u001b[1m4535/4535\u001b[0m \u001b[32m━━━━━━━━━━━━━━━━━━━━\u001b[0m\u001b[37m\u001b[0m \u001b[1m13s\u001b[0m 3ms/step - accuracy: 0.5423 - loss: 0.0301 - r2_score: 0.2418 - root_mean_squared_error: 0.1735 - val_accuracy: 0.5364 - val_loss: 0.0307 - val_r2_score: 0.2355 - val_root_mean_squared_error: 0.1751\n",
      "Epoch 9/10\n",
      "\u001b[1m4535/4535\u001b[0m \u001b[32m━━━━━━━━━━━━━━━━━━━━\u001b[0m\u001b[37m\u001b[0m \u001b[1m13s\u001b[0m 3ms/step - accuracy: 0.5533 - loss: 0.0296 - r2_score: 0.2564 - root_mean_squared_error: 0.1722 - val_accuracy: 0.5719 - val_loss: 0.0287 - val_r2_score: 0.2668 - val_root_mean_squared_error: 0.1694\n",
      "Epoch 10/10\n",
      "\u001b[1m4535/4535\u001b[0m \u001b[32m━━━━━━━━━━━━━━━━━━━━\u001b[0m\u001b[37m\u001b[0m \u001b[1m13s\u001b[0m 3ms/step - accuracy: 0.5691 - loss: 0.0284 - r2_score: 0.2696 - root_mean_squared_error: 0.1686 - val_accuracy: 0.5628 - val_loss: 0.0300 - val_r2_score: 0.2518 - val_root_mean_squared_error: 0.1732\n"
     ]
    }
   ],
   "source": [
    "KerasModelCreator().run(\n",
    "    train_features, labels,\n",
    "    model_path, epochs=10, batch_size=10, overwrite=True\n",
    ")"
   ]
  },
  {
   "cell_type": "code",
   "execution_count": 14,
   "id": "1156bde7-a279-465b-9c62-a9c34ae0f829",
   "metadata": {},
   "outputs": [
    {
     "data": {
      "text/plain": [
       "{'accuracy': 0.3859892785549164,\n",
       " 'loss': 0.045839108526706696,\n",
       " 'r2_score': 0.0003614624438341707,\n",
       " 'root_mean_squared_error': 0.2141007035970688}"
      ]
     },
     "execution_count": 14,
     "metadata": {},
     "output_type": "execute_result"
    }
   ],
   "source": [
    "test_years = [y + 3 for y in train_years]\n",
    "test_features = get_features(test_years, all_seasons, data_dir)\n",
    "\n",
    "_, test_features, _, test_labels = train_test_split(\n",
    "    test_features, labels, test_size=0.1, random_state=42)\n",
    "\n",
    "for i in range(test_features.shape[-1]):\n",
    "    test_features[...,i] = KerasModelCreator().normalise_X(test_features[...,i])\n",
    "    \n",
    "model = tf.keras.models.load_model(model_path)\n",
    "model.evaluate(test_features, test_labels, verbose=0, return_dict=True)"
   ]
  },
  {
   "cell_type": "code",
   "execution_count": null,
   "id": "0d22aa5f-5cf9-4c5d-95fa-3ed3fe5c8261",
   "metadata": {},
   "outputs": [],
   "source": []
  },
  {
   "cell_type": "code",
   "execution_count": null,
   "id": "39ea9f83-7fd9-4d2d-9902-f29521170df9",
   "metadata": {},
   "outputs": [],
   "source": []
  },
  {
   "cell_type": "code",
   "execution_count": null,
   "id": "05d48232-9eca-49af-8f96-710d480fd209",
   "metadata": {},
   "outputs": [],
   "source": []
  },
  {
   "cell_type": "code",
   "execution_count": null,
   "id": "76de828c-5d8e-40ec-9868-a9be52d0f059",
   "metadata": {},
   "outputs": [],
   "source": []
  },
  {
   "cell_type": "code",
   "execution_count": null,
   "id": "c1a88adb-eca0-44ba-9b83-49adb7994137",
   "metadata": {},
   "outputs": [],
   "source": [
    "tf.keras.models.load_model(model_path).summary(expand_nested=True)"
   ]
  },
  {
   "cell_type": "code",
   "execution_count": null,
   "id": "b5189141-5f07-4aac-a68f-00a24ec5d69d",
   "metadata": {},
   "outputs": [],
   "source": [
    "# import subprocess\n",
    "# subprocess.run(['sudo', 'shutdown', 'now'])"
   ]
  },
  {
   "cell_type": "code",
   "execution_count": null,
   "id": "72407593-09ed-4c4d-a3de-61118eee207c",
   "metadata": {},
   "outputs": [],
   "source": []
  },
  {
   "cell_type": "code",
   "execution_count": null,
   "id": "b3378d43-42ae-4f34-9df2-6e74e58f1822",
   "metadata": {},
   "outputs": [],
   "source": []
  },
  {
   "cell_type": "code",
   "execution_count": null,
   "id": "b3d9ac97-f1ca-4de2-b1ff-9c02483c878e",
   "metadata": {},
   "outputs": [],
   "source": []
  },
  {
   "cell_type": "code",
   "execution_count": null,
   "id": "ea018983-f959-487b-9bda-61c90da0d6d9",
   "metadata": {},
   "outputs": [],
   "source": [
    "# season_combinations = itertools.chain.from_iterable(\n",
    "#     itertools.combinations(all_seasons, r) for r in range(1, len(all_seasons)+1))\n",
    "# season_combinations = list(season_combinations)"
   ]
  }
 ],
 "metadata": {
  "kernelspec": {
   "display_name": "Python 3 (ipykernel)",
   "language": "python",
   "name": "python3"
  },
  "language_info": {
   "codemirror_mode": {
    "name": "ipython",
    "version": 3
   },
   "file_extension": ".py",
   "mimetype": "text/x-python",
   "name": "python",
   "nbconvert_exporter": "python",
   "pygments_lexer": "ipython3",
   "version": "3.10.14"
  },
  "widgets": {
   "application/vnd.jupyter.widget-state+json": {
    "state": {},
    "version_major": 2,
    "version_minor": 0
   }
  }
 },
 "nbformat": 4,
 "nbformat_minor": 5
}
