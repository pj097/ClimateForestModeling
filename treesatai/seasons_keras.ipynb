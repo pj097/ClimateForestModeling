{
 "cells": [
  {
   "cell_type": "code",
   "execution_count": 1,
   "id": "45a09dcb-b90b-45d7-b5a2-54996a34ada0",
   "metadata": {},
   "outputs": [
    {
     "name": "stderr",
     "output_type": "stream",
     "text": [
      "2024-05-16 17:54:38.979574: I tensorflow/core/platform/cpu_feature_guard.cc:210] This TensorFlow binary is optimized to use available CPU instructions in performance-critical operations.\n",
      "To enable the following instructions: AVX2 FMA, in other operations, rebuild TensorFlow with the appropriate compiler flags.\n",
      "2024-05-16 17:54:39.850089: W tensorflow/compiler/tf2tensorrt/utils/py_utils.cc:38] TF-TRT Warning: Could not find TensorRT\n"
     ]
    }
   ],
   "source": [
    "import itertools\n",
    "import pandas as pd\n",
    "from tqdm.notebook import tqdm\n",
    "%run keras_sentinel.ipynb"
   ]
  },
  {
   "cell_type": "code",
   "execution_count": 2,
   "id": "67e2f2c0-4844-44de-b6f1-a5e46fa36a65",
   "metadata": {},
   "outputs": [],
   "source": [
    "model_dir = Path('models').joinpath('seasons')\n",
    "model_dir.mkdir(parents=True, exist_ok=True)\n",
    "\n",
    "test_year = 2020\n",
    "\n",
    "train_years = [2017, 2018, 2019]\n",
    "all_seasons = [3, 6, 9, 12]\n",
    "\n",
    "season_combinations = itertools.chain.from_iterable(\n",
    "    itertools.combinations(all_seasons, r) for r in range(1, len(all_seasons)+1))\n",
    "season_combinations = list(season_combinations)"
   ]
  },
  {
   "cell_type": "code",
   "execution_count": null,
   "id": "bf4a44c2-ac4c-4f8f-a499-e1e19f8f32e6",
   "metadata": {},
   "outputs": [
    {
     "data": {
      "application/vnd.jupyter.widget-view+json": {
       "model_id": "a159faab37124d8a825af1e400b9d494",
       "version_major": 2,
       "version_minor": 0
      },
      "text/plain": [
       "  0%|          | 0/15 [00:00<?, ?it/s]"
      ]
     },
     "metadata": {},
     "output_type": "display_data"
    },
    {
     "name": "stdout",
     "output_type": "stream",
     "text": [
      "Epoch 1/10\n",
      "\u001b[1m11336/11336\u001b[0m \u001b[32m━━━━━━━━━━━━━━━━━━━━\u001b[0m\u001b[37m\u001b[0m \u001b[1m38s\u001b[0m 3ms/step - f1_majority: 0.1977 - loss: 0.0217 - r2_score: 0.0604 - root_mean_squared_error: 0.2076\n",
      "Epoch 2/10\n",
      "\u001b[1m11336/11336\u001b[0m \u001b[32m━━━━━━━━━━━━━━━━━━━━\u001b[0m\u001b[37m\u001b[0m \u001b[1m37s\u001b[0m 3ms/step - f1_majority: 0.3760 - loss: 0.0190 - r2_score: 0.1550 - root_mean_squared_error: 0.1938\n",
      "Epoch 3/10\n",
      "\u001b[1m11336/11336\u001b[0m \u001b[32m━━━━━━━━━━━━━━━━━━━━\u001b[0m\u001b[37m\u001b[0m \u001b[1m37s\u001b[0m 3ms/step - f1_majority: 0.4143 - loss: 0.0183 - r2_score: 0.1757 - root_mean_squared_error: 0.1901\n",
      "Epoch 4/10\n",
      "\u001b[1m11336/11336\u001b[0m \u001b[32m━━━━━━━━━━━━━━━━━━━━\u001b[0m\u001b[37m\u001b[0m \u001b[1m37s\u001b[0m 3ms/step - f1_majority: 0.4259 - loss: 0.0181 - r2_score: 0.1863 - root_mean_squared_error: 0.1889\n",
      "Epoch 5/10\n",
      "\u001b[1m11336/11336\u001b[0m \u001b[32m━━━━━━━━━━━━━━━━━━━━\u001b[0m\u001b[37m\u001b[0m \u001b[1m37s\u001b[0m 3ms/step - f1_majority: 0.4373 - loss: 0.0178 - r2_score: 0.1952 - root_mean_squared_error: 0.1873\n",
      "Epoch 6/10\n",
      "\u001b[1m11336/11336\u001b[0m \u001b[32m━━━━━━━━━━━━━━━━━━━━\u001b[0m\u001b[37m\u001b[0m \u001b[1m37s\u001b[0m 3ms/step - f1_majority: 0.4527 - loss: 0.0176 - r2_score: 0.2044 - root_mean_squared_error: 0.1860\n",
      "Epoch 7/10\n",
      "\u001b[1m11336/11336\u001b[0m \u001b[32m━━━━━━━━━━━━━━━━━━━━\u001b[0m\u001b[37m\u001b[0m \u001b[1m37s\u001b[0m 3ms/step - f1_majority: 0.4652 - loss: 0.0173 - r2_score: 0.2120 - root_mean_squared_error: 0.1843\n",
      "Epoch 8/10\n",
      "\u001b[1m11336/11336\u001b[0m \u001b[32m━━━━━━━━━━━━━━━━━━━━\u001b[0m\u001b[37m\u001b[0m \u001b[1m37s\u001b[0m 3ms/step - f1_majority: 0.4713 - loss: 0.0172 - r2_score: 0.2142 - root_mean_squared_error: 0.1835\n",
      "Epoch 9/10\n",
      "\u001b[1m11336/11336\u001b[0m \u001b[32m━━━━━━━━━━━━━━━━━━━━\u001b[0m\u001b[37m\u001b[0m \u001b[1m38s\u001b[0m 3ms/step - f1_majority: 0.4791 - loss: 0.0171 - r2_score: 0.2178 - root_mean_squared_error: 0.1831\n",
      "Epoch 10/10\n",
      "\u001b[1m10193/11336\u001b[0m \u001b[32m━━━━━━━━━━━━━━━━━\u001b[0m\u001b[37m━━━\u001b[0m \u001b[1m3s\u001b[0m 3ms/step - f1_majority: 0.4751 - loss: 0.0171 - r2_score: 0.2194 - root_mean_squared_error: 0.1832"
     ]
    }
   ],
   "source": [
    "results = []\n",
    "for season_combination in tqdm(season_combinations):\n",
    "    filepaths = []\n",
    "    for year in train_years:\n",
    "        for season in season_combination:\n",
    "            file_key = f'processed_treesat_{year}*{season}.npy'\n",
    "            filepaths.extend(sorted(list(Path('seasonal_median').glob(file_key))))\n",
    "            \n",
    "    selected_data = []\n",
    "    for filepath in filepaths:\n",
    "        with open(filepath, 'rb') as f:\n",
    "            data = np.load(f)\n",
    "        selected_data.append(data)\n",
    "    features = np.stack(selected_data, axis=1)\n",
    "\n",
    "    model_name = f'conv_seasons_{\"_\".join(map(str, season_combination))}_years_{\"_\".join(map(str, train_years))}.keras'\n",
    "    model_eval = KerasModelCreator().run(labels, features, model_name, model_dir, epochs=10, overwrite=True)\n",
    "    results.append(model_eval)"
   ]
  },
  {
   "cell_type": "code",
   "execution_count": null,
   "id": "b9fcd7f2-2d3f-409c-82e6-83f3cac504a1",
   "metadata": {},
   "outputs": [],
   "source": [
    "results_df = pd.DataFrame(results)\n",
    "results_df.insert(0, 'season_comb', season_combinations)\n",
    "results_df"
   ]
  },
  {
   "cell_type": "code",
   "execution_count": null,
   "id": "34114712-f37b-4b89-855c-5819bda4732b",
   "metadata": {},
   "outputs": [],
   "source": [
    "results = []\n",
    "for season_combination in tqdm(season_combinations):\n",
    "    if len(season_combination) < 3:\n",
    "        continue\n",
    "    filepaths = []\n",
    "    selected_data = []\n",
    "    for season in season_combination:\n",
    "        filepath = Path('seasonal_median').joinpath(f'processed_treesat_{test_year}{str(season).zfill(2)}.npy')\n",
    "        with open(filepath, 'rb') as f:\n",
    "            data = np.load(f)\n",
    "        selected_data.append(data)\n",
    "    features = np.stack(selected_data, axis=1)\n",
    "\n",
    "    X1, X2, y1, y2 = KerasModelCreator().split_and_normalise(\n",
    "        labels, features\n",
    "    )\n",
    "    \n",
    "    model_name = f'conv_seasons_{\"_\".join(map(str, season_combination))}_years_{\"_\".join(map(str, train_years))}.keras'\n",
    "    model = tf.keras.models.load_model(model_dir.joinpath(model_name))\n",
    "\n",
    "    model_eval = model.evaluate(\n",
    "        np.concatenate((X1, X2)), np.concatenate((y1, y2)), verbose=0, return_dict=True\n",
    "    )\n",
    "    \n",
    "    results.append(model_eval)"
   ]
  },
  {
   "cell_type": "code",
   "execution_count": null,
   "id": "19f61653-e6c4-402e-9d44-cbdb534bc7ec",
   "metadata": {},
   "outputs": [],
   "source": []
  },
  {
   "cell_type": "code",
   "execution_count": null,
   "id": "3d9d763b-b8c8-4363-ba82-0734825a82c8",
   "metadata": {},
   "outputs": [],
   "source": []
  },
  {
   "cell_type": "code",
   "execution_count": null,
   "id": "4a0a13d9-e8fd-4e9f-b157-bbfa554a6089",
   "metadata": {},
   "outputs": [],
   "source": []
  },
  {
   "cell_type": "code",
   "execution_count": null,
   "id": "ace0a102-03f4-4825-8a3e-43dae2a2c169",
   "metadata": {},
   "outputs": [],
   "source": [
    "# major_pred = y_pred.argmax(axis=1)\n",
    "# major_true = y_true.argmax(axis=1)\n",
    "\n",
    "# cr = classification_report(\n",
    "#     major_true, major_pred, target_names=df[target].columns, \n",
    "#     output_dict=True, zero_division=np.nan\n",
    "# )\n",
    "# df_report = pd.DataFrame(cr).T\n",
    "# df_report['support'] = df_report['support'].astype(int)\n",
    "\n",
    "# display(HTML(df_report.round(decimals=2).to_html()))"
   ]
  },
  {
   "cell_type": "code",
   "execution_count": null,
   "id": "405b74d7-5f3a-43ba-bf6f-61cb4c608694",
   "metadata": {},
   "outputs": [],
   "source": []
  },
  {
   "cell_type": "code",
   "execution_count": null,
   "id": "ab0f8aaa-cc12-44e2-a887-9d8af6b5fef6",
   "metadata": {},
   "outputs": [],
   "source": []
  },
  {
   "cell_type": "code",
   "execution_count": null,
   "id": "82157b0b-aa81-48ee-a15a-6a533370c3f8",
   "metadata": {},
   "outputs": [],
   "source": []
  },
  {
   "cell_type": "code",
   "execution_count": null,
   "id": "1156bde7-a279-465b-9c62-a9c34ae0f829",
   "metadata": {},
   "outputs": [],
   "source": []
  },
  {
   "cell_type": "code",
   "execution_count": null,
   "id": "2f4a1dee-1b34-4cbd-8037-37702377a9be",
   "metadata": {},
   "outputs": [],
   "source": []
  },
  {
   "cell_type": "code",
   "execution_count": null,
   "id": "c1a88adb-eca0-44ba-9b83-49adb7994137",
   "metadata": {},
   "outputs": [],
   "source": []
  },
  {
   "cell_type": "code",
   "execution_count": null,
   "id": "b2dfa99c-b32b-4bb5-8994-2b54acbe439f",
   "metadata": {},
   "outputs": [],
   "source": []
  },
  {
   "cell_type": "code",
   "execution_count": null,
   "id": "49ee6c92-f989-4253-b7de-08a50c4e40cb",
   "metadata": {},
   "outputs": [],
   "source": []
  },
  {
   "cell_type": "code",
   "execution_count": null,
   "id": "b5189141-5f07-4aac-a68f-00a24ec5d69d",
   "metadata": {},
   "outputs": [],
   "source": []
  },
  {
   "cell_type": "code",
   "execution_count": null,
   "id": "b3378d43-42ae-4f34-9df2-6e74e58f1822",
   "metadata": {},
   "outputs": [],
   "source": []
  }
 ],
 "metadata": {
  "kernelspec": {
   "display_name": "Python 3 (ipykernel)",
   "language": "python",
   "name": "python3"
  },
  "language_info": {
   "codemirror_mode": {
    "name": "ipython",
    "version": 3
   },
   "file_extension": ".py",
   "mimetype": "text/x-python",
   "name": "python",
   "nbconvert_exporter": "python",
   "pygments_lexer": "ipython3",
   "version": "3.10.14"
  }
 },
 "nbformat": 4,
 "nbformat_minor": 5
}
