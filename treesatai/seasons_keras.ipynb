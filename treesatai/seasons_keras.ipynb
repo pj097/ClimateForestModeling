{
 "cells": [
  {
   "cell_type": "code",
   "execution_count": 1,
   "id": "45a09dcb-b90b-45d7-b5a2-54996a34ada0",
   "metadata": {},
   "outputs": [
    {
     "name": "stderr",
     "output_type": "stream",
     "text": [
      "2024-05-18 10:57:30.274101: I tensorflow/core/platform/cpu_feature_guard.cc:210] This TensorFlow binary is optimized to use available CPU instructions in performance-critical operations.\n",
      "To enable the following instructions: AVX2 FMA, in other operations, rebuild TensorFlow with the appropriate compiler flags.\n",
      "2024-05-18 10:57:31.135593: W tensorflow/compiler/tf2tensorrt/utils/py_utils.cc:38] TF-TRT Warning: Could not find TensorRT\n"
     ]
    }
   ],
   "source": [
    "import itertools\n",
    "import pandas as pd\n",
    "from tqdm.notebook import tqdm\n",
    "from sklearn.utils import shuffle\n",
    "%run keras_sentinel.ipynb"
   ]
  },
  {
   "cell_type": "code",
   "execution_count": 2,
   "id": "67e2f2c0-4844-44de-b6f1-a5e46fa36a65",
   "metadata": {},
   "outputs": [],
   "source": [
    "model_dir = Path('models').joinpath('seasons')\n",
    "model_dir.mkdir(parents=True, exist_ok=True)\n",
    "\n",
    "data_dir = Path('seasonal_median')\n",
    "\n",
    "shuffle_seed = 42\n",
    "shuffled_labels = shuffle(labels, random_state=shuffle_seed)\n",
    "\n",
    "test_years = [2020]\n",
    "test_seasons = [6]\n",
    "\n",
    "train_years = [2017, 2018, 2019]\n",
    "all_seasons = [3, 6, 9, 12]\n",
    "\n",
    "season_combinations = itertools.chain.from_iterable(\n",
    "    itertools.combinations(all_seasons, r) for r in range(1, len(all_seasons)+1))\n",
    "season_combinations = list(season_combinations)"
   ]
  },
  {
   "cell_type": "code",
   "execution_count": null,
   "id": "bf4a44c2-ac4c-4f8f-a499-e1e19f8f32e6",
   "metadata": {},
   "outputs": [
    {
     "data": {
      "application/vnd.jupyter.widget-view+json": {
       "model_id": "3b82b6f5208f4d9dbd6ddd6feffe045e",
       "version_major": 2,
       "version_minor": 0
      },
      "text/plain": [
       "  0%|          | 0/1 [00:00<?, ?it/s]"
      ]
     },
     "metadata": {},
     "output_type": "display_data"
    },
    {
     "name": "stdout",
     "output_type": "stream",
     "text": [
      "Epoch 1/3\n"
     ]
    },
    {
     "name": "stderr",
     "output_type": "stream",
     "text": [
      "2024-05-18 10:57:58.077310: W external/local_tsl/tsl/framework/cpu_allocator_impl.cc:83] Allocation of 1018562688 exceeds 10% of free system memory.\n"
     ]
    },
    {
     "name": "stdout",
     "output_type": "stream",
     "text": [
      "\u001b[1m45342/45342\u001b[0m \u001b[32m━━━━━━━━━━━━━━━━━━━━\u001b[0m\u001b[37m\u001b[0m \u001b[1m1455s\u001b[0m 32ms/step - accuracy: 0.3490 - f1_majority: 0.1411 - loss: 0.0217 - r2_score: 0.0732 - root_mean_squared_error: 0.2081\n",
      "Epoch 2/3\n",
      "\u001b[1m45342/45342\u001b[0m \u001b[32m━━━━━━━━━━━━━━━━━━━━\u001b[0m\u001b[37m\u001b[0m \u001b[1m1443s\u001b[0m 32ms/step - accuracy: 0.5392 - f1_majority: 0.3723 - loss: 0.0164 - r2_score: 0.2190 - root_mean_squared_error: 0.1809\n",
      "Epoch 3/3\n",
      "\u001b[1m 7652/45342\u001b[0m \u001b[32m━━━\u001b[0m\u001b[37m━━━━━━━━━━━━━━━━━\u001b[0m \u001b[1m19:58\u001b[0m 32ms/step - accuracy: 0.5841 - f1_majority: 0.4359 - loss: 0.0151 - r2_score: nan - root_mean_squared_error: 0.1738"
     ]
    }
   ],
   "source": [
    "results = []\n",
    "for season_combination in tqdm(season_combinations[-1:]):\n",
    "    filepaths = []\n",
    "    for year in train_years:\n",
    "        for season in season_combination:\n",
    "            file_key = f'processed_treesat_{year}*{season}.npy'\n",
    "            filepaths.extend(sorted(list(data_dir.glob(file_key))))\n",
    "            \n",
    "    selected_data = []\n",
    "    for filepath in filepaths:\n",
    "        with open(filepath, 'rb') as f:\n",
    "            data = np.load(f)\n",
    "        selected_data.append(shuffle(data, random_state=shuffle_seed))\n",
    "    features = np.stack(selected_data, axis=1)\n",
    "\n",
    "    model_name = f'conv_seasons_{\"_\".join(map(str, season_combination))}_years_{\"_\".join(map(str, train_years))}.keras'\n",
    "    model_path = model_dir.joinpath(model_name)\n",
    "    model_eval = KerasModelCreator().run(\n",
    "        shuffled_labels, features, model_path, epochs=3, overwrite=True)\n",
    "    results.append(model_eval)"
   ]
  },
  {
   "cell_type": "code",
   "execution_count": null,
   "id": "4ecb910e-2771-418a-9e8d-75db248e4b0c",
   "metadata": {},
   "outputs": [],
   "source": [
    "# import subprocess\n",
    "# subprocess.run('sudo', 'shutdown', 'now')"
   ]
  },
  {
   "cell_type": "code",
   "execution_count": null,
   "id": "b9fcd7f2-2d3f-409c-82e6-83f3cac504a1",
   "metadata": {},
   "outputs": [],
   "source": [
    "# results_df = pd.DataFrame(results)\n",
    "# results_df.insert(0, 'season_comb', season_combinations)\n",
    "# results_df"
   ]
  },
  {
   "cell_type": "code",
   "execution_count": null,
   "id": "34114712-f37b-4b89-855c-5819bda4732b",
   "metadata": {},
   "outputs": [],
   "source": [
    "results = []\n",
    "for season_combination in tqdm(season_combinations[-1:]):\n",
    "    selected_data = []\n",
    "    for test_year in test_years:\n",
    "        for season in season_combination:\n",
    "            filepath = data_dir.joinpath(f'processed_treesat_{test_year}{str(season).zfill(2)}.npy')\n",
    "            with open(filepath, 'rb') as f:\n",
    "                data = np.load(f)\n",
    "            selected_data.append(shuffle(data, random_state=shuffle_seed))\n",
    "    features = np.stack(selected_data, axis=1)\n",
    "    \n",
    "    y = KerasModelCreator().crop_y(shuffled_labels)\n",
    "    for i in range(features.shape[-1]):\n",
    "        features[...,i] = KerasModelCreator().normalise_X(features[...,i])\n",
    "    \n",
    "    model_name = f'conv_seasons_{\"_\".join(map(str, season_combination))}_years_{\"_\".join(map(str, train_years))}.keras'\n",
    "    model = tf.keras.models.load_model(model_dir.joinpath(model_name))\n",
    "\n",
    "    model_eval = model.evaluate(\n",
    "        features, y, verbose=0, return_dict=True\n",
    "    )\n",
    "    \n",
    "    results.append(model_eval)"
   ]
  },
  {
   "cell_type": "code",
   "execution_count": null,
   "id": "1fc4f298-06d4-4b3b-a678-de62449de0bf",
   "metadata": {},
   "outputs": [],
   "source": [
    "results"
   ]
  },
  {
   "cell_type": "code",
   "execution_count": null,
   "id": "3d9d763b-b8c8-4363-ba82-0734825a82c8",
   "metadata": {},
   "outputs": [],
   "source": []
  },
  {
   "cell_type": "code",
   "execution_count": null,
   "id": "4a48026c-8116-489a-832e-198c624bd32b",
   "metadata": {},
   "outputs": [],
   "source": [
    "results = []\n",
    "for season in test_seasons:\n",
    "    selected_data = []\n",
    "    for year in train_years:\n",
    "        file_key = f'processed_treesat_{test_year}{str(season).zfill(2)}.npy'\n",
    "        filepath = data_dir.joinpath(file_key)\n",
    "        with open(filepath, 'rb') as f:\n",
    "            data = np.load(f)\n",
    "        selected_data.append(data)\n",
    "        \n",
    "    features = np.concatenate(selected_data, axis=0)\n",
    "    matching_labels = np.array([labels]*features.shape[0])\n",
    "\n",
    "    model_name = f'conv_seasons_{\"_\".join(map(str, test_seasons))}_years_{\"_\".join(map(str, train_years))}.keras'\n",
    "    model_path = model_dir.joinpath(model_name)\n",
    "    model_eval = KerasModelCreator().run(\n",
    "        matching_labels, features, model_path, epochs=3, overwrite=True)\n",
    "    results.append(model_eval)"
   ]
  },
  {
   "cell_type": "code",
   "execution_count": null,
   "id": "9ac55674-8c04-4cde-8036-dc16cc13339c",
   "metadata": {},
   "outputs": [],
   "source": []
  },
  {
   "cell_type": "code",
   "execution_count": null,
   "id": "e2141995-a4c6-462f-bacc-db478513190f",
   "metadata": {},
   "outputs": [],
   "source": []
  },
  {
   "cell_type": "code",
   "execution_count": null,
   "id": "4a0a13d9-e8fd-4e9f-b157-bbfa554a6089",
   "metadata": {},
   "outputs": [],
   "source": []
  },
  {
   "cell_type": "code",
   "execution_count": null,
   "id": "ace0a102-03f4-4825-8a3e-43dae2a2c169",
   "metadata": {},
   "outputs": [],
   "source": [
    "# major_pred = y_pred.argmax(axis=1)\n",
    "# major_true = y_true.argmax(axis=1)\n",
    "\n",
    "# cr = classification_report(\n",
    "#     major_true, major_pred, target_names=df[target].columns, \n",
    "#     output_dict=True, zero_division=np.nan\n",
    "# )\n",
    "# df_report = pd.DataFrame(cr).T\n",
    "# df_report['support'] = df_report['support'].astype(int)\n",
    "\n",
    "# display(HTML(df_report.round(decimals=2).to_html()))"
   ]
  },
  {
   "cell_type": "code",
   "execution_count": null,
   "id": "405b74d7-5f3a-43ba-bf6f-61cb4c608694",
   "metadata": {},
   "outputs": [],
   "source": []
  },
  {
   "cell_type": "code",
   "execution_count": null,
   "id": "ab0f8aaa-cc12-44e2-a887-9d8af6b5fef6",
   "metadata": {},
   "outputs": [],
   "source": []
  },
  {
   "cell_type": "code",
   "execution_count": null,
   "id": "82157b0b-aa81-48ee-a15a-6a533370c3f8",
   "metadata": {},
   "outputs": [],
   "source": []
  },
  {
   "cell_type": "code",
   "execution_count": null,
   "id": "1156bde7-a279-465b-9c62-a9c34ae0f829",
   "metadata": {},
   "outputs": [],
   "source": []
  },
  {
   "cell_type": "code",
   "execution_count": null,
   "id": "2f4a1dee-1b34-4cbd-8037-37702377a9be",
   "metadata": {},
   "outputs": [],
   "source": []
  },
  {
   "cell_type": "code",
   "execution_count": null,
   "id": "c1a88adb-eca0-44ba-9b83-49adb7994137",
   "metadata": {},
   "outputs": [],
   "source": []
  },
  {
   "cell_type": "code",
   "execution_count": null,
   "id": "b2dfa99c-b32b-4bb5-8994-2b54acbe439f",
   "metadata": {},
   "outputs": [],
   "source": []
  },
  {
   "cell_type": "code",
   "execution_count": null,
   "id": "49ee6c92-f989-4253-b7de-08a50c4e40cb",
   "metadata": {},
   "outputs": [],
   "source": []
  },
  {
   "cell_type": "code",
   "execution_count": null,
   "id": "b5189141-5f07-4aac-a68f-00a24ec5d69d",
   "metadata": {},
   "outputs": [],
   "source": []
  },
  {
   "cell_type": "code",
   "execution_count": null,
   "id": "b3378d43-42ae-4f34-9df2-6e74e58f1822",
   "metadata": {},
   "outputs": [],
   "source": []
  }
 ],
 "metadata": {
  "kernelspec": {
   "display_name": "Python 3 (ipykernel)",
   "language": "python",
   "name": "python3"
  },
  "language_info": {
   "codemirror_mode": {
    "name": "ipython",
    "version": 3
   },
   "file_extension": ".py",
   "mimetype": "text/x-python",
   "name": "python",
   "nbconvert_exporter": "python",
   "pygments_lexer": "ipython3",
   "version": "3.10.14"
  }
 },
 "nbformat": 4,
 "nbformat_minor": 5
}
