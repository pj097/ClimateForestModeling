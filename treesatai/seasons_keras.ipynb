{
 "cells": [
  {
   "cell_type": "code",
   "execution_count": 1,
   "id": "45a09dcb-b90b-45d7-b5a2-54996a34ada0",
   "metadata": {},
   "outputs": [
    {
     "name": "stderr",
     "output_type": "stream",
     "text": [
      "2024-05-18 12:56:45.236829: I tensorflow/core/platform/cpu_feature_guard.cc:210] This TensorFlow binary is optimized to use available CPU instructions in performance-critical operations.\n",
      "To enable the following instructions: AVX2 FMA, in other operations, rebuild TensorFlow with the appropriate compiler flags.\n",
      "2024-05-18 12:56:46.105697: W tensorflow/compiler/tf2tensorrt/utils/py_utils.cc:38] TF-TRT Warning: Could not find TensorRT\n"
     ]
    }
   ],
   "source": [
    "import itertools\n",
    "import pandas as pd\n",
    "from tqdm.notebook import tqdm\n",
    "from sklearn.utils import shuffle\n",
    "%run keras_sentinel.ipynb"
   ]
  },
  {
   "cell_type": "code",
   "execution_count": 2,
   "id": "67e2f2c0-4844-44de-b6f1-a5e46fa36a65",
   "metadata": {},
   "outputs": [],
   "source": [
    "model_dir = Path('models').joinpath('seasons')\n",
    "model_dir.mkdir(parents=True, exist_ok=True)\n",
    "\n",
    "data_dir = Path('seasonal_median')\n",
    "\n",
    "test_year = 2019\n",
    "test_seasons = [6]\n",
    "\n",
    "train_years = [2017, 2018, 2020]\n",
    "all_seasons = [3, 6, 9, 12]"
   ]
  },
  {
   "cell_type": "code",
   "execution_count": 3,
   "id": "8640ff61-a2a0-4746-9f22-1ed7333e7584",
   "metadata": {},
   "outputs": [
    {
     "name": "stdout",
     "output_type": "stream",
     "text": [
      "Epoch 1/10\n",
      "\u001b[1m34007/34007\u001b[0m \u001b[32m━━━━━━━━━━━━━━━━━━━━\u001b[0m\u001b[37m\u001b[0m \u001b[1m113s\u001b[0m 3ms/step - accuracy: 0.4158 - f1_majority: 0.2604 - loss: 0.0205 - mean_squared_error: 0.0410 - r2_score: 0.1087 - root_mean_squared_error: 0.2024 - val_accuracy: 0.5012 - val_f1_majority: 0.4297 - val_loss: 0.0179 - val_mean_squared_error: 0.0357 - val_r2_score: 0.1843 - val_root_mean_squared_error: 0.1890\n",
      "Epoch 2/10\n",
      "\u001b[1m34007/34007\u001b[0m \u001b[32m━━━━━━━━━━━━━━━━━━━━\u001b[0m\u001b[37m\u001b[0m \u001b[1m113s\u001b[0m 3ms/step - accuracy: 0.4996 - f1_majority: 0.4004 - loss: 0.0179 - mean_squared_error: 0.0358 - r2_score: 0.1817 - root_mean_squared_error: 0.1892 - val_accuracy: 0.5177 - val_f1_majority: 0.4623 - val_loss: 0.0175 - val_mean_squared_error: 0.0349 - val_r2_score: 0.1966 - val_root_mean_squared_error: 0.1868\n",
      "Epoch 3/10\n",
      "\u001b[1m34007/34007\u001b[0m \u001b[32m━━━━━━━━━━━━━━━━━━━━\u001b[0m\u001b[37m\u001b[0m \u001b[1m114s\u001b[0m 3ms/step - accuracy: 0.5163 - f1_majority: 0.4301 - loss: 0.0173 - mean_squared_error: 0.0346 - r2_score: 0.2005 - root_mean_squared_error: 0.1859 - val_accuracy: 0.5343 - val_f1_majority: 0.4791 - val_loss: 0.0168 - val_mean_squared_error: 0.0336 - val_r2_score: 0.2136 - val_root_mean_squared_error: 0.1833\n",
      "Epoch 4/10\n",
      "\u001b[1m34007/34007\u001b[0m \u001b[32m━━━━━━━━━━━━━━━━━━━━\u001b[0m\u001b[37m\u001b[0m \u001b[1m114s\u001b[0m 3ms/step - accuracy: 0.5295 - f1_majority: 0.4482 - loss: 0.0168 - mean_squared_error: 0.0337 - r2_score: 0.2124 - root_mean_squared_error: 0.1835 - val_accuracy: 0.5571 - val_f1_majority: 0.5135 - val_loss: 0.0163 - val_mean_squared_error: 0.0325 - val_r2_score: 0.2381 - val_root_mean_squared_error: 0.1803\n",
      "Epoch 5/10\n",
      "\u001b[1m34007/34007\u001b[0m \u001b[32m━━━━━━━━━━━━━━━━━━━━\u001b[0m\u001b[37m\u001b[0m \u001b[1m114s\u001b[0m 3ms/step - accuracy: 0.5345 - f1_majority: 0.4529 - loss: 0.0166 - mean_squared_error: 0.0333 - r2_score: 0.2233 - root_mean_squared_error: 0.1825 - val_accuracy: 0.5202 - val_f1_majority: 0.4735 - val_loss: 0.0176 - val_mean_squared_error: 0.0351 - val_r2_score: 0.1879 - val_root_mean_squared_error: 0.1874\n",
      "Epoch 6/10\n",
      "\u001b[1m34007/34007\u001b[0m \u001b[32m━━━━━━━━━━━━━━━━━━━━\u001b[0m\u001b[37m\u001b[0m \u001b[1m114s\u001b[0m 3ms/step - accuracy: 0.5432 - f1_majority: 0.4645 - loss: 0.0164 - mean_squared_error: 0.0328 - r2_score: 0.2316 - root_mean_squared_error: 0.1810 - val_accuracy: 0.5622 - val_f1_majority: 0.5065 - val_loss: 0.0159 - val_mean_squared_error: 0.0317 - val_r2_score: 0.2520 - val_root_mean_squared_error: 0.1781\n",
      "Epoch 7/10\n",
      "\u001b[1m34007/34007\u001b[0m \u001b[32m━━━━━━━━━━━━━━━━━━━━\u001b[0m\u001b[37m\u001b[0m \u001b[1m114s\u001b[0m 3ms/step - accuracy: 0.5490 - f1_majority: 0.4724 - loss: 0.0162 - mean_squared_error: 0.0324 - r2_score: 0.2373 - root_mean_squared_error: 0.1800 - val_accuracy: 0.5678 - val_f1_majority: 0.4893 - val_loss: 0.0157 - val_mean_squared_error: 0.0315 - val_r2_score: 0.2534 - val_root_mean_squared_error: 0.1774\n",
      "Epoch 8/10\n",
      "\u001b[1m34007/34007\u001b[0m \u001b[32m━━━━━━━━━━━━━━━━━━━━\u001b[0m\u001b[37m\u001b[0m \u001b[1m114s\u001b[0m 3ms/step - accuracy: 0.5515 - f1_majority: 0.4750 - loss: 0.0161 - mean_squared_error: 0.0323 - r2_score: 0.2403 - root_mean_squared_error: 0.1797 - val_accuracy: 0.5658 - val_f1_majority: 0.4964 - val_loss: 0.0157 - val_mean_squared_error: 0.0314 - val_r2_score: 0.2558 - val_root_mean_squared_error: 0.1773\n",
      "Epoch 9/10\n",
      "\u001b[1m34007/34007\u001b[0m \u001b[32m━━━━━━━━━━━━━━━━━━━━\u001b[0m\u001b[37m\u001b[0m \u001b[1m114s\u001b[0m 3ms/step - accuracy: 0.5568 - f1_majority: 0.4850 - loss: 0.0159 - mean_squared_error: 0.0318 - r2_score: 0.2459 - root_mean_squared_error: 0.1784 - val_accuracy: 0.5577 - val_f1_majority: 0.5282 - val_loss: 0.0162 - val_mean_squared_error: 0.0324 - val_r2_score: 0.2424 - val_root_mean_squared_error: 0.1801\n",
      "Epoch 10/10\n",
      "\u001b[1m34007/34007\u001b[0m \u001b[32m━━━━━━━━━━━━━━━━━━━━\u001b[0m\u001b[37m\u001b[0m \u001b[1m115s\u001b[0m 3ms/step - accuracy: 0.5576 - f1_majority: 0.4850 - loss: 0.0159 - mean_squared_error: 0.0318 - r2_score: 0.2465 - root_mean_squared_error: 0.1784 - val_accuracy: 0.5716 - val_f1_majority: 0.5169 - val_loss: 0.0154 - val_mean_squared_error: 0.0307 - val_r2_score: 0.2662 - val_root_mean_squared_error: 0.1753\n"
     ]
    }
   ],
   "source": [
    "for season in test_seasons:\n",
    "    selected_data = []\n",
    "    for year in train_years:\n",
    "        file_key = f'processed_treesat_{year}{str(season).zfill(2)}.npy'\n",
    "        filepath = data_dir.joinpath(file_key)\n",
    "        with open(filepath, 'rb') as f:\n",
    "            data = np.load(f)\n",
    "        selected_data.append(data)\n",
    "        \n",
    "    features = np.concatenate(selected_data, axis=0)\n",
    "    \n",
    "    matching_labels = np.vstack([labels]*len(train_years))\n",
    "    \n",
    "    model_name = f'conv_seasons_{\"_\".join(map(str, test_seasons))}_years_{\"_\".join(map(str, train_years))}.keras'\n",
    "    model_path = model_dir.joinpath(model_name)\n",
    "    \n",
    "    KerasModelCreator().run(\n",
    "        matching_labels, features, model_path, epochs=10, overwrite=True)"
   ]
  },
  {
   "cell_type": "code",
   "execution_count": 12,
   "id": "5bfecf50-c4aa-45a2-bd0e-cf5eb72380a9",
   "metadata": {},
   "outputs": [],
   "source": [
    "test_results = []\n",
    "for season in test_seasons:\n",
    "    file_key = f'processed_treesat_{test_year}{str(season).zfill(2)}.npy'\n",
    "    filepath = data_dir.joinpath(file_key)\n",
    "    with open(filepath, 'rb') as f:\n",
    "        test_features = np.load(f)\n",
    "\n",
    "    test_labels = KerasModelCreator().crop_y(labels)\n",
    "    \n",
    "    for i in range(test_features.shape[-1]):\n",
    "        test_features[...,i] = KerasModelCreator().normalise_X(test_features[...,i])\n",
    "\n",
    "    model_name = f'conv_seasons_{\"_\".join(map(str, test_seasons))}_years_{\"_\".join(map(str, train_years))}.keras'\n",
    "    model_path = model_dir.joinpath(model_name)\n",
    "    model = tf.keras.models.load_model(model_path)\n",
    "    result = model.evaluate(test_features, test_labels, verbose=0, return_dict=True)\n",
    "    test_results.append(result)"
   ]
  },
  {
   "cell_type": "code",
   "execution_count": 13,
   "id": "bf4a44c2-ac4c-4f8f-a499-e1e19f8f32e6",
   "metadata": {},
   "outputs": [
    {
     "data": {
      "text/plain": [
       "[{'accuracy': 0.3891744911670685,\n",
       "  'f1_majority': 0.3287714421749115,\n",
       "  'loss': 0.022132743149995804,\n",
       "  'mean_squared_error': 0.04426548629999161,\n",
       "  'r2_score': 0.06594114750623703,\n",
       "  'root_mean_squared_error': 0.21039365231990814}]"
      ]
     },
     "execution_count": 13,
     "metadata": {},
     "output_type": "execute_result"
    }
   ],
   "source": [
    "test_results"
   ]
  },
  {
   "cell_type": "code",
   "execution_count": 6,
   "id": "2a8420cf-567e-4652-bf71-12268a032963",
   "metadata": {},
   "outputs": [],
   "source": []
  },
  {
   "cell_type": "code",
   "execution_count": 7,
   "id": "4ecb910e-2771-418a-9e8d-75db248e4b0c",
   "metadata": {},
   "outputs": [],
   "source": [
    "# import subprocess\n",
    "# subprocess.run('sudo', 'shutdown', 'now')"
   ]
  },
  {
   "cell_type": "code",
   "execution_count": 8,
   "id": "b9fcd7f2-2d3f-409c-82e6-83f3cac504a1",
   "metadata": {},
   "outputs": [],
   "source": [
    "# results_df = pd.DataFrame(results)\n",
    "# results_df.insert(0, 'season_comb', season_combinations)\n",
    "# results_df"
   ]
  },
  {
   "cell_type": "code",
   "execution_count": 9,
   "id": "34114712-f37b-4b89-855c-5819bda4732b",
   "metadata": {},
   "outputs": [],
   "source": []
  },
  {
   "cell_type": "code",
   "execution_count": 10,
   "id": "1fc4f298-06d4-4b3b-a678-de62449de0bf",
   "metadata": {},
   "outputs": [],
   "source": []
  },
  {
   "cell_type": "code",
   "execution_count": 11,
   "id": "ace0a102-03f4-4825-8a3e-43dae2a2c169",
   "metadata": {},
   "outputs": [],
   "source": [
    "# major_pred = y_pred.argmax(axis=1)\n",
    "# major_true = y_true.argmax(axis=1)\n",
    "\n",
    "# cr = classification_report(\n",
    "#     major_true, major_pred, target_names=df[target].columns, \n",
    "#     output_dict=True, zero_division=np.nan\n",
    "# )\n",
    "# df_report = pd.DataFrame(cr).T\n",
    "# df_report['support'] = df_report['support'].astype(int)\n",
    "\n",
    "# display(HTML(df_report.round(decimals=2).to_html()))"
   ]
  },
  {
   "cell_type": "code",
   "execution_count": null,
   "id": "405b74d7-5f3a-43ba-bf6f-61cb4c608694",
   "metadata": {},
   "outputs": [],
   "source": []
  },
  {
   "cell_type": "code",
   "execution_count": null,
   "id": "ab0f8aaa-cc12-44e2-a887-9d8af6b5fef6",
   "metadata": {},
   "outputs": [],
   "source": []
  },
  {
   "cell_type": "code",
   "execution_count": null,
   "id": "82157b0b-aa81-48ee-a15a-6a533370c3f8",
   "metadata": {},
   "outputs": [],
   "source": []
  },
  {
   "cell_type": "code",
   "execution_count": null,
   "id": "1156bde7-a279-465b-9c62-a9c34ae0f829",
   "metadata": {},
   "outputs": [],
   "source": []
  },
  {
   "cell_type": "code",
   "execution_count": null,
   "id": "2f4a1dee-1b34-4cbd-8037-37702377a9be",
   "metadata": {},
   "outputs": [],
   "source": []
  },
  {
   "cell_type": "code",
   "execution_count": null,
   "id": "c1a88adb-eca0-44ba-9b83-49adb7994137",
   "metadata": {},
   "outputs": [],
   "source": []
  },
  {
   "cell_type": "code",
   "execution_count": null,
   "id": "b2dfa99c-b32b-4bb5-8994-2b54acbe439f",
   "metadata": {},
   "outputs": [],
   "source": []
  },
  {
   "cell_type": "code",
   "execution_count": null,
   "id": "49ee6c92-f989-4253-b7de-08a50c4e40cb",
   "metadata": {},
   "outputs": [],
   "source": []
  },
  {
   "cell_type": "code",
   "execution_count": null,
   "id": "b5189141-5f07-4aac-a68f-00a24ec5d69d",
   "metadata": {},
   "outputs": [],
   "source": []
  },
  {
   "cell_type": "code",
   "execution_count": null,
   "id": "b3378d43-42ae-4f34-9df2-6e74e58f1822",
   "metadata": {},
   "outputs": [],
   "source": []
  }
 ],
 "metadata": {
  "kernelspec": {
   "display_name": "Python 3 (ipykernel)",
   "language": "python",
   "name": "python3"
  },
  "language_info": {
   "codemirror_mode": {
    "name": "ipython",
    "version": 3
   },
   "file_extension": ".py",
   "mimetype": "text/x-python",
   "name": "python",
   "nbconvert_exporter": "python",
   "pygments_lexer": "ipython3",
   "version": "3.10.14"
  }
 },
 "nbformat": 4,
 "nbformat_minor": 5
}
