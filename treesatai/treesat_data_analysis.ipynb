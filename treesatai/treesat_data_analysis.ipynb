{
 "cells": [
  {
   "cell_type": "code",
   "execution_count": null,
   "id": "0bc5ecb5-00b8-4fc3-9ef9-50f562a57ffc",
   "metadata": {},
   "outputs": [],
   "source": [
    "from pathlib import Path\n",
    "import json\n",
    "\n",
    "import pandas as pd\n",
    "import numpy as np\n",
    "\n",
    "import plotly.express as px"
   ]
  },
  {
   "cell_type": "code",
   "execution_count": null,
   "id": "62331489-daf3-4d2e-bc1a-bc44060f270a",
   "metadata": {},
   "outputs": [],
   "source": [
    "labels_json = Path('TreeSatBA_v9_60m_multi_labels.json')\n",
    "\n",
    "# load the data\n",
    "with labels_json.open() as f:\n",
    "    multilabels_dict = json.load(f)\n",
    "\n",
    "# Convert the pair lists to dictionaries\n",
    "# so that pandas can read it properly\n",
    "new_values = []\n",
    "for vs in multilabels_dict.values():\n",
    "    this_dict = {}\n",
    "    for key, value in vs:\n",
    "        this_dict[key] = value\n",
    "    new_values.append(this_dict)\n",
    "\n",
    "labels_df = pd.DataFrame.from_records(new_values, index=multilabels_dict.keys())\n",
    "labels_df = labels_df.fillna(0)"
   ]
  },
  {
   "cell_type": "code",
   "execution_count": null,
   "id": "ecafca26-a604-4055-8262-ffe5ee101004",
   "metadata": {},
   "outputs": [],
   "source": [
    "labels_df"
   ]
  },
  {
   "cell_type": "code",
   "execution_count": null,
   "id": "3f4dc05e-00b1-4850-b687-fab8c08fd43b",
   "metadata": {},
   "outputs": [],
   "source": [
    "counts = labels_df.sum()\n",
    "counts.sort_values(ascending=False)"
   ]
  },
  {
   "cell_type": "code",
   "execution_count": null,
   "id": "f04838dc-7ad5-4b7a-873e-01cb4e6d8b3a",
   "metadata": {},
   "outputs": [],
   "source": [
    "total_counts = counts.sum()\n",
    "fig = px.histogram(x=counts.index, y=(counts/total_counts).round(2), text_auto=True)\n",
    "fig.update_xaxes(categoryorder=\"total descending\")\n",
    "fig.update_layout(xaxis_title=\"Species\", yaxis_title=\"Frequency\", \n",
    "                  title=f'Total filled images: {int(total_counts)}')"
   ]
  },
  {
   "cell_type": "code",
   "execution_count": null,
   "id": "d039d41e-2d01-4743-85c1-6e9d0ae0a8d4",
   "metadata": {},
   "outputs": [],
   "source": [
    "tol = 0.1\n",
    "not_one = labels_df[(labels_df.sum(axis=1) - 1).abs() > tol]\n",
    "not_one_count = int(not_one.sum(axis=1).sum())\n",
    "px.histogram(not_one.sum(axis=1), text_auto=True, nbins=20,\n",
    "             title=f'Images with sums outside the range of {1-tol} to {1+tol}, total: {not_one_count}')"
   ]
  },
  {
   "cell_type": "code",
   "execution_count": null,
   "id": "254cf653-2aee-410a-80f3-45d78e3891ff",
   "metadata": {},
   "outputs": [],
   "source": [
    "def plotly_hist(df, filename):\n",
    "\n",
    "    t = pd.read_csv(filename, header=None)\n",
    "\n",
    "    df_t = df[df.index.isin(t[0])]\n",
    "    \n",
    "    fig = px.histogram(x=df_t.sum().index, y=df_t.sum().round(), text_auto=True)\n",
    "    fig.update_xaxes(categoryorder=\"total descending\")\n",
    "    fig.update_layout(xaxis_title=\"Species\", yaxis_title=\"Occurrences\")\n",
    "    return fig"
   ]
  },
  {
   "cell_type": "code",
   "execution_count": null,
   "id": "b0a1bff2-0fb9-4717-94a9-8d2de90a8661",
   "metadata": {},
   "outputs": [],
   "source": [
    "train_fig = plotly_hist(labels_df, 'train_filenames.lst')\n",
    "test_fig = plotly_hist(labels_df, 'test_filenames.lst')\n",
    "\n",
    "display(train_fig)\n",
    "display(test_fig)"
   ]
  },
  {
   "cell_type": "code",
   "execution_count": null,
   "id": "5100d116-6b54-43c1-bcc3-1391e8a5c12f",
   "metadata": {},
   "outputs": [],
   "source": []
  },
  {
   "cell_type": "code",
   "execution_count": null,
   "id": "ce962879-0079-45b0-86f5-07d127c15a04",
   "metadata": {},
   "outputs": [],
   "source": [
    "save_path = Path('s2').joinpath('s2_60m.npy')\n",
    "tif_dict = np.load(save_path, allow_pickle=True).item()"
   ]
  }
 ],
 "metadata": {
  "kernelspec": {
   "display_name": "Python 3 (ipykernel)",
   "language": "python",
   "name": "python3"
  },
  "language_info": {
   "codemirror_mode": {
    "name": "ipython",
    "version": 3
   },
   "file_extension": ".py",
   "mimetype": "text/x-python",
   "name": "python",
   "nbconvert_exporter": "python",
   "pygments_lexer": "ipython3",
   "version": "3.10.13"
  }
 },
 "nbformat": 4,
 "nbformat_minor": 5
}
