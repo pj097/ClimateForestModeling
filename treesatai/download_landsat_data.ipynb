{
 "cells": [
  {
   "cell_type": "markdown",
   "id": "5d54256a-a478-4ed2-90ba-7852da63e979",
   "metadata": {},
   "source": [
    "##### **Download Sentinel-2 data**"
   ]
  },
  {
   "cell_type": "code",
   "execution_count": 1,
   "id": "45a09dcb-b90b-45d7-b5a2-54996a34ada0",
   "metadata": {},
   "outputs": [],
   "source": [
    "from tqdm.notebook import tqdm\n",
    "\n",
    "from multiprocessing import Pool\n",
    "from time import sleep\n",
    "\n",
    "import numpy as np\n",
    "\n",
    "import datetime\n",
    "from pathlib import Path\n",
    "\n",
    "# For the below intake_geopandas is also required\n",
    "# use \"pip install intake_geopandas\" or check github\n",
    "import intake\n",
    "\n",
    "import io\n",
    "\n",
    "import ee"
   ]
  },
  {
   "cell_type": "markdown",
   "id": "9cab9d5b-ed74-4624-9725-887b12ee6ae5",
   "metadata": {},
   "source": [
    "Authentication must be done firsthand. Replace with own project name.\n",
    "\n",
    "For further details on ee, see https://developers.google.com/earth-engine/guides/auth and https://developers.google.com/earth-engine/apidocs/ee-image"
   ]
  },
  {
   "cell_type": "code",
   "execution_count": 2,
   "id": "d35fae04-993f-40bb-964d-6ec19b7d8da6",
   "metadata": {},
   "outputs": [],
   "source": [
    "ee.Authenticate()\n",
    "ee.Initialize(project='sentinel-treeclassification')"
   ]
  },
  {
   "cell_type": "markdown",
   "id": "0553fe17-fa69-49b3-8668-38f305d8126e",
   "metadata": {},
   "source": [
    "Mask clouds in a Sentinel-2 image using the QA band and perform other pre-processing operations such as band selection, date filter, and collection median."
   ]
  },
  {
   "cell_type": "code",
   "execution_count": 3,
   "id": "d4ae79b0-fef2-46f4-9e67-6f12c15c1594",
   "metadata": {},
   "outputs": [],
   "source": [
    "def get_image(bbox, start_date, end_date):\n",
    "    selected_bands = [f'B{x}' for x in range(1, 8)] + ['B10', 'B11']\n",
    "    image = (\n",
    "        ee.ImageCollection('NASA/HLS/HLSL30/v002')\n",
    "        .filterDate(start_date, end_date)\n",
    "        # Pre-filter to get less cloudy granules.\n",
    "        .filter(ee.Filter.lt('CLOUD_COVERAGE', 30))\n",
    "        .select(selected_bands)\n",
    "        .median()\n",
    "        .clip(bbox)\n",
    "    )\n",
    "    return image"
   ]
  },
  {
   "cell_type": "markdown",
   "id": "37164bfc-8e35-46ea-a89c-70ce11d8def4",
   "metadata": {},
   "source": [
    "Read in data and perform some operations. Alternatively, use Geopandas directly."
   ]
  },
  {
   "cell_type": "code",
   "execution_count": 4,
   "id": "17759222-56d5-4a21-ba7d-c508b05ea21c",
   "metadata": {},
   "outputs": [],
   "source": [
    "catalog = intake.open_catalog(Path('../catalog.yml'))\n",
    "source = getattr(catalog, 'treesat')\n",
    "gdf = source.read()[source.metadata['usecols']]\n",
    "# Geopandas does not seem to always recognise the crs.\n",
    "gdf.crs = 25832\n",
    "gdf = gdf.to_crs(epsg=4326)\n",
    "# Add some padding to avoid border polygons being cut off.\n",
    "bbox = ee.Geometry.BBox(*(gdf.geometry.total_bounds + 0.01))"
   ]
  },
  {
   "cell_type": "code",
   "execution_count": 5,
   "id": "9c3776df-044d-45cf-8e31-cab0fc63222f",
   "metadata": {},
   "outputs": [],
   "source": [
    "def download_npy(bbox, start_date, end_date, gdf, sleep_time):\n",
    "    # Sleep time helps with parallel processing,\n",
    "    # if you're brave enough to try it\n",
    "    sleep(sleep_time)\n",
    "\n",
    "    # Cloud masked, band selected, mean image of the bbox area. \n",
    "    sentinel_image = get_image(bbox, start_date, end_date)\n",
    "        \n",
    "    # For further options, see\n",
    "    # https://developers.google.com/earth-engine/apidocs/ee-data-computepixels\n",
    "    params = {'fileFormat': 'NPY'}\n",
    "\n",
    "    save_path = Path('landsat_data').joinpath(f\"landsat_{start_date.strftime('%Y%m')}.npy\")\n",
    "    print(f'Downloading {start_date}')\n",
    "    # Continue from a previous run, else start new.\n",
    "    if save_path.is_file():\n",
    "        with open(save_path, 'rb') as f:\n",
    "            # Convert outer array to list for appending, avoid ndarray.tolist()\n",
    "            # as that converts nested arrays to list as well.\n",
    "            all_data = list(np.load(save_path))\n",
    "    else:\n",
    "        all_data = []\n",
    "\n",
    "    # Continue from previous iteration, or start new.\n",
    "    continue_gdf = gdf.loc[len(all_data):]\n",
    "    \n",
    "    # Progress bar, tracks continuations\n",
    "    for i, row in tqdm(\n",
    "        continue_gdf.iterrows(), total=gdf.shape[0], initial=len(all_data)):\n",
    "        # Not ideal but a lot of connection errors can occur here.\n",
    "        # They are (so far) not program ending, simply retry.\n",
    "        retry = True\n",
    "        while retry:\n",
    "            try:\n",
    "                this_bbox = ee.Geometry.BBox(*row.geometry.bounds)\n",
    "                params['expression'] = sentinel_image.clipToBoundsAndScale(\n",
    "                    this_bbox, width=6, height=6)\n",
    "\n",
    "                # There can be a delay before the URL becomes available,\n",
    "                # in which case the loop simply retries (seems rare so far).\n",
    "                pixels = ee.data.computePixels(params)\n",
    "                data = np.load(io.BytesIO(pixels))\n",
    "\n",
    "                # Numpy ndarray being appended to a list of ndarrays.\n",
    "                # Ensure all_data uses python's list instead of ndarray.tolist().\n",
    "                all_data.append(data)\n",
    "                retry = False\n",
    "\n",
    "            except Exception as e:\n",
    "                # Sleep for 1 second if error, Google claims to be\n",
    "                # fine with 100/s requests.\n",
    "                sleep(sleep_time)\n",
    "                retry = True\n",
    "                \n",
    "        # Save every 1000th run but not the first  \n",
    "        if (i % 1000 == 0) and (i > 0):\n",
    "            # Convert to array first in case of errors,\n",
    "            # as that would erase the file.\n",
    "            save_data = np.array(all_data)\n",
    "            with open(save_path, 'wb') as f:\n",
    "                np.save(f, save_data)\n",
    "\n",
    "    # Save the remainder\n",
    "    save_data = np.array(all_data)\n",
    "    with open(save_path, 'wb') as f:\n",
    "        np.save(f, save_data)\n",
    "                \n",
    "    return np.array(all_data)"
   ]
  },
  {
   "cell_type": "markdown",
   "id": "d0a909b6-094e-42be-bdfb-07e4b5e6fb95",
   "metadata": {},
   "source": [
    "Download samples at roughly 2 images per second in each process. Each month seems to take roughly 5-8 hours."
   ]
  },
  {
   "cell_type": "code",
   "execution_count": 10,
   "id": "f698cd1b-62e9-4cc4-8d07-50893e782795",
   "metadata": {},
   "outputs": [
    {
     "name": "stdout",
     "output_type": "stream",
     "text": [
      "Downloading 2017-03-01 00:00:00\n"
     ]
    },
    {
     "data": {
      "application/vnd.jupyter.widget-view+json": {
       "model_id": "904170a0ad7142fa8c2988c7c842e1df",
       "version_major": 2,
       "version_minor": 0
      },
      "text/plain": [
       "  0%|          | 0/50381 [00:00<?, ?it/s]"
      ]
     },
     "metadata": {},
     "output_type": "display_data"
    },
    {
     "name": "stdout",
     "output_type": "stream",
     "text": [
      "Downloading 2017-09-01 00:00:00\n"
     ]
    },
    {
     "data": {
      "application/vnd.jupyter.widget-view+json": {
       "model_id": "d260e03614bd4e1bb05ca5bad450c63a",
       "version_major": 2,
       "version_minor": 0
      },
      "text/plain": [
       "  0%|          | 0/50381 [00:00<?, ?it/s]"
      ]
     },
     "metadata": {},
     "output_type": "display_data"
    },
    {
     "name": "stdout",
     "output_type": "stream",
     "text": [
      "Downloading 2018-03-01 00:00:00\n"
     ]
    },
    {
     "data": {
      "application/vnd.jupyter.widget-view+json": {
       "model_id": "94958d1af55d46fea07cbb587c0a8db2",
       "version_major": 2,
       "version_minor": 0
      },
      "text/plain": [
       "  0%|          | 0/50381 [00:00<?, ?it/s]"
      ]
     },
     "metadata": {},
     "output_type": "display_data"
    },
    {
     "name": "stdout",
     "output_type": "stream",
     "text": [
      "Downloading 2018-09-01 00:00:00\n"
     ]
    },
    {
     "data": {
      "application/vnd.jupyter.widget-view+json": {
       "model_id": "3ed5aa25c4234240b4a92083ef0766a1",
       "version_major": 2,
       "version_minor": 0
      },
      "text/plain": [
       "  0%|          | 0/50381 [00:00<?, ?it/s]"
      ]
     },
     "metadata": {},
     "output_type": "display_data"
    },
    {
     "name": "stdout",
     "output_type": "stream",
     "text": [
      "Downloading 2019-03-01 00:00:00\n"
     ]
    },
    {
     "data": {
      "application/vnd.jupyter.widget-view+json": {
       "model_id": "c1eb5f09560349088ba9409534bf81e2",
       "version_major": 2,
       "version_minor": 0
      },
      "text/plain": [
       "  0%|          | 0/50381 [00:00<?, ?it/s]"
      ]
     },
     "metadata": {},
     "output_type": "display_data"
    },
    {
     "name": "stdout",
     "output_type": "stream",
     "text": [
      "Downloading 2019-09-01 00:00:00\n"
     ]
    },
    {
     "data": {
      "application/vnd.jupyter.widget-view+json": {
       "model_id": "509060015c3540f89bdf7b8943a8d2f7",
       "version_major": 2,
       "version_minor": 0
      },
      "text/plain": [
       "  0%|          | 0/50381 [00:00<?, ?it/s]"
      ]
     },
     "metadata": {},
     "output_type": "display_data"
    },
    {
     "name": "stdout",
     "output_type": "stream",
     "text": [
      "Downloading 2020-03-01 00:00:00\n"
     ]
    },
    {
     "data": {
      "application/vnd.jupyter.widget-view+json": {
       "model_id": "3926107b4fd148478df7d07c87e2cbce",
       "version_major": 2,
       "version_minor": 0
      },
      "text/plain": [
       "  0%|          | 0/50381 [00:00<?, ?it/s]"
      ]
     },
     "metadata": {},
     "output_type": "display_data"
    },
    {
     "name": "stdout",
     "output_type": "stream",
     "text": [
      "Downloading 2020-09-01 00:00:00\n"
     ]
    },
    {
     "data": {
      "application/vnd.jupyter.widget-view+json": {
       "model_id": "e11f6003e0c544aaba8d5834e3767b44",
       "version_major": 2,
       "version_minor": 0
      },
      "text/plain": [
       "  0%|          | 0/50381 [00:00<?, ?it/s]"
      ]
     },
     "metadata": {},
     "output_type": "display_data"
    }
   ],
   "source": [
    "map_inputs = []\n",
    "start_date = datetime.datetime(2017, 3, 1)\n",
    "\n",
    "i = 0\n",
    "while start_date < datetime.datetime(2021, 2, 1):\n",
    "    gap_month = 6\n",
    "    end_month = (start_date.month + gap_month)%12 or 12\n",
    "    end_date = start_date.replace(\n",
    "        month=end_month, \n",
    "        year=start_date.year + (start_date.month + gap_month)//13\n",
    "    )\n",
    "    \n",
    "    map_inputs.append((bbox, start_date, end_date, gdf, i))\n",
    "\n",
    "    start_date = end_date\n",
    "    i += 2\n",
    "\n",
    "pool = Pool(processes=8)\n",
    "pool.starmap(download_npy, map_inputs)\n",
    "pool.close()\n",
    "pool.join()"
   ]
  },
  {
   "cell_type": "code",
   "execution_count": 9,
   "id": "33929f27-524e-41a0-a058-2f47233f28f1",
   "metadata": {},
   "outputs": [
    {
     "data": {
      "text/plain": [
       "8"
      ]
     },
     "execution_count": 9,
     "metadata": {},
     "output_type": "execute_result"
    }
   ],
   "source": []
  },
  {
   "cell_type": "code",
   "execution_count": null,
   "id": "b3378d43-42ae-4f34-9df2-6e74e58f1822",
   "metadata": {},
   "outputs": [],
   "source": []
  },
  {
   "cell_type": "code",
   "execution_count": null,
   "id": "ce505fe0-3ea0-4d43-abc8-13a1260ea159",
   "metadata": {},
   "outputs": [],
   "source": []
  },
  {
   "cell_type": "code",
   "execution_count": null,
   "id": "f1f9b95b-6ea3-4aa2-af93-452920d24de4",
   "metadata": {},
   "outputs": [],
   "source": []
  },
  {
   "cell_type": "code",
   "execution_count": null,
   "id": "6a325458-573e-49dc-b47a-1b49e284e992",
   "metadata": {},
   "outputs": [],
   "source": []
  },
  {
   "cell_type": "code",
   "execution_count": null,
   "id": "0d84a456-92de-46d7-bb04-7ece3f122cfd",
   "metadata": {},
   "outputs": [],
   "source": []
  }
 ],
 "metadata": {
  "kernelspec": {
   "display_name": "Python 3 (ipykernel)",
   "language": "python",
   "name": "python3"
  },
  "language_info": {
   "codemirror_mode": {
    "name": "ipython",
    "version": 3
   },
   "file_extension": ".py",
   "mimetype": "text/x-python",
   "name": "python",
   "nbconvert_exporter": "python",
   "pygments_lexer": "ipython3",
   "version": "3.10.14"
  },
  "widgets": {
   "application/vnd.jupyter.widget-state+json": {
    "state": {},
    "version_major": 2,
    "version_minor": 0
   }
  }
 },
 "nbformat": 4,
 "nbformat_minor": 5
}
