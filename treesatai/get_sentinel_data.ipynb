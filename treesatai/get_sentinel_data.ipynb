{
 "cells": [
  {
   "cell_type": "code",
   "execution_count": 1,
   "id": "45a09dcb-b90b-45d7-b5a2-54996a34ada0",
   "metadata": {},
   "outputs": [],
   "source": [
    "from IPython.display import display\n",
    "from tqdm.notebook import tqdm\n",
    "\n",
    "from multiprocessing import Pool\n",
    "from time import sleep\n",
    "\n",
    "from contextlib import ExitStack\n",
    "\n",
    "import numpy as np\n",
    "import pandas as pd\n",
    "\n",
    "import datetime\n",
    "from pathlib import Path\n",
    "import json\n",
    "\n",
    "import intake\n",
    "import rasterio\n",
    "import json\n",
    "import pickle\n",
    "\n",
    "import ee\n",
    "from geemap import geemap\n",
    "\n",
    "import warnings\n",
    "warnings.simplefilter(action='ignore', category=FutureWarning)"
   ]
  },
  {
   "cell_type": "code",
   "execution_count": 2,
   "id": "d35fae04-993f-40bb-964d-6ec19b7d8da6",
   "metadata": {},
   "outputs": [
    {
     "data": {
      "text/html": [
       "\n",
       "            <style>\n",
       "                .geemap-dark {\n",
       "                    --jp-widgets-color: white;\n",
       "                    --jp-widgets-label-color: white;\n",
       "                    --jp-ui-font-color1: white;\n",
       "                    --jp-layout-color2: #454545;\n",
       "                    background-color: #383838;\n",
       "                }\n",
       "\n",
       "                .geemap-dark .jupyter-button {\n",
       "                    --jp-layout-color3: #383838;\n",
       "                }\n",
       "\n",
       "                .geemap-colab {\n",
       "                    background-color: var(--colab-primary-surface-color, white);\n",
       "                }\n",
       "\n",
       "                .geemap-colab .jupyter-button {\n",
       "                    --jp-layout-color3: var(--colab-primary-surface-color, white);\n",
       "                }\n",
       "            </style>\n",
       "            "
      ],
      "text/plain": [
       "<IPython.core.display.HTML object>"
      ]
     },
     "metadata": {},
     "output_type": "display_data"
    }
   ],
   "source": [
    "ee.Authenticate()\n",
    "ee.Initialize(project='sentinel-treeclassification')"
   ]
  },
  {
   "cell_type": "code",
   "execution_count": 3,
   "id": "d4ae79b0-fef2-46f4-9e67-6f12c15c1594",
   "metadata": {},
   "outputs": [
    {
     "data": {
      "text/html": [
       "\n",
       "            <style>\n",
       "                .geemap-dark {\n",
       "                    --jp-widgets-color: white;\n",
       "                    --jp-widgets-label-color: white;\n",
       "                    --jp-ui-font-color1: white;\n",
       "                    --jp-layout-color2: #454545;\n",
       "                    background-color: #383838;\n",
       "                }\n",
       "\n",
       "                .geemap-dark .jupyter-button {\n",
       "                    --jp-layout-color3: #383838;\n",
       "                }\n",
       "\n",
       "                .geemap-colab {\n",
       "                    background-color: var(--colab-primary-surface-color, white);\n",
       "                }\n",
       "\n",
       "                .geemap-colab .jupyter-button {\n",
       "                    --jp-layout-color3: var(--colab-primary-surface-color, white);\n",
       "                }\n",
       "            </style>\n",
       "            "
      ],
      "text/plain": [
       "<IPython.core.display.HTML object>"
      ]
     },
     "metadata": {},
     "output_type": "display_data"
    }
   ],
   "source": [
    "class SentinelGetter:\n",
    "    def mask_s2_clouds(self, image):\n",
    "      # Quality assessment with resolution in meters\n",
    "      qa = image.select('QA60')\n",
    "      # Bits 10 and 11 are clouds and cirrus, respectively.\n",
    "      cloud_bit_mask = 1 << 10\n",
    "      cirrus_bit_mask = 1 << 11\n",
    "      # Both flags should be set to zero, indicating clear conditions.\n",
    "      mask = (\n",
    "          qa.bitwiseAnd(cloud_bit_mask)\n",
    "          .eq(0)\n",
    "          .And(qa.bitwiseAnd(cirrus_bit_mask).eq(0))\n",
    "      )\n",
    "      return image.updateMask(mask)\n",
    "\n",
    "    def get_image(self, bbox, start_date, end_date):\n",
    "        selected_bands = ['B[2-8]', 'B8A', 'B11', 'B12', 'TCI_R', 'TCI_G', 'TCI_B']\n",
    "        image = (\n",
    "            ee.ImageCollection('COPERNICUS/S2_SR_HARMONIZED')\n",
    "            .filterDate(start_date, end_date)\n",
    "            # Pre-filter to get less cloudy granules.\n",
    "            .map(self.mask_s2_clouds)\n",
    "            .select(selected_bands)\n",
    "            .mean()\n",
    "            .clip(bbox)\n",
    "        )\n",
    "        return image"
   ]
  },
  {
   "cell_type": "code",
   "execution_count": 4,
   "id": "17759222-56d5-4a21-ba7d-c508b05ea21c",
   "metadata": {},
   "outputs": [
    {
     "data": {
      "text/html": [
       "\n",
       "            <style>\n",
       "                .geemap-dark {\n",
       "                    --jp-widgets-color: white;\n",
       "                    --jp-widgets-label-color: white;\n",
       "                    --jp-ui-font-color1: white;\n",
       "                    --jp-layout-color2: #454545;\n",
       "                    background-color: #383838;\n",
       "                }\n",
       "\n",
       "                .geemap-dark .jupyter-button {\n",
       "                    --jp-layout-color3: #383838;\n",
       "                }\n",
       "\n",
       "                .geemap-colab {\n",
       "                    background-color: var(--colab-primary-surface-color, white);\n",
       "                }\n",
       "\n",
       "                .geemap-colab .jupyter-button {\n",
       "                    --jp-layout-color3: var(--colab-primary-surface-color, white);\n",
       "                }\n",
       "            </style>\n",
       "            "
      ],
      "text/plain": [
       "<IPython.core.display.HTML object>"
      ]
     },
     "metadata": {},
     "output_type": "display_data"
    }
   ],
   "source": [
    "catalog = intake.open_catalog(Path('../catalog.yml'))\n",
    "source = getattr(catalog, 'treesat')\n",
    "gdf = source.read()[source.metadata['usecols']]\n",
    "\n",
    "# Buffer to avoid points lying on the borders\n",
    "total_bounds = gdf.buffer(100, cap_style=3).to_crs(epsg=4326).geometry.total_bounds\n",
    "bbox = ee.Geometry.BBox(*total_bounds)\n",
    "\n",
    "gdf = gdf.to_crs(epsg=4326)"
   ]
  },
  {
   "cell_type": "code",
   "execution_count": 5,
   "id": "626019d0-f07b-4e8f-92c4-0d4d2d4c42e4",
   "metadata": {},
   "outputs": [
    {
     "data": {
      "text/html": [
       "\n",
       "            <style>\n",
       "                .geemap-dark {\n",
       "                    --jp-widgets-color: white;\n",
       "                    --jp-widgets-label-color: white;\n",
       "                    --jp-ui-font-color1: white;\n",
       "                    --jp-layout-color2: #454545;\n",
       "                    background-color: #383838;\n",
       "                }\n",
       "\n",
       "                .geemap-dark .jupyter-button {\n",
       "                    --jp-layout-color3: #383838;\n",
       "                }\n",
       "\n",
       "                .geemap-colab {\n",
       "                    background-color: var(--colab-primary-surface-color, white);\n",
       "                }\n",
       "\n",
       "                .geemap-colab .jupyter-button {\n",
       "                    --jp-layout-color3: var(--colab-primary-surface-color, white);\n",
       "                }\n",
       "            </style>\n",
       "            "
      ],
      "text/plain": [
       "<IPython.core.display.HTML object>"
      ]
     },
     "metadata": {},
     "output_type": "display_data"
    }
   ],
   "source": [
    "target = source.metadata['categories']['generic']\n",
    "gdf[target] = gdf[target].astype('category')\n",
    "\n",
    "category_map = dict(zip(gdf[target].cat.codes, gdf[target]))\n",
    "\n",
    "gdf[target] = gdf[target].cat.codes"
   ]
  },
  {
   "cell_type": "code",
   "execution_count": 6,
   "id": "b5bd312a-ec69-4747-93e2-8cd5d367d84f",
   "metadata": {},
   "outputs": [
    {
     "data": {
      "text/html": [
       "\n",
       "            <style>\n",
       "                .geemap-dark {\n",
       "                    --jp-widgets-color: white;\n",
       "                    --jp-widgets-label-color: white;\n",
       "                    --jp-ui-font-color1: white;\n",
       "                    --jp-layout-color2: #454545;\n",
       "                    background-color: #383838;\n",
       "                }\n",
       "\n",
       "                .geemap-dark .jupyter-button {\n",
       "                    --jp-layout-color3: #383838;\n",
       "                }\n",
       "\n",
       "                .geemap-colab {\n",
       "                    background-color: var(--colab-primary-surface-color, white);\n",
       "                }\n",
       "\n",
       "                .geemap-colab .jupyter-button {\n",
       "                    --jp-layout-color3: var(--colab-primary-surface-color, white);\n",
       "                }\n",
       "            </style>\n",
       "            "
      ],
      "text/plain": [
       "<IPython.core.display.HTML object>"
      ]
     },
     "metadata": {},
     "output_type": "display_data"
    }
   ],
   "source": [
    "# def download_temporal_data(date, download=False):\n",
    "#     download_dates = []\n",
    "#     for month in range(4, 11, 2):\n",
    "#         start_date = date.replace(month=month, day=1)\n",
    "#         end_date = start_date.replace(\n",
    "#             month=start_date.month%12 + 1, \n",
    "#             year=start_date.year + start_date.month//12)\n",
    "        \n",
    "#         download_dates.append(start_date.strftime('%b%Y'))\n",
    "        \n",
    "#         if download:\n",
    "#             sentinel_image = SentinelGetter().get_image(\n",
    "#                 bbox, start_date, end_date)\n",
    "#             task = ee.batch.Export.image.toDrive(\n",
    "#                 image=sentinel_image,\n",
    "#                 fileNamePrefix=f\"treesat_{start_date.strftime('%b%Y')}\",\n",
    "#                 description='TreeSatAI labels',\n",
    "#                 folder='treesat',\n",
    "#                 scale=10,\n",
    "#             )\n",
    "#             task.start()\n",
    "#     return download_dates\n",
    "# test_date = datetime.datetime(2020, 4, 15)\n",
    "# filename_prefix_list = download_temporal_data(test_date, download=False)"
   ]
  },
  {
   "cell_type": "code",
   "execution_count": 7,
   "id": "694cdb69-265c-4902-af0f-7c3bb1c2fcf2",
   "metadata": {},
   "outputs": [
    {
     "data": {
      "text/html": [
       "\n",
       "            <style>\n",
       "                .geemap-dark {\n",
       "                    --jp-widgets-color: white;\n",
       "                    --jp-widgets-label-color: white;\n",
       "                    --jp-ui-font-color1: white;\n",
       "                    --jp-layout-color2: #454545;\n",
       "                    background-color: #383838;\n",
       "                }\n",
       "\n",
       "                .geemap-dark .jupyter-button {\n",
       "                    --jp-layout-color3: #383838;\n",
       "                }\n",
       "\n",
       "                .geemap-colab {\n",
       "                    background-color: var(--colab-primary-surface-color, white);\n",
       "                }\n",
       "\n",
       "                .geemap-colab .jupyter-button {\n",
       "                    --jp-layout-color3: var(--colab-primary-surface-color, white);\n",
       "                }\n",
       "            </style>\n",
       "            "
      ],
      "text/plain": [
       "<IPython.core.display.HTML object>"
      ]
     },
     "metadata": {},
     "output_type": "display_data"
    }
   ],
   "source": [
    "# %%time\n",
    "# class TifProcessor:\n",
    "#     def crop_center(self, img, cropx=6, cropy=6):\n",
    "#         bands, y, x = img.shape\n",
    "#         startx = x//2 - (cropx//2)\n",
    "#         starty = y//2 - (cropy//2)    \n",
    "#         return img[:, starty:starty+cropy, startx:startx+cropx]\n",
    "\n",
    "#     def read_tif(self, data_dir, filename_prefix):\n",
    "#         tif_paths = list(Path(data_dir).glob(f'{filename_prefix}*.tif'))\n",
    "#         save_path = Path(data_dir).joinpath(f'{filename_prefix}.npy')\n",
    "        \n",
    "#         if save_path.is_file():\n",
    "#             with open(save_path, 'rb') as f:\n",
    "#                 processed_data = pickle.load(f)\n",
    "                \n",
    "#             labels = [label for label, features in processed_data]\n",
    "#             features = [features for label, features in processed_data]\n",
    "#             return labels, features\n",
    "            \n",
    "#         if len(tif_paths) > 1:\n",
    "#             with ExitStack() as stack:\n",
    "#                 tif_files = [stack.enter_context(rasterio.open(fname)) for fname in tif_paths]\n",
    "#                 print('Beginning Rasterio tif merge')\n",
    "#                 tif_data = rasterio.merge.merge(tif_files)\n",
    "#         elif len(tif_paths) == 1:\n",
    "#             with rasterio.open(tif_paths[0]) as f:\n",
    "#                 tif_data = f.read()\n",
    "#         else:\n",
    "#             raise FileNotFoundError(f'No files containing \"{filename_prefix}\" found in \"{data_dir}\".')\n",
    "\n",
    "#         return tif_data\n",
    "    \n",
    "#     def tif_to_numpy(self, data_dir, filename_prefix, gdf):\n",
    "        \n",
    "#         tif_data = self.read_tif(data_dir, filename_prefix)\n",
    "\n",
    "#         labels = []\n",
    "#         features = []\n",
    "        \n",
    "#         for i, row in tqdm(gdf.iterrows(), total=gdf.shape[0]):\n",
    "#             out_image, out_transform = rasterio.mask.mask(tif_data, [row.geometry], crop=True)\n",
    "#             out_image = self.crop_center(out_image)\n",
    "            \n",
    "#             features.append(out_image)\n",
    "#             labels.append(row[target_column])       \n",
    "\n",
    "#         data_list = list(zip(labels, features))\n",
    "#         with open(save_path, 'wb') as f:\n",
    "#             pickle.dump(data_list, f)\n",
    "#         return labels, features\n",
    "\n",
    "# temporal_labels, temporal_features = [], []\n",
    "# for filename_prefix in filename_prefix_list:\n",
    "#     labels, features = TifProcessor().tif_to_numpy('data', filename_prefix, gdf)\n",
    "#     temporal_labels.append(labels)\n",
    "#     temporal_features.append(features)"
   ]
  },
  {
   "cell_type": "code",
   "execution_count": 8,
   "id": "b09cb104-fb02-41f5-8542-8d6a11bdbfca",
   "metadata": {},
   "outputs": [
    {
     "data": {
      "text/html": [
       "\n",
       "            <style>\n",
       "                .geemap-dark {\n",
       "                    --jp-widgets-color: white;\n",
       "                    --jp-widgets-label-color: white;\n",
       "                    --jp-ui-font-color1: white;\n",
       "                    --jp-layout-color2: #454545;\n",
       "                    background-color: #383838;\n",
       "                }\n",
       "\n",
       "                .geemap-dark .jupyter-button {\n",
       "                    --jp-layout-color3: #383838;\n",
       "                }\n",
       "\n",
       "                .geemap-colab {\n",
       "                    background-color: var(--colab-primary-surface-color, white);\n",
       "                }\n",
       "\n",
       "                .geemap-colab .jupyter-button {\n",
       "                    --jp-layout-color3: var(--colab-primary-surface-color, white);\n",
       "                }\n",
       "            </style>\n",
       "            "
      ],
      "text/plain": [
       "<IPython.core.display.HTML object>"
      ]
     },
     "metadata": {},
     "output_type": "display_data"
    }
   ],
   "source": [
    "# # soft data check\n",
    "# if np.array_equal(temporal_labels[0], temporal_labels[1]):\n",
    "#     raise ValueError(f\"Don't panic\")"
   ]
  },
  {
   "cell_type": "code",
   "execution_count": 9,
   "id": "ec409faa-3b19-4312-99aa-af9b8ef7e995",
   "metadata": {},
   "outputs": [
    {
     "data": {
      "text/html": [
       "\n",
       "            <style>\n",
       "                .geemap-dark {\n",
       "                    --jp-widgets-color: white;\n",
       "                    --jp-widgets-label-color: white;\n",
       "                    --jp-ui-font-color1: white;\n",
       "                    --jp-layout-color2: #454545;\n",
       "                    background-color: #383838;\n",
       "                }\n",
       "\n",
       "                .geemap-dark .jupyter-button {\n",
       "                    --jp-layout-color3: #383838;\n",
       "                }\n",
       "\n",
       "                .geemap-colab {\n",
       "                    background-color: var(--colab-primary-surface-color, white);\n",
       "                }\n",
       "\n",
       "                .geemap-colab .jupyter-button {\n",
       "                    --jp-layout-color3: var(--colab-primary-surface-color, white);\n",
       "                }\n",
       "            </style>\n",
       "            "
      ],
      "text/plain": [
       "<IPython.core.display.HTML object>"
      ]
     },
     "metadata": {},
     "output_type": "display_data"
    }
   ],
   "source": [
    "# y = labels\n",
    "# classes = np.unique(labels)\n",
    "\n",
    "# X = np.array(features)\n",
    "# X = X.reshape(len(y), -1)\n",
    "\n",
    "# X_train, X_test, y_train, y_test = train_test_split(X, y, test_size=0.1, random_state=42)"
   ]
  },
  {
   "cell_type": "code",
   "execution_count": 10,
   "id": "dcb507a5-9aad-4d77-9f47-00e6e997cdcf",
   "metadata": {},
   "outputs": [
    {
     "data": {
      "text/html": [
       "\n",
       "            <style>\n",
       "                .geemap-dark {\n",
       "                    --jp-widgets-color: white;\n",
       "                    --jp-widgets-label-color: white;\n",
       "                    --jp-ui-font-color1: white;\n",
       "                    --jp-layout-color2: #454545;\n",
       "                    background-color: #383838;\n",
       "                }\n",
       "\n",
       "                .geemap-dark .jupyter-button {\n",
       "                    --jp-layout-color3: #383838;\n",
       "                }\n",
       "\n",
       "                .geemap-colab {\n",
       "                    background-color: var(--colab-primary-surface-color, white);\n",
       "                }\n",
       "\n",
       "                .geemap-colab .jupyter-button {\n",
       "                    --jp-layout-color3: var(--colab-primary-surface-color, white);\n",
       "                }\n",
       "            </style>\n",
       "            "
      ],
      "text/plain": [
       "<IPython.core.display.HTML object>"
      ]
     },
     "metadata": {},
     "output_type": "display_data"
    }
   ],
   "source": [
    "# feature_collection = geemap.geopandas_to_ee(gdf.sample(10000))\n",
    "# map = geemap.Map()\n",
    "# map.addLayerControl()\n",
    "# map.setCenter(total_bounds[0::2].sum()/2, total_bounds[1::2].sum()/2, 8)\n",
    "# url = 'https://mt1.google.com/vt/lyrs=y&x={x}&y={y}&z={z}'\n",
    "# map.add_tile_layer(url, name='Google Map', attribution='Google')\n",
    "# map.addLayer(feature_collection, {}, \"geopandas to ee\")\n",
    "# map.addLayer(bbox, {}, \"bounding box\")"
   ]
  },
  {
   "cell_type": "code",
   "execution_count": 11,
   "id": "9c3776df-044d-45cf-8e31-cab0fc63222f",
   "metadata": {},
   "outputs": [
    {
     "data": {
      "text/html": [
       "\n",
       "            <style>\n",
       "                .geemap-dark {\n",
       "                    --jp-widgets-color: white;\n",
       "                    --jp-widgets-label-color: white;\n",
       "                    --jp-ui-font-color1: white;\n",
       "                    --jp-layout-color2: #454545;\n",
       "                    background-color: #383838;\n",
       "                }\n",
       "\n",
       "                .geemap-dark .jupyter-button {\n",
       "                    --jp-layout-color3: #383838;\n",
       "                }\n",
       "\n",
       "                .geemap-colab {\n",
       "                    background-color: var(--colab-primary-surface-color, white);\n",
       "                }\n",
       "\n",
       "                .geemap-colab .jupyter-button {\n",
       "                    --jp-layout-color3: var(--colab-primary-surface-color, white);\n",
       "                }\n",
       "            </style>\n",
       "            "
      ],
      "text/plain": [
       "<IPython.core.display.HTML object>"
      ]
     },
     "metadata": {},
     "output_type": "display_data"
    }
   ],
   "source": [
    "def download_npy(bbox, start_date, end_date, gdf, sleep_time):\n",
    "    sleep(sleep_time)\n",
    "    params = {\n",
    "        'format': 'NPY',\n",
    "        'dimensions': (6, 6),\n",
    "        # 'scale': 10,\n",
    "    }\n",
    "    sentinel_image = SentinelGetter().get_image(bbox, start_date, end_date)\n",
    "    all_data = []\n",
    "    labels = []\n",
    "    save_path = Path('data').joinpath(f\"treesat_{start_date.strftime('%m%Y')}.npy\")\n",
    "    \n",
    "    print(f\"Processing {start_date.strftime('%b %Y')}. \")\n",
    "    for chunk in tqdm(np.array_split(gdf, 10)):\n",
    "        for i in tqdm(chunk.index):\n",
    "            retry = True\n",
    "            while retry:\n",
    "                try:\n",
    "                    this_bbox = ee.Geometry.BBox(*chunk.geometry[i].bounds)\n",
    "                    params['region'] = this_bbox\n",
    "                    \n",
    "                    url = sentinel_image.getDownloadURL(params)\n",
    "                    file = np.DataSource().open(url)         \n",
    "                    data = np.load(file.name)\n",
    "                    labels.append(gdf.iloc[0][target])\n",
    "                    all_data.append(data)\n",
    "                    retry = False\n",
    "                except:\n",
    "                    sleep(1)\n",
    "                    retry = True\n",
    "                    \n",
    "        with open(save_path, 'wb') as f:\n",
    "            np.save(f, np.array(all_data))"
   ]
  },
  {
   "cell_type": "code",
   "execution_count": null,
   "id": "2aaaf3be-7082-42a1-b61b-a5f336529f70",
   "metadata": {},
   "outputs": [
    {
     "data": {
      "text/html": [
       "\n",
       "            <style>\n",
       "                .geemap-dark {\n",
       "                    --jp-widgets-color: white;\n",
       "                    --jp-widgets-label-color: white;\n",
       "                    --jp-ui-font-color1: white;\n",
       "                    --jp-layout-color2: #454545;\n",
       "                    background-color: #383838;\n",
       "                }\n",
       "\n",
       "                .geemap-dark .jupyter-button {\n",
       "                    --jp-layout-color3: #383838;\n",
       "                }\n",
       "\n",
       "                .geemap-colab {\n",
       "                    background-color: var(--colab-primary-surface-color, white);\n",
       "                }\n",
       "\n",
       "                .geemap-colab .jupyter-button {\n",
       "                    --jp-layout-color3: var(--colab-primary-surface-color, white);\n",
       "                }\n",
       "            </style>\n",
       "            "
      ],
      "text/plain": [
       "<IPython.core.display.HTML object>"
      ]
     },
     "metadata": {},
     "output_type": "display_data"
    },
    {
     "name": "stdout",
     "output_type": "stream",
     "text": [
      "Processing Jan 2019. \n"
     ]
    },
    {
     "data": {
      "application/vnd.jupyter.widget-view+json": {
       "model_id": "e3ff23c567844bc498486681998aa009",
       "version_major": 2,
       "version_minor": 0
      },
      "text/plain": [
       "  0%|          | 0/10 [00:00<?, ?it/s]"
      ]
     },
     "metadata": {},
     "output_type": "display_data"
    },
    {
     "data": {
      "application/vnd.jupyter.widget-view+json": {
       "model_id": "02bbe8cb621a460ea2077d783b71e482",
       "version_major": 2,
       "version_minor": 0
      },
      "text/plain": [
       "  0%|          | 0/5039 [00:00<?, ?it/s]"
      ]
     },
     "metadata": {},
     "output_type": "display_data"
    }
   ],
   "source": [
    "start_date = datetime.datetime(2019, 1, 1)\n",
    "end_date = start_date.replace(\n",
    "    month=start_date.month%12 + 1, \n",
    "    year=start_date.year + start_date.month//12)\n",
    "download_npy(bbox, start_date, end_date, gdf, 0)"
   ]
  },
  {
   "cell_type": "code",
   "execution_count": null,
   "id": "f698cd1b-62e9-4cc4-8d07-50893e782795",
   "metadata": {},
   "outputs": [],
   "source": [
    "# pool = Pool(processes=6)\n",
    "# map_inputs = []\n",
    "# date = datetime.datetime(2019, 1, 1)\n",
    "# for i in range(1, 13):\n",
    "#     start_date = date.replace(month=i)\n",
    "#     end_date = start_date.replace(\n",
    "#         month=start_date.month%12 + 1, \n",
    "#         year=start_date.year + start_date.month//12)\n",
    "#     map_inputs.append((bbox, start_date, end_date, gdf, i*2))\n",
    "\n",
    "# pool.starmap(download_npy, map_inputs)\n",
    "# pool.close()"
   ]
  },
  {
   "cell_type": "code",
   "execution_count": null,
   "id": "33929f27-524e-41a0-a058-2f47233f28f1",
   "metadata": {},
   "outputs": [],
   "source": [
    "\n",
    "    \n",
    "    "
   ]
  },
  {
   "cell_type": "code",
   "execution_count": null,
   "id": "def1baa7-96a9-4347-a303-2c907c8b8c5b",
   "metadata": {},
   "outputs": [],
   "source": []
  },
  {
   "cell_type": "code",
   "execution_count": null,
   "id": "b98133c3-e090-4125-b71e-3ceaffd2157c",
   "metadata": {},
   "outputs": [],
   "source": []
  },
  {
   "cell_type": "code",
   "execution_count": null,
   "id": "6fb53c9e-3379-4446-8cca-9e0f1549c213",
   "metadata": {},
   "outputs": [],
   "source": []
  },
  {
   "cell_type": "code",
   "execution_count": null,
   "id": "27c1a810-5642-4006-8fda-01e2dfba4876",
   "metadata": {},
   "outputs": [],
   "source": []
  },
  {
   "cell_type": "code",
   "execution_count": null,
   "id": "f9ffa18f-41d5-49c0-9b28-188b6424d0b6",
   "metadata": {},
   "outputs": [],
   "source": []
  },
  {
   "cell_type": "code",
   "execution_count": null,
   "id": "4f8914e0-36c5-46cd-9924-ec282dfc2b1d",
   "metadata": {},
   "outputs": [],
   "source": [
    "# %%time\n",
    "# dfs = []\n",
    "# for chunk in tqdm(np.array_split(gdf, gdf.shape[0]//100)):\n",
    "#     feature_collection = geemap.gdf_to_ee(chunk)\n",
    "#     sample_regions = sentinel_image.sampleRegions(\n",
    "#         collection=feature_collection, scale=10)\n",
    "#     df = geemap.ee_to_gdf(sample_regions)\n",
    "#     # info = sample_regions.getInfo()\n",
    "#     # df = pd.json_normalize(info['features'])\n",
    "#     dfs.append(df)"
   ]
  },
  {
   "cell_type": "code",
   "execution_count": null,
   "id": "a0da89d4-ad43-43f4-966b-784ce1563181",
   "metadata": {},
   "outputs": [],
   "source": [
    "# gdfs = []\n",
    "# for i, row in tqdm(gdf.head(100).iterrows(), total=gdf.head(100).shape[0]):\n",
    "#     bbox = ee.Geometry.BBox(*row.geometry.bounds)\n",
    "#     # sample = sentinel_image.stratifiedSample(\n",
    "#     #     numPoints=36, classBand=target, region=bbox, scale=10, seed=42, geometries=True)\n",
    "#     sample = sentinel_image.sample(\n",
    "#         bbox, scale=10, numPixels=36, seed=42, geometries=True)\n",
    "#     gdf = geemap.ee_to_gdf(sample)\n",
    "#     gdfs.append(gdf)"
   ]
  },
  {
   "cell_type": "code",
   "execution_count": null,
   "id": "f3cb2ae7-7262-4f72-a27e-5dbe021caf02",
   "metadata": {},
   "outputs": [],
   "source": []
  },
  {
   "cell_type": "code",
   "execution_count": null,
   "id": "49ee6c92-f989-4253-b7de-08a50c4e40cb",
   "metadata": {},
   "outputs": [],
   "source": []
  },
  {
   "cell_type": "code",
   "execution_count": null,
   "id": "b5189141-5f07-4aac-a68f-00a24ec5d69d",
   "metadata": {},
   "outputs": [],
   "source": []
  },
  {
   "cell_type": "code",
   "execution_count": null,
   "id": "b3378d43-42ae-4f34-9df2-6e74e58f1822",
   "metadata": {},
   "outputs": [],
   "source": []
  }
 ],
 "metadata": {
  "kernelspec": {
   "display_name": "Python 3 (ipykernel)",
   "language": "python",
   "name": "python3"
  },
  "language_info": {
   "codemirror_mode": {
    "name": "ipython",
    "version": 3
   },
   "file_extension": ".py",
   "mimetype": "text/x-python",
   "name": "python",
   "nbconvert_exporter": "python",
   "pygments_lexer": "ipython3",
   "version": "3.12.1"
  }
 },
 "nbformat": 4,
 "nbformat_minor": 5
}
