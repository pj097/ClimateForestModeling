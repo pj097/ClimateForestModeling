{
 "cells": [
  {
   "cell_type": "code",
   "execution_count": null,
   "id": "45a09dcb-b90b-45d7-b5a2-54996a34ada0",
   "metadata": {},
   "outputs": [],
   "source": [
    "# new imports\n",
    "from pathlib import Path\n",
    "import plotly.express as px\n",
    "from IPython.display import display\n",
    "from tqdm.notebook import tqdm\n",
    "\n",
    "import numpy as np\n",
    "import pandas as pd\n",
    "\n",
    "from sklearn.model_selection import train_test_split\n",
    "from sklearn.decomposition import PCA\n",
    "from sklearn.preprocessing import StandardScaler\n",
    "from sklearn.multiclass import OneVsRestClassifier\n",
    "from sklearn.metrics import multilabel_confusion_matrix\n",
    "\n",
    "from sklearn.svm import SVC\n",
    "\n",
    "import rasterio\n",
    "import json\n",
    "import pickle\n",
    "# import pca\n",
    "\n",
    "# from sklearn.multioutput import MultiOutputClassifier\n",
    "\n",
    "# original imports (edited)\n",
    "import shelve\n",
    "# import lightgbm as ltb\n",
    "\n",
    "from sklearn.metrics import f1_score, precision_score, recall_score, accuracy_score, average_precision_score\n",
    "from sklearn.metrics import classification_report, confusion_matrix, ConfusionMatrixDisplay\n",
    "\n",
    "from flaml import AutoML\n",
    "\n",
    "# from skmultilearn.model_selection import IterativeStratification"
   ]
  },
  {
   "cell_type": "code",
   "execution_count": null,
   "id": "d35fae04-993f-40bb-964d-6ec19b7d8da6",
   "metadata": {},
   "outputs": [],
   "source": [
    "labels_json = Path('TreeSatBA_v9_60m_multi_labels.json')\n",
    "\n",
    "# load the data\n",
    "with labels_json.open() as f:\n",
    "    multilabels_dict = json.load(f)\n",
    "\n",
    "# Convert the pair lists to dictionaries\n",
    "# so that pandas can read it properly\n",
    "new_values = []\n",
    "for vs in multilabels_dict.values():\n",
    "    this_dict = {}\n",
    "    for key, value in vs:\n",
    "        this_dict[key] = value\n",
    "    new_values.append(this_dict)\n",
    "\n",
    "labels_df = pd.DataFrame.from_records(new_values, index=multilabels_dict.keys())\n",
    "labels_df = labels_df.fillna(0)"
   ]
  },
  {
   "cell_type": "code",
   "execution_count": null,
   "id": "d4ae79b0-fef2-46f4-9e67-6f12c15c1594",
   "metadata": {},
   "outputs": [],
   "source": [
    "counts = labels_df.astype(bool).sum()\n",
    "fig = px.histogram(x=counts.index, y=counts, text_auto=True)\n",
    "fig.update_xaxes(categoryorder=\"total descending\")\n",
    "fig.update_layout(xaxis_title=\"Species\", yaxis_title=\"Occurrences\")"
   ]
  },
  {
   "cell_type": "code",
   "execution_count": null,
   "id": "17759222-56d5-4a21-ba7d-c508b05ea21c",
   "metadata": {},
   "outputs": [],
   "source": [
    "%%time\n",
    "# It is very slow to read a high amount of tifs.\n",
    "# Do it once then save as a pickle file through numpy.\n",
    "tif_paths = Path('s2').joinpath('60m')\n",
    "save_path = Path('s2').joinpath('s2_60m.npy')\n",
    "if not save_path.is_file():\n",
    "    tif_data = []\n",
    "    for tif_name in tqdm(labels_df.index):\n",
    "        with rasterio.open(tif_paths.joinpath(tif_name)) as img:\n",
    "            tif_data.append(img.read())\n",
    "    np.save(save_path, dict(zip(labels_df.index, tif_data)))\n",
    "tif_dict = np.load(save_path, allow_pickle=True).item()"
   ]
  },
  {
   "cell_type": "code",
   "execution_count": null,
   "id": "b5bd312a-ec69-4747-93e2-8cd5d367d84f",
   "metadata": {},
   "outputs": [],
   "source": [
    "def train_and_eval(X_train, X_test, y_train, y_test, classes, save_path):\n",
    "    if not save_path.is_file():\n",
    "        automl = AutoML(\n",
    "            time_budget=60*60,\n",
    "            estimator_list=['lgbm'],\n",
    "            n_jobs=2\n",
    "        )\n",
    "        clf = OneVsRestClassifier(automl, n_jobs=2)\n",
    "        # clf = OneVsRestClassifier(SVC(probability=True), verbose=True)\n",
    "        clf.fit(X_train, y_train)\n",
    "\n",
    "        with save_path.open(mode='wb') as f:\n",
    "            pickle.dump(clf, f)\n",
    "    else:\n",
    "        with save_path.open(mode='rb') as f:\n",
    "            clf = pickle.load(f)\n",
    "        \n",
    "    y_pred = clf.predict(X_test)\n",
    "    y_score = clf.predict_proba(X_test)\n",
    "\n",
    "    accuracy = accuracy_score(y_pred, y_test)\n",
    "    \n",
    "    cr = classification_report(y_test, y_pred, target_names=classes, zero_division=0, output_dict=True)\n",
    "    \n",
    "    df = pd.DataFrame(cr).transpose()\n",
    "    \n",
    "    df.insert(3, 'mAP', list(average_precision_score(y_test, y_score, average=None)) + [\n",
    "        average_precision_score(y_test, y_score, average=n) for n in ['micro', 'macro', 'weighted', 'samples']\n",
    "    ])\n",
    "    \n",
    "    display(df.iloc[:-4].sort_index())\n",
    "    display(df.iloc[-4:])\n",
    "\n",
    "    return y_pred"
   ]
  },
  {
   "cell_type": "code",
   "execution_count": null,
   "id": "fb0900b8-3ca2-48c1-ba7b-17e525454ab7",
   "metadata": {},
   "outputs": [],
   "source": [
    "y = labels_df.astype(bool).to_numpy()\n",
    "# y = labels_df.to_numpy()\n",
    "\n",
    "X = list(tif_dict.values())\n",
    "print(type(X))\n",
    "X = np.array(X)\n",
    "print(X.shape)\n",
    "\n",
    "# Flatten the bands and xy, \n",
    "# i.e. shape (samples, band, x, y) -> (samples, band*x*y)\n",
    "X = X.reshape(len(y), -1)\n",
    "\n",
    "classes = labels_df.columns\n",
    "\n",
    "test_filenames = pd.read_csv('test_filenames.lst', header=None)\n",
    "train_filenames = pd.read_csv('train_filenames.lst', header=None)\n",
    "test_mask = labels_df.index.isin(test_filenames[0])\n",
    "train_mask = labels_df.index.isin(train_filenames[0])\n",
    "\n",
    "X_train, X_test, y_train, y_test = X[train_mask], X[test_mask], y[train_mask], y[test_mask]\n",
    "# X_train, X_test, y_train, y_test = train_test_split(X, y, test_size=0.9, random_state=42)"
   ]
  },
  {
   "cell_type": "code",
   "execution_count": null,
   "id": "a0da89d4-ad43-43f4-966b-784ce1563181",
   "metadata": {},
   "outputs": [],
   "source": [
    "%%time\n",
    "save_path = Path('models').joinpath('lgbm_90split_fixed.pkl')\n",
    "y_pred = train_and_eval(X_train, X_test, y_train, y_test, classes, save_path)"
   ]
  },
  {
   "cell_type": "code",
   "execution_count": null,
   "id": "f3cb2ae7-7262-4f72-a27e-5dbe021caf02",
   "metadata": {},
   "outputs": [],
   "source": [
    "# Band order? B02, B03, B04, B08, B05, B06, B07, B8A, B11, B12, B01, B09\n",
    "# blue, green, red, NIR, Red Edge 1, Red Edge 2, Red Edge 3, Red Edge 4,\n",
    "# SWIR 1, SWIR 2, Aerosols, Water vapor\n",
    "select_bands = [0, 1, 2, 3]\n",
    "\n",
    "X = list(tif_dict.values())\n",
    "\n",
    "X = np.array(X)\n",
    "\n",
    "# Keep the bands as the principal dimension, flatten the rest\n",
    "X = X.reshape(-1, X.shape[1])\n",
    "\n",
    "X = StandardScaler().fit_transform(X)\n",
    "\n",
    "# X = X[select_bands, :]\n",
    "\n",
    "pca_model = PCA(n_components=None)\n",
    "\n",
    "pca_transform = pca_model.fit_transform(X)\n"
   ]
  },
  {
   "cell_type": "code",
   "execution_count": null,
   "id": "63e7eb47-e2f9-4558-b2d0-4bd778dbdf6f",
   "metadata": {},
   "outputs": [],
   "source": [
    "pca_model.explained_variance_ratio_"
   ]
  },
  {
   "cell_type": "code",
   "execution_count": null,
   "id": "f628da66-5723-460d-b134-1c8cdd66bf52",
   "metadata": {},
   "outputs": [],
   "source": [
    "pca_transform.shape"
   ]
  },
  {
   "cell_type": "code",
   "execution_count": null,
   "id": "49ee6c92-f989-4253-b7de-08a50c4e40cb",
   "metadata": {},
   "outputs": [],
   "source": []
  },
  {
   "cell_type": "code",
   "execution_count": null,
   "id": "8200a1ca-1160-4f7e-b5fc-171b33ad232b",
   "metadata": {},
   "outputs": [],
   "source": []
  }
 ],
 "metadata": {
  "kernelspec": {
   "display_name": "Python 3 (ipykernel)",
   "language": "python",
   "name": "python3"
  },
  "language_info": {
   "codemirror_mode": {
    "name": "ipython",
    "version": 3
   },
   "file_extension": ".py",
   "mimetype": "text/x-python",
   "name": "python",
   "nbconvert_exporter": "python",
   "pygments_lexer": "ipython3",
   "version": "3.10.13"
  }
 },
 "nbformat": 4,
 "nbformat_minor": 5
}
