{
 "cells": [
  {
   "cell_type": "code",
   "execution_count": 1,
   "id": "3079ca98-778a-4675-835e-da84df7e8673",
   "metadata": {},
   "outputs": [],
   "source": [
    "import geopandas as gpd"
   ]
  },
  {
   "cell_type": "code",
   "execution_count": 5,
   "id": "619762cb-1c67-4c64-a37a-a98f28dcb3e8",
   "metadata": {},
   "outputs": [],
   "source": [
    "df = gpd.read_file('labels/p.geojson')"
   ]
  },
  {
   "cell_type": "code",
   "execution_count": 16,
   "id": "988ff36c-4035-4cbd-83eb-4b28bb02c359",
   "metadata": {},
   "outputs": [
    {
     "data": {
      "text/plain": [
       "YEAR\n",
       "2011    5048\n",
       "2013    4183\n",
       "2014    6524\n",
       "2015    4728\n",
       "2016    7697\n",
       "2017    3432\n",
       "2018    7258\n",
       "2019    6254\n",
       "2020    5257\n",
       "Name: count, dtype: int64"
      ]
     },
     "execution_count": 16,
     "metadata": {},
     "output_type": "execute_result"
    }
   ],
   "source": [
    "df['YEAR'].astype(int).value_counts().sort_index()"
   ]
  },
  {
   "cell_type": "code",
   "execution_count": null,
   "id": "82704046-0fce-4ce3-8758-62ea7432292e",
   "metadata": {},
   "outputs": [],
   "source": []
  },
  {
   "cell_type": "code",
   "execution_count": null,
   "id": "3085d4a7-4c86-4a3f-8e6f-66497ab11583",
   "metadata": {},
   "outputs": [],
   "source": []
  }
 ],
 "metadata": {
  "kernelspec": {
   "display_name": "Python 3 (ipykernel)",
   "language": "python",
   "name": "python3"
  },
  "language_info": {
   "codemirror_mode": {
    "name": "ipython",
    "version": 3
   },
   "file_extension": ".py",
   "mimetype": "text/x-python",
   "name": "python",
   "nbconvert_exporter": "python",
   "pygments_lexer": "ipython3",
   "version": "3.10.14"
  },
  "widgets": {
   "application/vnd.jupyter.widget-state+json": {
    "state": {},
    "version_major": 2,
    "version_minor": 0
   }
  }
 },
 "nbformat": 4,
 "nbformat_minor": 5
}
