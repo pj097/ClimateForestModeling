{
 "cells": [
  {
   "cell_type": "code",
   "execution_count": 1,
   "id": "45a09dcb-b90b-45d7-b5a2-54996a34ada0",
   "metadata": {},
   "outputs": [
    {
     "name": "stderr",
     "output_type": "stream",
     "text": [
      "2024-03-23 00:28:27.787499: I tensorflow/core/platform/cpu_feature_guard.cc:210] This TensorFlow binary is optimized to use available CPU instructions in performance-critical operations.\n",
      "To enable the following instructions: AVX2 FMA, in other operations, rebuild TensorFlow with the appropriate compiler flags.\n",
      "2024-03-23 00:28:28.526051: W tensorflow/compiler/tf2tensorrt/utils/py_utils.cc:38] TF-TRT Warning: Could not find TensorRT\n"
     ]
    }
   ],
   "source": [
    "from IPython.display import display\n",
    "from tqdm.notebook import tqdm\n",
    "\n",
    "import numpy as np\n",
    "import pandas as pd\n",
    "\n",
    "import datetime\n",
    "from pathlib import Path\n",
    "\n",
    "import intake\n",
    "\n",
    "from sklearn.model_selection import train_test_split\n",
    "from sklearn.multiclass import OneVsRestClassifier\n",
    "\n",
    "from sklearn.preprocessing import StandardScaler\n",
    "\n",
    "from sklearn.metrics import classification_report, accuracy_score\n",
    "\n",
    "import pickle\n",
    "\n",
    "import tensorflow as tf\n",
    "from tensorflow.keras import layers"
   ]
  },
  {
   "cell_type": "code",
   "execution_count": 2,
   "id": "17759222-56d5-4a21-ba7d-c508b05ea21c",
   "metadata": {},
   "outputs": [],
   "source": [
    "catalog = intake.open_catalog(Path('../catalog.yml'))\n",
    "source = getattr(catalog, 'treesat')\n",
    "gdf = source.read()[source.metadata['usecols']]\n",
    "gdf.crs = 25832\n",
    "gdf = gdf.to_crs(epsg=4326)"
   ]
  },
  {
   "cell_type": "code",
   "execution_count": 3,
   "id": "626019d0-f07b-4e8f-92c4-0d4d2d4c42e4",
   "metadata": {},
   "outputs": [],
   "source": [
    "target = source.metadata['categories']['generic'] # generic / general\n",
    "gdf[target] = gdf[target].astype('category')"
   ]
  },
  {
   "cell_type": "code",
   "execution_count": 4,
   "id": "0749fbd3-b6ee-443c-b12c-741c2ee1f1bb",
   "metadata": {},
   "outputs": [],
   "source": [
    "selected_bands = [f'B{x}' for x in range(2, 9)] + ['B8A', 'B11', 'B12', 'TCI_R', 'TCI_G', 'TCI_B']"
   ]
  },
  {
   "cell_type": "code",
   "execution_count": 13,
   "id": "7a5fb97e-b021-4620-9b31-468323822101",
   "metadata": {},
   "outputs": [],
   "source": [
    "class KerasModelCreator:        \n",
    "    def load_data(self, filepath):\n",
    "        \"\"\"Load numpy files and flatten inner dimensions.\"\"\"\n",
    "        with open(filepath, 'rb') as f:\n",
    "            a = np.load(f)\n",
    "        # Array comes stacked, use tolist to unstack\n",
    "        return np.array(a.tolist())#.reshape(len(a), -1)\n",
    "\n",
    "    def split_and_preprocess(self, y, X, random_state=42):\n",
    "        \"\"\"Split, max scale, and fill masked values with the mean.\"\"\"\n",
    "        X_train, X_test, y_train, y_test = train_test_split(\n",
    "            X, y, test_size=0.1, random_state=random_state)\n",
    "        \n",
    "        band_max_values = [X_train[...,i].max() for i in range(X_train.shape[-1])]\n",
    "        \n",
    "        X_train = np.where(X_train > 0, X_train, X_train[X_train > 0].mean())/band_max_values\n",
    "        \n",
    "        X_test = np.where(X_test > 0, X_test, X_test[X_test > 0].mean())/band_max_values\n",
    "\n",
    "        return X_train, X_test, y_train, y_test\n",
    "        \n",
    "        \n",
    "    def build_model(self, num_classes):\n",
    "        padding = 'same'\n",
    "        activation = 'relu'\n",
    "        model = tf.keras.Sequential([\n",
    "          layers.Conv2D(16, (3, 3), padding=padding, activation=activation),\n",
    "          layers.MaxPooling2D(padding=padding),\n",
    "          layers.Conv2D(32, (3, 3), padding=padding, activation=activation),\n",
    "          layers.MaxPooling2D(padding=padding),\n",
    "          layers.Conv2D(64, (3, 3), padding=padding, activation=activation),\n",
    "          layers.MaxPooling2D(pool_size=2),\n",
    "          layers.Flatten(),\n",
    "          layers.Dense(128, activation=activation),\n",
    "          layers.Dense(num_classes)\n",
    "        ])\n",
    "\n",
    "        model.compile(\n",
    "            optimizer='adam',\n",
    "            loss=tf.keras.losses.SparseCategoricalCrossentropy(from_logits=True),\n",
    "            metrics=['accuracy']\n",
    "        )\n",
    "\n",
    "        return model\n",
    "    \n",
    "    def fit_eval(self, y, X, array_key, model):\n",
    "        X_train, X_test, y_train, y_test = self.split_and_preprocess(y, X)\n",
    "        \n",
    "    \n",
    "    def run(self, labels, filepaths, combined=False):\n",
    "        zeros = {}\n",
    "        \n",
    "        y_test_combined = []\n",
    "        X_test_combined = []\n",
    "        model = self.build_model(labels.unique().size)\n",
    "        \n",
    "        for filepath in filepaths:\n",
    "            X_key = filepath.stem\n",
    "            \n",
    "            X = self.load_data(filepath)\n",
    "\n",
    "            X = X[...,:3]\n",
    "\n",
    "            X_train, X_test, y_train, y_test = self.split_and_preprocess(labels, X)\n",
    "            y_test_combined.append(y_test)\n",
    "            X_test_combined.append(X_test)\n",
    "\n",
    "            print(f'Fitting {X_key}...', end=' ')\n",
    "            model.fit(X_train, y_train, epochs=20, verbose=1)\n",
    "            \n",
    "            model.evaluate(X_test, y_test, verbose=2)\n",
    "            \n",
    "            zeros[X_key] = 100*(X == 0).sum()/X.size\n",
    "            \n",
    "        if combined:    \n",
    "            model.evaluate(X_test_combined, y_test_combined, verbose=2)\n",
    "        \n",
    "        return zeros"
   ]
  },
  {
   "cell_type": "code",
   "execution_count": 14,
   "id": "2c556622-9d11-4368-9327-786914a2703b",
   "metadata": {},
   "outputs": [
    {
     "name": "stdout",
     "output_type": "stream",
     "text": [
      "Fitting treesat_042019... Epoch 1/20\n",
      "\u001b[1m1417/1417\u001b[0m \u001b[32m━━━━━━━━━━━━━━━━━━━━\u001b[0m\u001b[37m\u001b[0m \u001b[1m6s\u001b[0m 3ms/step - accuracy: 0.2463 - loss: 1.9955\n",
      "Epoch 2/20\n",
      "\u001b[1m1417/1417\u001b[0m \u001b[32m━━━━━━━━━━━━━━━━━━━━\u001b[0m\u001b[37m\u001b[0m \u001b[1m4s\u001b[0m 3ms/step - accuracy: 0.3825 - loss: 1.6810\n",
      "Epoch 3/20\n",
      "\u001b[1m1417/1417\u001b[0m \u001b[32m━━━━━━━━━━━━━━━━━━━━\u001b[0m\u001b[37m\u001b[0m \u001b[1m4s\u001b[0m 3ms/step - accuracy: 0.4258 - loss: 1.5877\n",
      "Epoch 4/20\n",
      "\u001b[1m1417/1417\u001b[0m \u001b[32m━━━━━━━━━━━━━━━━━━━━\u001b[0m\u001b[37m\u001b[0m \u001b[1m4s\u001b[0m 3ms/step - accuracy: 0.4339 - loss: 1.5533\n",
      "Epoch 5/20\n",
      "\u001b[1m1417/1417\u001b[0m \u001b[32m━━━━━━━━━━━━━━━━━━━━\u001b[0m\u001b[37m\u001b[0m \u001b[1m4s\u001b[0m 3ms/step - accuracy: 0.4421 - loss: 1.5332\n",
      "Epoch 6/20\n",
      "\u001b[1m1417/1417\u001b[0m \u001b[32m━━━━━━━━━━━━━━━━━━━━\u001b[0m\u001b[37m\u001b[0m \u001b[1m3s\u001b[0m 2ms/step - accuracy: 0.4455 - loss: 1.5196\n",
      "Epoch 7/20\n",
      "\u001b[1m1417/1417\u001b[0m \u001b[32m━━━━━━━━━━━━━━━━━━━━\u001b[0m\u001b[37m\u001b[0m \u001b[1m3s\u001b[0m 2ms/step - accuracy: 0.4524 - loss: 1.5104\n",
      "Epoch 8/20\n",
      "\u001b[1m1417/1417\u001b[0m \u001b[32m━━━━━━━━━━━━━━━━━━━━\u001b[0m\u001b[37m\u001b[0m \u001b[1m4s\u001b[0m 3ms/step - accuracy: 0.4499 - loss: 1.5035\n",
      "Epoch 9/20\n",
      "\u001b[1m1417/1417\u001b[0m \u001b[32m━━━━━━━━━━━━━━━━━━━━\u001b[0m\u001b[37m\u001b[0m \u001b[1m4s\u001b[0m 3ms/step - accuracy: 0.4585 - loss: 1.4840\n",
      "Epoch 10/20\n",
      "\u001b[1m1417/1417\u001b[0m \u001b[32m━━━━━━━━━━━━━━━━━━━━\u001b[0m\u001b[37m\u001b[0m \u001b[1m4s\u001b[0m 3ms/step - accuracy: 0.4581 - loss: 1.4839\n",
      "Epoch 11/20\n",
      "\u001b[1m1417/1417\u001b[0m \u001b[32m━━━━━━━━━━━━━━━━━━━━\u001b[0m\u001b[37m\u001b[0m \u001b[1m4s\u001b[0m 3ms/step - accuracy: 0.4638 - loss: 1.4596\n",
      "Epoch 12/20\n",
      "\u001b[1m1417/1417\u001b[0m \u001b[32m━━━━━━━━━━━━━━━━━━━━\u001b[0m\u001b[37m\u001b[0m \u001b[1m4s\u001b[0m 3ms/step - accuracy: 0.4624 - loss: 1.4669\n",
      "Epoch 13/20\n",
      "\u001b[1m1417/1417\u001b[0m \u001b[32m━━━━━━━━━━━━━━━━━━━━\u001b[0m\u001b[37m\u001b[0m \u001b[1m4s\u001b[0m 3ms/step - accuracy: 0.4641 - loss: 1.4682\n",
      "Epoch 14/20\n",
      "\u001b[1m1417/1417\u001b[0m \u001b[32m━━━━━━━━━━━━━━━━━━━━\u001b[0m\u001b[37m\u001b[0m \u001b[1m4s\u001b[0m 3ms/step - accuracy: 0.4657 - loss: 1.4654\n",
      "Epoch 15/20\n",
      "\u001b[1m1417/1417\u001b[0m \u001b[32m━━━━━━━━━━━━━━━━━━━━\u001b[0m\u001b[37m\u001b[0m \u001b[1m3s\u001b[0m 2ms/step - accuracy: 0.4687 - loss: 1.4506\n",
      "Epoch 16/20\n",
      "\u001b[1m1417/1417\u001b[0m \u001b[32m━━━━━━━━━━━━━━━━━━━━\u001b[0m\u001b[37m\u001b[0m \u001b[1m3s\u001b[0m 2ms/step - accuracy: 0.4681 - loss: 1.4487\n",
      "Epoch 17/20\n",
      "\u001b[1m1417/1417\u001b[0m \u001b[32m━━━━━━━━━━━━━━━━━━━━\u001b[0m\u001b[37m\u001b[0m \u001b[1m5s\u001b[0m 2ms/step - accuracy: 0.4705 - loss: 1.4433\n",
      "Epoch 18/20\n",
      "\u001b[1m1417/1417\u001b[0m \u001b[32m━━━━━━━━━━━━━━━━━━━━\u001b[0m\u001b[37m\u001b[0m \u001b[1m3s\u001b[0m 2ms/step - accuracy: 0.4755 - loss: 1.4386\n",
      "Epoch 19/20\n",
      "\u001b[1m1417/1417\u001b[0m \u001b[32m━━━━━━━━━━━━━━━━━━━━\u001b[0m\u001b[37m\u001b[0m \u001b[1m4s\u001b[0m 3ms/step - accuracy: 0.4722 - loss: 1.4431\n",
      "Epoch 20/20\n",
      "\u001b[1m1417/1417\u001b[0m \u001b[32m━━━━━━━━━━━━━━━━━━━━\u001b[0m\u001b[37m\u001b[0m \u001b[1m4s\u001b[0m 3ms/step - accuracy: 0.4735 - loss: 1.4312\n",
      "158/158 - 0s - 3ms/step - accuracy: 0.4660 - loss: 1.4602\n",
      "158/158 - 0s - 2ms/step - accuracy: 0.4660 - loss: 1.4602\n",
      "CPU times: user 2min 15s, sys: 51.8 s, total: 3min 7s\n",
      "Wall time: 1min 24s\n"
     ]
    }
   ],
   "source": [
    "%%time\n",
    "filepaths = [Path('data').joinpath('treesat_042019.npy')]\n",
    "# filepaths = sorted(list(Path('data').glob('treesat_*.npy')))\n",
    "zeros = KerasModelCreator().run(\n",
    "    gdf[target].cat.codes, filepaths, combined=True)"
   ]
  },
  {
   "cell_type": "code",
   "execution_count": null,
   "id": "cbe033c6-69c4-4913-bb4b-2b845f9685bb",
   "metadata": {},
   "outputs": [],
   "source": []
  },
  {
   "cell_type": "code",
   "execution_count": null,
   "id": "8a2a3066-469e-4543-981c-79c7037baf51",
   "metadata": {},
   "outputs": [],
   "source": []
  },
  {
   "cell_type": "code",
   "execution_count": null,
   "id": "f9ffa18f-41d5-49c0-9b28-188b6424d0b6",
   "metadata": {},
   "outputs": [],
   "source": []
  },
  {
   "cell_type": "code",
   "execution_count": null,
   "id": "4f8914e0-36c5-46cd-9924-ec282dfc2b1d",
   "metadata": {},
   "outputs": [],
   "source": []
  },
  {
   "cell_type": "code",
   "execution_count": null,
   "id": "a0da89d4-ad43-43f4-966b-784ce1563181",
   "metadata": {},
   "outputs": [],
   "source": []
  },
  {
   "cell_type": "code",
   "execution_count": null,
   "id": "f3cb2ae7-7262-4f72-a27e-5dbe021caf02",
   "metadata": {},
   "outputs": [],
   "source": []
  },
  {
   "cell_type": "code",
   "execution_count": null,
   "id": "49ee6c92-f989-4253-b7de-08a50c4e40cb",
   "metadata": {},
   "outputs": [],
   "source": []
  },
  {
   "cell_type": "code",
   "execution_count": null,
   "id": "b5189141-5f07-4aac-a68f-00a24ec5d69d",
   "metadata": {},
   "outputs": [],
   "source": []
  },
  {
   "cell_type": "code",
   "execution_count": null,
   "id": "b3378d43-42ae-4f34-9df2-6e74e58f1822",
   "metadata": {},
   "outputs": [],
   "source": []
  }
 ],
 "metadata": {
  "kernelspec": {
   "display_name": "Python 3 (ipykernel)",
   "language": "python",
   "name": "python3"
  },
  "language_info": {
   "codemirror_mode": {
    "name": "ipython",
    "version": 3
   },
   "file_extension": ".py",
   "mimetype": "text/x-python",
   "name": "python",
   "nbconvert_exporter": "python",
   "pygments_lexer": "ipython3",
   "version": "3.10.14"
  }
 },
 "nbformat": 4,
 "nbformat_minor": 5
}
