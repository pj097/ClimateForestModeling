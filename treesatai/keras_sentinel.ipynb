{
 "cells": [
  {
   "cell_type": "code",
   "execution_count": 1,
   "id": "45a09dcb-b90b-45d7-b5a2-54996a34ada0",
   "metadata": {},
   "outputs": [
    {
     "name": "stderr",
     "output_type": "stream",
     "text": [
      "2024-04-13 15:55:51.297297: I tensorflow/core/platform/cpu_feature_guard.cc:210] This TensorFlow binary is optimized to use available CPU instructions in performance-critical operations.\n",
      "To enable the following instructions: AVX2 FMA, in other operations, rebuild TensorFlow with the appropriate compiler flags.\n",
      "2024-04-13 15:55:52.717943: W tensorflow/compiler/tf2tensorrt/utils/py_utils.cc:38] TF-TRT Warning: Could not find TensorRT\n"
     ]
    }
   ],
   "source": [
    "from IPython.display import display\n",
    "from tqdm.notebook import tqdm\n",
    "\n",
    "import numpy as np\n",
    "import pandas as pd\n",
    "\n",
    "import datetime\n",
    "from pathlib import Path\n",
    "\n",
    "import intake\n",
    "\n",
    "from sklearn.model_selection import train_test_split\n",
    "from sklearn.multiclass import OneVsRestClassifier\n",
    "\n",
    "from sklearn.preprocessing import StandardScaler\n",
    "\n",
    "from sklearn.metrics import classification_report, accuracy_score\n",
    "\n",
    "import pickle\n",
    "\n",
    "import tensorflow as tf\n",
    "from tensorflow.keras import layers"
   ]
  },
  {
   "cell_type": "code",
   "execution_count": 2,
   "id": "17759222-56d5-4a21-ba7d-c508b05ea21c",
   "metadata": {},
   "outputs": [],
   "source": [
    "catalog = intake.open_catalog(Path('../catalog.yml'))\n",
    "source = getattr(catalog, 'treesat')\n",
    "gdf = source.read()[source.metadata['usecols']]\n",
    "gdf.crs = 25832\n",
    "gdf = gdf.to_crs(epsg=4326)"
   ]
  },
  {
   "cell_type": "code",
   "execution_count": 3,
   "id": "0749fbd3-b6ee-443c-b12c-741c2ee1f1bb",
   "metadata": {},
   "outputs": [],
   "source": [
    "selected_bands = [f'B{x}' for x in range(2, 9)] + ['B8A', 'B11', 'B12', 'TCI_R', 'TCI_G', 'TCI_B']"
   ]
  },
  {
   "cell_type": "code",
   "execution_count": 10,
   "id": "7a5fb97e-b021-4620-9b31-468323822101",
   "metadata": {},
   "outputs": [],
   "source": [
    "class Conv2DModelCreator:        \n",
    "    def split_and_preprocess(self, y, X, random_state=42):\n",
    "        \"\"\"Split and max scale.\"\"\"\n",
    "        X_train, X_test, y_train, y_test = train_test_split(\n",
    "            X, y, test_size=0.1, random_state=random_state)\n",
    "        \n",
    "        train_band_max_values = [X_train[...,i].max() for i in range(X_train.shape[-1])]\n",
    "        \n",
    "        X_train = X_train/train_band_max_values\n",
    "\n",
    "        test_band_max_values = [X_test[...,i].max() for i in range(X_test.shape[-1])]\n",
    "        \n",
    "        X_test = X_test/test_band_max_values\n",
    "\n",
    "        return X_train, X_test, y_train, y_test\n",
    "        \n",
    "        \n",
    "    def build_model(self, num_classes):\n",
    "        padding = 'same'\n",
    "        activation = 'relu'\n",
    "        model = tf.keras.Sequential([\n",
    "          layers.Conv2D(16, (3, 3), padding=padding, activation=activation),\n",
    "          layers.MaxPooling2D(padding=padding),\n",
    "          layers.Conv2D(32, (3, 3), padding=padding, activation=activation),\n",
    "          layers.MaxPooling2D(padding=padding),\n",
    "          layers.Conv2D(64, (3, 3), padding=padding, activation=activation),\n",
    "          layers.MaxPooling2D(pool_size=2),\n",
    "          layers.Flatten(),\n",
    "          layers.Dense(128, activation=activation),\n",
    "          layers.Dense(num_classes)\n",
    "        ])\n",
    "\n",
    "        model.compile(\n",
    "            optimizer='adam',\n",
    "            loss=tf.keras.losses.SparseCategoricalCrossentropy(from_logits=True),\n",
    "            metrics=['accuracy']\n",
    "        )\n",
    "\n",
    "        return model\n",
    "    \n",
    "    def fit_eval(self, y, X, array_key, model):\n",
    "        X_train, X_test, y_train, y_test = self.split_and_preprocess(y, X)\n",
    "        \n",
    "    \n",
    "    def run(self, labels, filepaths):\n",
    "        for filepath in filepaths:\n",
    "            with open(filepath, 'rb') as f:\n",
    "                X = np.load(f)\n",
    "            # X = X[...,:3]\n",
    "\n",
    "            X_train, X_test, y_train, y_test = self.split_and_preprocess(labels, X)\n",
    "            \n",
    "            print(f'Evaluating {filepath.stem}...', end=' ')\n",
    "\n",
    "            model_name = f'conv2d_{filepath.parent}_{filepath.stem}'\n",
    "            model_path = Path('models').joinpath(model_name)\n",
    "            if model_path.is_file():\n",
    "                model = joblib.load(model_path)\n",
    "            else:\n",
    "                model = self.build_model(labels.unique().size)\n",
    "                model.fit(X_train, y_train, epochs=10, verbose=1)\n",
    "                joblib.dump(model, model_path)\n",
    "            \n",
    "            model.evaluate(X_test, y_test, verbose=1)"
   ]
  },
  {
   "cell_type": "code",
   "execution_count": 11,
   "id": "17f0c210-6f7f-4bf8-b47d-955eaab0cecb",
   "metadata": {},
   "outputs": [],
   "source": [
    "target = source.metadata['categories']['multi'] # multi / trinary\n",
    "gdf[target] = gdf[target].astype('category')"
   ]
  },
  {
   "cell_type": "code",
   "execution_count": 12,
   "id": "4f8914e0-36c5-46cd-9924-ec282dfc2b1d",
   "metadata": {},
   "outputs": [
    {
     "name": "stdout",
     "output_type": "stream",
     "text": [
      "CPU times: user 334 µs, sys: 19 µs, total: 353 µs\n",
      "Wall time: 350 µs\n"
     ]
    }
   ],
   "source": [
    "%%time\n",
    "filepaths = sorted(list(Path('processed_data').glob('treesat_*.npy')))\n",
    "zeros = Conv2DModelCreator().run(\n",
    "    gdf[target].cat.codes, filepaths)"
   ]
  },
  {
   "cell_type": "code",
   "execution_count": null,
   "id": "a0da89d4-ad43-43f4-966b-784ce1563181",
   "metadata": {},
   "outputs": [],
   "source": []
  },
  {
   "cell_type": "code",
   "execution_count": null,
   "id": "f3cb2ae7-7262-4f72-a27e-5dbe021caf02",
   "metadata": {},
   "outputs": [],
   "source": []
  },
  {
   "cell_type": "code",
   "execution_count": null,
   "id": "49ee6c92-f989-4253-b7de-08a50c4e40cb",
   "metadata": {},
   "outputs": [],
   "source": []
  },
  {
   "cell_type": "code",
   "execution_count": null,
   "id": "b5189141-5f07-4aac-a68f-00a24ec5d69d",
   "metadata": {},
   "outputs": [],
   "source": []
  },
  {
   "cell_type": "code",
   "execution_count": null,
   "id": "b3378d43-42ae-4f34-9df2-6e74e58f1822",
   "metadata": {},
   "outputs": [],
   "source": []
  }
 ],
 "metadata": {
  "kernelspec": {
   "display_name": "Python 3 (ipykernel)",
   "language": "python",
   "name": "python3"
  },
  "language_info": {
   "codemirror_mode": {
    "name": "ipython",
    "version": 3
   },
   "file_extension": ".py",
   "mimetype": "text/x-python",
   "name": "python",
   "nbconvert_exporter": "python",
   "pygments_lexer": "ipython3",
   "version": "3.10.14"
  }
 },
 "nbformat": 4,
 "nbformat_minor": 5
}
