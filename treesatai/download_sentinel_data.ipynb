{
 "cells": [
  {
   "cell_type": "markdown",
   "id": "5d54256a-a478-4ed2-90ba-7852da63e979",
   "metadata": {},
   "source": [
    "##### **Download Sentinel-2 data**"
   ]
  },
  {
   "cell_type": "code",
   "execution_count": 1,
   "id": "45a09dcb-b90b-45d7-b5a2-54996a34ada0",
   "metadata": {},
   "outputs": [],
   "source": [
    "from tqdm.notebook import tqdm\n",
    "\n",
    "from multiprocessing import Pool\n",
    "from time import sleep\n",
    "\n",
    "import numpy as np\n",
    "\n",
    "import datetime\n",
    "from pathlib import Path\n",
    "\n",
    "# For the below intake_geopandas is also required\n",
    "# use \"pip install intake_geopandas\" or check github\n",
    "import intake\n",
    "\n",
    "import io\n",
    "\n",
    "import ee"
   ]
  },
  {
   "cell_type": "markdown",
   "id": "9cab9d5b-ed74-4624-9725-887b12ee6ae5",
   "metadata": {},
   "source": [
    "Authentication must be done firsthand. Replace with own project name.\n",
    "\n",
    "For further details on ee, see https://developers.google.com/earth-engine/guides/auth and https://developers.google.com/earth-engine/apidocs/ee-image"
   ]
  },
  {
   "cell_type": "code",
   "execution_count": 2,
   "id": "d35fae04-993f-40bb-964d-6ec19b7d8da6",
   "metadata": {},
   "outputs": [],
   "source": [
    "ee.Authenticate()\n",
    "ee.Initialize(project='sentinel-treeclassification')"
   ]
  },
  {
   "cell_type": "markdown",
   "id": "0553fe17-fa69-49b3-8668-38f305d8126e",
   "metadata": {},
   "source": [
    "Mask clouds in a Sentinel-2 image using the QA band and perform other pre-processing operations such as band selection, date filter, and collection median."
   ]
  },
  {
   "cell_type": "code",
   "execution_count": 3,
   "id": "d4ae79b0-fef2-46f4-9e67-6f12c15c1594",
   "metadata": {},
   "outputs": [],
   "source": [
    "class SentinelGetter:\n",
    "    def mask_s2_clouds(self, image):\n",
    "      # Quality assessment with resolution in meters\n",
    "      qa = image.select('QA60')\n",
    "      # Bits 10 and 11 are clouds and cirrus, respectively.\n",
    "      cloud_bit_mask = 1 << 10\n",
    "      cirrus_bit_mask = 1 << 11\n",
    "      # Both flags should be set to zero, indicating clear conditions.\n",
    "      mask = (\n",
    "          qa.bitwiseAnd(cloud_bit_mask)\n",
    "          .eq(0)\n",
    "          .And(qa.bitwiseAnd(cirrus_bit_mask).eq(0))\n",
    "      )\n",
    "      return image.updateMask(mask)\n",
    "\n",
    "    def get_image(self, bbox, start_date, end_date):\n",
    "        selected_bands = [f'B{x}' for x in range(2, 9)] + ['B8A', 'B11', 'B12', 'TCI_R', 'TCI_G', 'TCI_B']\n",
    "        image = (\n",
    "            ee.ImageCollection('COPERNICUS/S2_SR_HARMONIZED')\n",
    "            .filterDate(start_date, end_date)\n",
    "            # Pre-filter to get less cloudy granules.\n",
    "            .filter(ee.Filter.lt('CLOUDY_PIXEL_PERCENTAGE', 20))\n",
    "            .map(self.mask_s2_clouds)\n",
    "            .select(selected_bands)\n",
    "            .median()\n",
    "            .clip(bbox)\n",
    "        )\n",
    "        return image"
   ]
  },
  {
   "cell_type": "markdown",
   "id": "37164bfc-8e35-46ea-a89c-70ce11d8def4",
   "metadata": {},
   "source": [
    "Read in data and perform some operations. Alternatively, use Geopandas directly."
   ]
  },
  {
   "cell_type": "code",
   "execution_count": 4,
   "id": "17759222-56d5-4a21-ba7d-c508b05ea21c",
   "metadata": {},
   "outputs": [],
   "source": [
    "catalog = intake.open_catalog(Path('../catalog.yml'))\n",
    "source = getattr(catalog, 'treesat')\n",
    "gdf = source.read()[source.metadata['usecols']]\n",
    "# Geopandas does not seem to always recognise the crs.\n",
    "gdf.crs = 25832\n",
    "gdf = gdf.to_crs(epsg=4326)\n",
    "# Add some padding to avoid border polygons being cut off.\n",
    "bbox = ee.Geometry.BBox(*(gdf.geometry.total_bounds + 0.01))"
   ]
  },
  {
   "cell_type": "code",
   "execution_count": 5,
   "id": "9c3776df-044d-45cf-8e31-cab0fc63222f",
   "metadata": {},
   "outputs": [],
   "source": [
    "def download_npy(bbox, start_date, end_date, gdf, sleep_time):\n",
    "    # Sleep time helps with parallel processing,\n",
    "    # if you're brave enough to try it\n",
    "    sleep(sleep_time)\n",
    "\n",
    "    # Cloud masked, band selected, mean image of the bbox area. \n",
    "    sentinel_image = SentinelGetter().get_image(bbox, start_date, end_date)\n",
    "        \n",
    "    # For further options, see\n",
    "    # https://developers.google.com/earth-engine/apidocs/ee-data-computepixels\n",
    "    params = {'fileFormat': 'NPY'}\n",
    "\n",
    "    save_path = Path('seasonal_median').joinpath(f\"treesat_{start_date.strftime('%Y%m')}.npy\")\n",
    "    print(f'Downloading {start_date}')\n",
    "    # Continue from a previous run, else start new.\n",
    "    if save_path.is_file():\n",
    "        with open(save_path, 'rb') as f:\n",
    "            # Convert outer array to list for appending, avoid ndarray.tolist()\n",
    "            # as that converts nested arrays to list as well.\n",
    "            all_data = list(np.load(save_path))\n",
    "    else:\n",
    "        all_data = []\n",
    "\n",
    "    # Continue from previous iteration, or start new.\n",
    "    continue_gdf = gdf.loc[len(all_data):]\n",
    "    \n",
    "    # Progress bar, tracks continuations\n",
    "    for i, row in tqdm(\n",
    "        continue_gdf.iterrows(), total=gdf.shape[0], initial=len(all_data)):\n",
    "        # Not ideal but a lot of connection errors can occur here.\n",
    "        # They are (so far) not program ending, simply retry.\n",
    "        retry = True\n",
    "        while retry:\n",
    "            try:\n",
    "                this_bbox = ee.Geometry.BBox(*row.geometry.bounds)\n",
    "                params['expression'] = sentinel_image.clipToBoundsAndScale(\n",
    "                    this_bbox, width=6, height=6)\n",
    "\n",
    "                # There can be a delay before the URL becomes available,\n",
    "                # in which case the loop simply retries (seems rare so far).\n",
    "                pixels = ee.data.computePixels(params)\n",
    "                data = np.load(io.BytesIO(pixels))\n",
    "\n",
    "                # Numpy ndarray being appended to a list of ndarrays.\n",
    "                # Ensure all_data uses python's list instead of ndarray.tolist().\n",
    "                all_data.append(data)\n",
    "                retry = False\n",
    "\n",
    "            except Exception as e:\n",
    "                # Sleep for 1 second if error, Google claims to be\n",
    "                # fine with 100/s requests.\n",
    "                sleep(sleep_time)\n",
    "                retry = True\n",
    "                \n",
    "        # Save every 1000th run but not the first  \n",
    "        if (i % 1000 == 0) and (i > 0):\n",
    "            # Convert to array first in case of errors,\n",
    "            # as that would erase the file.\n",
    "            save_data = np.array(all_data)\n",
    "            with open(save_path, 'wb') as f:\n",
    "                np.save(f, save_data)\n",
    "\n",
    "    # Save the remainder\n",
    "    save_data = np.array(all_data)\n",
    "    with open(save_path, 'wb') as f:\n",
    "        np.save(f, save_data)\n",
    "                \n",
    "    return np.array(all_data)"
   ]
  },
  {
   "cell_type": "markdown",
   "id": "d0a909b6-094e-42be-bdfb-07e4b5e6fb95",
   "metadata": {},
   "source": [
    "Download samples at roughly 2 images per second in each process. Each month seems to take roughly 5-8 hours."
   ]
  },
  {
   "cell_type": "code",
   "execution_count": null,
   "id": "f698cd1b-62e9-4cc4-8d07-50893e782795",
   "metadata": {},
   "outputs": [
    {
     "name": "stdout",
     "output_type": "stream",
     "text": [
      "Downloading 2017-03-01 00:00:00\n"
     ]
    },
    {
     "data": {
      "application/vnd.jupyter.widget-view+json": {
       "model_id": "2d0fe40bea75489ba0c453f2f7a06df1",
       "version_major": 2,
       "version_minor": 0
      },
      "text/plain": [
       "100%|##########| 50381/50381 [00:00<?, ?it/s]"
      ]
     },
     "metadata": {},
     "output_type": "display_data"
    },
    {
     "name": "stdout",
     "output_type": "stream",
     "text": [
      "Downloading 2017-06-01 00:00:00\n"
     ]
    },
    {
     "data": {
      "application/vnd.jupyter.widget-view+json": {
       "model_id": "cd962b8e8a8d48ce913bbde0c11fce85",
       "version_major": 2,
       "version_minor": 0
      },
      "text/plain": [
       "100%|##########| 50381/50381 [00:00<?, ?it/s]"
      ]
     },
     "metadata": {},
     "output_type": "display_data"
    },
    {
     "name": "stdout",
     "output_type": "stream",
     "text": [
      "Downloading 2017-09-01 00:00:00\n"
     ]
    },
    {
     "data": {
      "application/vnd.jupyter.widget-view+json": {
       "model_id": "290953a787f4451fb8c3f09aaf11c1d2",
       "version_major": 2,
       "version_minor": 0
      },
      "text/plain": [
       "100%|##########| 50381/50381 [00:00<?, ?it/s]"
      ]
     },
     "metadata": {},
     "output_type": "display_data"
    },
    {
     "name": "stdout",
     "output_type": "stream",
     "text": [
      "Downloading 2017-12-01 00:00:00\n"
     ]
    },
    {
     "data": {
      "application/vnd.jupyter.widget-view+json": {
       "model_id": "fd641db95db745e396599ac27d2076ad",
       "version_major": 2,
       "version_minor": 0
      },
      "text/plain": [
       "100%|##########| 50381/50381 [00:00<?, ?it/s]"
      ]
     },
     "metadata": {},
     "output_type": "display_data"
    },
    {
     "name": "stdout",
     "output_type": "stream",
     "text": [
      "Downloading 2018-03-01 00:00:00\n"
     ]
    },
    {
     "data": {
      "application/vnd.jupyter.widget-view+json": {
       "model_id": "02c5cd6500a54e06bd1386d97441a045",
       "version_major": 2,
       "version_minor": 0
      },
      "text/plain": [
       "100%|##########| 50381/50381 [00:00<?, ?it/s]"
      ]
     },
     "metadata": {},
     "output_type": "display_data"
    },
    {
     "name": "stdout",
     "output_type": "stream",
     "text": [
      "Downloading 2018-06-01 00:00:00\n"
     ]
    },
    {
     "data": {
      "application/vnd.jupyter.widget-view+json": {
       "model_id": "bcb3628ac4234bc394894cff99d0936c",
       "version_major": 2,
       "version_minor": 0
      },
      "text/plain": [
       "100%|##########| 50381/50381 [00:00<?, ?it/s]"
      ]
     },
     "metadata": {},
     "output_type": "display_data"
    },
    {
     "name": "stdout",
     "output_type": "stream",
     "text": [
      "Downloading 2018-09-01 00:00:00\n"
     ]
    },
    {
     "data": {
      "application/vnd.jupyter.widget-view+json": {
       "model_id": "51dcc441d5d54da6906ac43e689cb912",
       "version_major": 2,
       "version_minor": 0
      },
      "text/plain": [
       "100%|##########| 50381/50381 [00:00<?, ?it/s]"
      ]
     },
     "metadata": {},
     "output_type": "display_data"
    },
    {
     "name": "stdout",
     "output_type": "stream",
     "text": [
      "Downloading 2018-12-01 00:00:00\n"
     ]
    },
    {
     "data": {
      "application/vnd.jupyter.widget-view+json": {
       "model_id": "424a0c9dbef5481ca1a8b2123235b31e",
       "version_major": 2,
       "version_minor": 0
      },
      "text/plain": [
       "100%|##########| 50381/50381 [00:00<?, ?it/s]"
      ]
     },
     "metadata": {},
     "output_type": "display_data"
    },
    {
     "name": "stdout",
     "output_type": "stream",
     "text": [
      "Downloading 2019-03-01 00:00:00\n"
     ]
    },
    {
     "data": {
      "application/vnd.jupyter.widget-view+json": {
       "model_id": "4f13e4ec7a63485c9f3bce9d60b82479",
       "version_major": 2,
       "version_minor": 0
      },
      "text/plain": [
       "100%|##########| 50381/50381 [00:00<?, ?it/s]"
      ]
     },
     "metadata": {},
     "output_type": "display_data"
    },
    {
     "name": "stdout",
     "output_type": "stream",
     "text": [
      "Downloading 2019-06-01 00:00:00\n"
     ]
    },
    {
     "data": {
      "application/vnd.jupyter.widget-view+json": {
       "model_id": "e85390e15e8840d781dbe1583795451a",
       "version_major": 2,
       "version_minor": 0
      },
      "text/plain": [
       "100%|##########| 50381/50381 [00:00<?, ?it/s]"
      ]
     },
     "metadata": {},
     "output_type": "display_data"
    },
    {
     "name": "stdout",
     "output_type": "stream",
     "text": [
      "Downloading 2019-09-01 00:00:00\n"
     ]
    },
    {
     "data": {
      "application/vnd.jupyter.widget-view+json": {
       "model_id": "91ca50d91cad479e83cdb79968c89cfd",
       "version_major": 2,
       "version_minor": 0
      },
      "text/plain": [
       "100%|##########| 50381/50381 [00:00<?, ?it/s]"
      ]
     },
     "metadata": {},
     "output_type": "display_data"
    },
    {
     "name": "stdout",
     "output_type": "stream",
     "text": [
      "Downloading 2019-12-01 00:00:00\n"
     ]
    },
    {
     "data": {
      "application/vnd.jupyter.widget-view+json": {
       "model_id": "e249e96a75e34c569d44ea44f5239c51",
       "version_major": 2,
       "version_minor": 0
      },
      "text/plain": [
       "100%|##########| 50381/50381 [00:00<?, ?it/s]"
      ]
     },
     "metadata": {},
     "output_type": "display_data"
    },
    {
     "name": "stdout",
     "output_type": "stream",
     "text": [
      "Downloading 2020-03-01 00:00:00\n"
     ]
    },
    {
     "data": {
      "application/vnd.jupyter.widget-view+json": {
       "model_id": "f1df1ef5c9a94fb185930cbce3bea264",
       "version_major": 2,
       "version_minor": 0
      },
      "text/plain": [
       "100%|##########| 50381/50381 [00:00<?, ?it/s]"
      ]
     },
     "metadata": {},
     "output_type": "display_data"
    },
    {
     "name": "stdout",
     "output_type": "stream",
     "text": [
      "Downloading 2020-06-01 00:00:00\n"
     ]
    },
    {
     "data": {
      "application/vnd.jupyter.widget-view+json": {
       "model_id": "20f1e5cbafb544819b235f1096e8af9d",
       "version_major": 2,
       "version_minor": 0
      },
      "text/plain": [
       "100%|##########| 50381/50381 [00:00<?, ?it/s]"
      ]
     },
     "metadata": {},
     "output_type": "display_data"
    },
    {
     "name": "stdout",
     "output_type": "stream",
     "text": [
      "Downloading 2020-09-01 00:00:00\n"
     ]
    },
    {
     "data": {
      "application/vnd.jupyter.widget-view+json": {
       "model_id": "5603eb5a72344e0d8a11ec2d3f6a8ffe",
       "version_major": 2,
       "version_minor": 0
      },
      "text/plain": [
       "100%|##########| 50381/50381 [00:00<?, ?it/s]"
      ]
     },
     "metadata": {},
     "output_type": "display_data"
    },
    {
     "name": "stdout",
     "output_type": "stream",
     "text": [
      "Downloading 2020-12-01 00:00:00\n"
     ]
    },
    {
     "data": {
      "application/vnd.jupyter.widget-view+json": {
       "model_id": "fb914311c4024415b01134849bf45fca",
       "version_major": 2,
       "version_minor": 0
      },
      "text/plain": [
       "100%|##########| 50381/50381 [00:00<?, ?it/s]"
      ]
     },
     "metadata": {},
     "output_type": "display_data"
    },
    {
     "name": "stdout",
     "output_type": "stream",
     "text": [
      "Downloading 2021-03-01 00:00:00\n"
     ]
    },
    {
     "data": {
      "application/vnd.jupyter.widget-view+json": {
       "model_id": "cb52e10144d04eaf8c3966f14cf3e4f9",
       "version_major": 2,
       "version_minor": 0
      },
      "text/plain": [
       "100%|##########| 50381/50381 [00:00<?, ?it/s]"
      ]
     },
     "metadata": {},
     "output_type": "display_data"
    },
    {
     "name": "stdout",
     "output_type": "stream",
     "text": [
      "Downloading 2021-06-01 00:00:00\n"
     ]
    },
    {
     "data": {
      "application/vnd.jupyter.widget-view+json": {
       "model_id": "20ef26d57a7a4d858034b758d01b2112",
       "version_major": 2,
       "version_minor": 0
      },
      "text/plain": [
       "100%|##########| 50381/50381 [00:00<?, ?it/s]"
      ]
     },
     "metadata": {},
     "output_type": "display_data"
    },
    {
     "name": "stdout",
     "output_type": "stream",
     "text": [
      "Downloading 2021-09-01 00:00:00\n"
     ]
    },
    {
     "data": {
      "application/vnd.jupyter.widget-view+json": {
       "model_id": "6d2380ed51344845917814a2376c5eb1",
       "version_major": 2,
       "version_minor": 0
      },
      "text/plain": [
       "100%|##########| 50381/50381 [00:00<?, ?it/s]"
      ]
     },
     "metadata": {},
     "output_type": "display_data"
    },
    {
     "name": "stdout",
     "output_type": "stream",
     "text": [
      "Downloading 2021-12-01 00:00:00\n"
     ]
    },
    {
     "data": {
      "application/vnd.jupyter.widget-view+json": {
       "model_id": "f0d771ec1b4e45d1a8efc695643831de",
       "version_major": 2,
       "version_minor": 0
      },
      "text/plain": [
       "100%|##########| 50381/50381 [00:00<?, ?it/s]"
      ]
     },
     "metadata": {},
     "output_type": "display_data"
    },
    {
     "name": "stdout",
     "output_type": "stream",
     "text": [
      "Downloading 2022-03-01 00:00:00\n"
     ]
    },
    {
     "data": {
      "application/vnd.jupyter.widget-view+json": {
       "model_id": "2171e341b5864a459838f885ad78e5ab",
       "version_major": 2,
       "version_minor": 0
      },
      "text/plain": [
       "100%|##########| 50381/50381 [00:00<?, ?it/s]"
      ]
     },
     "metadata": {},
     "output_type": "display_data"
    },
    {
     "name": "stdout",
     "output_type": "stream",
     "text": [
      "Downloading 2022-06-01 00:00:00\n"
     ]
    },
    {
     "data": {
      "application/vnd.jupyter.widget-view+json": {
       "model_id": "44b70c8934334ede8bcff29e7330425f",
       "version_major": 2,
       "version_minor": 0
      },
      "text/plain": [
       "100%|##########| 50381/50381 [00:00<?, ?it/s]"
      ]
     },
     "metadata": {},
     "output_type": "display_data"
    },
    {
     "name": "stdout",
     "output_type": "stream",
     "text": [
      "Downloading 2022-09-01 00:00:00\n"
     ]
    },
    {
     "data": {
      "application/vnd.jupyter.widget-view+json": {
       "model_id": "8d0c798828cc443b81946bac03a1a8cb",
       "version_major": 2,
       "version_minor": 0
      },
      "text/plain": [
       "100%|##########| 50381/50381 [00:00<?, ?it/s]"
      ]
     },
     "metadata": {},
     "output_type": "display_data"
    },
    {
     "name": "stdout",
     "output_type": "stream",
     "text": [
      "Downloading 2022-12-01 00:00:00\n"
     ]
    },
    {
     "data": {
      "application/vnd.jupyter.widget-view+json": {
       "model_id": "59b2a4e614b54be0b2088f3880ba1dea",
       "version_major": 2,
       "version_minor": 0
      },
      "text/plain": [
       "100%|##########| 50381/50381 [00:00<?, ?it/s]"
      ]
     },
     "metadata": {},
     "output_type": "display_data"
    },
    {
     "name": "stdout",
     "output_type": "stream",
     "text": [
      "Downloading 2023-03-01 00:00:00\n"
     ]
    },
    {
     "data": {
      "application/vnd.jupyter.widget-view+json": {
       "model_id": "42ff9f01c6ba4eb7acdd90ec785bbfbd",
       "version_major": 2,
       "version_minor": 0
      },
      "text/plain": [
       "100%|##########| 50381/50381 [00:00<?, ?it/s]"
      ]
     },
     "metadata": {},
     "output_type": "display_data"
    },
    {
     "name": "stdout",
     "output_type": "stream",
     "text": [
      "Downloading 2023-06-01 00:00:00\n"
     ]
    },
    {
     "data": {
      "application/vnd.jupyter.widget-view+json": {
       "model_id": "c7671620cb32415cb9b86ce11183b059",
       "version_major": 2,
       "version_minor": 0
      },
      "text/plain": [
       "100%|##########| 50381/50381 [00:00<?, ?it/s]"
      ]
     },
     "metadata": {},
     "output_type": "display_data"
    },
    {
     "name": "stdout",
     "output_type": "stream",
     "text": [
      "Downloading 2023-09-01 00:00:00\n"
     ]
    },
    {
     "data": {
      "application/vnd.jupyter.widget-view+json": {
       "model_id": "94ca90ebf8bb40449f3224822a7ab202",
       "version_major": 2,
       "version_minor": 0
      },
      "text/plain": [
       "100%|##########| 50381/50381 [00:00<?, ?it/s]"
      ]
     },
     "metadata": {},
     "output_type": "display_data"
    },
    {
     "name": "stdout",
     "output_type": "stream",
     "text": [
      "Downloading 2023-12-01 00:00:00\n"
     ]
    },
    {
     "data": {
      "application/vnd.jupyter.widget-view+json": {
       "model_id": "ac1b7ab365c545faa98fcdc571ea4e5e",
       "version_major": 2,
       "version_minor": 0
      },
      "text/plain": [
       "100%|##########| 50381/50381 [00:00<?, ?it/s]"
      ]
     },
     "metadata": {},
     "output_type": "display_data"
    },
    {
     "name": "stdout",
     "output_type": "stream",
     "text": [
      "Downloading 2024-03-01 00:00:00\n"
     ]
    },
    {
     "data": {
      "application/vnd.jupyter.widget-view+json": {
       "model_id": "b2649b099fe44974b04d58466031d0f5",
       "version_major": 2,
       "version_minor": 0
      },
      "text/plain": [
       "  0%|          | 0/50381 [00:00<?, ?it/s]"
      ]
     },
     "metadata": {},
     "output_type": "display_data"
    }
   ],
   "source": [
    "map_inputs = []\n",
    "start_date = datetime.datetime(2017, 3, 1)\n",
    "\n",
    "i = 0\n",
    "while start_date < datetime.datetime(2024, 4, 1):\n",
    "    end_month = (start_date.month + 3)%12 or 12\n",
    "    end_date = start_date.replace(\n",
    "        month=end_month, \n",
    "        year=start_date.year + (start_date.month + 3)//13)\n",
    "    \n",
    "    map_inputs.append((bbox, start_date, end_date, gdf, i))\n",
    "\n",
    "    start_date = end_date\n",
    "    i += 2\n",
    "\n",
    "pool = Pool(processes=10)\n",
    "pool.starmap(download_npy, map_inputs)\n",
    "pool.close()\n",
    "pool.join()"
   ]
  },
  {
   "cell_type": "code",
   "execution_count": null,
   "id": "33929f27-524e-41a0-a058-2f47233f28f1",
   "metadata": {},
   "outputs": [],
   "source": [
    "# Optional shut down pc once downloads complete.\n",
    "# Tested on Windows Subsystem for Linux.\n",
    "import subprocess\n",
    "subprocess.run([\"shutdown.exe\", \"/s\"])\n",
    "# subprocess.run([\"shutdown.exe\", \"/a\"])"
   ]
  },
  {
   "cell_type": "code",
   "execution_count": null,
   "id": "b3378d43-42ae-4f34-9df2-6e74e58f1822",
   "metadata": {},
   "outputs": [],
   "source": []
  },
  {
   "cell_type": "code",
   "execution_count": null,
   "id": "ce505fe0-3ea0-4d43-abc8-13a1260ea159",
   "metadata": {},
   "outputs": [],
   "source": []
  },
  {
   "cell_type": "code",
   "execution_count": null,
   "id": "f1f9b95b-6ea3-4aa2-af93-452920d24de4",
   "metadata": {},
   "outputs": [],
   "source": []
  },
  {
   "cell_type": "code",
   "execution_count": null,
   "id": "6a325458-573e-49dc-b47a-1b49e284e992",
   "metadata": {},
   "outputs": [],
   "source": []
  },
  {
   "cell_type": "code",
   "execution_count": null,
   "id": "0d84a456-92de-46d7-bb04-7ece3f122cfd",
   "metadata": {},
   "outputs": [],
   "source": []
  }
 ],
 "metadata": {
  "kernelspec": {
   "display_name": "Python 3 (ipykernel)",
   "language": "python",
   "name": "python3"
  },
  "language_info": {
   "codemirror_mode": {
    "name": "ipython",
    "version": 3
   },
   "file_extension": ".py",
   "mimetype": "text/x-python",
   "name": "python",
   "nbconvert_exporter": "python",
   "pygments_lexer": "ipython3",
   "version": "3.10.14"
  }
 },
 "nbformat": 4,
 "nbformat_minor": 5
}
