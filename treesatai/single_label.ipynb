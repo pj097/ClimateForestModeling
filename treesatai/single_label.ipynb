{
 "cells": [
  {
   "cell_type": "code",
   "execution_count": 1,
   "id": "45a09dcb-b90b-45d7-b5a2-54996a34ada0",
   "metadata": {},
   "outputs": [
    {
     "name": "stderr",
     "output_type": "stream",
     "text": [
      "2024-05-18 14:01:06.986255: I tensorflow/core/platform/cpu_feature_guard.cc:210] This TensorFlow binary is optimized to use available CPU instructions in performance-critical operations.\n",
      "To enable the following instructions: AVX2 FMA, in other operations, rebuild TensorFlow with the appropriate compiler flags.\n",
      "2024-05-18 14:01:07.870786: W tensorflow/compiler/tf2tensorrt/utils/py_utils.cc:38] TF-TRT Warning: Could not find TensorRT\n"
     ]
    }
   ],
   "source": [
    "from tqdm.notebook import tqdm\n",
    "from IPython.display import display, HTML\n",
    "\n",
    "import numpy as np\n",
    "import pandas as pd\n",
    "\n",
    "import plotly.graph_objects as go\n",
    "\n",
    "import datetime\n",
    "from pathlib import Path\n",
    "\n",
    "import intake\n",
    "\n",
    "from sklearn.model_selection import train_test_split\n",
    "from sklearn.metrics import classification_report\n",
    "\n",
    "from tensorflow.keras.regularizers import l2\n",
    "import tensorflow as tf\n",
    "from tensorflow.keras import backend as K\n",
    "\n",
    "from tensorflow.keras.layers import ConvLSTM2D, Conv2D, Conv3D, Dense, TimeDistributed, MaxPooling2D, GlobalAveragePooling2D \n",
    "from tensorflow.keras.layers import Activation, Dropout, Flatten, BatchNormalization, Input, LSTM"
   ]
  },
  {
   "cell_type": "code",
   "execution_count": 2,
   "id": "17759222-56d5-4a21-ba7d-c508b05ea21c",
   "metadata": {},
   "outputs": [],
   "source": [
    "catalog = intake.open_catalog(Path('../catalog.yml'))\n",
    "source = getattr(catalog, 'treesat_multi')\n",
    "df = source.read()"
   ]
  },
  {
   "cell_type": "code",
   "execution_count": 3,
   "id": "0749fbd3-b6ee-443c-b12c-741c2ee1f1bb",
   "metadata": {},
   "outputs": [],
   "source": [
    "selected_bands = [f'B{x}' for x in range(2, 9)] + ['B8A', 'B11', 'B12', 'TCI_R', 'TCI_G', 'TCI_B']"
   ]
  },
  {
   "cell_type": "code",
   "execution_count": 4,
   "id": "d5926fbe-15c2-4fa6-8977-99eafdcb5ca3",
   "metadata": {},
   "outputs": [],
   "source": [
    "target = source.metadata['categories']['multi'] # multi / trinary\n",
    "labels = df[target].to_numpy()\n",
    "majority_labels = (labels==labels.max(axis=1, keepdims=True)).astype(float)"
   ]
  },
  {
   "cell_type": "code",
   "execution_count": 5,
   "id": "09bf071f-f559-41d1-b75f-06b72ce9f330",
   "metadata": {},
   "outputs": [],
   "source": [
    "model_dir = Path('models').joinpath('seasons')\n",
    "model_dir.mkdir(parents=True, exist_ok=True)\n",
    "\n",
    "data_dir = Path('seasonal_median')\n",
    "\n",
    "test_year = 2019\n",
    "test_seasons = [6]\n",
    "\n",
    "train_years = [2017, 2018, 2020]\n",
    "all_seasons = [3, 6, 9, 12]"
   ]
  },
  {
   "cell_type": "code",
   "execution_count": 6,
   "id": "7a5fb97e-b021-4620-9b31-468323822101",
   "metadata": {},
   "outputs": [],
   "source": [
    "class KerasModelCreator:\n",
    "    def normalise_X(self, X, p=1):\n",
    "        upper = np.percentile(X, 100-p)\n",
    "        lower = np.percentile(X, p)\n",
    "    \n",
    "        bounded_X = np.where(X > upper, np.median(X), X)\n",
    "        bounded_X = np.where(X < lower, np.median(X), bounded_X)\n",
    "        \n",
    "        scaled_X = (bounded_X - lower)/(upper - lower)\n",
    "        return scaled_X\n",
    "        \n",
    "    def split_and_normalise(self, y, X, random_state=42, test_size=0.1):\n",
    "        \"\"\"Split and max scale.\"\"\"\n",
    "        X_train, X_test, y_train, y_test = train_test_split(\n",
    "            X, y, test_size=test_size, random_state=random_state, shuffle=True)\n",
    "\n",
    "        for i in range(X_train.shape[-1]):\n",
    "            X_train[...,i] = self.normalise_X(X_train[...,i])\n",
    "            X_test[...,i] = self.normalise_X(X_test[...,i])\n",
    "        \n",
    "        return X_train, X_test, y_train, y_test\n",
    "\n",
    "    def build_model(self, y_train, input_shape, metrics):\n",
    "        filter_base= 32\n",
    "        dropout_base = 0.5\n",
    "        \n",
    "        m = tf.keras.Sequential()\n",
    "\n",
    "        m.add(Input(input_shape[1:]))\n",
    "        for kernel_size in [5]:\n",
    "            m.add(Conv2D(\n",
    "                filters=filter_base, kernel_size=kernel_size, \n",
    "                padding='same', activation='relu'\n",
    "            ))\n",
    "            m.add(BatchNormalization())\n",
    "            m.add(Dropout(dropout_base))\n",
    "        \n",
    "        m.add(Flatten())\n",
    "\n",
    "        # for filter_scale in [4, 2, 1]:\n",
    "        #     m.add(Dense(filter_scale*filter_base, activation='relu'))\n",
    "        \n",
    "        m.add(Dense(\n",
    "            y_train.shape[1], \n",
    "            activation='softmax', \n",
    "        ))\n",
    "\n",
    "        loss = tf.keras.losses.CategoricalCrossentropy()\n",
    "        opt = tf.keras.optimizers.Adam(learning_rate=0.001)\n",
    "        m.compile(\n",
    "            optimizer=opt,\n",
    "            loss=loss,\n",
    "            metrics=metrics\n",
    "        )\n",
    "        return m\n",
    "\n",
    "        \n",
    "    def run(self, y, X, model_path, epochs=10, overwrite=False):\n",
    "        ''' \n",
    "        If not overwrite and there's an existing model, the model will \n",
    "        continue training if the given epoch is bigger than the previous,\n",
    "        else just evaluate.\n",
    "        Ensure train splits are the same across continuations / evaluations\n",
    "        by not modifying the random_state in split_and_normalise.\n",
    "        '''\n",
    "        model_savepoint = model_path.parent.joinpath(model_path.stem)\n",
    "        log_file = model_path.with_suffix('.log')\n",
    "\n",
    "        if overwrite:\n",
    "            for f in [model_path, log_file] + list(model_savepoint.glob('*')):\n",
    "                f.unlink(missing_ok=True)\n",
    "\n",
    "        X_train, X_test, y_train, y_test = self.split_and_normalise(y, X, random_state=42)\n",
    "\n",
    "        f1_score = tf.keras.metrics.F1Score(average='weighted')\n",
    "\n",
    "        default_metrics = ['accuracy']\n",
    "        \n",
    "        \n",
    "        if model_path.is_file():\n",
    "            model = tf.keras.models.load_model(model_path)\n",
    "        else:\n",
    "            model = self.build_model(y_train, X_train.shape, default_metrics + [f1_score])\n",
    "\n",
    "        callbacks = [\n",
    "            tf.keras.callbacks.BackupAndRestore(\n",
    "                model_savepoint, save_freq='epoch', delete_checkpoint=False\n",
    "            ),\n",
    "            tf.keras.callbacks.CSVLogger(\n",
    "                log_file, append=True\n",
    "            )\n",
    "        ]\n",
    "\n",
    "        if log_file.is_file():\n",
    "            df = pd.read_csv(log_file)[['epoch', 'loss'] + default_metrics + ['f1_score']]\n",
    "            df['epoch'] += 1\n",
    "            print('Previous training:')\n",
    "            display(HTML(df.to_html(index=False)))\n",
    "        \n",
    "        model.fit(\n",
    "            X_train, y_train, epochs=epochs, verbose=1, batch_size=10, callbacks=callbacks, \n",
    "            shuffle=True, validation_data=(X_test, y_test)\n",
    "        )\n",
    "\n",
    "        model.save(model_path)\n",
    "        \n",
    "        return model"
   ]
  },
  {
   "cell_type": "code",
   "execution_count": 7,
   "id": "ace0a102-03f4-4825-8a3e-43dae2a2c169",
   "metadata": {},
   "outputs": [
    {
     "name": "stdout",
     "output_type": "stream",
     "text": [
      "Previous training:\n"
     ]
    },
    {
     "data": {
      "text/html": [
       "<table border=\"1\" class=\"dataframe\">\n",
       "  <thead>\n",
       "    <tr style=\"text-align: right;\">\n",
       "      <th>epoch</th>\n",
       "      <th>loss</th>\n",
       "      <th>accuracy</th>\n",
       "      <th>f1_score</th>\n",
       "    </tr>\n",
       "  </thead>\n",
       "  <tbody>\n",
       "    <tr>\n",
       "      <td>1</td>\n",
       "      <td>1.793797</td>\n",
       "      <td>0.460052</td>\n",
       "      <td>0.388678</td>\n",
       "    </tr>\n",
       "    <tr>\n",
       "      <td>2</td>\n",
       "      <td>1.687524</td>\n",
       "      <td>0.496214</td>\n",
       "      <td>0.428283</td>\n",
       "    </tr>\n",
       "    <tr>\n",
       "      <td>3</td>\n",
       "      <td>1.651200</td>\n",
       "      <td>0.509255</td>\n",
       "      <td>0.445335</td>\n",
       "    </tr>\n",
       "    <tr>\n",
       "      <td>4</td>\n",
       "      <td>1.628721</td>\n",
       "      <td>0.517776</td>\n",
       "      <td>0.456478</td>\n",
       "    </tr>\n",
       "    <tr>\n",
       "      <td>5</td>\n",
       "      <td>1.611693</td>\n",
       "      <td>0.523488</td>\n",
       "      <td>0.464697</td>\n",
       "    </tr>\n",
       "    <tr>\n",
       "      <td>6</td>\n",
       "      <td>1.602540</td>\n",
       "      <td>0.527259</td>\n",
       "      <td>0.469014</td>\n",
       "    </tr>\n",
       "    <tr>\n",
       "      <td>7</td>\n",
       "      <td>1.594274</td>\n",
       "      <td>0.530207</td>\n",
       "      <td>0.472991</td>\n",
       "    </tr>\n",
       "    <tr>\n",
       "      <td>8</td>\n",
       "      <td>1.587920</td>\n",
       "      <td>0.532412</td>\n",
       "      <td>0.475581</td>\n",
       "    </tr>\n",
       "    <tr>\n",
       "      <td>9</td>\n",
       "      <td>1.583843</td>\n",
       "      <td>0.534868</td>\n",
       "      <td>0.478575</td>\n",
       "    </tr>\n",
       "    <tr>\n",
       "      <td>10</td>\n",
       "      <td>1.580326</td>\n",
       "      <td>0.535007</td>\n",
       "      <td>0.479534</td>\n",
       "    </tr>\n",
       "  </tbody>\n",
       "</table>"
      ],
      "text/plain": [
       "<IPython.core.display.HTML object>"
      ]
     },
     "metadata": {},
     "output_type": "display_data"
    }
   ],
   "source": [
    "for season in test_seasons:\n",
    "    selected_data = []\n",
    "    for year in train_years:\n",
    "        file_key = f'processed_treesat_{year}{str(season).zfill(2)}.npy'\n",
    "        filepath = data_dir.joinpath(file_key)\n",
    "        with open(filepath, 'rb') as f:\n",
    "            data = np.load(f)\n",
    "        selected_data.append(data)\n",
    "        \n",
    "    features = np.concatenate(selected_data, axis=0)\n",
    "    \n",
    "    matching_labels = np.vstack([labels]*len(train_years))\n",
    "    \n",
    "    model_name = f'conv_seasons_{\"_\".join(map(str, test_seasons))}_years_{\"_\".join(map(str, train_years))}.keras'\n",
    "    model_path = model_dir.joinpath(model_name)\n",
    "    \n",
    "    KerasModelCreator().run(\n",
    "        matching_labels, features, model_path, epochs=10, overwrite=False)"
   ]
  },
  {
   "cell_type": "code",
   "execution_count": 8,
   "id": "405b74d7-5f3a-43ba-bf6f-61cb4c608694",
   "metadata": {},
   "outputs": [],
   "source": [
    "test_results = []\n",
    "for season in test_seasons:\n",
    "    file_key = f'processed_treesat_{test_year}{str(season).zfill(2)}.npy'\n",
    "    filepath = data_dir.joinpath(file_key)\n",
    "    with open(filepath, 'rb') as f:\n",
    "        test_features = np.load(f)\n",
    "    \n",
    "    for i in range(test_features.shape[-1]):\n",
    "        test_features[...,i] = KerasModelCreator().normalise_X(test_features[...,i])\n",
    "\n",
    "    model_name = f'conv_seasons_{\"_\".join(map(str, test_seasons))}_years_{\"_\".join(map(str, train_years))}.keras'\n",
    "    model_path = model_dir.joinpath(model_name)\n",
    "    model = tf.keras.models.load_model(model_path)\n",
    "    result = model.evaluate(test_features, majority_labels, verbose=0, return_dict=True)\n",
    "    test_results.append(result)"
   ]
  },
  {
   "cell_type": "code",
   "execution_count": 9,
   "id": "ab0f8aaa-cc12-44e2-a887-9d8af6b5fef6",
   "metadata": {},
   "outputs": [
    {
     "data": {
      "text/plain": [
       "[{'accuracy': 0.44236913323402405,\n",
       "  'f1_score': 0.418423056602478,\n",
       "  'loss': 1.8832262754440308}]"
      ]
     },
     "execution_count": 9,
     "metadata": {},
     "output_type": "execute_result"
    }
   ],
   "source": [
    "test_results"
   ]
  },
  {
   "cell_type": "code",
   "execution_count": null,
   "id": "82157b0b-aa81-48ee-a15a-6a533370c3f8",
   "metadata": {},
   "outputs": [],
   "source": []
  },
  {
   "cell_type": "code",
   "execution_count": null,
   "id": "1156bde7-a279-465b-9c62-a9c34ae0f829",
   "metadata": {},
   "outputs": [],
   "source": []
  },
  {
   "cell_type": "code",
   "execution_count": null,
   "id": "2f4a1dee-1b34-4cbd-8037-37702377a9be",
   "metadata": {},
   "outputs": [],
   "source": []
  },
  {
   "cell_type": "code",
   "execution_count": null,
   "id": "c1a88adb-eca0-44ba-9b83-49adb7994137",
   "metadata": {},
   "outputs": [],
   "source": []
  },
  {
   "cell_type": "code",
   "execution_count": null,
   "id": "b2dfa99c-b32b-4bb5-8994-2b54acbe439f",
   "metadata": {},
   "outputs": [],
   "source": []
  },
  {
   "cell_type": "code",
   "execution_count": null,
   "id": "49ee6c92-f989-4253-b7de-08a50c4e40cb",
   "metadata": {},
   "outputs": [],
   "source": []
  },
  {
   "cell_type": "code",
   "execution_count": null,
   "id": "b5189141-5f07-4aac-a68f-00a24ec5d69d",
   "metadata": {},
   "outputs": [],
   "source": []
  },
  {
   "cell_type": "code",
   "execution_count": null,
   "id": "b3378d43-42ae-4f34-9df2-6e74e58f1822",
   "metadata": {},
   "outputs": [],
   "source": []
  }
 ],
 "metadata": {
  "kernelspec": {
   "display_name": "Python 3 (ipykernel)",
   "language": "python",
   "name": "python3"
  },
  "language_info": {
   "codemirror_mode": {
    "name": "ipython",
    "version": 3
   },
   "file_extension": ".py",
   "mimetype": "text/x-python",
   "name": "python",
   "nbconvert_exporter": "python",
   "pygments_lexer": "ipython3",
   "version": "3.10.14"
  }
 },
 "nbformat": 4,
 "nbformat_minor": 5
}
