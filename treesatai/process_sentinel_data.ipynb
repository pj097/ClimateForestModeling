{
 "cells": [
  {
   "cell_type": "code",
   "execution_count": 16,
   "id": "45a09dcb-b90b-45d7-b5a2-54996a34ada0",
   "metadata": {},
   "outputs": [
    {
     "name": "stderr",
     "output_type": "stream",
     "text": [
      "C:\\Users\\smart\\anaconda3\\envs\\keras\\lib\\site-packages\\tensorflow\\python\\framework\\dtypes.py:516: FutureWarning: Passing (type, 1) or '1type' as a synonym of type is deprecated; in a future version of numpy, it will be understood as (type, (1,)) / '(1,)type'.\n",
      "  _np_qint8 = np.dtype([(\"qint8\", np.int8, 1)])\n",
      "C:\\Users\\smart\\anaconda3\\envs\\keras\\lib\\site-packages\\tensorflow\\python\\framework\\dtypes.py:517: FutureWarning: Passing (type, 1) or '1type' as a synonym of type is deprecated; in a future version of numpy, it will be understood as (type, (1,)) / '(1,)type'.\n",
      "  _np_quint8 = np.dtype([(\"quint8\", np.uint8, 1)])\n",
      "C:\\Users\\smart\\anaconda3\\envs\\keras\\lib\\site-packages\\tensorflow\\python\\framework\\dtypes.py:518: FutureWarning: Passing (type, 1) or '1type' as a synonym of type is deprecated; in a future version of numpy, it will be understood as (type, (1,)) / '(1,)type'.\n",
      "  _np_qint16 = np.dtype([(\"qint16\", np.int16, 1)])\n",
      "C:\\Users\\smart\\anaconda3\\envs\\keras\\lib\\site-packages\\tensorflow\\python\\framework\\dtypes.py:519: FutureWarning: Passing (type, 1) or '1type' as a synonym of type is deprecated; in a future version of numpy, it will be understood as (type, (1,)) / '(1,)type'.\n",
      "  _np_quint16 = np.dtype([(\"quint16\", np.uint16, 1)])\n",
      "C:\\Users\\smart\\anaconda3\\envs\\keras\\lib\\site-packages\\tensorflow\\python\\framework\\dtypes.py:520: FutureWarning: Passing (type, 1) or '1type' as a synonym of type is deprecated; in a future version of numpy, it will be understood as (type, (1,)) / '(1,)type'.\n",
      "  _np_qint32 = np.dtype([(\"qint32\", np.int32, 1)])\n",
      "C:\\Users\\smart\\anaconda3\\envs\\keras\\lib\\site-packages\\tensorflow\\python\\framework\\dtypes.py:525: FutureWarning: Passing (type, 1) or '1type' as a synonym of type is deprecated; in a future version of numpy, it will be understood as (type, (1,)) / '(1,)type'.\n",
      "  np_resource = np.dtype([(\"resource\", np.ubyte, 1)])\n",
      "C:\\Users\\smart\\anaconda3\\envs\\keras\\lib\\site-packages\\tensorboard\\compat\\tensorflow_stub\\dtypes.py:541: FutureWarning: Passing (type, 1) or '1type' as a synonym of type is deprecated; in a future version of numpy, it will be understood as (type, (1,)) / '(1,)type'.\n",
      "  _np_qint8 = np.dtype([(\"qint8\", np.int8, 1)])\n",
      "C:\\Users\\smart\\anaconda3\\envs\\keras\\lib\\site-packages\\tensorboard\\compat\\tensorflow_stub\\dtypes.py:542: FutureWarning: Passing (type, 1) or '1type' as a synonym of type is deprecated; in a future version of numpy, it will be understood as (type, (1,)) / '(1,)type'.\n",
      "  _np_quint8 = np.dtype([(\"quint8\", np.uint8, 1)])\n",
      "C:\\Users\\smart\\anaconda3\\envs\\keras\\lib\\site-packages\\tensorboard\\compat\\tensorflow_stub\\dtypes.py:543: FutureWarning: Passing (type, 1) or '1type' as a synonym of type is deprecated; in a future version of numpy, it will be understood as (type, (1,)) / '(1,)type'.\n",
      "  _np_qint16 = np.dtype([(\"qint16\", np.int16, 1)])\n",
      "C:\\Users\\smart\\anaconda3\\envs\\keras\\lib\\site-packages\\tensorboard\\compat\\tensorflow_stub\\dtypes.py:544: FutureWarning: Passing (type, 1) or '1type' as a synonym of type is deprecated; in a future version of numpy, it will be understood as (type, (1,)) / '(1,)type'.\n",
      "  _np_quint16 = np.dtype([(\"quint16\", np.uint16, 1)])\n",
      "C:\\Users\\smart\\anaconda3\\envs\\keras\\lib\\site-packages\\tensorboard\\compat\\tensorflow_stub\\dtypes.py:545: FutureWarning: Passing (type, 1) or '1type' as a synonym of type is deprecated; in a future version of numpy, it will be understood as (type, (1,)) / '(1,)type'.\n",
      "  _np_qint32 = np.dtype([(\"qint32\", np.int32, 1)])\n",
      "C:\\Users\\smart\\anaconda3\\envs\\keras\\lib\\site-packages\\tensorboard\\compat\\tensorflow_stub\\dtypes.py:550: FutureWarning: Passing (type, 1) or '1type' as a synonym of type is deprecated; in a future version of numpy, it will be understood as (type, (1,)) / '(1,)type'.\n",
      "  np_resource = np.dtype([(\"resource\", np.ubyte, 1)])\n"
     ]
    }
   ],
   "source": [
    "from IPython.display import display\n",
    "from tqdm.notebook import tqdm\n",
    "\n",
    "import numpy as np\n",
    "import pandas as pd\n",
    "\n",
    "import datetime\n",
    "from pathlib import Path\n",
    "\n",
    "import intake\n",
    "\n",
    "from sklearn.model_selection import train_test_split\n",
    "from sklearn.multiclass import OneVsRestClassifier\n",
    "\n",
    "from sklearn.preprocessing import StandardScaler\n",
    "\n",
    "from sklearn.metrics import classification_report, accuracy_score\n",
    "\n",
    "import pickle\n",
    "\n",
    "import tensorflow as tf\n",
    "\n",
    "import lightgbm\n",
    "\n",
    "import warnings\n",
    "warnings.simplefilter(action='ignore', category=FutureWarning)"
   ]
  },
  {
   "cell_type": "code",
   "execution_count": 2,
   "id": "17759222-56d5-4a21-ba7d-c508b05ea21c",
   "metadata": {},
   "outputs": [],
   "source": [
    "catalog = intake.open_catalog(Path('../catalog.yml'))\n",
    "source = getattr(catalog, 'treesat')\n",
    "gdf = source.read()[source.metadata['usecols']]\n",
    "gdf.crs = 25832\n",
    "gdf = gdf.to_crs(epsg=4326)"
   ]
  },
  {
   "cell_type": "code",
   "execution_count": 3,
   "id": "626019d0-f07b-4e8f-92c4-0d4d2d4c42e4",
   "metadata": {},
   "outputs": [],
   "source": [
    "target = source.metadata['categories']['generic']\n",
    "gdf[target] = gdf[target].astype('category')"
   ]
  },
  {
   "cell_type": "code",
   "execution_count": 4,
   "id": "0749fbd3-b6ee-443c-b12c-741c2ee1f1bb",
   "metadata": {},
   "outputs": [],
   "source": [
    "selected_bands = [f'B{x}' for x in range(2, 9)] + ['B8A', 'B11', 'B12', 'TCI_R', 'TCI_G', 'TCI_B']"
   ]
  },
  {
   "cell_type": "code",
   "execution_count": 5,
   "id": "7a5fb97e-b021-4620-9b31-468323822101",
   "metadata": {},
   "outputs": [],
   "source": [
    "class LightModelCreator:\n",
    "    def __init__(self):\n",
    "        self.zeros = {}\n",
    "        \n",
    "    def load_and_fill_data(self, filepath):\n",
    "        \"\"\"Load numpy files and replace masks with the mean.\"\"\"\n",
    "        print(f'Loading {filepath}')\n",
    "        with open(filepath, 'rb') as f:\n",
    "            a = np.load(f)\n",
    "            \n",
    "        data_array = np.array(a.tolist()).reshape(len(a), -1)\n",
    "\n",
    "        self.zeros[filepath.stem] = 100*(data_array == 0).sum()/data_array.size\n",
    "        print(f'{self.zeros[filepath.stem]:.1f}% of dataset is masked.')\n",
    "        nonzero_mean = data_array[data_array > 0].mean()\n",
    "        return np.where(data_array > 0, data_array, nonzero_mean)\n",
    "\n",
    "    \n",
    "    def train(self, X_train, y_train):\n",
    "        params = dict(\n",
    "            verbose = 0,\n",
    "            device_type = 'gpu'\n",
    "        )\n",
    "    \n",
    "        lgb = lightgbm.LGBMClassifier(**params)\n",
    "        \n",
    "        stacked_model = OneVsRestClassifier(lgb)\n",
    "        \n",
    "        stacked_model.fit(X_train, y_train)\n",
    "        \n",
    "        return stacked_model\n",
    "    \n",
    "    def predict(self, y, X, array_key, random_state=42):\n",
    "        \n",
    "        X_train, X_test, y_train, y_test = train_test_split(\n",
    "            X, y, test_size=0.1, random_state=random_state)\n",
    "        \n",
    "        print(f'Training {array_key}...')\n",
    "        stacked_model = self.train(X_train, y_train)\n",
    "        \n",
    "        print(f'Evaluating {array_key}...')\n",
    "        y_pred = stacked_model.predict(X_test)\n",
    "\n",
    "        print(f'accuracy_score {accuracy_score(y_test, y_pred):.2f}')\n",
    "\n",
    "        print()\n",
    "        \n",
    "        # return pd.DataFrame(classification_report(y_test, y_pred, output_dict=True)).T\n",
    "        return accuracy_score(y_test, y_pred)\n",
    "    \n",
    "    def run_and_eval(self, gdf, filepaths, individual=True, all=False, chunk_keys=None):\n",
    "        labels = gdf[target].to_numpy()\n",
    "        report_dfs = {}\n",
    "        data_dict = {}\n",
    "        for filepath in filepaths:\n",
    "            \n",
    "            array_key = filepath.stem\n",
    "            data_array = self.load_and_fill_data(filepath)\n",
    "            \n",
    "            data_dict[array_key] = data_array\n",
    "            \n",
    "            if individual:\n",
    "                report_dfs[array_key] = self.predict(labels, data_array, array_key)\n",
    "        \n",
    "        if chunk_keys:\n",
    "            chunk = np.mean([data_dict[k] for k in chunk_keys], axis=0)\n",
    "            report_dfs['chunk_concat'] = self.predict(labels, chunk, 'chunk_mean')\n",
    "            \n",
    "            chunk = np.concatenate([data_dict[k] for k in chunk_keys])\n",
    "            y = np.repeat(labels, len(chunk_keys))\n",
    "            report_dfs['chunk_concat'] = self.predict(y, chunk, 'chunk_concat')\n",
    "\n",
    "        if all:\n",
    "            all = np.mean(list(data_dict.values()), axis=0)\n",
    "            report_dfs['all_mean'] = self.predict(labels, all, 'all_mean')\n",
    "            \n",
    "            all = np.concatenate(list(data_dict.values()))\n",
    "            y = np.repeat(labels, len(data_dict))\n",
    "            report_dfs['all_concat'] = self.predict(y, all, 'all_concat')  \n",
    "        \n",
    "        return self.zeros"
   ]
  },
  {
   "cell_type": "code",
   "execution_count": 6,
   "id": "def1baa7-96a9-4347-a303-2c907c8b8c5b",
   "metadata": {},
   "outputs": [],
   "source": [
    "# %%time\n",
    "# filepaths = sorted(list(Path('data').glob('*.npy')))\n",
    "# report_dfs = LightModelCreator().run_and_eval(gdf, filepaths, individual=True, all=True, chunk_keys=None)"
   ]
  },
  {
   "cell_type": "code",
   "execution_count": 14,
   "id": "27c1a810-5642-4006-8fda-01e2dfba4876",
   "metadata": {},
   "outputs": [],
   "source": []
  },
  {
   "cell_type": "code",
   "execution_count": 15,
   "id": "2c556622-9d11-4368-9327-786914a2703b",
   "metadata": {},
   "outputs": [
    {
     "name": "stdout",
     "output_type": "stream",
     "text": [
      "Loading data\\treesat_042019.npy\n",
      "0.0% of dataset is masked.\n",
      "Training treesat_042019...\n",
      "Evaluating treesat_042019...\n",
      "accuracy_score 0.60\n",
      "\n",
      "Wall time: 43.3 s\n"
     ]
    }
   ],
   "source": []
  },
  {
   "cell_type": "code",
   "execution_count": null,
   "id": "cbe033c6-69c4-4913-bb4b-2b845f9685bb",
   "metadata": {},
   "outputs": [],
   "source": []
  },
  {
   "cell_type": "code",
   "execution_count": null,
   "id": "8a2a3066-469e-4543-981c-79c7037baf51",
   "metadata": {},
   "outputs": [],
   "source": []
  },
  {
   "cell_type": "code",
   "execution_count": null,
   "id": "f9ffa18f-41d5-49c0-9b28-188b6424d0b6",
   "metadata": {},
   "outputs": [],
   "source": []
  },
  {
   "cell_type": "code",
   "execution_count": null,
   "id": "4f8914e0-36c5-46cd-9924-ec282dfc2b1d",
   "metadata": {},
   "outputs": [],
   "source": []
  },
  {
   "cell_type": "code",
   "execution_count": null,
   "id": "a0da89d4-ad43-43f4-966b-784ce1563181",
   "metadata": {},
   "outputs": [],
   "source": []
  },
  {
   "cell_type": "code",
   "execution_count": null,
   "id": "f3cb2ae7-7262-4f72-a27e-5dbe021caf02",
   "metadata": {},
   "outputs": [],
   "source": []
  },
  {
   "cell_type": "code",
   "execution_count": null,
   "id": "49ee6c92-f989-4253-b7de-08a50c4e40cb",
   "metadata": {},
   "outputs": [],
   "source": []
  },
  {
   "cell_type": "code",
   "execution_count": null,
   "id": "b5189141-5f07-4aac-a68f-00a24ec5d69d",
   "metadata": {},
   "outputs": [],
   "source": []
  },
  {
   "cell_type": "code",
   "execution_count": null,
   "id": "b3378d43-42ae-4f34-9df2-6e74e58f1822",
   "metadata": {},
   "outputs": [],
   "source": []
  }
 ],
 "metadata": {
  "kernelspec": {
   "display_name": "Python 3 (ipykernel)",
   "language": "python",
   "name": "python3"
  },
  "language_info": {
   "codemirror_mode": {
    "name": "ipython",
    "version": 3
   },
   "file_extension": ".py",
   "mimetype": "text/x-python",
   "name": "python",
   "nbconvert_exporter": "python",
   "pygments_lexer": "ipython3",
   "version": "3.7.12"
  }
 },
 "nbformat": 4,
 "nbformat_minor": 5
}
