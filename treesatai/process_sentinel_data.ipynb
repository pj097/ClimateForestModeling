{
 "cells": [
  {
   "cell_type": "code",
   "execution_count": 1,
   "id": "45a09dcb-b90b-45d7-b5a2-54996a34ada0",
   "metadata": {},
   "outputs": [],
   "source": [
    "from IPython.display import display\n",
    "from tqdm.notebook import tqdm\n",
    "\n",
    "import numpy as np\n",
    "import pandas as pd\n",
    "\n",
    "import datetime\n",
    "from pathlib import Path\n",
    "\n",
    "import intake\n",
    "\n",
    "from sklearn.model_selection import train_test_split\n",
    "from sklearn.multiclass import OneVsRestClassifier\n",
    "\n",
    "from sklearn.svm import SVC\n",
    "from sklearn.ensemble import RandomForestClassifier\n",
    "\n",
    "from sklearn.metrics import classification_report, accuracy_score\n",
    "\n",
    "import pickle\n",
    "\n",
    "import lightgbm\n",
    "from flaml.default import LGBMClassifier\n",
    "\n",
    "import matplotlib.pyplot as plt\n",
    "\n",
    "from tqdm import tqdm\n",
    "\n",
    "import warnings\n",
    "warnings.simplefilter(action='ignore', category=FutureWarning)"
   ]
  },
  {
   "cell_type": "code",
   "execution_count": 2,
   "id": "17759222-56d5-4a21-ba7d-c508b05ea21c",
   "metadata": {},
   "outputs": [],
   "source": [
    "catalog = intake.open_catalog(Path('../catalog.yml'))\n",
    "source = getattr(catalog, 'treesat')\n",
    "gdf = source.read()[source.metadata['usecols']]\n",
    "gdf.crs = 25832\n",
    "gdf = gdf.to_crs(epsg=4326)"
   ]
  },
  {
   "cell_type": "code",
   "execution_count": 3,
   "id": "626019d0-f07b-4e8f-92c4-0d4d2d4c42e4",
   "metadata": {},
   "outputs": [],
   "source": [
    "target = source.metadata['categories']['generic']\n",
    "gdf[target] = gdf[target].astype('category')"
   ]
  },
  {
   "cell_type": "code",
   "execution_count": 4,
   "id": "0749fbd3-b6ee-443c-b12c-741c2ee1f1bb",
   "metadata": {},
   "outputs": [],
   "source": [
    "selected_bands = [f'B{x}' for x in range(2, 9)] + ['B8A', 'B11', 'B12', 'TCI_R', 'TCI_G', 'TCI_B']"
   ]
  },
  {
   "cell_type": "code",
   "execution_count": 5,
   "id": "7a5fb97e-b021-4620-9b31-468323822101",
   "metadata": {},
   "outputs": [],
   "source": [
    "class ModelCreator:\n",
    "    def load_and_fill_data(self, filepath):\n",
    "        \"\"\"Load numpy files and replace masks with the mean.\"\"\"\n",
    "        print(f'Loading {filepath}')\n",
    "        with open(filepath, 'rb') as f:\n",
    "            a = np.load(f)\n",
    "            \n",
    "        data_array = np.array(a.tolist()).reshape(len(a), -1)  \n",
    "        return np.where(data_array > 0, data_array, data_array.mean())\n",
    "\n",
    "    \n",
    "    def train(self, X_train, y_train):\n",
    "        params = dict(\n",
    "            boosting_type = 'rf',\n",
    "            # \"num_leaves\": 31,\n",
    "            # \"learning_rate\": 0.05,\n",
    "            # \"feature_fraction\": 0.9,\n",
    "            # \"bagging_fraction\": 0.8,\n",
    "            # \"bagging_freq\": 5,\n",
    "            verbose = 0,\n",
    "            # device_type = 'gpu',\n",
    "            # max_bin = 255,\n",
    "        )\n",
    "    \n",
    "        # lgb = lightgbm.LGBMClassifier(**params)\n",
    "        # stacked_model = OneVsRestClassifier(lgb)\n",
    "\n",
    "        # stacked_model = OneVsRestClassifier(RandomForestClassifier())\n",
    "        stacked_model = OneVsRestClassifier(SVC())\n",
    "        stacked_model.fit(X_train, y_train)\n",
    "        \n",
    "        return stacked_model\n",
    "    \n",
    "    def predict(self, y, X, array_key, random_state=42):\n",
    "        X_train, X_test, y_train, y_test = train_test_split(\n",
    "            X, y, test_size=0.1, random_state=random_state)\n",
    "        \n",
    "        print(f'Training {array_key}...')\n",
    "        stacked_model = self.train(X_train, y_train)\n",
    "        \n",
    "        print(f'Evaluating {array_key}...')\n",
    "        y_pred = stacked_model.predict(X_test)\n",
    "\n",
    "        print(f'accuracy_score {accuracy_score(y_test, y_pred)}')\n",
    "        print()\n",
    "        \n",
    "        return pd.DataFrame(classification_report(y_test, y_pred, output_dict=True)).T\n",
    "    \n",
    "    def run_and_eval(self, gdf, filepaths, individual=True, all=False, chunk_keys=None):\n",
    "        labels = gdf[target].to_numpy()\n",
    "        report_dfs = {}\n",
    "        data_dict = {}\n",
    "        for filepath in filepaths:\n",
    "            \n",
    "            array_key = filepath.stem\n",
    "            data_array = self.load_and_fill_data(filepath)\n",
    "            \n",
    "            data_dict[array_key] = data_array\n",
    "            \n",
    "            if individual:\n",
    "                report_dfs[array_key] = self.predict(labels, data_array, array_key)\n",
    "        \n",
    "        if chunk_keys:\n",
    "            chunk = np.concatenate([data_dict[k] for k in chunk_keys])\n",
    "            y = np.repeat(labels, len(chunk_keys))\n",
    "            report_dfs['chunk_concat'] = self.predict(y, chunk, 'chunk_concat')\n",
    "\n",
    "            chunk = np.mean([data_dict[k] for k in chunk_keys], axis=0)\n",
    "            report_dfs['chunk_concat'] = self.predict(labels, chunk, 'chunk_mean')\n",
    "            \n",
    "        if all:\n",
    "            all = np.concatenate(list(data_dict.values()))\n",
    "            y = np.repeat(labels, len(data_dict))\n",
    "            report_dfs['all_concat'] = self.predict(y, all, 'all_concat')\n",
    "\n",
    "            all = np.mean(list(data_dict.values()), axis=0)\n",
    "            report_dfs['all_mean'] = self.predict(labels, all, 'all_mean')\n",
    "        \n",
    "        return report_dfs"
   ]
  },
  {
   "cell_type": "code",
   "execution_count": null,
   "id": "fe81894c-b106-43aa-8ebd-92749029e199",
   "metadata": {},
   "outputs": [
    {
     "name": "stdout",
     "output_type": "stream",
     "text": [
      "Loading data\\treesat_012019.npy\n",
      "Training treesat_012019...\n"
     ]
    }
   ],
   "source": [
    "%%time\n",
    "filepaths = Path('data').glob('*2019.npy')\n",
    "# filepaths = Path('data').glob('*04*.npy')\n",
    "summer_keys = [f'treesat_0{month}2019' for month in [2, 4, 6]]\n",
    "report_dfs = ModelCreator().run_and_eval(gdf, filepaths, individual=True, all=False, chunk_keys=None)"
   ]
  },
  {
   "cell_type": "code",
   "execution_count": 7,
   "id": "f698cd1b-62e9-4cc4-8d07-50893e782795",
   "metadata": {},
   "outputs": [
    {
     "ename": "NameError",
     "evalue": "name 'report_dfs' is not defined",
     "output_type": "error",
     "traceback": [
      "\u001b[1;31m---------------------------------------------------------------------------\u001b[0m",
      "\u001b[1;31mNameError\u001b[0m                                 Traceback (most recent call last)",
      "Cell \u001b[1;32mIn[7], line 1\u001b[0m\n\u001b[1;32m----> 1\u001b[0m \u001b[38;5;28;01mfor\u001b[39;00m k, v \u001b[38;5;129;01min\u001b[39;00m \u001b[43mreport_dfs\u001b[49m\u001b[38;5;241m.\u001b[39mitems():\n\u001b[0;32m      2\u001b[0m     \u001b[38;5;28mprint\u001b[39m(k)\n\u001b[0;32m      3\u001b[0m     \u001b[38;5;28mprint\u001b[39m(v\u001b[38;5;241m.\u001b[39mmean())\n",
      "\u001b[1;31mNameError\u001b[0m: name 'report_dfs' is not defined"
     ]
    }
   ],
   "source": [
    "for k, v in report_dfs.items():\n",
    "    print(k)\n",
    "    print(v.mean())\n",
    "    print()"
   ]
  },
  {
   "cell_type": "code",
   "execution_count": null,
   "id": "33929f27-524e-41a0-a058-2f47233f28f1",
   "metadata": {},
   "outputs": [],
   "source": []
  },
  {
   "cell_type": "code",
   "execution_count": null,
   "id": "def1baa7-96a9-4347-a303-2c907c8b8c5b",
   "metadata": {},
   "outputs": [],
   "source": []
  },
  {
   "cell_type": "code",
   "execution_count": null,
   "id": "6fb53c9e-3379-4446-8cca-9e0f1549c213",
   "metadata": {},
   "outputs": [],
   "source": []
  },
  {
   "cell_type": "code",
   "execution_count": null,
   "id": "27c1a810-5642-4006-8fda-01e2dfba4876",
   "metadata": {},
   "outputs": [],
   "source": []
  },
  {
   "cell_type": "code",
   "execution_count": null,
   "id": "2c556622-9d11-4368-9327-786914a2703b",
   "metadata": {},
   "outputs": [],
   "source": []
  },
  {
   "cell_type": "code",
   "execution_count": null,
   "id": "cbe033c6-69c4-4913-bb4b-2b845f9685bb",
   "metadata": {},
   "outputs": [],
   "source": []
  },
  {
   "cell_type": "code",
   "execution_count": null,
   "id": "8a2a3066-469e-4543-981c-79c7037baf51",
   "metadata": {},
   "outputs": [],
   "source": []
  },
  {
   "cell_type": "code",
   "execution_count": null,
   "id": "f9ffa18f-41d5-49c0-9b28-188b6424d0b6",
   "metadata": {},
   "outputs": [],
   "source": []
  },
  {
   "cell_type": "code",
   "execution_count": null,
   "id": "4f8914e0-36c5-46cd-9924-ec282dfc2b1d",
   "metadata": {},
   "outputs": [],
   "source": []
  },
  {
   "cell_type": "code",
   "execution_count": null,
   "id": "a0da89d4-ad43-43f4-966b-784ce1563181",
   "metadata": {},
   "outputs": [],
   "source": []
  },
  {
   "cell_type": "code",
   "execution_count": null,
   "id": "f3cb2ae7-7262-4f72-a27e-5dbe021caf02",
   "metadata": {},
   "outputs": [],
   "source": []
  },
  {
   "cell_type": "code",
   "execution_count": null,
   "id": "49ee6c92-f989-4253-b7de-08a50c4e40cb",
   "metadata": {},
   "outputs": [],
   "source": []
  },
  {
   "cell_type": "code",
   "execution_count": null,
   "id": "b5189141-5f07-4aac-a68f-00a24ec5d69d",
   "metadata": {},
   "outputs": [],
   "source": []
  },
  {
   "cell_type": "code",
   "execution_count": null,
   "id": "b3378d43-42ae-4f34-9df2-6e74e58f1822",
   "metadata": {},
   "outputs": [],
   "source": []
  }
 ],
 "metadata": {
  "kernelspec": {
   "display_name": "Python 3 (ipykernel)",
   "language": "python",
   "name": "python3"
  },
  "language_info": {
   "codemirror_mode": {
    "name": "ipython",
    "version": 3
   },
   "file_extension": ".py",
   "mimetype": "text/x-python",
   "name": "python",
   "nbconvert_exporter": "python",
   "pygments_lexer": "ipython3",
   "version": "3.10.13"
  }
 },
 "nbformat": 4,
 "nbformat_minor": 5
}
