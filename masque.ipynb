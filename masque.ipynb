{
 "cells": [
  {
   "cell_type": "code",
   "execution_count": null,
   "id": "4f45e771-29ee-46a5-95c5-57326f507380",
   "metadata": {},
   "outputs": [],
   "source": [
    "import geopandas as gpd\n",
    "from pathlib import Path\n",
    "import rasterio\n",
    "import numpy as np"
   ]
  },
  {
   "cell_type": "code",
   "execution_count": null,
   "id": "c82101b6-7b89-4a45-a390-fece29caf81a",
   "metadata": {},
   "outputs": [],
   "source": [
    "file_name = 'FORET__MASQUE_2018.tif'\n",
    "dir = Path('data').joinpath('MASQUE_FORESTIER_2018_GEOTIFF_31370')"
   ]
  },
  {
   "cell_type": "code",
   "execution_count": null,
   "id": "33d65636-7c6a-4ef9-9f90-ad38f97d1aea",
   "metadata": {},
   "outputs": [],
   "source": [
    "with rasterio.open(dir.joinpath(file_name)) as img:\n",
    "    data = img.read()\n",
    "    print(img)"
   ]
  },
  {
   "cell_type": "code",
   "execution_count": null,
   "id": "66debb5a-8920-47d3-8bc8-8463e60f4817",
   "metadata": {},
   "outputs": [],
   "source": [
    "data.shape"
   ]
  },
  {
   "cell_type": "code",
   "execution_count": null,
   "id": "8c0055b8-68cb-4723-bb49-846d49d14da7",
   "metadata": {},
   "outputs": [],
   "source": [
    "np.unique(data)"
   ]
  },
  {
   "cell_type": "code",
   "execution_count": null,
   "id": "e6995958-178b-42b2-9a64-bdfdbe60233b",
   "metadata": {},
   "outputs": [],
   "source": []
  }
 ],
 "metadata": {
  "kernelspec": {
   "display_name": "Python 3 (ipykernel)",
   "language": "python",
   "name": "python3"
  },
  "language_info": {
   "codemirror_mode": {
    "name": "ipython",
    "version": 3
   },
   "file_extension": ".py",
   "mimetype": "text/x-python",
   "name": "python",
   "nbconvert_exporter": "python",
   "pygments_lexer": "ipython3",
   "version": "3.10.13"
  }
 },
 "nbformat": 4,
 "nbformat_minor": 5
}
