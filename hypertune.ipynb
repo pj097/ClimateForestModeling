{
 "cells": [
  {
   "cell_type": "code",
   "execution_count": 1,
   "id": "ccc611d4-bd39-465c-8ad1-162c494f92e5",
   "metadata": {},
   "outputs": [],
   "source": [
    "import logging, os\n",
    "logging.disable(logging.WARNING)\n",
    "os.environ['TF_CPP_MIN_LOG_LEVEL'] = '3'\n",
    "os.environ['TF_FORCE_GPU_ALLOW_GROWTH'] = 'true'\n",
    "\n",
    "import tensorflow as tf\n",
    "\n",
    "from pathlib import Path\n",
    "\n",
    "import keras_tuner as kt\n",
    "\n",
    "from importlib import reload\n",
    "import hyper_model_creator\n",
    "import keras_model_creator\n",
    "import sentinel_utils"
   ]
  },
  {
   "cell_type": "code",
   "execution_count": 2,
   "id": "21d4be11-8df6-424a-902b-1eb7820d10ed",
   "metadata": {},
   "outputs": [],
   "source": [
    "trials_dir = Path('trials', 'hyperband_resnet')\n",
    "trial_metric = 'val_weightedf2score'"
   ]
  },
  {
   "cell_type": "code",
   "execution_count": 3,
   "id": "9417f366-257a-44eb-9bc2-f8c76ed6c36d",
   "metadata": {},
   "outputs": [],
   "source": [
    "callbacks = [\n",
    "    tf.keras.callbacks.TensorBoard(trials_dir.joinpath('board')),\n",
    "    tf.keras.callbacks.EarlyStopping(\n",
    "        monitor=trial_metric, patience=10, mode='max'\n",
    "    ),\n",
    "    tf.keras.callbacks.ReduceLROnPlateau(\n",
    "        monitor=trial_metric, factor=0.5, patience=4, min_lr=1e-6,\n",
    "    ),\n",
    "]"
   ]
  },
  {
   "cell_type": "code",
   "execution_count": null,
   "id": "a016b0cf-fd75-4867-a8b2-6f532b25767d",
   "metadata": {},
   "outputs": [
    {
     "name": "stdout",
     "output_type": "stream",
     "text": [
      "\n",
      "Search: Running Trial #1\n",
      "\n",
      "Value             |Best Value So Far |Hyperparameter\n",
      "False             |False             |class_weight\n",
      "2017              |2017              |training_years\n",
      "l2                |l2                |kernel_regularizer\n",
      "0.1               |0.1               |spatial_dropout\n",
      "relu              |relu              |activation\n",
      "4                 |4                 |pool_size\n",
      "0.3               |0.3               |dropout\n",
      "True              |True              |bias_initializer\n",
      "0.0001            |0.0001            |learning_rate\n",
      "binary_crossent...|binary_crossent...|loss_function\n",
      "2                 |2                 |tuner/epochs\n",
      "0                 |0                 |tuner/initial_epoch\n",
      "4                 |4                 |tuner/bracket\n",
      "0                 |0                 |tuner/round\n",
      "\n",
      "Epoch 1/2\n"
     ]
    },
    {
     "name": "stderr",
     "output_type": "stream",
     "text": [
      "WARNING: All log messages before absl::InitializeLog() is called are written to STDERR\n",
      "I0000 00:00:1723474789.927792   18506 service.cc:145] XLA service 0x7fc0b8003e10 initialized for platform CUDA (this does not guarantee that XLA will be used). Devices:\n",
      "I0000 00:00:1723474789.927829   18506 service.cc:153]   StreamExecutor device (0): NVIDIA GeForce RTX 4070 Ti, Compute Capability 8.9\n",
      "I0000 00:00:1723474800.328653   18506 device_compiler.h:188] Compiled cluster using XLA!  This line is logged at most once for the lifetime of the process.\n"
     ]
    },
    {
     "name": "stdout",
     "output_type": "stream",
     "text": [
      "\u001b[1m3717/7100\u001b[0m \u001b[32m━━━━━━━━━━\u001b[0m\u001b[37m━━━━━━━━━━\u001b[0m \u001b[1m1:51\u001b[0m 33ms/step - accuracy: 0.3213 - auc: 0.7236 - loss: 15.4892 - prc: 0.4559 - precision: 0.4992 - recall: 0.3974 - weightedf1score: 0.4383 - weightedf2score: 0.4121"
     ]
    }
   ],
   "source": [
    "reload(hyper_model_creator)\n",
    "\n",
    "hypermodel = hyper_model_creator.BuildHyperModel()\n",
    "\n",
    "tuner = kt.Hyperband(\n",
    "    hypermodel,\n",
    "    objective=kt.Objective(trial_metric, direction='max'),\n",
    "    directory=trials_dir.parent,\n",
    "    project_name=trials_dir.name,\n",
    "    hyperband_iterations=3,\n",
    "    max_epochs=100,\n",
    "    overwrite=False,\n",
    ")\n",
    "\n",
    "tuner.search(\n",
    "    verbose=1, \n",
    "    callbacks=callbacks\n",
    ")"
   ]
  },
  {
   "cell_type": "code",
   "execution_count": null,
   "id": "0520f93f-7fad-441b-b531-d7f86c3c301a",
   "metadata": {},
   "outputs": [],
   "source": [
    "# tuner.results_summary(num_trials=2)"
   ]
  },
  {
   "cell_type": "code",
   "execution_count": null,
   "id": "417ed23a-8cbb-470b-8f32-838a502dca49",
   "metadata": {},
   "outputs": [],
   "source": [
    "# %load_ext tensorboard\n",
    "# tb_path = str(trials_dir.joinpath('board'))\n",
    "# %tensorboard --logdir \"$tb_path\""
   ]
  },
  {
   "cell_type": "code",
   "execution_count": null,
   "id": "52a5da23-ab39-4f18-aa6a-b249e4beadb5",
   "metadata": {},
   "outputs": [],
   "source": []
  },
  {
   "cell_type": "code",
   "execution_count": null,
   "id": "764e4320-e4fe-41f2-95ef-74268cf2479c",
   "metadata": {},
   "outputs": [],
   "source": []
  },
  {
   "cell_type": "code",
   "execution_count": null,
   "id": "b338c2a0-5c4e-4c59-acd4-25f2a07358a7",
   "metadata": {},
   "outputs": [],
   "source": []
  },
  {
   "cell_type": "code",
   "execution_count": null,
   "id": "6f79e0bb-81e2-4f5c-8a37-4d3b30829417",
   "metadata": {},
   "outputs": [],
   "source": []
  },
  {
   "cell_type": "code",
   "execution_count": null,
   "id": "bfb4b030-6eaf-4272-a319-9dd29ede66be",
   "metadata": {},
   "outputs": [],
   "source": []
  },
  {
   "cell_type": "code",
   "execution_count": null,
   "id": "76091152-1e8d-4e97-aa38-06c7e8cf728d",
   "metadata": {},
   "outputs": [],
   "source": []
  }
 ],
 "metadata": {
  "kernelspec": {
   "display_name": "Python 3 (ipykernel)",
   "language": "python",
   "name": "python3"
  },
  "language_info": {
   "codemirror_mode": {
    "name": "ipython",
    "version": 3
   },
   "file_extension": ".py",
   "mimetype": "text/x-python",
   "name": "python",
   "nbconvert_exporter": "python",
   "pygments_lexer": "ipython3",
   "version": "3.10.14"
  }
 },
 "nbformat": 4,
 "nbformat_minor": 5
}
