{
 "cells": [
  {
   "cell_type": "code",
   "execution_count": 1,
   "id": "ccc611d4-bd39-465c-8ad1-162c494f92e5",
   "metadata": {},
   "outputs": [],
   "source": [
    "import logging, os\n",
    "logging.disable(logging.WARNING)\n",
    "os.environ['TF_CPP_MIN_LOG_LEVEL'] = '3'\n",
    "os.environ['TF_FORCE_GPU_ALLOW_GROWTH'] = 'true'\n",
    "\n",
    "import tensorflow as tf\n",
    "\n",
    "from pathlib import Path\n",
    "\n",
    "import keras_tuner as kt\n",
    "\n",
    "from importlib import reload\n",
    "import hyper_model_creator\n",
    "import keras_model_creator\n",
    "import sentinel_utils"
   ]
  },
  {
   "cell_type": "code",
   "execution_count": 2,
   "id": "21d4be11-8df6-424a-902b-1eb7820d10ed",
   "metadata": {},
   "outputs": [],
   "source": [
    "trials_dir = Path('trials', 'hyperband_resnet')\n",
    "trial_metric = 'val_weightedf2score'"
   ]
  },
  {
   "cell_type": "code",
   "execution_count": 3,
   "id": "9417f366-257a-44eb-9bc2-f8c76ed6c36d",
   "metadata": {},
   "outputs": [],
   "source": [
    "callbacks = [\n",
    "    tf.keras.callbacks.TensorBoard(trials_dir.joinpath('board')),\n",
    "    tf.keras.callbacks.EarlyStopping(\n",
    "        monitor=trial_metric, patience=20, mode='max'\n",
    "    ),\n",
    "    tf.keras.callbacks.ReduceLROnPlateau(\n",
    "        monitor=trial_metric, factor=0.5, patience=8, min_lr=1e-6,\n",
    "    ),\n",
    "]"
   ]
  },
  {
   "cell_type": "code",
   "execution_count": null,
   "id": "a016b0cf-fd75-4867-a8b2-6f532b25767d",
   "metadata": {},
   "outputs": [
    {
     "name": "stdout",
     "output_type": "stream",
     "text": [
      "Reloading Tuner from trials/hyperband_resnet/tuner0.json\n",
      "\n",
      "Search: Running Trial #467\n",
      "\n",
      "Value             |Best Value So Far |Hyperparameter\n",
      "True              |True              |class_weight\n",
      "2017_2018_2019    |2017_2018_2019    |training_years\n",
      "l1l2              |l1l2              |kernel_regularizer\n",
      "0.1               |0.1               |spatial_dropout\n",
      "relu              |relu              |activation\n",
      "4                 |4                 |pool_size\n",
      "0.5               |0.5               |dropout\n",
      "True              |True              |bias_initializer\n",
      "0.0001            |0.0001            |learning_rate\n",
      "binary_crossent...|binary_crossent...|loss_function\n",
      "100               |34                |tuner/epochs\n",
      "34                |12                |tuner/initial_epoch\n",
      "2                 |2                 |tuner/bracket\n",
      "2                 |1                 |tuner/round\n",
      "0461              |0456              |tuner/trial_id\n",
      "\n"
     ]
    },
    {
     "name": "stderr",
     "output_type": "stream",
     "text": [
      "/home/pj/miniconda3/envs/tf/lib/python3.10/site-packages/keras/src/saving/saving_lib.py:415: UserWarning: Skipping variable loading for optimizer 'adam', because it has 2 variables whereas the saved optimizer has 102 variables. \n",
      "  saveable.load_own_variables(weights_store.get(inner_path))\n"
     ]
    },
    {
     "name": "stdout",
     "output_type": "stream",
     "text": [
      "Epoch 35/100\n"
     ]
    },
    {
     "name": "stderr",
     "output_type": "stream",
     "text": [
      "WARNING: All log messages before absl::InitializeLog() is called are written to STDERR\n",
      "I0000 00:00:1724319235.143094   25490 service.cc:145] XLA service 0x7f2298013e40 initialized for platform CUDA (this does not guarantee that XLA will be used). Devices:\n",
      "I0000 00:00:1724319235.143145   25490 service.cc:153]   StreamExecutor device (0): NVIDIA GeForce RTX 4070 Ti, Compute Capability 8.9\n",
      "I0000 00:00:1724319246.106887   25490 device_compiler.h:188] Compiled cluster using XLA!  This line is logged at most once for the lifetime of the process.\n"
     ]
    },
    {
     "name": "stdout",
     "output_type": "stream",
     "text": [
      "\u001b[1m3550/3550\u001b[0m \u001b[32m━━━━━━━━━━━━━━━━━━━━\u001b[0m\u001b[37m\u001b[0m \u001b[1m243s\u001b[0m 64ms/step - accuracy: 0.5531 - auc: 0.9434 - loss: 0.2541 - prc: 0.8526 - precision: 0.7962 - recall: 0.7179 - weightedf1score: 0.7389 - weightedf2score: 0.7251 - val_accuracy: 0.5166 - val_auc: 0.9210 - val_loss: 0.2986 - val_prc: 0.8052 - val_precision: 0.7561 - val_recall: 0.6830 - val_weightedf1score: 0.6978 - val_weightedf2score: 0.6880 - learning_rate: 1.0000e-04\n",
      "Epoch 36/100\n",
      "\u001b[1m3550/3550\u001b[0m \u001b[32m━━━━━━━━━━━━━━━━━━━━\u001b[0m\u001b[37m\u001b[0m \u001b[1m233s\u001b[0m 66ms/step - accuracy: 0.5545 - auc: 0.9437 - loss: 0.2534 - prc: 0.8534 - precision: 0.7984 - recall: 0.7183 - weightedf1score: 0.7394 - weightedf2score: 0.7255 - val_accuracy: 0.5107 - val_auc: 0.9199 - val_loss: 0.3019 - val_prc: 0.8025 - val_precision: 0.7548 - val_recall: 0.6769 - val_weightedf1score: 0.6904 - val_weightedf2score: 0.6811 - learning_rate: 1.0000e-04\n",
      "Epoch 37/100\n",
      "\u001b[1m3550/3550\u001b[0m \u001b[32m━━━━━━━━━━━━━━━━━━━━\u001b[0m\u001b[37m\u001b[0m \u001b[1m233s\u001b[0m 65ms/step - accuracy: 0.5576 - auc: 0.9449 - loss: 0.2507 - prc: 0.8565 - precision: 0.8001 - recall: 0.7212 - weightedf1score: 0.7427 - weightedf2score: 0.7286 - val_accuracy: 0.5062 - val_auc: 0.9189 - val_loss: 0.3046 - val_prc: 0.8004 - val_precision: 0.7548 - val_recall: 0.6782 - val_weightedf1score: 0.6910 - val_weightedf2score: 0.6824 - learning_rate: 1.0000e-04\n",
      "Epoch 38/100\n",
      "\u001b[1m3550/3550\u001b[0m \u001b[32m━━━━━━━━━━━━━━━━━━━━\u001b[0m\u001b[37m\u001b[0m \u001b[1m239s\u001b[0m 67ms/step - accuracy: 0.5576 - auc: 0.9459 - loss: 0.2486 - prc: 0.8591 - precision: 0.8025 - recall: 0.7255 - weightedf1score: 0.7472 - weightedf2score: 0.7330 - val_accuracy: 0.5046 - val_auc: 0.9187 - val_loss: 0.3052 - val_prc: 0.7989 - val_precision: 0.7460 - val_recall: 0.6833 - val_weightedf1score: 0.6928 - val_weightedf2score: 0.6861 - learning_rate: 1.0000e-04\n",
      "Epoch 39/100\n",
      "\u001b[1m3550/3550\u001b[0m \u001b[32m━━━━━━━━━━━━━━━━━━━━\u001b[0m\u001b[37m\u001b[0m \u001b[1m249s\u001b[0m 70ms/step - accuracy: 0.5626 - auc: 0.9477 - loss: 0.2445 - prc: 0.8635 - precision: 0.8043 - recall: 0.7307 - weightedf1score: 0.7517 - weightedf2score: 0.7380 - val_accuracy: 0.5209 - val_auc: 0.9183 - val_loss: 0.3054 - val_prc: 0.7991 - val_precision: 0.7457 - val_recall: 0.6822 - val_weightedf1score: 0.6948 - val_weightedf2score: 0.6862 - learning_rate: 1.0000e-04\n",
      "Epoch 40/100\n",
      "\u001b[1m3550/3550\u001b[0m \u001b[32m━━━━━━━━━━━━━━━━━━━━\u001b[0m\u001b[37m\u001b[0m \u001b[1m209s\u001b[0m 59ms/step - accuracy: 0.5663 - auc: 0.9496 - loss: 0.2403 - prc: 0.8681 - precision: 0.8083 - recall: 0.7364 - weightedf1score: 0.7576 - weightedf2score: 0.7438 - val_accuracy: 0.5177 - val_auc: 0.9178 - val_loss: 0.3091 - val_prc: 0.7975 - val_precision: 0.7466 - val_recall: 0.6870 - val_weightedf1score: 0.6942 - val_weightedf2score: 0.6889 - learning_rate: 1.0000e-04\n",
      "Epoch 41/100\n",
      "\u001b[1m3550/3550\u001b[0m \u001b[32m━━━━━━━━━━━━━━━━━━━━\u001b[0m\u001b[37m\u001b[0m \u001b[1m214s\u001b[0m 60ms/step - accuracy: 0.5702 - auc: 0.9510 - loss: 0.2371 - prc: 0.8713 - precision: 0.8109 - recall: 0.7414 - weightedf1score: 0.7617 - weightedf2score: 0.7484 - val_accuracy: 0.5173 - val_auc: 0.9178 - val_loss: 0.3084 - val_prc: 0.7972 - val_precision: 0.7494 - val_recall: 0.6788 - val_weightedf1score: 0.6926 - val_weightedf2score: 0.6834 - learning_rate: 1.0000e-04\n",
      "Epoch 42/100\n",
      "\u001b[1m3550/3550\u001b[0m \u001b[32m━━━━━━━━━━━━━━━━━━━━\u001b[0m\u001b[37m\u001b[0m \u001b[1m247s\u001b[0m 69ms/step - accuracy: 0.5714 - auc: 0.9523 - loss: 0.2341 - prc: 0.8746 - precision: 0.8116 - recall: 0.7455 - weightedf1score: 0.7653 - weightedf2score: 0.7524 - val_accuracy: 0.5081 - val_auc: 0.9171 - val_loss: 0.3125 - val_prc: 0.7957 - val_precision: 0.7419 - val_recall: 0.6877 - val_weightedf1score: 0.6954 - val_weightedf2score: 0.6900 - learning_rate: 1.0000e-04\n",
      "Epoch 43/100\n",
      "\u001b[1m3550/3550\u001b[0m \u001b[32m━━━━━━━━━━━━━━━━━━━━\u001b[0m\u001b[37m\u001b[0m \u001b[1m254s\u001b[0m 67ms/step - accuracy: 0.5748 - auc: 0.9537 - loss: 0.2308 - prc: 0.8787 - precision: 0.8151 - recall: 0.7505 - weightedf1score: 0.7704 - weightedf2score: 0.7575 - val_accuracy: 0.5147 - val_auc: 0.9157 - val_loss: 0.3147 - val_prc: 0.7924 - val_precision: 0.7367 - val_recall: 0.6891 - val_weightedf1score: 0.6932 - val_weightedf2score: 0.6897 - learning_rate: 1.0000e-04\n",
      "Epoch 44/100\n",
      "\u001b[1m3550/3550\u001b[0m \u001b[32m━━━━━━━━━━━━━━━━━━━━\u001b[0m\u001b[37m\u001b[0m \u001b[1m224s\u001b[0m 63ms/step - accuracy: 0.5779 - auc: 0.9557 - loss: 0.2261 - prc: 0.8830 - precision: 0.8196 - recall: 0.7578 - weightedf1score: 0.7767 - weightedf2score: 0.7644 - val_accuracy: 0.5104 - val_auc: 0.9157 - val_loss: 0.3161 - val_prc: 0.7925 - val_precision: 0.7371 - val_recall: 0.6877 - val_weightedf1score: 0.6929 - val_weightedf2score: 0.6890 - learning_rate: 1.0000e-04\n",
      "Epoch 45/100\n",
      "\u001b[1m3550/3550\u001b[0m \u001b[32m━━━━━━━━━━━━━━━━━━━━\u001b[0m\u001b[37m\u001b[0m \u001b[1m202s\u001b[0m 57ms/step - accuracy: 0.5833 - auc: 0.9592 - loss: 0.2174 - prc: 0.8920 - precision: 0.8275 - recall: 0.7674 - weightedf1score: 0.7867 - weightedf2score: 0.7743 - val_accuracy: 0.5119 - val_auc: 0.9149 - val_loss: 0.3215 - val_prc: 0.7907 - val_precision: 0.7324 - val_recall: 0.6875 - val_weightedf1score: 0.6938 - val_weightedf2score: 0.6893 - learning_rate: 5.0000e-05\n",
      "Epoch 46/100\n",
      "\u001b[1m3550/3550\u001b[0m \u001b[32m━━━━━━━━━━━━━━━━━━━━\u001b[0m\u001b[37m\u001b[0m \u001b[1m198s\u001b[0m 56ms/step - accuracy: 0.5887 - auc: 0.9617 - loss: 0.2107 - prc: 0.8981 - precision: 0.8319 - recall: 0.7776 - weightedf1score: 0.7954 - weightedf2score: 0.7840 - val_accuracy: 0.5091 - val_auc: 0.9137 - val_loss: 0.3268 - val_prc: 0.7878 - val_precision: 0.7378 - val_recall: 0.6785 - val_weightedf1score: 0.6902 - val_weightedf2score: 0.6824 - learning_rate: 5.0000e-05\n",
      "Epoch 47/100\n",
      "\u001b[1m3550/3550\u001b[0m \u001b[32m━━━━━━━━━━━━━━━━━━━━\u001b[0m\u001b[37m\u001b[0m \u001b[1m224s\u001b[0m 63ms/step - accuracy: 0.5899 - auc: 0.9627 - loss: 0.2079 - prc: 0.9009 - precision: 0.8346 - recall: 0.7808 - weightedf1score: 0.7985 - weightedf2score: 0.7871 - val_accuracy: 0.5133 - val_auc: 0.9136 - val_loss: 0.3273 - val_prc: 0.7883 - val_precision: 0.7333 - val_recall: 0.6864 - val_weightedf1score: 0.6945 - val_weightedf2score: 0.6889 - learning_rate: 5.0000e-05\n",
      "Epoch 48/100\n",
      "\u001b[1m3550/3550\u001b[0m \u001b[32m━━━━━━━━━━━━━━━━━━━━\u001b[0m\u001b[37m\u001b[0m \u001b[1m218s\u001b[0m 61ms/step - accuracy: 0.5943 - auc: 0.9644 - loss: 0.2033 - prc: 0.9050 - precision: 0.8382 - recall: 0.7867 - weightedf1score: 0.8040 - weightedf2score: 0.7929 - val_accuracy: 0.5141 - val_auc: 0.9132 - val_loss: 0.3312 - val_prc: 0.7880 - val_precision: 0.7304 - val_recall: 0.6905 - val_weightedf1score: 0.6956 - val_weightedf2score: 0.6920 - learning_rate: 5.0000e-05\n",
      "Epoch 49/100\n",
      "\u001b[1m3550/3550\u001b[0m \u001b[32m━━━━━━━━━━━━━━━━━━━━\u001b[0m\u001b[37m\u001b[0m \u001b[1m209s\u001b[0m 59ms/step - accuracy: 0.5961 - auc: 0.9652 - loss: 0.2009 - prc: 0.9078 - precision: 0.8411 - recall: 0.7904 - weightedf1score: 0.8080 - weightedf2score: 0.7968 - val_accuracy: 0.5114 - val_auc: 0.9122 - val_loss: 0.3340 - val_prc: 0.7855 - val_precision: 0.7353 - val_recall: 0.6801 - val_weightedf1score: 0.6920 - val_weightedf2score: 0.6842 - learning_rate: 5.0000e-05\n",
      "Epoch 50/100\n",
      "\u001b[1m3550/3550\u001b[0m \u001b[32m━━━━━━━━━━━━━━━━━━━━\u001b[0m\u001b[37m\u001b[0m \u001b[1m207s\u001b[0m 58ms/step - accuracy: 0.5990 - auc: 0.9662 - loss: 0.1981 - prc: 0.9100 - precision: 0.8432 - recall: 0.7941 - weightedf1score: 0.8110 - weightedf2score: 0.8002 - val_accuracy: 0.5142 - val_auc: 0.9122 - val_loss: 0.3350 - val_prc: 0.7843 - val_precision: 0.7264 - val_recall: 0.6844 - val_weightedf1score: 0.6901 - val_weightedf2score: 0.6860 - learning_rate: 5.0000e-05\n",
      "Epoch 51/100\n",
      "\u001b[1m3550/3550\u001b[0m \u001b[32m━━━━━━━━━━━━━━━━━━━━\u001b[0m\u001b[37m\u001b[0m \u001b[1m195s\u001b[0m 55ms/step - accuracy: 0.6021 - auc: 0.9674 - loss: 0.1947 - prc: 0.9128 - precision: 0.8456 - recall: 0.7984 - weightedf1score: 0.8150 - weightedf2score: 0.8045 - val_accuracy: 0.5117 - val_auc: 0.9117 - val_loss: 0.3385 - val_prc: 0.7838 - val_precision: 0.7261 - val_recall: 0.6887 - val_weightedf1score: 0.6918 - val_weightedf2score: 0.6892 - learning_rate: 5.0000e-05\n",
      "Epoch 52/100\n",
      "\u001b[1m3550/3550\u001b[0m \u001b[32m━━━━━━━━━━━━━━━━━━━━\u001b[0m\u001b[37m\u001b[0m \u001b[1m195s\u001b[0m 55ms/step - accuracy: 0.6032 - auc: 0.9681 - loss: 0.1924 - prc: 0.9147 - precision: 0.8476 - recall: 0.7995 - weightedf1score: 0.8164 - weightedf2score: 0.8057 - val_accuracy: 0.5134 - val_auc: 0.9114 - val_loss: 0.3400 - val_prc: 0.7831 - val_precision: 0.7267 - val_recall: 0.6853 - val_weightedf1score: 0.6908 - val_weightedf2score: 0.6868 - learning_rate: 5.0000e-05\n",
      "Epoch 53/100\n",
      "\u001b[1m3550/3550\u001b[0m \u001b[32m━━━━━━━━━━━━━━━━━━━━\u001b[0m\u001b[37m\u001b[0m \u001b[1m201s\u001b[0m 57ms/step - accuracy: 0.6081 - auc: 0.9701 - loss: 0.1869 - prc: 0.9197 - precision: 0.8516 - recall: 0.8072 - weightedf1score: 0.8229 - weightedf2score: 0.8129 - val_accuracy: 0.5102 - val_auc: 0.9106 - val_loss: 0.3444 - val_prc: 0.7816 - val_precision: 0.7239 - val_recall: 0.6814 - val_weightedf1score: 0.6886 - val_weightedf2score: 0.6837 - learning_rate: 2.5000e-05\n",
      "Epoch 54/100\n",
      "\u001b[1m3550/3550\u001b[0m \u001b[32m━━━━━━━━━━━━━━━━━━━━\u001b[0m\u001b[37m\u001b[0m \u001b[1m196s\u001b[0m 55ms/step - accuracy: 0.6103 - auc: 0.9710 - loss: 0.1837 - prc: 0.9223 - precision: 0.8540 - recall: 0.8119 - weightedf1score: 0.8268 - weightedf2score: 0.8174 - val_accuracy: 0.5099 - val_auc: 0.9103 - val_loss: 0.3476 - val_prc: 0.7809 - val_precision: 0.7242 - val_recall: 0.6845 - val_weightedf1score: 0.6902 - val_weightedf2score: 0.6862 - learning_rate: 2.5000e-05\n",
      "Epoch 55/100\n",
      "\u001b[1m3550/3550\u001b[0m \u001b[32m━━━━━━━━━━━━━━━━━━━━\u001b[0m\u001b[37m\u001b[0m \u001b[1m199s\u001b[0m 56ms/step - accuracy: 0.6109 - auc: 0.9717 - loss: 0.1816 - prc: 0.9241 - precision: 0.8559 - recall: 0.8140 - weightedf1score: 0.8290 - weightedf2score: 0.8195 - val_accuracy: 0.5114 - val_auc: 0.9100 - val_loss: 0.3497 - val_prc: 0.7810 - val_precision: 0.7248 - val_recall: 0.6831 - val_weightedf1score: 0.6898 - val_weightedf2score: 0.6852 - learning_rate: 2.5000e-05\n",
      "Epoch 56/100\n",
      "\u001b[1m3550/3550\u001b[0m \u001b[32m━━━━━━━━━━━━━━━━━━━━\u001b[0m\u001b[37m\u001b[0m \u001b[1m194s\u001b[0m 54ms/step - accuracy: 0.6131 - auc: 0.9725 - loss: 0.1793 - prc: 0.9256 - precision: 0.8575 - recall: 0.8162 - weightedf1score: 0.8315 - weightedf2score: 0.8219 - val_accuracy: 0.5095 - val_auc: 0.9096 - val_loss: 0.3511 - val_prc: 0.7798 - val_precision: 0.7225 - val_recall: 0.6876 - val_weightedf1score: 0.6911 - val_weightedf2score: 0.6884 - learning_rate: 2.5000e-05\n",
      "Epoch 57/100\n",
      "\u001b[1m3550/3550\u001b[0m \u001b[32m━━━━━━━━━━━━━━━━━━━━\u001b[0m\u001b[37m\u001b[0m \u001b[1m202s\u001b[0m 57ms/step - accuracy: 0.6151 - auc: 0.9731 - loss: 0.1773 - prc: 0.9274 - precision: 0.8603 - recall: 0.8203 - weightedf1score: 0.8350 - weightedf2score: 0.8257 - val_accuracy: 0.5065 - val_auc: 0.9093 - val_loss: 0.3539 - val_prc: 0.7792 - val_precision: 0.7189 - val_recall: 0.6894 - val_weightedf1score: 0.6924 - val_weightedf2score: 0.6901 - learning_rate: 2.5000e-05\n",
      "Epoch 58/100\n",
      "\u001b[1m3550/3550\u001b[0m \u001b[32m━━━━━━━━━━━━━━━━━━━━\u001b[0m\u001b[37m\u001b[0m \u001b[1m204s\u001b[0m 57ms/step - accuracy: 0.6124 - auc: 0.9733 - loss: 0.1766 - prc: 0.9283 - precision: 0.8598 - recall: 0.8215 - weightedf1score: 0.8356 - weightedf2score: 0.8267 - val_accuracy: 0.5111 - val_auc: 0.9093 - val_loss: 0.3558 - val_prc: 0.7788 - val_precision: 0.7222 - val_recall: 0.6821 - val_weightedf1score: 0.6874 - val_weightedf2score: 0.6836 - learning_rate: 2.5000e-05\n",
      "Epoch 59/100\n",
      "\u001b[1m3434/3550\u001b[0m \u001b[32m━━━━━━━━━━━━━━━━━━━\u001b[0m\u001b[37m━\u001b[0m \u001b[1m6s\u001b[0m 53ms/step - accuracy: 0.6178 - auc: 0.9739 - loss: 0.1744 - prc: 0.9296 - precision: 0.8616 - recall: 0.8237 - weightedf1score: 0.8377 - weightedf2score: 0.8289"
     ]
    }
   ],
   "source": [
    "reload(hyper_model_creator)\n",
    "\n",
    "hypermodel = hyper_model_creator.BuildHyperModel()\n",
    "\n",
    "tuner = kt.Hyperband(\n",
    "    hypermodel,\n",
    "    objective=kt.Objective(trial_metric, direction='max'),\n",
    "    directory=trials_dir.parent,\n",
    "    project_name=trials_dir.name,\n",
    "    hyperband_iterations=3,\n",
    "    max_epochs=100,\n",
    "    overwrite=False,\n",
    ")\n",
    "tuner.search(\n",
    "    verbose=1, \n",
    "    callbacks=callbacks\n",
    ")"
   ]
  },
  {
   "cell_type": "code",
   "execution_count": null,
   "id": "3f8a5eae-e3da-40f1-84e2-85416517d434",
   "metadata": {},
   "outputs": [],
   "source": [
    "# best_hp = tuner.get_best_hyperparameters(num_trials=1)[0]\n",
    "\n",
    "# best_hp.values['units'] = 128\n",
    "# best_hp.values['dropout'] = 0.3\n",
    "\n",
    "# model = tuner.hypermodel.build(best_hp)\n",
    "# model.fit(x_train, y_train, epochs=10, validation_data=(x_val, y_val))"
   ]
  },
  {
   "cell_type": "code",
   "execution_count": null,
   "id": "0520f93f-7fad-441b-b531-d7f86c3c301a",
   "metadata": {},
   "outputs": [],
   "source": [
    "# tuner.results_summary(num_trials=2)"
   ]
  },
  {
   "cell_type": "code",
   "execution_count": null,
   "id": "417ed23a-8cbb-470b-8f32-838a502dca49",
   "metadata": {},
   "outputs": [],
   "source": [
    "# %load_ext tensorboard\n",
    "# tb_path = str(trials_dir.joinpath('board'))\n",
    "# %tensorboard --logdir \"$tb_path\""
   ]
  },
  {
   "cell_type": "code",
   "execution_count": null,
   "id": "52a5da23-ab39-4f18-aa6a-b249e4beadb5",
   "metadata": {},
   "outputs": [],
   "source": []
  },
  {
   "cell_type": "code",
   "execution_count": null,
   "id": "764e4320-e4fe-41f2-95ef-74268cf2479c",
   "metadata": {},
   "outputs": [],
   "source": []
  },
  {
   "cell_type": "code",
   "execution_count": null,
   "id": "b338c2a0-5c4e-4c59-acd4-25f2a07358a7",
   "metadata": {},
   "outputs": [],
   "source": []
  },
  {
   "cell_type": "code",
   "execution_count": null,
   "id": "6f79e0bb-81e2-4f5c-8a37-4d3b30829417",
   "metadata": {},
   "outputs": [],
   "source": []
  },
  {
   "cell_type": "code",
   "execution_count": null,
   "id": "bfb4b030-6eaf-4272-a319-9dd29ede66be",
   "metadata": {},
   "outputs": [],
   "source": []
  },
  {
   "cell_type": "code",
   "execution_count": null,
   "id": "76091152-1e8d-4e97-aa38-06c7e8cf728d",
   "metadata": {},
   "outputs": [],
   "source": []
  }
 ],
 "metadata": {
  "kernelspec": {
   "display_name": "Python 3 (ipykernel)",
   "language": "python",
   "name": "python3"
  },
  "language_info": {
   "codemirror_mode": {
    "name": "ipython",
    "version": 3
   },
   "file_extension": ".py",
   "mimetype": "text/x-python",
   "name": "python",
   "nbconvert_exporter": "python",
   "pygments_lexer": "ipython3",
   "version": "3.10.14"
  }
 },
 "nbformat": 4,
 "nbformat_minor": 5
}
