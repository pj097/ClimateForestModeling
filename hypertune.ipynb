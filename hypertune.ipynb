{
 "cells": [
  {
   "cell_type": "code",
   "execution_count": 1,
   "id": "ccc611d4-bd39-465c-8ad1-162c494f92e5",
   "metadata": {},
   "outputs": [],
   "source": [
    "import logging, os\n",
    "logging.disable(logging.WARNING)\n",
    "os.environ['TF_CPP_MIN_LOG_LEVEL'] = '3'\n",
    "os.environ['TF_FORCE_GPU_ALLOW_GROWTH'] = 'true'\n",
    "\n",
    "import tensorflow as tf\n",
    "\n",
    "from pathlib import Path\n",
    "\n",
    "import keras_tuner as kt\n",
    "\n",
    "from importlib import reload\n",
    "import hyper_model_creator\n",
    "import keras_model_creator\n",
    "import sentinel_utils"
   ]
  },
  {
   "cell_type": "code",
   "execution_count": 2,
   "id": "21d4be11-8df6-424a-902b-1eb7820d10ed",
   "metadata": {},
   "outputs": [],
   "source": [
    "trials_dir = Path('trials', 'hyperband_resnet')\n",
    "trial_metric = 'val_weightedf2score'"
   ]
  },
  {
   "cell_type": "code",
   "execution_count": 3,
   "id": "9417f366-257a-44eb-9bc2-f8c76ed6c36d",
   "metadata": {},
   "outputs": [],
   "source": [
    "callbacks = [\n",
    "    tf.keras.callbacks.TensorBoard(trials_dir.joinpath('board')),\n",
    "    tf.keras.callbacks.EarlyStopping(\n",
    "        monitor=trial_metric, patience=20, mode='max'\n",
    "    ),\n",
    "    tf.keras.callbacks.ReduceLROnPlateau(\n",
    "        monitor=trial_metric, factor=0.5, patience=8, min_lr=1e-6,\n",
    "    ),\n",
    "]"
   ]
  },
  {
   "cell_type": "code",
   "execution_count": null,
   "id": "a016b0cf-fd75-4867-a8b2-6f532b25767d",
   "metadata": {},
   "outputs": [
    {
     "name": "stdout",
     "output_type": "stream",
     "text": [
      "Trial 247 Complete [01h 41m 32s]\n",
      "val_weightedf2score: 0.44086945056915283\n",
      "\n",
      "Best val_weightedf2score So Far: 0.6896040439605713\n",
      "Total elapsed time: 5d 14h 17m 58s\n",
      "\n",
      "Search: Running Trial #248\n",
      "\n",
      "Value             |Best Value So Far |Hyperparameter\n",
      "True              |True              |class_weight\n",
      "2017_2018_2019    |2017_2018_2019    |training_years\n",
      "l1                |l1l2              |kernel_regularizer\n",
      "0.3               |0.5               |spatial_dropout\n",
      "leaky_relu        |leaky_relu        |activation\n",
      "2                 |4                 |pool_size\n",
      "0.3               |0.1               |dropout\n",
      "True              |False             |bias_initializer\n",
      "0.01              |0.01              |learning_rate\n",
      "binary_focal_cr...|binary_crossent...|loss_function\n",
      "100               |34                |tuner/epochs\n",
      "0                 |12                |tuner/initial_epoch\n",
      "0                 |4                 |tuner/bracket\n",
      "0                 |3                 |tuner/round\n",
      "\n",
      "Epoch 1/100\n",
      "\u001b[1m3550/3550\u001b[0m \u001b[32m━━━━━━━━━━━━━━━━━━━━\u001b[0m\u001b[37m\u001b[0m \u001b[1m238s\u001b[0m 63ms/step - accuracy: 0.2678 - auc: 0.6970 - loss: 236.9713 - prc: 0.3951 - precision: 0.4655 - recall: 0.1553 - weightedf1score: 0.1704 - weightedf2score: 0.1600 - val_accuracy: 0.2743 - val_auc: 0.7188 - val_loss: 201.8326 - val_prc: 0.4223 - val_precision: 0.0000e+00 - val_recall: 0.0000e+00 - val_weightedf1score: 0.0000e+00 - val_weightedf2score: 0.0000e+00 - learning_rate: 0.0100\n",
      "Epoch 2/100\n",
      "\u001b[1m3550/3550\u001b[0m \u001b[32m━━━━━━━━━━━━━━━━━━━━\u001b[0m\u001b[37m\u001b[0m \u001b[1m219s\u001b[0m 61ms/step - accuracy: 0.2842 - auc: 0.7184 - loss: 200.6871 - prc: 0.4216 - precision: 0.5007 - recall: 0.1560 - weightedf1score: 0.1515 - weightedf2score: 0.1541 - val_accuracy: 0.2743 - val_auc: 0.7188 - val_loss: 199.9066 - val_prc: 0.4223 - val_precision: 0.0000e+00 - val_recall: 0.0000e+00 - val_weightedf1score: 0.0000e+00 - val_weightedf2score: 0.0000e+00 - learning_rate: 0.0100\n",
      "Epoch 3/100\n",
      "\u001b[1m3550/3550\u001b[0m \u001b[32m━━━━━━━━━━━━━━━━━━━━\u001b[0m\u001b[37m\u001b[0m \u001b[1m220s\u001b[0m 62ms/step - accuracy: 0.2822 - auc: 0.7187 - loss: 200.1028 - prc: 0.4210 - precision: 0.5001 - recall: 0.1521 - weightedf1score: 0.1497 - weightedf2score: 0.1511 - val_accuracy: 0.2743 - val_auc: 0.7170 - val_loss: 199.8025 - val_prc: 0.4215 - val_precision: 0.4990 - val_recall: 0.2904 - val_weightedf1score: 0.1933 - val_weightedf2score: 0.2418 - learning_rate: 0.0100\n",
      "Epoch 4/100\n",
      "\u001b[1m3550/3550\u001b[0m \u001b[32m━━━━━━━━━━━━━━━━━━━━\u001b[0m\u001b[37m\u001b[0m \u001b[1m222s\u001b[0m 62ms/step - accuracy: 0.2805 - auc: 0.7173 - loss: 200.0288 - prc: 0.4197 - precision: 0.4989 - recall: 0.1477 - weightedf1score: 0.1473 - weightedf2score: 0.1475 - val_accuracy: 0.2743 - val_auc: 0.7188 - val_loss: 200.4897 - val_prc: 0.4223 - val_precision: 0.4990 - val_recall: 0.2904 - val_weightedf1score: 0.1933 - val_weightedf2score: 0.2418 - learning_rate: 0.0100\n",
      "Epoch 5/100\n",
      "\u001b[1m3550/3550\u001b[0m \u001b[32m━━━━━━━━━━━━━━━━━━━━\u001b[0m\u001b[37m\u001b[0m \u001b[1m232s\u001b[0m 65ms/step - accuracy: 0.2805 - auc: 0.7173 - loss: 199.9752 - prc: 0.4203 - precision: 0.5019 - recall: 0.1506 - weightedf1score: 0.1490 - weightedf2score: 0.1499 - val_accuracy: 0.2743 - val_auc: 0.7171 - val_loss: 200.7280 - val_prc: 0.4215 - val_precision: 0.0000e+00 - val_recall: 0.0000e+00 - val_weightedf1score: 0.0000e+00 - val_weightedf2score: 0.0000e+00 - learning_rate: 0.0100\n",
      "Epoch 6/100\n",
      "\u001b[1m3550/3550\u001b[0m \u001b[32m━━━━━━━━━━━━━━━━━━━━\u001b[0m\u001b[37m\u001b[0m \u001b[1m217s\u001b[0m 61ms/step - accuracy: 0.2821 - auc: 0.7172 - loss: 200.0812 - prc: 0.4201 - precision: 0.5025 - recall: 0.1479 - weightedf1score: 0.1480 - weightedf2score: 0.1479 - val_accuracy: 0.2743 - val_auc: 0.7188 - val_loss: 200.0989 - val_prc: 0.4223 - val_precision: 0.4990 - val_recall: 0.2904 - val_weightedf1score: 0.1933 - val_weightedf2score: 0.2418 - learning_rate: 0.0100\n",
      "Epoch 7/100\n",
      "\u001b[1m3550/3550\u001b[0m \u001b[32m━━━━━━━━━━━━━━━━━━━━\u001b[0m\u001b[37m\u001b[0m \u001b[1m222s\u001b[0m 62ms/step - accuracy: 0.2817 - auc: 0.7187 - loss: 200.0065 - prc: 0.4218 - precision: 0.5049 - recall: 0.1526 - weightedf1score: 0.1510 - weightedf2score: 0.1519 - val_accuracy: 0.2743 - val_auc: 0.7156 - val_loss: 200.1729 - val_prc: 0.4185 - val_precision: 0.4990 - val_recall: 0.2904 - val_weightedf1score: 0.1933 - val_weightedf2score: 0.2418 - learning_rate: 0.0100\n",
      "Epoch 8/100\n",
      "\u001b[1m3550/3550\u001b[0m \u001b[32m━━━━━━━━━━━━━━━━━━━━\u001b[0m\u001b[37m\u001b[0m \u001b[1m225s\u001b[0m 63ms/step - accuracy: 0.2851 - auc: 0.7185 - loss: 199.8920 - prc: 0.4218 - precision: 0.5029 - recall: 0.1577 - weightedf1score: 0.1532 - weightedf2score: 0.1558 - val_accuracy: 0.2743 - val_auc: 0.7155 - val_loss: 200.2933 - val_prc: 0.4184 - val_precision: 0.4990 - val_recall: 0.2904 - val_weightedf1score: 0.1933 - val_weightedf2score: 0.2418 - learning_rate: 0.0100\n",
      "Epoch 9/100\n",
      "\u001b[1m3550/3550\u001b[0m \u001b[32m━━━━━━━━━━━━━━━━━━━━\u001b[0m\u001b[37m\u001b[0m \u001b[1m224s\u001b[0m 63ms/step - accuracy: 0.2830 - auc: 0.7173 - loss: 199.8187 - prc: 0.4200 - precision: 0.5010 - recall: 0.1518 - weightedf1score: 0.1498 - weightedf2score: 0.1509 - val_accuracy: 0.2743 - val_auc: 0.7139 - val_loss: 200.0057 - val_prc: 0.4177 - val_precision: 0.0000e+00 - val_recall: 0.0000e+00 - val_weightedf1score: 0.0000e+00 - val_weightedf2score: 0.0000e+00 - learning_rate: 0.0100\n",
      "Epoch 10/100\n",
      "\u001b[1m3550/3550\u001b[0m \u001b[32m━━━━━━━━━━━━━━━━━━━━\u001b[0m\u001b[37m\u001b[0m \u001b[1m225s\u001b[0m 63ms/step - accuracy: 0.2836 - auc: 0.7193 - loss: 108.1477 - prc: 0.4219 - precision: 0.5013 - recall: 0.1588 - weightedf1score: 0.1530 - weightedf2score: 0.1564 - val_accuracy: 0.2743 - val_auc: 0.7188 - val_loss: 104.6060 - val_prc: 0.4223 - val_precision: 0.0000e+00 - val_recall: 0.0000e+00 - val_weightedf1score: 0.0000e+00 - val_weightedf2score: 0.0000e+00 - learning_rate: 0.0050\n",
      "Epoch 11/100\n",
      "\u001b[1m3550/3550\u001b[0m \u001b[32m━━━━━━━━━━━━━━━━━━━━\u001b[0m\u001b[37m\u001b[0m \u001b[1m221s\u001b[0m 62ms/step - accuracy: 0.2839 - auc: 0.7189 - loss: 103.9026 - prc: 0.4218 - precision: 0.5014 - recall: 0.1491 - weightedf1score: 0.1482 - weightedf2score: 0.1486 - val_accuracy: 0.2743 - val_auc: 0.7155 - val_loss: 103.9266 - val_prc: 0.4184 - val_precision: 0.4990 - val_recall: 0.2904 - val_weightedf1score: 0.1933 - val_weightedf2score: 0.2418 - learning_rate: 0.0050\n",
      "Epoch 12/100\n",
      "\u001b[1m3550/3550\u001b[0m \u001b[32m━━━━━━━━━━━━━━━━━━━━\u001b[0m\u001b[37m\u001b[0m \u001b[1m221s\u001b[0m 62ms/step - accuracy: 0.2830 - auc: 0.7184 - loss: 102.7801 - prc: 0.4211 - precision: 0.4969 - recall: 0.1415 - weightedf1score: 0.1435 - weightedf2score: 0.1422 - val_accuracy: 0.2743 - val_auc: 0.7171 - val_loss: 104.0869 - val_prc: 0.4215 - val_precision: 0.4990 - val_recall: 0.2904 - val_weightedf1score: 0.1933 - val_weightedf2score: 0.2418 - learning_rate: 0.0050\n",
      "Epoch 13/100\n",
      "\u001b[1m3550/3550\u001b[0m \u001b[32m━━━━━━━━━━━━━━━━━━━━\u001b[0m\u001b[37m\u001b[0m \u001b[1m221s\u001b[0m 62ms/step - accuracy: 0.2831 - auc: 0.7190 - loss: 102.3175 - prc: 0.4207 - precision: 0.4991 - recall: 0.1476 - weightedf1score: 0.1471 - weightedf2score: 0.1473 - val_accuracy: 0.2743 - val_auc: 0.7155 - val_loss: 102.0218 - val_prc: 0.4184 - val_precision: 0.4990 - val_recall: 0.2904 - val_weightedf1score: 0.1933 - val_weightedf2score: 0.2418 - learning_rate: 0.0050\n",
      "Epoch 14/100\n",
      "\u001b[1m3550/3550\u001b[0m \u001b[32m━━━━━━━━━━━━━━━━━━━━\u001b[0m\u001b[37m\u001b[0m \u001b[1m224s\u001b[0m 63ms/step - accuracy: 0.2842 - auc: 0.7191 - loss: 102.0514 - prc: 0.4230 - precision: 0.5043 - recall: 0.1581 - weightedf1score: 0.1530 - weightedf2score: 0.1560 - val_accuracy: 0.2743 - val_auc: 0.7188 - val_loss: 102.2410 - val_prc: 0.4223 - val_precision: 0.4990 - val_recall: 0.2904 - val_weightedf1score: 0.1933 - val_weightedf2score: 0.2418 - learning_rate: 0.0050\n",
      "Epoch 15/100\n",
      "\u001b[1m3550/3550\u001b[0m \u001b[32m━━━━━━━━━━━━━━━━━━━━\u001b[0m\u001b[37m\u001b[0m \u001b[1m264s\u001b[0m 74ms/step - accuracy: 0.2822 - auc: 0.7180 - loss: 101.9625 - prc: 0.4196 - precision: 0.4970 - recall: 0.1447 - weightedf1score: 0.1451 - weightedf2score: 0.1448 - val_accuracy: 0.2743 - val_auc: 0.7188 - val_loss: 102.8277 - val_prc: 0.4223 - val_precision: 0.4990 - val_recall: 0.2904 - val_weightedf1score: 0.1933 - val_weightedf2score: 0.2418 - learning_rate: 0.0050\n",
      "Epoch 16/100\n",
      "\u001b[1m3550/3550\u001b[0m \u001b[32m━━━━━━━━━━━━━━━━━━━━\u001b[0m\u001b[37m\u001b[0m \u001b[1m236s\u001b[0m 66ms/step - accuracy: 0.2826 - auc: 0.7174 - loss: 101.8318 - prc: 0.4201 - precision: 0.5004 - recall: 0.1451 - weightedf1score: 0.1457 - weightedf2score: 0.1452 - val_accuracy: 0.2743 - val_auc: 0.7188 - val_loss: 101.3300 - val_prc: 0.4223 - val_precision: 0.0000e+00 - val_recall: 0.0000e+00 - val_weightedf1score: 0.0000e+00 - val_weightedf2score: 0.0000e+00 - learning_rate: 0.0050\n",
      "Epoch 17/100\n",
      "\u001b[1m3550/3550\u001b[0m \u001b[32m━━━━━━━━━━━━━━━━━━━━\u001b[0m\u001b[37m\u001b[0m \u001b[1m266s\u001b[0m 75ms/step - accuracy: 0.2833 - auc: 0.7184 - loss: 101.6691 - prc: 0.4207 - precision: 0.5014 - recall: 0.1576 - weightedf1score: 0.1522 - weightedf2score: 0.1554 - val_accuracy: 0.2743 - val_auc: 0.7187 - val_loss: 101.6919 - val_prc: 0.4223 - val_precision: 0.0000e+00 - val_recall: 0.0000e+00 - val_weightedf1score: 0.0000e+00 - val_weightedf2score: 0.0000e+00 - learning_rate: 0.0050\n",
      "Epoch 18/100\n",
      "\u001b[1m3550/3550\u001b[0m \u001b[32m━━━━━━━━━━━━━━━━━━━━\u001b[0m\u001b[37m\u001b[0m \u001b[1m293s\u001b[0m 82ms/step - accuracy: 0.2834 - auc: 0.7197 - loss: 54.3787 - prc: 0.4216 - precision: 0.4981 - recall: 0.1518 - weightedf1score: 0.1486 - weightedf2score: 0.1504 - val_accuracy: 0.2743 - val_auc: 0.7188 - val_loss: 53.3079 - val_prc: 0.4223 - val_precision: 0.4990 - val_recall: 0.2904 - val_weightedf1score: 0.1933 - val_weightedf2score: 0.2418 - learning_rate: 0.0025\n",
      "Epoch 19/100\n",
      "\u001b[1m2682/3550\u001b[0m \u001b[32m━━━━━━━━━━━━━━━\u001b[0m\u001b[37m━━━━━\u001b[0m \u001b[1m1:08\u001b[0m 79ms/step - accuracy: 0.2825 - auc: 0.7190 - loss: 52.7935 - prc: 0.4211 - precision: 0.4967 - recall: 0.1411 - weightedf1score: 0.1427 - weightedf2score: 0.1416"
     ]
    }
   ],
   "source": [
    "reload(hyper_model_creator)\n",
    "\n",
    "hypermodel = hyper_model_creator.BuildHyperModel()\n",
    "\n",
    "tuner = kt.Hyperband(\n",
    "    hypermodel,\n",
    "    objective=kt.Objective(trial_metric, direction='max'),\n",
    "    directory=trials_dir.parent,\n",
    "    project_name=trials_dir.name,\n",
    "    hyperband_iterations=3,\n",
    "    max_epochs=100,\n",
    "    overwrite=False,\n",
    ")\n",
    "# tuner.search_space_summary()\n",
    "tuner.search(\n",
    "    verbose=1, \n",
    "    callbacks=callbacks\n",
    ")"
   ]
  },
  {
   "cell_type": "code",
   "execution_count": null,
   "id": "0520f93f-7fad-441b-b531-d7f86c3c301a",
   "metadata": {},
   "outputs": [],
   "source": [
    "# tuner.results_summary(num_trials=2)"
   ]
  },
  {
   "cell_type": "code",
   "execution_count": null,
   "id": "417ed23a-8cbb-470b-8f32-838a502dca49",
   "metadata": {},
   "outputs": [],
   "source": [
    "# %load_ext tensorboard\n",
    "# tb_path = str(trials_dir.joinpath('board'))\n",
    "# %tensorboard --logdir \"$tb_path\""
   ]
  },
  {
   "cell_type": "code",
   "execution_count": null,
   "id": "52a5da23-ab39-4f18-aa6a-b249e4beadb5",
   "metadata": {},
   "outputs": [],
   "source": []
  },
  {
   "cell_type": "code",
   "execution_count": null,
   "id": "764e4320-e4fe-41f2-95ef-74268cf2479c",
   "metadata": {},
   "outputs": [],
   "source": []
  },
  {
   "cell_type": "code",
   "execution_count": null,
   "id": "b338c2a0-5c4e-4c59-acd4-25f2a07358a7",
   "metadata": {},
   "outputs": [],
   "source": []
  },
  {
   "cell_type": "code",
   "execution_count": null,
   "id": "6f79e0bb-81e2-4f5c-8a37-4d3b30829417",
   "metadata": {},
   "outputs": [],
   "source": []
  },
  {
   "cell_type": "code",
   "execution_count": null,
   "id": "bfb4b030-6eaf-4272-a319-9dd29ede66be",
   "metadata": {},
   "outputs": [],
   "source": []
  },
  {
   "cell_type": "code",
   "execution_count": null,
   "id": "76091152-1e8d-4e97-aa38-06c7e8cf728d",
   "metadata": {},
   "outputs": [],
   "source": []
  }
 ],
 "metadata": {
  "kernelspec": {
   "display_name": "Python 3 (ipykernel)",
   "language": "python",
   "name": "python3"
  },
  "language_info": {
   "codemirror_mode": {
    "name": "ipython",
    "version": 3
   },
   "file_extension": ".py",
   "mimetype": "text/x-python",
   "name": "python",
   "nbconvert_exporter": "python",
   "pygments_lexer": "ipython3",
   "version": "3.10.14"
  }
 },
 "nbformat": 4,
 "nbformat_minor": 5
}
