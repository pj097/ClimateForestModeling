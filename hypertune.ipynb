{
 "cells": [
  {
   "cell_type": "code",
   "execution_count": 1,
   "id": "ccc611d4-bd39-465c-8ad1-162c494f92e5",
   "metadata": {},
   "outputs": [],
   "source": [
    "import logging, os\n",
    "logging.disable(logging.WARNING)\n",
    "os.environ['TF_CPP_MIN_LOG_LEVEL'] = '3'\n",
    "os.environ['TF_FORCE_GPU_ALLOW_GROWTH'] = 'true'\n",
    "\n",
    "import tensorflow as tf\n",
    "\n",
    "from pathlib import Path\n",
    "\n",
    "import keras_tuner as kt\n",
    "\n",
    "from sklearn.model_selection import train_test_split\n",
    "\n",
    "from importlib import reload\n",
    "import hyper_model_creator"
   ]
  },
  {
   "cell_type": "code",
   "execution_count": 2,
   "id": "21d4be11-8df6-424a-902b-1eb7820d10ed",
   "metadata": {},
   "outputs": [],
   "source": [
    "trials_dir = Path('trials', 'hyperband_resnet_followup')\n",
    "trial_metric = 'val_weightedf2score'"
   ]
  },
  {
   "cell_type": "code",
   "execution_count": null,
   "id": "a016b0cf-fd75-4867-a8b2-6f532b25767d",
   "metadata": {},
   "outputs": [
    {
     "name": "stdout",
     "output_type": "stream",
     "text": [
      "Trial 14 Complete [00h 04m 29s]\n",
      "val_weightedf2score: 0.5047554969787598\n",
      "\n",
      "Best val_weightedf2score So Far: 0.5666080117225647\n",
      "Total elapsed time: 01h 28m 41s\n",
      "\n",
      "Search: Running Trial #15\n",
      "\n",
      "Value             |Best Value So Far |Hyperparameter\n",
      "128               |64                |filter_size_min\n",
      "512               |256               |filter_size_max\n",
      "4                 |4                 |convolutional_layers\n",
      "64                |256               |units_min\n",
      "1024              |1024              |units_max\n",
      "4                 |4                 |dense_layers\n",
      "2                 |2                 |tuner/epochs\n",
      "0                 |0                 |tuner/initial_epoch\n",
      "3                 |3                 |tuner/bracket\n",
      "0                 |0                 |tuner/round\n",
      "\n",
      "Epoch 1/2\n",
      "\u001b[1m2424/3550\u001b[0m \u001b[32m━━━━━━━━━━━━━\u001b[0m\u001b[37m━━━━━━━\u001b[0m \u001b[1m1:05\u001b[0m 58ms/step - accuracy: 0.1922 - auc: 0.5853 - loss: 0.6758 - prc: 0.3015 - precision: 0.3315 - recall: 0.2543 - weightedf1score: 0.3020 - weightedf2score: 0.2698"
     ]
    }
   ],
   "source": [
    "reload(hyper_model_creator)\n",
    "\n",
    "hypermodel = hyper_model_creator.BuildHyperModel(\n",
    "    trials_dir, trial_metric\n",
    ")\n",
    "\n",
    "tuner = kt.Hyperband(\n",
    "    hypermodel,\n",
    "    objective=kt.Objective(trial_metric, direction='max'),\n",
    "    directory=trials_dir.parent,\n",
    "    project_name=trials_dir.name,\n",
    "    hyperband_iterations=3,\n",
    "    max_epochs=30,\n",
    "    overwrite=False,\n",
    ")\n",
    "\n",
    "tuner.search(verbose=1)"
   ]
  },
  {
   "cell_type": "code",
   "execution_count": null,
   "id": "3f8a5eae-e3da-40f1-84e2-85416517d434",
   "metadata": {},
   "outputs": [],
   "source": []
  },
  {
   "cell_type": "code",
   "execution_count": null,
   "id": "f6b4a502-ffb4-4d80-a2cf-be651a25243e",
   "metadata": {},
   "outputs": [],
   "source": []
  },
  {
   "cell_type": "code",
   "execution_count": null,
   "id": "0520f93f-7fad-441b-b531-d7f86c3c301a",
   "metadata": {},
   "outputs": [],
   "source": []
  },
  {
   "cell_type": "code",
   "execution_count": null,
   "id": "417ed23a-8cbb-470b-8f32-838a502dca49",
   "metadata": {},
   "outputs": [],
   "source": [
    "# %load_ext tensorboard\n",
    "# tb_path = str(trials_dir.joinpath('board'))\n",
    "# %tensorboard --logdir \"$tb_path\""
   ]
  },
  {
   "cell_type": "code",
   "execution_count": null,
   "id": "52a5da23-ab39-4f18-aa6a-b249e4beadb5",
   "metadata": {},
   "outputs": [],
   "source": []
  },
  {
   "cell_type": "code",
   "execution_count": null,
   "id": "764e4320-e4fe-41f2-95ef-74268cf2479c",
   "metadata": {},
   "outputs": [],
   "source": []
  },
  {
   "cell_type": "code",
   "execution_count": null,
   "id": "b338c2a0-5c4e-4c59-acd4-25f2a07358a7",
   "metadata": {},
   "outputs": [],
   "source": []
  },
  {
   "cell_type": "code",
   "execution_count": null,
   "id": "6f79e0bb-81e2-4f5c-8a37-4d3b30829417",
   "metadata": {},
   "outputs": [],
   "source": []
  },
  {
   "cell_type": "code",
   "execution_count": null,
   "id": "bfb4b030-6eaf-4272-a319-9dd29ede66be",
   "metadata": {},
   "outputs": [],
   "source": []
  },
  {
   "cell_type": "code",
   "execution_count": null,
   "id": "76091152-1e8d-4e97-aa38-06c7e8cf728d",
   "metadata": {},
   "outputs": [],
   "source": []
  }
 ],
 "metadata": {
  "kernelspec": {
   "display_name": "Python 3 (ipykernel)",
   "language": "python",
   "name": "python3"
  },
  "language_info": {
   "codemirror_mode": {
    "name": "ipython",
    "version": 3
   },
   "file_extension": ".py",
   "mimetype": "text/x-python",
   "name": "python",
   "nbconvert_exporter": "python",
   "pygments_lexer": "ipython3",
   "version": "3.10.14"
  }
 },
 "nbformat": 4,
 "nbformat_minor": 5
}
