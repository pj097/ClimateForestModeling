{
 "cells": [
  {
   "cell_type": "code",
   "execution_count": 1,
   "id": "ccc611d4-bd39-465c-8ad1-162c494f92e5",
   "metadata": {},
   "outputs": [],
   "source": [
    "import logging, os\n",
    "logging.disable(logging.WARNING)\n",
    "os.environ['TF_CPP_MIN_LOG_LEVEL'] = '3'\n",
    "os.environ['TF_FORCE_GPU_ALLOW_GROWTH'] = 'true'\n",
    "\n",
    "import tensorflow as tf\n",
    "\n",
    "from pathlib import Path\n",
    "\n",
    "import keras_tuner as kt\n",
    "\n",
    "from importlib import reload\n",
    "import hyper_model_creator\n",
    "import keras_model_creator\n",
    "import sentinel_utils"
   ]
  },
  {
   "cell_type": "code",
   "execution_count": 2,
   "id": "21d4be11-8df6-424a-902b-1eb7820d10ed",
   "metadata": {},
   "outputs": [],
   "source": [
    "trials_dir = Path('trials', 'hyperband_resnet')\n",
    "trial_metric = 'val_weightedf2score'"
   ]
  },
  {
   "cell_type": "code",
   "execution_count": 3,
   "id": "9417f366-257a-44eb-9bc2-f8c76ed6c36d",
   "metadata": {},
   "outputs": [],
   "source": [
    "callbacks = [\n",
    "    tf.keras.callbacks.TensorBoard(trials_dir.joinpath('board')),\n",
    "    tf.keras.callbacks.EarlyStopping(\n",
    "        monitor=trial_metric, patience=10, mode='max'\n",
    "    ),\n",
    "    tf.keras.callbacks.ReduceLROnPlateau(\n",
    "        monitor=trial_metric, factor=0.5, patience=8, min_lr=1e-6,\n",
    "    ),\n",
    "]"
   ]
  },
  {
   "cell_type": "code",
   "execution_count": null,
   "id": "a016b0cf-fd75-4867-a8b2-6f532b25767d",
   "metadata": {},
   "outputs": [
    {
     "name": "stdout",
     "output_type": "stream",
     "text": [
      "Reloading Tuner from trials/hyperband_resnet/tuner0.json\n",
      "\n",
      "Search: Running Trial #478\n",
      "\n",
      "Value             |Best Value So Far |Hyperparameter\n",
      "False             |True              |class_weight\n",
      "2017_2018_2019    |2017_2018_2019    |training_years\n",
      "l1l2              |l1l2              |kernel_regularizer\n",
      "0.5               |0.1               |spatial_dropout\n",
      "leaky_relu        |relu              |activation\n",
      "4                 |4                 |pool_size\n",
      "0.5               |0.5               |dropout\n",
      "False             |True              |bias_initializer\n",
      "0.001             |0.0001            |learning_rate\n",
      "binary_crossent...|binary_crossent...|loss_function\n",
      "100               |34                |tuner/epochs\n",
      "34                |12                |tuner/initial_epoch\n",
      "1                 |2                 |tuner/bracket\n",
      "1                 |1                 |tuner/round\n",
      "0476              |0456              |tuner/trial_id\n",
      "\n"
     ]
    },
    {
     "name": "stderr",
     "output_type": "stream",
     "text": [
      "/home/pj/miniconda3/envs/tf/lib/python3.10/site-packages/keras/src/saving/saving_lib.py:415: UserWarning: Skipping variable loading for optimizer 'adam', because it has 2 variables whereas the saved optimizer has 102 variables. \n",
      "  saveable.load_own_variables(weights_store.get(inner_path))\n"
     ]
    },
    {
     "name": "stdout",
     "output_type": "stream",
     "text": [
      "Epoch 35/100\n"
     ]
    },
    {
     "name": "stderr",
     "output_type": "stream",
     "text": [
      "WARNING: All log messages before absl::InitializeLog() is called are written to STDERR\n",
      "I0000 00:00:1724414841.595102    5292 service.cc:145] XLA service 0x7f88c4002920 initialized for platform CUDA (this does not guarantee that XLA will be used). Devices:\n",
      "I0000 00:00:1724414841.595138    5292 service.cc:153]   StreamExecutor device (0): NVIDIA GeForce RTX 4070 Ti, Compute Capability 8.9\n",
      "I0000 00:00:1724414854.898874    5292 device_compiler.h:188] Compiled cluster using XLA!  This line is logged at most once for the lifetime of the process.\n"
     ]
    },
    {
     "name": "stdout",
     "output_type": "stream",
     "text": [
      "\u001b[1m3550/3550\u001b[0m \u001b[32m━━━━━━━━━━━━━━━━━━━━\u001b[0m\u001b[37m\u001b[0m \u001b[1m288s\u001b[0m 76ms/step - accuracy: 0.5078 - auc: 0.9151 - loss: 0.3065 - prc: 0.7891 - precision: 0.7580 - recall: 0.6393 - weightedf1score: 0.6610 - weightedf2score: 0.6467 - val_accuracy: 0.5122 - val_auc: 0.9179 - val_loss: 0.3017 - val_prc: 0.8005 - val_precision: 0.7706 - val_recall: 0.6444 - val_weightedf1score: 0.6635 - val_weightedf2score: 0.6501 - learning_rate: 0.0010\n",
      "Epoch 36/100\n",
      "\u001b[1m3550/3550\u001b[0m \u001b[32m━━━━━━━━━━━━━━━━━━━━\u001b[0m\u001b[37m\u001b[0m \u001b[1m269s\u001b[0m 76ms/step - accuracy: 0.5070 - auc: 0.9142 - loss: 0.3079 - prc: 0.7879 - precision: 0.7589 - recall: 0.6361 - weightedf1score: 0.6581 - weightedf2score: 0.6435 - val_accuracy: 0.5070 - val_auc: 0.9195 - val_loss: 0.2994 - val_prc: 0.8030 - val_precision: 0.7626 - val_recall: 0.6675 - val_weightedf1score: 0.6790 - val_weightedf2score: 0.6714 - learning_rate: 0.0010\n",
      "Epoch 37/100\n",
      "\u001b[1m3550/3550\u001b[0m \u001b[32m━━━━━━━━━━━━━━━━━━━━\u001b[0m\u001b[37m\u001b[0m \u001b[1m270s\u001b[0m 76ms/step - accuracy: 0.5078 - auc: 0.9144 - loss: 0.3075 - prc: 0.7876 - precision: 0.7577 - recall: 0.6352 - weightedf1score: 0.6575 - weightedf2score: 0.6428 - val_accuracy: 0.5080 - val_auc: 0.9206 - val_loss: 0.2978 - val_prc: 0.8042 - val_precision: 0.7754 - val_recall: 0.6501 - val_weightedf1score: 0.6729 - val_weightedf2score: 0.6578 - learning_rate: 0.0010\n",
      "Epoch 38/100\n",
      "\u001b[1m3550/3550\u001b[0m \u001b[32m━━━━━━━━━━━━━━━━━━━━\u001b[0m\u001b[37m\u001b[0m \u001b[1m269s\u001b[0m 76ms/step - accuracy: 0.5083 - auc: 0.9154 - loss: 0.3058 - prc: 0.7901 - precision: 0.7599 - recall: 0.6373 - weightedf1score: 0.6599 - weightedf2score: 0.6450 - val_accuracy: 0.5049 - val_auc: 0.9201 - val_loss: 0.2979 - val_prc: 0.8054 - val_precision: 0.7657 - val_recall: 0.6665 - val_weightedf1score: 0.6775 - val_weightedf2score: 0.6702 - learning_rate: 0.0010\n",
      "Epoch 39/100\n",
      "\u001b[1m3550/3550\u001b[0m \u001b[32m━━━━━━━━━━━━━━━━━━━━\u001b[0m\u001b[37m\u001b[0m \u001b[1m271s\u001b[0m 76ms/step - accuracy: 0.5096 - auc: 0.9154 - loss: 0.3061 - prc: 0.7901 - precision: 0.7603 - recall: 0.6391 - weightedf1score: 0.6622 - weightedf2score: 0.6470 - val_accuracy: 0.5214 - val_auc: 0.9199 - val_loss: 0.2988 - val_prc: 0.8033 - val_precision: 0.7703 - val_recall: 0.6565 - val_weightedf1score: 0.6743 - val_weightedf2score: 0.6622 - learning_rate: 0.0010\n",
      "Epoch 40/100\n",
      "\u001b[1m3550/3550\u001b[0m \u001b[32m━━━━━━━━━━━━━━━━━━━━\u001b[0m\u001b[37m\u001b[0m \u001b[1m274s\u001b[0m 77ms/step - accuracy: 0.5103 - auc: 0.9164 - loss: 0.3040 - prc: 0.7919 - precision: 0.7618 - recall: 0.6408 - weightedf1score: 0.6635 - weightedf2score: 0.6485 - val_accuracy: 0.5092 - val_auc: 0.9191 - val_loss: 0.2998 - val_prc: 0.8026 - val_precision: 0.7723 - val_recall: 0.6426 - val_weightedf1score: 0.6642 - val_weightedf2score: 0.6495 - learning_rate: 0.0010\n",
      "Epoch 41/100\n",
      "\u001b[1m3550/3550\u001b[0m \u001b[32m━━━━━━━━━━━━━━━━━━━━\u001b[0m\u001b[37m\u001b[0m \u001b[1m230s\u001b[0m 65ms/step - accuracy: 0.5128 - auc: 0.9171 - loss: 0.3031 - prc: 0.7926 - precision: 0.7610 - recall: 0.6422 - weightedf1score: 0.6643 - weightedf2score: 0.6497 - val_accuracy: 0.5098 - val_auc: 0.9176 - val_loss: 0.3023 - val_prc: 0.7992 - val_precision: 0.7606 - val_recall: 0.6542 - val_weightedf1score: 0.6669 - val_weightedf2score: 0.6574 - learning_rate: 0.0010\n",
      "Epoch 42/100\n",
      "\u001b[1m3550/3550\u001b[0m \u001b[32m━━━━━━━━━━━━━━━━━━━━\u001b[0m\u001b[37m\u001b[0m \u001b[1m227s\u001b[0m 64ms/step - accuracy: 0.5097 - auc: 0.9173 - loss: 0.3030 - prc: 0.7940 - precision: 0.7616 - recall: 0.6442 - weightedf1score: 0.6664 - weightedf2score: 0.6517 - val_accuracy: 0.5157 - val_auc: 0.9200 - val_loss: 0.2989 - val_prc: 0.8043 - val_precision: 0.7824 - val_recall: 0.6329 - val_weightedf1score: 0.6639 - val_weightedf2score: 0.6433 - learning_rate: 0.0010\n",
      "Epoch 43/100\n",
      "\u001b[1m3550/3550\u001b[0m \u001b[32m━━━━━━━━━━━━━━━━━━━━\u001b[0m\u001b[37m\u001b[0m \u001b[1m213s\u001b[0m 60ms/step - accuracy: 0.5108 - auc: 0.9175 - loss: 0.3025 - prc: 0.7938 - precision: 0.7622 - recall: 0.6432 - weightedf1score: 0.6663 - weightedf2score: 0.6510 - val_accuracy: 0.5160 - val_auc: 0.9219 - val_loss: 0.2953 - val_prc: 0.8086 - val_precision: 0.7722 - val_recall: 0.6627 - val_weightedf1score: 0.6804 - val_weightedf2score: 0.6689 - learning_rate: 0.0010\n",
      "Epoch 44/100\n",
      "\u001b[1m3550/3550\u001b[0m \u001b[32m━━━━━━━━━━━━━━━━━━━━\u001b[0m\u001b[37m\u001b[0m \u001b[1m236s\u001b[0m 66ms/step - accuracy: 0.5121 - auc: 0.9178 - loss: 0.3020 - prc: 0.7949 - precision: 0.7625 - recall: 0.6440 - weightedf1score: 0.6671 - weightedf2score: 0.6519 - val_accuracy: 0.5146 - val_auc: 0.9206 - val_loss: 0.2976 - val_prc: 0.8063 - val_precision: 0.7797 - val_recall: 0.6455 - val_weightedf1score: 0.6699 - val_weightedf2score: 0.6538 - learning_rate: 0.0010\n",
      "Epoch 45/100\n",
      "\u001b[1m3550/3550\u001b[0m \u001b[32m━━━━━━━━━━━━━━━━━━━━\u001b[0m\u001b[37m\u001b[0m \u001b[1m257s\u001b[0m 72ms/step - accuracy: 0.5130 - auc: 0.9187 - loss: 0.3004 - prc: 0.7973 - precision: 0.7650 - recall: 0.6466 - weightedf1score: 0.6697 - weightedf2score: 0.6544 - val_accuracy: 0.5105 - val_auc: 0.9210 - val_loss: 0.2966 - val_prc: 0.8068 - val_precision: 0.7720 - val_recall: 0.6594 - val_weightedf1score: 0.6771 - val_weightedf2score: 0.6650 - learning_rate: 0.0010\n",
      "Epoch 46/100\n",
      "\u001b[1m 363/3550\u001b[0m \u001b[32m━━\u001b[0m\u001b[37m━━━━━━━━━━━━━━━━━━\u001b[0m \u001b[1m3:53\u001b[0m 73ms/step - accuracy: 0.5074 - auc: 0.9193 - loss: 0.3012 - prc: 0.7969 - precision: 0.7586 - recall: 0.6477 - weightedf1score: 0.6686 - weightedf2score: 0.6547"
     ]
    }
   ],
   "source": [
    "reload(hyper_model_creator)\n",
    "\n",
    "hypermodel = hyper_model_creator.BuildHyperModel()\n",
    "\n",
    "tuner = kt.Hyperband(\n",
    "    hypermodel,\n",
    "    objective=kt.Objective(trial_metric, direction='max'),\n",
    "    directory=trials_dir.parent,\n",
    "    project_name=trials_dir.name,\n",
    "    hyperband_iterations=3,\n",
    "    max_epochs=100,\n",
    "    overwrite=False,\n",
    ")\n",
    "tuner.search(\n",
    "    verbose=1, \n",
    "    callbacks=callbacks\n",
    ")"
   ]
  },
  {
   "cell_type": "code",
   "execution_count": null,
   "id": "3f8a5eae-e3da-40f1-84e2-85416517d434",
   "metadata": {},
   "outputs": [],
   "source": [
    "# best_hp = tuner.get_best_hyperparameters(num_trials=1)[0]\n",
    "\n",
    "# best_hp.values['units'] = 128\n",
    "# best_hp.values['dropout'] = 0.3\n",
    "\n",
    "# model = tuner.hypermodel.build(best_hp)\n",
    "# model.fit(x_train, y_train, epochs=10, validation_data=(x_val, y_val))"
   ]
  },
  {
   "cell_type": "code",
   "execution_count": null,
   "id": "0520f93f-7fad-441b-b531-d7f86c3c301a",
   "metadata": {},
   "outputs": [],
   "source": [
    "# tuner.results_summary(num_trials=2)"
   ]
  },
  {
   "cell_type": "code",
   "execution_count": null,
   "id": "417ed23a-8cbb-470b-8f32-838a502dca49",
   "metadata": {},
   "outputs": [],
   "source": [
    "# %load_ext tensorboard\n",
    "# tb_path = str(trials_dir.joinpath('board'))\n",
    "# %tensorboard --logdir \"$tb_path\""
   ]
  },
  {
   "cell_type": "code",
   "execution_count": null,
   "id": "52a5da23-ab39-4f18-aa6a-b249e4beadb5",
   "metadata": {},
   "outputs": [],
   "source": []
  },
  {
   "cell_type": "code",
   "execution_count": null,
   "id": "764e4320-e4fe-41f2-95ef-74268cf2479c",
   "metadata": {},
   "outputs": [],
   "source": []
  },
  {
   "cell_type": "code",
   "execution_count": null,
   "id": "b338c2a0-5c4e-4c59-acd4-25f2a07358a7",
   "metadata": {},
   "outputs": [],
   "source": []
  },
  {
   "cell_type": "code",
   "execution_count": null,
   "id": "6f79e0bb-81e2-4f5c-8a37-4d3b30829417",
   "metadata": {},
   "outputs": [],
   "source": []
  },
  {
   "cell_type": "code",
   "execution_count": null,
   "id": "bfb4b030-6eaf-4272-a319-9dd29ede66be",
   "metadata": {},
   "outputs": [],
   "source": []
  },
  {
   "cell_type": "code",
   "execution_count": null,
   "id": "76091152-1e8d-4e97-aa38-06c7e8cf728d",
   "metadata": {},
   "outputs": [],
   "source": []
  }
 ],
 "metadata": {
  "kernelspec": {
   "display_name": "Python 3 (ipykernel)",
   "language": "python",
   "name": "python3"
  },
  "language_info": {
   "codemirror_mode": {
    "name": "ipython",
    "version": 3
   },
   "file_extension": ".py",
   "mimetype": "text/x-python",
   "name": "python",
   "nbconvert_exporter": "python",
   "pygments_lexer": "ipython3",
   "version": "3.10.14"
  }
 },
 "nbformat": 4,
 "nbformat_minor": 5
}
