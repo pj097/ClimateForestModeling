{
 "cells": [
  {
   "cell_type": "code",
   "execution_count": 1,
   "id": "ccc611d4-bd39-465c-8ad1-162c494f92e5",
   "metadata": {},
   "outputs": [],
   "source": [
    "import logging, os\n",
    "logging.disable(logging.WARNING)\n",
    "os.environ['TF_CPP_MIN_LOG_LEVEL'] = '3'\n",
    "os.environ['TF_FORCE_GPU_ALLOW_GROWTH'] = 'true'\n",
    "\n",
    "import tensorflow as tf\n",
    "\n",
    "from pathlib import Path\n",
    "\n",
    "import keras_tuner as kt\n",
    "\n",
    "from importlib import reload\n",
    "import hyper_model_creator\n",
    "import keras_model_creator\n",
    "import sentinel_utils"
   ]
  },
  {
   "cell_type": "code",
   "execution_count": 2,
   "id": "21d4be11-8df6-424a-902b-1eb7820d10ed",
   "metadata": {},
   "outputs": [],
   "source": [
    "trials_dir = Path('trials', 'hyperband_resnet')\n",
    "trial_metric = 'val_weightedf2score'"
   ]
  },
  {
   "cell_type": "code",
   "execution_count": 3,
   "id": "9417f366-257a-44eb-9bc2-f8c76ed6c36d",
   "metadata": {},
   "outputs": [],
   "source": [
    "callbacks = [\n",
    "    tf.keras.callbacks.TensorBoard(trials_dir.joinpath('board')),\n",
    "    tf.keras.callbacks.EarlyStopping(\n",
    "        monitor=trial_metric, patience=20, mode='max'\n",
    "    ),\n",
    "    tf.keras.callbacks.ReduceLROnPlateau(\n",
    "        monitor=trial_metric, factor=0.5, patience=8, min_lr=1e-6,\n",
    "    ),\n",
    "]"
   ]
  },
  {
   "cell_type": "code",
   "execution_count": null,
   "id": "a016b0cf-fd75-4867-a8b2-6f532b25767d",
   "metadata": {},
   "outputs": [
    {
     "name": "stdout",
     "output_type": "stream",
     "text": [
      "Reloading Tuner from trials/hyperband_resnet/tuner0.json\n",
      "\n",
      "Search: Running Trial #435\n",
      "\n",
      "Value             |Best Value So Far |Hyperparameter\n",
      "True              |True              |class_weight\n",
      "2017              |2017_2018_2019    |training_years\n",
      "l2                |l1l2              |kernel_regularizer\n",
      "0.5               |0.5               |spatial_dropout\n",
      "leaky_relu        |leaky_relu        |activation\n",
      "2                 |4                 |pool_size\n",
      "0.1               |0.1               |dropout\n",
      "True              |False             |bias_initializer\n",
      "0.001             |0.01              |learning_rate\n",
      "binary_crossent...|binary_crossent...|loss_function\n",
      "12                |34                |tuner/epochs\n",
      "4                 |12                |tuner/initial_epoch\n",
      "3                 |4                 |tuner/bracket\n",
      "1                 |3                 |tuner/round\n",
      "0420              |0131              |tuner/trial_id\n",
      "\n"
     ]
    },
    {
     "name": "stderr",
     "output_type": "stream",
     "text": [
      "/home/pj/miniconda3/envs/tf/lib/python3.10/site-packages/keras/src/saving/saving_lib.py:415: UserWarning: Skipping variable loading for optimizer 'adam', because it has 2 variables whereas the saved optimizer has 102 variables. \n",
      "  saveable.load_own_variables(weights_store.get(inner_path))\n"
     ]
    },
    {
     "name": "stdout",
     "output_type": "stream",
     "text": [
      "Epoch 5/12\n"
     ]
    },
    {
     "name": "stderr",
     "output_type": "stream",
     "text": [
      "WARNING: All log messages before absl::InitializeLog() is called are written to STDERR\n",
      "I0000 00:00:1724185796.404239    5499 service.cc:145] XLA service 0x7fe3bc02d480 initialized for platform CUDA (this does not guarantee that XLA will be used). Devices:\n",
      "I0000 00:00:1724185796.404302    5499 service.cc:153]   StreamExecutor device (0): NVIDIA GeForce RTX 4070 Ti, Compute Capability 8.9\n"
     ]
    },
    {
     "name": "stdout",
     "output_type": "stream",
     "text": [
      "\u001b[1m   1/3550\u001b[0m \u001b[37m━━━━━━━━━━━━━━━━━━━━\u001b[0m \u001b[1m14:39:10\u001b[0m 15s/step - accuracy: 0.2969 - auc: 0.8108 - loss: 0.6676 - prc: 0.6119 - precision: 0.6447 - recall: 0.4118 - weightedf1score: 0.4315 - weightedf2score: 0.4174"
     ]
    },
    {
     "name": "stderr",
     "output_type": "stream",
     "text": [
      "I0000 00:00:1724185807.419946    5499 device_compiler.h:188] Compiled cluster using XLA!  This line is logged at most once for the lifetime of the process.\n"
     ]
    },
    {
     "name": "stdout",
     "output_type": "stream",
     "text": [
      "\u001b[1m3550/3550\u001b[0m \u001b[32m━━━━━━━━━━━━━━━━━━━━\u001b[0m\u001b[37m\u001b[0m \u001b[1m247s\u001b[0m 65ms/step - accuracy: 0.3847 - auc: 0.8350 - loss: 0.6127 - prc: 0.6289 - precision: 0.6749 - recall: 0.4481 - weightedf1score: 0.4691 - weightedf2score: 0.4557 - val_accuracy: 0.3478 - val_auc: 0.8332 - val_loss: 0.5809 - val_prc: 0.6177 - val_precision: 0.6635 - val_recall: 0.4370 - val_weightedf1score: 0.4667 - val_weightedf2score: 0.4470 - learning_rate: 0.0010\n",
      "Epoch 6/12\n",
      "\u001b[1m3550/3550\u001b[0m \u001b[32m━━━━━━━━━━━━━━━━━━━━\u001b[0m\u001b[37m\u001b[0m \u001b[1m227s\u001b[0m 64ms/step - accuracy: 0.3927 - auc: 0.8410 - loss: 0.5612 - prc: 0.6405 - precision: 0.6850 - recall: 0.4511 - weightedf1score: 0.4781 - weightedf2score: 0.4607 - val_accuracy: 0.4011 - val_auc: 0.8423 - val_loss: 0.5464 - val_prc: 0.6570 - val_precision: 0.7215 - val_recall: 0.4346 - val_weightedf1score: 0.4619 - val_weightedf2score: 0.4438 - learning_rate: 0.0010\n",
      "Epoch 7/12\n",
      "\u001b[1m3550/3550\u001b[0m \u001b[32m━━━━━━━━━━━━━━━━━━━━\u001b[0m\u001b[37m\u001b[0m \u001b[1m233s\u001b[0m 66ms/step - accuracy: 0.3941 - auc: 0.8437 - loss: 0.5332 - prc: 0.6447 - precision: 0.6877 - recall: 0.4535 - weightedf1score: 0.4811 - weightedf2score: 0.4633 - val_accuracy: 0.4069 - val_auc: 0.8318 - val_loss: 0.5363 - val_prc: 0.6466 - val_precision: 0.6822 - val_recall: 0.4644 - val_weightedf1score: 0.4749 - val_weightedf2score: 0.4641 - learning_rate: 0.0010\n",
      "Epoch 8/12\n",
      "\u001b[1m3550/3550\u001b[0m \u001b[32m━━━━━━━━━━━━━━━━━━━━\u001b[0m\u001b[37m\u001b[0m \u001b[1m230s\u001b[0m 65ms/step - accuracy: 0.3995 - auc: 0.8470 - loss: 0.5271 - prc: 0.6536 - precision: 0.6919 - recall: 0.4608 - weightedf1score: 0.4885 - weightedf2score: 0.4705 - val_accuracy: 0.4058 - val_auc: 0.8467 - val_loss: 0.5110 - val_prc: 0.6700 - val_precision: 0.7106 - val_recall: 0.4627 - val_weightedf1score: 0.4933 - val_weightedf2score: 0.4733 - learning_rate: 0.0010\n",
      "Epoch 9/12\n",
      "\u001b[1m3550/3550\u001b[0m \u001b[32m━━━━━━━━━━━━━━━━━━━━\u001b[0m\u001b[37m\u001b[0m \u001b[1m222s\u001b[0m 62ms/step - accuracy: 0.3980 - auc: 0.8482 - loss: 0.5162 - prc: 0.6527 - precision: 0.6896 - recall: 0.4668 - weightedf1score: 0.4937 - weightedf2score: 0.4761 - val_accuracy: 0.3071 - val_auc: 0.8286 - val_loss: 0.5362 - val_prc: 0.6070 - val_precision: 0.6638 - val_recall: 0.3817 - val_weightedf1score: 0.3947 - val_weightedf2score: 0.3833 - learning_rate: 0.0010\n",
      "Epoch 10/12\n",
      "\u001b[1m 781/3550\u001b[0m \u001b[32m━━━━\u001b[0m\u001b[37m━━━━━━━━━━━━━━━━\u001b[0m \u001b[1m2:43\u001b[0m 59ms/step - accuracy: 0.4008 - auc: 0.8490 - loss: 0.5117 - prc: 0.6542 - precision: 0.6906 - recall: 0.4653 - weightedf1score: 0.4921 - weightedf2score: 0.4746"
     ]
    }
   ],
   "source": [
    "reload(hyper_model_creator)\n",
    "\n",
    "hypermodel = hyper_model_creator.BuildHyperModel()\n",
    "\n",
    "tuner = kt.Hyperband(\n",
    "    hypermodel,\n",
    "    objective=kt.Objective(trial_metric, direction='max'),\n",
    "    directory=trials_dir.parent,\n",
    "    project_name=trials_dir.name,\n",
    "    hyperband_iterations=3,\n",
    "    max_epochs=100,\n",
    "    overwrite=False,\n",
    ")\n",
    "tuner.search(\n",
    "    verbose=1, \n",
    "    callbacks=callbacks\n",
    ")"
   ]
  },
  {
   "cell_type": "code",
   "execution_count": null,
   "id": "3f8a5eae-e3da-40f1-84e2-85416517d434",
   "metadata": {},
   "outputs": [],
   "source": [
    "# best_hp = tuner.get_best_hyperparameters(num_trials=1)[0]\n",
    "\n",
    "# best_hp.values['units'] = 128\n",
    "# best_hp.values['dropout'] = 0.3\n",
    "\n",
    "# model = tuner.hypermodel.build(best_hp)\n",
    "# model.fit(x_train, y_train, epochs=10, validation_data=(x_val, y_val))"
   ]
  },
  {
   "cell_type": "code",
   "execution_count": null,
   "id": "0520f93f-7fad-441b-b531-d7f86c3c301a",
   "metadata": {},
   "outputs": [],
   "source": [
    "# tuner.results_summary(num_trials=2)"
   ]
  },
  {
   "cell_type": "code",
   "execution_count": null,
   "id": "417ed23a-8cbb-470b-8f32-838a502dca49",
   "metadata": {},
   "outputs": [],
   "source": [
    "# %load_ext tensorboard\n",
    "# tb_path = str(trials_dir.joinpath('board'))\n",
    "# %tensorboard --logdir \"$tb_path\""
   ]
  },
  {
   "cell_type": "code",
   "execution_count": null,
   "id": "52a5da23-ab39-4f18-aa6a-b249e4beadb5",
   "metadata": {},
   "outputs": [],
   "source": []
  },
  {
   "cell_type": "code",
   "execution_count": null,
   "id": "764e4320-e4fe-41f2-95ef-74268cf2479c",
   "metadata": {},
   "outputs": [],
   "source": []
  },
  {
   "cell_type": "code",
   "execution_count": null,
   "id": "b338c2a0-5c4e-4c59-acd4-25f2a07358a7",
   "metadata": {},
   "outputs": [],
   "source": []
  },
  {
   "cell_type": "code",
   "execution_count": null,
   "id": "6f79e0bb-81e2-4f5c-8a37-4d3b30829417",
   "metadata": {},
   "outputs": [],
   "source": []
  },
  {
   "cell_type": "code",
   "execution_count": null,
   "id": "bfb4b030-6eaf-4272-a319-9dd29ede66be",
   "metadata": {},
   "outputs": [],
   "source": []
  },
  {
   "cell_type": "code",
   "execution_count": null,
   "id": "76091152-1e8d-4e97-aa38-06c7e8cf728d",
   "metadata": {},
   "outputs": [],
   "source": []
  }
 ],
 "metadata": {
  "kernelspec": {
   "display_name": "Python 3 (ipykernel)",
   "language": "python",
   "name": "python3"
  },
  "language_info": {
   "codemirror_mode": {
    "name": "ipython",
    "version": 3
   },
   "file_extension": ".py",
   "mimetype": "text/x-python",
   "name": "python",
   "nbconvert_exporter": "python",
   "pygments_lexer": "ipython3",
   "version": "3.10.14"
  }
 },
 "nbformat": 4,
 "nbformat_minor": 5
}
