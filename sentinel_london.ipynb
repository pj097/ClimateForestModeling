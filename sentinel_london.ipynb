{
 "cells": [
  {
   "cell_type": "code",
   "execution_count": 1,
   "metadata": {},
   "outputs": [],
   "source": [
    "from IPython import display\n",
    "import ee\n",
    "import geemap\n",
    "import geemap.colormaps as cm\n",
    "import pandas as pd\n",
    "import ee\n",
    "import datetime\n",
    "import intake\n",
    "from pathlib import Path\n",
    "import numpy as np\n",
    "import geopandas as gpd"
   ]
  },
  {
   "cell_type": "code",
   "execution_count": 2,
   "metadata": {},
   "outputs": [
    {
     "data": {
      "text/html": [
       "\n",
       "            <style>\n",
       "                .geemap-dark {\n",
       "                    --jp-widgets-color: white;\n",
       "                    --jp-widgets-label-color: white;\n",
       "                    --jp-ui-font-color1: white;\n",
       "                    --jp-layout-color2: #454545;\n",
       "                    background-color: #383838;\n",
       "                }\n",
       "\n",
       "                .geemap-dark .jupyter-button {\n",
       "                    --jp-layout-color3: #383838;\n",
       "                }\n",
       "\n",
       "                .geemap-colab {\n",
       "                    background-color: var(--colab-primary-surface-color, white);\n",
       "                }\n",
       "\n",
       "                .geemap-colab .jupyter-button {\n",
       "                    --jp-layout-color3: var(--colab-primary-surface-color, white);\n",
       "                }\n",
       "            </style>\n",
       "            "
      ],
      "text/plain": [
       "<IPython.core.display.HTML object>"
      ]
     },
     "metadata": {},
     "output_type": "display_data"
    }
   ],
   "source": [
    "ee.Authenticate()\n",
    "ee.Initialize(project='sentinel-treeclassification')"
   ]
  },
  {
   "cell_type": "code",
   "execution_count": 3,
   "metadata": {},
   "outputs": [
    {
     "data": {
      "text/html": [
       "\n",
       "            <style>\n",
       "                .geemap-dark {\n",
       "                    --jp-widgets-color: white;\n",
       "                    --jp-widgets-label-color: white;\n",
       "                    --jp-ui-font-color1: white;\n",
       "                    --jp-layout-color2: #454545;\n",
       "                    background-color: #383838;\n",
       "                }\n",
       "\n",
       "                .geemap-dark .jupyter-button {\n",
       "                    --jp-layout-color3: #383838;\n",
       "                }\n",
       "\n",
       "                .geemap-colab {\n",
       "                    background-color: var(--colab-primary-surface-color, white);\n",
       "                }\n",
       "\n",
       "                .geemap-colab .jupyter-button {\n",
       "                    --jp-layout-color3: var(--colab-primary-surface-color, white);\n",
       "                }\n",
       "            </style>\n",
       "            "
      ],
      "text/plain": [
       "<IPython.core.display.HTML object>"
      ]
     },
     "metadata": {},
     "output_type": "display_data"
    }
   ],
   "source": [
    "target = 'tree_name'\n",
    "usecols = ['latitude', 'longitude'] + [target, 'load_date']\n",
    "df = pd.read_csv(\"data/Borough_tree_list_2021July.csv\", usecols=usecols, parse_dates=['load_date'])\n",
    "df = df.dropna(subset=target)\n",
    "gdf = gpd.GeoDataFrame(\n",
    "    df, geometry=gpd.points_from_xy(x=df['longitude'], y=df['latitude'], crs=4326)\n",
    ")\n",
    "gdf.geometry = gdf.to_crs(epsg=25832).buffer(30, cap_style=3).to_crs(epsg=4326)\n",
    "\n",
    "bbox = ee.Geometry.BBox(*(gdf.geometry.total_bounds + 0.01))"
   ]
  },
  {
   "cell_type": "code",
   "execution_count": 4,
   "metadata": {},
   "outputs": [
    {
     "data": {
      "text/html": [
       "\n",
       "            <style>\n",
       "                .geemap-dark {\n",
       "                    --jp-widgets-color: white;\n",
       "                    --jp-widgets-label-color: white;\n",
       "                    --jp-ui-font-color1: white;\n",
       "                    --jp-layout-color2: #454545;\n",
       "                    background-color: #383838;\n",
       "                }\n",
       "\n",
       "                .geemap-dark .jupyter-button {\n",
       "                    --jp-layout-color3: #383838;\n",
       "                }\n",
       "\n",
       "                .geemap-colab {\n",
       "                    background-color: var(--colab-primary-surface-color, white);\n",
       "                }\n",
       "\n",
       "                .geemap-colab .jupyter-button {\n",
       "                    --jp-layout-color3: var(--colab-primary-surface-color, white);\n",
       "                }\n",
       "            </style>\n",
       "            "
      ],
      "text/plain": [
       "<IPython.core.display.HTML object>"
      ]
     },
     "metadata": {},
     "output_type": "display_data"
    },
    {
     "data": {
      "application/vnd.jupyter.widget-view+json": {
       "model_id": "98cf73867be342cfada924d70874a887",
       "version_major": 2,
       "version_minor": 0
      },
      "text/plain": [
       "Map(center=[51.50293063677617, -0.09558828020161991], controls=(WidgetControl(options=['position', 'transparen…"
      ]
     },
     "execution_count": 4,
     "metadata": {},
     "output_type": "execute_result"
    }
   ],
   "source": [
    "class SentinelGetter:\n",
    "    def mask_s2_clouds(self, image):\n",
    "      # Quality assessment with resolution in meters\n",
    "      qa = image.select('QA60')\n",
    "      # Bits 10 and 11 are clouds and cirrus, respectively.\n",
    "      cloud_bit_mask = 1 << 10\n",
    "      cirrus_bit_mask = 1 << 11\n",
    "      # Both flags should be set to zero, indicating clear conditions.\n",
    "      mask = (\n",
    "          qa.bitwiseAnd(cloud_bit_mask)\n",
    "          .eq(0)\n",
    "          .And(qa.bitwiseAnd(cirrus_bit_mask).eq(0))\n",
    "      )\n",
    "      return image.updateMask(mask)\n",
    "\n",
    "    def get_image(self, start_date, end_date):\n",
    "        selected_bands = [f'B{x}' for x in range(2, 9)] + ['B8A', 'B11', 'B12', 'TCI_R', 'TCI_G', 'TCI_B']\n",
    "        image = (\n",
    "            ee.ImageCollection('COPERNICUS/S2_SR_HARMONIZED')\n",
    "            .filterDate(start_date, end_date)\n",
    "            # Pre-filter to get less cloudy granules.\n",
    "            .filter(ee.Filter.lt('CLOUDY_PIXEL_PERCENTAGE', 20))\n",
    "            .map(self.mask_s2_clouds)\n",
    "            .select(selected_bands)\n",
    "        )\n",
    "        return image\n",
    "\n",
    "rgb_bands = ['B4', 'B3', 'B2']\n",
    "visualization = {\n",
    "    'min': 1,\n",
    "    'max': 3000,\n",
    "    'bands': rgb_bands\n",
    "}\n",
    "\n",
    "month_jump = 3\n",
    "start_date = datetime.datetime(2023, 6, 1)\n",
    "end_month = (start_date.month + month_jump)%12 or 12\n",
    "end_date = start_date.replace(\n",
    "    month=end_month, \n",
    "    year=start_date.year + (start_date.month + month_jump)//13)\n",
    "\n",
    "image = SentinelGetter().get_image(start_date, end_date)\n",
    "m = geemap.geemap.Map()\n",
    "\n",
    "center = (np.array(bbox.getInfo()['coordinates'][0][2]) + np.array(bbox.getInfo()['coordinates'][0][0]))/2\n",
    "\n",
    "m.set_center(*center, 7)\n",
    "\n",
    "style = {\"stroke\": True, \"color\": \"green\",\n",
    "         \"weight\": 2, \"opacity\": 1, \"fillOpacity\": 0.1\n",
    "}\n",
    "\n",
    "m.add_gdf(gdf.head(10000), layer_name='treesat', style=style)\n",
    "\n",
    "m.addLayer(image.median().clip(bbox), visualization, 'RGB')\n",
    "\n",
    "earth_url = 'https://mt1.google.com/vt/lyrs=y&x={x}&y={y}&z={z}'\n",
    "m.add_tile_layer(earth_url, name='Google Earth', attribution='Google')\n",
    "\n",
    "m.addLayerControl(position='topright')\n",
    "m"
   ]
  },
  {
   "cell_type": "code",
   "execution_count": null,
   "metadata": {},
   "outputs": [],
   "source": []
  },
  {
   "cell_type": "code",
   "execution_count": null,
   "metadata": {},
   "outputs": [],
   "source": []
  },
  {
   "cell_type": "code",
   "execution_count": null,
   "metadata": {},
   "outputs": [],
   "source": []
  }
 ],
 "metadata": {
  "kernelspec": {
   "display_name": "Python 3 (ipykernel)",
   "language": "python",
   "name": "python3"
  },
  "language_info": {
   "codemirror_mode": {
    "name": "ipython",
    "version": 3
   },
   "file_extension": ".py",
   "mimetype": "text/x-python",
   "name": "python",
   "nbconvert_exporter": "python",
   "pygments_lexer": "ipython3",
   "version": "3.10.14"
  }
 },
 "nbformat": 4,
 "nbformat_minor": 4
}
