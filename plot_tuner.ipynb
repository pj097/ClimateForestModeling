{
 "cells": [
  {
   "cell_type": "code",
   "execution_count": 11,
   "id": "441015c0-2702-40ea-a3e9-3f1a61be0048",
   "metadata": {},
   "outputs": [],
   "source": [
    "import logging, os\n",
    "logging.disable(logging.WARNING)\n",
    "os.environ['TF_CPP_MIN_LOG_LEVEL'] = '3'\n",
    "os.environ['TF_FORCE_GPU_ALLOW_GROWTH'] = 'true'\n",
    "\n",
    "from pathlib import Path\n",
    "import json\n",
    "import pandas as pd\n",
    "\n",
    "from PIL import ImageFont, Image\n",
    "import visualkeras\n",
    "\n",
    "from plotly.subplots import make_subplots\n",
    "import plotly.graph_objects as go\n",
    "\n",
    "import keras_tuner as kt\n",
    "import tensorflow as tf\n",
    "\n",
    "import hyper_model_creator"
   ]
  },
  {
   "cell_type": "code",
   "execution_count": 12,
   "id": "275f106d-b4d0-4363-a945-a806e0f005dc",
   "metadata": {},
   "outputs": [],
   "source": [
    "figures_dir = Path('report', 'figures', 'figures_tuner')"
   ]
  },
  {
   "cell_type": "code",
   "execution_count": 13,
   "id": "f0540fbb-c399-4a3e-a380-f3fe7c75bb63",
   "metadata": {},
   "outputs": [
    {
     "name": "stdout",
     "output_type": "stream",
     "text": [
      "Reloading Tuner from trials/hyperband_resnet_followup/tuner0.json\n"
     ]
    }
   ],
   "source": [
    "trials_dir = Path('trials', 'hyperband_resnet_followup')\n",
    "trials_metric = 'val_weightedf2score'\n",
    "hypermodel = hyper_model_creator.BuildHyperModel(trials_dir, trials_metric)\n",
    "\n",
    "tuner = kt.Hyperband(\n",
    "    hypermodel,\n",
    "    objective=kt.Objective(trials_metric, direction='max'),\n",
    "    directory=trials_dir.parent,\n",
    "    project_name=trials_dir.name,\n",
    ")\n",
    "hp = tuner.oracle.get_space()"
   ]
  },
  {
   "cell_type": "code",
   "execution_count": 15,
   "id": "8bcf1ebd-714d-4a7d-95e4-824483ba127e",
   "metadata": {},
   "outputs": [],
   "source": [
    "# tuner.get_best_models(num_models=1)"
   ]
  },
  {
   "cell_type": "code",
   "execution_count": 16,
   "id": "483df4f6-e7d8-4f39-9c5f-c05434c85424",
   "metadata": {},
   "outputs": [],
   "source": [
    "rows = []\n",
    "for p in hp.space:\n",
    "    config = p.get_config()\n",
    "    rows.append(config)\n",
    "\n",
    "search_space = pd.DataFrame(rows)[['name', 'values']].fillna('[true, false]').astype('string')\n",
    "for c in search_space.columns: \n",
    "    search_space[c] = search_space[c].str.replace('_', '\\\\_')\n",
    "\n",
    "tex = search_space.to_latex(\n",
    "    index=False,\n",
    "    caption='Summary of initial hyperparameter search space.',\n",
    "    label=f'tab:{trials_dir.name}_params',\n",
    ")\n",
    "tex = tex.split('\\n')\n",
    "tex.insert(3, f'\\centering\\n')\n",
    "\n",
    "with open(figures_dir.joinpath(f'{trials_dir.name}_params.tex'), 'w') as f:\n",
    "    f.write('\\n'.join(tex))"
   ]
  },
  {
   "cell_type": "code",
   "execution_count": 36,
   "id": "d2deed91-57b3-497c-865e-7241059eb986",
   "metadata": {},
   "outputs": [
    {
     "data": {
      "application/vnd.plotly.v1+json": {
       "config": {
        "plotlyServerURL": "https://plot.ly"
       },
       "data": [
        {
         "marker": {
          "color": [
           2,
           2,
           2,
           2,
           2,
           2,
           2,
           2,
           2,
           2,
           2,
           2,
           2,
           2,
           2
          ],
          "colorbar": {
           "tickvals": [
            3,
            1
           ],
           "title": {
            "text": "epochs"
           }
          },
          "colorscale": [
           [
            0,
            "#fec3fe"
           ],
           [
            0.08333333333333333,
            "#febefe"
           ],
           [
            0.16666666666666666,
            "#fea5fd"
           ],
           [
            0.25,
            "#fe88fc"
           ],
           [
            0.3333333333333333,
            "#fc67fd"
           ],
           [
            0.4166666666666667,
            "#f246fe"
           ],
           [
            0.5,
            "#dd2bfd"
           ],
           [
            0.5833333333333334,
            "#bf1cfd"
           ],
           [
            0.6666666666666666,
            "#981cfd"
           ],
           [
            0.75,
            "#6b1cfb"
           ],
           [
            0.8333333333333334,
            "#3c19f0"
           ],
           [
            0.9166666666666666,
            "#1910d8"
           ],
           [
            1,
            "#0508b8"
           ]
          ],
          "showscale": true,
          "size": 3
         },
         "mode": "markers",
         "opacity": 0.8,
         "type": "scatter",
         "x": [
          64,
          128,
          128,
          32,
          32,
          128,
          64,
          32,
          64,
          32,
          64,
          64,
          64,
          32,
          128
         ],
         "xaxis": "x",
         "y": [
          0.5666080117225647,
          0.5482165217399597,
          0.5444399118423462,
          0.5343328714370728,
          0.5252724885940552,
          0.5155627727508545,
          0.5100893974304199,
          0.5047554969787598,
          0.4893122911453247,
          0.48761460185050964,
          0.4774032235145569,
          0.4728877544403076,
          0.45784568786621094,
          0.4577469229698181,
          null
         ],
         "yaxis": "y"
        },
        {
         "marker": {
          "color": "red",
          "size": 7,
          "symbol": "diamond-open"
         },
         "mode": "markers",
         "opacity": 0.6,
         "type": "scatter",
         "x": [
          64
         ],
         "xaxis": "x",
         "y": [
          0.5666080117225647
         ],
         "yaxis": "y"
        },
        {
         "marker": {
          "color": [
           2,
           2,
           2,
           2,
           2,
           2,
           2,
           2,
           2,
           2,
           2,
           2,
           2,
           2,
           2
          ],
          "colorbar": {
           "tickvals": [
            3,
            1
           ],
           "title": {
            "text": "epochs"
           }
          },
          "colorscale": [
           [
            0,
            "#fec3fe"
           ],
           [
            0.08333333333333333,
            "#febefe"
           ],
           [
            0.16666666666666666,
            "#fea5fd"
           ],
           [
            0.25,
            "#fe88fc"
           ],
           [
            0.3333333333333333,
            "#fc67fd"
           ],
           [
            0.4166666666666667,
            "#f246fe"
           ],
           [
            0.5,
            "#dd2bfd"
           ],
           [
            0.5833333333333334,
            "#bf1cfd"
           ],
           [
            0.6666666666666666,
            "#981cfd"
           ],
           [
            0.75,
            "#6b1cfb"
           ],
           [
            0.8333333333333334,
            "#3c19f0"
           ],
           [
            0.9166666666666666,
            "#1910d8"
           ],
           [
            1,
            "#0508b8"
           ]
          ],
          "showscale": true,
          "size": 3
         },
         "mode": "markers",
         "opacity": 0.8,
         "type": "scatter",
         "x": [
          256,
          512,
          256,
          512,
          256,
          1024,
          256,
          1024,
          512,
          1024,
          512,
          512,
          1024,
          512,
          512
         ],
         "xaxis": "x2",
         "y": [
          0.5666080117225647,
          0.5482165217399597,
          0.5444399118423462,
          0.5343328714370728,
          0.5252724885940552,
          0.5155627727508545,
          0.5100893974304199,
          0.5047554969787598,
          0.4893122911453247,
          0.48761460185050964,
          0.4774032235145569,
          0.4728877544403076,
          0.45784568786621094,
          0.4577469229698181,
          null
         ],
         "yaxis": "y2"
        },
        {
         "marker": {
          "color": "red",
          "size": 7,
          "symbol": "diamond-open"
         },
         "mode": "markers",
         "opacity": 0.6,
         "type": "scatter",
         "x": [
          256
         ],
         "xaxis": "x2",
         "y": [
          0.5666080117225647
         ],
         "yaxis": "y2"
        },
        {
         "marker": {
          "color": [
           2,
           2,
           2,
           2,
           2,
           2,
           2,
           2,
           2,
           2,
           2,
           2,
           2,
           2,
           2
          ],
          "colorbar": {
           "tickvals": [
            3,
            1
           ],
           "title": {
            "text": "epochs"
           }
          },
          "colorscale": [
           [
            0,
            "#fec3fe"
           ],
           [
            0.08333333333333333,
            "#febefe"
           ],
           [
            0.16666666666666666,
            "#fea5fd"
           ],
           [
            0.25,
            "#fe88fc"
           ],
           [
            0.3333333333333333,
            "#fc67fd"
           ],
           [
            0.4166666666666667,
            "#f246fe"
           ],
           [
            0.5,
            "#dd2bfd"
           ],
           [
            0.5833333333333334,
            "#bf1cfd"
           ],
           [
            0.6666666666666666,
            "#981cfd"
           ],
           [
            0.75,
            "#6b1cfb"
           ],
           [
            0.8333333333333334,
            "#3c19f0"
           ],
           [
            0.9166666666666666,
            "#1910d8"
           ],
           [
            1,
            "#0508b8"
           ]
          ],
          "showscale": true,
          "size": 3
         },
         "mode": "markers",
         "opacity": 0.8,
         "type": "scatter",
         "x": [
          4,
          4,
          4,
          4,
          4,
          4,
          4,
          4,
          4,
          4,
          4,
          4,
          4,
          4,
          4
         ],
         "xaxis": "x3",
         "y": [
          0.5666080117225647,
          0.5482165217399597,
          0.5444399118423462,
          0.5343328714370728,
          0.5252724885940552,
          0.5155627727508545,
          0.5100893974304199,
          0.5047554969787598,
          0.4893122911453247,
          0.48761460185050964,
          0.4774032235145569,
          0.4728877544403076,
          0.45784568786621094,
          0.4577469229698181,
          null
         ],
         "yaxis": "y3"
        },
        {
         "marker": {
          "color": "red",
          "size": 7,
          "symbol": "diamond-open"
         },
         "mode": "markers",
         "opacity": 0.6,
         "type": "scatter",
         "x": [
          4
         ],
         "xaxis": "x3",
         "y": [
          0.5666080117225647
         ],
         "yaxis": "y3"
        },
        {
         "marker": {
          "color": [
           2,
           2,
           2,
           2,
           2,
           2,
           2,
           2,
           2,
           2,
           2,
           2,
           2,
           2,
           2
          ],
          "colorbar": {
           "tickvals": [
            3,
            1
           ],
           "title": {
            "text": "epochs"
           }
          },
          "colorscale": [
           [
            0,
            "#fec3fe"
           ],
           [
            0.08333333333333333,
            "#febefe"
           ],
           [
            0.16666666666666666,
            "#fea5fd"
           ],
           [
            0.25,
            "#fe88fc"
           ],
           [
            0.3333333333333333,
            "#fc67fd"
           ],
           [
            0.4166666666666667,
            "#f246fe"
           ],
           [
            0.5,
            "#dd2bfd"
           ],
           [
            0.5833333333333334,
            "#bf1cfd"
           ],
           [
            0.6666666666666666,
            "#981cfd"
           ],
           [
            0.75,
            "#6b1cfb"
           ],
           [
            0.8333333333333334,
            "#3c19f0"
           ],
           [
            0.9166666666666666,
            "#1910d8"
           ],
           [
            1,
            "#0508b8"
           ]
          ],
          "showscale": true,
          "size": 3
         },
         "mode": "markers",
         "opacity": 0.8,
         "type": "scatter",
         "x": [
          256,
          128,
          256,
          256,
          256,
          256,
          256,
          256,
          128,
          128,
          256,
          64,
          128,
          64,
          64
         ],
         "xaxis": "x4",
         "y": [
          0.5666080117225647,
          0.5482165217399597,
          0.5444399118423462,
          0.5343328714370728,
          0.5252724885940552,
          0.5155627727508545,
          0.5100893974304199,
          0.5047554969787598,
          0.4893122911453247,
          0.48761460185050964,
          0.4774032235145569,
          0.4728877544403076,
          0.45784568786621094,
          0.4577469229698181,
          null
         ],
         "yaxis": "y4"
        },
        {
         "marker": {
          "color": "red",
          "size": 7,
          "symbol": "diamond-open"
         },
         "mode": "markers",
         "opacity": 0.6,
         "type": "scatter",
         "x": [
          256
         ],
         "xaxis": "x4",
         "y": [
          0.5666080117225647
         ],
         "yaxis": "y4"
        },
        {
         "marker": {
          "color": [
           2,
           2,
           2,
           2,
           2,
           2,
           2,
           2,
           2,
           2,
           2,
           2,
           2,
           2,
           2
          ],
          "colorbar": {
           "tickvals": [
            3,
            1
           ],
           "title": {
            "text": "epochs"
           }
          },
          "colorscale": [
           [
            0,
            "#fec3fe"
           ],
           [
            0.08333333333333333,
            "#febefe"
           ],
           [
            0.16666666666666666,
            "#fea5fd"
           ],
           [
            0.25,
            "#fe88fc"
           ],
           [
            0.3333333333333333,
            "#fc67fd"
           ],
           [
            0.4166666666666667,
            "#f246fe"
           ],
           [
            0.5,
            "#dd2bfd"
           ],
           [
            0.5833333333333334,
            "#bf1cfd"
           ],
           [
            0.6666666666666666,
            "#981cfd"
           ],
           [
            0.75,
            "#6b1cfb"
           ],
           [
            0.8333333333333334,
            "#3c19f0"
           ],
           [
            0.9166666666666666,
            "#1910d8"
           ],
           [
            1,
            "#0508b8"
           ]
          ],
          "showscale": true,
          "size": 3
         },
         "mode": "markers",
         "opacity": 0.8,
         "type": "scatter",
         "x": [
          1024,
          512,
          1024,
          1024,
          1024,
          2048,
          512,
          512,
          1024,
          2048,
          512,
          2048,
          2048,
          2048,
          1024
         ],
         "xaxis": "x5",
         "y": [
          0.5666080117225647,
          0.5482165217399597,
          0.5444399118423462,
          0.5343328714370728,
          0.5252724885940552,
          0.5155627727508545,
          0.5100893974304199,
          0.5047554969787598,
          0.4893122911453247,
          0.48761460185050964,
          0.4774032235145569,
          0.4728877544403076,
          0.45784568786621094,
          0.4577469229698181,
          null
         ],
         "yaxis": "y5"
        },
        {
         "marker": {
          "color": "red",
          "size": 7,
          "symbol": "diamond-open"
         },
         "mode": "markers",
         "opacity": 0.6,
         "type": "scatter",
         "x": [
          1024
         ],
         "xaxis": "x5",
         "y": [
          0.5666080117225647
         ],
         "yaxis": "y5"
        },
        {
         "marker": {
          "color": [
           2,
           2,
           2,
           2,
           2,
           2,
           2,
           2,
           2,
           2,
           2,
           2,
           2,
           2,
           2
          ],
          "colorbar": {
           "tickvals": [
            3,
            1
           ],
           "title": {
            "text": "epochs"
           }
          },
          "colorscale": [
           [
            0,
            "#fec3fe"
           ],
           [
            0.08333333333333333,
            "#febefe"
           ],
           [
            0.16666666666666666,
            "#fea5fd"
           ],
           [
            0.25,
            "#fe88fc"
           ],
           [
            0.3333333333333333,
            "#fc67fd"
           ],
           [
            0.4166666666666667,
            "#f246fe"
           ],
           [
            0.5,
            "#dd2bfd"
           ],
           [
            0.5833333333333334,
            "#bf1cfd"
           ],
           [
            0.6666666666666666,
            "#981cfd"
           ],
           [
            0.75,
            "#6b1cfb"
           ],
           [
            0.8333333333333334,
            "#3c19f0"
           ],
           [
            0.9166666666666666,
            "#1910d8"
           ],
           [
            1,
            "#0508b8"
           ]
          ],
          "showscale": true,
          "size": 3
         },
         "mode": "markers",
         "opacity": 0.8,
         "type": "scatter",
         "x": [
          4,
          4,
          4,
          4,
          4,
          4,
          4,
          4,
          4,
          4,
          4,
          4,
          4,
          4,
          4
         ],
         "xaxis": "x6",
         "y": [
          0.5666080117225647,
          0.5482165217399597,
          0.5444399118423462,
          0.5343328714370728,
          0.5252724885940552,
          0.5155627727508545,
          0.5100893974304199,
          0.5047554969787598,
          0.4893122911453247,
          0.48761460185050964,
          0.4774032235145569,
          0.4728877544403076,
          0.45784568786621094,
          0.4577469229698181,
          null
         ],
         "yaxis": "y6"
        },
        {
         "marker": {
          "color": "red",
          "size": 7,
          "symbol": "diamond-open"
         },
         "mode": "markers",
         "opacity": 0.6,
         "type": "scatter",
         "x": [
          4
         ],
         "xaxis": "x6",
         "y": [
          0.5666080117225647
         ],
         "yaxis": "y6"
        }
       ],
       "layout": {
        "annotations": [
         {
          "font": {
           "size": 16
          },
          "showarrow": false,
          "text": "filter<br>size<br>min",
          "x": 0.14444444444444446,
          "xanchor": "center",
          "xref": "paper",
          "y": 0.9999999999999999,
          "yanchor": "bottom",
          "yref": "paper"
         },
         {
          "font": {
           "size": 16
          },
          "showarrow": false,
          "text": "filter<br>size<br>max",
          "x": 0.5,
          "xanchor": "center",
          "xref": "paper",
          "y": 0.9999999999999999,
          "yanchor": "bottom",
          "yref": "paper"
         },
         {
          "font": {
           "size": 16
          },
          "showarrow": false,
          "text": "convolutional<br>layers",
          "x": 0.8555555555555556,
          "xanchor": "center",
          "xref": "paper",
          "y": 0.9999999999999999,
          "yanchor": "bottom",
          "yref": "paper"
         },
         {
          "font": {
           "size": 16
          },
          "showarrow": false,
          "text": "units<br>min",
          "x": 0.14444444444444446,
          "xanchor": "center",
          "xref": "paper",
          "y": 0.35,
          "yanchor": "bottom",
          "yref": "paper"
         },
         {
          "font": {
           "size": 16
          },
          "showarrow": false,
          "text": "units<br>max",
          "x": 0.5,
          "xanchor": "center",
          "xref": "paper",
          "y": 0.35,
          "yanchor": "bottom",
          "yref": "paper"
         },
         {
          "font": {
           "size": 16
          },
          "showarrow": false,
          "text": "dense<br>layers",
          "x": 0.8555555555555556,
          "xanchor": "center",
          "xref": "paper",
          "y": 0.35,
          "yanchor": "bottom",
          "yref": "paper"
         },
         {
          "font": {
           "size": 16
          },
          "showarrow": false,
          "text": "score",
          "textangle": -90,
          "x": 0,
          "xanchor": "right",
          "xref": "paper",
          "xshift": -40,
          "y": 0.5,
          "yanchor": "middle",
          "yref": "paper"
         }
        ],
        "height": 500,
        "margin": {
         "b": 80,
         "l": 80,
         "r": 80,
         "t": 100
        },
        "showlegend": false,
        "template": {
         "data": {
          "bar": [
           {
            "error_x": {
             "color": "#2a3f5f"
            },
            "error_y": {
             "color": "#2a3f5f"
            },
            "marker": {
             "line": {
              "color": "#E5ECF6",
              "width": 0.5
             },
             "pattern": {
              "fillmode": "overlay",
              "size": 10,
              "solidity": 0.2
             }
            },
            "type": "bar"
           }
          ],
          "barpolar": [
           {
            "marker": {
             "line": {
              "color": "#E5ECF6",
              "width": 0.5
             },
             "pattern": {
              "fillmode": "overlay",
              "size": 10,
              "solidity": 0.2
             }
            },
            "type": "barpolar"
           }
          ],
          "carpet": [
           {
            "aaxis": {
             "endlinecolor": "#2a3f5f",
             "gridcolor": "white",
             "linecolor": "white",
             "minorgridcolor": "white",
             "startlinecolor": "#2a3f5f"
            },
            "baxis": {
             "endlinecolor": "#2a3f5f",
             "gridcolor": "white",
             "linecolor": "white",
             "minorgridcolor": "white",
             "startlinecolor": "#2a3f5f"
            },
            "type": "carpet"
           }
          ],
          "choropleth": [
           {
            "colorbar": {
             "outlinewidth": 0,
             "ticks": ""
            },
            "type": "choropleth"
           }
          ],
          "contour": [
           {
            "colorbar": {
             "outlinewidth": 0,
             "ticks": ""
            },
            "colorscale": [
             [
              0,
              "#0d0887"
             ],
             [
              0.1111111111111111,
              "#46039f"
             ],
             [
              0.2222222222222222,
              "#7201a8"
             ],
             [
              0.3333333333333333,
              "#9c179e"
             ],
             [
              0.4444444444444444,
              "#bd3786"
             ],
             [
              0.5555555555555556,
              "#d8576b"
             ],
             [
              0.6666666666666666,
              "#ed7953"
             ],
             [
              0.7777777777777778,
              "#fb9f3a"
             ],
             [
              0.8888888888888888,
              "#fdca26"
             ],
             [
              1,
              "#f0f921"
             ]
            ],
            "type": "contour"
           }
          ],
          "contourcarpet": [
           {
            "colorbar": {
             "outlinewidth": 0,
             "ticks": ""
            },
            "type": "contourcarpet"
           }
          ],
          "heatmap": [
           {
            "colorbar": {
             "outlinewidth": 0,
             "ticks": ""
            },
            "colorscale": [
             [
              0,
              "#0d0887"
             ],
             [
              0.1111111111111111,
              "#46039f"
             ],
             [
              0.2222222222222222,
              "#7201a8"
             ],
             [
              0.3333333333333333,
              "#9c179e"
             ],
             [
              0.4444444444444444,
              "#bd3786"
             ],
             [
              0.5555555555555556,
              "#d8576b"
             ],
             [
              0.6666666666666666,
              "#ed7953"
             ],
             [
              0.7777777777777778,
              "#fb9f3a"
             ],
             [
              0.8888888888888888,
              "#fdca26"
             ],
             [
              1,
              "#f0f921"
             ]
            ],
            "type": "heatmap"
           }
          ],
          "heatmapgl": [
           {
            "colorbar": {
             "outlinewidth": 0,
             "ticks": ""
            },
            "colorscale": [
             [
              0,
              "#0d0887"
             ],
             [
              0.1111111111111111,
              "#46039f"
             ],
             [
              0.2222222222222222,
              "#7201a8"
             ],
             [
              0.3333333333333333,
              "#9c179e"
             ],
             [
              0.4444444444444444,
              "#bd3786"
             ],
             [
              0.5555555555555556,
              "#d8576b"
             ],
             [
              0.6666666666666666,
              "#ed7953"
             ],
             [
              0.7777777777777778,
              "#fb9f3a"
             ],
             [
              0.8888888888888888,
              "#fdca26"
             ],
             [
              1,
              "#f0f921"
             ]
            ],
            "type": "heatmapgl"
           }
          ],
          "histogram": [
           {
            "marker": {
             "pattern": {
              "fillmode": "overlay",
              "size": 10,
              "solidity": 0.2
             }
            },
            "type": "histogram"
           }
          ],
          "histogram2d": [
           {
            "colorbar": {
             "outlinewidth": 0,
             "ticks": ""
            },
            "colorscale": [
             [
              0,
              "#0d0887"
             ],
             [
              0.1111111111111111,
              "#46039f"
             ],
             [
              0.2222222222222222,
              "#7201a8"
             ],
             [
              0.3333333333333333,
              "#9c179e"
             ],
             [
              0.4444444444444444,
              "#bd3786"
             ],
             [
              0.5555555555555556,
              "#d8576b"
             ],
             [
              0.6666666666666666,
              "#ed7953"
             ],
             [
              0.7777777777777778,
              "#fb9f3a"
             ],
             [
              0.8888888888888888,
              "#fdca26"
             ],
             [
              1,
              "#f0f921"
             ]
            ],
            "type": "histogram2d"
           }
          ],
          "histogram2dcontour": [
           {
            "colorbar": {
             "outlinewidth": 0,
             "ticks": ""
            },
            "colorscale": [
             [
              0,
              "#0d0887"
             ],
             [
              0.1111111111111111,
              "#46039f"
             ],
             [
              0.2222222222222222,
              "#7201a8"
             ],
             [
              0.3333333333333333,
              "#9c179e"
             ],
             [
              0.4444444444444444,
              "#bd3786"
             ],
             [
              0.5555555555555556,
              "#d8576b"
             ],
             [
              0.6666666666666666,
              "#ed7953"
             ],
             [
              0.7777777777777778,
              "#fb9f3a"
             ],
             [
              0.8888888888888888,
              "#fdca26"
             ],
             [
              1,
              "#f0f921"
             ]
            ],
            "type": "histogram2dcontour"
           }
          ],
          "mesh3d": [
           {
            "colorbar": {
             "outlinewidth": 0,
             "ticks": ""
            },
            "type": "mesh3d"
           }
          ],
          "parcoords": [
           {
            "line": {
             "colorbar": {
              "outlinewidth": 0,
              "ticks": ""
             }
            },
            "type": "parcoords"
           }
          ],
          "pie": [
           {
            "automargin": true,
            "type": "pie"
           }
          ],
          "scatter": [
           {
            "fillpattern": {
             "fillmode": "overlay",
             "size": 10,
             "solidity": 0.2
            },
            "type": "scatter"
           }
          ],
          "scatter3d": [
           {
            "line": {
             "colorbar": {
              "outlinewidth": 0,
              "ticks": ""
             }
            },
            "marker": {
             "colorbar": {
              "outlinewidth": 0,
              "ticks": ""
             }
            },
            "type": "scatter3d"
           }
          ],
          "scattercarpet": [
           {
            "marker": {
             "colorbar": {
              "outlinewidth": 0,
              "ticks": ""
             }
            },
            "type": "scattercarpet"
           }
          ],
          "scattergeo": [
           {
            "marker": {
             "colorbar": {
              "outlinewidth": 0,
              "ticks": ""
             }
            },
            "type": "scattergeo"
           }
          ],
          "scattergl": [
           {
            "marker": {
             "colorbar": {
              "outlinewidth": 0,
              "ticks": ""
             }
            },
            "type": "scattergl"
           }
          ],
          "scattermapbox": [
           {
            "marker": {
             "colorbar": {
              "outlinewidth": 0,
              "ticks": ""
             }
            },
            "type": "scattermapbox"
           }
          ],
          "scatterpolar": [
           {
            "marker": {
             "colorbar": {
              "outlinewidth": 0,
              "ticks": ""
             }
            },
            "type": "scatterpolar"
           }
          ],
          "scatterpolargl": [
           {
            "marker": {
             "colorbar": {
              "outlinewidth": 0,
              "ticks": ""
             }
            },
            "type": "scatterpolargl"
           }
          ],
          "scatterternary": [
           {
            "marker": {
             "colorbar": {
              "outlinewidth": 0,
              "ticks": ""
             }
            },
            "type": "scatterternary"
           }
          ],
          "surface": [
           {
            "colorbar": {
             "outlinewidth": 0,
             "ticks": ""
            },
            "colorscale": [
             [
              0,
              "#0d0887"
             ],
             [
              0.1111111111111111,
              "#46039f"
             ],
             [
              0.2222222222222222,
              "#7201a8"
             ],
             [
              0.3333333333333333,
              "#9c179e"
             ],
             [
              0.4444444444444444,
              "#bd3786"
             ],
             [
              0.5555555555555556,
              "#d8576b"
             ],
             [
              0.6666666666666666,
              "#ed7953"
             ],
             [
              0.7777777777777778,
              "#fb9f3a"
             ],
             [
              0.8888888888888888,
              "#fdca26"
             ],
             [
              1,
              "#f0f921"
             ]
            ],
            "type": "surface"
           }
          ],
          "table": [
           {
            "cells": {
             "fill": {
              "color": "#EBF0F8"
             },
             "line": {
              "color": "white"
             }
            },
            "header": {
             "fill": {
              "color": "#C8D4E3"
             },
             "line": {
              "color": "white"
             }
            },
            "type": "table"
           }
          ]
         },
         "layout": {
          "annotationdefaults": {
           "arrowcolor": "#2a3f5f",
           "arrowhead": 0,
           "arrowwidth": 1
          },
          "autotypenumbers": "strict",
          "coloraxis": {
           "colorbar": {
            "outlinewidth": 0,
            "ticks": ""
           }
          },
          "colorscale": {
           "diverging": [
            [
             0,
             "#8e0152"
            ],
            [
             0.1,
             "#c51b7d"
            ],
            [
             0.2,
             "#de77ae"
            ],
            [
             0.3,
             "#f1b6da"
            ],
            [
             0.4,
             "#fde0ef"
            ],
            [
             0.5,
             "#f7f7f7"
            ],
            [
             0.6,
             "#e6f5d0"
            ],
            [
             0.7,
             "#b8e186"
            ],
            [
             0.8,
             "#7fbc41"
            ],
            [
             0.9,
             "#4d9221"
            ],
            [
             1,
             "#276419"
            ]
           ],
           "sequential": [
            [
             0,
             "#0d0887"
            ],
            [
             0.1111111111111111,
             "#46039f"
            ],
            [
             0.2222222222222222,
             "#7201a8"
            ],
            [
             0.3333333333333333,
             "#9c179e"
            ],
            [
             0.4444444444444444,
             "#bd3786"
            ],
            [
             0.5555555555555556,
             "#d8576b"
            ],
            [
             0.6666666666666666,
             "#ed7953"
            ],
            [
             0.7777777777777778,
             "#fb9f3a"
            ],
            [
             0.8888888888888888,
             "#fdca26"
            ],
            [
             1,
             "#f0f921"
            ]
           ],
           "sequentialminus": [
            [
             0,
             "#0d0887"
            ],
            [
             0.1111111111111111,
             "#46039f"
            ],
            [
             0.2222222222222222,
             "#7201a8"
            ],
            [
             0.3333333333333333,
             "#9c179e"
            ],
            [
             0.4444444444444444,
             "#bd3786"
            ],
            [
             0.5555555555555556,
             "#d8576b"
            ],
            [
             0.6666666666666666,
             "#ed7953"
            ],
            [
             0.7777777777777778,
             "#fb9f3a"
            ],
            [
             0.8888888888888888,
             "#fdca26"
            ],
            [
             1,
             "#f0f921"
            ]
           ]
          },
          "colorway": [
           "#636efa",
           "#EF553B",
           "#00cc96",
           "#ab63fa",
           "#FFA15A",
           "#19d3f3",
           "#FF6692",
           "#B6E880",
           "#FF97FF",
           "#FECB52"
          ],
          "font": {
           "color": "#2a3f5f"
          },
          "geo": {
           "bgcolor": "white",
           "lakecolor": "white",
           "landcolor": "#E5ECF6",
           "showlakes": true,
           "showland": true,
           "subunitcolor": "white"
          },
          "hoverlabel": {
           "align": "left"
          },
          "hovermode": "closest",
          "mapbox": {
           "style": "light"
          },
          "paper_bgcolor": "white",
          "plot_bgcolor": "#E5ECF6",
          "polar": {
           "angularaxis": {
            "gridcolor": "white",
            "linecolor": "white",
            "ticks": ""
           },
           "bgcolor": "#E5ECF6",
           "radialaxis": {
            "gridcolor": "white",
            "linecolor": "white",
            "ticks": ""
           }
          },
          "scene": {
           "xaxis": {
            "backgroundcolor": "#E5ECF6",
            "gridcolor": "white",
            "gridwidth": 2,
            "linecolor": "white",
            "showbackground": true,
            "ticks": "",
            "zerolinecolor": "white"
           },
           "yaxis": {
            "backgroundcolor": "#E5ECF6",
            "gridcolor": "white",
            "gridwidth": 2,
            "linecolor": "white",
            "showbackground": true,
            "ticks": "",
            "zerolinecolor": "white"
           },
           "zaxis": {
            "backgroundcolor": "#E5ECF6",
            "gridcolor": "white",
            "gridwidth": 2,
            "linecolor": "white",
            "showbackground": true,
            "ticks": "",
            "zerolinecolor": "white"
           }
          },
          "shapedefaults": {
           "line": {
            "color": "#2a3f5f"
           }
          },
          "ternary": {
           "aaxis": {
            "gridcolor": "white",
            "linecolor": "white",
            "ticks": ""
           },
           "baxis": {
            "gridcolor": "white",
            "linecolor": "white",
            "ticks": ""
           },
           "bgcolor": "#E5ECF6",
           "caxis": {
            "gridcolor": "white",
            "linecolor": "white",
            "ticks": ""
           }
          },
          "title": {
           "x": 0.05
          },
          "xaxis": {
           "automargin": true,
           "gridcolor": "white",
           "linecolor": "white",
           "ticks": "",
           "title": {
            "standoff": 15
           },
           "zerolinecolor": "white",
           "zerolinewidth": 2
          },
          "yaxis": {
           "automargin": true,
           "gridcolor": "white",
           "linecolor": "white",
           "ticks": "",
           "title": {
            "standoff": 15
           },
           "zerolinecolor": "white",
           "zerolinewidth": 2
          }
         }
        },
        "width": 700,
        "xaxis": {
         "anchor": "y",
         "autorange": true,
         "domain": [
          0,
          0.2888888888888889
         ],
         "range": [
          24.229128580134066,
          135.77087141986593
         ],
         "tickangle": -60,
         "tickformat": ".1r",
         "tickvals": [
          64,
          128,
          32
         ],
         "type": "linear"
        },
        "xaxis2": {
         "anchor": "y2",
         "autorange": true,
         "domain": [
          0.35555555555555557,
          0.6444444444444445
         ],
         "range": [
          185.04599515030213,
          1086.8249874908588
         ],
         "tickangle": -60,
         "tickformat": ".1r",
         "tickvals": [
          256,
          512,
          1024
         ],
         "type": "linear"
        },
        "xaxis3": {
         "anchor": "y3",
         "autorange": true,
         "domain": [
          0.7111111111111111,
          1
         ],
         "range": [
          3,
          5
         ],
         "tickangle": -60,
         "tickformat": ".1r",
         "tickvals": [
          4
         ],
         "type": "linear"
        },
        "xaxis4": {
         "anchor": "y4",
         "autorange": true,
         "domain": [
          0,
          0.2888888888888889
         ],
         "range": [
          48.29375312728533,
          273.73850121242447
         ],
         "tickangle": -60,
         "tickformat": ".1r",
         "tickvals": [
          256,
          128,
          64
         ],
         "type": "linear"
        },
        "xaxis5": {
         "anchor": "y5",
         "autorange": true,
         "domain": [
          0.35555555555555557,
          0.6444444444444445
         ],
         "range": [
          387.66605728214506,
          2172.333942717855
         ],
         "tickangle": -60,
         "tickformat": ".1r",
         "tickvals": [
          1024,
          512,
          2048
         ],
         "type": "linear"
        },
        "xaxis6": {
         "anchor": "y6",
         "autorange": true,
         "domain": [
          0.7111111111111111,
          1
         ],
         "range": [
          3,
          5
         ],
         "tickangle": -60,
         "tickformat": ".1r",
         "tickvals": [
          4
         ],
         "type": "linear"
        },
        "yaxis": {
         "anchor": "x",
         "domain": [
          0.6499999999999999,
          0.9999999999999999
         ],
         "matches": "y4",
         "range": [
          0.5,
          0.71
         ],
         "tickvals": [
          0.6,
          0.7
         ],
         "type": "linear"
        },
        "yaxis2": {
         "anchor": "x2",
         "domain": [
          0.6499999999999999,
          0.9999999999999999
         ],
         "matches": "y4",
         "range": [
          0.5,
          0.71
         ],
         "showticklabels": false,
         "tickvals": [
          0.6,
          0.7
         ],
         "type": "linear"
        },
        "yaxis3": {
         "anchor": "x3",
         "domain": [
          0.6499999999999999,
          0.9999999999999999
         ],
         "matches": "y4",
         "range": [
          0.5,
          0.71
         ],
         "showticklabels": false,
         "tickvals": [
          0.6,
          0.7
         ],
         "type": "linear"
        },
        "yaxis4": {
         "anchor": "x4",
         "domain": [
          0,
          0.35
         ],
         "range": [
          0.5,
          0.71
         ],
         "tickvals": [
          0.6,
          0.7
         ],
         "type": "linear"
        },
        "yaxis5": {
         "anchor": "x5",
         "domain": [
          0,
          0.35
         ],
         "matches": "y4",
         "range": [
          0.5,
          0.71
         ],
         "showticklabels": false,
         "tickvals": [
          0.6,
          0.7
         ],
         "type": "linear"
        },
        "yaxis6": {
         "anchor": "x6",
         "domain": [
          0,
          0.35
         ],
         "matches": "y4",
         "range": [
          0.5,
          0.71
         ],
         "showticklabels": false,
         "tickvals": [
          0.6,
          0.7
         ],
         "type": "linear"
        }
       }
      },
      "image/png": "[encoded data removed]",
      "text/html": [
       "<div>                            <div id=\"49f26f5c-cb01-43d1-b4b1-5a72dfbd17bf\" class=\"plotly-graph-div\" style=\"height:500px; width:700px;\"></div>            <script type=\"text/javascript\">                require([\"plotly\"], function(Plotly) {                    window.PLOTLYENV=window.PLOTLYENV || {};                                    if (document.getElementById(\"49f26f5c-cb01-43d1-b4b1-5a72dfbd17bf\")) {                    Plotly.newPlot(                        \"49f26f5c-cb01-43d1-b4b1-5a72dfbd17bf\",                        [{\"marker\":{\"color\":[2,2,2,2,2,2,2,2,2,2,2,2,2,2,2],\"colorbar\":{\"tickvals\":[3,1],\"title\":{\"text\":\"epochs\"}},\"colorscale\":[[0.0,\"#fec3fe\"],[0.08333333333333333,\"#febefe\"],[0.16666666666666666,\"#fea5fd\"],[0.25,\"#fe88fc\"],[0.3333333333333333,\"#fc67fd\"],[0.4166666666666667,\"#f246fe\"],[0.5,\"#dd2bfd\"],[0.5833333333333334,\"#bf1cfd\"],[0.6666666666666666,\"#981cfd\"],[0.75,\"#6b1cfb\"],[0.8333333333333334,\"#3c19f0\"],[0.9166666666666666,\"#1910d8\"],[1.0,\"#0508b8\"]],\"showscale\":true,\"size\":3},\"mode\":\"markers\",\"opacity\":0.8,\"x\":[64,128,128,32,32,128,64,32,64,32,64,64,64,32,128],\"y\":[0.5666080117225647,0.5482165217399597,0.5444399118423462,0.5343328714370728,0.5252724885940552,0.5155627727508545,0.5100893974304199,0.5047554969787598,0.4893122911453247,0.48761460185050964,0.4774032235145569,0.4728877544403076,0.45784568786621094,0.4577469229698181,null],\"type\":\"scatter\",\"xaxis\":\"x\",\"yaxis\":\"y\"},{\"marker\":{\"color\":\"red\",\"size\":7,\"symbol\":\"diamond-open\"},\"mode\":\"markers\",\"opacity\":0.6,\"x\":[64],\"y\":[0.5666080117225647],\"type\":\"scatter\",\"xaxis\":\"x\",\"yaxis\":\"y\"},{\"marker\":{\"color\":[2,2,2,2,2,2,2,2,2,2,2,2,2,2,2],\"colorbar\":{\"tickvals\":[3,1],\"title\":{\"text\":\"epochs\"}},\"colorscale\":[[0.0,\"#fec3fe\"],[0.08333333333333333,\"#febefe\"],[0.16666666666666666,\"#fea5fd\"],[0.25,\"#fe88fc\"],[0.3333333333333333,\"#fc67fd\"],[0.4166666666666667,\"#f246fe\"],[0.5,\"#dd2bfd\"],[0.5833333333333334,\"#bf1cfd\"],[0.6666666666666666,\"#981cfd\"],[0.75,\"#6b1cfb\"],[0.8333333333333334,\"#3c19f0\"],[0.9166666666666666,\"#1910d8\"],[1.0,\"#0508b8\"]],\"showscale\":true,\"size\":3},\"mode\":\"markers\",\"opacity\":0.8,\"x\":[256,512,256,512,256,1024,256,1024,512,1024,512,512,1024,512,512],\"y\":[0.5666080117225647,0.5482165217399597,0.5444399118423462,0.5343328714370728,0.5252724885940552,0.5155627727508545,0.5100893974304199,0.5047554969787598,0.4893122911453247,0.48761460185050964,0.4774032235145569,0.4728877544403076,0.45784568786621094,0.4577469229698181,null],\"type\":\"scatter\",\"xaxis\":\"x2\",\"yaxis\":\"y2\"},{\"marker\":{\"color\":\"red\",\"size\":7,\"symbol\":\"diamond-open\"},\"mode\":\"markers\",\"opacity\":0.6,\"x\":[256],\"y\":[0.5666080117225647],\"type\":\"scatter\",\"xaxis\":\"x2\",\"yaxis\":\"y2\"},{\"marker\":{\"color\":[2,2,2,2,2,2,2,2,2,2,2,2,2,2,2],\"colorbar\":{\"tickvals\":[3,1],\"title\":{\"text\":\"epochs\"}},\"colorscale\":[[0.0,\"#fec3fe\"],[0.08333333333333333,\"#febefe\"],[0.16666666666666666,\"#fea5fd\"],[0.25,\"#fe88fc\"],[0.3333333333333333,\"#fc67fd\"],[0.4166666666666667,\"#f246fe\"],[0.5,\"#dd2bfd\"],[0.5833333333333334,\"#bf1cfd\"],[0.6666666666666666,\"#981cfd\"],[0.75,\"#6b1cfb\"],[0.8333333333333334,\"#3c19f0\"],[0.9166666666666666,\"#1910d8\"],[1.0,\"#0508b8\"]],\"showscale\":true,\"size\":3},\"mode\":\"markers\",\"opacity\":0.8,\"x\":[4,4,4,4,4,4,4,4,4,4,4,4,4,4,4],\"y\":[0.5666080117225647,0.5482165217399597,0.5444399118423462,0.5343328714370728,0.5252724885940552,0.5155627727508545,0.5100893974304199,0.5047554969787598,0.4893122911453247,0.48761460185050964,0.4774032235145569,0.4728877544403076,0.45784568786621094,0.4577469229698181,null],\"type\":\"scatter\",\"xaxis\":\"x3\",\"yaxis\":\"y3\"},{\"marker\":{\"color\":\"red\",\"size\":7,\"symbol\":\"diamond-open\"},\"mode\":\"markers\",\"opacity\":0.6,\"x\":[4],\"y\":[0.5666080117225647],\"type\":\"scatter\",\"xaxis\":\"x3\",\"yaxis\":\"y3\"},{\"marker\":{\"color\":[2,2,2,2,2,2,2,2,2,2,2,2,2,2,2],\"colorbar\":{\"tickvals\":[3,1],\"title\":{\"text\":\"epochs\"}},\"colorscale\":[[0.0,\"#fec3fe\"],[0.08333333333333333,\"#febefe\"],[0.16666666666666666,\"#fea5fd\"],[0.25,\"#fe88fc\"],[0.3333333333333333,\"#fc67fd\"],[0.4166666666666667,\"#f246fe\"],[0.5,\"#dd2bfd\"],[0.5833333333333334,\"#bf1cfd\"],[0.6666666666666666,\"#981cfd\"],[0.75,\"#6b1cfb\"],[0.8333333333333334,\"#3c19f0\"],[0.9166666666666666,\"#1910d8\"],[1.0,\"#0508b8\"]],\"showscale\":true,\"size\":3},\"mode\":\"markers\",\"opacity\":0.8,\"x\":[256,128,256,256,256,256,256,256,128,128,256,64,128,64,64],\"y\":[0.5666080117225647,0.5482165217399597,0.5444399118423462,0.5343328714370728,0.5252724885940552,0.5155627727508545,0.5100893974304199,0.5047554969787598,0.4893122911453247,0.48761460185050964,0.4774032235145569,0.4728877544403076,0.45784568786621094,0.4577469229698181,null],\"type\":\"scatter\",\"xaxis\":\"x4\",\"yaxis\":\"y4\"},{\"marker\":{\"color\":\"red\",\"size\":7,\"symbol\":\"diamond-open\"},\"mode\":\"markers\",\"opacity\":0.6,\"x\":[256],\"y\":[0.5666080117225647],\"type\":\"scatter\",\"xaxis\":\"x4\",\"yaxis\":\"y4\"},{\"marker\":{\"color\":[2,2,2,2,2,2,2,2,2,2,2,2,2,2,2],\"colorbar\":{\"tickvals\":[3,1],\"title\":{\"text\":\"epochs\"}},\"colorscale\":[[0.0,\"#fec3fe\"],[0.08333333333333333,\"#febefe\"],[0.16666666666666666,\"#fea5fd\"],[0.25,\"#fe88fc\"],[0.3333333333333333,\"#fc67fd\"],[0.4166666666666667,\"#f246fe\"],[0.5,\"#dd2bfd\"],[0.5833333333333334,\"#bf1cfd\"],[0.6666666666666666,\"#981cfd\"],[0.75,\"#6b1cfb\"],[0.8333333333333334,\"#3c19f0\"],[0.9166666666666666,\"#1910d8\"],[1.0,\"#0508b8\"]],\"showscale\":true,\"size\":3},\"mode\":\"markers\",\"opacity\":0.8,\"x\":[1024,512,1024,1024,1024,2048,512,512,1024,2048,512,2048,2048,2048,1024],\"y\":[0.5666080117225647,0.5482165217399597,0.5444399118423462,0.5343328714370728,0.5252724885940552,0.5155627727508545,0.5100893974304199,0.5047554969787598,0.4893122911453247,0.48761460185050964,0.4774032235145569,0.4728877544403076,0.45784568786621094,0.4577469229698181,null],\"type\":\"scatter\",\"xaxis\":\"x5\",\"yaxis\":\"y5\"},{\"marker\":{\"color\":\"red\",\"size\":7,\"symbol\":\"diamond-open\"},\"mode\":\"markers\",\"opacity\":0.6,\"x\":[1024],\"y\":[0.5666080117225647],\"type\":\"scatter\",\"xaxis\":\"x5\",\"yaxis\":\"y5\"},{\"marker\":{\"color\":[2,2,2,2,2,2,2,2,2,2,2,2,2,2,2],\"colorbar\":{\"tickvals\":[3,1],\"title\":{\"text\":\"epochs\"}},\"colorscale\":[[0.0,\"#fec3fe\"],[0.08333333333333333,\"#febefe\"],[0.16666666666666666,\"#fea5fd\"],[0.25,\"#fe88fc\"],[0.3333333333333333,\"#fc67fd\"],[0.4166666666666667,\"#f246fe\"],[0.5,\"#dd2bfd\"],[0.5833333333333334,\"#bf1cfd\"],[0.6666666666666666,\"#981cfd\"],[0.75,\"#6b1cfb\"],[0.8333333333333334,\"#3c19f0\"],[0.9166666666666666,\"#1910d8\"],[1.0,\"#0508b8\"]],\"showscale\":true,\"size\":3},\"mode\":\"markers\",\"opacity\":0.8,\"x\":[4,4,4,4,4,4,4,4,4,4,4,4,4,4,4],\"y\":[0.5666080117225647,0.5482165217399597,0.5444399118423462,0.5343328714370728,0.5252724885940552,0.5155627727508545,0.5100893974304199,0.5047554969787598,0.4893122911453247,0.48761460185050964,0.4774032235145569,0.4728877544403076,0.45784568786621094,0.4577469229698181,null],\"type\":\"scatter\",\"xaxis\":\"x6\",\"yaxis\":\"y6\"},{\"marker\":{\"color\":\"red\",\"size\":7,\"symbol\":\"diamond-open\"},\"mode\":\"markers\",\"opacity\":0.6,\"x\":[4],\"y\":[0.5666080117225647],\"type\":\"scatter\",\"xaxis\":\"x6\",\"yaxis\":\"y6\"}],                        {\"template\":{\"data\":{\"histogram2dcontour\":[{\"type\":\"histogram2dcontour\",\"colorbar\":{\"outlinewidth\":0,\"ticks\":\"\"},\"colorscale\":[[0.0,\"#0d0887\"],[0.1111111111111111,\"#46039f\"],[0.2222222222222222,\"#7201a8\"],[0.3333333333333333,\"#9c179e\"],[0.4444444444444444,\"#bd3786\"],[0.5555555555555556,\"#d8576b\"],[0.6666666666666666,\"#ed7953\"],[0.7777777777777778,\"#fb9f3a\"],[0.8888888888888888,\"#fdca26\"],[1.0,\"#f0f921\"]]}],\"choropleth\":[{\"type\":\"choropleth\",\"colorbar\":{\"outlinewidth\":0,\"ticks\":\"\"}}],\"histogram2d\":[{\"type\":\"histogram2d\",\"colorbar\":{\"outlinewidth\":0,\"ticks\":\"\"},\"colorscale\":[[0.0,\"#0d0887\"],[0.1111111111111111,\"#46039f\"],[0.2222222222222222,\"#7201a8\"],[0.3333333333333333,\"#9c179e\"],[0.4444444444444444,\"#bd3786\"],[0.5555555555555556,\"#d8576b\"],[0.6666666666666666,\"#ed7953\"],[0.7777777777777778,\"#fb9f3a\"],[0.8888888888888888,\"#fdca26\"],[1.0,\"#f0f921\"]]}],\"heatmap\":[{\"type\":\"heatmap\",\"colorbar\":{\"outlinewidth\":0,\"ticks\":\"\"},\"colorscale\":[[0.0,\"#0d0887\"],[0.1111111111111111,\"#46039f\"],[0.2222222222222222,\"#7201a8\"],[0.3333333333333333,\"#9c179e\"],[0.4444444444444444,\"#bd3786\"],[0.5555555555555556,\"#d8576b\"],[0.6666666666666666,\"#ed7953\"],[0.7777777777777778,\"#fb9f3a\"],[0.8888888888888888,\"#fdca26\"],[1.0,\"#f0f921\"]]}],\"heatmapgl\":[{\"type\":\"heatmapgl\",\"colorbar\":{\"outlinewidth\":0,\"ticks\":\"\"},\"colorscale\":[[0.0,\"#0d0887\"],[0.1111111111111111,\"#46039f\"],[0.2222222222222222,\"#7201a8\"],[0.3333333333333333,\"#9c179e\"],[0.4444444444444444,\"#bd3786\"],[0.5555555555555556,\"#d8576b\"],[0.6666666666666666,\"#ed7953\"],[0.7777777777777778,\"#fb9f3a\"],[0.8888888888888888,\"#fdca26\"],[1.0,\"#f0f921\"]]}],\"contourcarpet\":[{\"type\":\"contourcarpet\",\"colorbar\":{\"outlinewidth\":0,\"ticks\":\"\"}}],\"contour\":[{\"type\":\"contour\",\"colorbar\":{\"outlinewidth\":0,\"ticks\":\"\"},\"colorscale\":[[0.0,\"#0d0887\"],[0.1111111111111111,\"#46039f\"],[0.2222222222222222,\"#7201a8\"],[0.3333333333333333,\"#9c179e\"],[0.4444444444444444,\"#bd3786\"],[0.5555555555555556,\"#d8576b\"],[0.6666666666666666,\"#ed7953\"],[0.7777777777777778,\"#fb9f3a\"],[0.8888888888888888,\"#fdca26\"],[1.0,\"#f0f921\"]]}],\"surface\":[{\"type\":\"surface\",\"colorbar\":{\"outlinewidth\":0,\"ticks\":\"\"},\"colorscale\":[[0.0,\"#0d0887\"],[0.1111111111111111,\"#46039f\"],[0.2222222222222222,\"#7201a8\"],[0.3333333333333333,\"#9c179e\"],[0.4444444444444444,\"#bd3786\"],[0.5555555555555556,\"#d8576b\"],[0.6666666666666666,\"#ed7953\"],[0.7777777777777778,\"#fb9f3a\"],[0.8888888888888888,\"#fdca26\"],[1.0,\"#f0f921\"]]}],\"mesh3d\":[{\"type\":\"mesh3d\",\"colorbar\":{\"outlinewidth\":0,\"ticks\":\"\"}}],\"scatter\":[{\"fillpattern\":{\"fillmode\":\"overlay\",\"size\":10,\"solidity\":0.2},\"type\":\"scatter\"}],\"parcoords\":[{\"type\":\"parcoords\",\"line\":{\"colorbar\":{\"outlinewidth\":0,\"ticks\":\"\"}}}],\"scatterpolargl\":[{\"type\":\"scatterpolargl\",\"marker\":{\"colorbar\":{\"outlinewidth\":0,\"ticks\":\"\"}}}],\"bar\":[{\"error_x\":{\"color\":\"#2a3f5f\"},\"error_y\":{\"color\":\"#2a3f5f\"},\"marker\":{\"line\":{\"color\":\"#E5ECF6\",\"width\":0.5},\"pattern\":{\"fillmode\":\"overlay\",\"size\":10,\"solidity\":0.2}},\"type\":\"bar\"}],\"scattergeo\":[{\"type\":\"scattergeo\",\"marker\":{\"colorbar\":{\"outlinewidth\":0,\"ticks\":\"\"}}}],\"scatterpolar\":[{\"type\":\"scatterpolar\",\"marker\":{\"colorbar\":{\"outlinewidth\":0,\"ticks\":\"\"}}}],\"histogram\":[{\"marker\":{\"pattern\":{\"fillmode\":\"overlay\",\"size\":10,\"solidity\":0.2}},\"type\":\"histogram\"}],\"scattergl\":[{\"type\":\"scattergl\",\"marker\":{\"colorbar\":{\"outlinewidth\":0,\"ticks\":\"\"}}}],\"scatter3d\":[{\"type\":\"scatter3d\",\"line\":{\"colorbar\":{\"outlinewidth\":0,\"ticks\":\"\"}},\"marker\":{\"colorbar\":{\"outlinewidth\":0,\"ticks\":\"\"}}}],\"scattermapbox\":[{\"type\":\"scattermapbox\",\"marker\":{\"colorbar\":{\"outlinewidth\":0,\"ticks\":\"\"}}}],\"scatterternary\":[{\"type\":\"scatterternary\",\"marker\":{\"colorbar\":{\"outlinewidth\":0,\"ticks\":\"\"}}}],\"scattercarpet\":[{\"type\":\"scattercarpet\",\"marker\":{\"colorbar\":{\"outlinewidth\":0,\"ticks\":\"\"}}}],\"carpet\":[{\"aaxis\":{\"endlinecolor\":\"#2a3f5f\",\"gridcolor\":\"white\",\"linecolor\":\"white\",\"minorgridcolor\":\"white\",\"startlinecolor\":\"#2a3f5f\"},\"baxis\":{\"endlinecolor\":\"#2a3f5f\",\"gridcolor\":\"white\",\"linecolor\":\"white\",\"minorgridcolor\":\"white\",\"startlinecolor\":\"#2a3f5f\"},\"type\":\"carpet\"}],\"table\":[{\"cells\":{\"fill\":{\"color\":\"#EBF0F8\"},\"line\":{\"color\":\"white\"}},\"header\":{\"fill\":{\"color\":\"#C8D4E3\"},\"line\":{\"color\":\"white\"}},\"type\":\"table\"}],\"barpolar\":[{\"marker\":{\"line\":{\"color\":\"#E5ECF6\",\"width\":0.5},\"pattern\":{\"fillmode\":\"overlay\",\"size\":10,\"solidity\":0.2}},\"type\":\"barpolar\"}],\"pie\":[{\"automargin\":true,\"type\":\"pie\"}]},\"layout\":{\"autotypenumbers\":\"strict\",\"colorway\":[\"#636efa\",\"#EF553B\",\"#00cc96\",\"#ab63fa\",\"#FFA15A\",\"#19d3f3\",\"#FF6692\",\"#B6E880\",\"#FF97FF\",\"#FECB52\"],\"font\":{\"color\":\"#2a3f5f\"},\"hovermode\":\"closest\",\"hoverlabel\":{\"align\":\"left\"},\"paper_bgcolor\":\"white\",\"plot_bgcolor\":\"#E5ECF6\",\"polar\":{\"bgcolor\":\"#E5ECF6\",\"angularaxis\":{\"gridcolor\":\"white\",\"linecolor\":\"white\",\"ticks\":\"\"},\"radialaxis\":{\"gridcolor\":\"white\",\"linecolor\":\"white\",\"ticks\":\"\"}},\"ternary\":{\"bgcolor\":\"#E5ECF6\",\"aaxis\":{\"gridcolor\":\"white\",\"linecolor\":\"white\",\"ticks\":\"\"},\"baxis\":{\"gridcolor\":\"white\",\"linecolor\":\"white\",\"ticks\":\"\"},\"caxis\":{\"gridcolor\":\"white\",\"linecolor\":\"white\",\"ticks\":\"\"}},\"coloraxis\":{\"colorbar\":{\"outlinewidth\":0,\"ticks\":\"\"}},\"colorscale\":{\"sequential\":[[0.0,\"#0d0887\"],[0.1111111111111111,\"#46039f\"],[0.2222222222222222,\"#7201a8\"],[0.3333333333333333,\"#9c179e\"],[0.4444444444444444,\"#bd3786\"],[0.5555555555555556,\"#d8576b\"],[0.6666666666666666,\"#ed7953\"],[0.7777777777777778,\"#fb9f3a\"],[0.8888888888888888,\"#fdca26\"],[1.0,\"#f0f921\"]],\"sequentialminus\":[[0.0,\"#0d0887\"],[0.1111111111111111,\"#46039f\"],[0.2222222222222222,\"#7201a8\"],[0.3333333333333333,\"#9c179e\"],[0.4444444444444444,\"#bd3786\"],[0.5555555555555556,\"#d8576b\"],[0.6666666666666666,\"#ed7953\"],[0.7777777777777778,\"#fb9f3a\"],[0.8888888888888888,\"#fdca26\"],[1.0,\"#f0f921\"]],\"diverging\":[[0,\"#8e0152\"],[0.1,\"#c51b7d\"],[0.2,\"#de77ae\"],[0.3,\"#f1b6da\"],[0.4,\"#fde0ef\"],[0.5,\"#f7f7f7\"],[0.6,\"#e6f5d0\"],[0.7,\"#b8e186\"],[0.8,\"#7fbc41\"],[0.9,\"#4d9221\"],[1,\"#276419\"]]},\"xaxis\":{\"gridcolor\":\"white\",\"linecolor\":\"white\",\"ticks\":\"\",\"title\":{\"standoff\":15},\"zerolinecolor\":\"white\",\"automargin\":true,\"zerolinewidth\":2},\"yaxis\":{\"gridcolor\":\"white\",\"linecolor\":\"white\",\"ticks\":\"\",\"title\":{\"standoff\":15},\"zerolinecolor\":\"white\",\"automargin\":true,\"zerolinewidth\":2},\"scene\":{\"xaxis\":{\"backgroundcolor\":\"#E5ECF6\",\"gridcolor\":\"white\",\"linecolor\":\"white\",\"showbackground\":true,\"ticks\":\"\",\"zerolinecolor\":\"white\",\"gridwidth\":2},\"yaxis\":{\"backgroundcolor\":\"#E5ECF6\",\"gridcolor\":\"white\",\"linecolor\":\"white\",\"showbackground\":true,\"ticks\":\"\",\"zerolinecolor\":\"white\",\"gridwidth\":2},\"zaxis\":{\"backgroundcolor\":\"#E5ECF6\",\"gridcolor\":\"white\",\"linecolor\":\"white\",\"showbackground\":true,\"ticks\":\"\",\"zerolinecolor\":\"white\",\"gridwidth\":2}},\"shapedefaults\":{\"line\":{\"color\":\"#2a3f5f\"}},\"annotationdefaults\":{\"arrowcolor\":\"#2a3f5f\",\"arrowhead\":0,\"arrowwidth\":1},\"geo\":{\"bgcolor\":\"white\",\"landcolor\":\"#E5ECF6\",\"subunitcolor\":\"white\",\"showland\":true,\"showlakes\":true,\"lakecolor\":\"white\"},\"title\":{\"x\":0.05},\"mapbox\":{\"style\":\"light\"}}},\"xaxis\":{\"anchor\":\"y\",\"domain\":[0.0,0.2888888888888889],\"tickformat\":\".1r\",\"tickangle\":-60,\"tickvals\":[64,128,32]},\"yaxis\":{\"anchor\":\"x\",\"domain\":[0.6499999999999999,0.9999999999999999],\"matches\":\"y4\",\"range\":[0.5,0.71],\"tickvals\":[0.6,0.7]},\"xaxis2\":{\"anchor\":\"y2\",\"domain\":[0.35555555555555557,0.6444444444444445],\"tickformat\":\".1r\",\"tickangle\":-60,\"tickvals\":[256,512,1024]},\"yaxis2\":{\"anchor\":\"x2\",\"domain\":[0.6499999999999999,0.9999999999999999],\"matches\":\"y4\",\"showticklabels\":false,\"range\":[0.5,0.71],\"tickvals\":[0.6,0.7]},\"xaxis3\":{\"anchor\":\"y3\",\"domain\":[0.7111111111111111,1.0],\"tickformat\":\".1r\",\"tickangle\":-60,\"tickvals\":[4]},\"yaxis3\":{\"anchor\":\"x3\",\"domain\":[0.6499999999999999,0.9999999999999999],\"matches\":\"y4\",\"showticklabels\":false,\"range\":[0.5,0.71],\"tickvals\":[0.6,0.7]},\"xaxis4\":{\"anchor\":\"y4\",\"domain\":[0.0,0.2888888888888889],\"tickformat\":\".1r\",\"tickangle\":-60,\"tickvals\":[256,128,64]},\"yaxis4\":{\"anchor\":\"x4\",\"domain\":[0.0,0.35],\"range\":[0.5,0.71],\"tickvals\":[0.6,0.7]},\"xaxis5\":{\"anchor\":\"y5\",\"domain\":[0.35555555555555557,0.6444444444444445],\"tickformat\":\".1r\",\"tickangle\":-60,\"tickvals\":[1024,512,2048]},\"yaxis5\":{\"anchor\":\"x5\",\"domain\":[0.0,0.35],\"matches\":\"y4\",\"showticklabels\":false,\"range\":[0.5,0.71],\"tickvals\":[0.6,0.7]},\"xaxis6\":{\"anchor\":\"y6\",\"domain\":[0.7111111111111111,1.0],\"tickformat\":\".1r\",\"tickangle\":-60,\"tickvals\":[4]},\"yaxis6\":{\"anchor\":\"x6\",\"domain\":[0.0,0.35],\"matches\":\"y4\",\"showticklabels\":false,\"range\":[0.5,0.71],\"tickvals\":[0.6,0.7]},\"annotations\":[{\"font\":{\"size\":16},\"showarrow\":false,\"text\":\"filter\\u003cbr\\u003esize\\u003cbr\\u003emin\",\"x\":0.14444444444444446,\"xanchor\":\"center\",\"xref\":\"paper\",\"y\":0.9999999999999999,\"yanchor\":\"bottom\",\"yref\":\"paper\"},{\"font\":{\"size\":16},\"showarrow\":false,\"text\":\"filter\\u003cbr\\u003esize\\u003cbr\\u003emax\",\"x\":0.5,\"xanchor\":\"center\",\"xref\":\"paper\",\"y\":0.9999999999999999,\"yanchor\":\"bottom\",\"yref\":\"paper\"},{\"font\":{\"size\":16},\"showarrow\":false,\"text\":\"convolutional\\u003cbr\\u003elayers\",\"x\":0.8555555555555556,\"xanchor\":\"center\",\"xref\":\"paper\",\"y\":0.9999999999999999,\"yanchor\":\"bottom\",\"yref\":\"paper\"},{\"font\":{\"size\":16},\"showarrow\":false,\"text\":\"units\\u003cbr\\u003emin\",\"x\":0.14444444444444446,\"xanchor\":\"center\",\"xref\":\"paper\",\"y\":0.35,\"yanchor\":\"bottom\",\"yref\":\"paper\"},{\"font\":{\"size\":16},\"showarrow\":false,\"text\":\"units\\u003cbr\\u003emax\",\"x\":0.5,\"xanchor\":\"center\",\"xref\":\"paper\",\"y\":0.35,\"yanchor\":\"bottom\",\"yref\":\"paper\"},{\"font\":{\"size\":16},\"showarrow\":false,\"text\":\"dense\\u003cbr\\u003elayers\",\"x\":0.8555555555555556,\"xanchor\":\"center\",\"xref\":\"paper\",\"y\":0.35,\"yanchor\":\"bottom\",\"yref\":\"paper\"},{\"font\":{\"size\":16},\"showarrow\":false,\"text\":\"score\",\"textangle\":-90,\"x\":0,\"xanchor\":\"right\",\"xref\":\"paper\",\"xshift\":-40,\"y\":0.5,\"yanchor\":\"middle\",\"yref\":\"paper\"}],\"margin\":{\"l\":80,\"r\":80,\"t\":100,\"b\":80},\"height\":500,\"width\":700,\"showlegend\":false},                        {\"responsive\": true}                    ).then(function(){\n",
       "                            \n",
       "var gd = document.getElementById('49f26f5c-cb01-43d1-b4b1-5a72dfbd17bf');\n",
       "var x = new MutationObserver(function (mutations, observer) {{\n",
       "        var display = window.getComputedStyle(gd).display;\n",
       "        if (!display || display === 'none') {{\n",
       "            console.log([gd, 'removed!']);\n",
       "            Plotly.purge(gd);\n",
       "            observer.disconnect();\n",
       "        }}\n",
       "}});\n",
       "\n",
       "// Listen for the removal of the full notebook cells\n",
       "var notebookContainer = gd.closest('#notebook-container');\n",
       "if (notebookContainer) {{\n",
       "    x.observe(notebookContainer, {childList: true});\n",
       "}}\n",
       "\n",
       "// Listen for the clearing of the current output cell\n",
       "var outputEl = gd.closest('.output');\n",
       "if (outputEl) {{\n",
       "    x.observe(outputEl, {childList: true});\n",
       "}}\n",
       "\n",
       "                        })                };                });            </script>        </div>"
      ]
     },
     "metadata": {},
     "output_type": "display_data"
    }
   ],
   "source": [
    "rows = []\n",
    "for trial in sorted(list(trials_dir.glob('trial_*'))):\n",
    "    with open(trial.joinpath('trial.json')) as f:\n",
    "        results = json.load(f)\n",
    "        row = {'score': results['score']} | results['hyperparameters']['values']\n",
    "        rows.append(row)\n",
    "\n",
    "trials_df = pd.DataFrame(rows).sort_values(by='score', ascending=False)\n",
    "trials_df = trials_df.rename({'tuner/epochs': 'epochs'}, axis=1)\n",
    "trials_df = trials_df[[c for c in trials_df.columns if 'tuner' not in c]]\n",
    "\n",
    "nrows, ncols = 2, 3\n",
    "fig = make_subplots(\n",
    "    rows=nrows, cols=ncols, shared_yaxes='all', y_title='score',\n",
    "    subplot_titles=trials_df.columns[1:].str.replace('_', '<br>'),\n",
    "    vertical_spacing=0.3,\n",
    ")\n",
    "\n",
    "for i, col in enumerate(trials_df.columns[1:].drop('epochs')):\n",
    "    if trials_df[col].dtype == object:\n",
    "        x = trials_df[col].str.replace('_', '<br>')\n",
    "    else:\n",
    "        x = trials_df[col]\n",
    "\n",
    "    position = dict(row=(i//ncols)+1, col=(i%ncols)+1)\n",
    "    fig.append_trace(go.Scatter(\n",
    "        y=trials_df['score'],\n",
    "        x=x,\n",
    "        mode='markers',\n",
    "        marker=dict(\n",
    "            color=trials_df['epochs'],\n",
    "            size=3,\n",
    "            showscale=True,\n",
    "            colorscale='Plotly3_r',\n",
    "            colorbar_title='epochs',\n",
    "            colorbar_tickvals=[trials_df['epochs'].min(), trials_df['epochs'].max()]\n",
    "        ),\n",
    "        opacity=0.8,\n",
    "    ), **position)\n",
    "    \n",
    "    fig.append_trace(go.Scatter(\n",
    "        y=[trials_df['score'].max()],\n",
    "        x=[x[trials_df['score'].idxmax()]],\n",
    "        mode='markers',\n",
    "        marker_symbol='diamond-open',\n",
    "        marker_color='red',\n",
    "        marker_size=7,\n",
    "        opacity=0.6,\n",
    "    ), **position)\n",
    "\n",
    "    fig.update_xaxes(\n",
    "        type='log' if 'learning_rate' in col else None,\n",
    "        tickformat='.1r',\n",
    "        tickangle=-60,\n",
    "        tickvals=x.unique(),\n",
    "        **position\n",
    "    )\n",
    "    fig.update_yaxes(range=[0.5, 0.71], tickvals=[0.6, 0.7])\n",
    "\n",
    "fig.update_layout(\n",
    "    height=500, width=700, showlegend=False,\n",
    "    margin=dict(l=80, r=80, t=100, b=80)\n",
    ")\n",
    "\n",
    "fig.write_image(figures_dir.joinpath(f'{trials_dir.name}_params.pdf'))\n",
    "fig.show()"
   ]
  },
  {
   "cell_type": "code",
   "execution_count": null,
   "id": "2a91fbb6-b3c3-4fbe-b45b-739254809064",
   "metadata": {},
   "outputs": [],
   "source": [
    "model_dir = Path('models', 'hypertuned-237212-7-64-2017_2018_2019')\n",
    "model = tf.keras.models.load_model(model_dir.joinpath('model.keras'))"
   ]
  },
  {
   "cell_type": "code",
   "execution_count": null,
   "id": "5af880c7-f0b2-4ef0-96ee-15b485476b09",
   "metadata": {},
   "outputs": [],
   "source": [
    "model.summary()"
   ]
  },
  {
   "cell_type": "code",
   "execution_count": null,
   "id": "6e9e484b-571a-4ebf-b946-192c46a05fa5",
   "metadata": {},
   "outputs": [],
   "source": [
    "# Adapted from https://github.com/paulgavrikov/visualkeras\n",
    "def text_callable(layer_index, layer):\n",
    "    # Every other piece of text is drawn above the layer, the first one below\n",
    "    above = bool(layer_index%2)\n",
    "\n",
    "    # Get the output shape of the layer\n",
    "    output_shape = [x for x in list(layer.output.shape) if x is not None]\n",
    "\n",
    "    # If the output shape is a list of tuples, we only take the first one\n",
    "    if isinstance(output_shape[0], tuple):\n",
    "        output_shape = list(output_shape[0])\n",
    "        output_shape = [x for x in output_shape if x is not None]\n",
    "\n",
    "    # Variable to store text which will be drawn    \n",
    "    output_shape_txt = ''\n",
    "\n",
    "    # Create a string representation of the output shape\n",
    "    for ii in range(len(output_shape)):\n",
    "        output_shape_txt += str(output_shape[ii])\n",
    "        if ii < len(output_shape) - 2: # Add an x between dimensions, e.g. 3x3\n",
    "            output_shape_txt += 'x'\n",
    "        if ii == len(output_shape) - 2: # Add a newline between the last two dimensions, e.g. 3x3 \\n 64\n",
    "            output_shape_txt += '\\n'\n",
    "\n",
    "    # Add the name of the layer to the text, as a new line\n",
    "    layer_name = '\\n'.join(layer.name.split('_')[:2])\n",
    "    output_shape_txt += f'\\n{layer_name}'\n",
    "\n",
    "    # Return the text value and if it should be drawn above the layer\n",
    "    return output_shape_txt, above\n",
    "\n",
    "font = ImageFont.truetype(\n",
    "    '/usr/share/fonts/opentype/freefont/FreeSerifBold.otf',\n",
    "    22, \n",
    "    encoding='unic'\n",
    ")\n",
    "inputs_image = visualkeras.layered_view(\n",
    "    model,\n",
    "    font=font,\n",
    "    padding=70,\n",
    "    index_ignore=range(6, 50),\n",
    "    scale_xy=0.5, \n",
    "    spacing=50,\n",
    "    text_callable=text_callable,\n",
    ")\n",
    "\n",
    "conv_image = visualkeras.layered_view(\n",
    "    model,\n",
    "    font=font,\n",
    "    padding=30,\n",
    "    index_ignore=list(range(6)) + list(range(31, 50)),\n",
    "    scale_xy=12, \n",
    "    spacing=40,\n",
    "    text_callable=text_callable,\n",
    ")\n",
    "\n",
    "dense_image = visualkeras.layered_view(\n",
    "    model,\n",
    "    font=font,\n",
    "    padding=40,\n",
    "    index_ignore=range(31),\n",
    "    scale_xy=5,\n",
    "    spacing=30,\n",
    "    text_callable=text_callable,\n",
    ")\n",
    "\n",
    "conv_image.paste(dense_image, (\n",
    "    conv_image.size[0] - dense_image.size[0] - 50,\n",
    "    conv_image.size[1] - dense_image.size[1]\n",
    "))\n",
    "conv_image.paste(inputs_image, (\n",
    "    conv_image.size[0] - inputs_image.size[0] - 50, \n",
    "    0\n",
    "))\n",
    "conv_image.save(figures_dir.joinpath('model_layered_view.png'))\n",
    "conv_image"
   ]
  },
  {
   "cell_type": "code",
   "execution_count": null,
   "id": "26c9a82d-ed98-4153-8906-6635cbef92b5",
   "metadata": {},
   "outputs": [],
   "source": []
  },
  {
   "cell_type": "code",
   "execution_count": null,
   "id": "ec033511-4e5b-4abc-a842-c3956f61f002",
   "metadata": {},
   "outputs": [],
   "source": []
  },
  {
   "cell_type": "code",
   "execution_count": null,
   "id": "28951bf1-b6f9-4cff-a551-5ddf0dbee19d",
   "metadata": {},
   "outputs": [],
   "source": [
    "# from matplotlib.font_manager import findSystemFonts\n",
    "# system_fonts = findSystemFonts(fontpaths=None, fontext='ttf')\n",
    "# [print(f) for f in system_fonts if 'serif' in f.lower()]"
   ]
  },
  {
   "cell_type": "code",
   "execution_count": null,
   "id": "26b5552b-bc68-4d42-b951-5fdc2111af12",
   "metadata": {},
   "outputs": [],
   "source": []
  }
 ],
 "metadata": {
  "kernelspec": {
   "display_name": "Python 3 (ipykernel)",
   "language": "python",
   "name": "python3"
  },
  "language_info": {
   "codemirror_mode": {
    "name": "ipython",
    "version": 3
   },
   "file_extension": ".py",
   "mimetype": "text/x-python",
   "name": "python",
   "nbconvert_exporter": "python",
   "pygments_lexer": "ipython3",
   "version": "3.10.14"
  }
 },
 "nbformat": 4,
 "nbformat_minor": 5
}
